{
 "cells": [
  {
   "cell_type": "markdown",
   "source": [
    "# Libraries"
   ],
   "metadata": {
    "collapsed": false
   },
   "id": "2714e0ed"
  },
  {
   "cell_type": "code",
   "execution_count": 1,
   "outputs": [],
   "source": [
    "import shutup\n",
    "import pandas as pd\n",
    "import numpy as np\n",
    "import os as os\n",
    "import matplotlib.pyplot as plt\n",
    "import re\n",
    "from IPython.display import display\n",
    "import datetime as dt"
   ],
   "metadata": {
    "collapsed": false,
    "ExecuteTime": {
     "end_time": "2023-12-29T09:47:29.386482Z",
     "start_time": "2023-12-29T09:47:28.280865400Z"
    }
   },
   "id": "e051ae22ea092cdd"
  },
  {
   "cell_type": "markdown",
   "source": [
    "# Load train data\n",
    "\n",
    "- iterate through train data folder \n",
    "- feature engineer the **country** and **league** from parent folder name\n",
    "- join the loaded csv files by rows\n",
    "- removed quotation marks that would in some rows merge two columns into one"
   ],
   "metadata": {
    "collapsed": false
   },
   "id": "2ae94145eddab5e6"
  },
  {
   "cell_type": "code",
   "execution_count": 2,
   "outputs": [],
   "source": [
    "def replace_last(string, old, new):\n",
    "    return new.join(string.rsplit(old, 1))\n",
    "\n",
    "def delete_quotation_marks(path):\n",
    "    with open(path, \"r\") as f:\n",
    "        raw_file = f.readlines()\n",
    "        count=0\n",
    "        for i in range(len(raw_file)):\n",
    "            match = re.search(\"\\\"(\\+|-)?\\d+\\.?\\d*,(\\+|-)?\\d+\\.?\\d*\\\"\", raw_file[i])\n",
    "            if match:\n",
    "                count+=1\n",
    "                raw_file[i] = raw_file[i].replace(\"\\\"\",\"\")\n",
    "                raw_file[i] = replace_last(raw_file[i], \",\",\"\\n\")\n",
    "    with open(path, \"w\") as f:\n",
    "        f.writelines(raw_file)"
   ],
   "metadata": {
    "collapsed": false,
    "ExecuteTime": {
     "end_time": "2023-12-29T09:47:29.401496400Z",
     "start_time": "2023-12-29T09:47:29.388484800Z"
    }
   },
   "id": "cabc0efb30639685"
  },
  {
   "cell_type": "code",
   "execution_count": 3,
   "outputs": [
    {
     "data": {
      "text/plain": "  Div      Date   HomeTeam     AwayTeam  FTHG  FTAG FTR  HTHG  HTAG HTR  ...  \\\n0  B1  20/05/01   Mechelen       Lierse   1.0   1.0   D   1.0   1.0   D  ...   \n1  B1  17/09/00   Germinal  Club Brugge   2.0   3.0   A   0.0   1.0   A  ...   \n2  B1  14/10/00    Beveren     Standard   0.0   3.0   A   0.0   2.0   A  ...   \n3  B1  06/09/00    Lokeren     Mechelen   3.0   2.0   H   0.0   2.0   A  ...   \n4  B1  27/08/00  Charleroi      Antwerp   1.0   0.0   H   1.0   0.0   H  ...   \n\n   LBAHA  LBAH  LB  LB.1  LB.2   HT   AT  Unnamed: 32  Unnamed: 33  \\\n0    NaN   NaN NaN   NaN   NaN  NaN  NaN          NaN          NaN   \n1    NaN   NaN NaN   NaN   NaN  NaN  NaN          NaN          NaN   \n2    NaN   NaN NaN   NaN   NaN  NaN  NaN          NaN          NaN   \n3    NaN   NaN NaN   NaN   NaN  NaN  NaN          NaN          NaN   \n4    NaN   NaN NaN   NaN   NaN  NaN  NaN          NaN          NaN   \n\n   Unnamed: 34  \n0          NaN  \n1          NaN  \n2          NaN  \n3          NaN  \n4          NaN  \n\n[5 rows x 174 columns]",
      "text/html": "<div>\n<style scoped>\n    .dataframe tbody tr th:only-of-type {\n        vertical-align: middle;\n    }\n\n    .dataframe tbody tr th {\n        vertical-align: top;\n    }\n\n    .dataframe thead th {\n        text-align: right;\n    }\n</style>\n<table border=\"1\" class=\"dataframe\">\n  <thead>\n    <tr style=\"text-align: right;\">\n      <th></th>\n      <th>Div</th>\n      <th>Date</th>\n      <th>HomeTeam</th>\n      <th>AwayTeam</th>\n      <th>FTHG</th>\n      <th>FTAG</th>\n      <th>FTR</th>\n      <th>HTHG</th>\n      <th>HTAG</th>\n      <th>HTR</th>\n      <th>...</th>\n      <th>LBAHA</th>\n      <th>LBAH</th>\n      <th>LB</th>\n      <th>LB.1</th>\n      <th>LB.2</th>\n      <th>HT</th>\n      <th>AT</th>\n      <th>Unnamed: 32</th>\n      <th>Unnamed: 33</th>\n      <th>Unnamed: 34</th>\n    </tr>\n  </thead>\n  <tbody>\n    <tr>\n      <th>0</th>\n      <td>B1</td>\n      <td>20/05/01</td>\n      <td>Mechelen</td>\n      <td>Lierse</td>\n      <td>1.0</td>\n      <td>1.0</td>\n      <td>D</td>\n      <td>1.0</td>\n      <td>1.0</td>\n      <td>D</td>\n      <td>...</td>\n      <td>NaN</td>\n      <td>NaN</td>\n      <td>NaN</td>\n      <td>NaN</td>\n      <td>NaN</td>\n      <td>NaN</td>\n      <td>NaN</td>\n      <td>NaN</td>\n      <td>NaN</td>\n      <td>NaN</td>\n    </tr>\n    <tr>\n      <th>1</th>\n      <td>B1</td>\n      <td>17/09/00</td>\n      <td>Germinal</td>\n      <td>Club Brugge</td>\n      <td>2.0</td>\n      <td>3.0</td>\n      <td>A</td>\n      <td>0.0</td>\n      <td>1.0</td>\n      <td>A</td>\n      <td>...</td>\n      <td>NaN</td>\n      <td>NaN</td>\n      <td>NaN</td>\n      <td>NaN</td>\n      <td>NaN</td>\n      <td>NaN</td>\n      <td>NaN</td>\n      <td>NaN</td>\n      <td>NaN</td>\n      <td>NaN</td>\n    </tr>\n    <tr>\n      <th>2</th>\n      <td>B1</td>\n      <td>14/10/00</td>\n      <td>Beveren</td>\n      <td>Standard</td>\n      <td>0.0</td>\n      <td>3.0</td>\n      <td>A</td>\n      <td>0.0</td>\n      <td>2.0</td>\n      <td>A</td>\n      <td>...</td>\n      <td>NaN</td>\n      <td>NaN</td>\n      <td>NaN</td>\n      <td>NaN</td>\n      <td>NaN</td>\n      <td>NaN</td>\n      <td>NaN</td>\n      <td>NaN</td>\n      <td>NaN</td>\n      <td>NaN</td>\n    </tr>\n    <tr>\n      <th>3</th>\n      <td>B1</td>\n      <td>06/09/00</td>\n      <td>Lokeren</td>\n      <td>Mechelen</td>\n      <td>3.0</td>\n      <td>2.0</td>\n      <td>H</td>\n      <td>0.0</td>\n      <td>2.0</td>\n      <td>A</td>\n      <td>...</td>\n      <td>NaN</td>\n      <td>NaN</td>\n      <td>NaN</td>\n      <td>NaN</td>\n      <td>NaN</td>\n      <td>NaN</td>\n      <td>NaN</td>\n      <td>NaN</td>\n      <td>NaN</td>\n      <td>NaN</td>\n    </tr>\n    <tr>\n      <th>4</th>\n      <td>B1</td>\n      <td>27/08/00</td>\n      <td>Charleroi</td>\n      <td>Antwerp</td>\n      <td>1.0</td>\n      <td>0.0</td>\n      <td>H</td>\n      <td>1.0</td>\n      <td>0.0</td>\n      <td>H</td>\n      <td>...</td>\n      <td>NaN</td>\n      <td>NaN</td>\n      <td>NaN</td>\n      <td>NaN</td>\n      <td>NaN</td>\n      <td>NaN</td>\n      <td>NaN</td>\n      <td>NaN</td>\n      <td>NaN</td>\n      <td>NaN</td>\n    </tr>\n  </tbody>\n</table>\n<p>5 rows × 174 columns</p>\n</div>"
     },
     "execution_count": 3,
     "metadata": {},
     "output_type": "execute_result"
    }
   ],
   "source": [
    "df = pd.DataFrame()\n",
    "for root, directory, files in os.walk(\"data/train\", topdown=False):\n",
    "    if files:\n",
    "        for file in files:\n",
    "            tmp = pd.read_csv(f\"{root}/{file}\")\n",
    "            # Remove empty rows and columns\n",
    "            tmp = tmp.dropna(how='all', axis=0)\n",
    "            tmp = tmp.dropna(how='all', axis=1)\n",
    "            # Derive additional columns\n",
    "            tmp[\"league\"] = int(root.split(\"\\\\\")[2])\n",
    "            tmp[\"country\"] = root.split(\"\\\\\")[1]\n",
    "            tmp[\"season\"] = int(file[:2]) # no. of season - 00/01 - 0th season, 21/22 - 21st season\n",
    "            df = pd.concat([df, tmp], axis = 0)\n",
    "            \n",
    "df.to_csv(\"combined.csv\")\n",
    "df.head()"
   ],
   "metadata": {
    "collapsed": false,
    "ExecuteTime": {
     "end_time": "2023-12-29T09:47:58.079832200Z",
     "start_time": "2023-12-29T09:47:29.400495900Z"
    }
   },
   "id": "38d7588280b5dd96"
  },
  {
   "cell_type": "code",
   "execution_count": 4,
   "outputs": [],
   "source": [
    "delete_quotation_marks(\"combined.csv\")"
   ],
   "metadata": {
    "collapsed": false,
    "ExecuteTime": {
     "end_time": "2023-12-29T09:47:58.818518800Z",
     "start_time": "2023-12-29T09:47:58.079832200Z"
    }
   },
   "id": "3bdecf73024ac859"
  },
  {
   "cell_type": "code",
   "execution_count": 5,
   "outputs": [
    {
     "data": {
      "text/plain": "   Unnamed: 0 Div      Date   HomeTeam     AwayTeam  FTHG  FTAG FTR  HTHG  \\\n0           0  B1  20/05/01   Mechelen       Lierse   1.0   1.0   D   1.0   \n1           1  B1  17/09/00   Germinal  Club Brugge   2.0   3.0   A   0.0   \n2           2  B1  14/10/00    Beveren     Standard   0.0   3.0   A   0.0   \n3           3  B1  06/09/00    Lokeren     Mechelen   3.0   2.0   H   0.0   \n4           4  B1  27/08/00  Charleroi      Antwerp   1.0   0.0   H   1.0   \n\n   HTAG  ... LBAHA  LBAH  LB  LB.1  LB.2   HT   AT  Unnamed: 32  Unnamed: 33  \\\n0   1.0  ...   NaN   NaN NaN   NaN   NaN  NaN  NaN          NaN          NaN   \n1   1.0  ...   NaN   NaN NaN   NaN   NaN  NaN  NaN          NaN          NaN   \n2   2.0  ...   NaN   NaN NaN   NaN   NaN  NaN  NaN          NaN          NaN   \n3   2.0  ...   NaN   NaN NaN   NaN   NaN  NaN  NaN          NaN          NaN   \n4   0.0  ...   NaN   NaN NaN   NaN   NaN  NaN  NaN          NaN          NaN   \n\n   Unnamed: 34  \n0          NaN  \n1          NaN  \n2          NaN  \n3          NaN  \n4          NaN  \n\n[5 rows x 175 columns]",
      "text/html": "<div>\n<style scoped>\n    .dataframe tbody tr th:only-of-type {\n        vertical-align: middle;\n    }\n\n    .dataframe tbody tr th {\n        vertical-align: top;\n    }\n\n    .dataframe thead th {\n        text-align: right;\n    }\n</style>\n<table border=\"1\" class=\"dataframe\">\n  <thead>\n    <tr style=\"text-align: right;\">\n      <th></th>\n      <th>Unnamed: 0</th>\n      <th>Div</th>\n      <th>Date</th>\n      <th>HomeTeam</th>\n      <th>AwayTeam</th>\n      <th>FTHG</th>\n      <th>FTAG</th>\n      <th>FTR</th>\n      <th>HTHG</th>\n      <th>HTAG</th>\n      <th>...</th>\n      <th>LBAHA</th>\n      <th>LBAH</th>\n      <th>LB</th>\n      <th>LB.1</th>\n      <th>LB.2</th>\n      <th>HT</th>\n      <th>AT</th>\n      <th>Unnamed: 32</th>\n      <th>Unnamed: 33</th>\n      <th>Unnamed: 34</th>\n    </tr>\n  </thead>\n  <tbody>\n    <tr>\n      <th>0</th>\n      <td>0</td>\n      <td>B1</td>\n      <td>20/05/01</td>\n      <td>Mechelen</td>\n      <td>Lierse</td>\n      <td>1.0</td>\n      <td>1.0</td>\n      <td>D</td>\n      <td>1.0</td>\n      <td>1.0</td>\n      <td>...</td>\n      <td>NaN</td>\n      <td>NaN</td>\n      <td>NaN</td>\n      <td>NaN</td>\n      <td>NaN</td>\n      <td>NaN</td>\n      <td>NaN</td>\n      <td>NaN</td>\n      <td>NaN</td>\n      <td>NaN</td>\n    </tr>\n    <tr>\n      <th>1</th>\n      <td>1</td>\n      <td>B1</td>\n      <td>17/09/00</td>\n      <td>Germinal</td>\n      <td>Club Brugge</td>\n      <td>2.0</td>\n      <td>3.0</td>\n      <td>A</td>\n      <td>0.0</td>\n      <td>1.0</td>\n      <td>...</td>\n      <td>NaN</td>\n      <td>NaN</td>\n      <td>NaN</td>\n      <td>NaN</td>\n      <td>NaN</td>\n      <td>NaN</td>\n      <td>NaN</td>\n      <td>NaN</td>\n      <td>NaN</td>\n      <td>NaN</td>\n    </tr>\n    <tr>\n      <th>2</th>\n      <td>2</td>\n      <td>B1</td>\n      <td>14/10/00</td>\n      <td>Beveren</td>\n      <td>Standard</td>\n      <td>0.0</td>\n      <td>3.0</td>\n      <td>A</td>\n      <td>0.0</td>\n      <td>2.0</td>\n      <td>...</td>\n      <td>NaN</td>\n      <td>NaN</td>\n      <td>NaN</td>\n      <td>NaN</td>\n      <td>NaN</td>\n      <td>NaN</td>\n      <td>NaN</td>\n      <td>NaN</td>\n      <td>NaN</td>\n      <td>NaN</td>\n    </tr>\n    <tr>\n      <th>3</th>\n      <td>3</td>\n      <td>B1</td>\n      <td>06/09/00</td>\n      <td>Lokeren</td>\n      <td>Mechelen</td>\n      <td>3.0</td>\n      <td>2.0</td>\n      <td>H</td>\n      <td>0.0</td>\n      <td>2.0</td>\n      <td>...</td>\n      <td>NaN</td>\n      <td>NaN</td>\n      <td>NaN</td>\n      <td>NaN</td>\n      <td>NaN</td>\n      <td>NaN</td>\n      <td>NaN</td>\n      <td>NaN</td>\n      <td>NaN</td>\n      <td>NaN</td>\n    </tr>\n    <tr>\n      <th>4</th>\n      <td>4</td>\n      <td>B1</td>\n      <td>27/08/00</td>\n      <td>Charleroi</td>\n      <td>Antwerp</td>\n      <td>1.0</td>\n      <td>0.0</td>\n      <td>H</td>\n      <td>1.0</td>\n      <td>0.0</td>\n      <td>...</td>\n      <td>NaN</td>\n      <td>NaN</td>\n      <td>NaN</td>\n      <td>NaN</td>\n      <td>NaN</td>\n      <td>NaN</td>\n      <td>NaN</td>\n      <td>NaN</td>\n      <td>NaN</td>\n      <td>NaN</td>\n    </tr>\n  </tbody>\n</table>\n<p>5 rows × 175 columns</p>\n</div>"
     },
     "execution_count": 5,
     "metadata": {},
     "output_type": "execute_result"
    }
   ],
   "source": [
    "shutup.please()\n",
    "df = pd.read_csv(\"combined.csv\")\n",
    "df.head()"
   ],
   "metadata": {
    "collapsed": false,
    "ExecuteTime": {
     "end_time": "2023-12-29T09:47:59.782467900Z",
     "start_time": "2023-12-29T09:47:58.819520400Z"
    }
   },
   "id": "13b6c7342ccd09f5"
  },
  {
   "cell_type": "code",
   "execution_count": 6,
   "outputs": [
    {
     "data": {
      "text/plain": "count    98818.000000\nmean        -0.305852\nstd          1.284157\nmin       -275.000000\n25%         -0.500000\n50%         -0.250000\n75%          0.000000\nmax         12.500000\nName: BbAHh, dtype: float64"
     },
     "execution_count": 6,
     "metadata": {},
     "output_type": "execute_result"
    }
   ],
   "source": [
    "df[\"BbAHh\"].describe()"
   ],
   "metadata": {
    "collapsed": false,
    "ExecuteTime": {
     "end_time": "2023-12-29T09:47:59.809491800Z",
     "start_time": "2023-12-29T09:47:59.782467900Z"
    }
   },
   "id": "bb5dd82ec7eb4c08"
  },
  {
   "cell_type": "markdown",
   "source": [
    "# Data validation\n",
    "\n",
    "In some cases, the data is wrong. This section correct the loaded data."
   ],
   "metadata": {
    "collapsed": false
   },
   "id": "4ba4606dc9c7a36f"
  },
  {
   "cell_type": "markdown",
   "source": [
    "## Same name for different things\n",
    "\n",
    "In some cases, columns are named differently. We will standardize to use column names that are in *'notes.txt'*\n"
   ],
   "metadata": {
    "collapsed": false
   },
   "id": "13b8d39a27682c20"
  },
  {
   "cell_type": "code",
   "execution_count": 7,
   "outputs": [
    {
     "name": "stdout",
     "output_type": "stream",
     "text": [
      "Cases for HT: data/train\\greece\\1, 0001.csv\n",
      "Cases for AT: data/train\\greece\\1, 0001.csv\n",
      "Cases for HT: data/train\\greece\\1, 0102.csv\n",
      "Cases for AT: data/train\\greece\\1, 0102.csv\n",
      "Cases for HT: data/train\\greece\\1, 0203.csv\n",
      "Cases for AT: data/train\\greece\\1, 0203.csv\n",
      "Cases for HT: data/train\\greece\\1, 0304.csv\n",
      "Cases for AT: data/train\\greece\\1, 0304.csv\n",
      "Cases for HT: data/train\\greece\\1, 0405.csv\n",
      "Cases for AT: data/train\\greece\\1, 0405.csv\n"
     ]
    }
   ],
   "source": [
    "for root, directory, files in os.walk(\"data/train\", topdown=False):\n",
    "    if files:\n",
    "        for file in files:\n",
    "            tmp = pd.read_csv(f\"{root}/{file}\")\n",
    "            if \"HT\" in tmp.columns:\n",
    "                print(f\"Cases for HT: {root}, {file}\")\n",
    "            if \"AT\" in tmp.columns:\n",
    "                print(f\"Cases for AT: {root}, {file}\")"
   ],
   "metadata": {
    "collapsed": false,
    "ExecuteTime": {
     "end_time": "2023-12-29T09:48:00.979428900Z",
     "start_time": "2023-12-29T09:47:59.799484100Z"
    }
   },
   "id": "b38a427d869d5318"
  },
  {
   "cell_type": "markdown",
   "source": [
    "The only affected data are in Greece."
   ],
   "metadata": {
    "collapsed": false
   },
   "id": "910562b947564879"
  },
  {
   "cell_type": "code",
   "execution_count": 8,
   "outputs": [],
   "source": [
    "df[\"HomeTeam\"] = df[\"HomeTeam\"].mask(df[\"HT\"].notnull(), df[\"HT\"])\n",
    "df[\"AwayTeam\"] = df[\"AwayTeam\"].mask(df[\"AT\"].notnull(), df[\"AT\"])\n",
    "df = df.drop(columns = [\"HT\", \"AT\"])"
   ],
   "metadata": {
    "collapsed": false,
    "ExecuteTime": {
     "end_time": "2023-12-29T09:48:01.040631200Z",
     "start_time": "2023-12-29T09:48:00.979933900Z"
    }
   },
   "id": "a6ec392c63fe6c76"
  },
  {
   "cell_type": "code",
   "execution_count": 9,
   "outputs": [],
   "source": [
    "df.drop(df[df[\"HomeTeam\"] == df[\"AwayTeam\"]].index, inplace=True) # remove cases where teams play themselves"
   ],
   "metadata": {
    "collapsed": false,
    "ExecuteTime": {
     "end_time": "2023-12-29T09:48:01.127703800Z",
     "start_time": "2023-12-29T09:48:01.041815800Z"
    }
   },
   "id": "9d2d1dcb19e3ce38"
  },
  {
   "cell_type": "code",
   "execution_count": 10,
   "outputs": [],
   "source": [
    "df[\"Date\"] = pd.to_datetime(df[\"Date\"], format = 'mixed', dayfirst=True)"
   ],
   "metadata": {
    "collapsed": false,
    "ExecuteTime": {
     "end_time": "2023-12-29T09:48:01.274712200Z",
     "start_time": "2023-12-29T09:48:01.120475400Z"
    }
   },
   "id": "55f66d0e63b7982a"
  },
  {
   "cell_type": "markdown",
   "source": [
    "## Not imputable data\n",
    "\n",
    "In some cases, missing data cause the data to be unusable and can't be computed. This applies to variables\n",
    "\n",
    "- HomeTeam\n",
    "- AwayTeam"
   ],
   "metadata": {
    "collapsed": false
   },
   "id": "c551a44639ce963a"
  },
  {
   "cell_type": "code",
   "execution_count": 11,
   "outputs": [],
   "source": [
    "crucial_cols = ['Date', 'HomeTeam', 'AwayTeam']\n",
    "df = df.dropna(subset = crucial_cols)"
   ],
   "metadata": {
    "collapsed": false,
    "ExecuteTime": {
     "end_time": "2023-12-29T09:48:01.337904500Z",
     "start_time": "2023-12-29T09:48:01.275713100Z"
    }
   },
   "id": "79a6dc9ad52b014a"
  },
  {
   "cell_type": "code",
   "execution_count": 12,
   "outputs": [
    {
     "data": {
      "text/plain": "              HFKC         AFKC\ncount  1305.000000  1305.000000\nmean     16.627586    17.283525\nstd       4.386871     4.735901\nmin       2.000000     2.000000\n25%      14.000000    14.000000\n50%      16.000000    17.000000\n75%      20.000000    20.000000\nmax      32.000000    34.000000",
      "text/html": "<div>\n<style scoped>\n    .dataframe tbody tr th:only-of-type {\n        vertical-align: middle;\n    }\n\n    .dataframe tbody tr th {\n        vertical-align: top;\n    }\n\n    .dataframe thead th {\n        text-align: right;\n    }\n</style>\n<table border=\"1\" class=\"dataframe\">\n  <thead>\n    <tr style=\"text-align: right;\">\n      <th></th>\n      <th>HFKC</th>\n      <th>AFKC</th>\n    </tr>\n  </thead>\n  <tbody>\n    <tr>\n      <th>count</th>\n      <td>1305.000000</td>\n      <td>1305.000000</td>\n    </tr>\n    <tr>\n      <th>mean</th>\n      <td>16.627586</td>\n      <td>17.283525</td>\n    </tr>\n    <tr>\n      <th>std</th>\n      <td>4.386871</td>\n      <td>4.735901</td>\n    </tr>\n    <tr>\n      <th>min</th>\n      <td>2.000000</td>\n      <td>2.000000</td>\n    </tr>\n    <tr>\n      <th>25%</th>\n      <td>14.000000</td>\n      <td>14.000000</td>\n    </tr>\n    <tr>\n      <th>50%</th>\n      <td>16.000000</td>\n      <td>17.000000</td>\n    </tr>\n    <tr>\n      <th>75%</th>\n      <td>20.000000</td>\n      <td>20.000000</td>\n    </tr>\n    <tr>\n      <th>max</th>\n      <td>32.000000</td>\n      <td>34.000000</td>\n    </tr>\n  </tbody>\n</table>\n</div>"
     },
     "execution_count": 12,
     "metadata": {},
     "output_type": "execute_result"
    }
   ],
   "source": [
    "df[[\"HFKC\", \"AFKC\"]].describe()"
   ],
   "metadata": {
    "collapsed": false,
    "ExecuteTime": {
     "end_time": "2023-12-29T09:48:01.383588500Z",
     "start_time": "2023-12-29T09:48:01.340417300Z"
    }
   },
   "id": "8f63ed5248520abe"
  },
  {
   "cell_type": "markdown",
   "source": [
    "## Goal validation\n",
    "\n",
    "Some goals are incorrect and they need to be fixed.\n",
    "\n"
   ],
   "metadata": {
    "collapsed": false
   },
   "id": "f4acf7b9deb3b17e"
  },
  {
   "cell_type": "code",
   "execution_count": 13,
   "outputs": [
    {
     "data": {
      "text/plain": "                FTHG           FTAG           HTHG           HTAG\ncount  154495.000000  154473.000000  154445.000000  154454.000000\nmean        2.217761       1.131447       0.655308       0.494315\nstd        21.887856       1.108842       0.809085       0.708314\nmin         0.000000      -1.000000       0.000000       0.000000\n25%         1.000000       0.000000       0.000000       0.000000\n50%         1.000000       1.000000       0.000000       0.000000\n75%         2.000000       2.000000       1.000000       1.000000\nmax       998.000000      13.000000       7.000000       6.000000",
      "text/html": "<div>\n<style scoped>\n    .dataframe tbody tr th:only-of-type {\n        vertical-align: middle;\n    }\n\n    .dataframe tbody tr th {\n        vertical-align: top;\n    }\n\n    .dataframe thead th {\n        text-align: right;\n    }\n</style>\n<table border=\"1\" class=\"dataframe\">\n  <thead>\n    <tr style=\"text-align: right;\">\n      <th></th>\n      <th>FTHG</th>\n      <th>FTAG</th>\n      <th>HTHG</th>\n      <th>HTAG</th>\n    </tr>\n  </thead>\n  <tbody>\n    <tr>\n      <th>count</th>\n      <td>154495.000000</td>\n      <td>154473.000000</td>\n      <td>154445.000000</td>\n      <td>154454.000000</td>\n    </tr>\n    <tr>\n      <th>mean</th>\n      <td>2.217761</td>\n      <td>1.131447</td>\n      <td>0.655308</td>\n      <td>0.494315</td>\n    </tr>\n    <tr>\n      <th>std</th>\n      <td>21.887856</td>\n      <td>1.108842</td>\n      <td>0.809085</td>\n      <td>0.708314</td>\n    </tr>\n    <tr>\n      <th>min</th>\n      <td>0.000000</td>\n      <td>-1.000000</td>\n      <td>0.000000</td>\n      <td>0.000000</td>\n    </tr>\n    <tr>\n      <th>25%</th>\n      <td>1.000000</td>\n      <td>0.000000</td>\n      <td>0.000000</td>\n      <td>0.000000</td>\n    </tr>\n    <tr>\n      <th>50%</th>\n      <td>1.000000</td>\n      <td>1.000000</td>\n      <td>0.000000</td>\n      <td>0.000000</td>\n    </tr>\n    <tr>\n      <th>75%</th>\n      <td>2.000000</td>\n      <td>2.000000</td>\n      <td>1.000000</td>\n      <td>1.000000</td>\n    </tr>\n    <tr>\n      <th>max</th>\n      <td>998.000000</td>\n      <td>13.000000</td>\n      <td>7.000000</td>\n      <td>6.000000</td>\n    </tr>\n  </tbody>\n</table>\n</div>"
     },
     "execution_count": 13,
     "metadata": {},
     "output_type": "execute_result"
    }
   ],
   "source": [
    "goal_cols = [\"FTHG\", \"FTAG\", \"HTHG\", \"HTAG\"]\n",
    "df[goal_cols].describe()"
   ],
   "metadata": {
    "collapsed": false,
    "ExecuteTime": {
     "end_time": "2023-12-29T09:48:01.461600700Z",
     "start_time": "2023-12-29T09:48:01.370589300Z"
    }
   },
   "id": "657538d5cf004510"
  },
  {
   "cell_type": "markdown",
   "source": [
    "There seems to be several issues:\n",
    "\n",
    "- the max value for **FTHG** is absurd\n",
    "- the min value for **FTAG** does not make sense\n",
    "- some values are missing"
   ],
   "metadata": {
    "collapsed": false
   },
   "id": "2aa520f7268f331d"
  },
  {
   "cell_type": "code",
   "execution_count": 14,
   "outputs": [
    {
     "data": {
      "text/plain": "FTHG\n1.0      51639\n2.0      37642\n0.0      36011\n3.0      18462\n4.0       7202\n5.0       2343\n6.0        751\n7.0        185\n8.0         42\n9.0         14\n10.0         5\n339.0        5\nName: count, dtype: int64"
     },
     "execution_count": 14,
     "metadata": {},
     "output_type": "execute_result"
    }
   ],
   "source": [
    "df[\"FTHG\"].value_counts().head(12)"
   ],
   "metadata": {
    "collapsed": false,
    "ExecuteTime": {
     "end_time": "2023-12-29T09:48:01.492494800Z",
     "start_time": "2023-12-29T09:48:01.404634200Z"
    }
   },
   "id": "3a2d1f300c063570"
  },
  {
   "cell_type": "markdown",
   "source": [
    "First, we will remove all rows where the Full Time Home Goals are greater than 10."
   ],
   "metadata": {
    "collapsed": false
   },
   "id": "c69ffe8dd5a43a13"
  },
  {
   "cell_type": "code",
   "execution_count": 15,
   "outputs": [],
   "source": [
    "df = df[df[\"FTHG\"] <= 10]"
   ],
   "metadata": {
    "collapsed": false,
    "ExecuteTime": {
     "end_time": "2023-12-29T09:48:01.540609900Z",
     "start_time": "2023-12-29T09:48:01.418815500Z"
    }
   },
   "id": "7c3d6a035bd61f5e"
  },
  {
   "cell_type": "markdown",
   "source": [
    "Next, all Full Time Away goals that are less than zero are inspected. Since we are not sure which values are good and bad, all of them are removed."
   ],
   "metadata": {
    "collapsed": false
   },
   "id": "2334a5cf5203f897"
  },
  {
   "cell_type": "code",
   "execution_count": 16,
   "outputs": [],
   "source": [
    "df = df[df[\"FTAG\"] >= 0]"
   ],
   "metadata": {
    "collapsed": false,
    "ExecuteTime": {
     "end_time": "2023-12-29T09:48:01.622685300Z",
     "start_time": "2023-12-29T09:48:01.480799600Z"
    }
   },
   "id": "222e2ecfc432def5"
  },
  {
   "cell_type": "markdown",
   "source": [
    "What's left are the missing values. We have no way of recomputing these as well and these rows are again excluded."
   ],
   "metadata": {
    "collapsed": false
   },
   "id": "74ea71a7360aa200"
  },
  {
   "cell_type": "code",
   "execution_count": 17,
   "outputs": [],
   "source": [
    "df = df[df[goal_cols].isna().sum(axis=1) == 0]"
   ],
   "metadata": {
    "collapsed": false,
    "ExecuteTime": {
     "end_time": "2023-12-29T09:48:01.660222400Z",
     "start_time": "2023-12-29T09:48:01.561630500Z"
    }
   },
   "id": "8b9a3961024b8d5a"
  },
  {
   "cell_type": "markdown",
   "source": [
    "If we run the describe() function again, we can see that the counts are the same and min/max statistics make sense."
   ],
   "metadata": {
    "collapsed": false
   },
   "id": "8832d12e29a8ce13"
  },
  {
   "cell_type": "code",
   "execution_count": 18,
   "outputs": [
    {
     "data": {
      "text/plain": "                FTHG           FTAG           HTHG           HTAG\ncount  153834.000000  153834.000000  153834.000000  153834.000000\nmean        1.485536       1.133768       0.655369       0.494481\nstd         1.253200       1.107155       0.809073       0.708545\nmin         0.000000       0.000000       0.000000       0.000000\n25%         1.000000       0.000000       0.000000       0.000000\n50%         1.000000       1.000000       0.000000       0.000000\n75%         2.000000       2.000000       1.000000       1.000000\nmax        10.000000      13.000000       7.000000       6.000000",
      "text/html": "<div>\n<style scoped>\n    .dataframe tbody tr th:only-of-type {\n        vertical-align: middle;\n    }\n\n    .dataframe tbody tr th {\n        vertical-align: top;\n    }\n\n    .dataframe thead th {\n        text-align: right;\n    }\n</style>\n<table border=\"1\" class=\"dataframe\">\n  <thead>\n    <tr style=\"text-align: right;\">\n      <th></th>\n      <th>FTHG</th>\n      <th>FTAG</th>\n      <th>HTHG</th>\n      <th>HTAG</th>\n    </tr>\n  </thead>\n  <tbody>\n    <tr>\n      <th>count</th>\n      <td>153834.000000</td>\n      <td>153834.000000</td>\n      <td>153834.000000</td>\n      <td>153834.000000</td>\n    </tr>\n    <tr>\n      <th>mean</th>\n      <td>1.485536</td>\n      <td>1.133768</td>\n      <td>0.655369</td>\n      <td>0.494481</td>\n    </tr>\n    <tr>\n      <th>std</th>\n      <td>1.253200</td>\n      <td>1.107155</td>\n      <td>0.809073</td>\n      <td>0.708545</td>\n    </tr>\n    <tr>\n      <th>min</th>\n      <td>0.000000</td>\n      <td>0.000000</td>\n      <td>0.000000</td>\n      <td>0.000000</td>\n    </tr>\n    <tr>\n      <th>25%</th>\n      <td>1.000000</td>\n      <td>0.000000</td>\n      <td>0.000000</td>\n      <td>0.000000</td>\n    </tr>\n    <tr>\n      <th>50%</th>\n      <td>1.000000</td>\n      <td>1.000000</td>\n      <td>0.000000</td>\n      <td>0.000000</td>\n    </tr>\n    <tr>\n      <th>75%</th>\n      <td>2.000000</td>\n      <td>2.000000</td>\n      <td>1.000000</td>\n      <td>1.000000</td>\n    </tr>\n    <tr>\n      <th>max</th>\n      <td>10.000000</td>\n      <td>13.000000</td>\n      <td>7.000000</td>\n      <td>6.000000</td>\n    </tr>\n  </tbody>\n</table>\n</div>"
     },
     "execution_count": 18,
     "metadata": {},
     "output_type": "execute_result"
    }
   ],
   "source": [
    "df[goal_cols].describe()"
   ],
   "metadata": {
    "collapsed": false,
    "ExecuteTime": {
     "end_time": "2023-12-29T09:48:01.703262900Z",
     "start_time": "2023-12-29T09:48:01.654218500Z"
    }
   },
   "id": "6bbd84ad89c9626a"
  },
  {
   "cell_type": "markdown",
   "source": [
    "## Result validation\n",
    "\n",
    "Another thing that needs to be validated is the result classification, which are re-classified - this is the easiest data validation process."
   ],
   "metadata": {
    "collapsed": false
   },
   "id": "e52e77484568589d"
  },
  {
   "cell_type": "code",
   "execution_count": 19,
   "outputs": [],
   "source": [
    "half_conds = [df[\"HTHG\"] > df[\"HTAG\"], df[\"HTHG\"] < df[\"HTAG\"], df[\"HTHG\"] == df[\"HTAG\"]]\n",
    "half_choic = [\"H\"                    , \"A\"                    , \"D\"]\n",
    "df.loc[:, \"HTR\"] = np.select(half_conds, half_choic)\n",
    "full_conds = [df[\"FTHG\"] > df[\"FTAG\"], df[\"FTHG\"] < df[\"FTAG\"], df[\"FTHG\"] == df[\"FTAG\"]]\n",
    "full_choic = [\"H\"                    , \"A\"                    , \"D\"]\n",
    "df.loc[:, \"FTR\"] = np.select(full_conds, full_choic)"
   ],
   "metadata": {
    "collapsed": false,
    "ExecuteTime": {
     "end_time": "2023-12-29T09:48:01.769826Z",
     "start_time": "2023-12-29T09:48:01.686247300Z"
    }
   },
   "id": "85e5e89fe1176573"
  },
  {
   "cell_type": "markdown",
   "source": [
    "## Validation of other statistics\n",
    "\n",
    "First step is to look at simple descriptive statistics."
   ],
   "metadata": {
    "collapsed": false
   },
   "id": "d09fdf7e0bd7ad56"
  },
  {
   "cell_type": "code",
   "execution_count": 20,
   "outputs": [
    {
     "data": {
      "text/plain": "         Attendance            HS            AS           HST           AST  \\\ncount   6641.000000  91641.000000  91683.000000  90736.000000  90761.000000   \nmean   12853.621894     12.675691     10.296674      5.231694      4.209760   \nstd    13873.200798      4.925237      4.384018      2.808410      2.456552   \nmin      123.000000      0.000000      0.000000      0.000000      0.000000   \n25%     3530.000000      9.000000      7.000000      3.000000      2.000000   \n50%     7014.000000     12.000000     10.000000      5.000000      4.000000   \n75%    17608.000000     16.000000     13.000000      7.000000      6.000000   \nmax    69000.000000     46.000000     45.000000     27.000000     23.000000   \n\n               HHW          AHW            HC            AC            HF  \\\ncount  6472.000000  6484.000000  91235.000000  91286.000000  89606.000000   \nmean      0.351823     0.260950      5.722694      4.647372     12.849296   \nstd       0.610765     0.543137      2.937960      2.624308      4.555750   \nmin       0.000000     0.000000      0.000000      0.000000      0.000000   \n25%       0.000000     0.000000      4.000000      3.000000     10.000000   \n50%       0.000000     0.000000      5.000000      4.000000     12.000000   \n75%       1.000000     0.000000      7.000000      6.000000     16.000000   \nmax       4.000000    10.000000     26.000000     21.000000    145.000000   \n\n       ...         HFKC         AFKC           HO           AO            HY  \\\ncount  ...  1298.000000  1298.000000  6485.000000  6466.000000  91834.000000   \nmean   ...    16.620955    17.298921     3.258288     3.250541      1.642714   \nstd    ...     4.394704     4.740125     2.368060     2.519042      1.292988   \nmin    ...     2.000000     2.000000     0.000000     0.000000      0.000000   \n25%    ...    14.000000    14.000000     2.000000     1.000000      1.000000   \n50%    ...    16.000000    17.000000     3.000000     3.000000      1.000000   \n75%    ...    20.000000    20.000000     5.000000     5.000000      2.000000   \nmax    ...    32.000000    34.000000    16.000000    18.000000     11.000000   \n\n                 AY            HR            AR          HBP          ABP  \ncount  91831.000000  91854.000000  91799.000000  6652.000000  6639.000000  \nmean       1.960275      0.086964      0.119936    15.496843    20.928604  \nstd        1.365244      0.299356      0.351835    14.991016    17.225443  \nmin        0.000000      0.000000      0.000000     0.000000     0.000000  \n25%        1.000000      0.000000      0.000000     0.000000    10.000000  \n50%        2.000000      0.000000      0.000000    10.000000    20.000000  \n75%        3.000000      0.000000      0.000000    20.000000    30.000000  \nmax       10.000000      3.000000      9.000000   115.000000   150.000000  \n\n[8 rows x 21 columns]",
      "text/html": "<div>\n<style scoped>\n    .dataframe tbody tr th:only-of-type {\n        vertical-align: middle;\n    }\n\n    .dataframe tbody tr th {\n        vertical-align: top;\n    }\n\n    .dataframe thead th {\n        text-align: right;\n    }\n</style>\n<table border=\"1\" class=\"dataframe\">\n  <thead>\n    <tr style=\"text-align: right;\">\n      <th></th>\n      <th>Attendance</th>\n      <th>HS</th>\n      <th>AS</th>\n      <th>HST</th>\n      <th>AST</th>\n      <th>HHW</th>\n      <th>AHW</th>\n      <th>HC</th>\n      <th>AC</th>\n      <th>HF</th>\n      <th>...</th>\n      <th>HFKC</th>\n      <th>AFKC</th>\n      <th>HO</th>\n      <th>AO</th>\n      <th>HY</th>\n      <th>AY</th>\n      <th>HR</th>\n      <th>AR</th>\n      <th>HBP</th>\n      <th>ABP</th>\n    </tr>\n  </thead>\n  <tbody>\n    <tr>\n      <th>count</th>\n      <td>6641.000000</td>\n      <td>91641.000000</td>\n      <td>91683.000000</td>\n      <td>90736.000000</td>\n      <td>90761.000000</td>\n      <td>6472.000000</td>\n      <td>6484.000000</td>\n      <td>91235.000000</td>\n      <td>91286.000000</td>\n      <td>89606.000000</td>\n      <td>...</td>\n      <td>1298.000000</td>\n      <td>1298.000000</td>\n      <td>6485.000000</td>\n      <td>6466.000000</td>\n      <td>91834.000000</td>\n      <td>91831.000000</td>\n      <td>91854.000000</td>\n      <td>91799.000000</td>\n      <td>6652.000000</td>\n      <td>6639.000000</td>\n    </tr>\n    <tr>\n      <th>mean</th>\n      <td>12853.621894</td>\n      <td>12.675691</td>\n      <td>10.296674</td>\n      <td>5.231694</td>\n      <td>4.209760</td>\n      <td>0.351823</td>\n      <td>0.260950</td>\n      <td>5.722694</td>\n      <td>4.647372</td>\n      <td>12.849296</td>\n      <td>...</td>\n      <td>16.620955</td>\n      <td>17.298921</td>\n      <td>3.258288</td>\n      <td>3.250541</td>\n      <td>1.642714</td>\n      <td>1.960275</td>\n      <td>0.086964</td>\n      <td>0.119936</td>\n      <td>15.496843</td>\n      <td>20.928604</td>\n    </tr>\n    <tr>\n      <th>std</th>\n      <td>13873.200798</td>\n      <td>4.925237</td>\n      <td>4.384018</td>\n      <td>2.808410</td>\n      <td>2.456552</td>\n      <td>0.610765</td>\n      <td>0.543137</td>\n      <td>2.937960</td>\n      <td>2.624308</td>\n      <td>4.555750</td>\n      <td>...</td>\n      <td>4.394704</td>\n      <td>4.740125</td>\n      <td>2.368060</td>\n      <td>2.519042</td>\n      <td>1.292988</td>\n      <td>1.365244</td>\n      <td>0.299356</td>\n      <td>0.351835</td>\n      <td>14.991016</td>\n      <td>17.225443</td>\n    </tr>\n    <tr>\n      <th>min</th>\n      <td>123.000000</td>\n      <td>0.000000</td>\n      <td>0.000000</td>\n      <td>0.000000</td>\n      <td>0.000000</td>\n      <td>0.000000</td>\n      <td>0.000000</td>\n      <td>0.000000</td>\n      <td>0.000000</td>\n      <td>0.000000</td>\n      <td>...</td>\n      <td>2.000000</td>\n      <td>2.000000</td>\n      <td>0.000000</td>\n      <td>0.000000</td>\n      <td>0.000000</td>\n      <td>0.000000</td>\n      <td>0.000000</td>\n      <td>0.000000</td>\n      <td>0.000000</td>\n      <td>0.000000</td>\n    </tr>\n    <tr>\n      <th>25%</th>\n      <td>3530.000000</td>\n      <td>9.000000</td>\n      <td>7.000000</td>\n      <td>3.000000</td>\n      <td>2.000000</td>\n      <td>0.000000</td>\n      <td>0.000000</td>\n      <td>4.000000</td>\n      <td>3.000000</td>\n      <td>10.000000</td>\n      <td>...</td>\n      <td>14.000000</td>\n      <td>14.000000</td>\n      <td>2.000000</td>\n      <td>1.000000</td>\n      <td>1.000000</td>\n      <td>1.000000</td>\n      <td>0.000000</td>\n      <td>0.000000</td>\n      <td>0.000000</td>\n      <td>10.000000</td>\n    </tr>\n    <tr>\n      <th>50%</th>\n      <td>7014.000000</td>\n      <td>12.000000</td>\n      <td>10.000000</td>\n      <td>5.000000</td>\n      <td>4.000000</td>\n      <td>0.000000</td>\n      <td>0.000000</td>\n      <td>5.000000</td>\n      <td>4.000000</td>\n      <td>12.000000</td>\n      <td>...</td>\n      <td>16.000000</td>\n      <td>17.000000</td>\n      <td>3.000000</td>\n      <td>3.000000</td>\n      <td>1.000000</td>\n      <td>2.000000</td>\n      <td>0.000000</td>\n      <td>0.000000</td>\n      <td>10.000000</td>\n      <td>20.000000</td>\n    </tr>\n    <tr>\n      <th>75%</th>\n      <td>17608.000000</td>\n      <td>16.000000</td>\n      <td>13.000000</td>\n      <td>7.000000</td>\n      <td>6.000000</td>\n      <td>1.000000</td>\n      <td>0.000000</td>\n      <td>7.000000</td>\n      <td>6.000000</td>\n      <td>16.000000</td>\n      <td>...</td>\n      <td>20.000000</td>\n      <td>20.000000</td>\n      <td>5.000000</td>\n      <td>5.000000</td>\n      <td>2.000000</td>\n      <td>3.000000</td>\n      <td>0.000000</td>\n      <td>0.000000</td>\n      <td>20.000000</td>\n      <td>30.000000</td>\n    </tr>\n    <tr>\n      <th>max</th>\n      <td>69000.000000</td>\n      <td>46.000000</td>\n      <td>45.000000</td>\n      <td>27.000000</td>\n      <td>23.000000</td>\n      <td>4.000000</td>\n      <td>10.000000</td>\n      <td>26.000000</td>\n      <td>21.000000</td>\n      <td>145.000000</td>\n      <td>...</td>\n      <td>32.000000</td>\n      <td>34.000000</td>\n      <td>16.000000</td>\n      <td>18.000000</td>\n      <td>11.000000</td>\n      <td>10.000000</td>\n      <td>3.000000</td>\n      <td>9.000000</td>\n      <td>115.000000</td>\n      <td>150.000000</td>\n    </tr>\n  </tbody>\n</table>\n<p>8 rows × 21 columns</p>\n</div>"
     },
     "execution_count": 20,
     "metadata": {},
     "output_type": "execute_result"
    }
   ],
   "source": [
    "stat_cols = [\n",
    "    'Attendance', 'HS', 'AS', 'HST', 'AST', 'HHW', 'AHW',\n",
    "    'HC', 'AC', 'HF', 'AF', 'HFKC', 'AFKC', 'HO', 'AO', 'HY', 'AY', 'HR', 'AR', \"HBP\", \"ABP\"\n",
    "]\n",
    "\n",
    "df[stat_cols].describe()"
   ],
   "metadata": {
    "collapsed": false,
    "ExecuteTime": {
     "end_time": "2023-12-29T09:48:01.891441500Z",
     "start_time": "2023-12-29T09:48:01.719278100Z"
    }
   },
   "id": "bc0b4a8d0d72e42f"
  },
  {
   "cell_type": "markdown",
   "source": [
    "Then we take a look at boxplots for variables where at least one variable falls out of the interval\n",
    "\n",
    "$$\n",
    "(\\text{q}_{0.25} - 3 * \\text{IQR} ; \\text{q}_{0.75} + 3 * \\text{IQR})\n",
    "$$"
   ],
   "metadata": {
    "collapsed": false
   },
   "id": "45f0423ea6b24818"
  },
  {
   "cell_type": "code",
   "execution_count": 21,
   "outputs": [
    {
     "data": {
      "text/plain": "Attendance      109\nHS               14\nAS               23\nHST              18\nAST               8\nAHW            1435\nHC              174\nAC               72\nHF               21\nAF               25\nHO                4\nAO                2\nHY              632\nAY                2\nHR             7542\nAR            10247\nHBP              13\nABP              24\ndtype: int64"
     },
     "execution_count": 21,
     "metadata": {},
     "output_type": "execute_result"
    }
   ],
   "source": [
    "def outliers(x, multi = 3):\n",
    "    q25 = x.quantile(0.25)\n",
    "    q75 = x.quantile(0.75)\n",
    "    iqr = q75 - q25\n",
    "    outliers = x[(x < q25 - multi * iqr) | (x > q75 + multi * iqr)]\n",
    "    return len(outliers)\n",
    "\n",
    "stat_outliers = df[stat_cols].apply(lambda x: outliers(x))\n",
    "stat_outliers = stat_outliers[stat_outliers != 0]\n",
    "stat_outliers"
   ],
   "metadata": {
    "collapsed": false,
    "ExecuteTime": {
     "end_time": "2023-12-29T09:48:01.975022600Z",
     "start_time": "2023-12-29T09:48:01.892442500Z"
    }
   },
   "id": "177436f7c3a88243"
  },
  {
   "cell_type": "code",
   "execution_count": 22,
   "outputs": [
    {
     "data": {
      "text/plain": "<Figure size 1200x1000 with 18 Axes>",
      "image/png": "[encoded data removed]"
     },
     "metadata": {},
     "output_type": "display_data"
    }
   ],
   "source": [
    "fig, axes = plt.subplots(nrows=3, ncols = 6, figsize = (12, 10))\n",
    "axes = axes.ravel()\n",
    "\n",
    "for i, col in enumerate(stat_outliers.index):\n",
    "    # Data\n",
    "    df[col].plot(kind='box', ax = axes[i])\n",
    "    # Styling\n",
    "    axes[i].set_title(col)\n",
    "    axes[i].axes.get_xaxis().set_visible(False)\n",
    "\n",
    "plt.show()\n"
   ],
   "metadata": {
    "collapsed": false,
    "ExecuteTime": {
     "end_time": "2023-12-29T09:48:03.339641200Z",
     "start_time": "2023-12-29T09:48:01.939991600Z"
    }
   },
   "id": "2dd75d75ae33862b"
  },
  {
   "cell_type": "markdown",
   "source": [
    "We can se that some outliers are not that extreme. For example variables *HO*, *AO* or *HY* have extreme values, but won't remove them. This is because even tho they can be considered as extreme, there seems to be a natural way how they occured and tehre are no huge jumps between them.\n",
    "\n",
    "On the other hand, variables *AHW*, *HF*, *AF* and *AR* seem to have some variables that are far away from the other data. Note that we do not consider variables in *HR* as outliers because it looks like it's a discrete variable with mostly zeroes."
   ],
   "metadata": {
    "collapsed": false
   },
   "id": "a888e96f3e2a7992"
  },
  {
   "cell_type": "code",
   "execution_count": 23,
   "outputs": [
    {
     "name": "stdout",
     "output_type": "stream",
     "text": [
      "Number of extreme values:\n",
      "AS: [45. 39.], (count: 2)\n",
      "AHW: [10.], (count: 1)\n",
      "HF: [145.], (count: 1)\n",
      "AF: [77.], (count: 1)\n",
      "AR: [9.], (count: 1)\n",
      "ABP: [150.], (count: 1)\n"
     ]
    }
   ],
   "source": [
    "stat_jump = [\n",
    "    \"AS\", \"AHW\", \"HF\", \"AF\", \"AR\", \"ABP\"\n",
    "]\n",
    "stats_cut = [\n",
    "    38, 6, 100, 60, 6, 130\n",
    "]\n",
    "\n",
    "print(\"Number of extreme values:\")\n",
    "for i, col in enumerate(stat_jump):\n",
    "    cutoff = stats_cut[i]\n",
    "    x = df[col].to_numpy()\n",
    "    extreme = x[x > cutoff]\n",
    "    print(f\"{col}: {extreme}, (count: {len(extreme)})\")\n",
    "    \n",
    "plt.show()"
   ],
   "metadata": {
    "collapsed": false,
    "ExecuteTime": {
     "end_time": "2023-12-29T09:48:03.464262100Z",
     "start_time": "2023-12-29T09:48:03.338639200Z"
    }
   },
   "id": "f21efa2b34676bd3"
  },
  {
   "cell_type": "markdown",
   "source": [
    "Based on the analysis, we see that these extreme values occur at most twice. This is why we chose to remove them."
   ],
   "metadata": {
    "collapsed": false
   },
   "id": "e02737b46401e115"
  },
  {
   "cell_type": "code",
   "execution_count": 24,
   "outputs": [],
   "source": [
    "criteria = dict(zip(stat_jump, stats_cut))\n",
    "for column, value in criteria.items():\n",
    "    # .isna() is important because otherwise all na rows are dropped\n",
    "    df = df[df[column].lt(value) | df[column].isna()]"
   ],
   "metadata": {
    "collapsed": false,
    "ExecuteTime": {
     "end_time": "2023-12-29T09:48:03.680469300Z",
     "start_time": "2023-12-29T09:48:03.349649400Z"
    }
   },
   "id": "bfd4534b886b19e8"
  },
  {
   "cell_type": "markdown",
   "source": [
    "Finally, we will double-check with boxplots."
   ],
   "metadata": {
    "collapsed": false
   },
   "id": "fa38c764b778db71"
  },
  {
   "cell_type": "code",
   "execution_count": 25,
   "outputs": [
    {
     "data": {
      "text/plain": "<Figure size 800x800 with 6 Axes>",
      "image/png": "[encoded data removed]"
     },
     "metadata": {},
     "output_type": "display_data"
    }
   ],
   "source": [
    "fig, axes = plt.subplots(nrows=2, ncols = 3, figsize = (8, 8))\n",
    "axes = axes.ravel()\n",
    "\n",
    "for i, col in enumerate(stat_jump):\n",
    "    df[col].plot(kind='box', ax = axes[i])\n",
    "    axes[i].set_title(col)\n",
    "    axes[i].axes.get_xaxis().set_visible(False)\n",
    "\n",
    "plt.show()"
   ],
   "metadata": {
    "collapsed": false,
    "ExecuteTime": {
     "end_time": "2023-12-29T09:48:04.093543900Z",
     "start_time": "2023-12-29T09:48:03.681470400Z"
    }
   },
   "id": "660bf3ce1d532ff9"
  },
  {
   "cell_type": "markdown",
   "source": [
    "IT looks like variable *HF* contains another outlier, but this process should be done only once. Hence, no outliers are removed."
   ],
   "metadata": {
    "collapsed": false
   },
   "id": "47633077ae692db9"
  },
  {
   "cell_type": "markdown",
   "source": [
    "## Random unnamed data\n",
    "\n",
    "File *'data/train/portugal/1/0304.csv'* contains random data in columns *'Unnamed: 33'* and *'Unnamed: 34'*."
   ],
   "metadata": {
    "collapsed": false
   },
   "id": "bace25c465e174b5"
  },
  {
   "cell_type": "code",
   "execution_count": 26,
   "outputs": [
    {
     "data": {
      "text/plain": "        Unnamed: 32  Unnamed: 33  Unnamed: 34\n108856          2.0          1.8        -1.75",
      "text/html": "<div>\n<style scoped>\n    .dataframe tbody tr th:only-of-type {\n        vertical-align: middle;\n    }\n\n    .dataframe tbody tr th {\n        vertical-align: top;\n    }\n\n    .dataframe thead th {\n        text-align: right;\n    }\n</style>\n<table border=\"1\" class=\"dataframe\">\n  <thead>\n    <tr style=\"text-align: right;\">\n      <th></th>\n      <th>Unnamed: 32</th>\n      <th>Unnamed: 33</th>\n      <th>Unnamed: 34</th>\n    </tr>\n  </thead>\n  <tbody>\n    <tr>\n      <th>108856</th>\n      <td>2.0</td>\n      <td>1.8</td>\n      <td>-1.75</td>\n    </tr>\n  </tbody>\n</table>\n</div>"
     },
     "execution_count": 26,
     "metadata": {},
     "output_type": "execute_result"
    }
   ],
   "source": [
    "unnamed_cols_df = df[['Unnamed: 32', 'Unnamed: 33', 'Unnamed: 34']]\n",
    "unnamed_cols_df[unnamed_cols_df.notnull().any(axis=1)]"
   ],
   "metadata": {
    "collapsed": false,
    "ExecuteTime": {
     "end_time": "2023-12-29T09:48:04.180781Z",
     "start_time": "2023-12-29T09:48:04.093543900Z"
    }
   },
   "id": "786e1f9ac050b5ae"
  },
  {
   "cell_type": "markdown",
   "source": [
    "Since we do not know what these columns represent, and it is only one non-NA row from the whole dataset, this column is removed."
   ],
   "metadata": {
    "collapsed": false
   },
   "id": "1f14558724384896"
  },
  {
   "cell_type": "code",
   "execution_count": 27,
   "outputs": [],
   "source": [
    "df = df.drop(columns = unnamed_cols_df.columns)"
   ],
   "metadata": {
    "collapsed": false,
    "ExecuteTime": {
     "end_time": "2023-12-29T09:48:04.182783500Z",
     "start_time": "2023-12-29T09:48:04.110530100Z"
    }
   },
   "id": "63344855b69da629"
  },
  {
   "cell_type": "markdown",
   "source": [
    "## Wrong betting odds names\n",
    "\n",
    "File *'data/train/germany/2/0405.csv'* contains columns **LB**, **LB.1** and **LB.2**, which are unique only to this file. After further investigation, they represent the betting odds data for Ladbrokers. After looking at the data more thoroughly, it can be guessed that all three columns represent odds for home win, away win, and draw."
   ],
   "metadata": {
    "collapsed": false
   },
   "id": "2096a866882ec13c"
  },
  {
   "cell_type": "code",
   "execution_count": 28,
   "outputs": [
    {
     "data": {
      "text/plain": "       LB  LB.1  LB.2   SBH   SBD   SBA   WHH   WHD   WHA  GBAHH  GBAHA  GBAH\n2    1.67  3.25   NaN  1.62  3.75  5.00  1.65  3.30  4.60   1.65   2.02 -0.50\n6    2.00  3.20   NaN  2.10  3.20  3.25  2.15  3.10  3.00   1.77   1.95 -0.25\n7    1.91  3.25   NaN  2.00  3.30  3.40  1.90  3.25  3.40   1.95   1.70 -0.50\n12   2.60  3.20  2.38  2.70  3.20  2.40  2.50  3.10  2.50   1.43   2.50  0.50\n15   2.25  3.20  2.75  2.40  3.00  2.88  2.20  3.10  2.87   2.30   1.48 -0.50\n..    ...   ...   ...   ...   ...   ...   ...   ...   ...    ...    ...   ...\n291  2.40  3.25  2.50  2.50  3.25  2.50  2.45  3.25  2.45   2.45   1.43 -0.50\n294  2.00  3.00  3.40  2.10  3.20  3.25  2.10  3.20  3.00   1.91   1.70 -0.50\n295  2.25  3.20  2.75  2.38  3.10  2.88  2.37  3.30  2.50   2.20   1.52 -0.50\n297  1.62  3.25  5.00  1.60  3.75  5.00  1.60  3.30  5.00   1.62   2.06 -0.50\n299  1.73  3.20  4.33  1.75  3.50  4.20  1.75  3.30  4.00   1.75   1.89 -0.50\n\n[110 rows x 12 columns]",
      "text/html": "<div>\n<style scoped>\n    .dataframe tbody tr th:only-of-type {\n        vertical-align: middle;\n    }\n\n    .dataframe tbody tr th {\n        vertical-align: top;\n    }\n\n    .dataframe thead th {\n        text-align: right;\n    }\n</style>\n<table border=\"1\" class=\"dataframe\">\n  <thead>\n    <tr style=\"text-align: right;\">\n      <th></th>\n      <th>LB</th>\n      <th>LB.1</th>\n      <th>LB.2</th>\n      <th>SBH</th>\n      <th>SBD</th>\n      <th>SBA</th>\n      <th>WHH</th>\n      <th>WHD</th>\n      <th>WHA</th>\n      <th>GBAHH</th>\n      <th>GBAHA</th>\n      <th>GBAH</th>\n    </tr>\n  </thead>\n  <tbody>\n    <tr>\n      <th>2</th>\n      <td>1.67</td>\n      <td>3.25</td>\n      <td>NaN</td>\n      <td>1.62</td>\n      <td>3.75</td>\n      <td>5.00</td>\n      <td>1.65</td>\n      <td>3.30</td>\n      <td>4.60</td>\n      <td>1.65</td>\n      <td>2.02</td>\n      <td>-0.50</td>\n    </tr>\n    <tr>\n      <th>6</th>\n      <td>2.00</td>\n      <td>3.20</td>\n      <td>NaN</td>\n      <td>2.10</td>\n      <td>3.20</td>\n      <td>3.25</td>\n      <td>2.15</td>\n      <td>3.10</td>\n      <td>3.00</td>\n      <td>1.77</td>\n      <td>1.95</td>\n      <td>-0.25</td>\n    </tr>\n    <tr>\n      <th>7</th>\n      <td>1.91</td>\n      <td>3.25</td>\n      <td>NaN</td>\n      <td>2.00</td>\n      <td>3.30</td>\n      <td>3.40</td>\n      <td>1.90</td>\n      <td>3.25</td>\n      <td>3.40</td>\n      <td>1.95</td>\n      <td>1.70</td>\n      <td>-0.50</td>\n    </tr>\n    <tr>\n      <th>12</th>\n      <td>2.60</td>\n      <td>3.20</td>\n      <td>2.38</td>\n      <td>2.70</td>\n      <td>3.20</td>\n      <td>2.40</td>\n      <td>2.50</td>\n      <td>3.10</td>\n      <td>2.50</td>\n      <td>1.43</td>\n      <td>2.50</td>\n      <td>0.50</td>\n    </tr>\n    <tr>\n      <th>15</th>\n      <td>2.25</td>\n      <td>3.20</td>\n      <td>2.75</td>\n      <td>2.40</td>\n      <td>3.00</td>\n      <td>2.88</td>\n      <td>2.20</td>\n      <td>3.10</td>\n      <td>2.87</td>\n      <td>2.30</td>\n      <td>1.48</td>\n      <td>-0.50</td>\n    </tr>\n    <tr>\n      <th>...</th>\n      <td>...</td>\n      <td>...</td>\n      <td>...</td>\n      <td>...</td>\n      <td>...</td>\n      <td>...</td>\n      <td>...</td>\n      <td>...</td>\n      <td>...</td>\n      <td>...</td>\n      <td>...</td>\n      <td>...</td>\n    </tr>\n    <tr>\n      <th>291</th>\n      <td>2.40</td>\n      <td>3.25</td>\n      <td>2.50</td>\n      <td>2.50</td>\n      <td>3.25</td>\n      <td>2.50</td>\n      <td>2.45</td>\n      <td>3.25</td>\n      <td>2.45</td>\n      <td>2.45</td>\n      <td>1.43</td>\n      <td>-0.50</td>\n    </tr>\n    <tr>\n      <th>294</th>\n      <td>2.00</td>\n      <td>3.00</td>\n      <td>3.40</td>\n      <td>2.10</td>\n      <td>3.20</td>\n      <td>3.25</td>\n      <td>2.10</td>\n      <td>3.20</td>\n      <td>3.00</td>\n      <td>1.91</td>\n      <td>1.70</td>\n      <td>-0.50</td>\n    </tr>\n    <tr>\n      <th>295</th>\n      <td>2.25</td>\n      <td>3.20</td>\n      <td>2.75</td>\n      <td>2.38</td>\n      <td>3.10</td>\n      <td>2.88</td>\n      <td>2.37</td>\n      <td>3.30</td>\n      <td>2.50</td>\n      <td>2.20</td>\n      <td>1.52</td>\n      <td>-0.50</td>\n    </tr>\n    <tr>\n      <th>297</th>\n      <td>1.62</td>\n      <td>3.25</td>\n      <td>5.00</td>\n      <td>1.60</td>\n      <td>3.75</td>\n      <td>5.00</td>\n      <td>1.60</td>\n      <td>3.30</td>\n      <td>5.00</td>\n      <td>1.62</td>\n      <td>2.06</td>\n      <td>-0.50</td>\n    </tr>\n    <tr>\n      <th>299</th>\n      <td>1.73</td>\n      <td>3.20</td>\n      <td>4.33</td>\n      <td>1.75</td>\n      <td>3.50</td>\n      <td>4.20</td>\n      <td>1.75</td>\n      <td>3.30</td>\n      <td>4.00</td>\n      <td>1.75</td>\n      <td>1.89</td>\n      <td>-0.50</td>\n    </tr>\n  </tbody>\n</table>\n<p>110 rows × 12 columns</p>\n</div>"
     },
     "execution_count": 28,
     "metadata": {},
     "output_type": "execute_result"
    }
   ],
   "source": [
    "tmp = pd.read_csv(\"data/train/germany/2/0405.csv\")\n",
    "# Remove empty rows and columns\n",
    "tmp = tmp.dropna(how='all', axis=0)\n",
    "tmp = tmp.dropna(how='all', axis=1)\n",
    "tmp = tmp.loc[:, ~tmp.columns.str.startswith('Unnamed:')]\n",
    "tmp = tmp[tmp[['LB', 'LB.1', 'LB.2']].notnull().any(axis=1)]\n",
    "tmp.filter(regex='[HDAB12]$').iloc[:, -12:]"
   ],
   "metadata": {
    "collapsed": false,
    "ExecuteTime": {
     "end_time": "2023-12-29T09:48:04.261361300Z",
     "start_time": "2023-12-29T09:48:04.171772500Z"
    }
   },
   "id": "46c0204ec919c55a"
  },
  {
   "cell_type": "markdown",
   "source": [
    "Based on column similarity, we can make an edjucated guess that\n",
    "\n",
    "- **LB** should be **LBH**,\n",
    "- **LB.1** should be **LBD**, and\n",
    "- **LB.2** should be **LBA**"
   ],
   "metadata": {
    "collapsed": false
   },
   "id": "353c391dda553e2"
  },
  {
   "cell_type": "code",
   "execution_count": 29,
   "outputs": [],
   "source": [
    "# If LB is not null, use that value and replace it in LBH\n",
    "df[\"LBH\"] = df[\"LBH\"].mask(df[\"LB\"  ].notnull(), df[\"LB\"])\n",
    "df[\"LBD\"] = df[\"LBD\"].mask(df[\"LB.1\"].notnull(), df[\"LB.1\"])\n",
    "df[\"LBA\"] = df[\"LBA\"].mask(df[\"LB.2\"].notnull(), df[\"LB.2\"])\n",
    "df = df.drop(columns = [\"LB\", \"LB.1\", \"LB.2\"])"
   ],
   "metadata": {
    "collapsed": false,
    "ExecuteTime": {
     "end_time": "2023-12-29T09:48:04.301398400Z",
     "start_time": "2023-12-29T09:48:04.203802900Z"
    }
   },
   "id": "62309977e66ec42d"
  },
  {
   "cell_type": "markdown",
   "source": [
    "## Date normalization\n",
    "\n",
    "Date is not consistent and it needs to be unified in order to format it as date."
   ],
   "metadata": {
    "collapsed": false
   },
   "id": "576e514dc2ec2ff9"
  },
  {
   "cell_type": "code",
   "execution_count": 30,
   "outputs": [],
   "source": [
    "potential_fixes = pd.to_datetime(df['Date'], format='mixed', dayfirst=True)\n",
    "equal = potential_fixes[potential_fixes.isnull()].index.equals(df[df[\"Date\"].isnull()].index)\n",
    "# if True, all non-na dates have been converted\n",
    "if equal:\n",
    "    df[\"Date\"] = potential_fixes\n",
    "else:\n",
    "   print(\"Date indexes are not equal. Something wrong with the conversion??\")"
   ],
   "metadata": {
    "collapsed": false,
    "ExecuteTime": {
     "end_time": "2023-12-29T09:48:04.343947700Z",
     "start_time": "2023-12-29T09:48:04.268368600Z"
    }
   },
   "id": "ca78f5ac8fad1e9d"
  },
  {
   "cell_type": "markdown",
   "source": [
    "## Bookies analysis"
   ],
   "metadata": {
    "collapsed": false
   },
   "id": "e3ebd7b832fd12f8"
  },
  {
   "cell_type": "code",
   "execution_count": 31,
   "outputs": [
    {
     "name": "stdout",
     "output_type": "stream",
     "text": [
      "        Avg_away_odds  Avg_home_odds  Avg_draw_odds Avg_bookie_prediction  \\\n",
      "0            2.410000       2.460000       3.250000                     A   \n",
      "1            1.866667       3.350000       3.300000                     A   \n",
      "2            1.816667       3.287500       3.362500                     A   \n",
      "3            4.083333       1.645000       3.450000                     H   \n",
      "4            4.433333       1.605000       3.387500                     H   \n",
      "...               ...            ...            ...                   ...   \n",
      "154948       5.373333       1.606667       3.953333                     H   \n",
      "154949       3.426667       2.140000       3.291667                     H   \n",
      "154950       2.005000       3.738333       3.385000                     A   \n",
      "154951       3.140000       2.191667       3.495000                     H   \n",
      "154952       7.143333       1.408333       4.873333                     H   \n",
      "\n",
      "        Var_away_odds  Var_home_odds  Var_draw_odds  \n",
      "0            0.007200       0.007200       0.045000  \n",
      "1            0.005833       0.056667       0.026667  \n",
      "2            0.003333       0.007292       0.012292  \n",
      "3            0.135833       0.004300       0.010000  \n",
      "4            0.163333       0.000100       0.007292  \n",
      "...               ...            ...            ...  \n",
      "154948       0.142267       0.000427       0.025067  \n",
      "154949       0.038867       0.003200       0.011417  \n",
      "154950       0.001550       0.016417       0.014550  \n",
      "154951       0.005880       0.003417       0.009750  \n",
      "154952       0.190267       0.000297       0.042467  \n",
      "\n",
      "[153827 rows x 7 columns]\n"
     ]
    }
   ],
   "source": [
    "#minor warning suppression\n",
    "shutup.please()\n",
    "\n",
    "away_odds = df[[\"B365A\", \"BSA\", \"BWA\", \"GBA\", \"IWA\", \"LBA\", \"PSA\", \"SOA\", \"SBA\", \"SJA\", \"SYA\", \"VCA\", \"WHA\"]]\n",
    "home_odds = df[[\"B365H\", \"BSH\", \"BWH\", \"GBH\", \"IWH\", \"LBH\", \"PSH\", \"SOH\", \"SBH\", \"SJH\", \"SYH\", \"VCH\", \"WHH\"]]\n",
    "draw_odds = df[[\"B365D\", \"BSD\", \"BWD\", \"GBD\", \"IWD\", \"LBD\", \"PSD\", \"SOD\", \"SBD\", \"SJD\", \"SYD\", \"VCD\", \"WHD\"]]\n",
    "\n",
    "#Average of away/home/draw odds\n",
    "df[\"Avg_away_odds\"] = away_odds.mean(axis=1)\n",
    "df[\"Avg_home_odds\"] = home_odds.mean(axis=1)\n",
    "df[\"Avg_draw_odds\"] = draw_odds.mean(axis=1)\n",
    "\n",
    "#Predcition based on averages - Odds with smallest average have the highest probability -> returns A/H/D\n",
    "df[\"Avg_bookie_prediction\"] = df[[\"Avg_away_odds\", \"Avg_home_odds\", \"Avg_draw_odds\"]].idxmin(axis=1).fillna(\"\").astype(str).str[4]\n",
    "df[\"Avg_bookie_prediction\"] = df[\"Avg_bookie_prediction\"].str.upper()\n",
    "\n",
    "#Certainity of odds, the smaller variance implies, that bookies are more \"sure\"\n",
    "df[\"Var_away_odds\"] = away_odds.var(axis=1)\n",
    "df[\"Var_home_odds\"] = home_odds.var(axis=1)\n",
    "df[\"Var_draw_odds\"] = draw_odds.var(axis=1)\n",
    "\n",
    "print(df.loc[:, \"Avg_away_odds\":\"Var_draw_odds\"])"
   ],
   "metadata": {
    "collapsed": false,
    "ExecuteTime": {
     "end_time": "2023-12-29T09:48:04.645596400Z",
     "start_time": "2023-12-29T09:48:04.302399600Z"
    }
   },
   "id": "c25515b5503cff13"
  },
  {
   "cell_type": "code",
   "execution_count": 32,
   "outputs": [
    {
     "name": "stdout",
     "output_type": "stream",
     "text": [
      "        B365A  B365D  B365H B365P  BSA  BSD  BSH  BSP   BWA   BWD  ...  SYP  \\\n",
      "0         NaN    NaN    NaN   NaN  NaN  NaN  NaN  NaN   NaN   NaN  ...  NaN   \n",
      "1         NaN    NaN    NaN   NaN  NaN  NaN  NaN  NaN   NaN   NaN  ...  NaN   \n",
      "2         NaN    NaN    NaN   NaN  NaN  NaN  NaN  NaN   NaN   NaN  ...  NaN   \n",
      "3         NaN    NaN    NaN   NaN  NaN  NaN  NaN  NaN   NaN   NaN  ...  NaN   \n",
      "4         NaN    NaN    NaN   NaN  NaN  NaN  NaN  NaN   NaN   NaN  ...  NaN   \n",
      "...       ...    ...    ...   ...  ...  ...  ...  ...   ...   ...  ...  ...   \n",
      "154948   4.75   4.00   1.57     H  NaN  NaN  NaN  NaN  5.25  3.90  ...  NaN   \n",
      "154949   3.10   3.50   2.05     H  NaN  NaN  NaN  NaN  3.40  3.25  ...  NaN   \n",
      "154950   1.95   3.30   3.60     A  NaN  NaN  NaN  NaN  1.98  3.30  ...  NaN   \n",
      "154951   3.10   3.50   2.20     H  NaN  NaN  NaN  NaN  3.10  3.50  ...  NaN   \n",
      "154952   7.00   4.75   1.40     H  NaN  NaN  NaN  NaN  7.00  5.00  ...  NaN   \n",
      "\n",
      "         VCA  VCD   VCH  VCP   WHA   WHD   WHH  WHP Outcome  \n",
      "0        NaN  NaN   NaN  NaN  2.35  3.40  2.40    A       D  \n",
      "1        NaN  NaN   NaN  NaN  1.95  3.30  3.10    A       A  \n",
      "2        NaN  NaN   NaN  NaN  1.85  3.45  3.25    A       A  \n",
      "3        NaN  NaN   NaN  NaN  3.80  3.50  1.70    H       H  \n",
      "4        NaN  NaN   NaN  NaN  4.50  3.40  1.60    H       H  \n",
      "...      ...  ...   ...  ...   ...   ...   ...  ...     ...  \n",
      "154948  5.75  3.8  1.62    H  5.50  3.80  1.60    H       H  \n",
      "154949  3.50  3.3  2.15    H  3.40  3.25  2.10    H       A  \n",
      "154950  2.05  3.3  3.75    A  2.00  3.40  3.70    A       D  \n",
      "154951  3.13  3.4  2.25    H  3.20  3.40  2.15    H       D  \n",
      "154952  8.00  4.8  1.40    H  7.00  4.60  1.40    H       H  \n",
      "\n",
      "[153827 rows x 53 columns]\n"
     ]
    }
   ],
   "source": [
    "#Columns for predictions of all bookies\n",
    "bookies_predictions = pd.DataFrame(columns = [\"B365P\", \"BSP\", \"BWP\", \"GBP\", \"IWP\", \"LBP\", \"PSP\", \"SOP\", \"SBP\", \"SJP\", \"SYP\", \"VCP\", \"WHP\"])\n",
    "\n",
    "#dataframe with away/home/draw odds for each bookie\n",
    "df_bookies_accuracy = pd.concat([away_odds, home_odds, draw_odds, bookies_predictions], axis = 1).sort_index(axis = 1)\n",
    "df_bookies_accuracy[\"Outcome\"] = df[[\"FTR\"]]\n",
    "\n",
    "seq = list(range(3, 53, 4))\n",
    "#\"prediction\" of each bookie based on their odds\n",
    "for i in seq:\n",
    "    df_bookies_accuracy.iloc[:, i] = df_bookies_accuracy.iloc[:, i-3:i].idxmin(axis=1).fillna(\"\").astype(str).str[-1]\n",
    "\n",
    "print(df_bookies_accuracy)"
   ],
   "metadata": {
    "collapsed": false,
    "ExecuteTime": {
     "end_time": "2023-12-29T09:48:05.432659500Z",
     "start_time": "2023-12-29T09:48:04.645596400Z"
    }
   },
   "id": "560f2d8c692863de"
  },
  {
   "cell_type": "code",
   "execution_count": 33,
   "outputs": [
    {
     "name": "stdout",
     "output_type": "stream",
     "text": [
      "Percentage of matching values for B365: 49.87%\n",
      "Percentage of matching values for BS: 49.76%\n",
      "Percentage of matching values for BW: 49.88%\n",
      "Percentage of matching values for GB: 49.95%\n",
      "Percentage of matching values for IW: 49.78%\n",
      "Percentage of matching values for LB: 49.82%\n",
      "Percentage of matching values for PS: 49.91%\n",
      "Percentage of matching values for SO: 49.27%\n",
      "Percentage of matching values for SB: 49.94%\n",
      "Percentage of matching values for SJ: 49.76%\n",
      "Percentage of matching values for SY: 49.94%\n",
      "Percentage of matching values for VC: 49.99%\n",
      "Percentage of matching values for WH: 49.90%\n"
     ]
    }
   ],
   "source": [
    "#Accuracy of each bookie - all around 50% - accuracy of a bookie cannot be used as a weight for prediction\n",
    "for bookie in bookies_predictions:\n",
    "    filter_df = df_bookies_accuracy[df_bookies_accuracy[bookie].notna()]\n",
    "    matching_values = (filter_df[bookie] == filter_df['Outcome']).sum()\n",
    "    total_values = len(filter_df)\n",
    "    percent= (matching_values/total_values) *100\n",
    "    print(\"Percentage of matching values for \" + bookie[:-1] + f\": {percent:.2f}%\")"
   ],
   "metadata": {
    "collapsed": false,
    "ExecuteTime": {
     "end_time": "2023-12-29T09:48:05.703416700Z",
     "start_time": "2023-12-29T09:48:05.433660300Z"
    }
   },
   "id": "ab531191012f1bfb"
  },
  {
   "cell_type": "markdown",
   "source": [
    "- - -"
   ],
   "metadata": {
    "collapsed": false
   },
   "id": "fae4bede01492298"
  },
  {
   "cell_type": "code",
   "execution_count": 34,
   "outputs": [
    {
     "data": {
      "text/plain": "(153827, 174)"
     },
     "execution_count": 34,
     "metadata": {},
     "output_type": "execute_result"
    }
   ],
   "source": [
    "df.shape"
   ],
   "metadata": {
    "collapsed": false,
    "ExecuteTime": {
     "end_time": "2023-12-29T09:48:05.748961800Z",
     "start_time": "2023-12-29T09:48:05.704418400Z"
    }
   },
   "id": "13df9d592fbe9a75"
  },
  {
   "cell_type": "markdown",
   "source": [
    "**Handicap values fix**\n",
    "Handicaps are written in quarters - divisible by 0.25"
   ],
   "metadata": {
    "collapsed": false
   },
   "id": "fa831713638daa7"
  },
  {
   "cell_type": "code",
   "execution_count": 35,
   "outputs": [
    {
     "data": {
      "text/plain": "               GBAH       B365AH         BbAHh           AHh         LBAH  \\\ncount  11551.000000  6811.000000  98135.000000  20349.000000  5431.000000   \nmean      -0.362254    -0.361547     -0.305963     -0.247137    -0.350586   \nstd        0.484828     0.529031      1.287679      0.677728     0.588918   \nmin       -2.250000    -2.500000   -275.000000     -3.750000    -2.250000   \n25%       -0.500000    -0.750000     -0.500000     -0.500000    -0.750000   \n50%       -0.500000    -0.250000     -0.250000     -0.250000    -0.250000   \n75%       -0.250000     0.000000      0.000000      0.000000     0.000000   \nmax        2.500000     1.750000     12.500000      3.000000     9.000000   \n\n               AHCh  \ncount  20372.000000  \nmean      -0.240379  \nstd        0.701478  \nmin       -4.000000  \n25%       -0.500000  \n50%       -0.250000  \n75%        0.250000  \nmax        3.250000  ",
      "text/html": "<div>\n<style scoped>\n    .dataframe tbody tr th:only-of-type {\n        vertical-align: middle;\n    }\n\n    .dataframe tbody tr th {\n        vertical-align: top;\n    }\n\n    .dataframe thead th {\n        text-align: right;\n    }\n</style>\n<table border=\"1\" class=\"dataframe\">\n  <thead>\n    <tr style=\"text-align: right;\">\n      <th></th>\n      <th>GBAH</th>\n      <th>B365AH</th>\n      <th>BbAHh</th>\n      <th>AHh</th>\n      <th>LBAH</th>\n      <th>AHCh</th>\n    </tr>\n  </thead>\n  <tbody>\n    <tr>\n      <th>count</th>\n      <td>11551.000000</td>\n      <td>6811.000000</td>\n      <td>98135.000000</td>\n      <td>20349.000000</td>\n      <td>5431.000000</td>\n      <td>20372.000000</td>\n    </tr>\n    <tr>\n      <th>mean</th>\n      <td>-0.362254</td>\n      <td>-0.361547</td>\n      <td>-0.305963</td>\n      <td>-0.247137</td>\n      <td>-0.350586</td>\n      <td>-0.240379</td>\n    </tr>\n    <tr>\n      <th>std</th>\n      <td>0.484828</td>\n      <td>0.529031</td>\n      <td>1.287679</td>\n      <td>0.677728</td>\n      <td>0.588918</td>\n      <td>0.701478</td>\n    </tr>\n    <tr>\n      <th>min</th>\n      <td>-2.250000</td>\n      <td>-2.500000</td>\n      <td>-275.000000</td>\n      <td>-3.750000</td>\n      <td>-2.250000</td>\n      <td>-4.000000</td>\n    </tr>\n    <tr>\n      <th>25%</th>\n      <td>-0.500000</td>\n      <td>-0.750000</td>\n      <td>-0.500000</td>\n      <td>-0.500000</td>\n      <td>-0.750000</td>\n      <td>-0.500000</td>\n    </tr>\n    <tr>\n      <th>50%</th>\n      <td>-0.500000</td>\n      <td>-0.250000</td>\n      <td>-0.250000</td>\n      <td>-0.250000</td>\n      <td>-0.250000</td>\n      <td>-0.250000</td>\n    </tr>\n    <tr>\n      <th>75%</th>\n      <td>-0.250000</td>\n      <td>0.000000</td>\n      <td>0.000000</td>\n      <td>0.000000</td>\n      <td>0.000000</td>\n      <td>0.250000</td>\n    </tr>\n    <tr>\n      <th>max</th>\n      <td>2.500000</td>\n      <td>1.750000</td>\n      <td>12.500000</td>\n      <td>3.000000</td>\n      <td>9.000000</td>\n      <td>3.250000</td>\n    </tr>\n  </tbody>\n</table>\n</div>"
     },
     "execution_count": 35,
     "metadata": {},
     "output_type": "execute_result"
    }
   ],
   "source": [
    "handicap_cols = ['GBAH', 'B365AH', 'BbAHh', 'AHh', 'LBAH', 'AHCh']\n",
    "df[handicap_cols].describe()"
   ],
   "metadata": {
    "collapsed": false,
    "ExecuteTime": {
     "end_time": "2023-12-29T09:48:05.797006400Z",
     "start_time": "2023-12-29T09:48:05.720432300Z"
    }
   },
   "id": "c1843d4a1fd6dc8d"
  },
  {
   "cell_type": "code",
   "execution_count": 36,
   "outputs": [
    {
     "name": "stdout",
     "output_type": "stream",
     "text": [
      "number of invalid rows left:  0\n",
      "number of invalid rows left:  0\n",
      "number of invalid rows left:  0\n",
      "number of invalid rows left:  0\n",
      "number of invalid rows left:  0\n",
      "number of invalid rows left:  0\n"
     ]
    }
   ],
   "source": [
    "# handicaps are usually counted in quarters (ending with .0, .25, .50, .75)\n",
    "for col in handicap_cols:\n",
    "    df = df[(df[col] % 0.25 == 0) | df[col].isna()] # drop rows with numeric value indivisible by 0.25\n",
    "for i in handicap_cols:\n",
    "    print(\n",
    "        \"number of invalid rows left: \", # difference between # of all rows and validated rows\n",
    "        len(df[i]) - len(df[((df[i] % 0.25 == 0) | (df[i].isna()))])\n",
    "    )"
   ],
   "metadata": {
    "collapsed": false,
    "ExecuteTime": {
     "end_time": "2023-12-29T09:48:06.441149900Z",
     "start_time": "2023-12-29T09:48:05.784994600Z"
    }
   },
   "id": "bc46b39a04c4c8c9"
  },
  {
   "cell_type": "markdown",
   "source": [
    "Betting odds validation (betting odds are positive)"
   ],
   "metadata": {
    "collapsed": false
   },
   "id": "bb399d7b28eaae5e"
  },
  {
   "cell_type": "code",
   "execution_count": 37,
   "outputs": [
    {
     "data": {
      "text/plain": "                GBH           GBD           GBA            IWH            IWD  \\\ncount  87396.000000  87450.000000  87434.000000  149666.000000  149670.000000   \nmean       2.275595      3.381706      3.951696       2.336044       3.382599   \nstd        1.040873      0.614211      2.196840       1.155709       0.713646   \nmin        1.030000      1.250000      1.030000       1.010000       1.500000   \n25%        1.730000      3.100000      2.650000       1.750000       3.050000   \n50%        2.100000      3.250000      3.350000       2.100000       3.200000   \n75%        2.450000      3.450000      4.500000       2.500000       3.450000   \nmax       24.000000     11.000000     34.000000      30.000000      16.000000   \n\n                 IWA           SBH           SBD           SBA            WHH  \\\ncount  149704.000000  78434.000000  78449.000000  78435.000000  147547.000000   \nmean        3.753729      2.266286      3.385494      3.950441       2.398721   \nstd         2.251666      1.048682      0.597253      2.235655       1.301685   \nmin         1.030000      1.020000      1.200000      1.020000       1.010000   \n25%         2.550000      1.727000      3.200000      2.620000       1.750000   \n50%         3.200000      2.100000      3.250000      3.300000       2.150000   \n75%         4.200000      2.450000      3.400000      4.500000       2.600000   \nmax        70.000000     26.000000     13.000000     34.000000      34.000000   \n\n       ...      AvgC<2.5          AHCh      B365CAHH      B365CAHA  \\\ncount  ...  20388.000000  20372.000000  20339.000000  20339.000000   \nmean   ...      1.936409      0.542755      1.932716      1.939396   \nstd    ...      0.426543      0.505232      0.107209      0.102312   \nmin    ...      1.270000      0.000000      1.500000      1.180000   \n25%    ...      1.660000      0.250000      1.850000      1.860000   \n50%    ...      1.840000      0.500000      1.930000      1.950000   \n75%    ...      2.110000      0.750000      2.020000      2.020000   \nmax    ...      6.940000      4.000000      4.650000      2.500000   \n\n              PCAHH         PCAHA       MaxCAHH       MaxCAHA       AvgCAHH  \\\ncount  20350.000000  20351.000000  20385.000000  20388.000000  20388.000000   \nmean       1.950378      1.956981      2.003507      2.009304      1.921799   \nstd        0.107012      0.104769      0.107966      0.108040      0.099081   \nmin        1.590000      1.200000      1.680000      1.200000      1.600000   \n25%        1.870000      1.880000      1.920000      1.930000      1.840000   \n50%        1.950000      1.950000      2.000000      2.000000      1.920000   \n75%        2.030000      2.040000      2.080000      2.090000      2.000000   \nmax        5.080000      2.460000      5.500000      2.700000      4.900000   \n\n            AvgCAHA  \ncount  20368.000000  \nmean       1.925635  \nstd        0.095585  \nmin        1.180000  \n25%        1.850000  \n50%        1.920000  \n75%        2.000000  \nmax        2.360000  \n\n[8 rows x 50 columns]",
      "text/html": "<div>\n<style scoped>\n    .dataframe tbody tr th:only-of-type {\n        vertical-align: middle;\n    }\n\n    .dataframe tbody tr th {\n        vertical-align: top;\n    }\n\n    .dataframe thead th {\n        text-align: right;\n    }\n</style>\n<table border=\"1\" class=\"dataframe\">\n  <thead>\n    <tr style=\"text-align: right;\">\n      <th></th>\n      <th>GBH</th>\n      <th>GBD</th>\n      <th>GBA</th>\n      <th>IWH</th>\n      <th>IWD</th>\n      <th>IWA</th>\n      <th>SBH</th>\n      <th>SBD</th>\n      <th>SBA</th>\n      <th>WHH</th>\n      <th>...</th>\n      <th>AvgC&lt;2.5</th>\n      <th>AHCh</th>\n      <th>B365CAHH</th>\n      <th>B365CAHA</th>\n      <th>PCAHH</th>\n      <th>PCAHA</th>\n      <th>MaxCAHH</th>\n      <th>MaxCAHA</th>\n      <th>AvgCAHH</th>\n      <th>AvgCAHA</th>\n    </tr>\n  </thead>\n  <tbody>\n    <tr>\n      <th>count</th>\n      <td>87396.000000</td>\n      <td>87450.000000</td>\n      <td>87434.000000</td>\n      <td>149666.000000</td>\n      <td>149670.000000</td>\n      <td>149704.000000</td>\n      <td>78434.000000</td>\n      <td>78449.000000</td>\n      <td>78435.000000</td>\n      <td>147547.000000</td>\n      <td>...</td>\n      <td>20388.000000</td>\n      <td>20372.000000</td>\n      <td>20339.000000</td>\n      <td>20339.000000</td>\n      <td>20350.000000</td>\n      <td>20351.000000</td>\n      <td>20385.000000</td>\n      <td>20388.000000</td>\n      <td>20388.000000</td>\n      <td>20368.000000</td>\n    </tr>\n    <tr>\n      <th>mean</th>\n      <td>2.275595</td>\n      <td>3.381706</td>\n      <td>3.951696</td>\n      <td>2.336044</td>\n      <td>3.382599</td>\n      <td>3.753729</td>\n      <td>2.266286</td>\n      <td>3.385494</td>\n      <td>3.950441</td>\n      <td>2.398721</td>\n      <td>...</td>\n      <td>1.936409</td>\n      <td>0.542755</td>\n      <td>1.932716</td>\n      <td>1.939396</td>\n      <td>1.950378</td>\n      <td>1.956981</td>\n      <td>2.003507</td>\n      <td>2.009304</td>\n      <td>1.921799</td>\n      <td>1.925635</td>\n    </tr>\n    <tr>\n      <th>std</th>\n      <td>1.040873</td>\n      <td>0.614211</td>\n      <td>2.196840</td>\n      <td>1.155709</td>\n      <td>0.713646</td>\n      <td>2.251666</td>\n      <td>1.048682</td>\n      <td>0.597253</td>\n      <td>2.235655</td>\n      <td>1.301685</td>\n      <td>...</td>\n      <td>0.426543</td>\n      <td>0.505232</td>\n      <td>0.107209</td>\n      <td>0.102312</td>\n      <td>0.107012</td>\n      <td>0.104769</td>\n      <td>0.107966</td>\n      <td>0.108040</td>\n      <td>0.099081</td>\n      <td>0.095585</td>\n    </tr>\n    <tr>\n      <th>min</th>\n      <td>1.030000</td>\n      <td>1.250000</td>\n      <td>1.030000</td>\n      <td>1.010000</td>\n      <td>1.500000</td>\n      <td>1.030000</td>\n      <td>1.020000</td>\n      <td>1.200000</td>\n      <td>1.020000</td>\n      <td>1.010000</td>\n      <td>...</td>\n      <td>1.270000</td>\n      <td>0.000000</td>\n      <td>1.500000</td>\n      <td>1.180000</td>\n      <td>1.590000</td>\n      <td>1.200000</td>\n      <td>1.680000</td>\n      <td>1.200000</td>\n      <td>1.600000</td>\n      <td>1.180000</td>\n    </tr>\n    <tr>\n      <th>25%</th>\n      <td>1.730000</td>\n      <td>3.100000</td>\n      <td>2.650000</td>\n      <td>1.750000</td>\n      <td>3.050000</td>\n      <td>2.550000</td>\n      <td>1.727000</td>\n      <td>3.200000</td>\n      <td>2.620000</td>\n      <td>1.750000</td>\n      <td>...</td>\n      <td>1.660000</td>\n      <td>0.250000</td>\n      <td>1.850000</td>\n      <td>1.860000</td>\n      <td>1.870000</td>\n      <td>1.880000</td>\n      <td>1.920000</td>\n      <td>1.930000</td>\n      <td>1.840000</td>\n      <td>1.850000</td>\n    </tr>\n    <tr>\n      <th>50%</th>\n      <td>2.100000</td>\n      <td>3.250000</td>\n      <td>3.350000</td>\n      <td>2.100000</td>\n      <td>3.200000</td>\n      <td>3.200000</td>\n      <td>2.100000</td>\n      <td>3.250000</td>\n      <td>3.300000</td>\n      <td>2.150000</td>\n      <td>...</td>\n      <td>1.840000</td>\n      <td>0.500000</td>\n      <td>1.930000</td>\n      <td>1.950000</td>\n      <td>1.950000</td>\n      <td>1.950000</td>\n      <td>2.000000</td>\n      <td>2.000000</td>\n      <td>1.920000</td>\n      <td>1.920000</td>\n    </tr>\n    <tr>\n      <th>75%</th>\n      <td>2.450000</td>\n      <td>3.450000</td>\n      <td>4.500000</td>\n      <td>2.500000</td>\n      <td>3.450000</td>\n      <td>4.200000</td>\n      <td>2.450000</td>\n      <td>3.400000</td>\n      <td>4.500000</td>\n      <td>2.600000</td>\n      <td>...</td>\n      <td>2.110000</td>\n      <td>0.750000</td>\n      <td>2.020000</td>\n      <td>2.020000</td>\n      <td>2.030000</td>\n      <td>2.040000</td>\n      <td>2.080000</td>\n      <td>2.090000</td>\n      <td>2.000000</td>\n      <td>2.000000</td>\n    </tr>\n    <tr>\n      <th>max</th>\n      <td>24.000000</td>\n      <td>11.000000</td>\n      <td>34.000000</td>\n      <td>30.000000</td>\n      <td>16.000000</td>\n      <td>70.000000</td>\n      <td>26.000000</td>\n      <td>13.000000</td>\n      <td>34.000000</td>\n      <td>34.000000</td>\n      <td>...</td>\n      <td>6.940000</td>\n      <td>4.000000</td>\n      <td>4.650000</td>\n      <td>2.500000</td>\n      <td>5.080000</td>\n      <td>2.460000</td>\n      <td>5.500000</td>\n      <td>2.700000</td>\n      <td>4.900000</td>\n      <td>2.360000</td>\n    </tr>\n  </tbody>\n</table>\n<p>8 rows × 50 columns</p>\n</div>"
     },
     "execution_count": 37,
     "metadata": {},
     "output_type": "execute_result"
    }
   ],
   "source": [
    "odds_cols = ['GBH', 'GBD', 'GBA', 'IWH', 'IWD', 'IWA', 'SBH', 'SBD', 'SBA', 'WHH', 'WHD', 'WHA', 'B365CH', 'B365CD', 'B365CA', 'BWCH', 'BWCD', 'BWCA', 'IWCH', 'IWCD', 'IWCA', 'WHCH', 'WHCD', 'WHCA', 'VCCH', 'VCCD', 'VCCA', 'MaxCH', 'MaxCD', 'MaxCA', 'AvgCH','AvgCD', 'AvgCA', 'B365C>2.5', 'B365C<2.5', 'PC>2.5', 'PC<2.5', 'MaxC>2.5', 'MaxC<2.5', 'AvgC>2.5', 'AvgC<2.5', 'AHCh', 'B365CAHH', 'B365CAHA', 'PCAHH', 'PCAHA', 'MaxCAHH', 'MaxCAHA', 'AvgCAHH', 'AvgCAHA']\n",
    "df[odds_cols] = abs(df[odds_cols])\n",
    "df[odds_cols].describe()"
   ],
   "metadata": {
    "collapsed": false,
    "ExecuteTime": {
     "end_time": "2023-12-29T09:48:06.830015500Z",
     "start_time": "2023-12-29T09:48:06.420625900Z"
    }
   },
   "id": "b5a8ae1dff1c7d6c"
  },
  {
   "cell_type": "markdown",
   "id": "a9ec006d07aaf9ed",
   "metadata": {
    "collapsed": false
   },
   "source": [
    "Drop all completely empty columns and rows which there is a lot of, dropped 41 empty columns in total."
   ]
  },
  {
   "cell_type": "code",
   "execution_count": 38,
   "id": "a8f0e94069f87e82",
   "metadata": {
    "collapsed": false,
    "ExecuteTime": {
     "end_time": "2023-12-29T09:48:06.986167800Z",
     "start_time": "2023-12-29T09:48:06.831017100Z"
    }
   },
   "outputs": [],
   "source": [
    "df.dropna(how='all', axis=1, inplace=True)"
   ]
  },
  {
   "cell_type": "code",
   "execution_count": 39,
   "id": "ff1c67e0d03c41e8",
   "metadata": {
    "collapsed": false,
    "ExecuteTime": {
     "end_time": "2023-12-29T09:48:07.000181500Z",
     "start_time": "2023-12-29T09:48:06.986167800Z"
    }
   },
   "outputs": [
    {
     "data": {
      "text/plain": "(153794, 174)"
     },
     "execution_count": 39,
     "metadata": {},
     "output_type": "execute_result"
    }
   ],
   "source": [
    "df.shape"
   ]
  },
  {
   "cell_type": "markdown",
   "id": "2f822ca43aff7d4d",
   "metadata": {
    "collapsed": false
   },
   "source": [
    "# Data Exploration\n",
    "\n",
    "Total overview of all variables."
   ]
  },
  {
   "cell_type": "code",
   "execution_count": 40,
   "id": "a76d2dc275b79d0c",
   "metadata": {
    "collapsed": false,
    "ExecuteTime": {
     "end_time": "2023-12-29T09:48:07.999894100Z",
     "start_time": "2023-12-29T09:48:07.002183100Z"
    }
   },
   "outputs": [
    {
     "data": {
      "text/plain": "          Unnamed: 0                           Date           FTHG  \\\ncount  153794.000000                         153794  153794.000000   \nmean      187.971832  2011-06-25 14:49:59.867355136       1.485565   \nmin         0.000000            2000-07-28 00:00:00       0.000000   \n25%        85.000000            2005-12-31 00:00:00       1.000000   \n50%       169.000000            2011-05-14 00:00:00       1.000000   \n75%       272.000000            2016-12-10 00:00:00       2.000000   \nmax       542.000000            2022-05-29 00:00:00      10.000000   \nstd       126.492272                            NaN       1.253213   \n\n                FTAG           HTHG           HTAG           GBH  \\\ncount  153794.000000  153794.000000  153794.000000  87396.000000   \nmean        1.133640       0.655383       0.494434      2.275595   \nmin         0.000000       0.000000       0.000000      1.030000   \n25%         0.000000       0.000000       0.000000      1.730000   \n50%         1.000000       0.000000       0.000000      2.100000   \n75%         2.000000       1.000000       1.000000      2.450000   \nmax         9.000000       7.000000       6.000000     24.000000   \nstd         1.106673       0.809099       0.708481      1.040873   \n\n                GBD           GBA            IWH  ...          SOA  \\\ncount  87450.000000  87434.000000  149666.000000  ...  6580.000000   \nmean       3.381706      3.951696       2.336044  ...     3.832853   \nmin        1.250000      1.030000       1.010000  ...     1.140000   \n25%        3.100000      2.650000       1.750000  ...     2.620000   \n50%        3.250000      3.350000       2.100000  ...     3.250000   \n75%        3.450000      4.500000       2.500000  ...     4.500000   \nmax       11.000000     34.000000      30.000000  ...    21.000000   \nstd        0.614211      2.196840       1.155709  ...     2.077070   \n\n             LBAHH        LBAHA         LBAH  Avg_away_odds  Avg_home_odds  \\\ncount  5421.000000  5421.000000  5409.000000  153240.000000  153239.000000   \nmean      1.919170     1.924853    -0.360094       3.996828       2.399149   \nmin       1.250000    -0.500000    -2.250000       1.040000       1.010000   \n25%       1.840000     1.840000    -0.750000       2.614286       1.755556   \n50%       1.920000     1.920000    -0.250000       3.314000       2.125000   \n75%       2.000000     2.000000     0.000000       4.456000       2.566667   \nmax       3.400000     4.000000     9.000000      68.000000      32.333333   \nstd       0.109095     0.122329     0.570447       2.607185       1.296607   \n\n       Avg_draw_odds  Var_away_odds  Var_home_odds  Var_draw_odds  \ncount  153239.000000  152458.000000  152457.000000  152457.000000  \nmean        3.504585       0.297410       0.039884       0.034593  \nmin         1.250000       0.000000       0.000000       0.000000  \n25%         3.171429       0.006417       0.001337       0.006111  \n50%         3.306667       0.024167       0.003361       0.011293  \n75%         3.550000       0.087962       0.009057       0.022229  \nmax        19.214286     468.000000     140.333333      42.154762  \nstd         0.800566       3.018376       0.560992       0.249901  \n\n[8 rows x 164 columns]",
      "text/html": "<div>\n<style scoped>\n    .dataframe tbody tr th:only-of-type {\n        vertical-align: middle;\n    }\n\n    .dataframe tbody tr th {\n        vertical-align: top;\n    }\n\n    .dataframe thead th {\n        text-align: right;\n    }\n</style>\n<table border=\"1\" class=\"dataframe\">\n  <thead>\n    <tr style=\"text-align: right;\">\n      <th></th>\n      <th>Unnamed: 0</th>\n      <th>Date</th>\n      <th>FTHG</th>\n      <th>FTAG</th>\n      <th>HTHG</th>\n      <th>HTAG</th>\n      <th>GBH</th>\n      <th>GBD</th>\n      <th>GBA</th>\n      <th>IWH</th>\n      <th>...</th>\n      <th>SOA</th>\n      <th>LBAHH</th>\n      <th>LBAHA</th>\n      <th>LBAH</th>\n      <th>Avg_away_odds</th>\n      <th>Avg_home_odds</th>\n      <th>Avg_draw_odds</th>\n      <th>Var_away_odds</th>\n      <th>Var_home_odds</th>\n      <th>Var_draw_odds</th>\n    </tr>\n  </thead>\n  <tbody>\n    <tr>\n      <th>count</th>\n      <td>153794.000000</td>\n      <td>153794</td>\n      <td>153794.000000</td>\n      <td>153794.000000</td>\n      <td>153794.000000</td>\n      <td>153794.000000</td>\n      <td>87396.000000</td>\n      <td>87450.000000</td>\n      <td>87434.000000</td>\n      <td>149666.000000</td>\n      <td>...</td>\n      <td>6580.000000</td>\n      <td>5421.000000</td>\n      <td>5421.000000</td>\n      <td>5409.000000</td>\n      <td>153240.000000</td>\n      <td>153239.000000</td>\n      <td>153239.000000</td>\n      <td>152458.000000</td>\n      <td>152457.000000</td>\n      <td>152457.000000</td>\n    </tr>\n    <tr>\n      <th>mean</th>\n      <td>187.971832</td>\n      <td>2011-06-25 14:49:59.867355136</td>\n      <td>1.485565</td>\n      <td>1.133640</td>\n      <td>0.655383</td>\n      <td>0.494434</td>\n      <td>2.275595</td>\n      <td>3.381706</td>\n      <td>3.951696</td>\n      <td>2.336044</td>\n      <td>...</td>\n      <td>3.832853</td>\n      <td>1.919170</td>\n      <td>1.924853</td>\n      <td>-0.360094</td>\n      <td>3.996828</td>\n      <td>2.399149</td>\n      <td>3.504585</td>\n      <td>0.297410</td>\n      <td>0.039884</td>\n      <td>0.034593</td>\n    </tr>\n    <tr>\n      <th>min</th>\n      <td>0.000000</td>\n      <td>2000-07-28 00:00:00</td>\n      <td>0.000000</td>\n      <td>0.000000</td>\n      <td>0.000000</td>\n      <td>0.000000</td>\n      <td>1.030000</td>\n      <td>1.250000</td>\n      <td>1.030000</td>\n      <td>1.010000</td>\n      <td>...</td>\n      <td>1.140000</td>\n      <td>1.250000</td>\n      <td>-0.500000</td>\n      <td>-2.250000</td>\n      <td>1.040000</td>\n      <td>1.010000</td>\n      <td>1.250000</td>\n      <td>0.000000</td>\n      <td>0.000000</td>\n      <td>0.000000</td>\n    </tr>\n    <tr>\n      <th>25%</th>\n      <td>85.000000</td>\n      <td>2005-12-31 00:00:00</td>\n      <td>1.000000</td>\n      <td>0.000000</td>\n      <td>0.000000</td>\n      <td>0.000000</td>\n      <td>1.730000</td>\n      <td>3.100000</td>\n      <td>2.650000</td>\n      <td>1.750000</td>\n      <td>...</td>\n      <td>2.620000</td>\n      <td>1.840000</td>\n      <td>1.840000</td>\n      <td>-0.750000</td>\n      <td>2.614286</td>\n      <td>1.755556</td>\n      <td>3.171429</td>\n      <td>0.006417</td>\n      <td>0.001337</td>\n      <td>0.006111</td>\n    </tr>\n    <tr>\n      <th>50%</th>\n      <td>169.000000</td>\n      <td>2011-05-14 00:00:00</td>\n      <td>1.000000</td>\n      <td>1.000000</td>\n      <td>0.000000</td>\n      <td>0.000000</td>\n      <td>2.100000</td>\n      <td>3.250000</td>\n      <td>3.350000</td>\n      <td>2.100000</td>\n      <td>...</td>\n      <td>3.250000</td>\n      <td>1.920000</td>\n      <td>1.920000</td>\n      <td>-0.250000</td>\n      <td>3.314000</td>\n      <td>2.125000</td>\n      <td>3.306667</td>\n      <td>0.024167</td>\n      <td>0.003361</td>\n      <td>0.011293</td>\n    </tr>\n    <tr>\n      <th>75%</th>\n      <td>272.000000</td>\n      <td>2016-12-10 00:00:00</td>\n      <td>2.000000</td>\n      <td>2.000000</td>\n      <td>1.000000</td>\n      <td>1.000000</td>\n      <td>2.450000</td>\n      <td>3.450000</td>\n      <td>4.500000</td>\n      <td>2.500000</td>\n      <td>...</td>\n      <td>4.500000</td>\n      <td>2.000000</td>\n      <td>2.000000</td>\n      <td>0.000000</td>\n      <td>4.456000</td>\n      <td>2.566667</td>\n      <td>3.550000</td>\n      <td>0.087962</td>\n      <td>0.009057</td>\n      <td>0.022229</td>\n    </tr>\n    <tr>\n      <th>max</th>\n      <td>542.000000</td>\n      <td>2022-05-29 00:00:00</td>\n      <td>10.000000</td>\n      <td>9.000000</td>\n      <td>7.000000</td>\n      <td>6.000000</td>\n      <td>24.000000</td>\n      <td>11.000000</td>\n      <td>34.000000</td>\n      <td>30.000000</td>\n      <td>...</td>\n      <td>21.000000</td>\n      <td>3.400000</td>\n      <td>4.000000</td>\n      <td>9.000000</td>\n      <td>68.000000</td>\n      <td>32.333333</td>\n      <td>19.214286</td>\n      <td>468.000000</td>\n      <td>140.333333</td>\n      <td>42.154762</td>\n    </tr>\n    <tr>\n      <th>std</th>\n      <td>126.492272</td>\n      <td>NaN</td>\n      <td>1.253213</td>\n      <td>1.106673</td>\n      <td>0.809099</td>\n      <td>0.708481</td>\n      <td>1.040873</td>\n      <td>0.614211</td>\n      <td>2.196840</td>\n      <td>1.155709</td>\n      <td>...</td>\n      <td>2.077070</td>\n      <td>0.109095</td>\n      <td>0.122329</td>\n      <td>0.570447</td>\n      <td>2.607185</td>\n      <td>1.296607</td>\n      <td>0.800566</td>\n      <td>3.018376</td>\n      <td>0.560992</td>\n      <td>0.249901</td>\n    </tr>\n  </tbody>\n</table>\n<p>8 rows × 164 columns</p>\n</div>"
     },
     "execution_count": 40,
     "metadata": {},
     "output_type": "execute_result"
    }
   ],
   "source": [
    "df.describe()"
   ]
  },
  {
   "cell_type": "markdown",
   "id": "34b17fe2",
   "metadata": {},
   "source": [
    "Percentage of missing values."
   ]
  },
  {
   "cell_type": "code",
   "execution_count": 41,
   "id": "dbd0ff92d61fb66f",
   "metadata": {
    "collapsed": false,
    "ExecuteTime": {
     "end_time": "2023-12-29T09:48:08.116502Z",
     "start_time": "2023-12-29T09:48:08.001895400Z"
    }
   },
   "outputs": [
    {
     "data": {
      "text/plain": "HFKC          0.991560\nAFKC          0.991560\nLBAH          0.964830\nLBAHA         0.964752\nLBAHH         0.964752\nSYD           0.964732\nSYH           0.964693\nSYA           0.964693\nAO            0.957976\nHHW           0.957937\nAHW           0.957859\nHO            0.957853\nSOH           0.957313\nSOD           0.957222\nSOA           0.957215\nABP           0.956851\nAttendance    0.956838\nHBP           0.956767\nB365AH        0.955850\nGBAHA         0.925049\ndtype: float64"
     },
     "execution_count": 41,
     "metadata": {},
     "output_type": "execute_result"
    }
   ],
   "source": [
    "na_vals = df.isna().sum()\n",
    "na_vals = na_vals/df.shape[0]\n",
    "na_vals.sort_values(ascending = False).head(20)"
   ]
  },
  {
   "cell_type": "code",
   "execution_count": 42,
   "metadata": {
    "ExecuteTime": {
     "end_time": "2023-12-29T09:48:08.392781800Z",
     "start_time": "2023-12-29T09:48:08.061451400Z"
    }
   },
   "outputs": [
    {
     "data": {
      "text/plain": "      Variable First Occurrence Last Occurrence  Missing within\n27         SYD       2002-05-05      2001-08-25          141992\n26         SYH       2002-05-05      2001-08-25          141986\n28         SYA       2002-05-05      2001-08-25          141986\n35       GBAHA       2004-04-03      2004-10-24          136199\n36        GBAH       2004-04-03      2004-10-24          136197\n..         ...              ...             ...             ...\n9         HTAG       2001-05-20      2022-05-15               0\n10         HTR       2001-05-20      2022-05-15               0\n23      league       2001-05-20      2022-05-15               0\n24     country       2001-05-20      2022-05-15               0\n0   Unnamed: 0       2001-05-20      2022-05-15               0\n\n[174 rows x 4 columns]",
      "text/html": "<div>\n<style scoped>\n    .dataframe tbody tr th:only-of-type {\n        vertical-align: middle;\n    }\n\n    .dataframe tbody tr th {\n        vertical-align: top;\n    }\n\n    .dataframe thead th {\n        text-align: right;\n    }\n</style>\n<table border=\"1\" class=\"dataframe\">\n  <thead>\n    <tr style=\"text-align: right;\">\n      <th></th>\n      <th>Variable</th>\n      <th>First Occurrence</th>\n      <th>Last Occurrence</th>\n      <th>Missing within</th>\n    </tr>\n  </thead>\n  <tbody>\n    <tr>\n      <th>27</th>\n      <td>SYD</td>\n      <td>2002-05-05</td>\n      <td>2001-08-25</td>\n      <td>141992</td>\n    </tr>\n    <tr>\n      <th>26</th>\n      <td>SYH</td>\n      <td>2002-05-05</td>\n      <td>2001-08-25</td>\n      <td>141986</td>\n    </tr>\n    <tr>\n      <th>28</th>\n      <td>SYA</td>\n      <td>2002-05-05</td>\n      <td>2001-08-25</td>\n      <td>141986</td>\n    </tr>\n    <tr>\n      <th>35</th>\n      <td>GBAHA</td>\n      <td>2004-04-03</td>\n      <td>2004-10-24</td>\n      <td>136199</td>\n    </tr>\n    <tr>\n      <th>36</th>\n      <td>GBAH</td>\n      <td>2004-04-03</td>\n      <td>2004-10-24</td>\n      <td>136197</td>\n    </tr>\n    <tr>\n      <th>...</th>\n      <td>...</td>\n      <td>...</td>\n      <td>...</td>\n      <td>...</td>\n    </tr>\n    <tr>\n      <th>9</th>\n      <td>HTAG</td>\n      <td>2001-05-20</td>\n      <td>2022-05-15</td>\n      <td>0</td>\n    </tr>\n    <tr>\n      <th>10</th>\n      <td>HTR</td>\n      <td>2001-05-20</td>\n      <td>2022-05-15</td>\n      <td>0</td>\n    </tr>\n    <tr>\n      <th>23</th>\n      <td>league</td>\n      <td>2001-05-20</td>\n      <td>2022-05-15</td>\n      <td>0</td>\n    </tr>\n    <tr>\n      <th>24</th>\n      <td>country</td>\n      <td>2001-05-20</td>\n      <td>2022-05-15</td>\n      <td>0</td>\n    </tr>\n    <tr>\n      <th>0</th>\n      <td>Unnamed: 0</td>\n      <td>2001-05-20</td>\n      <td>2022-05-15</td>\n      <td>0</td>\n    </tr>\n  </tbody>\n</table>\n<p>174 rows × 4 columns</p>\n</div>"
     },
     "execution_count": 42,
     "metadata": {},
     "output_type": "execute_result"
    }
   ],
   "source": [
    "df = df.reset_index(drop = True)\n",
    "\n",
    "# Get first and last occurrences\n",
    "first_occurrences = df.apply(lambda x: x.first_valid_index())\n",
    "last_occurrences = df.apply(lambda x: x.last_valid_index())\n",
    "\n",
    "missing_counts = {}\n",
    "\n",
    "for column in df.columns:\n",
    "    # Indexes of the first and last occurrences\n",
    "    first_idx = df[column].first_valid_index()\n",
    "    last_idx = df[column].last_valid_index()\n",
    "\n",
    "    # Select the range between first and last occurrence, count missing values\n",
    "    missing_count = df[column][first_idx:last_idx].isnull().sum()\n",
    "    missing_counts[column] = missing_count\n",
    "\n",
    "result_df = pd.DataFrame({\n",
    "    'Variable':          df.columns,\n",
    "    'First Occurrence':  df[\"Date\"].to_numpy()[first_occurrences.values],\n",
    "    'Last Occurrence':   df[\"Date\"].to_numpy()[last_occurrences.values],\n",
    "    \"Missing within\": missing_counts.values()\n",
    "})\n",
    "\n",
    "result_df.sort_values(by=\"Missing within\", ascending=False)"
   ],
   "id": "50b764f244678fc2"
  },
  {
   "cell_type": "markdown",
   "source": [
    "# Feature Engineering\n",
    "We decided to add several features to the dataset.\n",
    "These features are:\n",
    "- Result of the last match between the two contending teams\n",
    "- Goal score during the last match between the two contending teams\n",
    "- Average amount of goals scored in the current season\n",
    "- Average amount of goals received in the current season\n",
    "\n",
    "We believe that these features will prove useful in the training of our model as they can reveal things such as momentum and strenghts/weaknesses against certain teams."
   ],
   "metadata": {
    "collapsed": false
   },
   "id": "30bec80d7d965594"
  },
  {
   "cell_type": "markdown",
   "source": [
    "### Result of the last match between the two contending teams"
   ],
   "metadata": {
    "collapsed": false
   },
   "id": "731c6074219fca63"
  },
  {
   "cell_type": "markdown",
   "source": [
    "Create a string of participating teams, append them alphabetically behind each other so it is easier to slice them."
   ],
   "metadata": {
    "collapsed": false
   },
   "id": "eb136876c01030c7"
  },
  {
   "cell_type": "code",
   "execution_count": 43,
   "outputs": [],
   "source": [
    "df[\"Index\"] = df.index\n",
    "df[\"MatchTeams\"] = df[[\"HomeTeam\",\"AwayTeam\"]].values.tolist()\n",
    "df[\"MatchTeams\"] = df[\"MatchTeams\"].sort_values().apply(lambda x: sorted(x))"
   ],
   "metadata": {
    "collapsed": false,
    "ExecuteTime": {
     "end_time": "2023-12-29T09:48:08.834807500Z",
     "start_time": "2023-12-29T09:48:08.393783100Z"
    }
   },
   "id": "90d9139991f1075a"
  },
  {
   "cell_type": "code",
   "execution_count": 44,
   "outputs": [],
   "source": [
    "df = df.assign(MatchTeams=df[\"MatchTeams\"].apply(lambda l: \"_\".join(l)))"
   ],
   "metadata": {
    "collapsed": false,
    "ExecuteTime": {
     "end_time": "2023-12-29T09:48:08.928554Z",
     "start_time": "2023-12-29T09:48:08.835808300Z"
    }
   },
   "id": "cca557999ee1cea"
  },
  {
   "cell_type": "code",
   "execution_count": 45,
   "outputs": [
    {
     "data": {
      "text/plain": "        Unnamed: 0  Div       Date      HomeTeam      AwayTeam  FTHG  FTAG  \\\n148292         NaN  NaN        NaT           NaN           NaN   NaN   NaN   \n148145       284.0   T1 2003-11-08     Adanaspor  A. Sebatspor   1.0   2.0   \n148121         NaN  NaN        NaT           NaN           NaN   NaN   NaN   \n148140       112.0   T1 2003-12-21    Ankaragucu  A. Sebatspor   1.0   1.0   \n148443       131.0   T1 2004-05-15  A. Sebatspor    Ankaragucu   3.0   2.0   \n...            ...  ...        ...           ...           ...   ...   ...   \n132676       112.0  SP1 2010-01-17      Zaragoza         Xerez   0.0   0.0   \n39369          NaN  NaN        NaT           NaN           NaN   NaN   NaN   \n39155        367.0   E3 2003-09-13        Yeovil          York   3.0   0.0   \n45566        153.0   E3 2004-04-20          York        Yeovil   1.0   2.0   \n45621        125.0   E3 2015-08-18          York        Yeovil   1.0   0.0   \n\n        FTR  HTHG  HTAG  ... LBAHA  LBAH  Avg_away_odds  Avg_home_odds  \\\n148292  NaN   NaN   NaN  ...   NaN   NaN            NaN            NaN   \n148145    A   0.0   1.0  ...   NaN   NaN       3.341667       1.881500   \n148121  NaN   NaN   NaN  ...   NaN   NaN            NaN            NaN   \n148140    D   1.0   0.0  ...   NaN   NaN       4.302167       1.644000   \n148443    H   3.0   2.0  ...   NaN   NaN       6.950000       1.305000   \n...     ...   ...   ...  ...   ...   ...            ...            ...   \n132676    D   0.0   0.0  ...   NaN   NaN       5.390000       1.616000   \n39369   NaN   NaN   NaN  ...   NaN   NaN            NaN            NaN   \n39155     H   2.0   0.0  ...   NaN   NaN       3.464286       1.892714   \n45566     A   1.0   0.0  ...   NaN   NaN       2.200000       2.728333   \n45621     H   0.0   0.0  ...   NaN   NaN       4.087143       1.934286   \n\n        Avg_draw_odds  Avg_bookie_prediction  Var_away_odds  Var_home_odds  \\\n148292            NaN                    NaN            NaN            NaN   \n148145       3.358333                      H       0.044417       0.005085   \n148121            NaN                    NaN            NaN            NaN   \n148140       3.441667                      H       0.028892       0.000972   \n148443       4.507500                      H       0.176667       0.000300   \n...               ...                    ...            ...            ...   \n132676       3.570000                      H       0.207111       0.001893   \n39369             NaN                    NaN            NaN            NaN   \n39155        3.235714                      H       0.060595       0.000785   \n45566        3.375000                      A       0.007000       0.003817   \n45621        3.360000                      H       0.168324       0.000462   \n\n        Var_draw_odds     Index  \n148292            NaN       NaN  \n148145       0.008417  148292.0  \n148121            NaN       NaN  \n148140       0.010417  148121.0  \n148443       0.022892  148140.0  \n...               ...       ...  \n132676       0.002333  132540.0  \n39369             NaN       NaN  \n39155        0.003929   39369.0  \n45566        0.015750   39155.0  \n45621        0.019367   45566.0  \n\n[153794 rows x 175 columns]",
      "text/html": "<div>\n<style scoped>\n    .dataframe tbody tr th:only-of-type {\n        vertical-align: middle;\n    }\n\n    .dataframe tbody tr th {\n        vertical-align: top;\n    }\n\n    .dataframe thead th {\n        text-align: right;\n    }\n</style>\n<table border=\"1\" class=\"dataframe\">\n  <thead>\n    <tr style=\"text-align: right;\">\n      <th></th>\n      <th>Unnamed: 0</th>\n      <th>Div</th>\n      <th>Date</th>\n      <th>HomeTeam</th>\n      <th>AwayTeam</th>\n      <th>FTHG</th>\n      <th>FTAG</th>\n      <th>FTR</th>\n      <th>HTHG</th>\n      <th>HTAG</th>\n      <th>...</th>\n      <th>LBAHA</th>\n      <th>LBAH</th>\n      <th>Avg_away_odds</th>\n      <th>Avg_home_odds</th>\n      <th>Avg_draw_odds</th>\n      <th>Avg_bookie_prediction</th>\n      <th>Var_away_odds</th>\n      <th>Var_home_odds</th>\n      <th>Var_draw_odds</th>\n      <th>Index</th>\n    </tr>\n  </thead>\n  <tbody>\n    <tr>\n      <th>148292</th>\n      <td>NaN</td>\n      <td>NaN</td>\n      <td>NaT</td>\n      <td>NaN</td>\n      <td>NaN</td>\n      <td>NaN</td>\n      <td>NaN</td>\n      <td>NaN</td>\n      <td>NaN</td>\n      <td>NaN</td>\n      <td>...</td>\n      <td>NaN</td>\n      <td>NaN</td>\n      <td>NaN</td>\n      <td>NaN</td>\n      <td>NaN</td>\n      <td>NaN</td>\n      <td>NaN</td>\n      <td>NaN</td>\n      <td>NaN</td>\n      <td>NaN</td>\n    </tr>\n    <tr>\n      <th>148145</th>\n      <td>284.0</td>\n      <td>T1</td>\n      <td>2003-11-08</td>\n      <td>Adanaspor</td>\n      <td>A. Sebatspor</td>\n      <td>1.0</td>\n      <td>2.0</td>\n      <td>A</td>\n      <td>0.0</td>\n      <td>1.0</td>\n      <td>...</td>\n      <td>NaN</td>\n      <td>NaN</td>\n      <td>3.341667</td>\n      <td>1.881500</td>\n      <td>3.358333</td>\n      <td>H</td>\n      <td>0.044417</td>\n      <td>0.005085</td>\n      <td>0.008417</td>\n      <td>148292.0</td>\n    </tr>\n    <tr>\n      <th>148121</th>\n      <td>NaN</td>\n      <td>NaN</td>\n      <td>NaT</td>\n      <td>NaN</td>\n      <td>NaN</td>\n      <td>NaN</td>\n      <td>NaN</td>\n      <td>NaN</td>\n      <td>NaN</td>\n      <td>NaN</td>\n      <td>...</td>\n      <td>NaN</td>\n      <td>NaN</td>\n      <td>NaN</td>\n      <td>NaN</td>\n      <td>NaN</td>\n      <td>NaN</td>\n      <td>NaN</td>\n      <td>NaN</td>\n      <td>NaN</td>\n      <td>NaN</td>\n    </tr>\n    <tr>\n      <th>148140</th>\n      <td>112.0</td>\n      <td>T1</td>\n      <td>2003-12-21</td>\n      <td>Ankaragucu</td>\n      <td>A. Sebatspor</td>\n      <td>1.0</td>\n      <td>1.0</td>\n      <td>D</td>\n      <td>1.0</td>\n      <td>0.0</td>\n      <td>...</td>\n      <td>NaN</td>\n      <td>NaN</td>\n      <td>4.302167</td>\n      <td>1.644000</td>\n      <td>3.441667</td>\n      <td>H</td>\n      <td>0.028892</td>\n      <td>0.000972</td>\n      <td>0.010417</td>\n      <td>148121.0</td>\n    </tr>\n    <tr>\n      <th>148443</th>\n      <td>131.0</td>\n      <td>T1</td>\n      <td>2004-05-15</td>\n      <td>A. Sebatspor</td>\n      <td>Ankaragucu</td>\n      <td>3.0</td>\n      <td>2.0</td>\n      <td>H</td>\n      <td>3.0</td>\n      <td>2.0</td>\n      <td>...</td>\n      <td>NaN</td>\n      <td>NaN</td>\n      <td>6.950000</td>\n      <td>1.305000</td>\n      <td>4.507500</td>\n      <td>H</td>\n      <td>0.176667</td>\n      <td>0.000300</td>\n      <td>0.022892</td>\n      <td>148140.0</td>\n    </tr>\n    <tr>\n      <th>...</th>\n      <td>...</td>\n      <td>...</td>\n      <td>...</td>\n      <td>...</td>\n      <td>...</td>\n      <td>...</td>\n      <td>...</td>\n      <td>...</td>\n      <td>...</td>\n      <td>...</td>\n      <td>...</td>\n      <td>...</td>\n      <td>...</td>\n      <td>...</td>\n      <td>...</td>\n      <td>...</td>\n      <td>...</td>\n      <td>...</td>\n      <td>...</td>\n      <td>...</td>\n      <td>...</td>\n    </tr>\n    <tr>\n      <th>132676</th>\n      <td>112.0</td>\n      <td>SP1</td>\n      <td>2010-01-17</td>\n      <td>Zaragoza</td>\n      <td>Xerez</td>\n      <td>0.0</td>\n      <td>0.0</td>\n      <td>D</td>\n      <td>0.0</td>\n      <td>0.0</td>\n      <td>...</td>\n      <td>NaN</td>\n      <td>NaN</td>\n      <td>5.390000</td>\n      <td>1.616000</td>\n      <td>3.570000</td>\n      <td>H</td>\n      <td>0.207111</td>\n      <td>0.001893</td>\n      <td>0.002333</td>\n      <td>132540.0</td>\n    </tr>\n    <tr>\n      <th>39369</th>\n      <td>NaN</td>\n      <td>NaN</td>\n      <td>NaT</td>\n      <td>NaN</td>\n      <td>NaN</td>\n      <td>NaN</td>\n      <td>NaN</td>\n      <td>NaN</td>\n      <td>NaN</td>\n      <td>NaN</td>\n      <td>...</td>\n      <td>NaN</td>\n      <td>NaN</td>\n      <td>NaN</td>\n      <td>NaN</td>\n      <td>NaN</td>\n      <td>NaN</td>\n      <td>NaN</td>\n      <td>NaN</td>\n      <td>NaN</td>\n      <td>NaN</td>\n    </tr>\n    <tr>\n      <th>39155</th>\n      <td>367.0</td>\n      <td>E3</td>\n      <td>2003-09-13</td>\n      <td>Yeovil</td>\n      <td>York</td>\n      <td>3.0</td>\n      <td>0.0</td>\n      <td>H</td>\n      <td>2.0</td>\n      <td>0.0</td>\n      <td>...</td>\n      <td>NaN</td>\n      <td>NaN</td>\n      <td>3.464286</td>\n      <td>1.892714</td>\n      <td>3.235714</td>\n      <td>H</td>\n      <td>0.060595</td>\n      <td>0.000785</td>\n      <td>0.003929</td>\n      <td>39369.0</td>\n    </tr>\n    <tr>\n      <th>45566</th>\n      <td>153.0</td>\n      <td>E3</td>\n      <td>2004-04-20</td>\n      <td>York</td>\n      <td>Yeovil</td>\n      <td>1.0</td>\n      <td>2.0</td>\n      <td>A</td>\n      <td>1.0</td>\n      <td>0.0</td>\n      <td>...</td>\n      <td>NaN</td>\n      <td>NaN</td>\n      <td>2.200000</td>\n      <td>2.728333</td>\n      <td>3.375000</td>\n      <td>A</td>\n      <td>0.007000</td>\n      <td>0.003817</td>\n      <td>0.015750</td>\n      <td>39155.0</td>\n    </tr>\n    <tr>\n      <th>45621</th>\n      <td>125.0</td>\n      <td>E3</td>\n      <td>2015-08-18</td>\n      <td>York</td>\n      <td>Yeovil</td>\n      <td>1.0</td>\n      <td>0.0</td>\n      <td>H</td>\n      <td>0.0</td>\n      <td>0.0</td>\n      <td>...</td>\n      <td>NaN</td>\n      <td>NaN</td>\n      <td>4.087143</td>\n      <td>1.934286</td>\n      <td>3.360000</td>\n      <td>H</td>\n      <td>0.168324</td>\n      <td>0.000462</td>\n      <td>0.019367</td>\n      <td>45566.0</td>\n    </tr>\n  </tbody>\n</table>\n<p>153794 rows × 175 columns</p>\n</div>"
     },
     "execution_count": 45,
     "metadata": {},
     "output_type": "execute_result"
    }
   ],
   "source": [
    "df.sort_values(['MatchTeams','Date'],ascending=True).groupby('MatchTeams').shift()"
   ],
   "metadata": {
    "collapsed": false,
    "ExecuteTime": {
     "end_time": "2023-12-29T09:48:09.290707900Z",
     "start_time": "2023-12-29T09:48:08.930555800Z"
    }
   },
   "id": "471e8ec62aeb1eaa"
  },
  {
   "cell_type": "markdown",
   "source": [],
   "metadata": {
    "collapsed": false
   },
   "id": "b2b3e785cc19563b"
  },
  {
   "cell_type": "markdown",
   "source": [
    "Use groupby to group by same matches, create [\"LastMatchIndex\",\"LastMatchAwayGoals\", \"LastMatchHomeGoals\"] columns with unsorted values.\n",
    "First match of two teams gets empty column index as LastMatchIndex"
   ],
   "metadata": {
    "collapsed": false
   },
   "id": "5dd64750de5803cc"
  },
  {
   "cell_type": "code",
   "execution_count": 46,
   "outputs": [],
   "source": [
    "df[[\"LastMatchIndex\",\"LastMatchAwayGoals\", \"LastMatchHomeGoals\"]] = df.sort_values(['MatchTeams','Date'],ascending=True).groupby('MatchTeams').shift()[[\"Index\",\"FTAG\", \"FTHG\"]]\n",
    "df.loc[np.isnan(df[\"LastMatchIndex\"]), \"LastMatchIndex\"] = len(df.index)-1\n",
    "df.loc[len(df.index)] = [np.nan for _ in range(df.shape[1])]\n",
    "df.loc[len(df.index)-1]\n",
    "df[\"LastMatchIndex\"] = df[\"LastMatchIndex\"].replace(np.nan, len(df.index)-1)\n",
    "\n",
    "df[\"LastMatchIndex\"].fillna(len(df.index)-1)\n",
    "arr = df[\"LastMatchIndex\"]"
   ],
   "metadata": {
    "collapsed": false,
    "ExecuteTime": {
     "end_time": "2023-12-29T09:48:09.671066900Z",
     "start_time": "2023-12-29T09:48:09.290707900Z"
    }
   },
   "id": "24cda30259af6152"
  },
  {
   "cell_type": "markdown",
   "source": [
    "Switch LastMatchHomeGoals and LastMatchAwayGoals if they do not correspond to the teams accordingly, calculate who won the match"
   ],
   "metadata": {
    "collapsed": false
   },
   "id": "529fafb307538356"
  },
  {
   "cell_type": "code",
   "execution_count": 47,
   "outputs": [],
   "source": [
    "df[\"SameHomeTeam\"] = (df.iloc[arr][\"HomeTeam\"].values == df[\"HomeTeam\"].values)\n",
    "df.loc[df[\"SameHomeTeam\"],['LastMatchHomeGoals','LastMatchAwayGoals']] = df.loc[df[\"SameHomeTeam\"],['LastMatchHomeGoals','LastMatchAwayGoals']].values\n",
    "df[\"LastMatchAwayWin\"] = (df[\"LastMatchAwayGoals\"] > df[\"LastMatchHomeGoals\"]).astype(int)\n",
    "df[\"LastMatchHomeWin\"] = (df[\"LastMatchAwayGoals\"] < df[\"LastMatchHomeGoals\"]).astype(int)\n",
    "df[\"LastMatchDraw\"] = (df[\"LastMatchAwayGoals\"] == df[\"LastMatchHomeGoals\"]).astype(int)"
   ],
   "metadata": {
    "collapsed": false,
    "ExecuteTime": {
     "end_time": "2023-12-29T09:48:09.813701900Z",
     "start_time": "2023-12-29T09:48:09.670066Z"
    }
   },
   "id": "1ea2c9e1455d3e4"
  },
  {
   "cell_type": "code",
   "execution_count": 48,
   "outputs": [
    {
     "data": {
      "text/plain": "        Unnamed: 0  Div       Date     HomeTeam          AwayTeam  FTHG  FTAG  \\\n0              0.0   B1 2001-05-20     Mechelen            Lierse   1.0   1.0   \n1              1.0   B1 2000-09-17     Germinal       Club Brugge   2.0   3.0   \n2              2.0   B1 2000-10-14      Beveren          Standard   0.0   3.0   \n3              3.0   B1 2000-09-06      Lokeren          Mechelen   3.0   2.0   \n4              4.0   B1 2000-08-27    Charleroi           Antwerp   1.0   0.0   \n...            ...  ...        ...          ...               ...   ...   ...   \n153790       368.0   T1 2021-08-22       Goztep  Yeni Malatyaspor   0.0   1.0   \n153791       369.0   T1 2022-04-16        Altay        Buyuksehyr   1.0   1.0   \n153792       370.0   T1 2021-12-19   Fenerbahce          Besiktas   2.0   2.0   \n153793       371.0   T1 2022-05-15  Trabzonspor             Altay   2.0   1.0   \n153794         NaN  NaN        NaT          NaN               NaN   NaN   NaN   \n\n        FTR  HTHG  HTAG  ... Avg_bookie_prediction  Var_away_odds  \\\n0         D   1.0   1.0  ...                     A       0.007200   \n1         A   0.0   1.0  ...                     A       0.005833   \n2         A   0.0   2.0  ...                     A       0.003333   \n3         H   0.0   2.0  ...                     H       0.135833   \n4         H   1.0   0.0  ...                     H       0.163333   \n...     ...   ...   ...  ...                   ...            ...   \n153790    A   0.0   0.0  ...                     H       0.038867   \n153791    D   0.0   1.0  ...                     A       0.001550   \n153792    D   2.0   1.0  ...                     H       0.005880   \n153793    H   1.0   0.0  ...                     H       0.190267   \n153794  NaN   NaN   NaN  ...                   NaN            NaN   \n\n        Var_home_odds  Var_draw_odds               MatchTeams  \\\n0            0.007200       0.045000          Lierse_Mechelen   \n1            0.056667       0.026667     Club Brugge_Germinal   \n2            0.007292       0.012292         Beveren_Standard   \n3            0.004300       0.010000         Lokeren_Mechelen   \n4            0.000100       0.007292        Antwerp_Charleroi   \n...               ...            ...                      ...   \n153790       0.003200       0.011417  Goztep_Yeni Malatyaspor   \n153791       0.016417       0.014550         Altay_Buyuksehyr   \n153792       0.003417       0.009750      Besiktas_Fenerbahce   \n153793       0.000297       0.042467        Altay_Trabzonspor   \n153794            NaN            NaN                      NaN   \n\n        LastMatchAwayGoals  LastMatchHomeGoals  LastMatchAwayWin  \\\n0                      1.0                 1.0                 0   \n1                      NaN                 NaN                 0   \n2                      NaN                 NaN                 0   \n3                      NaN                 NaN                 0   \n4                      NaN                 NaN                 0   \n...                    ...                 ...               ...   \n153790                 2.0                 2.0                 0   \n153791                 0.0                 0.0                 0   \n153792                 1.0                 1.0                 0   \n153793                 2.0                 1.0                 1   \n153794                 NaN                 NaN                 0   \n\n        LastMatchHomeWin  LastMatchDraw  \n0                      0              1  \n1                      0              0  \n2                      0              0  \n3                      0              0  \n4                      0              0  \n...                  ...            ...  \n153790                 0              1  \n153791                 0              1  \n153792                 0              1  \n153793                 0              0  \n153794                 0              0  \n\n[153795 rows x 180 columns]",
      "text/html": "<div>\n<style scoped>\n    .dataframe tbody tr th:only-of-type {\n        vertical-align: middle;\n    }\n\n    .dataframe tbody tr th {\n        vertical-align: top;\n    }\n\n    .dataframe thead th {\n        text-align: right;\n    }\n</style>\n<table border=\"1\" class=\"dataframe\">\n  <thead>\n    <tr style=\"text-align: right;\">\n      <th></th>\n      <th>Unnamed: 0</th>\n      <th>Div</th>\n      <th>Date</th>\n      <th>HomeTeam</th>\n      <th>AwayTeam</th>\n      <th>FTHG</th>\n      <th>FTAG</th>\n      <th>FTR</th>\n      <th>HTHG</th>\n      <th>HTAG</th>\n      <th>...</th>\n      <th>Avg_bookie_prediction</th>\n      <th>Var_away_odds</th>\n      <th>Var_home_odds</th>\n      <th>Var_draw_odds</th>\n      <th>MatchTeams</th>\n      <th>LastMatchAwayGoals</th>\n      <th>LastMatchHomeGoals</th>\n      <th>LastMatchAwayWin</th>\n      <th>LastMatchHomeWin</th>\n      <th>LastMatchDraw</th>\n    </tr>\n  </thead>\n  <tbody>\n    <tr>\n      <th>0</th>\n      <td>0.0</td>\n      <td>B1</td>\n      <td>2001-05-20</td>\n      <td>Mechelen</td>\n      <td>Lierse</td>\n      <td>1.0</td>\n      <td>1.0</td>\n      <td>D</td>\n      <td>1.0</td>\n      <td>1.0</td>\n      <td>...</td>\n      <td>A</td>\n      <td>0.007200</td>\n      <td>0.007200</td>\n      <td>0.045000</td>\n      <td>Lierse_Mechelen</td>\n      <td>1.0</td>\n      <td>1.0</td>\n      <td>0</td>\n      <td>0</td>\n      <td>1</td>\n    </tr>\n    <tr>\n      <th>1</th>\n      <td>1.0</td>\n      <td>B1</td>\n      <td>2000-09-17</td>\n      <td>Germinal</td>\n      <td>Club Brugge</td>\n      <td>2.0</td>\n      <td>3.0</td>\n      <td>A</td>\n      <td>0.0</td>\n      <td>1.0</td>\n      <td>...</td>\n      <td>A</td>\n      <td>0.005833</td>\n      <td>0.056667</td>\n      <td>0.026667</td>\n      <td>Club Brugge_Germinal</td>\n      <td>NaN</td>\n      <td>NaN</td>\n      <td>0</td>\n      <td>0</td>\n      <td>0</td>\n    </tr>\n    <tr>\n      <th>2</th>\n      <td>2.0</td>\n      <td>B1</td>\n      <td>2000-10-14</td>\n      <td>Beveren</td>\n      <td>Standard</td>\n      <td>0.0</td>\n      <td>3.0</td>\n      <td>A</td>\n      <td>0.0</td>\n      <td>2.0</td>\n      <td>...</td>\n      <td>A</td>\n      <td>0.003333</td>\n      <td>0.007292</td>\n      <td>0.012292</td>\n      <td>Beveren_Standard</td>\n      <td>NaN</td>\n      <td>NaN</td>\n      <td>0</td>\n      <td>0</td>\n      <td>0</td>\n    </tr>\n    <tr>\n      <th>3</th>\n      <td>3.0</td>\n      <td>B1</td>\n      <td>2000-09-06</td>\n      <td>Lokeren</td>\n      <td>Mechelen</td>\n      <td>3.0</td>\n      <td>2.0</td>\n      <td>H</td>\n      <td>0.0</td>\n      <td>2.0</td>\n      <td>...</td>\n      <td>H</td>\n      <td>0.135833</td>\n      <td>0.004300</td>\n      <td>0.010000</td>\n      <td>Lokeren_Mechelen</td>\n      <td>NaN</td>\n      <td>NaN</td>\n      <td>0</td>\n      <td>0</td>\n      <td>0</td>\n    </tr>\n    <tr>\n      <th>4</th>\n      <td>4.0</td>\n      <td>B1</td>\n      <td>2000-08-27</td>\n      <td>Charleroi</td>\n      <td>Antwerp</td>\n      <td>1.0</td>\n      <td>0.0</td>\n      <td>H</td>\n      <td>1.0</td>\n      <td>0.0</td>\n      <td>...</td>\n      <td>H</td>\n      <td>0.163333</td>\n      <td>0.000100</td>\n      <td>0.007292</td>\n      <td>Antwerp_Charleroi</td>\n      <td>NaN</td>\n      <td>NaN</td>\n      <td>0</td>\n      <td>0</td>\n      <td>0</td>\n    </tr>\n    <tr>\n      <th>...</th>\n      <td>...</td>\n      <td>...</td>\n      <td>...</td>\n      <td>...</td>\n      <td>...</td>\n      <td>...</td>\n      <td>...</td>\n      <td>...</td>\n      <td>...</td>\n      <td>...</td>\n      <td>...</td>\n      <td>...</td>\n      <td>...</td>\n      <td>...</td>\n      <td>...</td>\n      <td>...</td>\n      <td>...</td>\n      <td>...</td>\n      <td>...</td>\n      <td>...</td>\n      <td>...</td>\n    </tr>\n    <tr>\n      <th>153790</th>\n      <td>368.0</td>\n      <td>T1</td>\n      <td>2021-08-22</td>\n      <td>Goztep</td>\n      <td>Yeni Malatyaspor</td>\n      <td>0.0</td>\n      <td>1.0</td>\n      <td>A</td>\n      <td>0.0</td>\n      <td>0.0</td>\n      <td>...</td>\n      <td>H</td>\n      <td>0.038867</td>\n      <td>0.003200</td>\n      <td>0.011417</td>\n      <td>Goztep_Yeni Malatyaspor</td>\n      <td>2.0</td>\n      <td>2.0</td>\n      <td>0</td>\n      <td>0</td>\n      <td>1</td>\n    </tr>\n    <tr>\n      <th>153791</th>\n      <td>369.0</td>\n      <td>T1</td>\n      <td>2022-04-16</td>\n      <td>Altay</td>\n      <td>Buyuksehyr</td>\n      <td>1.0</td>\n      <td>1.0</td>\n      <td>D</td>\n      <td>0.0</td>\n      <td>1.0</td>\n      <td>...</td>\n      <td>A</td>\n      <td>0.001550</td>\n      <td>0.016417</td>\n      <td>0.014550</td>\n      <td>Altay_Buyuksehyr</td>\n      <td>0.0</td>\n      <td>0.0</td>\n      <td>0</td>\n      <td>0</td>\n      <td>1</td>\n    </tr>\n    <tr>\n      <th>153792</th>\n      <td>370.0</td>\n      <td>T1</td>\n      <td>2021-12-19</td>\n      <td>Fenerbahce</td>\n      <td>Besiktas</td>\n      <td>2.0</td>\n      <td>2.0</td>\n      <td>D</td>\n      <td>2.0</td>\n      <td>1.0</td>\n      <td>...</td>\n      <td>H</td>\n      <td>0.005880</td>\n      <td>0.003417</td>\n      <td>0.009750</td>\n      <td>Besiktas_Fenerbahce</td>\n      <td>1.0</td>\n      <td>1.0</td>\n      <td>0</td>\n      <td>0</td>\n      <td>1</td>\n    </tr>\n    <tr>\n      <th>153793</th>\n      <td>371.0</td>\n      <td>T1</td>\n      <td>2022-05-15</td>\n      <td>Trabzonspor</td>\n      <td>Altay</td>\n      <td>2.0</td>\n      <td>1.0</td>\n      <td>H</td>\n      <td>1.0</td>\n      <td>0.0</td>\n      <td>...</td>\n      <td>H</td>\n      <td>0.190267</td>\n      <td>0.000297</td>\n      <td>0.042467</td>\n      <td>Altay_Trabzonspor</td>\n      <td>2.0</td>\n      <td>1.0</td>\n      <td>1</td>\n      <td>0</td>\n      <td>0</td>\n    </tr>\n    <tr>\n      <th>153794</th>\n      <td>NaN</td>\n      <td>NaN</td>\n      <td>NaT</td>\n      <td>NaN</td>\n      <td>NaN</td>\n      <td>NaN</td>\n      <td>NaN</td>\n      <td>NaN</td>\n      <td>NaN</td>\n      <td>NaN</td>\n      <td>...</td>\n      <td>NaN</td>\n      <td>NaN</td>\n      <td>NaN</td>\n      <td>NaN</td>\n      <td>NaN</td>\n      <td>NaN</td>\n      <td>NaN</td>\n      <td>0</td>\n      <td>0</td>\n      <td>0</td>\n    </tr>\n  </tbody>\n</table>\n<p>153795 rows × 180 columns</p>\n</div>"
     },
     "execution_count": 48,
     "metadata": {},
     "output_type": "execute_result"
    }
   ],
   "source": [
    "df.drop([\"SameHomeTeam\", \"LastMatchIndex\", \"Index\"], axis=1)"
   ],
   "metadata": {
    "collapsed": false,
    "ExecuteTime": {
     "end_time": "2023-12-29T09:48:09.939320800Z",
     "start_time": "2023-12-29T09:48:09.810698900Z"
    }
   },
   "id": "e6a2ee9ee9a08c40"
  },
  {
   "cell_type": "code",
   "execution_count": 49,
   "outputs": [
    {
     "data": {
      "text/plain": "            Date  FTHG  FTAG  LastMatchHomeGoals  LastMatchAwayGoals  \\\n5961  2001-05-08   2.0   2.0                 NaN                 NaN   \n6402  2001-12-16   4.0   0.0                 2.0                 2.0   \n6451  2002-03-24   1.0   0.0                 4.0                 0.0   \n6714  2003-05-11   2.0   1.0                 1.0                 0.0   \n6769  2002-10-06   1.0   0.0                 1.0                 0.0   \n7124  2003-08-17   1.0   2.0                 2.0                 1.0   \n7213  2004-01-07   0.0   1.0                 1.0                 2.0   \n7476  2004-10-03   1.0   0.0                 0.0                 1.0   \n7557  2005-01-01   0.0   1.0                 1.0                 0.0   \n7709  2006-02-05   2.0   0.0                 1.0                 4.0   \n7721  2005-10-02   1.0   4.0                 0.0                 1.0   \n8081  2007-01-20   2.0   0.0                 1.0                 0.0   \n8106  2006-09-17   1.0   0.0                 2.0                 0.0   \n8566  2008-02-10   0.0   0.0                 1.0                 1.0   \n8580  2007-08-19   1.0   1.0                 2.0                 0.0   \n8866  2009-02-01   2.0   0.0                 0.0                 1.0   \n9007  2008-10-26   0.0   1.0                 0.0                 0.0   \n9343  2009-10-04   2.0   0.0                 2.0                 0.0   \n9418  2010-05-02   0.0   2.0                 2.0                 0.0   \n9543  2011-02-06   0.0   1.0                 2.0                 0.0   \n9670  2010-11-07   2.0   0.0                 0.0                 2.0   \n10058 2011-11-20   1.0   2.0                 0.0                 1.0   \n10106 2012-05-08   4.0   1.0                 1.0                 2.0   \n10263 2013-04-21   2.0   2.0                 4.0                 1.0   \n10605 2013-12-29   2.0   1.0                 2.0                 2.0   \n10817 2014-04-27   0.0   2.0                 2.0                 1.0   \n11019 2014-11-08   1.0   2.0                 0.0                 2.0   \n11071 2015-05-10   1.0   1.0                 1.0                 2.0   \n11554 2015-10-31   1.0   3.0                 1.0                 1.0   \n11654 2016-05-11   1.0   1.0                 1.0                 3.0   \n11832 2017-01-31   1.0   1.0                 1.0                 2.0   \n12008 2016-09-16   1.0   2.0                 1.0                 1.0   \n12206 2017-11-25   1.0   1.0                 1.0                 1.0   \n12448 2018-05-06   1.0   0.0                 1.0                 1.0   \n12553 2019-04-14   2.0   0.0                 1.0                 1.0   \n12677 2018-09-29   1.0   1.0                 1.0                 0.0   \n13019 2019-09-22   1.0   2.0                 2.0                 0.0   \n13069 2020-07-22   5.0   3.0                 1.0                 2.0   \n13521 2021-03-04   0.0   1.0                 0.0                 2.0   \n13545 2020-09-20   0.0   2.0                 5.0                 3.0   \n13615 2022-01-02   2.0   2.0                 1.0                 1.0   \n13857 2021-08-28   1.0   1.0                 0.0                 1.0   \n\n       LastMatchHomeWin  LastMatchAwayWin  LastMatchDraw  \n5961                  0                 0              0  \n6402                  0                 0              1  \n6451                  1                 0              0  \n6714                  1                 0              0  \n6769                  1                 0              0  \n7124                  1                 0              0  \n7213                  0                 1              0  \n7476                  0                 1              0  \n7557                  1                 0              0  \n7709                  0                 1              0  \n7721                  0                 1              0  \n8081                  1                 0              0  \n8106                  1                 0              0  \n8566                  0                 0              1  \n8580                  1                 0              0  \n8866                  0                 1              0  \n9007                  0                 0              1  \n9343                  1                 0              0  \n9418                  1                 0              0  \n9543                  1                 0              0  \n9670                  0                 1              0  \n10058                 0                 1              0  \n10106                 0                 1              0  \n10263                 1                 0              0  \n10605                 0                 0              1  \n10817                 1                 0              0  \n11019                 0                 1              0  \n11071                 0                 1              0  \n11554                 0                 0              1  \n11654                 0                 1              0  \n11832                 0                 1              0  \n12008                 0                 0              1  \n12206                 0                 0              1  \n12448                 0                 0              1  \n12553                 0                 0              1  \n12677                 1                 0              0  \n13019                 1                 0              0  \n13069                 0                 1              0  \n13521                 0                 1              0  \n13545                 1                 0              0  \n13615                 0                 0              1  \n13857                 0                 1              0  ",
      "text/html": "<div>\n<style scoped>\n    .dataframe tbody tr th:only-of-type {\n        vertical-align: middle;\n    }\n\n    .dataframe tbody tr th {\n        vertical-align: top;\n    }\n\n    .dataframe thead th {\n        text-align: right;\n    }\n</style>\n<table border=\"1\" class=\"dataframe\">\n  <thead>\n    <tr style=\"text-align: right;\">\n      <th></th>\n      <th>Date</th>\n      <th>FTHG</th>\n      <th>FTAG</th>\n      <th>LastMatchHomeGoals</th>\n      <th>LastMatchAwayGoals</th>\n      <th>LastMatchHomeWin</th>\n      <th>LastMatchAwayWin</th>\n      <th>LastMatchDraw</th>\n    </tr>\n  </thead>\n  <tbody>\n    <tr>\n      <th>5961</th>\n      <td>2001-05-08</td>\n      <td>2.0</td>\n      <td>2.0</td>\n      <td>NaN</td>\n      <td>NaN</td>\n      <td>0</td>\n      <td>0</td>\n      <td>0</td>\n    </tr>\n    <tr>\n      <th>6402</th>\n      <td>2001-12-16</td>\n      <td>4.0</td>\n      <td>0.0</td>\n      <td>2.0</td>\n      <td>2.0</td>\n      <td>0</td>\n      <td>0</td>\n      <td>1</td>\n    </tr>\n    <tr>\n      <th>6451</th>\n      <td>2002-03-24</td>\n      <td>1.0</td>\n      <td>0.0</td>\n      <td>4.0</td>\n      <td>0.0</td>\n      <td>1</td>\n      <td>0</td>\n      <td>0</td>\n    </tr>\n    <tr>\n      <th>6714</th>\n      <td>2003-05-11</td>\n      <td>2.0</td>\n      <td>1.0</td>\n      <td>1.0</td>\n      <td>0.0</td>\n      <td>1</td>\n      <td>0</td>\n      <td>0</td>\n    </tr>\n    <tr>\n      <th>6769</th>\n      <td>2002-10-06</td>\n      <td>1.0</td>\n      <td>0.0</td>\n      <td>1.0</td>\n      <td>0.0</td>\n      <td>1</td>\n      <td>0</td>\n      <td>0</td>\n    </tr>\n    <tr>\n      <th>7124</th>\n      <td>2003-08-17</td>\n      <td>1.0</td>\n      <td>2.0</td>\n      <td>2.0</td>\n      <td>1.0</td>\n      <td>1</td>\n      <td>0</td>\n      <td>0</td>\n    </tr>\n    <tr>\n      <th>7213</th>\n      <td>2004-01-07</td>\n      <td>0.0</td>\n      <td>1.0</td>\n      <td>1.0</td>\n      <td>2.0</td>\n      <td>0</td>\n      <td>1</td>\n      <td>0</td>\n    </tr>\n    <tr>\n      <th>7476</th>\n      <td>2004-10-03</td>\n      <td>1.0</td>\n      <td>0.0</td>\n      <td>0.0</td>\n      <td>1.0</td>\n      <td>0</td>\n      <td>1</td>\n      <td>0</td>\n    </tr>\n    <tr>\n      <th>7557</th>\n      <td>2005-01-01</td>\n      <td>0.0</td>\n      <td>1.0</td>\n      <td>1.0</td>\n      <td>0.0</td>\n      <td>1</td>\n      <td>0</td>\n      <td>0</td>\n    </tr>\n    <tr>\n      <th>7709</th>\n      <td>2006-02-05</td>\n      <td>2.0</td>\n      <td>0.0</td>\n      <td>1.0</td>\n      <td>4.0</td>\n      <td>0</td>\n      <td>1</td>\n      <td>0</td>\n    </tr>\n    <tr>\n      <th>7721</th>\n      <td>2005-10-02</td>\n      <td>1.0</td>\n      <td>4.0</td>\n      <td>0.0</td>\n      <td>1.0</td>\n      <td>0</td>\n      <td>1</td>\n      <td>0</td>\n    </tr>\n    <tr>\n      <th>8081</th>\n      <td>2007-01-20</td>\n      <td>2.0</td>\n      <td>0.0</td>\n      <td>1.0</td>\n      <td>0.0</td>\n      <td>1</td>\n      <td>0</td>\n      <td>0</td>\n    </tr>\n    <tr>\n      <th>8106</th>\n      <td>2006-09-17</td>\n      <td>1.0</td>\n      <td>0.0</td>\n      <td>2.0</td>\n      <td>0.0</td>\n      <td>1</td>\n      <td>0</td>\n      <td>0</td>\n    </tr>\n    <tr>\n      <th>8566</th>\n      <td>2008-02-10</td>\n      <td>0.0</td>\n      <td>0.0</td>\n      <td>1.0</td>\n      <td>1.0</td>\n      <td>0</td>\n      <td>0</td>\n      <td>1</td>\n    </tr>\n    <tr>\n      <th>8580</th>\n      <td>2007-08-19</td>\n      <td>1.0</td>\n      <td>1.0</td>\n      <td>2.0</td>\n      <td>0.0</td>\n      <td>1</td>\n      <td>0</td>\n      <td>0</td>\n    </tr>\n    <tr>\n      <th>8866</th>\n      <td>2009-02-01</td>\n      <td>2.0</td>\n      <td>0.0</td>\n      <td>0.0</td>\n      <td>1.0</td>\n      <td>0</td>\n      <td>1</td>\n      <td>0</td>\n    </tr>\n    <tr>\n      <th>9007</th>\n      <td>2008-10-26</td>\n      <td>0.0</td>\n      <td>1.0</td>\n      <td>0.0</td>\n      <td>0.0</td>\n      <td>0</td>\n      <td>0</td>\n      <td>1</td>\n    </tr>\n    <tr>\n      <th>9343</th>\n      <td>2009-10-04</td>\n      <td>2.0</td>\n      <td>0.0</td>\n      <td>2.0</td>\n      <td>0.0</td>\n      <td>1</td>\n      <td>0</td>\n      <td>0</td>\n    </tr>\n    <tr>\n      <th>9418</th>\n      <td>2010-05-02</td>\n      <td>0.0</td>\n      <td>2.0</td>\n      <td>2.0</td>\n      <td>0.0</td>\n      <td>1</td>\n      <td>0</td>\n      <td>0</td>\n    </tr>\n    <tr>\n      <th>9543</th>\n      <td>2011-02-06</td>\n      <td>0.0</td>\n      <td>1.0</td>\n      <td>2.0</td>\n      <td>0.0</td>\n      <td>1</td>\n      <td>0</td>\n      <td>0</td>\n    </tr>\n    <tr>\n      <th>9670</th>\n      <td>2010-11-07</td>\n      <td>2.0</td>\n      <td>0.0</td>\n      <td>0.0</td>\n      <td>2.0</td>\n      <td>0</td>\n      <td>1</td>\n      <td>0</td>\n    </tr>\n    <tr>\n      <th>10058</th>\n      <td>2011-11-20</td>\n      <td>1.0</td>\n      <td>2.0</td>\n      <td>0.0</td>\n      <td>1.0</td>\n      <td>0</td>\n      <td>1</td>\n      <td>0</td>\n    </tr>\n    <tr>\n      <th>10106</th>\n      <td>2012-05-08</td>\n      <td>4.0</td>\n      <td>1.0</td>\n      <td>1.0</td>\n      <td>2.0</td>\n      <td>0</td>\n      <td>1</td>\n      <td>0</td>\n    </tr>\n    <tr>\n      <th>10263</th>\n      <td>2013-04-21</td>\n      <td>2.0</td>\n      <td>2.0</td>\n      <td>4.0</td>\n      <td>1.0</td>\n      <td>1</td>\n      <td>0</td>\n      <td>0</td>\n    </tr>\n    <tr>\n      <th>10605</th>\n      <td>2013-12-29</td>\n      <td>2.0</td>\n      <td>1.0</td>\n      <td>2.0</td>\n      <td>2.0</td>\n      <td>0</td>\n      <td>0</td>\n      <td>1</td>\n    </tr>\n    <tr>\n      <th>10817</th>\n      <td>2014-04-27</td>\n      <td>0.0</td>\n      <td>2.0</td>\n      <td>2.0</td>\n      <td>1.0</td>\n      <td>1</td>\n      <td>0</td>\n      <td>0</td>\n    </tr>\n    <tr>\n      <th>11019</th>\n      <td>2014-11-08</td>\n      <td>1.0</td>\n      <td>2.0</td>\n      <td>0.0</td>\n      <td>2.0</td>\n      <td>0</td>\n      <td>1</td>\n      <td>0</td>\n    </tr>\n    <tr>\n      <th>11071</th>\n      <td>2015-05-10</td>\n      <td>1.0</td>\n      <td>1.0</td>\n      <td>1.0</td>\n      <td>2.0</td>\n      <td>0</td>\n      <td>1</td>\n      <td>0</td>\n    </tr>\n    <tr>\n      <th>11554</th>\n      <td>2015-10-31</td>\n      <td>1.0</td>\n      <td>3.0</td>\n      <td>1.0</td>\n      <td>1.0</td>\n      <td>0</td>\n      <td>0</td>\n      <td>1</td>\n    </tr>\n    <tr>\n      <th>11654</th>\n      <td>2016-05-11</td>\n      <td>1.0</td>\n      <td>1.0</td>\n      <td>1.0</td>\n      <td>3.0</td>\n      <td>0</td>\n      <td>1</td>\n      <td>0</td>\n    </tr>\n    <tr>\n      <th>11832</th>\n      <td>2017-01-31</td>\n      <td>1.0</td>\n      <td>1.0</td>\n      <td>1.0</td>\n      <td>2.0</td>\n      <td>0</td>\n      <td>1</td>\n      <td>0</td>\n    </tr>\n    <tr>\n      <th>12008</th>\n      <td>2016-09-16</td>\n      <td>1.0</td>\n      <td>2.0</td>\n      <td>1.0</td>\n      <td>1.0</td>\n      <td>0</td>\n      <td>0</td>\n      <td>1</td>\n    </tr>\n    <tr>\n      <th>12206</th>\n      <td>2017-11-25</td>\n      <td>1.0</td>\n      <td>1.0</td>\n      <td>1.0</td>\n      <td>1.0</td>\n      <td>0</td>\n      <td>0</td>\n      <td>1</td>\n    </tr>\n    <tr>\n      <th>12448</th>\n      <td>2018-05-06</td>\n      <td>1.0</td>\n      <td>0.0</td>\n      <td>1.0</td>\n      <td>1.0</td>\n      <td>0</td>\n      <td>0</td>\n      <td>1</td>\n    </tr>\n    <tr>\n      <th>12553</th>\n      <td>2019-04-14</td>\n      <td>2.0</td>\n      <td>0.0</td>\n      <td>1.0</td>\n      <td>1.0</td>\n      <td>0</td>\n      <td>0</td>\n      <td>1</td>\n    </tr>\n    <tr>\n      <th>12677</th>\n      <td>2018-09-29</td>\n      <td>1.0</td>\n      <td>1.0</td>\n      <td>1.0</td>\n      <td>0.0</td>\n      <td>1</td>\n      <td>0</td>\n      <td>0</td>\n    </tr>\n    <tr>\n      <th>13019</th>\n      <td>2019-09-22</td>\n      <td>1.0</td>\n      <td>2.0</td>\n      <td>2.0</td>\n      <td>0.0</td>\n      <td>1</td>\n      <td>0</td>\n      <td>0</td>\n    </tr>\n    <tr>\n      <th>13069</th>\n      <td>2020-07-22</td>\n      <td>5.0</td>\n      <td>3.0</td>\n      <td>1.0</td>\n      <td>2.0</td>\n      <td>0</td>\n      <td>1</td>\n      <td>0</td>\n    </tr>\n    <tr>\n      <th>13521</th>\n      <td>2021-03-04</td>\n      <td>0.0</td>\n      <td>1.0</td>\n      <td>0.0</td>\n      <td>2.0</td>\n      <td>0</td>\n      <td>1</td>\n      <td>0</td>\n    </tr>\n    <tr>\n      <th>13545</th>\n      <td>2020-09-20</td>\n      <td>0.0</td>\n      <td>2.0</td>\n      <td>5.0</td>\n      <td>3.0</td>\n      <td>1</td>\n      <td>0</td>\n      <td>0</td>\n    </tr>\n    <tr>\n      <th>13615</th>\n      <td>2022-01-02</td>\n      <td>2.0</td>\n      <td>2.0</td>\n      <td>1.0</td>\n      <td>1.0</td>\n      <td>0</td>\n      <td>0</td>\n      <td>1</td>\n    </tr>\n    <tr>\n      <th>13857</th>\n      <td>2021-08-28</td>\n      <td>1.0</td>\n      <td>1.0</td>\n      <td>0.0</td>\n      <td>1.0</td>\n      <td>0</td>\n      <td>1</td>\n      <td>0</td>\n    </tr>\n  </tbody>\n</table>\n</div>"
     },
     "execution_count": 49,
     "metadata": {},
     "output_type": "execute_result"
    }
   ],
   "source": [
    "df[df[\"MatchTeams\"] == \"Chelsea_Liverpool\"][[\"Date\",\"FTHG\", \"FTAG\", \"LastMatchHomeGoals\", \"LastMatchAwayGoals\", \"LastMatchHomeWin\",\"LastMatchAwayWin\", \"LastMatchDraw\"]]"
   ],
   "metadata": {
    "collapsed": false,
    "ExecuteTime": {
     "end_time": "2023-12-29T09:48:09.987869500Z",
     "start_time": "2023-12-29T09:48:09.939824700Z"
    }
   },
   "id": "168be5a9ad3d3f17"
  },
  {
   "cell_type": "markdown",
   "source": [
    "### Split data back to individual files based on countries"
   ],
   "metadata": {
    "collapsed": false
   },
   "id": "9e239b0a6d8d1eca"
  },
  {
   "cell_type": "code",
   "execution_count": 136,
   "outputs": [],
   "source": [
    "dfs = {}\n",
    "land_list = df[\"country\"].unique()[:-1]\n",
    "for country in land_list:\n",
    "    dfs[f\"df_{country}\"] = df[df[\"country\"] == country]\n",
    "    dfs[f\"df_{country}\"].dropna(axis=1, inplace=True, how=\"all\")"
   ],
   "metadata": {
    "collapsed": false,
    "ExecuteTime": {
     "end_time": "2023-12-29T12:58:27.218688800Z",
     "start_time": "2023-12-29T12:58:26.982606700Z"
    }
   },
   "id": "63787fad7908ab98"
  },
  {
   "cell_type": "markdown",
   "source": [
    "### Create dummies from teams"
   ],
   "metadata": {
    "collapsed": false
   },
   "id": "198eebfa6e9fe703"
  },
  {
   "cell_type": "code",
   "execution_count": 137,
   "outputs": [
    {
     "data": {
      "text/plain": "185        Mechelen\n51      Louvieroise\n177        Mouscron\n171        Westerlo\n295         Beveren\n           ...     \n5769        Seraing\n5675    Club Brugge\n5785     St Truiden\n5493       Kortrijk\n5556      Charleroi\nName: HomeTeam, Length: 5792, dtype: object"
     },
     "metadata": {},
     "output_type": "display_data"
    }
   ],
   "source": [
    "display(dfs[\"df_belgium\"].sort_values(by=\"Date\")[\"HomeTeam\"])\n",
    "\n",
    "for country in dfs:\n",
    "    tmp = dfs[country][[\"HomeTeam\", \"AwayTeam\"]]\n",
    "    dfs[country] = pd.get_dummies(dfs[country], columns=[\"HomeTeam\", \"AwayTeam\"])\n",
    "    dfs[country] = pd.concat([dfs[country], tmp], axis=1)"
   ],
   "metadata": {
    "collapsed": false,
    "ExecuteTime": {
     "end_time": "2023-12-29T12:58:28.856193500Z",
     "start_time": "2023-12-29T12:58:28.510121400Z"
    }
   },
   "id": "f3997eb730fce392"
  },
  {
   "cell_type": "markdown",
   "source": [
    "# TODO Average amount of goals scored/received in the earlier matches\n",
    "\n",
    "We will add 4 columns - HomeTeamAvgScored, AwayTeamAvgScored, HomeTeamAvgReceived, AwayTeamAvgReceived\n"
   ],
   "metadata": {
    "collapsed": false
   },
   "id": "9d636c3c0b0d75b2"
  },
  {
   "cell_type": "code",
   "execution_count": 138,
   "outputs": [],
   "source": [
    "def get_goals_stats(df):\n",
    "    df.sort_values(by=\"Date\", inplace=True)\n",
    "    df[\"HomeTeamAvgScored\"] = 0\n",
    "    df[\"AwayTeamAvgScored\"] = 0\n",
    "    df[\"HomeTeamAvgReceived\"] = 0\n",
    "    df[\"AwayTeamAvgReceived\"] = 0\n",
    "    \n",
    "    team_list = set.union(set(df[\"HomeTeam\"]), set(df[\"AwayTeam\"]))\n",
    "    team_list_received = [f\"{team}_received\" for team in team_list]\n",
    "    df = df.reindex(df.columns.tolist() + list(team_list),axis=1)\n",
    "    df = df.reindex(df.columns.tolist() + list(team_list_received),axis=1)\n",
    "\n",
    "    df.reset_index(inplace=True)\n",
    "    for i, row in df.iterrows():\n",
    "        home = row[\"HomeTeam\"]\n",
    "        away = row[\"AwayTeam\"]\n",
    "        df.loc[i, \"HomeTeamAvgScored\"] = df[home].dropna().mean()\n",
    "        df.loc[i, \"AwayTeamAvgScored\"] = df[away].dropna().mean()\n",
    "        df.loc[i, \"HomeTeamAvgReceived\"] = df[f\"{home}_received\"].dropna().mean()\n",
    "        df.loc[i, \"AwayTeamAvgReceived\"] = df[f\"{away}_received\"].dropna().mean()\n",
    "        df.loc[i, home] = row[\"FTHG\"]\n",
    "        df.loc[i, f\"{home}_received\"] = row[\"FTAG\"]\n",
    "        df.loc[i, away] = row[\"FTAG\"]\n",
    "        df.loc[i, f\"{away}_received\"] = row[\"FTHG\"]\n",
    "    df[df[\"HomeTeamAvgScored\"].isna()][\"HomeTeamAvgScored\"] = 0\n",
    "    df[df[\"AwayTeamAvgScored\"].isna()][\"AwayTeamAvgScored\"] = 0\n",
    "    df[df[\"HomeTeamAvgReceived\"].isna()][\"HomeTeamAvgReceived\"] = 0\n",
    "    df[df[\"HomeTeamAvgReceived\"].isna()][\"HomeTeamAvgReceived\"] = 0\n",
    "    df.drop(team_list, inplace=True, axis=1)\n",
    "    df.drop(team_list_received, inplace=True, axis=1)\n",
    "    df.drop([\"index\"], inplace=True, axis=1)\n",
    "    return df"
   ],
   "metadata": {
    "collapsed": false,
    "ExecuteTime": {
     "end_time": "2023-12-29T12:58:30.530023400Z",
     "start_time": "2023-12-29T12:58:30.523906300Z"
    }
   },
   "id": "fa73984d9142d137"
  },
  {
   "cell_type": "code",
   "execution_count": 139,
   "outputs": [
    {
     "name": "stdout",
     "output_type": "stream",
     "text": [
      "done df_belgium\n",
      "done df_england\n",
      "done df_france\n",
      "done df_germany\n",
      "done df_greece\n",
      "done df_italy\n",
      "done df_netherlands\n",
      "done df_portugal\n",
      "done df_scotland\n",
      "done df_spain\n",
      "done df_turkey\n"
     ]
    }
   ],
   "source": [
    "for country in dfs:\n",
    "    dfs[country] = get_goals_stats(dfs[country])\n",
    "    print(f\"done {country}\")"
   ],
   "metadata": {
    "collapsed": false,
    "ExecuteTime": {
     "end_time": "2023-12-29T13:00:48.455516200Z",
     "start_time": "2023-12-29T12:58:33.195871Z"
    }
   },
   "id": "5f5bb940d58faa68"
  },
  {
   "cell_type": "code",
   "execution_count": 140,
   "outputs": [],
   "source": [
    "blg = dfs[\"df_belgium\"]"
   ],
   "metadata": {
    "collapsed": false,
    "ExecuteTime": {
     "end_time": "2023-12-29T13:01:01.852755700Z",
     "start_time": "2023-12-29T13:01:01.839364400Z"
    }
   },
   "id": "305383165d8d8f2b"
  },
  {
   "cell_type": "code",
   "execution_count": 141,
   "outputs": [
    {
     "data": {
      "text/plain": "     Div       Date  FTHG  FTAG FTR  HTHG  HTAG HTR   GBH  GBD  ...  \\\n0     B1 2000-08-12   0.0   0.0   D   0.0   0.0   D  2.00  3.6  ...   \n1     B1 2000-08-12   0.0   0.0   D   0.0   0.0   D  2.30  3.3  ...   \n2     B1 2000-08-12   3.0   0.0   H   1.0   0.0   H  1.90  3.3  ...   \n3     B1 2000-08-12   2.0   1.0   H   1.0   0.0   H  1.41  4.1  ...   \n4     B1 2000-08-12   1.0   2.0   A   1.0   1.0   D  2.20  3.5  ...   \n...   ..        ...   ...   ...  ..   ...   ...  ..   ...  ...  ...   \n5787  B1 2022-04-10   0.0   2.0   A   0.0   1.0   A   NaN  NaN  ...   \n5788  B1 2022-04-10   2.0   0.0   H   1.0   0.0   H   NaN  NaN  ...   \n5789  B1 2022-04-10   3.0   0.0   H   2.0   0.0   H   NaN  NaN  ...   \n5790  B1 2022-04-10   2.0   3.0   A   1.0   1.0   D   NaN  NaN  ...   \n5791  B1 2022-04-10   3.0   0.0   H   3.0   0.0   H   NaN  NaN  ...   \n\n      AwayTeam_Tubize  AwayTeam_Waasland-Beveren  AwayTeam_Waregem  \\\n0               False                      False             False   \n1               False                      False             False   \n2               False                      False             False   \n3               False                      False             False   \n4               False                      False             False   \n...               ...                        ...               ...   \n5787            False                      False             False   \n5788            False                      False             False   \n5789            False                      False             False   \n5790            False                      False             False   \n5791            False                      False              True   \n\n      AwayTeam_Westerlo     HomeTeam    AwayTeam  HomeTeamAvgScored  \\\n0                 False     Mechelen        Genk                NaN   \n1                 False  Louvieroise     Lokeren                NaN   \n2                 False     Mouscron    Germinal                NaN   \n3                 False     Westerlo     Antwerp                NaN   \n4                 False      Beveren   Charleroi                NaN   \n...                 ...          ...         ...                ...   \n5787              False      Seraing        Genk           0.909091   \n5788              False  Club Brugge    Mechelen           2.057269   \n5789              False   St Truiden    Standard           1.183274   \n5790              False     Kortrijk  Anderlecht           1.298795   \n5791              False    Charleroi     Waregem           1.273556   \n\n      AwayTeamAvgScored  HomeTeamAvgReceived  AwayTeamAvgReceived  \n0                   NaN                  NaN                  NaN  \n1                   NaN                  NaN                  NaN  \n2                   NaN                  NaN                  NaN  \n3                   NaN                  NaN                  NaN  \n4                   NaN                  NaN                  NaN  \n...                 ...                  ...                  ...  \n5787           1.747774             2.000000             1.277448  \n5788           1.307692             0.997063             1.627859  \n5789           1.654572             1.528470             1.100145  \n5790           2.028024             1.371084             0.939528  \n5791           1.459924             1.384498             1.528626  \n\n[5792 rows x 246 columns]",
      "text/html": "<div>\n<style scoped>\n    .dataframe tbody tr th:only-of-type {\n        vertical-align: middle;\n    }\n\n    .dataframe tbody tr th {\n        vertical-align: top;\n    }\n\n    .dataframe thead th {\n        text-align: right;\n    }\n</style>\n<table border=\"1\" class=\"dataframe\">\n  <thead>\n    <tr style=\"text-align: right;\">\n      <th></th>\n      <th>Div</th>\n      <th>Date</th>\n      <th>FTHG</th>\n      <th>FTAG</th>\n      <th>FTR</th>\n      <th>HTHG</th>\n      <th>HTAG</th>\n      <th>HTR</th>\n      <th>GBH</th>\n      <th>GBD</th>\n      <th>...</th>\n      <th>AwayTeam_Tubize</th>\n      <th>AwayTeam_Waasland-Beveren</th>\n      <th>AwayTeam_Waregem</th>\n      <th>AwayTeam_Westerlo</th>\n      <th>HomeTeam</th>\n      <th>AwayTeam</th>\n      <th>HomeTeamAvgScored</th>\n      <th>AwayTeamAvgScored</th>\n      <th>HomeTeamAvgReceived</th>\n      <th>AwayTeamAvgReceived</th>\n    </tr>\n  </thead>\n  <tbody>\n    <tr>\n      <th>0</th>\n      <td>B1</td>\n      <td>2000-08-12</td>\n      <td>0.0</td>\n      <td>0.0</td>\n      <td>D</td>\n      <td>0.0</td>\n      <td>0.0</td>\n      <td>D</td>\n      <td>2.00</td>\n      <td>3.6</td>\n      <td>...</td>\n      <td>False</td>\n      <td>False</td>\n      <td>False</td>\n      <td>False</td>\n      <td>Mechelen</td>\n      <td>Genk</td>\n      <td>NaN</td>\n      <td>NaN</td>\n      <td>NaN</td>\n      <td>NaN</td>\n    </tr>\n    <tr>\n      <th>1</th>\n      <td>B1</td>\n      <td>2000-08-12</td>\n      <td>0.0</td>\n      <td>0.0</td>\n      <td>D</td>\n      <td>0.0</td>\n      <td>0.0</td>\n      <td>D</td>\n      <td>2.30</td>\n      <td>3.3</td>\n      <td>...</td>\n      <td>False</td>\n      <td>False</td>\n      <td>False</td>\n      <td>False</td>\n      <td>Louvieroise</td>\n      <td>Lokeren</td>\n      <td>NaN</td>\n      <td>NaN</td>\n      <td>NaN</td>\n      <td>NaN</td>\n    </tr>\n    <tr>\n      <th>2</th>\n      <td>B1</td>\n      <td>2000-08-12</td>\n      <td>3.0</td>\n      <td>0.0</td>\n      <td>H</td>\n      <td>1.0</td>\n      <td>0.0</td>\n      <td>H</td>\n      <td>1.90</td>\n      <td>3.3</td>\n      <td>...</td>\n      <td>False</td>\n      <td>False</td>\n      <td>False</td>\n      <td>False</td>\n      <td>Mouscron</td>\n      <td>Germinal</td>\n      <td>NaN</td>\n      <td>NaN</td>\n      <td>NaN</td>\n      <td>NaN</td>\n    </tr>\n    <tr>\n      <th>3</th>\n      <td>B1</td>\n      <td>2000-08-12</td>\n      <td>2.0</td>\n      <td>1.0</td>\n      <td>H</td>\n      <td>1.0</td>\n      <td>0.0</td>\n      <td>H</td>\n      <td>1.41</td>\n      <td>4.1</td>\n      <td>...</td>\n      <td>False</td>\n      <td>False</td>\n      <td>False</td>\n      <td>False</td>\n      <td>Westerlo</td>\n      <td>Antwerp</td>\n      <td>NaN</td>\n      <td>NaN</td>\n      <td>NaN</td>\n      <td>NaN</td>\n    </tr>\n    <tr>\n      <th>4</th>\n      <td>B1</td>\n      <td>2000-08-12</td>\n      <td>1.0</td>\n      <td>2.0</td>\n      <td>A</td>\n      <td>1.0</td>\n      <td>1.0</td>\n      <td>D</td>\n      <td>2.20</td>\n      <td>3.5</td>\n      <td>...</td>\n      <td>False</td>\n      <td>False</td>\n      <td>False</td>\n      <td>False</td>\n      <td>Beveren</td>\n      <td>Charleroi</td>\n      <td>NaN</td>\n      <td>NaN</td>\n      <td>NaN</td>\n      <td>NaN</td>\n    </tr>\n    <tr>\n      <th>...</th>\n      <td>...</td>\n      <td>...</td>\n      <td>...</td>\n      <td>...</td>\n      <td>...</td>\n      <td>...</td>\n      <td>...</td>\n      <td>...</td>\n      <td>...</td>\n      <td>...</td>\n      <td>...</td>\n      <td>...</td>\n      <td>...</td>\n      <td>...</td>\n      <td>...</td>\n      <td>...</td>\n      <td>...</td>\n      <td>...</td>\n      <td>...</td>\n      <td>...</td>\n      <td>...</td>\n    </tr>\n    <tr>\n      <th>5787</th>\n      <td>B1</td>\n      <td>2022-04-10</td>\n      <td>0.0</td>\n      <td>2.0</td>\n      <td>A</td>\n      <td>0.0</td>\n      <td>1.0</td>\n      <td>A</td>\n      <td>NaN</td>\n      <td>NaN</td>\n      <td>...</td>\n      <td>False</td>\n      <td>False</td>\n      <td>False</td>\n      <td>False</td>\n      <td>Seraing</td>\n      <td>Genk</td>\n      <td>0.909091</td>\n      <td>1.747774</td>\n      <td>2.000000</td>\n      <td>1.277448</td>\n    </tr>\n    <tr>\n      <th>5788</th>\n      <td>B1</td>\n      <td>2022-04-10</td>\n      <td>2.0</td>\n      <td>0.0</td>\n      <td>H</td>\n      <td>1.0</td>\n      <td>0.0</td>\n      <td>H</td>\n      <td>NaN</td>\n      <td>NaN</td>\n      <td>...</td>\n      <td>False</td>\n      <td>False</td>\n      <td>False</td>\n      <td>False</td>\n      <td>Club Brugge</td>\n      <td>Mechelen</td>\n      <td>2.057269</td>\n      <td>1.307692</td>\n      <td>0.997063</td>\n      <td>1.627859</td>\n    </tr>\n    <tr>\n      <th>5789</th>\n      <td>B1</td>\n      <td>2022-04-10</td>\n      <td>3.0</td>\n      <td>0.0</td>\n      <td>H</td>\n      <td>2.0</td>\n      <td>0.0</td>\n      <td>H</td>\n      <td>NaN</td>\n      <td>NaN</td>\n      <td>...</td>\n      <td>False</td>\n      <td>False</td>\n      <td>False</td>\n      <td>False</td>\n      <td>St Truiden</td>\n      <td>Standard</td>\n      <td>1.183274</td>\n      <td>1.654572</td>\n      <td>1.528470</td>\n      <td>1.100145</td>\n    </tr>\n    <tr>\n      <th>5790</th>\n      <td>B1</td>\n      <td>2022-04-10</td>\n      <td>2.0</td>\n      <td>3.0</td>\n      <td>A</td>\n      <td>1.0</td>\n      <td>1.0</td>\n      <td>D</td>\n      <td>NaN</td>\n      <td>NaN</td>\n      <td>...</td>\n      <td>False</td>\n      <td>False</td>\n      <td>False</td>\n      <td>False</td>\n      <td>Kortrijk</td>\n      <td>Anderlecht</td>\n      <td>1.298795</td>\n      <td>2.028024</td>\n      <td>1.371084</td>\n      <td>0.939528</td>\n    </tr>\n    <tr>\n      <th>5791</th>\n      <td>B1</td>\n      <td>2022-04-10</td>\n      <td>3.0</td>\n      <td>0.0</td>\n      <td>H</td>\n      <td>3.0</td>\n      <td>0.0</td>\n      <td>H</td>\n      <td>NaN</td>\n      <td>NaN</td>\n      <td>...</td>\n      <td>False</td>\n      <td>False</td>\n      <td>True</td>\n      <td>False</td>\n      <td>Charleroi</td>\n      <td>Waregem</td>\n      <td>1.273556</td>\n      <td>1.459924</td>\n      <td>1.384498</td>\n      <td>1.528626</td>\n    </tr>\n  </tbody>\n</table>\n<p>5792 rows × 246 columns</p>\n</div>"
     },
     "execution_count": 141,
     "metadata": {},
     "output_type": "execute_result"
    }
   ],
   "source": [
    "blg"
   ],
   "metadata": {
    "collapsed": false,
    "ExecuteTime": {
     "end_time": "2023-12-29T13:01:03.159912300Z",
     "start_time": "2023-12-29T13:01:03.126193100Z"
    }
   },
   "id": "690be35c39820375"
  },
  {
   "cell_type": "code",
   "execution_count": 94,
   "outputs": [
    {
     "data": {
      "text/plain": "          HomeTeam     AwayTeam  FTHG  FTAG  HomeTeamAvgReceived  \\\n1175      Oostende     Westerlo   3.0   3.0                  NaN   \n1184      Germinal     Oostende   4.0   0.0             1.507576   \n1189      Oostende  Club Brugge   1.0   2.0             3.500000   \n1194        Bergen     Oostende   2.0   0.0             1.492537   \n1203      Oostende   Anderlecht   1.0   3.0             2.750000   \n...            ...          ...   ...   ...                  ...   \n5756    Anderlecht     Oostende   3.0   0.0             0.942136   \n5759      Oostende  Club Brugge   1.0   3.0             1.614094   \n5766  St. Gilloise     Oostende   1.0   1.0             0.800000   \n5778      Oostende      Seraing   2.0   2.0             1.616667   \n5784         Eupen     Oostende   0.0   2.0             1.833333   \n\n      AwayTeamAvgReceived  \n1175             1.518797  \n1184             3.000000  \n1189             0.946970  \n1194             3.000000  \n1203             0.883212  \n...                   ...  \n5756             1.609428  \n5759             0.997050  \n5766             1.618729  \n5778             2.000000  \n5784             1.617940  \n\n[302 rows x 6 columns]",
      "text/html": "<div>\n<style scoped>\n    .dataframe tbody tr th:only-of-type {\n        vertical-align: middle;\n    }\n\n    .dataframe tbody tr th {\n        vertical-align: top;\n    }\n\n    .dataframe thead th {\n        text-align: right;\n    }\n</style>\n<table border=\"1\" class=\"dataframe\">\n  <thead>\n    <tr style=\"text-align: right;\">\n      <th></th>\n      <th>HomeTeam</th>\n      <th>AwayTeam</th>\n      <th>FTHG</th>\n      <th>FTAG</th>\n      <th>HomeTeamAvgReceived</th>\n      <th>AwayTeamAvgReceived</th>\n    </tr>\n  </thead>\n  <tbody>\n    <tr>\n      <th>1175</th>\n      <td>Oostende</td>\n      <td>Westerlo</td>\n      <td>3.0</td>\n      <td>3.0</td>\n      <td>NaN</td>\n      <td>1.518797</td>\n    </tr>\n    <tr>\n      <th>1184</th>\n      <td>Germinal</td>\n      <td>Oostende</td>\n      <td>4.0</td>\n      <td>0.0</td>\n      <td>1.507576</td>\n      <td>3.000000</td>\n    </tr>\n    <tr>\n      <th>1189</th>\n      <td>Oostende</td>\n      <td>Club Brugge</td>\n      <td>1.0</td>\n      <td>2.0</td>\n      <td>3.500000</td>\n      <td>0.946970</td>\n    </tr>\n    <tr>\n      <th>1194</th>\n      <td>Bergen</td>\n      <td>Oostende</td>\n      <td>2.0</td>\n      <td>0.0</td>\n      <td>1.492537</td>\n      <td>3.000000</td>\n    </tr>\n    <tr>\n      <th>1203</th>\n      <td>Oostende</td>\n      <td>Anderlecht</td>\n      <td>1.0</td>\n      <td>3.0</td>\n      <td>2.750000</td>\n      <td>0.883212</td>\n    </tr>\n    <tr>\n      <th>...</th>\n      <td>...</td>\n      <td>...</td>\n      <td>...</td>\n      <td>...</td>\n      <td>...</td>\n      <td>...</td>\n    </tr>\n    <tr>\n      <th>5756</th>\n      <td>Anderlecht</td>\n      <td>Oostende</td>\n      <td>3.0</td>\n      <td>0.0</td>\n      <td>0.942136</td>\n      <td>1.609428</td>\n    </tr>\n    <tr>\n      <th>5759</th>\n      <td>Oostende</td>\n      <td>Club Brugge</td>\n      <td>1.0</td>\n      <td>3.0</td>\n      <td>1.614094</td>\n      <td>0.997050</td>\n    </tr>\n    <tr>\n      <th>5766</th>\n      <td>St. Gilloise</td>\n      <td>Oostende</td>\n      <td>1.0</td>\n      <td>1.0</td>\n      <td>0.800000</td>\n      <td>1.618729</td>\n    </tr>\n    <tr>\n      <th>5778</th>\n      <td>Oostende</td>\n      <td>Seraing</td>\n      <td>2.0</td>\n      <td>2.0</td>\n      <td>1.616667</td>\n      <td>2.000000</td>\n    </tr>\n    <tr>\n      <th>5784</th>\n      <td>Eupen</td>\n      <td>Oostende</td>\n      <td>0.0</td>\n      <td>2.0</td>\n      <td>1.833333</td>\n      <td>1.617940</td>\n    </tr>\n  </tbody>\n</table>\n<p>302 rows × 6 columns</p>\n</div>"
     },
     "execution_count": 94,
     "metadata": {},
     "output_type": "execute_result"
    }
   ],
   "source": [
    "blg[(blg[\"HomeTeam\"] == \"Oostende\") | (blg[\"AwayTeam\"] == \"Oostende\")][[\"HomeTeam\",\"AwayTeam\",\"FTHG\", \"FTAG\", \"HomeTeamAvgReceived\", \"AwayTeamAvgReceived\"]]"
   ],
   "metadata": {
    "collapsed": false,
    "ExecuteTime": {
     "end_time": "2023-12-29T10:56:10.506859600Z",
     "start_time": "2023-12-29T10:56:10.478910Z"
    }
   },
   "id": "f79e3f86b7175ae"
  },
  {
   "cell_type": "markdown",
   "source": [
    "### Add scored/received ratio for each team"
   ],
   "metadata": {
    "collapsed": false
   },
   "id": "cd633a5ebb1865b0"
  },
  {
   "cell_type": "code",
   "execution_count": 128,
   "outputs": [],
   "source": [
    "for country in dfs:\n",
    "    cnt = dfs[country]\n",
    "    cnt[\"HomeTeamScoredRatio\"] = cnt[\"HomeTeamAvgScored\"]/cnt[\"HomeTeamAvgReceived\"]\n",
    "    cnt[\"AwayTeamScoredRatio\"] = cnt[\"AwayTeamAvgScored\"]/cnt[\"AwayTeamAvgReceived\"]"
   ],
   "metadata": {
    "collapsed": false,
    "ExecuteTime": {
     "end_time": "2023-12-29T12:48:50.437169200Z",
     "start_time": "2023-12-29T12:48:50.416905400Z"
    }
   },
   "id": "5d347800c9a4fe39"
  },
  {
   "cell_type": "markdown",
   "source": [
    "# Export Dataset as .csv file"
   ],
   "metadata": {
    "collapsed": false,
    "ExecuteTime": {
     "end_time": "2023-12-28T19:52:34.000536200Z",
     "start_time": "2023-12-28T19:49:14.745306700Z"
    }
   },
   "id": "6ca8c6e9e8aa759e"
  },
  {
   "cell_type": "code",
   "execution_count": 129,
   "outputs": [
    {
     "data": {
      "text/plain": "     Div       Date  FTHG  FTAG FTR  HTHG  HTAG HTR   GBH  GBD  ...  \\\n0     B1 2000-08-12   0.0   0.0   D   0.0   0.0   D  2.00  3.6  ...   \n1     B1 2000-08-12   0.0   0.0   D   0.0   0.0   D  2.30  3.3  ...   \n2     B1 2000-08-12   3.0   0.0   H   1.0   0.0   H  1.90  3.3  ...   \n3     B1 2000-08-12   2.0   1.0   H   1.0   0.0   H  1.41  4.1  ...   \n4     B1 2000-08-12   1.0   2.0   A   1.0   1.0   D  2.20  3.5  ...   \n...   ..        ...   ...   ...  ..   ...   ...  ..   ...  ...  ...   \n5787  B1 2022-04-10   0.0   2.0   A   0.0   1.0   A   NaN  NaN  ...   \n5788  B1 2022-04-10   2.0   0.0   H   1.0   0.0   H   NaN  NaN  ...   \n5789  B1 2022-04-10   3.0   0.0   H   2.0   0.0   H   NaN  NaN  ...   \n5790  B1 2022-04-10   2.0   3.0   A   1.0   1.0   D   NaN  NaN  ...   \n5791  B1 2022-04-10   3.0   0.0   H   3.0   0.0   H   NaN  NaN  ...   \n\n      AwayTeam_Waregem  AwayTeam_Westerlo     HomeTeam    AwayTeam  \\\n0                False              False     Mechelen        Genk   \n1                False              False  Louvieroise     Lokeren   \n2                False              False     Mouscron    Germinal   \n3                False              False     Westerlo     Antwerp   \n4                False              False      Beveren   Charleroi   \n...                ...                ...          ...         ...   \n5787             False              False      Seraing        Genk   \n5788             False              False  Club Brugge    Mechelen   \n5789             False              False   St Truiden    Standard   \n5790             False              False     Kortrijk  Anderlecht   \n5791              True              False    Charleroi     Waregem   \n\n      HomeTeamAvgScored  AwayTeamAvgScored  HomeTeamAvgReceived  \\\n0                   NaN                NaN                  NaN   \n1                   NaN                NaN                  NaN   \n2                   NaN                NaN                  NaN   \n3                   NaN                NaN                  NaN   \n4                   NaN                NaN                  NaN   \n...                 ...                ...                  ...   \n5787           0.909091           1.747774             2.000000   \n5788           2.057269           1.307692             0.997063   \n5789           1.183274           1.654572             1.528470   \n5790           1.298795           2.028024             1.371084   \n5791           1.273556           1.459924             1.384498   \n\n      AwayTeamAvgReceived  HomeTeamScoredRatio  AwayTeamScoredRatio  \n0                     NaN                  NaN                  NaN  \n1                     NaN                  NaN                  NaN  \n2                     NaN                  NaN                  NaN  \n3                     NaN                  NaN                  NaN  \n4                     NaN                  NaN                  NaN  \n...                   ...                  ...                  ...  \n5787             1.277448             0.454545             1.368177  \n5788             1.627859             2.063328             0.803321  \n5789             1.100145             0.774156             1.503958  \n5790             0.939528             0.947276             2.158556  \n5791             1.528626             0.919868             0.955056  \n\n[5792 rows x 262 columns]",
      "text/html": "<div>\n<style scoped>\n    .dataframe tbody tr th:only-of-type {\n        vertical-align: middle;\n    }\n\n    .dataframe tbody tr th {\n        vertical-align: top;\n    }\n\n    .dataframe thead th {\n        text-align: right;\n    }\n</style>\n<table border=\"1\" class=\"dataframe\">\n  <thead>\n    <tr style=\"text-align: right;\">\n      <th></th>\n      <th>Div</th>\n      <th>Date</th>\n      <th>FTHG</th>\n      <th>FTAG</th>\n      <th>FTR</th>\n      <th>HTHG</th>\n      <th>HTAG</th>\n      <th>HTR</th>\n      <th>GBH</th>\n      <th>GBD</th>\n      <th>...</th>\n      <th>AwayTeam_Waregem</th>\n      <th>AwayTeam_Westerlo</th>\n      <th>HomeTeam</th>\n      <th>AwayTeam</th>\n      <th>HomeTeamAvgScored</th>\n      <th>AwayTeamAvgScored</th>\n      <th>HomeTeamAvgReceived</th>\n      <th>AwayTeamAvgReceived</th>\n      <th>HomeTeamScoredRatio</th>\n      <th>AwayTeamScoredRatio</th>\n    </tr>\n  </thead>\n  <tbody>\n    <tr>\n      <th>0</th>\n      <td>B1</td>\n      <td>2000-08-12</td>\n      <td>0.0</td>\n      <td>0.0</td>\n      <td>D</td>\n      <td>0.0</td>\n      <td>0.0</td>\n      <td>D</td>\n      <td>2.00</td>\n      <td>3.6</td>\n      <td>...</td>\n      <td>False</td>\n      <td>False</td>\n      <td>Mechelen</td>\n      <td>Genk</td>\n      <td>NaN</td>\n      <td>NaN</td>\n      <td>NaN</td>\n      <td>NaN</td>\n      <td>NaN</td>\n      <td>NaN</td>\n    </tr>\n    <tr>\n      <th>1</th>\n      <td>B1</td>\n      <td>2000-08-12</td>\n      <td>0.0</td>\n      <td>0.0</td>\n      <td>D</td>\n      <td>0.0</td>\n      <td>0.0</td>\n      <td>D</td>\n      <td>2.30</td>\n      <td>3.3</td>\n      <td>...</td>\n      <td>False</td>\n      <td>False</td>\n      <td>Louvieroise</td>\n      <td>Lokeren</td>\n      <td>NaN</td>\n      <td>NaN</td>\n      <td>NaN</td>\n      <td>NaN</td>\n      <td>NaN</td>\n      <td>NaN</td>\n    </tr>\n    <tr>\n      <th>2</th>\n      <td>B1</td>\n      <td>2000-08-12</td>\n      <td>3.0</td>\n      <td>0.0</td>\n      <td>H</td>\n      <td>1.0</td>\n      <td>0.0</td>\n      <td>H</td>\n      <td>1.90</td>\n      <td>3.3</td>\n      <td>...</td>\n      <td>False</td>\n      <td>False</td>\n      <td>Mouscron</td>\n      <td>Germinal</td>\n      <td>NaN</td>\n      <td>NaN</td>\n      <td>NaN</td>\n      <td>NaN</td>\n      <td>NaN</td>\n      <td>NaN</td>\n    </tr>\n    <tr>\n      <th>3</th>\n      <td>B1</td>\n      <td>2000-08-12</td>\n      <td>2.0</td>\n      <td>1.0</td>\n      <td>H</td>\n      <td>1.0</td>\n      <td>0.0</td>\n      <td>H</td>\n      <td>1.41</td>\n      <td>4.1</td>\n      <td>...</td>\n      <td>False</td>\n      <td>False</td>\n      <td>Westerlo</td>\n      <td>Antwerp</td>\n      <td>NaN</td>\n      <td>NaN</td>\n      <td>NaN</td>\n      <td>NaN</td>\n      <td>NaN</td>\n      <td>NaN</td>\n    </tr>\n    <tr>\n      <th>4</th>\n      <td>B1</td>\n      <td>2000-08-12</td>\n      <td>1.0</td>\n      <td>2.0</td>\n      <td>A</td>\n      <td>1.0</td>\n      <td>1.0</td>\n      <td>D</td>\n      <td>2.20</td>\n      <td>3.5</td>\n      <td>...</td>\n      <td>False</td>\n      <td>False</td>\n      <td>Beveren</td>\n      <td>Charleroi</td>\n      <td>NaN</td>\n      <td>NaN</td>\n      <td>NaN</td>\n      <td>NaN</td>\n      <td>NaN</td>\n      <td>NaN</td>\n    </tr>\n    <tr>\n      <th>...</th>\n      <td>...</td>\n      <td>...</td>\n      <td>...</td>\n      <td>...</td>\n      <td>...</td>\n      <td>...</td>\n      <td>...</td>\n      <td>...</td>\n      <td>...</td>\n      <td>...</td>\n      <td>...</td>\n      <td>...</td>\n      <td>...</td>\n      <td>...</td>\n      <td>...</td>\n      <td>...</td>\n      <td>...</td>\n      <td>...</td>\n      <td>...</td>\n      <td>...</td>\n      <td>...</td>\n    </tr>\n    <tr>\n      <th>5787</th>\n      <td>B1</td>\n      <td>2022-04-10</td>\n      <td>0.0</td>\n      <td>2.0</td>\n      <td>A</td>\n      <td>0.0</td>\n      <td>1.0</td>\n      <td>A</td>\n      <td>NaN</td>\n      <td>NaN</td>\n      <td>...</td>\n      <td>False</td>\n      <td>False</td>\n      <td>Seraing</td>\n      <td>Genk</td>\n      <td>0.909091</td>\n      <td>1.747774</td>\n      <td>2.000000</td>\n      <td>1.277448</td>\n      <td>0.454545</td>\n      <td>1.368177</td>\n    </tr>\n    <tr>\n      <th>5788</th>\n      <td>B1</td>\n      <td>2022-04-10</td>\n      <td>2.0</td>\n      <td>0.0</td>\n      <td>H</td>\n      <td>1.0</td>\n      <td>0.0</td>\n      <td>H</td>\n      <td>NaN</td>\n      <td>NaN</td>\n      <td>...</td>\n      <td>False</td>\n      <td>False</td>\n      <td>Club Brugge</td>\n      <td>Mechelen</td>\n      <td>2.057269</td>\n      <td>1.307692</td>\n      <td>0.997063</td>\n      <td>1.627859</td>\n      <td>2.063328</td>\n      <td>0.803321</td>\n    </tr>\n    <tr>\n      <th>5789</th>\n      <td>B1</td>\n      <td>2022-04-10</td>\n      <td>3.0</td>\n      <td>0.0</td>\n      <td>H</td>\n      <td>2.0</td>\n      <td>0.0</td>\n      <td>H</td>\n      <td>NaN</td>\n      <td>NaN</td>\n      <td>...</td>\n      <td>False</td>\n      <td>False</td>\n      <td>St Truiden</td>\n      <td>Standard</td>\n      <td>1.183274</td>\n      <td>1.654572</td>\n      <td>1.528470</td>\n      <td>1.100145</td>\n      <td>0.774156</td>\n      <td>1.503958</td>\n    </tr>\n    <tr>\n      <th>5790</th>\n      <td>B1</td>\n      <td>2022-04-10</td>\n      <td>2.0</td>\n      <td>3.0</td>\n      <td>A</td>\n      <td>1.0</td>\n      <td>1.0</td>\n      <td>D</td>\n      <td>NaN</td>\n      <td>NaN</td>\n      <td>...</td>\n      <td>False</td>\n      <td>False</td>\n      <td>Kortrijk</td>\n      <td>Anderlecht</td>\n      <td>1.298795</td>\n      <td>2.028024</td>\n      <td>1.371084</td>\n      <td>0.939528</td>\n      <td>0.947276</td>\n      <td>2.158556</td>\n    </tr>\n    <tr>\n      <th>5791</th>\n      <td>B1</td>\n      <td>2022-04-10</td>\n      <td>3.0</td>\n      <td>0.0</td>\n      <td>H</td>\n      <td>3.0</td>\n      <td>0.0</td>\n      <td>H</td>\n      <td>NaN</td>\n      <td>NaN</td>\n      <td>...</td>\n      <td>True</td>\n      <td>False</td>\n      <td>Charleroi</td>\n      <td>Waregem</td>\n      <td>1.273556</td>\n      <td>1.459924</td>\n      <td>1.384498</td>\n      <td>1.528626</td>\n      <td>0.919868</td>\n      <td>0.955056</td>\n    </tr>\n  </tbody>\n</table>\n<p>5792 rows × 262 columns</p>\n</div>"
     },
     "execution_count": 129,
     "metadata": {},
     "output_type": "execute_result"
    }
   ],
   "source": [
    "dfs[\"df_belgium\"]"
   ],
   "metadata": {
    "collapsed": false,
    "ExecuteTime": {
     "end_time": "2023-12-29T12:48:52.306213100Z",
     "start_time": "2023-12-29T12:48:52.260728900Z"
    }
   },
   "id": "c75349163754345e"
  },
  {
   "cell_type": "code",
   "execution_count": 117,
   "outputs": [],
   "source": [
    "for country in dfs:\n",
    "    dfs[country].to_csv(f\"data/{country}.csv\")"
   ],
   "metadata": {
    "collapsed": false,
    "ExecuteTime": {
     "end_time": "2023-12-29T11:10:23.454445100Z",
     "start_time": "2023-12-29T11:10:12.504939800Z"
    }
   },
   "id": "7515491c70f17e4c"
  }
 ],
 "metadata": {
  "kernelspec": {
   "display_name": "Python 3",
   "language": "python",
   "name": "python3"
  },
  "language_info": {
   "codemirror_mode": {
    "name": "ipython",
    "version": 3
   },
   "file_extension": ".py",
   "mimetype": "text/x-python",
   "name": "python",
   "nbconvert_exporter": "python",
   "pygments_lexer": "ipython3",
   "version": "3.11.4"
  }
 },
 "nbformat": 4,
 "nbformat_minor": 5
}
