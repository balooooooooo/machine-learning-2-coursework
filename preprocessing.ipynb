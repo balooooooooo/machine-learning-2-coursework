{
 "cells": [
  {
   "cell_type": "markdown",
   "id": "2714e0ed",
   "metadata": {},
   "source": [
    "# Libraries"
   ]
  },
  {
   "cell_type": "code",
   "execution_count": 267,
   "id": "initial_id",
   "metadata": {
    "ExecuteTime": {
     "end_time": "2023-11-04T11:20:26.297262100Z",
     "start_time": "2023-11-04T11:20:26.291729200Z"
    },
    "collapsed": true
   },
   "outputs": [],
   "source": [
    "import pandas as pd\n",
    "import numpy as np\n",
    "import os as os\n",
    "import matplotlib.pyplot as plt\n",
    "import matplotlib.ticker as mtick"
   ]
  },
  {
   "cell_type": "markdown",
   "id": "b0eaf693b8e5b699",
   "metadata": {
    "collapsed": false
   },
   "source": [
    "# Load train data\n",
    "\n",
    "- iterate through train data folder \n",
    "- feature engineer the **country** and **league** from parent folder name\n",
    "- join the loaded csv files by rows"
   ]
  },
  {
   "cell_type": "code",
   "execution_count": 268,
   "id": "64ab231c00a3a93c",
   "metadata": {
    "ExecuteTime": {
     "end_time": "2023-11-04T13:31:20.792418100Z",
     "start_time": "2023-11-04T13:30:35.594697800Z"
    },
    "collapsed": false
   },
   "outputs": [],
   "source": [
    "df = pd.DataFrame()\n",
    "for root, directory, files in os.walk(\"data/train\", topdown=False):\n",
    "    if files:\n",
    "        for file in files:\n",
    "            tmp = pd.read_csv(f\"{root}/{file}\")\n",
    "            # Remove empty rows and columns\n",
    "            tmp = tmp.dropna(how='all', axis=0)\n",
    "            tmp = tmp.dropna(how='all', axis=1)\n",
    "            # Derive additional columns\n",
    "            tmp[\"league\"] = int(root.split(\"\\\\\")[2])\n",
    "            tmp[\"country\"] = root.split(\"\\\\\")[1]\n",
    "            tmp[\"season\"] = int(file[:2]) # no. of season - 00/01 - 0th season, 21/22 - 21st season\n",
    "            df = pd.concat([df, tmp], axis = 0)"
   ]
  },
  {
   "cell_type": "markdown",
   "id": "861bc86b",
   "metadata": {},
   "source": [
    "## Data validation\n",
    "\n",
    "In some cases, the data is wrong. This section correct the loaded data."
   ]
  },
  {
   "cell_type": "markdown",
   "id": "8cabd5ae",
   "metadata": {},
   "source": [
    "### Random unnamed data\n",
    "\n",
    "File *'data/train/portugal/1/0304.csv'* contains random data in columns *'Unnamed: 33'* and *'Unnamed: 34'*."
   ]
  },
  {
   "cell_type": "code",
   "execution_count": 269,
   "id": "f236657a",
   "metadata": {},
   "outputs": [
    {
     "data": {
      "text/html": [
       "<div>\n",
       "<style scoped>\n",
       "    .dataframe tbody tr th:only-of-type {\n",
       "        vertical-align: middle;\n",
       "    }\n",
       "\n",
       "    .dataframe tbody tr th {\n",
       "        vertical-align: top;\n",
       "    }\n",
       "\n",
       "    .dataframe thead th {\n",
       "        text-align: right;\n",
       "    }\n",
       "</style>\n",
       "<table border=\"1\" class=\"dataframe\">\n",
       "  <thead>\n",
       "    <tr style=\"text-align: right;\">\n",
       "      <th></th>\n",
       "      <th>Unnamed: 32</th>\n",
       "      <th>Unnamed: 33</th>\n",
       "      <th>Unnamed: 34</th>\n",
       "    </tr>\n",
       "  </thead>\n",
       "  <tbody>\n",
       "    <tr>\n",
       "      <th>157</th>\n",
       "      <td>2.0</td>\n",
       "      <td>1.8</td>\n",
       "      <td>-1.75</td>\n",
       "    </tr>\n",
       "  </tbody>\n",
       "</table>\n",
       "</div>"
      ],
      "text/plain": [
       "     Unnamed: 32  Unnamed: 33  Unnamed: 34\n",
       "157          2.0          1.8        -1.75"
      ]
     },
     "execution_count": 269,
     "metadata": {},
     "output_type": "execute_result"
    }
   ],
   "source": [
    "unnamed_cols_df = df[['Unnamed: 32', 'Unnamed: 33', 'Unnamed: 34']]\n",
    "unnamed_cols_df[unnamed_cols_df.notnull().any(axis=1)]"
   ]
  },
  {
   "cell_type": "markdown",
   "id": "219ff163",
   "metadata": {},
   "source": [
    "Since we do not know what these columns represent, and it is only one non-NA row from the whole dataset, this column is removed."
   ]
  },
  {
   "cell_type": "code",
   "execution_count": 270,
   "id": "885fdad6",
   "metadata": {},
   "outputs": [],
   "source": [
    "df = df.drop(columns = unnamed_cols_df.columns)"
   ]
  },
  {
   "cell_type": "markdown",
   "id": "acbfd347",
   "metadata": {},
   "source": [
    "### Wrong betting odds names\n",
    "\n",
    "File *'data/train/germany/2/0405.csv'* contains columns **LB**, **LB.1** and **LB.2**, which are unique only to this file. After further investigation, they represent the betting odds data for Ladbrokers. After looking at the data more thoroughly, it can be guessed that all three columns represent odds for home win, away win, and draw."
   ]
  },
  {
   "cell_type": "code",
   "execution_count": 271,
   "id": "be173b52",
   "metadata": {},
   "outputs": [
    {
     "data": {
      "text/html": [
       "<div>\n",
       "<style scoped>\n",
       "    .dataframe tbody tr th:only-of-type {\n",
       "        vertical-align: middle;\n",
       "    }\n",
       "\n",
       "    .dataframe tbody tr th {\n",
       "        vertical-align: top;\n",
       "    }\n",
       "\n",
       "    .dataframe thead th {\n",
       "        text-align: right;\n",
       "    }\n",
       "</style>\n",
       "<table border=\"1\" class=\"dataframe\">\n",
       "  <thead>\n",
       "    <tr style=\"text-align: right;\">\n",
       "      <th></th>\n",
       "      <th>LB</th>\n",
       "      <th>LB.1</th>\n",
       "      <th>LB.2</th>\n",
       "      <th>SBH</th>\n",
       "      <th>SBD</th>\n",
       "      <th>SBA</th>\n",
       "      <th>WHH</th>\n",
       "      <th>WHD</th>\n",
       "      <th>WHA</th>\n",
       "      <th>GBAHH</th>\n",
       "      <th>GBAHA</th>\n",
       "      <th>GBAH</th>\n",
       "    </tr>\n",
       "  </thead>\n",
       "  <tbody>\n",
       "    <tr>\n",
       "      <th>2</th>\n",
       "      <td>1.67</td>\n",
       "      <td>3.25</td>\n",
       "      <td>NaN</td>\n",
       "      <td>1.62</td>\n",
       "      <td>3.75</td>\n",
       "      <td>5.00</td>\n",
       "      <td>1.65</td>\n",
       "      <td>3.30</td>\n",
       "      <td>4.60</td>\n",
       "      <td>1.65</td>\n",
       "      <td>2.02</td>\n",
       "      <td>-0.50</td>\n",
       "    </tr>\n",
       "    <tr>\n",
       "      <th>6</th>\n",
       "      <td>2.00</td>\n",
       "      <td>3.20</td>\n",
       "      <td>NaN</td>\n",
       "      <td>2.10</td>\n",
       "      <td>3.20</td>\n",
       "      <td>3.25</td>\n",
       "      <td>2.15</td>\n",
       "      <td>3.10</td>\n",
       "      <td>3.00</td>\n",
       "      <td>1.77</td>\n",
       "      <td>1.95</td>\n",
       "      <td>-0.25</td>\n",
       "    </tr>\n",
       "    <tr>\n",
       "      <th>7</th>\n",
       "      <td>1.91</td>\n",
       "      <td>3.25</td>\n",
       "      <td>NaN</td>\n",
       "      <td>2.00</td>\n",
       "      <td>3.30</td>\n",
       "      <td>3.40</td>\n",
       "      <td>1.90</td>\n",
       "      <td>3.25</td>\n",
       "      <td>3.40</td>\n",
       "      <td>1.95</td>\n",
       "      <td>1.70</td>\n",
       "      <td>-0.50</td>\n",
       "    </tr>\n",
       "    <tr>\n",
       "      <th>12</th>\n",
       "      <td>2.60</td>\n",
       "      <td>3.20</td>\n",
       "      <td>2.38</td>\n",
       "      <td>2.70</td>\n",
       "      <td>3.20</td>\n",
       "      <td>2.40</td>\n",
       "      <td>2.50</td>\n",
       "      <td>3.10</td>\n",
       "      <td>2.50</td>\n",
       "      <td>1.43</td>\n",
       "      <td>2.50</td>\n",
       "      <td>0.50</td>\n",
       "    </tr>\n",
       "    <tr>\n",
       "      <th>15</th>\n",
       "      <td>2.25</td>\n",
       "      <td>3.20</td>\n",
       "      <td>2.75</td>\n",
       "      <td>2.40</td>\n",
       "      <td>3.00</td>\n",
       "      <td>2.88</td>\n",
       "      <td>2.20</td>\n",
       "      <td>3.10</td>\n",
       "      <td>2.87</td>\n",
       "      <td>2.30</td>\n",
       "      <td>1.48</td>\n",
       "      <td>-0.50</td>\n",
       "    </tr>\n",
       "    <tr>\n",
       "      <th>...</th>\n",
       "      <td>...</td>\n",
       "      <td>...</td>\n",
       "      <td>...</td>\n",
       "      <td>...</td>\n",
       "      <td>...</td>\n",
       "      <td>...</td>\n",
       "      <td>...</td>\n",
       "      <td>...</td>\n",
       "      <td>...</td>\n",
       "      <td>...</td>\n",
       "      <td>...</td>\n",
       "      <td>...</td>\n",
       "    </tr>\n",
       "    <tr>\n",
       "      <th>291</th>\n",
       "      <td>2.40</td>\n",
       "      <td>3.25</td>\n",
       "      <td>2.50</td>\n",
       "      <td>2.50</td>\n",
       "      <td>3.25</td>\n",
       "      <td>2.50</td>\n",
       "      <td>2.45</td>\n",
       "      <td>3.25</td>\n",
       "      <td>2.45</td>\n",
       "      <td>2.45</td>\n",
       "      <td>1.43</td>\n",
       "      <td>-0.50</td>\n",
       "    </tr>\n",
       "    <tr>\n",
       "      <th>294</th>\n",
       "      <td>2.00</td>\n",
       "      <td>3.00</td>\n",
       "      <td>3.40</td>\n",
       "      <td>2.10</td>\n",
       "      <td>3.20</td>\n",
       "      <td>3.25</td>\n",
       "      <td>2.10</td>\n",
       "      <td>3.20</td>\n",
       "      <td>3.00</td>\n",
       "      <td>1.91</td>\n",
       "      <td>1.70</td>\n",
       "      <td>-0.50</td>\n",
       "    </tr>\n",
       "    <tr>\n",
       "      <th>295</th>\n",
       "      <td>2.25</td>\n",
       "      <td>3.20</td>\n",
       "      <td>2.75</td>\n",
       "      <td>2.38</td>\n",
       "      <td>3.10</td>\n",
       "      <td>2.88</td>\n",
       "      <td>2.37</td>\n",
       "      <td>3.30</td>\n",
       "      <td>2.50</td>\n",
       "      <td>2.20</td>\n",
       "      <td>1.52</td>\n",
       "      <td>-0.50</td>\n",
       "    </tr>\n",
       "    <tr>\n",
       "      <th>297</th>\n",
       "      <td>1.62</td>\n",
       "      <td>3.25</td>\n",
       "      <td>5.00</td>\n",
       "      <td>1.60</td>\n",
       "      <td>3.75</td>\n",
       "      <td>5.00</td>\n",
       "      <td>1.60</td>\n",
       "      <td>3.30</td>\n",
       "      <td>5.00</td>\n",
       "      <td>1.62</td>\n",
       "      <td>2.06</td>\n",
       "      <td>-0.50</td>\n",
       "    </tr>\n",
       "    <tr>\n",
       "      <th>299</th>\n",
       "      <td>1.73</td>\n",
       "      <td>3.20</td>\n",
       "      <td>4.33</td>\n",
       "      <td>1.75</td>\n",
       "      <td>3.50</td>\n",
       "      <td>4.20</td>\n",
       "      <td>1.75</td>\n",
       "      <td>3.30</td>\n",
       "      <td>4.00</td>\n",
       "      <td>1.75</td>\n",
       "      <td>1.89</td>\n",
       "      <td>-0.50</td>\n",
       "    </tr>\n",
       "  </tbody>\n",
       "</table>\n",
       "<p>110 rows × 12 columns</p>\n",
       "</div>"
      ],
      "text/plain": [
       "       LB  LB.1  LB.2   SBH   SBD   SBA   WHH   WHD   WHA  GBAHH  GBAHA  GBAH\n",
       "2    1.67  3.25   NaN  1.62  3.75  5.00  1.65  3.30  4.60   1.65   2.02 -0.50\n",
       "6    2.00  3.20   NaN  2.10  3.20  3.25  2.15  3.10  3.00   1.77   1.95 -0.25\n",
       "7    1.91  3.25   NaN  2.00  3.30  3.40  1.90  3.25  3.40   1.95   1.70 -0.50\n",
       "12   2.60  3.20  2.38  2.70  3.20  2.40  2.50  3.10  2.50   1.43   2.50  0.50\n",
       "15   2.25  3.20  2.75  2.40  3.00  2.88  2.20  3.10  2.87   2.30   1.48 -0.50\n",
       "..    ...   ...   ...   ...   ...   ...   ...   ...   ...    ...    ...   ...\n",
       "291  2.40  3.25  2.50  2.50  3.25  2.50  2.45  3.25  2.45   2.45   1.43 -0.50\n",
       "294  2.00  3.00  3.40  2.10  3.20  3.25  2.10  3.20  3.00   1.91   1.70 -0.50\n",
       "295  2.25  3.20  2.75  2.38  3.10  2.88  2.37  3.30  2.50   2.20   1.52 -0.50\n",
       "297  1.62  3.25  5.00  1.60  3.75  5.00  1.60  3.30  5.00   1.62   2.06 -0.50\n",
       "299  1.73  3.20  4.33  1.75  3.50  4.20  1.75  3.30  4.00   1.75   1.89 -0.50\n",
       "\n",
       "[110 rows x 12 columns]"
      ]
     },
     "execution_count": 271,
     "metadata": {},
     "output_type": "execute_result"
    }
   ],
   "source": [
    "tmp = pd.read_csv(\"data/train/germany/2/0405.csv\")\n",
    "# Remove empty rows and columns\n",
    "tmp = tmp.dropna(how='all', axis=0)\n",
    "tmp = tmp.dropna(how='all', axis=1)\n",
    "tmp = tmp.loc[:, ~tmp.columns.str.startswith('Unnamed:')]\n",
    "tmp = tmp[tmp[['LB', 'LB.1', 'LB.2']].notnull().any(axis=1)]\n",
    "tmp.filter(regex='[HDAB12]$').iloc[:, -12:]"
   ]
  },
  {
   "cell_type": "markdown",
   "id": "4ec26c6f",
   "metadata": {},
   "source": [
    "Based on column similarity, we can make an edjucated guess that\n",
    "\n",
    "- **LB** should be **LBH**,\n",
    "- **LB.1** should be **LBD**, and\n",
    "- **LB.2** should be **LBA**"
   ]
  },
  {
   "cell_type": "code",
   "execution_count": 272,
   "id": "e992ecb0",
   "metadata": {},
   "outputs": [],
   "source": [
    "# If LB is not null, use that value and replace it in LBH\n",
    "df[\"LBH\"] = df[\"LBH\"].mask(df[\"LB\"  ].notnull(), df[\"LB\"])\n",
    "df[\"LBD\"] = df[\"LBD\"].mask(df[\"LB.1\"].notnull(), df[\"LB.1\"])\n",
    "df[\"LBA\"] = df[\"LBA\"].mask(df[\"LB.2\"].notnull(), df[\"LB.2\"])\n",
    "df = df.drop(columns = [\"LB\", \"LB.1\", \"LB.2\"])"
   ]
  },
  {
   "cell_type": "markdown",
   "id": "a88aa389",
   "metadata": {},
   "source": [
    "### Same name for different things\n",
    "\n",
    "In some cases, columns are named differently. We will standardize to use column names that are in *'notes.txt'*\n"
   ]
  },
  {
   "cell_type": "code",
   "execution_count": 277,
   "id": "3fbb2cbb",
   "metadata": {},
   "outputs": [
    {
     "name": "stdout",
     "output_type": "stream",
     "text": [
      "Cases for HFKC: data/train\\belgium\\1, 1718.csv\n",
      "Cases for HFKC: data/train\\belgium\\1, 1819.csv\n",
      "Cases for HFKC: data/train\\france\\2, 1718.csv\n",
      "Cases for HT: data/train\\greece\\1, 0001.csv\n",
      "Cases for AT: data/train\\greece\\1, 0001.csv\n",
      "Cases for HT: data/train\\greece\\1, 0102.csv\n",
      "Cases for AT: data/train\\greece\\1, 0102.csv\n",
      "Cases for HT: data/train\\greece\\1, 0203.csv\n",
      "Cases for AT: data/train\\greece\\1, 0203.csv\n",
      "Cases for HT: data/train\\greece\\1, 0304.csv\n",
      "Cases for AT: data/train\\greece\\1, 0304.csv\n",
      "Cases for HT: data/train\\greece\\1, 0405.csv\n",
      "Cases for AT: data/train\\greece\\1, 0405.csv\n",
      "Cases for HFKC: data/train\\greece\\1, 1718.csv\n",
      "Cases for HFKC: data/train\\greece\\1, 1819.csv\n"
     ]
    }
   ],
   "source": [
    "for root, directory, files in os.walk(\"data/train\", topdown=False):\n",
    "    if files:\n",
    "        for file in files:\n",
    "            tmp = pd.read_csv(f\"{root}/{file}\")\n",
    "            if \"HT\" in tmp.columns:\n",
    "                print(f\"Cases for HT: {root}, {file}\")\n",
    "            if \"AT\" in tmp.columns:\n",
    "                print(f\"Cases for AT: {root}, {file}\")"
   ]
  },
  {
   "cell_type": "markdown",
   "id": "82a0e507",
   "metadata": {},
   "source": [
    "The only affected data are in Greece."
   ]
  },
  {
   "cell_type": "code",
   "execution_count": 278,
   "id": "881fd64fbd3e6f2c",
   "metadata": {
    "ExecuteTime": {
     "end_time": "2023-11-04T10:56:30.143056Z",
     "start_time": "2023-11-04T10:56:30.111535700Z"
    },
    "collapsed": false
   },
   "outputs": [],
   "source": [
    "df[\"HomeTeam\"] = df[\"HomeTeam\"].mask(df[\"HT\"].notnull(), df[\"HT\"])\n",
    "df[\"AwayTeam\"] = df[\"AwayTeam\"].mask(df[\"AT\"].notnull(), df[\"AT\"])\n",
    "df = df.drop(columns = [\"HT\", \"AT\"])"
   ]
  },
  {
   "cell_type": "markdown",
   "id": "bf5723ec",
   "metadata": {},
   "source": [
    "### !!! Free Kicks Conceded\n",
    "\n",
    "As per the data description:\n",
    "\n",
    "> Note that Free Kicks Conceeded (HFKC, AFKC) includes fouls, offsides and any other offense commmitted and will always be equal to or higher than the number of fouls. \\\n",
    "> Fouls make up the vast majority of Free Kicks Conceded. \\\n",
    "> Free Kicks Conceded are shown when specific data on Fouls are not available (France 2nd, Belgium 1st and Greece 1st divisions).\n",
    "\n",
    "Which can be further verified by:"
   ]
  },
  {
   "cell_type": "code",
   "execution_count": 282,
   "id": "db53f7fa",
   "metadata": {},
   "outputs": [
    {
     "name": "stdout",
     "output_type": "stream",
     "text": [
      "data/train\\belgium\\1, 1718.csv\n",
      "data/train\\belgium\\1, 1819.csv\n",
      "data/train\\france\\2, 1718.csv\n",
      "data/train\\greece\\1, 1718.csv\n",
      "data/train\\greece\\1, 1819.csv\n"
     ]
    }
   ],
   "source": [
    "for root, directory, files in os.walk(\"data/train\", topdown=False):\n",
    "    if files:\n",
    "        for file in files:\n",
    "            tmp = pd.read_csv(f\"{root}/{file}\")\n",
    "            if \"HFKC\" in tmp.columns or \"AFKC\" in tmp.columns:\n",
    "                print(f\"{root}, {file}\")"
   ]
  },
  {
   "cell_type": "markdown",
   "id": "60603c9d",
   "metadata": {},
   "source": [
    "CO S TÍM DÁL AAAAA"
   ]
  },
  {
   "cell_type": "markdown",
   "id": "16480e6d",
   "metadata": {},
   "source": [
    "### Negative odds\n",
    "\n",
    "In some cases, the odds of something happening are negative."
   ]
  },
  {
   "cell_type": "code",
   "execution_count": 306,
   "id": "94e55728",
   "metadata": {},
   "outputs": [
    {
     "data": {
      "text/html": [
       "<div>\n",
       "<style scoped>\n",
       "    .dataframe tbody tr th:only-of-type {\n",
       "        vertical-align: middle;\n",
       "    }\n",
       "\n",
       "    .dataframe tbody tr th {\n",
       "        vertical-align: top;\n",
       "    }\n",
       "\n",
       "    .dataframe thead th {\n",
       "        text-align: right;\n",
       "    }\n",
       "</style>\n",
       "<table border=\"1\" class=\"dataframe\">\n",
       "  <thead>\n",
       "    <tr style=\"text-align: right;\">\n",
       "      <th></th>\n",
       "      <th>FTAG</th>\n",
       "      <th>GBAHA</th>\n",
       "      <th>GBAH</th>\n",
       "      <th>B365AH</th>\n",
       "      <th>AHh</th>\n",
       "      <th>AHCh</th>\n",
       "      <th>LBAHH</th>\n",
       "      <th>LBAHA</th>\n",
       "      <th>LBAH</th>\n",
       "    </tr>\n",
       "  </thead>\n",
       "  <tbody>\n",
       "    <tr>\n",
       "      <th>14</th>\n",
       "      <td>0.0</td>\n",
       "      <td>1.52</td>\n",
       "      <td>-0.5</td>\n",
       "      <td>NaN</td>\n",
       "      <td>NaN</td>\n",
       "      <td>NaN</td>\n",
       "      <td>NaN</td>\n",
       "      <td>NaN</td>\n",
       "      <td>NaN</td>\n",
       "    </tr>\n",
       "    <tr>\n",
       "      <th>16</th>\n",
       "      <td>1.0</td>\n",
       "      <td>2.84</td>\n",
       "      <td>-0.5</td>\n",
       "      <td>NaN</td>\n",
       "      <td>NaN</td>\n",
       "      <td>NaN</td>\n",
       "      <td>NaN</td>\n",
       "      <td>NaN</td>\n",
       "      <td>NaN</td>\n",
       "    </tr>\n",
       "    <tr>\n",
       "      <th>20</th>\n",
       "      <td>0.0</td>\n",
       "      <td>1.94</td>\n",
       "      <td>-0.5</td>\n",
       "      <td>NaN</td>\n",
       "      <td>NaN</td>\n",
       "      <td>NaN</td>\n",
       "      <td>NaN</td>\n",
       "      <td>NaN</td>\n",
       "      <td>NaN</td>\n",
       "    </tr>\n",
       "    <tr>\n",
       "      <th>22</th>\n",
       "      <td>1.0</td>\n",
       "      <td>1.73</td>\n",
       "      <td>-0.5</td>\n",
       "      <td>NaN</td>\n",
       "      <td>NaN</td>\n",
       "      <td>NaN</td>\n",
       "      <td>NaN</td>\n",
       "      <td>NaN</td>\n",
       "      <td>NaN</td>\n",
       "    </tr>\n",
       "    <tr>\n",
       "      <th>23</th>\n",
       "      <td>1.0</td>\n",
       "      <td>1.61</td>\n",
       "      <td>-0.5</td>\n",
       "      <td>NaN</td>\n",
       "      <td>NaN</td>\n",
       "      <td>NaN</td>\n",
       "      <td>NaN</td>\n",
       "      <td>NaN</td>\n",
       "      <td>NaN</td>\n",
       "    </tr>\n",
       "    <tr>\n",
       "      <th>...</th>\n",
       "      <td>...</td>\n",
       "      <td>...</td>\n",
       "      <td>...</td>\n",
       "      <td>...</td>\n",
       "      <td>...</td>\n",
       "      <td>...</td>\n",
       "      <td>...</td>\n",
       "      <td>...</td>\n",
       "      <td>...</td>\n",
       "    </tr>\n",
       "    <tr>\n",
       "      <th>366</th>\n",
       "      <td>2.0</td>\n",
       "      <td>NaN</td>\n",
       "      <td>NaN</td>\n",
       "      <td>NaN</td>\n",
       "      <td>-0.25</td>\n",
       "      <td>-0.25</td>\n",
       "      <td>NaN</td>\n",
       "      <td>NaN</td>\n",
       "      <td>NaN</td>\n",
       "    </tr>\n",
       "    <tr>\n",
       "      <th>367</th>\n",
       "      <td>1.0</td>\n",
       "      <td>NaN</td>\n",
       "      <td>NaN</td>\n",
       "      <td>NaN</td>\n",
       "      <td>-1.00</td>\n",
       "      <td>-1.25</td>\n",
       "      <td>NaN</td>\n",
       "      <td>NaN</td>\n",
       "      <td>NaN</td>\n",
       "    </tr>\n",
       "    <tr>\n",
       "      <th>368</th>\n",
       "      <td>1.0</td>\n",
       "      <td>NaN</td>\n",
       "      <td>NaN</td>\n",
       "      <td>NaN</td>\n",
       "      <td>-0.25</td>\n",
       "      <td>-0.50</td>\n",
       "      <td>NaN</td>\n",
       "      <td>NaN</td>\n",
       "      <td>NaN</td>\n",
       "    </tr>\n",
       "    <tr>\n",
       "      <th>370</th>\n",
       "      <td>2.0</td>\n",
       "      <td>NaN</td>\n",
       "      <td>NaN</td>\n",
       "      <td>NaN</td>\n",
       "      <td>-0.25</td>\n",
       "      <td>-0.25</td>\n",
       "      <td>NaN</td>\n",
       "      <td>NaN</td>\n",
       "      <td>NaN</td>\n",
       "    </tr>\n",
       "    <tr>\n",
       "      <th>371</th>\n",
       "      <td>1.0</td>\n",
       "      <td>NaN</td>\n",
       "      <td>NaN</td>\n",
       "      <td>NaN</td>\n",
       "      <td>-1.25</td>\n",
       "      <td>-1.00</td>\n",
       "      <td>NaN</td>\n",
       "      <td>NaN</td>\n",
       "      <td>NaN</td>\n",
       "    </tr>\n",
       "  </tbody>\n",
       "</table>\n",
       "<p>22203 rows × 9 columns</p>\n",
       "</div>"
      ],
      "text/plain": [
       "     FTAG  GBAHA  GBAH  B365AH   AHh  AHCh  LBAHH  LBAHA  LBAH\n",
       "14    0.0   1.52  -0.5     NaN   NaN   NaN    NaN    NaN   NaN\n",
       "16    1.0   2.84  -0.5     NaN   NaN   NaN    NaN    NaN   NaN\n",
       "20    0.0   1.94  -0.5     NaN   NaN   NaN    NaN    NaN   NaN\n",
       "22    1.0   1.73  -0.5     NaN   NaN   NaN    NaN    NaN   NaN\n",
       "23    1.0   1.61  -0.5     NaN   NaN   NaN    NaN    NaN   NaN\n",
       "..    ...    ...   ...     ...   ...   ...    ...    ...   ...\n",
       "366   2.0    NaN   NaN     NaN -0.25 -0.25    NaN    NaN   NaN\n",
       "367   1.0    NaN   NaN     NaN -1.00 -1.25    NaN    NaN   NaN\n",
       "368   1.0    NaN   NaN     NaN -0.25 -0.50    NaN    NaN   NaN\n",
       "370   2.0    NaN   NaN     NaN -0.25 -0.25    NaN    NaN   NaN\n",
       "371   1.0    NaN   NaN     NaN -1.25 -1.00    NaN    NaN   NaN\n",
       "\n",
       "[22203 rows x 9 columns]"
      ]
     },
     "execution_count": 306,
     "metadata": {},
     "output_type": "execute_result"
    }
   ],
   "source": [
    "numeric_columns = df.select_dtypes(exclude=object)\n",
    "negative_rows = numeric_columns.loc[(numeric_columns < 0).any(axis=1), (numeric_columns < 0).any(axis=0)]\n",
    "negative_rows"
   ]
  },
  {
   "cell_type": "markdown",
   "id": "fb5bd8fc",
   "metadata": {},
   "source": [
    "There are several possible fixes:\n",
    "\n",
    "- remove them\n",
    "- transfer them to absolute values\n",
    "- exponentiate them (as they could be log odds)"
   ]
  },
  {
   "cell_type": "markdown",
   "id": "5baf71ed",
   "metadata": {},
   "source": [
    "- - -"
   ]
  },
  {
   "cell_type": "code",
   "execution_count": null,
   "id": "bf0509bf35597b1a",
   "metadata": {
    "ExecuteTime": {
     "end_time": "2023-11-04T10:57:07.048071600Z",
     "start_time": "2023-11-04T10:57:07.030588300Z"
    },
    "collapsed": false
   },
   "outputs": [
    {
     "data": {
      "text/plain": [
       "(154953, 215)"
      ]
     },
     "execution_count": 81,
     "metadata": {},
     "output_type": "execute_result"
    }
   ],
   "source": [
    "df.shape"
   ]
  },
  {
   "cell_type": "markdown",
   "id": "a9ec006d07aaf9ed",
   "metadata": {
    "collapsed": false
   },
   "source": [
    "Drop all completely empty columns and rows which there is a lot of, dropped 41 empty columns in total."
   ]
  },
  {
   "cell_type": "code",
   "execution_count": null,
   "id": "a8f0e94069f87e82",
   "metadata": {
    "ExecuteTime": {
     "end_time": "2023-11-04T13:34:52.465068100Z",
     "start_time": "2023-11-04T13:34:52.234476500Z"
    },
    "collapsed": false
   },
   "outputs": [],
   "source": [
    "df.dropna(how='all', axis=1, inplace=True)"
   ]
  },
  {
   "cell_type": "code",
   "execution_count": null,
   "id": "ff1c67e0d03c41e8",
   "metadata": {
    "ExecuteTime": {
     "end_time": "2023-11-04T13:34:54.194059100Z",
     "start_time": "2023-11-04T13:34:54.163644800Z"
    },
    "collapsed": false
   },
   "outputs": [
    {
     "data": {
      "text/plain": [
       "(155173, 174)"
      ]
     },
     "execution_count": 69,
     "metadata": {},
     "output_type": "execute_result"
    }
   ],
   "source": [
    "df.shape"
   ]
  },
  {
   "cell_type": "code",
   "execution_count": null,
   "id": "709bc6a619cfdf40",
   "metadata": {
    "ExecuteTime": {
     "end_time": "2023-11-04T13:26:38.365207600Z",
     "start_time": "2023-11-04T13:26:27.963584400Z"
    },
    "collapsed": false
   },
   "outputs": [],
   "source": [
    "df.to_csv(\"final.csv\")"
   ]
  },
  {
   "cell_type": "markdown",
   "id": "2f822ca43aff7d4d",
   "metadata": {
    "collapsed": false
   },
   "source": [
    "# Data Exploration\n",
    "\n",
    "Total overview of all variables."
   ]
  },
  {
   "cell_type": "code",
   "execution_count": null,
   "id": "a76d2dc275b79d0c",
   "metadata": {
    "ExecuteTime": {
     "end_time": "2023-11-04T11:47:35.028277100Z",
     "start_time": "2023-11-04T11:47:33.377034Z"
    },
    "collapsed": false
   },
   "outputs": [
    {
     "data": {
      "text/html": [
       "<div>\n",
       "<style scoped>\n",
       "    .dataframe tbody tr th:only-of-type {\n",
       "        vertical-align: middle;\n",
       "    }\n",
       "\n",
       "    .dataframe tbody tr th {\n",
       "        vertical-align: top;\n",
       "    }\n",
       "\n",
       "    .dataframe thead th {\n",
       "        text-align: right;\n",
       "    }\n",
       "</style>\n",
       "<table border=\"1\" class=\"dataframe\">\n",
       "  <thead>\n",
       "    <tr style=\"text-align: right;\">\n",
       "      <th></th>\n",
       "      <th>FTHG</th>\n",
       "      <th>FTAG</th>\n",
       "      <th>HTHG</th>\n",
       "      <th>HTAG</th>\n",
       "      <th>GBH</th>\n",
       "      <th>GBD</th>\n",
       "      <th>GBA</th>\n",
       "      <th>IWH</th>\n",
       "      <th>IWD</th>\n",
       "      <th>IWA</th>\n",
       "      <th>...</th>\n",
       "      <th>ABP</th>\n",
       "      <th>SOH</th>\n",
       "      <th>SOD</th>\n",
       "      <th>SOA</th>\n",
       "      <th>LBAHH</th>\n",
       "      <th>LBAHA</th>\n",
       "      <th>LBAH</th>\n",
       "      <th>LB</th>\n",
       "      <th>LB.1</th>\n",
       "      <th>LB.2</th>\n",
       "    </tr>\n",
       "  </thead>\n",
       "  <tbody>\n",
       "    <tr>\n",
       "      <th>count</th>\n",
       "      <td>154864.000000</td>\n",
       "      <td>154841.000000</td>\n",
       "      <td>154813.000000</td>\n",
       "      <td>154820.000000</td>\n",
       "      <td>88060.000000</td>\n",
       "      <td>88123.000000</td>\n",
       "      <td>88106.000000</td>\n",
       "      <td>150729.000000</td>\n",
       "      <td>150735.000000</td>\n",
       "      <td>150766.000000</td>\n",
       "      <td>...</td>\n",
       "      <td>6671.000000</td>\n",
       "      <td>6599.000000</td>\n",
       "      <td>6613.000000</td>\n",
       "      <td>6614.000000</td>\n",
       "      <td>5470.000000</td>\n",
       "      <td>5470.000000</td>\n",
       "      <td>5458.000000</td>\n",
       "      <td>110.000000</td>\n",
       "      <td>110.000000</td>\n",
       "      <td>107.000000</td>\n",
       "    </tr>\n",
       "    <tr>\n",
       "      <th>mean</th>\n",
       "      <td>2.216358</td>\n",
       "      <td>1.130883</td>\n",
       "      <td>0.655636</td>\n",
       "      <td>0.494206</td>\n",
       "      <td>2.275366</td>\n",
       "      <td>3.381363</td>\n",
       "      <td>3.950892</td>\n",
       "      <td>2.335784</td>\n",
       "      <td>3.382514</td>\n",
       "      <td>3.753866</td>\n",
       "      <td>...</td>\n",
       "      <td>20.914406</td>\n",
       "      <td>2.216488</td>\n",
       "      <td>3.391382</td>\n",
       "      <td>3.833776</td>\n",
       "      <td>1.911200</td>\n",
       "      <td>1.924793</td>\n",
       "      <td>-0.350500</td>\n",
       "      <td>1.985955</td>\n",
       "      <td>3.258182</td>\n",
       "      <td>3.808477</td>\n",
       "    </tr>\n",
       "    <tr>\n",
       "      <th>std</th>\n",
       "      <td>21.861876</td>\n",
       "      <td>1.108967</td>\n",
       "      <td>0.809382</td>\n",
       "      <td>0.708167</td>\n",
       "      <td>1.039952</td>\n",
       "      <td>0.613622</td>\n",
       "      <td>2.195107</td>\n",
       "      <td>1.155085</td>\n",
       "      <td>0.713629</td>\n",
       "      <td>2.251540</td>\n",
       "      <td>...</td>\n",
       "      <td>17.212936</td>\n",
       "      <td>0.983779</td>\n",
       "      <td>0.481409</td>\n",
       "      <td>2.078919</td>\n",
       "      <td>0.174042</td>\n",
       "      <td>0.124442</td>\n",
       "      <td>0.588259</td>\n",
       "      <td>0.434470</td>\n",
       "      <td>0.170338</td>\n",
       "      <td>1.309792</td>\n",
       "    </tr>\n",
       "    <tr>\n",
       "      <th>min</th>\n",
       "      <td>0.000000</td>\n",
       "      <td>-1.000000</td>\n",
       "      <td>0.000000</td>\n",
       "      <td>0.000000</td>\n",
       "      <td>1.030000</td>\n",
       "      <td>1.250000</td>\n",
       "      <td>1.030000</td>\n",
       "      <td>1.010000</td>\n",
       "      <td>1.500000</td>\n",
       "      <td>1.030000</td>\n",
       "      <td>...</td>\n",
       "      <td>0.000000</td>\n",
       "      <td>1.060000</td>\n",
       "      <td>2.380000</td>\n",
       "      <td>1.140000</td>\n",
       "      <td>-2.250000</td>\n",
       "      <td>-0.500000</td>\n",
       "      <td>-2.250000</td>\n",
       "      <td>1.360000</td>\n",
       "      <td>3.000000</td>\n",
       "      <td>1.900000</td>\n",
       "    </tr>\n",
       "    <tr>\n",
       "      <th>25%</th>\n",
       "      <td>1.000000</td>\n",
       "      <td>0.000000</td>\n",
       "      <td>0.000000</td>\n",
       "      <td>0.000000</td>\n",
       "      <td>1.730000</td>\n",
       "      <td>3.100000</td>\n",
       "      <td>2.650000</td>\n",
       "      <td>1.750000</td>\n",
       "      <td>3.050000</td>\n",
       "      <td>2.550000</td>\n",
       "      <td>...</td>\n",
       "      <td>10.000000</td>\n",
       "      <td>1.700000</td>\n",
       "      <td>3.200000</td>\n",
       "      <td>2.620000</td>\n",
       "      <td>1.840000</td>\n",
       "      <td>1.840000</td>\n",
       "      <td>-0.750000</td>\n",
       "      <td>1.684250</td>\n",
       "      <td>3.200000</td>\n",
       "      <td>2.800000</td>\n",
       "    </tr>\n",
       "    <tr>\n",
       "      <th>50%</th>\n",
       "      <td>1.000000</td>\n",
       "      <td>1.000000</td>\n",
       "      <td>0.000000</td>\n",
       "      <td>0.000000</td>\n",
       "      <td>2.100000</td>\n",
       "      <td>3.250000</td>\n",
       "      <td>3.350000</td>\n",
       "      <td>2.100000</td>\n",
       "      <td>3.200000</td>\n",
       "      <td>3.200000</td>\n",
       "      <td>...</td>\n",
       "      <td>20.000000</td>\n",
       "      <td>2.100000</td>\n",
       "      <td>3.250000</td>\n",
       "      <td>3.250000</td>\n",
       "      <td>1.920000</td>\n",
       "      <td>1.920000</td>\n",
       "      <td>-0.250000</td>\n",
       "      <td>1.909000</td>\n",
       "      <td>3.200000</td>\n",
       "      <td>3.500000</td>\n",
       "    </tr>\n",
       "    <tr>\n",
       "      <th>75%</th>\n",
       "      <td>2.000000</td>\n",
       "      <td>2.000000</td>\n",
       "      <td>1.000000</td>\n",
       "      <td>1.000000</td>\n",
       "      <td>2.450000</td>\n",
       "      <td>3.450000</td>\n",
       "      <td>4.500000</td>\n",
       "      <td>2.500000</td>\n",
       "      <td>3.450000</td>\n",
       "      <td>4.200000</td>\n",
       "      <td>...</td>\n",
       "      <td>30.000000</td>\n",
       "      <td>2.400000</td>\n",
       "      <td>3.400000</td>\n",
       "      <td>4.500000</td>\n",
       "      <td>2.000000</td>\n",
       "      <td>2.000000</td>\n",
       "      <td>0.000000</td>\n",
       "      <td>2.237500</td>\n",
       "      <td>3.250000</td>\n",
       "      <td>4.333000</td>\n",
       "    </tr>\n",
       "    <tr>\n",
       "      <th>max</th>\n",
       "      <td>998.000000</td>\n",
       "      <td>13.000000</td>\n",
       "      <td>7.000000</td>\n",
       "      <td>6.000000</td>\n",
       "      <td>24.000000</td>\n",
       "      <td>11.000000</td>\n",
       "      <td>34.000000</td>\n",
       "      <td>30.000000</td>\n",
       "      <td>16.000000</td>\n",
       "      <td>70.000000</td>\n",
       "      <td>...</td>\n",
       "      <td>150.000000</td>\n",
       "      <td>13.000000</td>\n",
       "      <td>8.000000</td>\n",
       "      <td>21.000000</td>\n",
       "      <td>3.400000</td>\n",
       "      <td>4.000000</td>\n",
       "      <td>9.000000</td>\n",
       "      <td>3.500000</td>\n",
       "      <td>4.000000</td>\n",
       "      <td>8.000000</td>\n",
       "    </tr>\n",
       "  </tbody>\n",
       "</table>\n",
       "<p>8 rows × 161 columns</p>\n",
       "</div>"
      ],
      "text/plain": [
       "                FTHG           FTAG           HTHG           HTAG  \\\n",
       "count  154864.000000  154841.000000  154813.000000  154820.000000   \n",
       "mean        2.216358       1.130883       0.655636       0.494206   \n",
       "std        21.861876       1.108967       0.809382       0.708167   \n",
       "min         0.000000      -1.000000       0.000000       0.000000   \n",
       "25%         1.000000       0.000000       0.000000       0.000000   \n",
       "50%         1.000000       1.000000       0.000000       0.000000   \n",
       "75%         2.000000       2.000000       1.000000       1.000000   \n",
       "max       998.000000      13.000000       7.000000       6.000000   \n",
       "\n",
       "                GBH           GBD           GBA            IWH            IWD  \\\n",
       "count  88060.000000  88123.000000  88106.000000  150729.000000  150735.000000   \n",
       "mean       2.275366      3.381363      3.950892       2.335784       3.382514   \n",
       "std        1.039952      0.613622      2.195107       1.155085       0.713629   \n",
       "min        1.030000      1.250000      1.030000       1.010000       1.500000   \n",
       "25%        1.730000      3.100000      2.650000       1.750000       3.050000   \n",
       "50%        2.100000      3.250000      3.350000       2.100000       3.200000   \n",
       "75%        2.450000      3.450000      4.500000       2.500000       3.450000   \n",
       "max       24.000000     11.000000     34.000000      30.000000      16.000000   \n",
       "\n",
       "                 IWA  ...          ABP          SOH          SOD          SOA  \\\n",
       "count  150766.000000  ...  6671.000000  6599.000000  6613.000000  6614.000000   \n",
       "mean        3.753866  ...    20.914406     2.216488     3.391382     3.833776   \n",
       "std         2.251540  ...    17.212936     0.983779     0.481409     2.078919   \n",
       "min         1.030000  ...     0.000000     1.060000     2.380000     1.140000   \n",
       "25%         2.550000  ...    10.000000     1.700000     3.200000     2.620000   \n",
       "50%         3.200000  ...    20.000000     2.100000     3.250000     3.250000   \n",
       "75%         4.200000  ...    30.000000     2.400000     3.400000     4.500000   \n",
       "max        70.000000  ...   150.000000    13.000000     8.000000    21.000000   \n",
       "\n",
       "             LBAHH        LBAHA         LBAH          LB        LB.1  \\\n",
       "count  5470.000000  5470.000000  5458.000000  110.000000  110.000000   \n",
       "mean      1.911200     1.924793    -0.350500    1.985955    3.258182   \n",
       "std       0.174042     0.124442     0.588259    0.434470    0.170338   \n",
       "min      -2.250000    -0.500000    -2.250000    1.360000    3.000000   \n",
       "25%       1.840000     1.840000    -0.750000    1.684250    3.200000   \n",
       "50%       1.920000     1.920000    -0.250000    1.909000    3.200000   \n",
       "75%       2.000000     2.000000     0.000000    2.237500    3.250000   \n",
       "max       3.400000     4.000000     9.000000    3.500000    4.000000   \n",
       "\n",
       "             LB.2  \n",
       "count  107.000000  \n",
       "mean     3.808477  \n",
       "std      1.309792  \n",
       "min      1.900000  \n",
       "25%      2.800000  \n",
       "50%      3.500000  \n",
       "75%      4.333000  \n",
       "max      8.000000  \n",
       "\n",
       "[8 rows x 161 columns]"
      ]
     },
     "execution_count": 14,
     "metadata": {},
     "output_type": "execute_result"
    }
   ],
   "source": [
    "df.describe()"
   ]
  },
  {
   "cell_type": "markdown",
   "id": "34b17fe2",
   "metadata": {},
   "source": [
    "Percentage of missing values."
   ]
  },
  {
   "cell_type": "code",
   "execution_count": 307,
   "id": "dbd0ff92d61fb66f",
   "metadata": {
    "ExecuteTime": {
     "end_time": "2023-11-04T13:34:57.427125500Z",
     "start_time": "2023-11-04T13:34:57.334893400Z"
    },
    "collapsed": false
   },
   "outputs": [
    {
     "data": {
      "text/plain": [
       "HFKC          0.991572\n",
       "AFKC          0.991572\n",
       "SYD           0.964809\n",
       "LBAH          0.964776\n",
       "SYA           0.964757\n",
       "SYH           0.964757\n",
       "LBAHH         0.964699\n",
       "LBAHA         0.964699\n",
       "AO            0.958058\n",
       "HHW           0.958007\n",
       "AHW           0.957929\n",
       "HO            0.957923\n",
       "SOH           0.957413\n",
       "SOD           0.957323\n",
       "SOA           0.957316\n",
       "ABP           0.956948\n",
       "Attendance    0.956916\n",
       "HBP           0.956845\n",
       "B365AH        0.955735\n",
       "GBAHA         0.924880\n",
       "dtype: float64"
      ]
     },
     "execution_count": 307,
     "metadata": {},
     "output_type": "execute_result"
    }
   ],
   "source": [
    "na_vals = df.isna().sum()\n",
    "na_vals = na_vals/df.shape[0]\n",
    "na_vals = na_vals.sort_values()\n",
    "na_vals.sort_values(ascending = False).head(20)"
   ]
  },
  {
   "cell_type": "markdown",
   "id": "d45537cd",
   "metadata": {},
   "source": [
    "List of the most missing values."
   ]
  },
  {
   "cell_type": "code",
   "execution_count": null,
   "id": "b0dfb8726b2a7038",
   "metadata": {
    "ExecuteTime": {
     "end_time": "2023-11-04T13:37:49.823050600Z",
     "start_time": "2023-11-04T13:37:49.713807800Z"
    },
    "collapsed": false
   },
   "outputs": [
    {
     "data": {
      "text/plain": [
       "Div           0.000000\n",
       "Date          0.087754\n",
       "HomeTeam      0.000000\n",
       "AwayTeam      0.000000\n",
       "FTHG          0.034126\n",
       "               ...    \n",
       "LB          100.000000\n",
       "LB.1        100.000000\n",
       "LB.2        100.000000\n",
       "HT          100.000000\n",
       "AT          100.000000\n",
       "Length: 174, dtype: float64"
      ]
     },
     "execution_count": 40,
     "metadata": {},
     "output_type": "execute_result"
    }
   ],
   "source": [
    "na_vals = df[df[\"season\"] > 18].isna().sum()\n",
    "\n",
    "na_vals = na_vals/df[df[\"season\"] > 18].shape[0]*100\n",
    "na_vals"
   ]
  }
 ],
 "metadata": {
  "kernelspec": {
   "display_name": "Python 3",
   "language": "python",
   "name": "python3"
  },
  "language_info": {
   "codemirror_mode": {
    "name": "ipython",
    "version": 3
   },
   "file_extension": ".py",
   "mimetype": "text/x-python",
   "name": "python",
   "nbconvert_exporter": "python",
   "pygments_lexer": "ipython3",
   "version": "3.11.4"
  }
 },
 "nbformat": 4,
 "nbformat_minor": 5
}
