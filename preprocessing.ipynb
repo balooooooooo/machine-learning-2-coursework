{
 "cells": [
  {
   "cell_type": "markdown",
   "source": [
    "# Libraries"
   ],
   "metadata": {
    "collapsed": false
   },
   "id": "2714e0ed"
  },
  {
   "cell_type": "code",
   "execution_count": 72,
   "outputs": [],
   "source": [
    "import shutup\n",
    "import pandas as pd\n",
    "import numpy as np\n",
    "import os as os\n",
    "import matplotlib.pyplot as plt\n",
    "import re\n",
    "from sklearn.linear_model import PoissonRegressor"
   ],
   "metadata": {
    "collapsed": false,
    "ExecuteTime": {
     "end_time": "2024-01-04T17:41:59.288793100Z",
     "start_time": "2024-01-04T17:41:58.750160200Z"
    }
   },
   "id": "e051ae22ea092cdd"
  },
  {
   "cell_type": "markdown",
   "source": [
    "# Load train data\n",
    "\n",
    "- iterate through train data folder \n",
    "- feature engineer the **country** and **league** from parent folder name\n",
    "- join the loaded csv files by rows\n",
    "- removed quotation marks that would in some rows merge two columns into one"
   ],
   "metadata": {
    "collapsed": false
   },
   "id": "2ae94145eddab5e6"
  },
  {
   "cell_type": "code",
   "execution_count": 73,
   "outputs": [],
   "source": [
    "def replace_last(string, old, new):\n",
    "    return new.join(string.rsplit(old, 1))\n",
    "\n",
    "def delete_quotation_marks(path):\n",
    "    with open(path, \"r\") as f:\n",
    "        raw_file = f.readlines()\n",
    "        count=0\n",
    "        for i in range(len(raw_file)):\n",
    "            match = re.search(\"\\\"(\\+|-)?\\d+\\.?\\d*,(\\+|-)?\\d+\\.?\\d*\\\"\", raw_file[i])\n",
    "            if match:\n",
    "                count+=1\n",
    "                raw_file[i] = raw_file[i].replace(\"\\\"\",\"\")\n",
    "                raw_file[i] = replace_last(raw_file[i], \",\",\"\\n\")\n",
    "    with open(path, \"w\") as f:\n",
    "        f.writelines(raw_file)"
   ],
   "metadata": {
    "collapsed": false,
    "ExecuteTime": {
     "end_time": "2024-01-04T17:41:59.760154300Z",
     "start_time": "2024-01-04T17:41:58.764685400Z"
    }
   },
   "id": "cabc0efb30639685"
  },
  {
   "cell_type": "code",
   "execution_count": 74,
   "outputs": [],
   "source": [
    "### Load train data\n",
    "df = pd.DataFrame()\n",
    "for root, directory, files in os.walk(\"data/train\", topdown=False):\n",
    "    if files:\n",
    "        for file in files:\n",
    "            tmp = pd.read_csv(f\"{root}/{file}\")\n",
    "            # Remove empty rows and columns\n",
    "            tmp = tmp.dropna(how='all', axis=0)\n",
    "            tmp = tmp.dropna(how='all', axis=1)\n",
    "            # Derive additional columns\n",
    "            tmp[\"league\"] = int(root.split(\"\\\\\")[2])\n",
    "            tmp[\"country\"] = root.split(\"\\\\\")[1]\n",
    "            tmp[\"season\"] = int(file[:2]) # no. of season - 00/01 - 0th season, 21/22 - 21st season\n",
    "            df = pd.concat([df, tmp], axis = 0)\n",
    "\n",
    "### Load test data\n",
    "df_test = pd.DataFrame()\n",
    "for root, directory, files in os.walk(\"data/test\", topdown=False):\n",
    "    if files:\n",
    "        for file in files:\n",
    "            tmp = pd.read_csv(f\"{root}/{file}\")\n",
    "            # Remove empty rows and columns\n",
    "            tmp = tmp.dropna(how='all', axis=0)\n",
    "            tmp = tmp.dropna(how='all', axis=1)\n",
    "            # Derive additional columns\n",
    "            tmp[\"league\"] = int(root.split(\"\\\\\")[2])\n",
    "            tmp[\"country\"] = root.split(\"\\\\\")[1]\n",
    "            tmp[\"season\"] = 22 # no. of season - 00/01 - 0th season, 21/22 - 21st season\n",
    "            df_test = pd.concat([df_test, tmp], axis = 0)\n",
    "\n",
    "df = pd.concat([df, df_test], axis=0, join=\"outer\")"
   ],
   "metadata": {
    "collapsed": false,
    "ExecuteTime": {
     "end_time": "2024-01-04T17:42:21.613473100Z",
     "start_time": "2024-01-04T17:41:58.779711900Z"
    }
   },
   "id": "38d7588280b5dd96"
  },
  {
   "cell_type": "code",
   "execution_count": 75,
   "outputs": [],
   "source": [
    "# df[df[\"season\"] == 22 ][\"FTAG\"]"
   ],
   "metadata": {
    "collapsed": false,
    "ExecuteTime": {
     "end_time": "2024-01-04T17:42:21.631026100Z",
     "start_time": "2024-01-04T17:42:21.613473100Z"
    }
   },
   "id": "a3985957ba26b9a4"
  },
  {
   "cell_type": "code",
   "execution_count": 76,
   "outputs": [],
   "source": [
    "df.to_csv(\"combined.csv\")"
   ],
   "metadata": {
    "collapsed": false,
    "ExecuteTime": {
     "end_time": "2024-01-04T17:42:27.731199Z",
     "start_time": "2024-01-04T17:42:21.628023Z"
    }
   },
   "id": "ff8a9a332fc151b0"
  },
  {
   "cell_type": "code",
   "execution_count": 77,
   "outputs": [],
   "source": [
    "delete_quotation_marks(\"combined.csv\")"
   ],
   "metadata": {
    "collapsed": false,
    "ExecuteTime": {
     "end_time": "2024-01-04T17:42:28.492665700Z",
     "start_time": "2024-01-04T17:42:27.732199400Z"
    }
   },
   "id": "3bdecf73024ac859"
  },
  {
   "cell_type": "code",
   "execution_count": 78,
   "outputs": [],
   "source": [
    "shutup.please()\n",
    "df = pd.read_csv(\"combined.csv\")"
   ],
   "metadata": {
    "collapsed": false,
    "ExecuteTime": {
     "end_time": "2024-01-04T17:42:29.554798200Z",
     "start_time": "2024-01-04T17:42:28.492665700Z"
    }
   },
   "id": "13b6c7342ccd09f5"
  },
  {
   "cell_type": "markdown",
   "source": [
    "# Data validation\n",
    "\n",
    "In some cases, the data is wrong. This section corrects the loaded data."
   ],
   "metadata": {
    "collapsed": false
   },
   "id": "4ba4606dc9c7a36f"
  },
  {
   "cell_type": "markdown",
   "source": [
    "## Same name for different things\n",
    "\n",
    "In some cases, columns are named differently. We will standardize to use column names that are in *'notes.txt'*\n"
   ],
   "metadata": {
    "collapsed": false
   },
   "id": "13b8d39a27682c20"
  },
  {
   "cell_type": "code",
   "execution_count": 79,
   "outputs": [
    {
     "name": "stdout",
     "output_type": "stream",
     "text": [
      "Cases for HT: data/train\\greece\\1, 0001.csv\n",
      "Cases for AT: data/train\\greece\\1, 0001.csv\n",
      "Cases for HT: data/train\\greece\\1, 0102.csv\n",
      "Cases for AT: data/train\\greece\\1, 0102.csv\n",
      "Cases for HT: data/train\\greece\\1, 0203.csv\n",
      "Cases for AT: data/train\\greece\\1, 0203.csv\n",
      "Cases for HT: data/train\\greece\\1, 0304.csv\n",
      "Cases for AT: data/train\\greece\\1, 0304.csv\n",
      "Cases for HT: data/train\\greece\\1, 0405.csv\n",
      "Cases for AT: data/train\\greece\\1, 0405.csv\n"
     ]
    }
   ],
   "source": [
    "for root, directory, files in os.walk(\"data/train\", topdown=False):\n",
    "    if files:\n",
    "        for file in files:\n",
    "            tmp = pd.read_csv(f\"{root}/{file}\")\n",
    "            if \"HT\" in tmp.columns:\n",
    "                print(f\"Cases for HT: {root}, {file}\")\n",
    "            if \"AT\" in tmp.columns:\n",
    "                print(f\"Cases for AT: {root}, {file}\")"
   ],
   "metadata": {
    "collapsed": false,
    "ExecuteTime": {
     "end_time": "2024-01-04T17:42:30.698769900Z",
     "start_time": "2024-01-04T17:42:29.553294900Z"
    }
   },
   "id": "b38a427d869d5318"
  },
  {
   "cell_type": "markdown",
   "source": [
    "The only affected data are in Greece."
   ],
   "metadata": {
    "collapsed": false
   },
   "id": "910562b947564879"
  },
  {
   "cell_type": "code",
   "execution_count": 80,
   "outputs": [],
   "source": [
    "df[\"HomeTeam\"] = df[\"HomeTeam\"].mask(df[\"HT\"].notnull(), df[\"HT\"])\n",
    "df[\"AwayTeam\"] = df[\"AwayTeam\"].mask(df[\"AT\"].notnull(), df[\"AT\"])\n",
    "df = df.drop(columns = [\"HT\", \"AT\"])"
   ],
   "metadata": {
    "collapsed": false,
    "ExecuteTime": {
     "end_time": "2024-01-04T17:42:30.762391500Z",
     "start_time": "2024-01-04T17:42:30.699770600Z"
    }
   },
   "id": "a6ec392c63fe6c76"
  },
  {
   "cell_type": "code",
   "execution_count": 81,
   "outputs": [],
   "source": [
    "df.drop(df[df[\"HomeTeam\"] == df[\"AwayTeam\"]].index, inplace=True) # remove cases where teams play against themselves"
   ],
   "metadata": {
    "collapsed": false,
    "ExecuteTime": {
     "end_time": "2024-01-04T17:42:30.840951700Z",
     "start_time": "2024-01-04T17:42:30.771913500Z"
    }
   },
   "id": "9d2d1dcb19e3ce38"
  },
  {
   "cell_type": "code",
   "execution_count": 82,
   "outputs": [],
   "source": [
    "# df[\"Date\"] = pd.to_datetime(df[\"Date\"], format = '%d/%m/%Y', dayfirst=True)"
   ],
   "metadata": {
    "collapsed": false,
    "ExecuteTime": {
     "end_time": "2024-01-04T17:42:30.854994900Z",
     "start_time": "2024-01-04T17:42:30.840951700Z"
    }
   },
   "id": "55f66d0e63b7982a"
  },
  {
   "cell_type": "markdown",
   "source": [
    "## Not imputable data\n",
    "\n",
    "In some cases, missing data cause the data to be unusable and can't be computed. This applies to variables\n",
    "\n",
    "- HomeTeam\n",
    "- AwayTeam"
   ],
   "metadata": {
    "collapsed": false
   },
   "id": "c551a44639ce963a"
  },
  {
   "cell_type": "code",
   "execution_count": 83,
   "outputs": [],
   "source": [
    "crucial_cols = ['Date', 'HomeTeam', 'AwayTeam']\n",
    "df = df.dropna(subset = crucial_cols)"
   ],
   "metadata": {
    "collapsed": false,
    "ExecuteTime": {
     "end_time": "2024-01-04T17:42:30.949056800Z",
     "start_time": "2024-01-04T17:42:30.854994900Z"
    }
   },
   "id": "79a6dc9ad52b014a"
  },
  {
   "cell_type": "code",
   "execution_count": 84,
   "outputs": [
    {
     "data": {
      "text/plain": "              HFKC         AFKC\ncount  1305.000000  1305.000000\nmean     16.627586    17.283525\nstd       4.386871     4.735901\nmin       2.000000     2.000000\n25%      14.000000    14.000000\n50%      16.000000    17.000000\n75%      20.000000    20.000000\nmax      32.000000    34.000000",
      "text/html": "<div>\n<style scoped>\n    .dataframe tbody tr th:only-of-type {\n        vertical-align: middle;\n    }\n\n    .dataframe tbody tr th {\n        vertical-align: top;\n    }\n\n    .dataframe thead th {\n        text-align: right;\n    }\n</style>\n<table border=\"1\" class=\"dataframe\">\n  <thead>\n    <tr style=\"text-align: right;\">\n      <th></th>\n      <th>HFKC</th>\n      <th>AFKC</th>\n    </tr>\n  </thead>\n  <tbody>\n    <tr>\n      <th>count</th>\n      <td>1305.000000</td>\n      <td>1305.000000</td>\n    </tr>\n    <tr>\n      <th>mean</th>\n      <td>16.627586</td>\n      <td>17.283525</td>\n    </tr>\n    <tr>\n      <th>std</th>\n      <td>4.386871</td>\n      <td>4.735901</td>\n    </tr>\n    <tr>\n      <th>min</th>\n      <td>2.000000</td>\n      <td>2.000000</td>\n    </tr>\n    <tr>\n      <th>25%</th>\n      <td>14.000000</td>\n      <td>14.000000</td>\n    </tr>\n    <tr>\n      <th>50%</th>\n      <td>16.000000</td>\n      <td>17.000000</td>\n    </tr>\n    <tr>\n      <th>75%</th>\n      <td>20.000000</td>\n      <td>20.000000</td>\n    </tr>\n    <tr>\n      <th>max</th>\n      <td>32.000000</td>\n      <td>34.000000</td>\n    </tr>\n  </tbody>\n</table>\n</div>"
     },
     "execution_count": 84,
     "metadata": {},
     "output_type": "execute_result"
    }
   ],
   "source": [
    "df[[\"HFKC\", \"AFKC\"]].describe()"
   ],
   "metadata": {
    "collapsed": false,
    "ExecuteTime": {
     "end_time": "2024-01-04T17:42:30.993042600Z",
     "start_time": "2024-01-04T17:42:30.949056800Z"
    }
   },
   "id": "8f63ed5248520abe"
  },
  {
   "cell_type": "markdown",
   "source": [
    "## Goal validation\n",
    "\n",
    "Some goals are incorrect and they need to be fixed.\n",
    "\n"
   ],
   "metadata": {
    "collapsed": false
   },
   "id": "f4acf7b9deb3b17e"
  },
  {
   "cell_type": "code",
   "execution_count": 85,
   "outputs": [
    {
     "data": {
      "text/plain": "                FTHG           FTAG           HTHG           HTAG\ncount  154495.000000  154473.000000  154445.000000  154454.000000\nmean        2.217761       1.131447       0.655308       0.494315\nstd        21.887856       1.108842       0.809085       0.708314\nmin         0.000000      -1.000000       0.000000       0.000000\n25%         1.000000       0.000000       0.000000       0.000000\n50%         1.000000       1.000000       0.000000       0.000000\n75%         2.000000       2.000000       1.000000       1.000000\nmax       998.000000      13.000000       7.000000       6.000000",
      "text/html": "<div>\n<style scoped>\n    .dataframe tbody tr th:only-of-type {\n        vertical-align: middle;\n    }\n\n    .dataframe tbody tr th {\n        vertical-align: top;\n    }\n\n    .dataframe thead th {\n        text-align: right;\n    }\n</style>\n<table border=\"1\" class=\"dataframe\">\n  <thead>\n    <tr style=\"text-align: right;\">\n      <th></th>\n      <th>FTHG</th>\n      <th>FTAG</th>\n      <th>HTHG</th>\n      <th>HTAG</th>\n    </tr>\n  </thead>\n  <tbody>\n    <tr>\n      <th>count</th>\n      <td>154495.000000</td>\n      <td>154473.000000</td>\n      <td>154445.000000</td>\n      <td>154454.000000</td>\n    </tr>\n    <tr>\n      <th>mean</th>\n      <td>2.217761</td>\n      <td>1.131447</td>\n      <td>0.655308</td>\n      <td>0.494315</td>\n    </tr>\n    <tr>\n      <th>std</th>\n      <td>21.887856</td>\n      <td>1.108842</td>\n      <td>0.809085</td>\n      <td>0.708314</td>\n    </tr>\n    <tr>\n      <th>min</th>\n      <td>0.000000</td>\n      <td>-1.000000</td>\n      <td>0.000000</td>\n      <td>0.000000</td>\n    </tr>\n    <tr>\n      <th>25%</th>\n      <td>1.000000</td>\n      <td>0.000000</td>\n      <td>0.000000</td>\n      <td>0.000000</td>\n    </tr>\n    <tr>\n      <th>50%</th>\n      <td>1.000000</td>\n      <td>1.000000</td>\n      <td>0.000000</td>\n      <td>0.000000</td>\n    </tr>\n    <tr>\n      <th>75%</th>\n      <td>2.000000</td>\n      <td>2.000000</td>\n      <td>1.000000</td>\n      <td>1.000000</td>\n    </tr>\n    <tr>\n      <th>max</th>\n      <td>998.000000</td>\n      <td>13.000000</td>\n      <td>7.000000</td>\n      <td>6.000000</td>\n    </tr>\n  </tbody>\n</table>\n</div>"
     },
     "execution_count": 85,
     "metadata": {},
     "output_type": "execute_result"
    }
   ],
   "source": [
    "goal_cols = [\"FTHG\", \"FTAG\", \"HTHG\", \"HTAG\"]\n",
    "df[goal_cols].describe()"
   ],
   "metadata": {
    "collapsed": false,
    "ExecuteTime": {
     "end_time": "2024-01-04T17:42:31.082224500Z",
     "start_time": "2024-01-04T17:42:30.980230500Z"
    }
   },
   "id": "657538d5cf004510"
  },
  {
   "cell_type": "markdown",
   "source": [
    "There seem to be several issues:\n",
    "\n",
    "- the max value for **FTHG** is absurd\n",
    "- the min value for **FTAG** does not make sense\n",
    "- some values are missing"
   ],
   "metadata": {
    "collapsed": false
   },
   "id": "2aa520f7268f331d"
  },
  {
   "cell_type": "code",
   "execution_count": 86,
   "outputs": [
    {
     "data": {
      "text/plain": "FTHG\n1.0      51639\n2.0      37642\n0.0      36011\n3.0      18462\n4.0       7202\n5.0       2343\n6.0        751\n7.0        185\n8.0         42\n9.0         14\n10.0         5\n339.0        5\n373.0        4\n772.0        4\n572.0        4\nName: count, dtype: int64"
     },
     "execution_count": 86,
     "metadata": {},
     "output_type": "execute_result"
    }
   ],
   "source": [
    "df[\"FTHG\"].value_counts().head(15)"
   ],
   "metadata": {
    "collapsed": false,
    "ExecuteTime": {
     "end_time": "2024-01-04T17:42:31.082224500Z",
     "start_time": "2024-01-04T17:42:31.028161300Z"
    }
   },
   "id": "3a2d1f300c063570"
  },
  {
   "cell_type": "markdown",
   "source": [
    "First, we will remove all rows where the Full Time Home Goals are greater than 15."
   ],
   "metadata": {
    "collapsed": false
   },
   "id": "c69ffe8dd5a43a13"
  },
  {
   "cell_type": "code",
   "execution_count": 87,
   "outputs": [],
   "source": [
    "df_22 = df[df[\"season\"] == 22] # this split is necessary as goal values are unknown for test season\n",
    "df = df[df[\"FTHG\"] <= 15] # this line gets also rid of all NaNs\n",
    "df = pd.concat([df, df_22])"
   ],
   "metadata": {
    "collapsed": false,
    "ExecuteTime": {
     "end_time": "2024-01-04T17:42:31.231794700Z",
     "start_time": "2024-01-04T17:42:31.042679400Z"
    }
   },
   "id": "7c3d6a035bd61f5e"
  },
  {
   "cell_type": "markdown",
   "source": [
    "Next, all Full Time Away goals that are less than zero are inspected. Since we are not sure which values are good and bad, all of them are removed."
   ],
   "metadata": {
    "collapsed": false
   },
   "id": "2334a5cf5203f897"
  },
  {
   "cell_type": "code",
   "execution_count": 88,
   "outputs": [],
   "source": [
    "# df_22 = df[df[\"season\"] == 22] # keep season 22\n",
    "df = df[df[\"FTAG\"] >= 0]\n",
    "df = pd.concat([df, df_22])"
   ],
   "metadata": {
    "collapsed": false,
    "ExecuteTime": {
     "end_time": "2024-01-04T17:42:31.340962Z",
     "start_time": "2024-01-04T17:42:31.183957900Z"
    }
   },
   "id": "222e2ecfc432def5"
  },
  {
   "cell_type": "code",
   "execution_count": 89,
   "outputs": [
    {
     "data": {
      "text/plain": "7277"
     },
     "execution_count": 89,
     "metadata": {},
     "output_type": "execute_result"
    }
   ],
   "source": [
    "df[\"FTHG\"].isna().sum() # there should be 7277, which is the count of rows in season 22"
   ],
   "metadata": {
    "collapsed": false,
    "ExecuteTime": {
     "end_time": "2024-01-04T17:42:31.367732100Z",
     "start_time": "2024-01-04T17:42:31.339960700Z"
    }
   },
   "id": "cad1888faa5c1492"
  },
  {
   "cell_type": "code",
   "execution_count": 90,
   "outputs": [
    {
     "data": {
      "text/plain": "7277"
     },
     "execution_count": 90,
     "metadata": {},
     "output_type": "execute_result"
    }
   ],
   "source": [
    "df[\"FTAG\"].isna().sum()"
   ],
   "metadata": {
    "collapsed": false,
    "ExecuteTime": {
     "end_time": "2024-01-04T17:42:31.414812Z",
     "start_time": "2024-01-04T17:42:31.354689900Z"
    }
   },
   "id": "4a38347e679a7df0"
  },
  {
   "cell_type": "markdown",
   "source": [
    "What's left are the missing values in 'HTHG' and 'HTAG' columns. We have no way of recomputing these as well and these rows are again excluded."
   ],
   "metadata": {
    "collapsed": false
   },
   "id": "74ea71a7360aa200"
  },
  {
   "cell_type": "code",
   "execution_count": 91,
   "outputs": [],
   "source": [
    "cols = [\"HTHG\", \"HTAG\"]\n",
    "df_22 = df[df[\"season\"] == 22]\n",
    "# df_pre22 = df[df[\"season\"] != 22]\n",
    "df = df[df[cols].isna().sum(axis=1) == 0]\n",
    "df = pd.concat([df, df_22], axis=0)\n",
    "# df[\"season\"].unique()"
   ],
   "metadata": {
    "collapsed": false,
    "ExecuteTime": {
     "end_time": "2024-01-04T17:42:31.540560500Z",
     "start_time": "2024-01-04T17:42:31.370735Z"
    }
   },
   "id": "8b9a3961024b8d5a"
  },
  {
   "cell_type": "markdown",
   "source": [
    "If we run the describe() function again, we can see that the counts in all columns match and min/max statistics make sense."
   ],
   "metadata": {
    "collapsed": false
   },
   "id": "8832d12e29a8ce13"
  },
  {
   "cell_type": "code",
   "execution_count": 92,
   "outputs": [
    {
     "data": {
      "text/plain": "                FTHG           FTAG           HTHG           HTAG\ncount  153834.000000  153834.000000  153834.000000  153834.000000\nmean        1.485536       1.133768       0.655369       0.494481\nstd         1.253200       1.107155       0.809073       0.708545\nmin         0.000000       0.000000       0.000000       0.000000\n25%         1.000000       0.000000       0.000000       0.000000\n50%         1.000000       1.000000       0.000000       0.000000\n75%         2.000000       2.000000       1.000000       1.000000\nmax        10.000000      13.000000       7.000000       6.000000",
      "text/html": "<div>\n<style scoped>\n    .dataframe tbody tr th:only-of-type {\n        vertical-align: middle;\n    }\n\n    .dataframe tbody tr th {\n        vertical-align: top;\n    }\n\n    .dataframe thead th {\n        text-align: right;\n    }\n</style>\n<table border=\"1\" class=\"dataframe\">\n  <thead>\n    <tr style=\"text-align: right;\">\n      <th></th>\n      <th>FTHG</th>\n      <th>FTAG</th>\n      <th>HTHG</th>\n      <th>HTAG</th>\n    </tr>\n  </thead>\n  <tbody>\n    <tr>\n      <th>count</th>\n      <td>153834.000000</td>\n      <td>153834.000000</td>\n      <td>153834.000000</td>\n      <td>153834.000000</td>\n    </tr>\n    <tr>\n      <th>mean</th>\n      <td>1.485536</td>\n      <td>1.133768</td>\n      <td>0.655369</td>\n      <td>0.494481</td>\n    </tr>\n    <tr>\n      <th>std</th>\n      <td>1.253200</td>\n      <td>1.107155</td>\n      <td>0.809073</td>\n      <td>0.708545</td>\n    </tr>\n    <tr>\n      <th>min</th>\n      <td>0.000000</td>\n      <td>0.000000</td>\n      <td>0.000000</td>\n      <td>0.000000</td>\n    </tr>\n    <tr>\n      <th>25%</th>\n      <td>1.000000</td>\n      <td>0.000000</td>\n      <td>0.000000</td>\n      <td>0.000000</td>\n    </tr>\n    <tr>\n      <th>50%</th>\n      <td>1.000000</td>\n      <td>1.000000</td>\n      <td>0.000000</td>\n      <td>0.000000</td>\n    </tr>\n    <tr>\n      <th>75%</th>\n      <td>2.000000</td>\n      <td>2.000000</td>\n      <td>1.000000</td>\n      <td>1.000000</td>\n    </tr>\n    <tr>\n      <th>max</th>\n      <td>10.000000</td>\n      <td>13.000000</td>\n      <td>7.000000</td>\n      <td>6.000000</td>\n    </tr>\n  </tbody>\n</table>\n</div>"
     },
     "execution_count": 92,
     "metadata": {},
     "output_type": "execute_result"
    }
   ],
   "source": [
    "df[goal_cols].describe()"
   ],
   "metadata": {
    "collapsed": false,
    "ExecuteTime": {
     "end_time": "2024-01-04T17:42:31.597138Z",
     "start_time": "2024-01-04T17:42:31.541561300Z"
    }
   },
   "id": "6bbd84ad89c9626a"
  },
  {
   "cell_type": "markdown",
   "source": [
    "### Shots on target imputation"
   ],
   "metadata": {
    "collapsed": false
   },
   "id": "3f8e17580598af17"
  },
  {
   "cell_type": "code",
   "execution_count": 93,
   "outputs": [],
   "source": [
    "lm = PoissonRegressor()\n",
    "\n",
    "y_train = df[df[\"season\"] != 22][[\"AST\", \"HST\"]]\n",
    "X_train = df[df[\"season\"] != 22][[\"AST\", \"HST\", \"FTAG\", \"FTHG\"]]\n",
    "X_train.dropna(subset=[\"AST\", \"HST\"],axis=0, inplace=True, how='any')\n",
    "y_train.dropna(axis=0, inplace=True, how='any')"
   ],
   "metadata": {
    "collapsed": false,
    "ExecuteTime": {
     "end_time": "2024-01-04T17:42:31.743696100Z",
     "start_time": "2024-01-04T17:42:31.589617400Z"
    }
   },
   "id": "c28dadfdafe7d51a"
  },
  {
   "cell_type": "code",
   "execution_count": 94,
   "outputs": [],
   "source": [
    "X_train = pd.concat([X_train[\"FTAG\"],X_train[\"FTHG\"]], axis=0)\n",
    "y_train = pd.concat([y_train[\"AST\"], y_train[\"HST\"]], axis=0)\n",
    "\n",
    "X_train = np.array(X_train).reshape(-1,1)\n",
    "y_train = np.array(y_train).reshape(-1,1)"
   ],
   "metadata": {
    "collapsed": false,
    "ExecuteTime": {
     "end_time": "2024-01-04T17:42:31.772769500Z",
     "start_time": "2024-01-04T17:42:31.744696900Z"
    }
   },
   "id": "4466a6b14cb967f"
  },
  {
   "cell_type": "code",
   "execution_count": 95,
   "outputs": [
    {
     "data": {
      "text/plain": "PoissonRegressor()",
      "text/html": "<style>#sk-container-id-2 {color: black;}#sk-container-id-2 pre{padding: 0;}#sk-container-id-2 div.sk-toggleable {background-color: white;}#sk-container-id-2 label.sk-toggleable__label {cursor: pointer;display: block;width: 100%;margin-bottom: 0;padding: 0.3em;box-sizing: border-box;text-align: center;}#sk-container-id-2 label.sk-toggleable__label-arrow:before {content: \"▸\";float: left;margin-right: 0.25em;color: #696969;}#sk-container-id-2 label.sk-toggleable__label-arrow:hover:before {color: black;}#sk-container-id-2 div.sk-estimator:hover label.sk-toggleable__label-arrow:before {color: black;}#sk-container-id-2 div.sk-toggleable__content {max-height: 0;max-width: 0;overflow: hidden;text-align: left;background-color: #f0f8ff;}#sk-container-id-2 div.sk-toggleable__content pre {margin: 0.2em;color: black;border-radius: 0.25em;background-color: #f0f8ff;}#sk-container-id-2 input.sk-toggleable__control:checked~div.sk-toggleable__content {max-height: 200px;max-width: 100%;overflow: auto;}#sk-container-id-2 input.sk-toggleable__control:checked~label.sk-toggleable__label-arrow:before {content: \"▾\";}#sk-container-id-2 div.sk-estimator input.sk-toggleable__control:checked~label.sk-toggleable__label {background-color: #d4ebff;}#sk-container-id-2 div.sk-label input.sk-toggleable__control:checked~label.sk-toggleable__label {background-color: #d4ebff;}#sk-container-id-2 input.sk-hidden--visually {border: 0;clip: rect(1px 1px 1px 1px);clip: rect(1px, 1px, 1px, 1px);height: 1px;margin: -1px;overflow: hidden;padding: 0;position: absolute;width: 1px;}#sk-container-id-2 div.sk-estimator {font-family: monospace;background-color: #f0f8ff;border: 1px dotted black;border-radius: 0.25em;box-sizing: border-box;margin-bottom: 0.5em;}#sk-container-id-2 div.sk-estimator:hover {background-color: #d4ebff;}#sk-container-id-2 div.sk-parallel-item::after {content: \"\";width: 100%;border-bottom: 1px solid gray;flex-grow: 1;}#sk-container-id-2 div.sk-label:hover label.sk-toggleable__label {background-color: #d4ebff;}#sk-container-id-2 div.sk-serial::before {content: \"\";position: absolute;border-left: 1px solid gray;box-sizing: border-box;top: 0;bottom: 0;left: 50%;z-index: 0;}#sk-container-id-2 div.sk-serial {display: flex;flex-direction: column;align-items: center;background-color: white;padding-right: 0.2em;padding-left: 0.2em;position: relative;}#sk-container-id-2 div.sk-item {position: relative;z-index: 1;}#sk-container-id-2 div.sk-parallel {display: flex;align-items: stretch;justify-content: center;background-color: white;position: relative;}#sk-container-id-2 div.sk-item::before, #sk-container-id-2 div.sk-parallel-item::before {content: \"\";position: absolute;border-left: 1px solid gray;box-sizing: border-box;top: 0;bottom: 0;left: 50%;z-index: -1;}#sk-container-id-2 div.sk-parallel-item {display: flex;flex-direction: column;z-index: 1;position: relative;background-color: white;}#sk-container-id-2 div.sk-parallel-item:first-child::after {align-self: flex-end;width: 50%;}#sk-container-id-2 div.sk-parallel-item:last-child::after {align-self: flex-start;width: 50%;}#sk-container-id-2 div.sk-parallel-item:only-child::after {width: 0;}#sk-container-id-2 div.sk-dashed-wrapped {border: 1px dashed gray;margin: 0 0.4em 0.5em 0.4em;box-sizing: border-box;padding-bottom: 0.4em;background-color: white;}#sk-container-id-2 div.sk-label label {font-family: monospace;font-weight: bold;display: inline-block;line-height: 1.2em;}#sk-container-id-2 div.sk-label-container {text-align: center;}#sk-container-id-2 div.sk-container {/* jupyter's `normalize.less` sets `[hidden] { display: none; }` but bootstrap.min.css set `[hidden] { display: none !important; }` so we also need the `!important` here to be able to override the default hidden behavior on the sphinx rendered scikit-learn.org. See: https://github.com/scikit-learn/scikit-learn/issues/21755 */display: inline-block !important;position: relative;}#sk-container-id-2 div.sk-text-repr-fallback {display: none;}</style><div id=\"sk-container-id-2\" class=\"sk-top-container\"><div class=\"sk-text-repr-fallback\"><pre>PoissonRegressor()</pre><b>In a Jupyter environment, please rerun this cell to show the HTML representation or trust the notebook. <br />On GitHub, the HTML representation is unable to render, please try loading this page with nbviewer.org.</b></div><div class=\"sk-container\" hidden><div class=\"sk-item\"><div class=\"sk-estimator sk-toggleable\"><input class=\"sk-toggleable__control sk-hidden--visually\" id=\"sk-estimator-id-2\" type=\"checkbox\" checked><label for=\"sk-estimator-id-2\" class=\"sk-toggleable__label sk-toggleable__label-arrow\">PoissonRegressor</label><div class=\"sk-toggleable__content\"><pre>PoissonRegressor()</pre></div></div></div></div></div>"
     },
     "execution_count": 95,
     "metadata": {},
     "output_type": "execute_result"
    }
   ],
   "source": [
    "lm.fit(X_train, y_train)"
   ],
   "metadata": {
    "collapsed": false,
    "ExecuteTime": {
     "end_time": "2024-01-04T17:42:31.807507800Z",
     "start_time": "2024-01-04T17:42:31.759230300Z"
    }
   },
   "id": "c48eeaf0ca420e68"
  },
  {
   "cell_type": "code",
   "execution_count": 96,
   "outputs": [],
   "source": [
    "X_pred_HST = df[(df[\"season\"] != 22) & (df[\"HST\"].isna())][[\"HST\", \"FTHG\"]]\n",
    "\n",
    "X_pred_AST = df[(df[\"season\"] != 22) & (df[\"AST\"].isna())][[\"AST\", \"FTAG\"]]"
   ],
   "metadata": {
    "collapsed": false,
    "ExecuteTime": {
     "end_time": "2024-01-04T17:42:31.883671200Z",
     "start_time": "2024-01-04T17:42:31.791480200Z"
    }
   },
   "id": "2c5ad5aa07f91f04"
  },
  {
   "cell_type": "code",
   "execution_count": 97,
   "outputs": [],
   "source": [
    "X_pred_AST =   np.array(X_pred_AST[\"FTAG\"]).reshape(-1,1)\n",
    "X_pred_HST =  np.array(X_pred_HST[\"FTHG\"]).reshape(-1,1)\n"
   ],
   "metadata": {
    "collapsed": false,
    "ExecuteTime": {
     "end_time": "2024-01-04T17:42:31.886741700Z",
     "start_time": "2024-01-04T17:42:31.871145800Z"
    }
   },
   "id": "f12ef5cc91809445"
  },
  {
   "cell_type": "code",
   "execution_count": 98,
   "outputs": [],
   "source": [
    "y_pred_HST = lm.predict(X_pred_HST)\n",
    "y_pred_AST = lm.predict(X_pred_AST)"
   ],
   "metadata": {
    "collapsed": false,
    "ExecuteTime": {
     "end_time": "2024-01-04T17:42:31.914837500Z",
     "start_time": "2024-01-04T17:42:31.885739600Z"
    }
   },
   "id": "74f9dea5b6125941"
  },
  {
   "cell_type": "code",
   "execution_count": 99,
   "outputs": [],
   "source": [
    "X_pred_HST = df[df[\"season\"]!= 22][[\"HST\", \"FTHG\"]]\n",
    "X_pred_AST = df[df[\"season\"]!= 22][[\"AST\", \"FTAG\"]]\n",
    "X_pred_HST = X_pred_HST[X_pred_HST.isna().any(axis=1)]\n",
    "X_pred_AST = X_pred_AST[X_pred_AST.isna().any(axis=1)]"
   ],
   "metadata": {
    "collapsed": false,
    "ExecuteTime": {
     "end_time": "2024-01-04T17:42:32.043459300Z",
     "start_time": "2024-01-04T17:42:31.904761Z"
    }
   },
   "id": "26ddf4a3308299eb"
  },
  {
   "cell_type": "code",
   "execution_count": 100,
   "outputs": [],
   "source": [
    "X_pred_AST[\"AST\"] = y_pred_AST\n",
    "X_pred_HST[\"HST\"] = y_pred_HST"
   ],
   "metadata": {
    "collapsed": false,
    "ExecuteTime": {
     "end_time": "2024-01-04T17:42:32.058488700Z",
     "start_time": "2024-01-04T17:42:32.043459300Z"
    }
   },
   "id": "63d790614220db57"
  },
  {
   "cell_type": "code",
   "execution_count": 101,
   "outputs": [
    {
     "data": {
      "text/plain": "             HST  FTHG\n0       4.342496   1.0\n1       5.213597   2.0\n2       3.616940   0.0\n3       6.259441   3.0\n4       4.342496   1.0\n...          ...   ...\n153264  4.342496   1.0\n153265  4.342496   1.0\n153266  5.213597   2.0\n153267  4.342496   1.0\n153268  4.342496   1.0\n\n[63098 rows x 2 columns]",
      "text/html": "<div>\n<style scoped>\n    .dataframe tbody tr th:only-of-type {\n        vertical-align: middle;\n    }\n\n    .dataframe tbody tr th {\n        vertical-align: top;\n    }\n\n    .dataframe thead th {\n        text-align: right;\n    }\n</style>\n<table border=\"1\" class=\"dataframe\">\n  <thead>\n    <tr style=\"text-align: right;\">\n      <th></th>\n      <th>HST</th>\n      <th>FTHG</th>\n    </tr>\n  </thead>\n  <tbody>\n    <tr>\n      <th>0</th>\n      <td>4.342496</td>\n      <td>1.0</td>\n    </tr>\n    <tr>\n      <th>1</th>\n      <td>5.213597</td>\n      <td>2.0</td>\n    </tr>\n    <tr>\n      <th>2</th>\n      <td>3.616940</td>\n      <td>0.0</td>\n    </tr>\n    <tr>\n      <th>3</th>\n      <td>6.259441</td>\n      <td>3.0</td>\n    </tr>\n    <tr>\n      <th>4</th>\n      <td>4.342496</td>\n      <td>1.0</td>\n    </tr>\n    <tr>\n      <th>...</th>\n      <td>...</td>\n      <td>...</td>\n    </tr>\n    <tr>\n      <th>153264</th>\n      <td>4.342496</td>\n      <td>1.0</td>\n    </tr>\n    <tr>\n      <th>153265</th>\n      <td>4.342496</td>\n      <td>1.0</td>\n    </tr>\n    <tr>\n      <th>153266</th>\n      <td>5.213597</td>\n      <td>2.0</td>\n    </tr>\n    <tr>\n      <th>153267</th>\n      <td>4.342496</td>\n      <td>1.0</td>\n    </tr>\n    <tr>\n      <th>153268</th>\n      <td>4.342496</td>\n      <td>1.0</td>\n    </tr>\n  </tbody>\n</table>\n<p>63098 rows × 2 columns</p>\n</div>"
     },
     "execution_count": 101,
     "metadata": {},
     "output_type": "execute_result"
    }
   ],
   "source": [
    "X_pred_HST"
   ],
   "metadata": {
    "collapsed": false,
    "ExecuteTime": {
     "end_time": "2024-01-04T17:42:32.102436900Z",
     "start_time": "2024-01-04T17:42:32.058488700Z"
    }
   },
   "id": "eafbb55876b3653"
  },
  {
   "cell_type": "code",
   "execution_count": 102,
   "outputs": [
    {
     "data": {
      "text/plain": "0        NaN\n1        NaN\n2        NaN\n3        NaN\n4        NaN\n          ..\n153264   NaN\n153265   NaN\n153266   NaN\n153267   NaN\n153268   NaN\nName: HST, Length: 63098, dtype: float64"
     },
     "execution_count": 102,
     "metadata": {},
     "output_type": "execute_result"
    }
   ],
   "source": [
    "df[(df[\"season\"] != 22) & (df[\"HST\"].isna())][\"HST\"]"
   ],
   "metadata": {
    "collapsed": false,
    "ExecuteTime": {
     "end_time": "2024-01-04T17:42:32.208647Z",
     "start_time": "2024-01-04T17:42:32.085039800Z"
    }
   },
   "id": "549309244bcf0e04"
  },
  {
   "cell_type": "code",
   "execution_count": 103,
   "outputs": [],
   "source": [
    "df.loc[(df[\"season\"] != 22) & (df[\"AST\"].isna()), \"AST\"] = X_pred_AST[\"AST\"]\n",
    "df.loc[(df[\"season\"] != 22) & (df[\"HST\"].isna()), \"HST\"] = X_pred_HST[\"HST\"]"
   ],
   "metadata": {
    "collapsed": false,
    "ExecuteTime": {
     "end_time": "2024-01-04T17:42:32.237489400Z",
     "start_time": "2024-01-04T17:42:32.120467800Z"
    }
   },
   "id": "5773b872b2defc3a"
  },
  {
   "cell_type": "code",
   "execution_count": 104,
   "outputs": [
    {
     "data": {
      "text/plain": "0         4.342496\n1         5.213597\n2         3.616940\n3         6.259441\n4         4.342496\n            ...   \n154948    9.000000\n154949    3.000000\n154950    4.000000\n154951    5.000000\n154952    3.000000\nName: HST, Length: 153834, dtype: float64"
     },
     "execution_count": 104,
     "metadata": {},
     "output_type": "execute_result"
    }
   ],
   "source": [
    "df[df[\"season\"] != 22][\"HST\"]"
   ],
   "metadata": {
    "collapsed": false,
    "ExecuteTime": {
     "end_time": "2024-01-04T17:42:32.257525900Z",
     "start_time": "2024-01-04T17:42:32.136384100Z"
    }
   },
   "id": "992a008182b14d6d"
  },
  {
   "cell_type": "markdown",
   "source": [
    "## Result validation\n",
    "\n",
    "Another thing that needs to be validated is the result classification, which are re-classified - this is the easiest data validation process."
   ],
   "metadata": {
    "collapsed": false
   },
   "id": "e52e77484568589d"
  },
  {
   "cell_type": "code",
   "execution_count": 105,
   "outputs": [],
   "source": [
    "half_conds = [df[\"HTHG\"] > df[\"HTAG\"], df[\"HTHG\"] < df[\"HTAG\"], df[\"HTHG\"] == df[\"HTAG\"]]\n",
    "half_choic = [\"H\"                    , \"A\"                    , \"D\"]\n",
    "df.loc[:, \"HTR\"] = np.select(half_conds, half_choic)\n",
    "full_conds = [df[\"FTHG\"] > df[\"FTAG\"], df[\"FTHG\"] < df[\"FTAG\"], df[\"FTHG\"] == df[\"FTAG\"]]\n",
    "full_choic = [\"H\"                    , \"A\"                    , \"D\"]\n",
    "df.loc[:, \"FTR\"] = np.select(full_conds, full_choic)"
   ],
   "metadata": {
    "collapsed": false,
    "ExecuteTime": {
     "end_time": "2024-01-04T17:42:32.287611200Z",
     "start_time": "2024-01-04T17:42:32.213652100Z"
    }
   },
   "id": "85e5e89fe1176573"
  },
  {
   "cell_type": "markdown",
   "source": [
    "## Validation of other statistics\n",
    "\n",
    "First step is to look at simple descriptive statistics."
   ],
   "metadata": {
    "collapsed": false
   },
   "id": "d09fdf7e0bd7ad56"
  },
  {
   "cell_type": "code",
   "execution_count": 106,
   "outputs": [
    {
     "data": {
      "text/plain": "         Attendance            HS            AS            HST            AST  \\\ncount   6641.000000  91641.000000  91683.000000  153834.000000  153834.000000   \nmean   12853.621894     12.675691     10.296674       5.092346       4.338688   \nstd    13873.200798      4.925237      4.384018       2.314043       2.006212   \nmin      123.000000      0.000000      0.000000       0.000000       0.000000   \n25%     3530.000000      9.000000      7.000000       3.616940       3.000000   \n50%     7014.000000     12.000000     10.000000       5.000000       4.342496   \n75%    17608.000000     16.000000     13.000000       6.000000       5.213597   \nmax    69000.000000     46.000000     45.000000      27.000000      23.000000   \n\n               HHW          AHW            HC            AC            HF  \\\ncount  6472.000000  6484.000000  91235.000000  91286.000000  89606.000000   \nmean      0.351823     0.260950      5.722694      4.647372     12.849296   \nstd       0.610765     0.543137      2.937960      2.624308      4.555750   \nmin       0.000000     0.000000      0.000000      0.000000      0.000000   \n25%       0.000000     0.000000      4.000000      3.000000     10.000000   \n50%       0.000000     0.000000      5.000000      4.000000     12.000000   \n75%       1.000000     0.000000      7.000000      6.000000     16.000000   \nmax       4.000000    10.000000     26.000000     21.000000    145.000000   \n\n       ...         HFKC         AFKC           HO           AO            HY  \\\ncount  ...  1298.000000  1298.000000  6485.000000  6466.000000  91834.000000   \nmean   ...    16.620955    17.298921     3.258288     3.250541      1.642714   \nstd    ...     4.394704     4.740125     2.368060     2.519042      1.292988   \nmin    ...     2.000000     2.000000     0.000000     0.000000      0.000000   \n25%    ...    14.000000    14.000000     2.000000     1.000000      1.000000   \n50%    ...    16.000000    17.000000     3.000000     3.000000      1.000000   \n75%    ...    20.000000    20.000000     5.000000     5.000000      2.000000   \nmax    ...    32.000000    34.000000    16.000000    18.000000     11.000000   \n\n                 AY            HR            AR          HBP          ABP  \ncount  91831.000000  91854.000000  91799.000000  6652.000000  6639.000000  \nmean       1.960275      0.086964      0.119936    15.496843    20.928604  \nstd        1.365244      0.299356      0.351835    14.991016    17.225443  \nmin        0.000000      0.000000      0.000000     0.000000     0.000000  \n25%        1.000000      0.000000      0.000000     0.000000    10.000000  \n50%        2.000000      0.000000      0.000000    10.000000    20.000000  \n75%        3.000000      0.000000      0.000000    20.000000    30.000000  \nmax       10.000000      3.000000      9.000000   115.000000   150.000000  \n\n[8 rows x 21 columns]",
      "text/html": "<div>\n<style scoped>\n    .dataframe tbody tr th:only-of-type {\n        vertical-align: middle;\n    }\n\n    .dataframe tbody tr th {\n        vertical-align: top;\n    }\n\n    .dataframe thead th {\n        text-align: right;\n    }\n</style>\n<table border=\"1\" class=\"dataframe\">\n  <thead>\n    <tr style=\"text-align: right;\">\n      <th></th>\n      <th>Attendance</th>\n      <th>HS</th>\n      <th>AS</th>\n      <th>HST</th>\n      <th>AST</th>\n      <th>HHW</th>\n      <th>AHW</th>\n      <th>HC</th>\n      <th>AC</th>\n      <th>HF</th>\n      <th>...</th>\n      <th>HFKC</th>\n      <th>AFKC</th>\n      <th>HO</th>\n      <th>AO</th>\n      <th>HY</th>\n      <th>AY</th>\n      <th>HR</th>\n      <th>AR</th>\n      <th>HBP</th>\n      <th>ABP</th>\n    </tr>\n  </thead>\n  <tbody>\n    <tr>\n      <th>count</th>\n      <td>6641.000000</td>\n      <td>91641.000000</td>\n      <td>91683.000000</td>\n      <td>153834.000000</td>\n      <td>153834.000000</td>\n      <td>6472.000000</td>\n      <td>6484.000000</td>\n      <td>91235.000000</td>\n      <td>91286.000000</td>\n      <td>89606.000000</td>\n      <td>...</td>\n      <td>1298.000000</td>\n      <td>1298.000000</td>\n      <td>6485.000000</td>\n      <td>6466.000000</td>\n      <td>91834.000000</td>\n      <td>91831.000000</td>\n      <td>91854.000000</td>\n      <td>91799.000000</td>\n      <td>6652.000000</td>\n      <td>6639.000000</td>\n    </tr>\n    <tr>\n      <th>mean</th>\n      <td>12853.621894</td>\n      <td>12.675691</td>\n      <td>10.296674</td>\n      <td>5.092346</td>\n      <td>4.338688</td>\n      <td>0.351823</td>\n      <td>0.260950</td>\n      <td>5.722694</td>\n      <td>4.647372</td>\n      <td>12.849296</td>\n      <td>...</td>\n      <td>16.620955</td>\n      <td>17.298921</td>\n      <td>3.258288</td>\n      <td>3.250541</td>\n      <td>1.642714</td>\n      <td>1.960275</td>\n      <td>0.086964</td>\n      <td>0.119936</td>\n      <td>15.496843</td>\n      <td>20.928604</td>\n    </tr>\n    <tr>\n      <th>std</th>\n      <td>13873.200798</td>\n      <td>4.925237</td>\n      <td>4.384018</td>\n      <td>2.314043</td>\n      <td>2.006212</td>\n      <td>0.610765</td>\n      <td>0.543137</td>\n      <td>2.937960</td>\n      <td>2.624308</td>\n      <td>4.555750</td>\n      <td>...</td>\n      <td>4.394704</td>\n      <td>4.740125</td>\n      <td>2.368060</td>\n      <td>2.519042</td>\n      <td>1.292988</td>\n      <td>1.365244</td>\n      <td>0.299356</td>\n      <td>0.351835</td>\n      <td>14.991016</td>\n      <td>17.225443</td>\n    </tr>\n    <tr>\n      <th>min</th>\n      <td>123.000000</td>\n      <td>0.000000</td>\n      <td>0.000000</td>\n      <td>0.000000</td>\n      <td>0.000000</td>\n      <td>0.000000</td>\n      <td>0.000000</td>\n      <td>0.000000</td>\n      <td>0.000000</td>\n      <td>0.000000</td>\n      <td>...</td>\n      <td>2.000000</td>\n      <td>2.000000</td>\n      <td>0.000000</td>\n      <td>0.000000</td>\n      <td>0.000000</td>\n      <td>0.000000</td>\n      <td>0.000000</td>\n      <td>0.000000</td>\n      <td>0.000000</td>\n      <td>0.000000</td>\n    </tr>\n    <tr>\n      <th>25%</th>\n      <td>3530.000000</td>\n      <td>9.000000</td>\n      <td>7.000000</td>\n      <td>3.616940</td>\n      <td>3.000000</td>\n      <td>0.000000</td>\n      <td>0.000000</td>\n      <td>4.000000</td>\n      <td>3.000000</td>\n      <td>10.000000</td>\n      <td>...</td>\n      <td>14.000000</td>\n      <td>14.000000</td>\n      <td>2.000000</td>\n      <td>1.000000</td>\n      <td>1.000000</td>\n      <td>1.000000</td>\n      <td>0.000000</td>\n      <td>0.000000</td>\n      <td>0.000000</td>\n      <td>10.000000</td>\n    </tr>\n    <tr>\n      <th>50%</th>\n      <td>7014.000000</td>\n      <td>12.000000</td>\n      <td>10.000000</td>\n      <td>5.000000</td>\n      <td>4.342496</td>\n      <td>0.000000</td>\n      <td>0.000000</td>\n      <td>5.000000</td>\n      <td>4.000000</td>\n      <td>12.000000</td>\n      <td>...</td>\n      <td>16.000000</td>\n      <td>17.000000</td>\n      <td>3.000000</td>\n      <td>3.000000</td>\n      <td>1.000000</td>\n      <td>2.000000</td>\n      <td>0.000000</td>\n      <td>0.000000</td>\n      <td>10.000000</td>\n      <td>20.000000</td>\n    </tr>\n    <tr>\n      <th>75%</th>\n      <td>17608.000000</td>\n      <td>16.000000</td>\n      <td>13.000000</td>\n      <td>6.000000</td>\n      <td>5.213597</td>\n      <td>1.000000</td>\n      <td>0.000000</td>\n      <td>7.000000</td>\n      <td>6.000000</td>\n      <td>16.000000</td>\n      <td>...</td>\n      <td>20.000000</td>\n      <td>20.000000</td>\n      <td>5.000000</td>\n      <td>5.000000</td>\n      <td>2.000000</td>\n      <td>3.000000</td>\n      <td>0.000000</td>\n      <td>0.000000</td>\n      <td>20.000000</td>\n      <td>30.000000</td>\n    </tr>\n    <tr>\n      <th>max</th>\n      <td>69000.000000</td>\n      <td>46.000000</td>\n      <td>45.000000</td>\n      <td>27.000000</td>\n      <td>23.000000</td>\n      <td>4.000000</td>\n      <td>10.000000</td>\n      <td>26.000000</td>\n      <td>21.000000</td>\n      <td>145.000000</td>\n      <td>...</td>\n      <td>32.000000</td>\n      <td>34.000000</td>\n      <td>16.000000</td>\n      <td>18.000000</td>\n      <td>11.000000</td>\n      <td>10.000000</td>\n      <td>3.000000</td>\n      <td>9.000000</td>\n      <td>115.000000</td>\n      <td>150.000000</td>\n    </tr>\n  </tbody>\n</table>\n<p>8 rows × 21 columns</p>\n</div>"
     },
     "execution_count": 106,
     "metadata": {},
     "output_type": "execute_result"
    }
   ],
   "source": [
    "stat_cols = [\n",
    "    'Attendance', 'HS', 'AS', 'HST', 'AST', 'HHW', 'AHW',\n",
    "    'HC', 'AC', 'HF', 'AF', 'HFKC', 'AFKC', 'HO', 'AO', 'HY', 'AY', 'HR', 'AR', \"HBP\", \"ABP\"\n",
    "]\n",
    "\n",
    "df[stat_cols].describe()"
   ],
   "metadata": {
    "collapsed": false,
    "ExecuteTime": {
     "end_time": "2024-01-04T17:42:32.416988500Z",
     "start_time": "2024-01-04T17:42:32.243495100Z"
    }
   },
   "id": "bc0b4a8d0d72e42f"
  },
  {
   "cell_type": "markdown",
   "source": [
    "Then we take a look at boxplots for variables where at least one variable falls out of the interval\n",
    "\n",
    "$$\n",
    "(\\text{q}_{0.25} - 3 * \\text{IQR} ; \\text{q}_{0.75} + 3 * \\text{IQR})\n",
    "$$"
   ],
   "metadata": {
    "collapsed": false
   },
   "id": "45f0423ea6b24818"
  },
  {
   "cell_type": "code",
   "execution_count": 107,
   "outputs": [
    {
     "data": {
      "text/plain": "Attendance      109\nHS               14\nAS               23\nHST             879\nAST             863\nAHW            1435\nHC              174\nAC               72\nHF               21\nAF               25\nHO                4\nAO                2\nHY              632\nAY                2\nHR             7542\nAR            10247\nHBP              13\nABP              24\ndtype: int64"
     },
     "execution_count": 107,
     "metadata": {},
     "output_type": "execute_result"
    }
   ],
   "source": [
    "def outliers(x, multi = 3):\n",
    "    q25 = x.quantile(0.25)\n",
    "    q75 = x.quantile(0.75)\n",
    "    iqr = q75 - q25\n",
    "    outliers = x[(x < q25 - multi * iqr) | (x > q75 + multi * iqr)]\n",
    "    return len(outliers)\n",
    "\n",
    "stat_outliers = df[stat_cols].apply(lambda x: outliers(x))\n",
    "stat_outliers = stat_outliers[stat_outliers != 0]\n",
    "stat_outliers"
   ],
   "metadata": {
    "collapsed": false,
    "ExecuteTime": {
     "end_time": "2024-01-04T17:42:32.540284600Z",
     "start_time": "2024-01-04T17:42:32.414130200Z"
    }
   },
   "id": "177436f7c3a88243"
  },
  {
   "cell_type": "code",
   "execution_count": 108,
   "outputs": [
    {
     "data": {
      "text/plain": "<Figure size 1200x1000 with 18 Axes>",
      "image/png": "[encoded data removed]"
     },
     "metadata": {},
     "output_type": "display_data"
    }
   ],
   "source": [
    "fig, axes = plt.subplots(nrows=3, ncols = 6, figsize = (12, 10))\n",
    "axes = axes.ravel()\n",
    "\n",
    "for i, col in enumerate(stat_outliers.index):\n",
    "    # Data\n",
    "    df[col].plot(kind='box', ax = axes[i])\n",
    "    # Styling\n",
    "    axes[i].set_title(col)\n",
    "    axes[i].axes.get_xaxis().set_visible(False)\n",
    "\n",
    "plt.show()\n"
   ],
   "metadata": {
    "collapsed": false,
    "ExecuteTime": {
     "end_time": "2024-01-04T17:42:33.702887100Z",
     "start_time": "2024-01-04T17:42:32.478117600Z"
    }
   },
   "id": "2dd75d75ae33862b"
  },
  {
   "cell_type": "markdown",
   "source": [
    "We can se that some outliers are not that extreme. For example variables *HO*, *AO* or *HY* have extreme values, but won't remove them. This is because even tho they can be considered as extreme, there seems to be a natural way how they occured and tehre are no huge jumps between them.\n",
    "\n",
    "On the other hand, variables *AHW*, *HF*, *AF* and *AR* seem to have some variables that are far away from the other data. Note that we do not consider variables in *HR* as outliers because it looks like it's a discrete variable with mostly zeroes."
   ],
   "metadata": {
    "collapsed": false
   },
   "id": "a888e96f3e2a7992"
  },
  {
   "cell_type": "code",
   "execution_count": 109,
   "outputs": [
    {
     "name": "stdout",
     "output_type": "stream",
     "text": [
      "Number of extreme values:\n",
      "AS: [45. 39.], (count: 2)\n",
      "AHW: [10.], (count: 1)\n",
      "HF: [145.], (count: 1)\n",
      "AF: [77.], (count: 1)\n",
      "AR: [9.], (count: 1)\n",
      "ABP: [150.], (count: 1)\n"
     ]
    }
   ],
   "source": [
    "stat_jump = [\n",
    "    \"AS\", \"AHW\", \"HF\", \"AF\", \"AR\", \"ABP\"\n",
    "]\n",
    "stats_cut = [\n",
    "    38, 6, 100, 60, 6, 130\n",
    "]\n",
    "\n",
    "print(\"Number of extreme values:\")\n",
    "for i, col in enumerate(stat_jump):\n",
    "    cutoff = stats_cut[i]\n",
    "    x = df[col].to_numpy()\n",
    "    extreme = x[x > cutoff]\n",
    "    print(f\"{col}: {extreme}, (count: {len(extreme)})\")\n",
    "    \n",
    "plt.show()"
   ],
   "metadata": {
    "collapsed": false,
    "ExecuteTime": {
     "end_time": "2024-01-04T17:42:33.719926Z",
     "start_time": "2024-01-04T17:42:33.703887400Z"
    }
   },
   "id": "f21efa2b34676bd3"
  },
  {
   "cell_type": "markdown",
   "source": [
    "Based on the analysis, we see that these extreme values occur at most twice. This is why we chose to remove them."
   ],
   "metadata": {
    "collapsed": false
   },
   "id": "e02737b46401e115"
  },
  {
   "cell_type": "code",
   "execution_count": 110,
   "outputs": [],
   "source": [
    "criteria = dict(zip(stat_jump, stats_cut))\n",
    "for column, value in criteria.items():\n",
    "    # .isna() is important because otherwise all na rows are dropped\n",
    "    df = df[df[column].lt(value) | df[column].isna()]"
   ],
   "metadata": {
    "collapsed": false,
    "ExecuteTime": {
     "end_time": "2024-01-04T17:42:34.108535200Z",
     "start_time": "2024-01-04T17:42:33.718924800Z"
    }
   },
   "id": "bfd4534b886b19e8"
  },
  {
   "cell_type": "markdown",
   "source": [
    "Finally, we will double-check with boxplots."
   ],
   "metadata": {
    "collapsed": false
   },
   "id": "fa38c764b778db71"
  },
  {
   "cell_type": "code",
   "execution_count": 111,
   "outputs": [
    {
     "data": {
      "text/plain": "<Figure size 800x800 with 6 Axes>",
      "image/png": "[encoded data removed]"
     },
     "metadata": {},
     "output_type": "display_data"
    }
   ],
   "source": [
    "fig, axes = plt.subplots(nrows=2, ncols = 3, figsize = (8, 8))\n",
    "axes = axes.ravel()\n",
    "\n",
    "for i, col in enumerate(stat_jump):\n",
    "    df[col].plot(kind='box', ax = axes[i])\n",
    "    axes[i].set_title(col)\n",
    "    axes[i].axes.get_xaxis().set_visible(False)\n",
    "\n",
    "plt.show()"
   ],
   "metadata": {
    "collapsed": false,
    "ExecuteTime": {
     "end_time": "2024-01-04T17:42:34.451945600Z",
     "start_time": "2024-01-04T17:42:34.096810900Z"
    }
   },
   "id": "660bf3ce1d532ff9"
  },
  {
   "cell_type": "markdown",
   "source": [
    "IT looks like variable *HF* contains another outlier, but this process should be done only once. Hence, no outliers are removed."
   ],
   "metadata": {
    "collapsed": false
   },
   "id": "47633077ae692db9"
  },
  {
   "cell_type": "markdown",
   "source": [
    "## Random unnamed data\n",
    "\n",
    "File *'data/train/portugal/1/0304.csv'* contains random data in columns *'Unnamed: 33'* and *'Unnamed: 34'*."
   ],
   "metadata": {
    "collapsed": false
   },
   "id": "bace25c465e174b5"
  },
  {
   "cell_type": "code",
   "execution_count": 112,
   "outputs": [
    {
     "data": {
      "text/plain": "        Unnamed: 32  Unnamed: 33  Unnamed: 34\n108856          2.0          1.8        -1.75",
      "text/html": "<div>\n<style scoped>\n    .dataframe tbody tr th:only-of-type {\n        vertical-align: middle;\n    }\n\n    .dataframe tbody tr th {\n        vertical-align: top;\n    }\n\n    .dataframe thead th {\n        text-align: right;\n    }\n</style>\n<table border=\"1\" class=\"dataframe\">\n  <thead>\n    <tr style=\"text-align: right;\">\n      <th></th>\n      <th>Unnamed: 32</th>\n      <th>Unnamed: 33</th>\n      <th>Unnamed: 34</th>\n    </tr>\n  </thead>\n  <tbody>\n    <tr>\n      <th>108856</th>\n      <td>2.0</td>\n      <td>1.8</td>\n      <td>-1.75</td>\n    </tr>\n  </tbody>\n</table>\n</div>"
     },
     "execution_count": 112,
     "metadata": {},
     "output_type": "execute_result"
    }
   ],
   "source": [
    "unnamed_cols_df = df[['Unnamed: 32', 'Unnamed: 33', 'Unnamed: 34']]\n",
    "unnamed_cols_df[unnamed_cols_df.notnull().any(axis=1)]"
   ],
   "metadata": {
    "collapsed": false,
    "ExecuteTime": {
     "end_time": "2024-01-04T17:42:34.534835700Z",
     "start_time": "2024-01-04T17:42:34.451945600Z"
    }
   },
   "id": "786e1f9ac050b5ae"
  },
  {
   "cell_type": "markdown",
   "source": [
    "Since we do not know what these columns represent, and it is only one non-NA row from the whole dataset, this column is removed."
   ],
   "metadata": {
    "collapsed": false
   },
   "id": "1f14558724384896"
  },
  {
   "cell_type": "code",
   "execution_count": 113,
   "outputs": [],
   "source": [
    "df = df.drop(columns = unnamed_cols_df.columns)"
   ],
   "metadata": {
    "collapsed": false,
    "ExecuteTime": {
     "end_time": "2024-01-04T17:42:34.558376100Z",
     "start_time": "2024-01-04T17:42:34.468763400Z"
    }
   },
   "id": "63344855b69da629"
  },
  {
   "cell_type": "markdown",
   "source": [
    "## Wrong betting odds names\n",
    "\n",
    "File *'data/train/germany/2/0405.csv'* contains columns **LB**, **LB.1** and **LB.2**, which are unique only to this file. After further investigation, they represent the betting odds data for Ladbrokers. After looking at the data more thoroughly, it can be guessed that all three columns represent odds for home win, away win, and draw."
   ],
   "metadata": {
    "collapsed": false
   },
   "id": "2096a866882ec13c"
  },
  {
   "cell_type": "code",
   "execution_count": 114,
   "outputs": [
    {
     "data": {
      "text/plain": "       LB  LB.1  LB.2   SBH   SBD   SBA   WHH   WHD   WHA  GBAHH  GBAHA  GBAH\n2    1.67  3.25   NaN  1.62  3.75  5.00  1.65  3.30  4.60   1.65   2.02 -0.50\n6    2.00  3.20   NaN  2.10  3.20  3.25  2.15  3.10  3.00   1.77   1.95 -0.25\n7    1.91  3.25   NaN  2.00  3.30  3.40  1.90  3.25  3.40   1.95   1.70 -0.50\n12   2.60  3.20  2.38  2.70  3.20  2.40  2.50  3.10  2.50   1.43   2.50  0.50\n15   2.25  3.20  2.75  2.40  3.00  2.88  2.20  3.10  2.87   2.30   1.48 -0.50\n..    ...   ...   ...   ...   ...   ...   ...   ...   ...    ...    ...   ...\n291  2.40  3.25  2.50  2.50  3.25  2.50  2.45  3.25  2.45   2.45   1.43 -0.50\n294  2.00  3.00  3.40  2.10  3.20  3.25  2.10  3.20  3.00   1.91   1.70 -0.50\n295  2.25  3.20  2.75  2.38  3.10  2.88  2.37  3.30  2.50   2.20   1.52 -0.50\n297  1.62  3.25  5.00  1.60  3.75  5.00  1.60  3.30  5.00   1.62   2.06 -0.50\n299  1.73  3.20  4.33  1.75  3.50  4.20  1.75  3.30  4.00   1.75   1.89 -0.50\n\n[110 rows x 12 columns]",
      "text/html": "<div>\n<style scoped>\n    .dataframe tbody tr th:only-of-type {\n        vertical-align: middle;\n    }\n\n    .dataframe tbody tr th {\n        vertical-align: top;\n    }\n\n    .dataframe thead th {\n        text-align: right;\n    }\n</style>\n<table border=\"1\" class=\"dataframe\">\n  <thead>\n    <tr style=\"text-align: right;\">\n      <th></th>\n      <th>LB</th>\n      <th>LB.1</th>\n      <th>LB.2</th>\n      <th>SBH</th>\n      <th>SBD</th>\n      <th>SBA</th>\n      <th>WHH</th>\n      <th>WHD</th>\n      <th>WHA</th>\n      <th>GBAHH</th>\n      <th>GBAHA</th>\n      <th>GBAH</th>\n    </tr>\n  </thead>\n  <tbody>\n    <tr>\n      <th>2</th>\n      <td>1.67</td>\n      <td>3.25</td>\n      <td>NaN</td>\n      <td>1.62</td>\n      <td>3.75</td>\n      <td>5.00</td>\n      <td>1.65</td>\n      <td>3.30</td>\n      <td>4.60</td>\n      <td>1.65</td>\n      <td>2.02</td>\n      <td>-0.50</td>\n    </tr>\n    <tr>\n      <th>6</th>\n      <td>2.00</td>\n      <td>3.20</td>\n      <td>NaN</td>\n      <td>2.10</td>\n      <td>3.20</td>\n      <td>3.25</td>\n      <td>2.15</td>\n      <td>3.10</td>\n      <td>3.00</td>\n      <td>1.77</td>\n      <td>1.95</td>\n      <td>-0.25</td>\n    </tr>\n    <tr>\n      <th>7</th>\n      <td>1.91</td>\n      <td>3.25</td>\n      <td>NaN</td>\n      <td>2.00</td>\n      <td>3.30</td>\n      <td>3.40</td>\n      <td>1.90</td>\n      <td>3.25</td>\n      <td>3.40</td>\n      <td>1.95</td>\n      <td>1.70</td>\n      <td>-0.50</td>\n    </tr>\n    <tr>\n      <th>12</th>\n      <td>2.60</td>\n      <td>3.20</td>\n      <td>2.38</td>\n      <td>2.70</td>\n      <td>3.20</td>\n      <td>2.40</td>\n      <td>2.50</td>\n      <td>3.10</td>\n      <td>2.50</td>\n      <td>1.43</td>\n      <td>2.50</td>\n      <td>0.50</td>\n    </tr>\n    <tr>\n      <th>15</th>\n      <td>2.25</td>\n      <td>3.20</td>\n      <td>2.75</td>\n      <td>2.40</td>\n      <td>3.00</td>\n      <td>2.88</td>\n      <td>2.20</td>\n      <td>3.10</td>\n      <td>2.87</td>\n      <td>2.30</td>\n      <td>1.48</td>\n      <td>-0.50</td>\n    </tr>\n    <tr>\n      <th>...</th>\n      <td>...</td>\n      <td>...</td>\n      <td>...</td>\n      <td>...</td>\n      <td>...</td>\n      <td>...</td>\n      <td>...</td>\n      <td>...</td>\n      <td>...</td>\n      <td>...</td>\n      <td>...</td>\n      <td>...</td>\n    </tr>\n    <tr>\n      <th>291</th>\n      <td>2.40</td>\n      <td>3.25</td>\n      <td>2.50</td>\n      <td>2.50</td>\n      <td>3.25</td>\n      <td>2.50</td>\n      <td>2.45</td>\n      <td>3.25</td>\n      <td>2.45</td>\n      <td>2.45</td>\n      <td>1.43</td>\n      <td>-0.50</td>\n    </tr>\n    <tr>\n      <th>294</th>\n      <td>2.00</td>\n      <td>3.00</td>\n      <td>3.40</td>\n      <td>2.10</td>\n      <td>3.20</td>\n      <td>3.25</td>\n      <td>2.10</td>\n      <td>3.20</td>\n      <td>3.00</td>\n      <td>1.91</td>\n      <td>1.70</td>\n      <td>-0.50</td>\n    </tr>\n    <tr>\n      <th>295</th>\n      <td>2.25</td>\n      <td>3.20</td>\n      <td>2.75</td>\n      <td>2.38</td>\n      <td>3.10</td>\n      <td>2.88</td>\n      <td>2.37</td>\n      <td>3.30</td>\n      <td>2.50</td>\n      <td>2.20</td>\n      <td>1.52</td>\n      <td>-0.50</td>\n    </tr>\n    <tr>\n      <th>297</th>\n      <td>1.62</td>\n      <td>3.25</td>\n      <td>5.00</td>\n      <td>1.60</td>\n      <td>3.75</td>\n      <td>5.00</td>\n      <td>1.60</td>\n      <td>3.30</td>\n      <td>5.00</td>\n      <td>1.62</td>\n      <td>2.06</td>\n      <td>-0.50</td>\n    </tr>\n    <tr>\n      <th>299</th>\n      <td>1.73</td>\n      <td>3.20</td>\n      <td>4.33</td>\n      <td>1.75</td>\n      <td>3.50</td>\n      <td>4.20</td>\n      <td>1.75</td>\n      <td>3.30</td>\n      <td>4.00</td>\n      <td>1.75</td>\n      <td>1.89</td>\n      <td>-0.50</td>\n    </tr>\n  </tbody>\n</table>\n<p>110 rows × 12 columns</p>\n</div>"
     },
     "execution_count": 114,
     "metadata": {},
     "output_type": "execute_result"
    }
   ],
   "source": [
    "tmp = pd.read_csv(\"data/train/germany/2/0405.csv\")\n",
    "# Remove empty rows and columns\n",
    "tmp = tmp.dropna(how='all', axis=0)\n",
    "tmp = tmp.dropna(how='all', axis=1)\n",
    "tmp = tmp.loc[:, ~tmp.columns.str.startswith('Unnamed:')]\n",
    "tmp = tmp[tmp[['LB', 'LB.1', 'LB.2']].notnull().any(axis=1)]\n",
    "tmp.filter(regex='[HDAB12]$').iloc[:, -12:]"
   ],
   "metadata": {
    "collapsed": false,
    "ExecuteTime": {
     "end_time": "2024-01-04T17:42:34.659124100Z",
     "start_time": "2024-01-04T17:42:34.530831Z"
    }
   },
   "id": "46c0204ec919c55a"
  },
  {
   "cell_type": "markdown",
   "source": [
    "Based on column similarity, we can make an edjucated guess that\n",
    "\n",
    "- **LB** should be **LBH**,\n",
    "- **LB.1** should be **LBD**, and\n",
    "- **LB.2** should be **LBA**"
   ],
   "metadata": {
    "collapsed": false
   },
   "id": "353c391dda553e2"
  },
  {
   "cell_type": "code",
   "execution_count": 115,
   "outputs": [],
   "source": [
    "# If LB is not null, use that value and replace it in LBH\n",
    "df[\"LBH\"] = df[\"LBH\"].mask(df[\"LB\"  ].notnull(), df[\"LB\"])\n",
    "df[\"LBD\"] = df[\"LBD\"].mask(df[\"LB.1\"].notnull(), df[\"LB.1\"])\n",
    "df[\"LBA\"] = df[\"LBA\"].mask(df[\"LB.2\"].notnull(), df[\"LB.2\"])\n",
    "df = df.drop(columns = [\"LB\", \"LB.1\", \"LB.2\"])"
   ],
   "metadata": {
    "collapsed": false,
    "ExecuteTime": {
     "end_time": "2024-01-04T17:42:34.701136800Z",
     "start_time": "2024-01-04T17:42:34.560879800Z"
    }
   },
   "id": "62309977e66ec42d"
  },
  {
   "cell_type": "markdown",
   "source": [
    "## Date normalization\n",
    "\n",
    "Date is not consistent and it needs to be unified in order to format it as date."
   ],
   "metadata": {
    "collapsed": false
   },
   "id": "576e514dc2ec2ff9"
  },
  {
   "cell_type": "code",
   "execution_count": 116,
   "outputs": [],
   "source": [
    "potential_fixes = pd.to_datetime(df['Date'], format='mixed', dayfirst=True)\n",
    "equal = potential_fixes[potential_fixes.isnull()].index.equals(df[df[\"Date\"].isnull()].index)\n",
    "# if True, all non-na dates have been converted\n",
    "if equal:\n",
    "    df[\"Date\"] = potential_fixes\n",
    "else:\n",
    "   print(\"Date indexes are not equal. Something wrong with the conversion??\")"
   ],
   "metadata": {
    "collapsed": false,
    "ExecuteTime": {
     "end_time": "2024-01-04T17:42:34.826703400Z",
     "start_time": "2024-01-04T17:42:34.640917600Z"
    }
   },
   "id": "ca78f5ac8fad1e9d"
  },
  {
   "cell_type": "markdown",
   "source": [
    "## Bookies analysis"
   ],
   "metadata": {
    "collapsed": false
   },
   "id": "e3ebd7b832fd12f8"
  },
  {
   "cell_type": "code",
   "execution_count": 117,
   "outputs": [
    {
     "name": "stdout",
     "output_type": "stream",
     "text": [
      "        Avg_away_odds  Avg_home_odds  Avg_draw_odds Avg_bookie_prediction  \\\n",
      "0            2.410000       2.460000       3.250000                     A   \n",
      "1            1.866667       3.350000       3.300000                     A   \n",
      "2            1.816667       3.287500       3.362500                     A   \n",
      "3            4.083333       1.645000       3.450000                     H   \n",
      "4            4.433333       1.605000       3.387500                     H   \n",
      "...               ...            ...            ...                   ...   \n",
      "162225       6.843333       1.368333       5.076667                     H   \n",
      "162226            NaN            NaN            NaN                   NaN   \n",
      "162227       3.610000       1.843333       3.795000                     H   \n",
      "162228            NaN            NaN            NaN                   NaN   \n",
      "162229       5.545000       1.470000       4.528333                     H   \n",
      "\n",
      "        Var_away_odds  Var_home_odds  Var_draw_odds  \n",
      "0            0.007200       0.007200       0.045000  \n",
      "1            0.005833       0.056667       0.026667  \n",
      "2            0.003333       0.007292       0.012292  \n",
      "3            0.135833       0.004300       0.010000  \n",
      "4            0.163333       0.000100       0.007292  \n",
      "...               ...            ...            ...  \n",
      "162225       0.158267       0.001097       0.147067  \n",
      "162226            NaN            NaN            NaN  \n",
      "162227       0.007000       0.001707       0.034150  \n",
      "162228            NaN            NaN            NaN  \n",
      "162229       0.064150       0.000680       0.032817  \n",
      "\n",
      "[161104 rows x 7 columns]\n"
     ]
    }
   ],
   "source": [
    "#minor warning suppression\n",
    "shutup.please()\n",
    "\n",
    "away_odds = df[[\"B365A\", \"BSA\", \"BWA\", \"GBA\", \"IWA\", \"LBA\", \"PSA\", \"SOA\", \"SBA\", \"SJA\", \"SYA\", \"VCA\", \"WHA\"]]\n",
    "home_odds = df[[\"B365H\", \"BSH\", \"BWH\", \"GBH\", \"IWH\", \"LBH\", \"PSH\", \"SOH\", \"SBH\", \"SJH\", \"SYH\", \"VCH\", \"WHH\"]]\n",
    "draw_odds = df[[\"B365D\", \"BSD\", \"BWD\", \"GBD\", \"IWD\", \"LBD\", \"PSD\", \"SOD\", \"SBD\", \"SJD\", \"SYD\", \"VCD\", \"WHD\"]]\n",
    "\n",
    "#Average of away/home/draw odds\n",
    "df[\"Avg_away_odds\"] = away_odds.mean(axis=1)\n",
    "df[\"Avg_home_odds\"] = home_odds.mean(axis=1)\n",
    "df[\"Avg_draw_odds\"] = draw_odds.mean(axis=1)\n",
    "\n",
    "#Predcition based on averages - Odds with smallest average have the highest probability -> returns A/H/D\n",
    "df[\"Avg_bookie_prediction\"] = df[[\"Avg_away_odds\", \"Avg_home_odds\", \"Avg_draw_odds\"]].idxmin(axis=1).fillna(\"\").astype(str).str[4]\n",
    "df[\"Avg_bookie_prediction\"] = df[\"Avg_bookie_prediction\"].str.upper()\n",
    "\n",
    "#Certainity of odds, the smaller variance implies, that bookies are more \"sure\"\n",
    "df[\"Var_away_odds\"] = away_odds.var(axis=1)\n",
    "df[\"Var_home_odds\"] = home_odds.var(axis=1)\n",
    "df[\"Var_draw_odds\"] = draw_odds.var(axis=1)\n",
    "\n",
    "print(df.loc[:, \"Avg_away_odds\":\"Var_draw_odds\"])"
   ],
   "metadata": {
    "collapsed": false,
    "ExecuteTime": {
     "end_time": "2024-01-04T17:42:35.155074700Z",
     "start_time": "2024-01-04T17:42:34.815174300Z"
    }
   },
   "id": "c25515b5503cff13"
  },
  {
   "cell_type": "code",
   "execution_count": 118,
   "outputs": [
    {
     "name": "stdout",
     "output_type": "stream",
     "text": [
      "        B365A  B365D  B365H B365P  BSA  BSD  BSH  BSP   BWA  BWD  ...  SYP  \\\n",
      "0         NaN    NaN    NaN   NaN  NaN  NaN  NaN  NaN   NaN  NaN  ...  NaN   \n",
      "1         NaN    NaN    NaN   NaN  NaN  NaN  NaN  NaN   NaN  NaN  ...  NaN   \n",
      "2         NaN    NaN    NaN   NaN  NaN  NaN  NaN  NaN   NaN  NaN  ...  NaN   \n",
      "3         NaN    NaN    NaN   NaN  NaN  NaN  NaN  NaN   NaN  NaN  ...  NaN   \n",
      "4         NaN    NaN    NaN   NaN  NaN  NaN  NaN  NaN   NaN  NaN  ...  NaN   \n",
      "...       ...    ...    ...   ...  ...  ...  ...  ...   ...  ...  ...  ...   \n",
      "162225   6.50   5.50   1.36     H  NaN  NaN  NaN  NaN  6.75  5.0  ...  NaN   \n",
      "162226    NaN    NaN    NaN   NaN  NaN  NaN  NaN  NaN   NaN  NaN  ...  NaN   \n",
      "162227   3.60   3.75   1.80     H  NaN  NaN  NaN  NaN  3.60  3.9  ...  NaN   \n",
      "162228    NaN    NaN    NaN   NaN  NaN  NaN  NaN  NaN   NaN  NaN  ...  NaN   \n",
      "162229   5.25   4.50   1.45     H  NaN  NaN  NaN  NaN  5.50  4.6  ...  NaN   \n",
      "\n",
      "        VCA  VCD   VCH  VCP   WHA   WHD   WHH  WHP Outcome  \n",
      "0       NaN  NaN   NaN  NaN  2.35  3.40  2.40    A       D  \n",
      "1       NaN  NaN   NaN  NaN  1.95  3.30  3.10    A       A  \n",
      "2       NaN  NaN   NaN  NaN  1.85  3.45  3.25    A       A  \n",
      "3       NaN  NaN   NaN  NaN  3.80  3.50  1.70    H       H  \n",
      "4       NaN  NaN   NaN  NaN  4.50  3.40  1.60    H       H  \n",
      "...     ...  ...   ...  ...   ...   ...   ...  ...     ...  \n",
      "162225  7.0  4.8  1.33    H  6.50  4.50  1.33    H       0  \n",
      "162226  NaN  NaN   NaN  NaN   NaN   NaN   NaN  NaN       0  \n",
      "162227  3.6  3.7  1.83    H  3.50  3.50  1.80    H       0  \n",
      "162228  NaN  NaN   NaN  NaN   NaN   NaN   NaN  NaN       0  \n",
      "162229  5.5  4.5  1.45    H  5.50  4.20  1.44    H       0  \n",
      "\n",
      "[161104 rows x 53 columns]\n"
     ]
    }
   ],
   "source": [
    "#Columns for predictions of all bookies\n",
    "bookies_predictions = pd.DataFrame(columns = [\"B365P\", \"BSP\", \"BWP\", \"GBP\", \"IWP\", \"LBP\", \"PSP\", \"SOP\", \"SBP\", \"SJP\", \"SYP\", \"VCP\", \"WHP\"])\n",
    "\n",
    "#dataframe with away/home/draw odds for each bookie\n",
    "df_bookies_accuracy = pd.concat([away_odds, home_odds, draw_odds, bookies_predictions], axis = 1).sort_index(axis = 1)\n",
    "df_bookies_accuracy[\"Outcome\"] = df[[\"FTR\"]]\n",
    "\n",
    "seq = list(range(3, 53, 4))\n",
    "#\"prediction\" of each bookie based on their odds\n",
    "for i in seq:\n",
    "    df_bookies_accuracy.iloc[:, i] = df_bookies_accuracy.iloc[:, i-3:i].idxmin(axis=1).fillna(\"\").astype(str).str[-1]\n",
    "\n",
    "print(df_bookies_accuracy)"
   ],
   "metadata": {
    "collapsed": false,
    "ExecuteTime": {
     "end_time": "2024-01-04T17:42:36.271189100Z",
     "start_time": "2024-01-04T17:42:35.141696300Z"
    }
   },
   "id": "560f2d8c692863de"
  },
  {
   "cell_type": "code",
   "execution_count": 119,
   "outputs": [
    {
     "name": "stdout",
     "output_type": "stream",
     "text": [
      "Percentage of matching values for B365: 47.40%\n",
      "Percentage of matching values for BS: 49.76%\n",
      "Percentage of matching values for BW: 47.17%\n",
      "Percentage of matching values for GB: 49.95%\n",
      "Percentage of matching values for IW: 47.50%\n",
      "Percentage of matching values for LB: 49.82%\n",
      "Percentage of matching values for PS: 45.15%\n",
      "Percentage of matching values for SO: 49.27%\n",
      "Percentage of matching values for SB: 49.94%\n",
      "Percentage of matching values for SJ: 49.76%\n",
      "Percentage of matching values for SY: 49.94%\n",
      "Percentage of matching values for VC: 47.13%\n",
      "Percentage of matching values for WH: 47.76%\n"
     ]
    }
   ],
   "source": [
    "#Accuracy of each bookie - all around 50% - accuracy of a bookie cannot be used as a weight for prediction\n",
    "for bookie in bookies_predictions:\n",
    "    filter_df = df_bookies_accuracy[df_bookies_accuracy[bookie].notna()]\n",
    "    matching_values = (filter_df[bookie] == filter_df['Outcome']).sum()\n",
    "    total_values = len(filter_df)\n",
    "    percent= (matching_values/total_values) *100\n",
    "    print(\"Percentage of matching values for \" + bookie[:-1] + f\": {percent:.2f}%\")"
   ],
   "metadata": {
    "collapsed": false,
    "ExecuteTime": {
     "end_time": "2024-01-04T17:42:36.555122300Z",
     "start_time": "2024-01-04T17:42:36.268185800Z"
    }
   },
   "id": "ab531191012f1bfb"
  },
  {
   "cell_type": "markdown",
   "source": [
    "- - -"
   ],
   "metadata": {
    "collapsed": false
   },
   "id": "fae4bede01492298"
  },
  {
   "cell_type": "code",
   "execution_count": 120,
   "outputs": [
    {
     "data": {
      "text/plain": "(161104, 174)"
     },
     "execution_count": 120,
     "metadata": {},
     "output_type": "execute_result"
    }
   ],
   "source": [
    "df.shape"
   ],
   "metadata": {
    "collapsed": false,
    "ExecuteTime": {
     "end_time": "2024-01-04T17:42:36.560633500Z",
     "start_time": "2024-01-04T17:42:36.546114200Z"
    }
   },
   "id": "13df9d592fbe9a75"
  },
  {
   "cell_type": "markdown",
   "source": [
    "**Handicap values fix**\n",
    "Handicaps are written in quarters - divisible by 0.25"
   ],
   "metadata": {
    "collapsed": false
   },
   "id": "fa831713638daa7"
  },
  {
   "cell_type": "code",
   "execution_count": 121,
   "outputs": [
    {
     "data": {
      "text/plain": "               GBAH       B365AH         BbAHh           AHh         LBAH  \\\ncount  11551.000000  6811.000000  98135.000000  27596.000000  5431.000000   \nmean      -0.362254    -0.361547     -0.305963     -0.252609    -0.350586   \nstd        0.484828     0.529031      1.287679      0.676762     0.588918   \nmin       -2.250000    -2.500000   -275.000000     -3.750000    -2.250000   \n25%       -0.500000    -0.750000     -0.500000     -0.500000    -0.750000   \n50%       -0.500000    -0.250000     -0.250000     -0.250000    -0.250000   \n75%       -0.250000     0.000000      0.000000      0.000000     0.000000   \nmax        2.500000     1.750000     12.500000      3.000000     9.000000   \n\n               AHCh  \ncount  27620.000000  \nmean      -0.246913  \nstd        0.698673  \nmin       -4.000000  \n25%       -0.500000  \n50%       -0.250000  \n75%        0.250000  \nmax        3.250000  ",
      "text/html": "<div>\n<style scoped>\n    .dataframe tbody tr th:only-of-type {\n        vertical-align: middle;\n    }\n\n    .dataframe tbody tr th {\n        vertical-align: top;\n    }\n\n    .dataframe thead th {\n        text-align: right;\n    }\n</style>\n<table border=\"1\" class=\"dataframe\">\n  <thead>\n    <tr style=\"text-align: right;\">\n      <th></th>\n      <th>GBAH</th>\n      <th>B365AH</th>\n      <th>BbAHh</th>\n      <th>AHh</th>\n      <th>LBAH</th>\n      <th>AHCh</th>\n    </tr>\n  </thead>\n  <tbody>\n    <tr>\n      <th>count</th>\n      <td>11551.000000</td>\n      <td>6811.000000</td>\n      <td>98135.000000</td>\n      <td>27596.000000</td>\n      <td>5431.000000</td>\n      <td>27620.000000</td>\n    </tr>\n    <tr>\n      <th>mean</th>\n      <td>-0.362254</td>\n      <td>-0.361547</td>\n      <td>-0.305963</td>\n      <td>-0.252609</td>\n      <td>-0.350586</td>\n      <td>-0.246913</td>\n    </tr>\n    <tr>\n      <th>std</th>\n      <td>0.484828</td>\n      <td>0.529031</td>\n      <td>1.287679</td>\n      <td>0.676762</td>\n      <td>0.588918</td>\n      <td>0.698673</td>\n    </tr>\n    <tr>\n      <th>min</th>\n      <td>-2.250000</td>\n      <td>-2.500000</td>\n      <td>-275.000000</td>\n      <td>-3.750000</td>\n      <td>-2.250000</td>\n      <td>-4.000000</td>\n    </tr>\n    <tr>\n      <th>25%</th>\n      <td>-0.500000</td>\n      <td>-0.750000</td>\n      <td>-0.500000</td>\n      <td>-0.500000</td>\n      <td>-0.750000</td>\n      <td>-0.500000</td>\n    </tr>\n    <tr>\n      <th>50%</th>\n      <td>-0.500000</td>\n      <td>-0.250000</td>\n      <td>-0.250000</td>\n      <td>-0.250000</td>\n      <td>-0.250000</td>\n      <td>-0.250000</td>\n    </tr>\n    <tr>\n      <th>75%</th>\n      <td>-0.250000</td>\n      <td>0.000000</td>\n      <td>0.000000</td>\n      <td>0.000000</td>\n      <td>0.000000</td>\n      <td>0.250000</td>\n    </tr>\n    <tr>\n      <th>max</th>\n      <td>2.500000</td>\n      <td>1.750000</td>\n      <td>12.500000</td>\n      <td>3.000000</td>\n      <td>9.000000</td>\n      <td>3.250000</td>\n    </tr>\n  </tbody>\n</table>\n</div>"
     },
     "execution_count": 121,
     "metadata": {},
     "output_type": "execute_result"
    }
   ],
   "source": [
    "handicap_cols = ['GBAH', 'B365AH', 'BbAHh', 'AHh', 'LBAH', 'AHCh']\n",
    "df[handicap_cols].describe()"
   ],
   "metadata": {
    "collapsed": false,
    "ExecuteTime": {
     "end_time": "2024-01-04T17:42:36.652230300Z",
     "start_time": "2024-01-04T17:42:36.560633500Z"
    }
   },
   "id": "c1843d4a1fd6dc8d"
  },
  {
   "cell_type": "code",
   "execution_count": 122,
   "outputs": [
    {
     "name": "stdout",
     "output_type": "stream",
     "text": [
      "number of invalid rows left:  0\n",
      "number of invalid rows left:  0\n",
      "number of invalid rows left:  0\n",
      "number of invalid rows left:  0\n",
      "number of invalid rows left:  0\n",
      "number of invalid rows left:  0\n"
     ]
    }
   ],
   "source": [
    "# handicaps are usually counted in quarters (ending with .0, .25, .50, .75)\n",
    "for col in handicap_cols:\n",
    "    df = df[(df[col] % 0.25 == 0) | df[col].isna()] # drop rows with numeric value indivisible by 0.25\n",
    "for i in handicap_cols:\n",
    "    print(\n",
    "        \"number of invalid rows left: \", # difference between # of all rows and validated rows\n",
    "        len(df[i]) - len(df[((df[i] % 0.25 == 0) | (df[i].isna()))])\n",
    "    )"
   ],
   "metadata": {
    "collapsed": false,
    "ExecuteTime": {
     "end_time": "2024-01-04T17:42:37.414654100Z",
     "start_time": "2024-01-04T17:42:36.622215500Z"
    }
   },
   "id": "bc46b39a04c4c8c9"
  },
  {
   "cell_type": "markdown",
   "source": [
    "Betting odds validation (betting odds have to be positive)"
   ],
   "metadata": {
    "collapsed": false
   },
   "id": "bb399d7b28eaae5e"
  },
  {
   "cell_type": "code",
   "execution_count": 123,
   "outputs": [
    {
     "data": {
      "text/plain": "                GBH           GBD           GBA            IWH            IWD  \\\ncount  87396.000000  87450.000000  87434.000000  156861.000000  156865.000000   \nmean       2.275595      3.381706      3.951696       2.346728       3.396041   \nstd        1.040873      0.614211      2.196840       1.169321       0.729838   \nmin        1.030000      1.250000      1.030000       1.010000       1.500000   \n25%        1.730000      3.100000      2.650000       1.750000       3.100000   \n50%        2.100000      3.250000      3.350000       2.100000       3.200000   \n75%        2.450000      3.450000      4.500000       2.500000       3.500000   \nmax       24.000000     11.000000     34.000000      30.000000      16.000000   \n\n                 IWA           SBH           SBD           SBA            WHH  \\\ncount  156899.000000  78434.000000  78449.000000  78435.000000  154158.000000   \nmean        3.757516      2.266286      3.385494      3.950441       2.407906   \nstd         2.273136      1.048682      0.597253      2.235655       1.316585   \nmin         1.030000      1.020000      1.200000      1.020000       1.010000   \n25%         2.550000      1.727000      3.200000      2.620000       1.750000   \n50%         3.200000      2.100000      3.250000      3.300000       2.150000   \n75%         4.200000      2.450000      3.400000      4.500000       2.600000   \nmax        70.000000     26.000000     13.000000     34.000000      34.000000   \n\n       ...      AvgC<2.5          AHCh      B365CAHH      B365CAHA  \\\ncount  ...  27636.000000  27620.000000  27583.000000  27583.000000   \nmean   ...      1.931220     -0.246913      1.932299      1.939337   \nstd    ...      0.423723      0.698673      0.105566      0.101720   \nmin    ...      1.210000     -4.000000      1.500000      1.180000   \n25%    ...      1.650000     -0.500000      1.850000      1.860000   \n50%    ...      1.840000     -0.250000      1.930000      1.950000   \n75%    ...      2.100000      0.250000      2.020000      2.020000   \nmax    ...      6.940000      3.250000      4.650000      2.500000   \n\n              PCAHH         PCAHA       MaxCAHH       MaxCAHA       AvgCAHH  \\\ncount  27597.000000  27598.000000  27633.000000  27636.000000  27636.000000   \nmean       1.950335      1.956255      2.002076      2.007636      1.920410   \nstd        0.105345      0.103709      0.105914      0.106690      0.096882   \nmin        1.590000      1.200000      1.680000      1.200000      1.600000   \n25%        1.870000      1.880000      1.920000      1.920000      1.840000   \n50%        1.950000      1.950000      2.000000      2.000000      1.920000   \n75%        2.030000      2.030000      2.080000      2.090000      1.990000   \nmax        5.080000      2.460000      5.500000      2.700000      4.900000   \n\n            AvgCAHA  \ncount  27616.000000  \nmean       1.923658  \nstd        0.094341  \nmin        1.180000  \n25%        1.850000  \n50%        1.920000  \n75%        2.000000  \nmax        2.360000  \n\n[8 rows x 49 columns]",
      "text/html": "<div>\n<style scoped>\n    .dataframe tbody tr th:only-of-type {\n        vertical-align: middle;\n    }\n\n    .dataframe tbody tr th {\n        vertical-align: top;\n    }\n\n    .dataframe thead th {\n        text-align: right;\n    }\n</style>\n<table border=\"1\" class=\"dataframe\">\n  <thead>\n    <tr style=\"text-align: right;\">\n      <th></th>\n      <th>GBH</th>\n      <th>GBD</th>\n      <th>GBA</th>\n      <th>IWH</th>\n      <th>IWD</th>\n      <th>IWA</th>\n      <th>SBH</th>\n      <th>SBD</th>\n      <th>SBA</th>\n      <th>WHH</th>\n      <th>...</th>\n      <th>AvgC&lt;2.5</th>\n      <th>AHCh</th>\n      <th>B365CAHH</th>\n      <th>B365CAHA</th>\n      <th>PCAHH</th>\n      <th>PCAHA</th>\n      <th>MaxCAHH</th>\n      <th>MaxCAHA</th>\n      <th>AvgCAHH</th>\n      <th>AvgCAHA</th>\n    </tr>\n  </thead>\n  <tbody>\n    <tr>\n      <th>count</th>\n      <td>87396.000000</td>\n      <td>87450.000000</td>\n      <td>87434.000000</td>\n      <td>156861.000000</td>\n      <td>156865.000000</td>\n      <td>156899.000000</td>\n      <td>78434.000000</td>\n      <td>78449.000000</td>\n      <td>78435.000000</td>\n      <td>154158.000000</td>\n      <td>...</td>\n      <td>27636.000000</td>\n      <td>27620.000000</td>\n      <td>27583.000000</td>\n      <td>27583.000000</td>\n      <td>27597.000000</td>\n      <td>27598.000000</td>\n      <td>27633.000000</td>\n      <td>27636.000000</td>\n      <td>27636.000000</td>\n      <td>27616.000000</td>\n    </tr>\n    <tr>\n      <th>mean</th>\n      <td>2.275595</td>\n      <td>3.381706</td>\n      <td>3.951696</td>\n      <td>2.346728</td>\n      <td>3.396041</td>\n      <td>3.757516</td>\n      <td>2.266286</td>\n      <td>3.385494</td>\n      <td>3.950441</td>\n      <td>2.407906</td>\n      <td>...</td>\n      <td>1.931220</td>\n      <td>-0.246913</td>\n      <td>1.932299</td>\n      <td>1.939337</td>\n      <td>1.950335</td>\n      <td>1.956255</td>\n      <td>2.002076</td>\n      <td>2.007636</td>\n      <td>1.920410</td>\n      <td>1.923658</td>\n    </tr>\n    <tr>\n      <th>std</th>\n      <td>1.040873</td>\n      <td>0.614211</td>\n      <td>2.196840</td>\n      <td>1.169321</td>\n      <td>0.729838</td>\n      <td>2.273136</td>\n      <td>1.048682</td>\n      <td>0.597253</td>\n      <td>2.235655</td>\n      <td>1.316585</td>\n      <td>...</td>\n      <td>0.423723</td>\n      <td>0.698673</td>\n      <td>0.105566</td>\n      <td>0.101720</td>\n      <td>0.105345</td>\n      <td>0.103709</td>\n      <td>0.105914</td>\n      <td>0.106690</td>\n      <td>0.096882</td>\n      <td>0.094341</td>\n    </tr>\n    <tr>\n      <th>min</th>\n      <td>1.030000</td>\n      <td>1.250000</td>\n      <td>1.030000</td>\n      <td>1.010000</td>\n      <td>1.500000</td>\n      <td>1.030000</td>\n      <td>1.020000</td>\n      <td>1.200000</td>\n      <td>1.020000</td>\n      <td>1.010000</td>\n      <td>...</td>\n      <td>1.210000</td>\n      <td>-4.000000</td>\n      <td>1.500000</td>\n      <td>1.180000</td>\n      <td>1.590000</td>\n      <td>1.200000</td>\n      <td>1.680000</td>\n      <td>1.200000</td>\n      <td>1.600000</td>\n      <td>1.180000</td>\n    </tr>\n    <tr>\n      <th>25%</th>\n      <td>1.730000</td>\n      <td>3.100000</td>\n      <td>2.650000</td>\n      <td>1.750000</td>\n      <td>3.100000</td>\n      <td>2.550000</td>\n      <td>1.727000</td>\n      <td>3.200000</td>\n      <td>2.620000</td>\n      <td>1.750000</td>\n      <td>...</td>\n      <td>1.650000</td>\n      <td>-0.500000</td>\n      <td>1.850000</td>\n      <td>1.860000</td>\n      <td>1.870000</td>\n      <td>1.880000</td>\n      <td>1.920000</td>\n      <td>1.920000</td>\n      <td>1.840000</td>\n      <td>1.850000</td>\n    </tr>\n    <tr>\n      <th>50%</th>\n      <td>2.100000</td>\n      <td>3.250000</td>\n      <td>3.350000</td>\n      <td>2.100000</td>\n      <td>3.200000</td>\n      <td>3.200000</td>\n      <td>2.100000</td>\n      <td>3.250000</td>\n      <td>3.300000</td>\n      <td>2.150000</td>\n      <td>...</td>\n      <td>1.840000</td>\n      <td>-0.250000</td>\n      <td>1.930000</td>\n      <td>1.950000</td>\n      <td>1.950000</td>\n      <td>1.950000</td>\n      <td>2.000000</td>\n      <td>2.000000</td>\n      <td>1.920000</td>\n      <td>1.920000</td>\n    </tr>\n    <tr>\n      <th>75%</th>\n      <td>2.450000</td>\n      <td>3.450000</td>\n      <td>4.500000</td>\n      <td>2.500000</td>\n      <td>3.500000</td>\n      <td>4.200000</td>\n      <td>2.450000</td>\n      <td>3.400000</td>\n      <td>4.500000</td>\n      <td>2.600000</td>\n      <td>...</td>\n      <td>2.100000</td>\n      <td>0.250000</td>\n      <td>2.020000</td>\n      <td>2.020000</td>\n      <td>2.030000</td>\n      <td>2.030000</td>\n      <td>2.080000</td>\n      <td>2.090000</td>\n      <td>1.990000</td>\n      <td>2.000000</td>\n    </tr>\n    <tr>\n      <th>max</th>\n      <td>24.000000</td>\n      <td>11.000000</td>\n      <td>34.000000</td>\n      <td>30.000000</td>\n      <td>16.000000</td>\n      <td>70.000000</td>\n      <td>26.000000</td>\n      <td>13.000000</td>\n      <td>34.000000</td>\n      <td>34.000000</td>\n      <td>...</td>\n      <td>6.940000</td>\n      <td>3.250000</td>\n      <td>4.650000</td>\n      <td>2.500000</td>\n      <td>5.080000</td>\n      <td>2.460000</td>\n      <td>5.500000</td>\n      <td>2.700000</td>\n      <td>4.900000</td>\n      <td>2.360000</td>\n    </tr>\n  </tbody>\n</table>\n<p>8 rows × 49 columns</p>\n</div>"
     },
     "execution_count": 123,
     "metadata": {},
     "output_type": "execute_result"
    }
   ],
   "source": [
    "odds_cols = ['GBH', 'GBD', 'GBA', 'IWH', 'IWD', 'IWA', 'SBH', 'SBD', 'SBA', 'WHH', 'WHD', 'WHA', 'B365CH', 'B365CD', 'B365CA', 'BWCH', 'BWCD', 'BWCA', 'IWCH', 'IWCD', 'IWCA', 'WHCH', 'WHCD', 'WHCA', 'VCCH', 'VCCD', 'VCCA', 'MaxCH', 'MaxCD', 'MaxCA', 'AvgCH','AvgCD', 'AvgCA', 'B365C>2.5', 'B365C<2.5', 'PC>2.5', 'PC<2.5', 'MaxC>2.5', 'MaxC<2.5', 'AvgC>2.5', 'AvgC<2.5', 'AHCh', 'B365CAHH', 'B365CAHA', 'PCAHH', 'PCAHA', 'MaxCAHH', 'MaxCAHA', 'AvgCAHH', 'AvgCAHA']\n",
    "df[odds_cols].describe()"
   ],
   "metadata": {
    "collapsed": false,
    "ExecuteTime": {
     "end_time": "2024-01-04T17:42:37.752534800Z",
     "start_time": "2024-01-04T17:42:37.403546800Z"
    }
   },
   "id": "b5a8ae1dff1c7d6c"
  },
  {
   "cell_type": "code",
   "execution_count": 124,
   "outputs": [],
   "source": [
    "# only column 'AHCh' has negative values -> no need to run on all 50 columns\n",
    "df[\"AHCh\"] = abs(df[\"AHCh\"])"
   ],
   "metadata": {
    "collapsed": false,
    "ExecuteTime": {
     "end_time": "2024-01-04T17:42:37.767507200Z",
     "start_time": "2024-01-04T17:42:37.745097300Z"
    }
   },
   "id": "5ee615a107a929b8"
  },
  {
   "cell_type": "markdown",
   "id": "a9ec006d07aaf9ed",
   "metadata": {
    "collapsed": false
   },
   "source": [
    "Drop all completely empty columns and rows which there is a lot of, dropped 41 empty columns in total."
   ]
  },
  {
   "cell_type": "code",
   "execution_count": 125,
   "id": "a8f0e94069f87e82",
   "metadata": {
    "collapsed": false,
    "ExecuteTime": {
     "end_time": "2024-01-04T17:42:37.932941Z",
     "start_time": "2024-01-04T17:42:37.762555300Z"
    }
   },
   "outputs": [],
   "source": [
    "df.dropna(how='all', axis=1, inplace=True)"
   ]
  },
  {
   "cell_type": "code",
   "execution_count": 126,
   "id": "ff1c67e0d03c41e8",
   "metadata": {
    "collapsed": false,
    "ExecuteTime": {
     "end_time": "2024-01-04T17:42:37.962006800Z",
     "start_time": "2024-01-04T17:42:37.933941300Z"
    }
   },
   "outputs": [
    {
     "data": {
      "text/plain": "(161071, 174)"
     },
     "execution_count": 126,
     "metadata": {},
     "output_type": "execute_result"
    }
   ],
   "source": [
    "df.shape"
   ]
  },
  {
   "cell_type": "code",
   "execution_count": 127,
   "outputs": [
    {
     "data": {
      "text/plain": "7277"
     },
     "execution_count": 127,
     "metadata": {},
     "output_type": "execute_result"
    }
   ],
   "source": [
    "len(df[df[\"season\"]==22])"
   ],
   "metadata": {
    "collapsed": false,
    "ExecuteTime": {
     "end_time": "2024-01-04T17:42:38.008558300Z",
     "start_time": "2024-01-04T17:42:37.948817700Z"
    }
   },
   "id": "2ffc0436392c3d56"
  },
  {
   "cell_type": "markdown",
   "id": "2f822ca43aff7d4d",
   "metadata": {
    "collapsed": false
   },
   "source": [
    "# Data Exploration\n",
    "\n",
    "Total overview of all variables."
   ]
  },
  {
   "cell_type": "code",
   "execution_count": 128,
   "id": "a76d2dc275b79d0c",
   "metadata": {
    "collapsed": false,
    "ExecuteTime": {
     "end_time": "2024-01-04T17:42:39.200271900Z",
     "start_time": "2024-01-04T17:42:37.963512400Z"
    }
   },
   "outputs": [
    {
     "data": {
      "text/plain": "          Unnamed: 0                           Date           FTHG  \\\ncount  161071.000000                         161071  153794.000000   \nmean      188.102539  2012-01-01 15:35:10.033463552       1.485565   \nmin         0.000000            2000-07-28 00:00:00       0.000000   \n25%        85.000000            2006-03-12 00:00:00       1.000000   \n50%       169.000000            2012-01-02 00:00:00       1.000000   \n75%       272.000000            2017-09-30 00:00:00       2.000000   \nmax       551.000000            2023-06-07 00:00:00      10.000000   \nstd       126.572785                            NaN       1.253213   \n\n                FTAG           HTHG           HTAG           GBH  \\\ncount  153794.000000  153794.000000  153794.000000  87396.000000   \nmean        1.133640       0.655383       0.494434      2.275595   \nmin         0.000000       0.000000       0.000000      1.030000   \n25%         0.000000       0.000000       0.000000      1.730000   \n50%         1.000000       0.000000       0.000000      2.100000   \n75%         2.000000       1.000000       1.000000      2.450000   \nmax         9.000000       7.000000       6.000000     24.000000   \nstd         1.106673       0.809099       0.708481      1.040873   \n\n                GBD           GBA            IWH  ...          SOA  \\\ncount  87450.000000  87434.000000  156861.000000  ...  6580.000000   \nmean       3.381706      3.951696       2.346728  ...     3.832853   \nmin        1.250000      1.030000       1.010000  ...     1.140000   \n25%        3.100000      2.650000       1.750000  ...     2.620000   \n50%        3.250000      3.350000       2.100000  ...     3.250000   \n75%        3.450000      4.500000       2.500000  ...     4.500000   \nmax       11.000000     34.000000      30.000000  ...    21.000000   \nstd        0.614211      2.196840       1.169321  ...     2.077070   \n\n             LBAHH        LBAHA         LBAH  Avg_away_odds  Avg_home_odds  \\\ncount  5421.000000  5421.000000  5409.000000  160487.000000  160486.000000   \nmean      1.919170     1.924853    -0.360094       3.994997       2.407829   \nmin       1.250000    -0.500000    -2.250000       1.040000       1.010000   \n25%       1.840000     1.840000    -0.750000       2.608333       1.758000   \n50%       1.920000     1.920000    -0.250000       3.308333       2.130000   \n75%       2.000000     2.000000     0.000000       4.450000       2.577000   \nmax       3.400000     4.000000     9.000000      68.000000      32.333333   \nstd       0.109095     0.122329     0.570447       2.620643       1.305819   \n\n       Avg_draw_odds  Var_away_odds  Var_home_odds  Var_draw_odds  \ncount  160486.000000  159705.000000  159704.000000  159704.000000  \nmean        3.513629       0.292037       0.039422       0.034328  \nmin         1.250000       0.000000       0.000000       0.000000  \n25%         3.172222       0.006211       0.001310       0.006111  \n50%         3.311429       0.023333       0.003333       0.011267  \n75%         3.561111       0.085500       0.008988       0.022143  \nmax        19.214286     468.000000     140.333333      42.154762  \nstd         0.809313       2.962548       0.557864       0.248086  \n\n[8 rows x 163 columns]",
      "text/html": "<div>\n<style scoped>\n    .dataframe tbody tr th:only-of-type {\n        vertical-align: middle;\n    }\n\n    .dataframe tbody tr th {\n        vertical-align: top;\n    }\n\n    .dataframe thead th {\n        text-align: right;\n    }\n</style>\n<table border=\"1\" class=\"dataframe\">\n  <thead>\n    <tr style=\"text-align: right;\">\n      <th></th>\n      <th>Unnamed: 0</th>\n      <th>Date</th>\n      <th>FTHG</th>\n      <th>FTAG</th>\n      <th>HTHG</th>\n      <th>HTAG</th>\n      <th>GBH</th>\n      <th>GBD</th>\n      <th>GBA</th>\n      <th>IWH</th>\n      <th>...</th>\n      <th>SOA</th>\n      <th>LBAHH</th>\n      <th>LBAHA</th>\n      <th>LBAH</th>\n      <th>Avg_away_odds</th>\n      <th>Avg_home_odds</th>\n      <th>Avg_draw_odds</th>\n      <th>Var_away_odds</th>\n      <th>Var_home_odds</th>\n      <th>Var_draw_odds</th>\n    </tr>\n  </thead>\n  <tbody>\n    <tr>\n      <th>count</th>\n      <td>161071.000000</td>\n      <td>161071</td>\n      <td>153794.000000</td>\n      <td>153794.000000</td>\n      <td>153794.000000</td>\n      <td>153794.000000</td>\n      <td>87396.000000</td>\n      <td>87450.000000</td>\n      <td>87434.000000</td>\n      <td>156861.000000</td>\n      <td>...</td>\n      <td>6580.000000</td>\n      <td>5421.000000</td>\n      <td>5421.000000</td>\n      <td>5409.000000</td>\n      <td>160487.000000</td>\n      <td>160486.000000</td>\n      <td>160486.000000</td>\n      <td>159705.000000</td>\n      <td>159704.000000</td>\n      <td>159704.000000</td>\n    </tr>\n    <tr>\n      <th>mean</th>\n      <td>188.102539</td>\n      <td>2012-01-01 15:35:10.033463552</td>\n      <td>1.485565</td>\n      <td>1.133640</td>\n      <td>0.655383</td>\n      <td>0.494434</td>\n      <td>2.275595</td>\n      <td>3.381706</td>\n      <td>3.951696</td>\n      <td>2.346728</td>\n      <td>...</td>\n      <td>3.832853</td>\n      <td>1.919170</td>\n      <td>1.924853</td>\n      <td>-0.360094</td>\n      <td>3.994997</td>\n      <td>2.407829</td>\n      <td>3.513629</td>\n      <td>0.292037</td>\n      <td>0.039422</td>\n      <td>0.034328</td>\n    </tr>\n    <tr>\n      <th>min</th>\n      <td>0.000000</td>\n      <td>2000-07-28 00:00:00</td>\n      <td>0.000000</td>\n      <td>0.000000</td>\n      <td>0.000000</td>\n      <td>0.000000</td>\n      <td>1.030000</td>\n      <td>1.250000</td>\n      <td>1.030000</td>\n      <td>1.010000</td>\n      <td>...</td>\n      <td>1.140000</td>\n      <td>1.250000</td>\n      <td>-0.500000</td>\n      <td>-2.250000</td>\n      <td>1.040000</td>\n      <td>1.010000</td>\n      <td>1.250000</td>\n      <td>0.000000</td>\n      <td>0.000000</td>\n      <td>0.000000</td>\n    </tr>\n    <tr>\n      <th>25%</th>\n      <td>85.000000</td>\n      <td>2006-03-12 00:00:00</td>\n      <td>1.000000</td>\n      <td>0.000000</td>\n      <td>0.000000</td>\n      <td>0.000000</td>\n      <td>1.730000</td>\n      <td>3.100000</td>\n      <td>2.650000</td>\n      <td>1.750000</td>\n      <td>...</td>\n      <td>2.620000</td>\n      <td>1.840000</td>\n      <td>1.840000</td>\n      <td>-0.750000</td>\n      <td>2.608333</td>\n      <td>1.758000</td>\n      <td>3.172222</td>\n      <td>0.006211</td>\n      <td>0.001310</td>\n      <td>0.006111</td>\n    </tr>\n    <tr>\n      <th>50%</th>\n      <td>169.000000</td>\n      <td>2012-01-02 00:00:00</td>\n      <td>1.000000</td>\n      <td>1.000000</td>\n      <td>0.000000</td>\n      <td>0.000000</td>\n      <td>2.100000</td>\n      <td>3.250000</td>\n      <td>3.350000</td>\n      <td>2.100000</td>\n      <td>...</td>\n      <td>3.250000</td>\n      <td>1.920000</td>\n      <td>1.920000</td>\n      <td>-0.250000</td>\n      <td>3.308333</td>\n      <td>2.130000</td>\n      <td>3.311429</td>\n      <td>0.023333</td>\n      <td>0.003333</td>\n      <td>0.011267</td>\n    </tr>\n    <tr>\n      <th>75%</th>\n      <td>272.000000</td>\n      <td>2017-09-30 00:00:00</td>\n      <td>2.000000</td>\n      <td>2.000000</td>\n      <td>1.000000</td>\n      <td>1.000000</td>\n      <td>2.450000</td>\n      <td>3.450000</td>\n      <td>4.500000</td>\n      <td>2.500000</td>\n      <td>...</td>\n      <td>4.500000</td>\n      <td>2.000000</td>\n      <td>2.000000</td>\n      <td>0.000000</td>\n      <td>4.450000</td>\n      <td>2.577000</td>\n      <td>3.561111</td>\n      <td>0.085500</td>\n      <td>0.008988</td>\n      <td>0.022143</td>\n    </tr>\n    <tr>\n      <th>max</th>\n      <td>551.000000</td>\n      <td>2023-06-07 00:00:00</td>\n      <td>10.000000</td>\n      <td>9.000000</td>\n      <td>7.000000</td>\n      <td>6.000000</td>\n      <td>24.000000</td>\n      <td>11.000000</td>\n      <td>34.000000</td>\n      <td>30.000000</td>\n      <td>...</td>\n      <td>21.000000</td>\n      <td>3.400000</td>\n      <td>4.000000</td>\n      <td>9.000000</td>\n      <td>68.000000</td>\n      <td>32.333333</td>\n      <td>19.214286</td>\n      <td>468.000000</td>\n      <td>140.333333</td>\n      <td>42.154762</td>\n    </tr>\n    <tr>\n      <th>std</th>\n      <td>126.572785</td>\n      <td>NaN</td>\n      <td>1.253213</td>\n      <td>1.106673</td>\n      <td>0.809099</td>\n      <td>0.708481</td>\n      <td>1.040873</td>\n      <td>0.614211</td>\n      <td>2.196840</td>\n      <td>1.169321</td>\n      <td>...</td>\n      <td>2.077070</td>\n      <td>0.109095</td>\n      <td>0.122329</td>\n      <td>0.570447</td>\n      <td>2.620643</td>\n      <td>1.305819</td>\n      <td>0.809313</td>\n      <td>2.962548</td>\n      <td>0.557864</td>\n      <td>0.248086</td>\n    </tr>\n  </tbody>\n</table>\n<p>8 rows × 163 columns</p>\n</div>"
     },
     "execution_count": 128,
     "metadata": {},
     "output_type": "execute_result"
    }
   ],
   "source": [
    "df.describe()"
   ]
  },
  {
   "cell_type": "markdown",
   "id": "34b17fe2",
   "metadata": {},
   "source": [
    "Percentage of missing values."
   ]
  },
  {
   "cell_type": "code",
   "execution_count": 129,
   "id": "dbd0ff92d61fb66f",
   "metadata": {
    "collapsed": false,
    "ExecuteTime": {
     "end_time": "2024-01-04T17:42:39.398694200Z",
     "start_time": "2024-01-04T17:42:39.198271300Z"
    }
   },
   "outputs": [
    {
     "data": {
      "text/plain": "HFKC          0.991560\nAFKC          0.991560\nLBAH          0.964830\nLBAHA         0.964752\nLBAHH         0.964752\nSYD           0.964732\nSYA           0.964693\nSYH           0.964693\nAO            0.957976\nHHW           0.957937\nAHW           0.957859\nHO            0.957853\nSOH           0.957313\nSOD           0.957222\nSOA           0.957215\nABP           0.956851\nAttendance    0.956838\nHBP           0.956767\nB365AH        0.955850\nGBAHA         0.925049\ndtype: float64"
     },
     "execution_count": 129,
     "metadata": {},
     "output_type": "execute_result"
    }
   ],
   "source": [
    "na_vals = df[df[\"season\"] != 22].isna().sum()       # AVOID DATA LEAKAGE ;)\n",
    "na_vals = na_vals/df[df[\"season\"] != 22].shape[0]\n",
    "na_vals.sort_values(ascending = False).head(20)"
   ]
  },
  {
   "cell_type": "code",
   "execution_count": 130,
   "metadata": {
    "ExecuteTime": {
     "end_time": "2024-01-04T17:42:39.694715900Z",
     "start_time": "2024-01-04T17:42:39.384109600Z"
    }
   },
   "outputs": [
    {
     "data": {
      "text/plain": "      Variable First Occurrence Last Occurrence  Missing within\n27         SYD       2002-05-05      2001-08-25          141992\n26         SYH       2002-05-05      2001-08-25          141986\n28         SYA       2002-05-05      2001-08-25          141986\n35       GBAHA       2004-04-03      2004-10-24          136199\n36        GBAH       2004-04-03      2004-10-24          136197\n..         ...              ...             ...             ...\n23      league       2001-05-20      2023-06-07               0\n24     country       2001-05-20      2023-06-07               0\n25      season       2001-05-20      2023-06-07               0\n81         HST       2001-05-20      2022-05-15               0\n0   Unnamed: 0       2001-05-20      2023-06-07               0\n\n[174 rows x 4 columns]",
      "text/html": "<div>\n<style scoped>\n    .dataframe tbody tr th:only-of-type {\n        vertical-align: middle;\n    }\n\n    .dataframe tbody tr th {\n        vertical-align: top;\n    }\n\n    .dataframe thead th {\n        text-align: right;\n    }\n</style>\n<table border=\"1\" class=\"dataframe\">\n  <thead>\n    <tr style=\"text-align: right;\">\n      <th></th>\n      <th>Variable</th>\n      <th>First Occurrence</th>\n      <th>Last Occurrence</th>\n      <th>Missing within</th>\n    </tr>\n  </thead>\n  <tbody>\n    <tr>\n      <th>27</th>\n      <td>SYD</td>\n      <td>2002-05-05</td>\n      <td>2001-08-25</td>\n      <td>141992</td>\n    </tr>\n    <tr>\n      <th>26</th>\n      <td>SYH</td>\n      <td>2002-05-05</td>\n      <td>2001-08-25</td>\n      <td>141986</td>\n    </tr>\n    <tr>\n      <th>28</th>\n      <td>SYA</td>\n      <td>2002-05-05</td>\n      <td>2001-08-25</td>\n      <td>141986</td>\n    </tr>\n    <tr>\n      <th>35</th>\n      <td>GBAHA</td>\n      <td>2004-04-03</td>\n      <td>2004-10-24</td>\n      <td>136199</td>\n    </tr>\n    <tr>\n      <th>36</th>\n      <td>GBAH</td>\n      <td>2004-04-03</td>\n      <td>2004-10-24</td>\n      <td>136197</td>\n    </tr>\n    <tr>\n      <th>...</th>\n      <td>...</td>\n      <td>...</td>\n      <td>...</td>\n      <td>...</td>\n    </tr>\n    <tr>\n      <th>23</th>\n      <td>league</td>\n      <td>2001-05-20</td>\n      <td>2023-06-07</td>\n      <td>0</td>\n    </tr>\n    <tr>\n      <th>24</th>\n      <td>country</td>\n      <td>2001-05-20</td>\n      <td>2023-06-07</td>\n      <td>0</td>\n    </tr>\n    <tr>\n      <th>25</th>\n      <td>season</td>\n      <td>2001-05-20</td>\n      <td>2023-06-07</td>\n      <td>0</td>\n    </tr>\n    <tr>\n      <th>81</th>\n      <td>HST</td>\n      <td>2001-05-20</td>\n      <td>2022-05-15</td>\n      <td>0</td>\n    </tr>\n    <tr>\n      <th>0</th>\n      <td>Unnamed: 0</td>\n      <td>2001-05-20</td>\n      <td>2023-06-07</td>\n      <td>0</td>\n    </tr>\n  </tbody>\n</table>\n<p>174 rows × 4 columns</p>\n</div>"
     },
     "execution_count": 130,
     "metadata": {},
     "output_type": "execute_result"
    }
   ],
   "source": [
    "df = df.reset_index(drop = True)\n",
    "\n",
    "# Get first and last occurrences\n",
    "first_occurrences = df.apply(lambda x: x.first_valid_index())\n",
    "last_occurrences = df.apply(lambda x: x.last_valid_index())\n",
    "\n",
    "missing_counts = {}\n",
    "\n",
    "for column in df.columns:\n",
    "    # Indexes of the first and last occurrences\n",
    "    first_idx = df[column].first_valid_index()\n",
    "    last_idx = df[column].last_valid_index()\n",
    "\n",
    "    # Select the range between first and last occurrence, count missing values\n",
    "    missing_count = df[column][first_idx:last_idx].isnull().sum()\n",
    "    missing_counts[column] = missing_count\n",
    "\n",
    "result_df = pd.DataFrame({\n",
    "    'Variable':          df.columns,\n",
    "    'First Occurrence':  df[\"Date\"].to_numpy()[first_occurrences.values],\n",
    "    'Last Occurrence':   df[\"Date\"].to_numpy()[last_occurrences.values],\n",
    "    \"Missing within\": missing_counts.values()\n",
    "})\n",
    "\n",
    "result_df.sort_values(by=\"Missing within\", ascending=False)"
   ],
   "id": "50b764f244678fc2"
  },
  {
   "cell_type": "markdown",
   "source": [
    "# Feature Engineering\n",
    "We decided to add several features to the dataset.\n",
    "These features are:\n",
    "- Result of the last match between the two contending teams\n",
    "- Goal score during the last match between the two contending teams\n",
    "- Average amount of goals scored in the current season\n",
    "- Average amount of goals received in the current season\n",
    "\n",
    "We believe that these features will prove useful in the training of our model as they can reveal things such as momentum and strenghts/weaknesses against certain teams."
   ],
   "metadata": {
    "collapsed": false
   },
   "id": "30bec80d7d965594"
  },
  {
   "cell_type": "markdown",
   "source": [
    "### Result of the last match between the two contending teams"
   ],
   "metadata": {
    "collapsed": false
   },
   "id": "731c6074219fca63"
  },
  {
   "cell_type": "markdown",
   "source": [
    "Create a string of participating teams, append them alphabetically behind each other so it is easier to slice them."
   ],
   "metadata": {
    "collapsed": false
   },
   "id": "eb136876c01030c7"
  },
  {
   "cell_type": "code",
   "execution_count": 131,
   "outputs": [],
   "source": [
    "df[\"Index\"] = df.index\n",
    "df[\"MatchTeams\"] = df[[\"HomeTeam\",\"AwayTeam\"]].values.tolist()\n",
    "df[\"MatchTeams\"] = df[\"MatchTeams\"].sort_values().apply(lambda x: sorted(x))"
   ],
   "metadata": {
    "collapsed": false,
    "ExecuteTime": {
     "end_time": "2024-01-04T17:42:40.355768200Z",
     "start_time": "2024-01-04T17:42:39.694715900Z"
    }
   },
   "id": "90d9139991f1075a"
  },
  {
   "cell_type": "code",
   "execution_count": 132,
   "outputs": [],
   "source": [
    "df = df.assign(MatchTeams=df[\"MatchTeams\"].apply(lambda l: \"_\".join(l)))"
   ],
   "metadata": {
    "collapsed": false,
    "ExecuteTime": {
     "end_time": "2024-01-04T17:42:40.480329500Z",
     "start_time": "2024-01-04T17:42:40.353247100Z"
    }
   },
   "id": "cca557999ee1cea"
  },
  {
   "cell_type": "code",
   "execution_count": 133,
   "outputs": [
    {
     "data": {
      "text/plain": "        Unnamed: 0  Div       Date      HomeTeam      AwayTeam  FTHG  FTAG  \\\n148292         NaN  NaN        NaT           NaN           NaN   NaN   NaN   \n148145       284.0   T1 2003-11-08     Adanaspor  A. Sebatspor   1.0   2.0   \n148121         NaN  NaN        NaT           NaN           NaN   NaN   NaN   \n148140       112.0   T1 2003-12-21    Ankaragucu  A. Sebatspor   1.0   1.0   \n148443       131.0   T1 2004-05-15  A. Sebatspor    Ankaragucu   3.0   2.0   \n...            ...  ...        ...           ...           ...   ...   ...   \n132676       112.0  SP1 2010-01-17      Zaragoza         Xerez   0.0   0.0   \n39369          NaN  NaN        NaT           NaN           NaN   NaN   NaN   \n39155        367.0   E3 2003-09-13        Yeovil          York   3.0   0.0   \n45566        153.0   E3 2004-04-20          York        Yeovil   1.0   2.0   \n45621        125.0   E3 2015-08-18          York        Yeovil   1.0   0.0   \n\n        FTR  HTHG  HTAG  ... LBAHA  LBAH  Avg_away_odds  Avg_home_odds  \\\n148292  NaN   NaN   NaN  ...   NaN   NaN            NaN            NaN   \n148145    A   0.0   1.0  ...   NaN   NaN       3.341667       1.881500   \n148121  NaN   NaN   NaN  ...   NaN   NaN            NaN            NaN   \n148140    D   1.0   0.0  ...   NaN   NaN       4.302167       1.644000   \n148443    H   3.0   2.0  ...   NaN   NaN       6.950000       1.305000   \n...     ...   ...   ...  ...   ...   ...            ...            ...   \n132676    D   0.0   0.0  ...   NaN   NaN       5.390000       1.616000   \n39369   NaN   NaN   NaN  ...   NaN   NaN            NaN            NaN   \n39155     H   2.0   0.0  ...   NaN   NaN       3.464286       1.892714   \n45566     A   1.0   0.0  ...   NaN   NaN       2.200000       2.728333   \n45621     H   0.0   0.0  ...   NaN   NaN       4.087143       1.934286   \n\n        Avg_draw_odds  Avg_bookie_prediction  Var_away_odds  Var_home_odds  \\\n148292            NaN                    NaN            NaN            NaN   \n148145       3.358333                      H       0.044417       0.005085   \n148121            NaN                    NaN            NaN            NaN   \n148140       3.441667                      H       0.028892       0.000972   \n148443       4.507500                      H       0.176667       0.000300   \n...               ...                    ...            ...            ...   \n132676       3.570000                      H       0.207111       0.001893   \n39369             NaN                    NaN            NaN            NaN   \n39155        3.235714                      H       0.060595       0.000785   \n45566        3.375000                      A       0.007000       0.003817   \n45621        3.360000                      H       0.168324       0.000462   \n\n        Var_draw_odds     Index  \n148292            NaN       NaN  \n148145       0.008417  148292.0  \n148121            NaN       NaN  \n148140       0.010417  148121.0  \n148443       0.022892  148140.0  \n...               ...       ...  \n132676       0.002333  132540.0  \n39369             NaN       NaN  \n39155        0.003929   39369.0  \n45566        0.015750   39155.0  \n45621        0.019367   45566.0  \n\n[161071 rows x 175 columns]",
      "text/html": "<div>\n<style scoped>\n    .dataframe tbody tr th:only-of-type {\n        vertical-align: middle;\n    }\n\n    .dataframe tbody tr th {\n        vertical-align: top;\n    }\n\n    .dataframe thead th {\n        text-align: right;\n    }\n</style>\n<table border=\"1\" class=\"dataframe\">\n  <thead>\n    <tr style=\"text-align: right;\">\n      <th></th>\n      <th>Unnamed: 0</th>\n      <th>Div</th>\n      <th>Date</th>\n      <th>HomeTeam</th>\n      <th>AwayTeam</th>\n      <th>FTHG</th>\n      <th>FTAG</th>\n      <th>FTR</th>\n      <th>HTHG</th>\n      <th>HTAG</th>\n      <th>...</th>\n      <th>LBAHA</th>\n      <th>LBAH</th>\n      <th>Avg_away_odds</th>\n      <th>Avg_home_odds</th>\n      <th>Avg_draw_odds</th>\n      <th>Avg_bookie_prediction</th>\n      <th>Var_away_odds</th>\n      <th>Var_home_odds</th>\n      <th>Var_draw_odds</th>\n      <th>Index</th>\n    </tr>\n  </thead>\n  <tbody>\n    <tr>\n      <th>148292</th>\n      <td>NaN</td>\n      <td>NaN</td>\n      <td>NaT</td>\n      <td>NaN</td>\n      <td>NaN</td>\n      <td>NaN</td>\n      <td>NaN</td>\n      <td>NaN</td>\n      <td>NaN</td>\n      <td>NaN</td>\n      <td>...</td>\n      <td>NaN</td>\n      <td>NaN</td>\n      <td>NaN</td>\n      <td>NaN</td>\n      <td>NaN</td>\n      <td>NaN</td>\n      <td>NaN</td>\n      <td>NaN</td>\n      <td>NaN</td>\n      <td>NaN</td>\n    </tr>\n    <tr>\n      <th>148145</th>\n      <td>284.0</td>\n      <td>T1</td>\n      <td>2003-11-08</td>\n      <td>Adanaspor</td>\n      <td>A. Sebatspor</td>\n      <td>1.0</td>\n      <td>2.0</td>\n      <td>A</td>\n      <td>0.0</td>\n      <td>1.0</td>\n      <td>...</td>\n      <td>NaN</td>\n      <td>NaN</td>\n      <td>3.341667</td>\n      <td>1.881500</td>\n      <td>3.358333</td>\n      <td>H</td>\n      <td>0.044417</td>\n      <td>0.005085</td>\n      <td>0.008417</td>\n      <td>148292.0</td>\n    </tr>\n    <tr>\n      <th>148121</th>\n      <td>NaN</td>\n      <td>NaN</td>\n      <td>NaT</td>\n      <td>NaN</td>\n      <td>NaN</td>\n      <td>NaN</td>\n      <td>NaN</td>\n      <td>NaN</td>\n      <td>NaN</td>\n      <td>NaN</td>\n      <td>...</td>\n      <td>NaN</td>\n      <td>NaN</td>\n      <td>NaN</td>\n      <td>NaN</td>\n      <td>NaN</td>\n      <td>NaN</td>\n      <td>NaN</td>\n      <td>NaN</td>\n      <td>NaN</td>\n      <td>NaN</td>\n    </tr>\n    <tr>\n      <th>148140</th>\n      <td>112.0</td>\n      <td>T1</td>\n      <td>2003-12-21</td>\n      <td>Ankaragucu</td>\n      <td>A. Sebatspor</td>\n      <td>1.0</td>\n      <td>1.0</td>\n      <td>D</td>\n      <td>1.0</td>\n      <td>0.0</td>\n      <td>...</td>\n      <td>NaN</td>\n      <td>NaN</td>\n      <td>4.302167</td>\n      <td>1.644000</td>\n      <td>3.441667</td>\n      <td>H</td>\n      <td>0.028892</td>\n      <td>0.000972</td>\n      <td>0.010417</td>\n      <td>148121.0</td>\n    </tr>\n    <tr>\n      <th>148443</th>\n      <td>131.0</td>\n      <td>T1</td>\n      <td>2004-05-15</td>\n      <td>A. Sebatspor</td>\n      <td>Ankaragucu</td>\n      <td>3.0</td>\n      <td>2.0</td>\n      <td>H</td>\n      <td>3.0</td>\n      <td>2.0</td>\n      <td>...</td>\n      <td>NaN</td>\n      <td>NaN</td>\n      <td>6.950000</td>\n      <td>1.305000</td>\n      <td>4.507500</td>\n      <td>H</td>\n      <td>0.176667</td>\n      <td>0.000300</td>\n      <td>0.022892</td>\n      <td>148140.0</td>\n    </tr>\n    <tr>\n      <th>...</th>\n      <td>...</td>\n      <td>...</td>\n      <td>...</td>\n      <td>...</td>\n      <td>...</td>\n      <td>...</td>\n      <td>...</td>\n      <td>...</td>\n      <td>...</td>\n      <td>...</td>\n      <td>...</td>\n      <td>...</td>\n      <td>...</td>\n      <td>...</td>\n      <td>...</td>\n      <td>...</td>\n      <td>...</td>\n      <td>...</td>\n      <td>...</td>\n      <td>...</td>\n      <td>...</td>\n    </tr>\n    <tr>\n      <th>132676</th>\n      <td>112.0</td>\n      <td>SP1</td>\n      <td>2010-01-17</td>\n      <td>Zaragoza</td>\n      <td>Xerez</td>\n      <td>0.0</td>\n      <td>0.0</td>\n      <td>D</td>\n      <td>0.0</td>\n      <td>0.0</td>\n      <td>...</td>\n      <td>NaN</td>\n      <td>NaN</td>\n      <td>5.390000</td>\n      <td>1.616000</td>\n      <td>3.570000</td>\n      <td>H</td>\n      <td>0.207111</td>\n      <td>0.001893</td>\n      <td>0.002333</td>\n      <td>132540.0</td>\n    </tr>\n    <tr>\n      <th>39369</th>\n      <td>NaN</td>\n      <td>NaN</td>\n      <td>NaT</td>\n      <td>NaN</td>\n      <td>NaN</td>\n      <td>NaN</td>\n      <td>NaN</td>\n      <td>NaN</td>\n      <td>NaN</td>\n      <td>NaN</td>\n      <td>...</td>\n      <td>NaN</td>\n      <td>NaN</td>\n      <td>NaN</td>\n      <td>NaN</td>\n      <td>NaN</td>\n      <td>NaN</td>\n      <td>NaN</td>\n      <td>NaN</td>\n      <td>NaN</td>\n      <td>NaN</td>\n    </tr>\n    <tr>\n      <th>39155</th>\n      <td>367.0</td>\n      <td>E3</td>\n      <td>2003-09-13</td>\n      <td>Yeovil</td>\n      <td>York</td>\n      <td>3.0</td>\n      <td>0.0</td>\n      <td>H</td>\n      <td>2.0</td>\n      <td>0.0</td>\n      <td>...</td>\n      <td>NaN</td>\n      <td>NaN</td>\n      <td>3.464286</td>\n      <td>1.892714</td>\n      <td>3.235714</td>\n      <td>H</td>\n      <td>0.060595</td>\n      <td>0.000785</td>\n      <td>0.003929</td>\n      <td>39369.0</td>\n    </tr>\n    <tr>\n      <th>45566</th>\n      <td>153.0</td>\n      <td>E3</td>\n      <td>2004-04-20</td>\n      <td>York</td>\n      <td>Yeovil</td>\n      <td>1.0</td>\n      <td>2.0</td>\n      <td>A</td>\n      <td>1.0</td>\n      <td>0.0</td>\n      <td>...</td>\n      <td>NaN</td>\n      <td>NaN</td>\n      <td>2.200000</td>\n      <td>2.728333</td>\n      <td>3.375000</td>\n      <td>A</td>\n      <td>0.007000</td>\n      <td>0.003817</td>\n      <td>0.015750</td>\n      <td>39155.0</td>\n    </tr>\n    <tr>\n      <th>45621</th>\n      <td>125.0</td>\n      <td>E3</td>\n      <td>2015-08-18</td>\n      <td>York</td>\n      <td>Yeovil</td>\n      <td>1.0</td>\n      <td>0.0</td>\n      <td>H</td>\n      <td>0.0</td>\n      <td>0.0</td>\n      <td>...</td>\n      <td>NaN</td>\n      <td>NaN</td>\n      <td>4.087143</td>\n      <td>1.934286</td>\n      <td>3.360000</td>\n      <td>H</td>\n      <td>0.168324</td>\n      <td>0.000462</td>\n      <td>0.019367</td>\n      <td>45566.0</td>\n    </tr>\n  </tbody>\n</table>\n<p>161071 rows × 175 columns</p>\n</div>"
     },
     "execution_count": 133,
     "metadata": {},
     "output_type": "execute_result"
    }
   ],
   "source": [
    "df.sort_values(['MatchTeams','Date'],ascending=True).groupby('MatchTeams').shift()"
   ],
   "metadata": {
    "collapsed": false,
    "ExecuteTime": {
     "end_time": "2024-01-04T17:42:40.934799600Z",
     "start_time": "2024-01-04T17:42:40.480329500Z"
    }
   },
   "id": "471e8ec62aeb1eaa"
  },
  {
   "cell_type": "markdown",
   "source": [],
   "metadata": {
    "collapsed": false
   },
   "id": "b2b3e785cc19563b"
  },
  {
   "cell_type": "markdown",
   "source": [
    "Use groupby to group by same matches, create [\"LastMatchIndex\",\"LastMatchAwayGoals\", \"LastMatchHomeGoals\"] columns with unsorted values.\n",
    "First match of two teams gets empty column index as LastMatchIndex"
   ],
   "metadata": {
    "collapsed": false
   },
   "id": "5dd64750de5803cc"
  },
  {
   "cell_type": "code",
   "execution_count": 134,
   "outputs": [],
   "source": [
    "df[[\"LastMatchIndex\",\"LastMatchAwayGoals\", \"LastMatchHomeGoals\"]] = df.sort_values(['MatchTeams','Date'],ascending=True).groupby('MatchTeams').shift()[[\"Index\",\"FTAG\", \"FTHG\"]]\n",
    "df.loc[np.isnan(df[\"LastMatchIndex\"]), \"LastMatchIndex\"] = len(df.index)-1\n",
    "df.loc[len(df.index)] = [np.nan for _ in range(df.shape[1])]\n",
    "df.loc[len(df.index)-1]\n",
    "df[\"LastMatchIndex\"] = df[\"LastMatchIndex\"].replace(np.nan, len(df.index)-1)\n",
    "\n",
    "df[\"LastMatchIndex\"].fillna(len(df.index)-1)\n",
    "arr = df[\"LastMatchIndex\"]"
   ],
   "metadata": {
    "collapsed": false,
    "ExecuteTime": {
     "end_time": "2024-01-04T17:42:41.391883900Z",
     "start_time": "2024-01-04T17:42:40.934799600Z"
    }
   },
   "id": "24cda30259af6152"
  },
  {
   "cell_type": "markdown",
   "source": [
    "Switch LastMatchHomeGoals and LastMatchAwayGoals if they do not correspond to the teams accordingly, calculate who won the match"
   ],
   "metadata": {
    "collapsed": false
   },
   "id": "529fafb307538356"
  },
  {
   "cell_type": "code",
   "execution_count": 135,
   "outputs": [],
   "source": [
    "df[\"SameHomeTeam\"] = (df.iloc[arr][\"HomeTeam\"].values == df[\"HomeTeam\"].values)\n",
    "df.loc[df[\"SameHomeTeam\"],['LastMatchHomeGoals','LastMatchAwayGoals']] = df.loc[df[\"SameHomeTeam\"],['LastMatchHomeGoals','LastMatchAwayGoals']].values\n",
    "df[\"LastMatchAwayWin\"] = (df[\"LastMatchAwayGoals\"] > df[\"LastMatchHomeGoals\"]).astype(int)\n",
    "df[\"LastMatchHomeWin\"] = (df[\"LastMatchAwayGoals\"] < df[\"LastMatchHomeGoals\"]).astype(int)\n",
    "df[\"LastMatchDraw\"] = (df[\"LastMatchAwayGoals\"] == df[\"LastMatchHomeGoals\"]).astype(int)"
   ],
   "metadata": {
    "collapsed": false,
    "ExecuteTime": {
     "end_time": "2024-01-04T17:42:41.573885600Z",
     "start_time": "2024-01-04T17:42:41.387879900Z"
    }
   },
   "id": "1ea2c9e1455d3e4"
  },
  {
   "cell_type": "code",
   "execution_count": 136,
   "outputs": [
    {
     "data": {
      "text/plain": "        Unnamed: 0  Div       Date      HomeTeam      AwayTeam  FTHG  FTAG  \\\n0              0.0   B1 2001-05-20      Mechelen        Lierse   1.0   1.0   \n1              1.0   B1 2000-09-17      Germinal   Club Brugge   2.0   3.0   \n2              2.0   B1 2000-10-14       Beveren      Standard   0.0   3.0   \n3              3.0   B1 2000-09-06       Lokeren      Mechelen   3.0   2.0   \n4              4.0   B1 2000-08-27     Charleroi       Antwerp   1.0   0.0   \n...            ...  ...        ...           ...           ...   ...   ...   \n161067       338.0   T1 2023-06-07    Fenerbahce     Gaziantep   NaN   NaN   \n161068       339.0   T1 2023-06-07   Giresunspor   Antalyaspor   NaN   NaN   \n161069       340.0   T1 2023-06-07     Hatayspor   Galatasaray   NaN   NaN   \n161070       341.0   T1 2023-06-07  Istanbulspor  Umraniyespor   NaN   NaN   \n161071         NaN  NaN        NaT           NaN           NaN   NaN   NaN   \n\n        FTR  HTHG  HTAG  ... Avg_bookie_prediction  Var_away_odds  \\\n0         D   1.0   1.0  ...                     A       0.007200   \n1         A   0.0   1.0  ...                     A       0.005833   \n2         A   0.0   2.0  ...                     A       0.003333   \n3         H   0.0   2.0  ...                     H       0.135833   \n4         H   1.0   0.0  ...                     H       0.163333   \n...     ...   ...   ...  ...                   ...            ...   \n161067    0   NaN   NaN  ...                   NaN            NaN   \n161068    0   NaN   NaN  ...                     H       0.007000   \n161069    0   NaN   NaN  ...                   NaN            NaN   \n161070    0   NaN   NaN  ...                     H       0.064150   \n161071  NaN   NaN   NaN  ...                   NaN            NaN   \n\n        Var_home_odds  Var_draw_odds                 MatchTeams  \\\n0            0.007200       0.045000            Lierse_Mechelen   \n1            0.056667       0.026667       Club Brugge_Germinal   \n2            0.007292       0.012292           Beveren_Standard   \n3            0.004300       0.010000           Lokeren_Mechelen   \n4            0.000100       0.007292          Antwerp_Charleroi   \n...               ...            ...                        ...   \n161067            NaN            NaN       Fenerbahce_Gaziantep   \n161068       0.001707       0.034150    Antalyaspor_Giresunspor   \n161069            NaN            NaN      Galatasaray_Hatayspor   \n161070       0.000680       0.032817  Istanbulspor_Umraniyespor   \n161071            NaN            NaN                        NaN   \n\n        LastMatchAwayGoals  LastMatchHomeGoals  LastMatchAwayWin  \\\n0                      1.0                 1.0                 0   \n1                      NaN                 NaN                 0   \n2                      NaN                 NaN                 0   \n3                      NaN                 NaN                 0   \n4                      NaN                 NaN                 0   \n...                    ...                 ...               ...   \n161067                 NaN                 NaN                 0   \n161068                 NaN                 NaN                 0   \n161069                 NaN                 NaN                 0   \n161070                 NaN                 NaN                 0   \n161071                 NaN                 NaN                 0   \n\n        LastMatchHomeWin  LastMatchDraw  \n0                      0              1  \n1                      0              0  \n2                      0              0  \n3                      0              0  \n4                      0              0  \n...                  ...            ...  \n161067                 0              0  \n161068                 0              0  \n161069                 0              0  \n161070                 0              0  \n161071                 0              0  \n\n[161072 rows x 180 columns]",
      "text/html": "<div>\n<style scoped>\n    .dataframe tbody tr th:only-of-type {\n        vertical-align: middle;\n    }\n\n    .dataframe tbody tr th {\n        vertical-align: top;\n    }\n\n    .dataframe thead th {\n        text-align: right;\n    }\n</style>\n<table border=\"1\" class=\"dataframe\">\n  <thead>\n    <tr style=\"text-align: right;\">\n      <th></th>\n      <th>Unnamed: 0</th>\n      <th>Div</th>\n      <th>Date</th>\n      <th>HomeTeam</th>\n      <th>AwayTeam</th>\n      <th>FTHG</th>\n      <th>FTAG</th>\n      <th>FTR</th>\n      <th>HTHG</th>\n      <th>HTAG</th>\n      <th>...</th>\n      <th>Avg_bookie_prediction</th>\n      <th>Var_away_odds</th>\n      <th>Var_home_odds</th>\n      <th>Var_draw_odds</th>\n      <th>MatchTeams</th>\n      <th>LastMatchAwayGoals</th>\n      <th>LastMatchHomeGoals</th>\n      <th>LastMatchAwayWin</th>\n      <th>LastMatchHomeWin</th>\n      <th>LastMatchDraw</th>\n    </tr>\n  </thead>\n  <tbody>\n    <tr>\n      <th>0</th>\n      <td>0.0</td>\n      <td>B1</td>\n      <td>2001-05-20</td>\n      <td>Mechelen</td>\n      <td>Lierse</td>\n      <td>1.0</td>\n      <td>1.0</td>\n      <td>D</td>\n      <td>1.0</td>\n      <td>1.0</td>\n      <td>...</td>\n      <td>A</td>\n      <td>0.007200</td>\n      <td>0.007200</td>\n      <td>0.045000</td>\n      <td>Lierse_Mechelen</td>\n      <td>1.0</td>\n      <td>1.0</td>\n      <td>0</td>\n      <td>0</td>\n      <td>1</td>\n    </tr>\n    <tr>\n      <th>1</th>\n      <td>1.0</td>\n      <td>B1</td>\n      <td>2000-09-17</td>\n      <td>Germinal</td>\n      <td>Club Brugge</td>\n      <td>2.0</td>\n      <td>3.0</td>\n      <td>A</td>\n      <td>0.0</td>\n      <td>1.0</td>\n      <td>...</td>\n      <td>A</td>\n      <td>0.005833</td>\n      <td>0.056667</td>\n      <td>0.026667</td>\n      <td>Club Brugge_Germinal</td>\n      <td>NaN</td>\n      <td>NaN</td>\n      <td>0</td>\n      <td>0</td>\n      <td>0</td>\n    </tr>\n    <tr>\n      <th>2</th>\n      <td>2.0</td>\n      <td>B1</td>\n      <td>2000-10-14</td>\n      <td>Beveren</td>\n      <td>Standard</td>\n      <td>0.0</td>\n      <td>3.0</td>\n      <td>A</td>\n      <td>0.0</td>\n      <td>2.0</td>\n      <td>...</td>\n      <td>A</td>\n      <td>0.003333</td>\n      <td>0.007292</td>\n      <td>0.012292</td>\n      <td>Beveren_Standard</td>\n      <td>NaN</td>\n      <td>NaN</td>\n      <td>0</td>\n      <td>0</td>\n      <td>0</td>\n    </tr>\n    <tr>\n      <th>3</th>\n      <td>3.0</td>\n      <td>B1</td>\n      <td>2000-09-06</td>\n      <td>Lokeren</td>\n      <td>Mechelen</td>\n      <td>3.0</td>\n      <td>2.0</td>\n      <td>H</td>\n      <td>0.0</td>\n      <td>2.0</td>\n      <td>...</td>\n      <td>H</td>\n      <td>0.135833</td>\n      <td>0.004300</td>\n      <td>0.010000</td>\n      <td>Lokeren_Mechelen</td>\n      <td>NaN</td>\n      <td>NaN</td>\n      <td>0</td>\n      <td>0</td>\n      <td>0</td>\n    </tr>\n    <tr>\n      <th>4</th>\n      <td>4.0</td>\n      <td>B1</td>\n      <td>2000-08-27</td>\n      <td>Charleroi</td>\n      <td>Antwerp</td>\n      <td>1.0</td>\n      <td>0.0</td>\n      <td>H</td>\n      <td>1.0</td>\n      <td>0.0</td>\n      <td>...</td>\n      <td>H</td>\n      <td>0.163333</td>\n      <td>0.000100</td>\n      <td>0.007292</td>\n      <td>Antwerp_Charleroi</td>\n      <td>NaN</td>\n      <td>NaN</td>\n      <td>0</td>\n      <td>0</td>\n      <td>0</td>\n    </tr>\n    <tr>\n      <th>...</th>\n      <td>...</td>\n      <td>...</td>\n      <td>...</td>\n      <td>...</td>\n      <td>...</td>\n      <td>...</td>\n      <td>...</td>\n      <td>...</td>\n      <td>...</td>\n      <td>...</td>\n      <td>...</td>\n      <td>...</td>\n      <td>...</td>\n      <td>...</td>\n      <td>...</td>\n      <td>...</td>\n      <td>...</td>\n      <td>...</td>\n      <td>...</td>\n      <td>...</td>\n      <td>...</td>\n    </tr>\n    <tr>\n      <th>161067</th>\n      <td>338.0</td>\n      <td>T1</td>\n      <td>2023-06-07</td>\n      <td>Fenerbahce</td>\n      <td>Gaziantep</td>\n      <td>NaN</td>\n      <td>NaN</td>\n      <td>0</td>\n      <td>NaN</td>\n      <td>NaN</td>\n      <td>...</td>\n      <td>NaN</td>\n      <td>NaN</td>\n      <td>NaN</td>\n      <td>NaN</td>\n      <td>Fenerbahce_Gaziantep</td>\n      <td>NaN</td>\n      <td>NaN</td>\n      <td>0</td>\n      <td>0</td>\n      <td>0</td>\n    </tr>\n    <tr>\n      <th>161068</th>\n      <td>339.0</td>\n      <td>T1</td>\n      <td>2023-06-07</td>\n      <td>Giresunspor</td>\n      <td>Antalyaspor</td>\n      <td>NaN</td>\n      <td>NaN</td>\n      <td>0</td>\n      <td>NaN</td>\n      <td>NaN</td>\n      <td>...</td>\n      <td>H</td>\n      <td>0.007000</td>\n      <td>0.001707</td>\n      <td>0.034150</td>\n      <td>Antalyaspor_Giresunspor</td>\n      <td>NaN</td>\n      <td>NaN</td>\n      <td>0</td>\n      <td>0</td>\n      <td>0</td>\n    </tr>\n    <tr>\n      <th>161069</th>\n      <td>340.0</td>\n      <td>T1</td>\n      <td>2023-06-07</td>\n      <td>Hatayspor</td>\n      <td>Galatasaray</td>\n      <td>NaN</td>\n      <td>NaN</td>\n      <td>0</td>\n      <td>NaN</td>\n      <td>NaN</td>\n      <td>...</td>\n      <td>NaN</td>\n      <td>NaN</td>\n      <td>NaN</td>\n      <td>NaN</td>\n      <td>Galatasaray_Hatayspor</td>\n      <td>NaN</td>\n      <td>NaN</td>\n      <td>0</td>\n      <td>0</td>\n      <td>0</td>\n    </tr>\n    <tr>\n      <th>161070</th>\n      <td>341.0</td>\n      <td>T1</td>\n      <td>2023-06-07</td>\n      <td>Istanbulspor</td>\n      <td>Umraniyespor</td>\n      <td>NaN</td>\n      <td>NaN</td>\n      <td>0</td>\n      <td>NaN</td>\n      <td>NaN</td>\n      <td>...</td>\n      <td>H</td>\n      <td>0.064150</td>\n      <td>0.000680</td>\n      <td>0.032817</td>\n      <td>Istanbulspor_Umraniyespor</td>\n      <td>NaN</td>\n      <td>NaN</td>\n      <td>0</td>\n      <td>0</td>\n      <td>0</td>\n    </tr>\n    <tr>\n      <th>161071</th>\n      <td>NaN</td>\n      <td>NaN</td>\n      <td>NaT</td>\n      <td>NaN</td>\n      <td>NaN</td>\n      <td>NaN</td>\n      <td>NaN</td>\n      <td>NaN</td>\n      <td>NaN</td>\n      <td>NaN</td>\n      <td>...</td>\n      <td>NaN</td>\n      <td>NaN</td>\n      <td>NaN</td>\n      <td>NaN</td>\n      <td>NaN</td>\n      <td>NaN</td>\n      <td>NaN</td>\n      <td>0</td>\n      <td>0</td>\n      <td>0</td>\n    </tr>\n  </tbody>\n</table>\n<p>161072 rows × 180 columns</p>\n</div>"
     },
     "execution_count": 136,
     "metadata": {},
     "output_type": "execute_result"
    }
   ],
   "source": [
    "df.drop([\"SameHomeTeam\", \"LastMatchIndex\", \"Index\"], axis=1)"
   ],
   "metadata": {
    "collapsed": false,
    "ExecuteTime": {
     "end_time": "2024-01-04T17:42:41.735409100Z",
     "start_time": "2024-01-04T17:42:41.573885600Z"
    }
   },
   "id": "e6a2ee9ee9a08c40"
  },
  {
   "cell_type": "code",
   "execution_count": 137,
   "outputs": [
    {
     "data": {
      "text/plain": "             Date  FTHG  FTAG  LastMatchHomeGoals  LastMatchAwayGoals  \\\n5961   2001-05-08   2.0   2.0                 NaN                 NaN   \n6402   2001-12-16   4.0   0.0                 2.0                 2.0   \n6451   2002-03-24   1.0   0.0                 4.0                 0.0   \n6714   2003-05-11   2.0   1.0                 1.0                 0.0   \n6769   2002-10-06   1.0   0.0                 1.0                 0.0   \n7124   2003-08-17   1.0   2.0                 2.0                 1.0   \n7213   2004-01-07   0.0   1.0                 1.0                 2.0   \n7476   2004-10-03   1.0   0.0                 0.0                 1.0   \n7557   2005-01-01   0.0   1.0                 1.0                 0.0   \n7709   2006-02-05   2.0   0.0                 1.0                 4.0   \n7721   2005-10-02   1.0   4.0                 0.0                 1.0   \n8081   2007-01-20   2.0   0.0                 1.0                 0.0   \n8106   2006-09-17   1.0   0.0                 2.0                 0.0   \n8566   2008-02-10   0.0   0.0                 1.0                 1.0   \n8580   2007-08-19   1.0   1.0                 2.0                 0.0   \n8866   2009-02-01   2.0   0.0                 0.0                 1.0   \n9007   2008-10-26   0.0   1.0                 0.0                 0.0   \n9343   2009-10-04   2.0   0.0                 2.0                 0.0   \n9418   2010-05-02   0.0   2.0                 2.0                 0.0   \n9543   2011-02-06   0.0   1.0                 2.0                 0.0   \n9670   2010-11-07   2.0   0.0                 0.0                 2.0   \n10058  2011-11-20   1.0   2.0                 0.0                 1.0   \n10106  2012-05-08   4.0   1.0                 1.0                 2.0   \n10263  2013-04-21   2.0   2.0                 4.0                 1.0   \n10605  2013-12-29   2.0   1.0                 2.0                 2.0   \n10817  2014-04-27   0.0   2.0                 2.0                 1.0   \n11019  2014-11-08   1.0   2.0                 0.0                 2.0   \n11071  2015-05-10   1.0   1.0                 1.0                 2.0   \n11554  2015-10-31   1.0   3.0                 1.0                 1.0   \n11654  2016-05-11   1.0   1.0                 1.0                 3.0   \n11832  2017-01-31   1.0   1.0                 1.0                 2.0   \n12008  2016-09-16   1.0   2.0                 1.0                 1.0   \n12206  2017-11-25   1.0   1.0                 1.0                 1.0   \n12448  2018-05-06   1.0   0.0                 1.0                 1.0   \n12553  2019-04-14   2.0   0.0                 1.0                 1.0   \n12677  2018-09-29   1.0   1.0                 1.0                 0.0   \n13019  2019-09-22   1.0   2.0                 2.0                 0.0   \n13069  2020-07-22   5.0   3.0                 1.0                 2.0   \n13521  2021-03-04   0.0   1.0                 0.0                 2.0   \n13545  2020-09-20   0.0   2.0                 5.0                 3.0   \n13615  2022-01-02   2.0   2.0                 1.0                 1.0   \n13857  2021-08-28   1.0   1.0                 0.0                 1.0   \n154289 2023-01-21   NaN   NaN                 2.0                 2.0   \n154383 2023-04-04   NaN   NaN                 NaN                 NaN   \n\n        LastMatchHomeWin  LastMatchAwayWin  LastMatchDraw  \n5961                   0                 0              0  \n6402                   0                 0              1  \n6451                   1                 0              0  \n6714                   1                 0              0  \n6769                   1                 0              0  \n7124                   1                 0              0  \n7213                   0                 1              0  \n7476                   0                 1              0  \n7557                   1                 0              0  \n7709                   0                 1              0  \n7721                   0                 1              0  \n8081                   1                 0              0  \n8106                   1                 0              0  \n8566                   0                 0              1  \n8580                   1                 0              0  \n8866                   0                 1              0  \n9007                   0                 0              1  \n9343                   1                 0              0  \n9418                   1                 0              0  \n9543                   1                 0              0  \n9670                   0                 1              0  \n10058                  0                 1              0  \n10106                  0                 1              0  \n10263                  1                 0              0  \n10605                  0                 0              1  \n10817                  1                 0              0  \n11019                  0                 1              0  \n11071                  0                 1              0  \n11554                  0                 0              1  \n11654                  0                 1              0  \n11832                  0                 1              0  \n12008                  0                 0              1  \n12206                  0                 0              1  \n12448                  0                 0              1  \n12553                  0                 0              1  \n12677                  1                 0              0  \n13019                  1                 0              0  \n13069                  0                 1              0  \n13521                  0                 1              0  \n13545                  1                 0              0  \n13615                  0                 0              1  \n13857                  0                 1              0  \n154289                 0                 0              1  \n154383                 0                 0              0  ",
      "text/html": "<div>\n<style scoped>\n    .dataframe tbody tr th:only-of-type {\n        vertical-align: middle;\n    }\n\n    .dataframe tbody tr th {\n        vertical-align: top;\n    }\n\n    .dataframe thead th {\n        text-align: right;\n    }\n</style>\n<table border=\"1\" class=\"dataframe\">\n  <thead>\n    <tr style=\"text-align: right;\">\n      <th></th>\n      <th>Date</th>\n      <th>FTHG</th>\n      <th>FTAG</th>\n      <th>LastMatchHomeGoals</th>\n      <th>LastMatchAwayGoals</th>\n      <th>LastMatchHomeWin</th>\n      <th>LastMatchAwayWin</th>\n      <th>LastMatchDraw</th>\n    </tr>\n  </thead>\n  <tbody>\n    <tr>\n      <th>5961</th>\n      <td>2001-05-08</td>\n      <td>2.0</td>\n      <td>2.0</td>\n      <td>NaN</td>\n      <td>NaN</td>\n      <td>0</td>\n      <td>0</td>\n      <td>0</td>\n    </tr>\n    <tr>\n      <th>6402</th>\n      <td>2001-12-16</td>\n      <td>4.0</td>\n      <td>0.0</td>\n      <td>2.0</td>\n      <td>2.0</td>\n      <td>0</td>\n      <td>0</td>\n      <td>1</td>\n    </tr>\n    <tr>\n      <th>6451</th>\n      <td>2002-03-24</td>\n      <td>1.0</td>\n      <td>0.0</td>\n      <td>4.0</td>\n      <td>0.0</td>\n      <td>1</td>\n      <td>0</td>\n      <td>0</td>\n    </tr>\n    <tr>\n      <th>6714</th>\n      <td>2003-05-11</td>\n      <td>2.0</td>\n      <td>1.0</td>\n      <td>1.0</td>\n      <td>0.0</td>\n      <td>1</td>\n      <td>0</td>\n      <td>0</td>\n    </tr>\n    <tr>\n      <th>6769</th>\n      <td>2002-10-06</td>\n      <td>1.0</td>\n      <td>0.0</td>\n      <td>1.0</td>\n      <td>0.0</td>\n      <td>1</td>\n      <td>0</td>\n      <td>0</td>\n    </tr>\n    <tr>\n      <th>7124</th>\n      <td>2003-08-17</td>\n      <td>1.0</td>\n      <td>2.0</td>\n      <td>2.0</td>\n      <td>1.0</td>\n      <td>1</td>\n      <td>0</td>\n      <td>0</td>\n    </tr>\n    <tr>\n      <th>7213</th>\n      <td>2004-01-07</td>\n      <td>0.0</td>\n      <td>1.0</td>\n      <td>1.0</td>\n      <td>2.0</td>\n      <td>0</td>\n      <td>1</td>\n      <td>0</td>\n    </tr>\n    <tr>\n      <th>7476</th>\n      <td>2004-10-03</td>\n      <td>1.0</td>\n      <td>0.0</td>\n      <td>0.0</td>\n      <td>1.0</td>\n      <td>0</td>\n      <td>1</td>\n      <td>0</td>\n    </tr>\n    <tr>\n      <th>7557</th>\n      <td>2005-01-01</td>\n      <td>0.0</td>\n      <td>1.0</td>\n      <td>1.0</td>\n      <td>0.0</td>\n      <td>1</td>\n      <td>0</td>\n      <td>0</td>\n    </tr>\n    <tr>\n      <th>7709</th>\n      <td>2006-02-05</td>\n      <td>2.0</td>\n      <td>0.0</td>\n      <td>1.0</td>\n      <td>4.0</td>\n      <td>0</td>\n      <td>1</td>\n      <td>0</td>\n    </tr>\n    <tr>\n      <th>7721</th>\n      <td>2005-10-02</td>\n      <td>1.0</td>\n      <td>4.0</td>\n      <td>0.0</td>\n      <td>1.0</td>\n      <td>0</td>\n      <td>1</td>\n      <td>0</td>\n    </tr>\n    <tr>\n      <th>8081</th>\n      <td>2007-01-20</td>\n      <td>2.0</td>\n      <td>0.0</td>\n      <td>1.0</td>\n      <td>0.0</td>\n      <td>1</td>\n      <td>0</td>\n      <td>0</td>\n    </tr>\n    <tr>\n      <th>8106</th>\n      <td>2006-09-17</td>\n      <td>1.0</td>\n      <td>0.0</td>\n      <td>2.0</td>\n      <td>0.0</td>\n      <td>1</td>\n      <td>0</td>\n      <td>0</td>\n    </tr>\n    <tr>\n      <th>8566</th>\n      <td>2008-02-10</td>\n      <td>0.0</td>\n      <td>0.0</td>\n      <td>1.0</td>\n      <td>1.0</td>\n      <td>0</td>\n      <td>0</td>\n      <td>1</td>\n    </tr>\n    <tr>\n      <th>8580</th>\n      <td>2007-08-19</td>\n      <td>1.0</td>\n      <td>1.0</td>\n      <td>2.0</td>\n      <td>0.0</td>\n      <td>1</td>\n      <td>0</td>\n      <td>0</td>\n    </tr>\n    <tr>\n      <th>8866</th>\n      <td>2009-02-01</td>\n      <td>2.0</td>\n      <td>0.0</td>\n      <td>0.0</td>\n      <td>1.0</td>\n      <td>0</td>\n      <td>1</td>\n      <td>0</td>\n    </tr>\n    <tr>\n      <th>9007</th>\n      <td>2008-10-26</td>\n      <td>0.0</td>\n      <td>1.0</td>\n      <td>0.0</td>\n      <td>0.0</td>\n      <td>0</td>\n      <td>0</td>\n      <td>1</td>\n    </tr>\n    <tr>\n      <th>9343</th>\n      <td>2009-10-04</td>\n      <td>2.0</td>\n      <td>0.0</td>\n      <td>2.0</td>\n      <td>0.0</td>\n      <td>1</td>\n      <td>0</td>\n      <td>0</td>\n    </tr>\n    <tr>\n      <th>9418</th>\n      <td>2010-05-02</td>\n      <td>0.0</td>\n      <td>2.0</td>\n      <td>2.0</td>\n      <td>0.0</td>\n      <td>1</td>\n      <td>0</td>\n      <td>0</td>\n    </tr>\n    <tr>\n      <th>9543</th>\n      <td>2011-02-06</td>\n      <td>0.0</td>\n      <td>1.0</td>\n      <td>2.0</td>\n      <td>0.0</td>\n      <td>1</td>\n      <td>0</td>\n      <td>0</td>\n    </tr>\n    <tr>\n      <th>9670</th>\n      <td>2010-11-07</td>\n      <td>2.0</td>\n      <td>0.0</td>\n      <td>0.0</td>\n      <td>2.0</td>\n      <td>0</td>\n      <td>1</td>\n      <td>0</td>\n    </tr>\n    <tr>\n      <th>10058</th>\n      <td>2011-11-20</td>\n      <td>1.0</td>\n      <td>2.0</td>\n      <td>0.0</td>\n      <td>1.0</td>\n      <td>0</td>\n      <td>1</td>\n      <td>0</td>\n    </tr>\n    <tr>\n      <th>10106</th>\n      <td>2012-05-08</td>\n      <td>4.0</td>\n      <td>1.0</td>\n      <td>1.0</td>\n      <td>2.0</td>\n      <td>0</td>\n      <td>1</td>\n      <td>0</td>\n    </tr>\n    <tr>\n      <th>10263</th>\n      <td>2013-04-21</td>\n      <td>2.0</td>\n      <td>2.0</td>\n      <td>4.0</td>\n      <td>1.0</td>\n      <td>1</td>\n      <td>0</td>\n      <td>0</td>\n    </tr>\n    <tr>\n      <th>10605</th>\n      <td>2013-12-29</td>\n      <td>2.0</td>\n      <td>1.0</td>\n      <td>2.0</td>\n      <td>2.0</td>\n      <td>0</td>\n      <td>0</td>\n      <td>1</td>\n    </tr>\n    <tr>\n      <th>10817</th>\n      <td>2014-04-27</td>\n      <td>0.0</td>\n      <td>2.0</td>\n      <td>2.0</td>\n      <td>1.0</td>\n      <td>1</td>\n      <td>0</td>\n      <td>0</td>\n    </tr>\n    <tr>\n      <th>11019</th>\n      <td>2014-11-08</td>\n      <td>1.0</td>\n      <td>2.0</td>\n      <td>0.0</td>\n      <td>2.0</td>\n      <td>0</td>\n      <td>1</td>\n      <td>0</td>\n    </tr>\n    <tr>\n      <th>11071</th>\n      <td>2015-05-10</td>\n      <td>1.0</td>\n      <td>1.0</td>\n      <td>1.0</td>\n      <td>2.0</td>\n      <td>0</td>\n      <td>1</td>\n      <td>0</td>\n    </tr>\n    <tr>\n      <th>11554</th>\n      <td>2015-10-31</td>\n      <td>1.0</td>\n      <td>3.0</td>\n      <td>1.0</td>\n      <td>1.0</td>\n      <td>0</td>\n      <td>0</td>\n      <td>1</td>\n    </tr>\n    <tr>\n      <th>11654</th>\n      <td>2016-05-11</td>\n      <td>1.0</td>\n      <td>1.0</td>\n      <td>1.0</td>\n      <td>3.0</td>\n      <td>0</td>\n      <td>1</td>\n      <td>0</td>\n    </tr>\n    <tr>\n      <th>11832</th>\n      <td>2017-01-31</td>\n      <td>1.0</td>\n      <td>1.0</td>\n      <td>1.0</td>\n      <td>2.0</td>\n      <td>0</td>\n      <td>1</td>\n      <td>0</td>\n    </tr>\n    <tr>\n      <th>12008</th>\n      <td>2016-09-16</td>\n      <td>1.0</td>\n      <td>2.0</td>\n      <td>1.0</td>\n      <td>1.0</td>\n      <td>0</td>\n      <td>0</td>\n      <td>1</td>\n    </tr>\n    <tr>\n      <th>12206</th>\n      <td>2017-11-25</td>\n      <td>1.0</td>\n      <td>1.0</td>\n      <td>1.0</td>\n      <td>1.0</td>\n      <td>0</td>\n      <td>0</td>\n      <td>1</td>\n    </tr>\n    <tr>\n      <th>12448</th>\n      <td>2018-05-06</td>\n      <td>1.0</td>\n      <td>0.0</td>\n      <td>1.0</td>\n      <td>1.0</td>\n      <td>0</td>\n      <td>0</td>\n      <td>1</td>\n    </tr>\n    <tr>\n      <th>12553</th>\n      <td>2019-04-14</td>\n      <td>2.0</td>\n      <td>0.0</td>\n      <td>1.0</td>\n      <td>1.0</td>\n      <td>0</td>\n      <td>0</td>\n      <td>1</td>\n    </tr>\n    <tr>\n      <th>12677</th>\n      <td>2018-09-29</td>\n      <td>1.0</td>\n      <td>1.0</td>\n      <td>1.0</td>\n      <td>0.0</td>\n      <td>1</td>\n      <td>0</td>\n      <td>0</td>\n    </tr>\n    <tr>\n      <th>13019</th>\n      <td>2019-09-22</td>\n      <td>1.0</td>\n      <td>2.0</td>\n      <td>2.0</td>\n      <td>0.0</td>\n      <td>1</td>\n      <td>0</td>\n      <td>0</td>\n    </tr>\n    <tr>\n      <th>13069</th>\n      <td>2020-07-22</td>\n      <td>5.0</td>\n      <td>3.0</td>\n      <td>1.0</td>\n      <td>2.0</td>\n      <td>0</td>\n      <td>1</td>\n      <td>0</td>\n    </tr>\n    <tr>\n      <th>13521</th>\n      <td>2021-03-04</td>\n      <td>0.0</td>\n      <td>1.0</td>\n      <td>0.0</td>\n      <td>2.0</td>\n      <td>0</td>\n      <td>1</td>\n      <td>0</td>\n    </tr>\n    <tr>\n      <th>13545</th>\n      <td>2020-09-20</td>\n      <td>0.0</td>\n      <td>2.0</td>\n      <td>5.0</td>\n      <td>3.0</td>\n      <td>1</td>\n      <td>0</td>\n      <td>0</td>\n    </tr>\n    <tr>\n      <th>13615</th>\n      <td>2022-01-02</td>\n      <td>2.0</td>\n      <td>2.0</td>\n      <td>1.0</td>\n      <td>1.0</td>\n      <td>0</td>\n      <td>0</td>\n      <td>1</td>\n    </tr>\n    <tr>\n      <th>13857</th>\n      <td>2021-08-28</td>\n      <td>1.0</td>\n      <td>1.0</td>\n      <td>0.0</td>\n      <td>1.0</td>\n      <td>0</td>\n      <td>1</td>\n      <td>0</td>\n    </tr>\n    <tr>\n      <th>154289</th>\n      <td>2023-01-21</td>\n      <td>NaN</td>\n      <td>NaN</td>\n      <td>2.0</td>\n      <td>2.0</td>\n      <td>0</td>\n      <td>0</td>\n      <td>1</td>\n    </tr>\n    <tr>\n      <th>154383</th>\n      <td>2023-04-04</td>\n      <td>NaN</td>\n      <td>NaN</td>\n      <td>NaN</td>\n      <td>NaN</td>\n      <td>0</td>\n      <td>0</td>\n      <td>0</td>\n    </tr>\n  </tbody>\n</table>\n</div>"
     },
     "execution_count": 137,
     "metadata": {},
     "output_type": "execute_result"
    }
   ],
   "source": [
    "df[df[\"MatchTeams\"] == \"Chelsea_Liverpool\"][[\"Date\",\"FTHG\", \"FTAG\", \"LastMatchHomeGoals\", \"LastMatchAwayGoals\", \"LastMatchHomeWin\",\"LastMatchAwayWin\", \"LastMatchDraw\"]]"
   ],
   "metadata": {
    "collapsed": false,
    "ExecuteTime": {
     "end_time": "2024-01-04T17:42:41.822947600Z",
     "start_time": "2024-01-04T17:42:41.729901600Z"
    }
   },
   "id": "168be5a9ad3d3f17"
  },
  {
   "cell_type": "markdown",
   "source": [
    "### Split data back to individual files based on countries"
   ],
   "metadata": {
    "collapsed": false
   },
   "id": "9e239b0a6d8d1eca"
  },
  {
   "cell_type": "code",
   "execution_count": 138,
   "outputs": [
    {
     "data": {
      "text/plain": "        Unnamed: 0 Div       Date      HomeTeam             AwayTeam  FTHG  \\\n153794         0.0  B1 2022-07-22      Standard                 Gent   NaN   \n153795         1.0  B1 2022-07-23     Charleroi                Eupen   NaN   \n153796         2.0  B1 2022-07-23      Kortrijk  Oud-Heverlee Leuven   NaN   \n153797         3.0  B1 2022-07-23       Waregem              Seraing   NaN   \n153798         4.0  B1 2022-07-23    St Truiden         St. Gilloise   NaN   \n...            ...  ..        ...           ...                  ...   ...   \n161066       337.0  T1 2023-06-07      Besiktas            Konyaspor   NaN   \n161067       338.0  T1 2023-06-07    Fenerbahce            Gaziantep   NaN   \n161068       339.0  T1 2023-06-07   Giresunspor          Antalyaspor   NaN   \n161069       340.0  T1 2023-06-07     Hatayspor          Galatasaray   NaN   \n161070       341.0  T1 2023-06-07  Istanbulspor         Umraniyespor   NaN   \n\n        FTAG FTR  HTHG  HTAG  ... Var_draw_odds     Index  \\\n153794   NaN   0   NaN   NaN  ...      0.009800  153794.0   \n153795   NaN   0   NaN   NaN  ...      0.061667  153795.0   \n153796   NaN   0   NaN   NaN  ...      0.022417  153796.0   \n153797   NaN   0   NaN   NaN  ...      0.022017  153797.0   \n153798   NaN   0   NaN   NaN  ...      0.020017  153798.0   \n...      ...  ..   ...   ...  ...           ...       ...   \n161066   NaN   0   NaN   NaN  ...      0.147067  161066.0   \n161067   NaN   0   NaN   NaN  ...           NaN  161067.0   \n161068   NaN   0   NaN   NaN  ...      0.034150  161068.0   \n161069   NaN   0   NaN   NaN  ...           NaN  161069.0   \n161070   NaN   0   NaN   NaN  ...      0.032817  161070.0   \n\n                          MatchTeams  LastMatchIndex  LastMatchAwayGoals  \\\n153794                 Gent_Standard          5528.0                 1.0   \n153795               Charleroi_Eupen          5764.0                 4.0   \n153796  Kortrijk_Oud-Heverlee Leuven          5745.0                 1.0   \n153797               Seraing_Waregem          5693.0                 0.0   \n153798       St Truiden_St. Gilloise          5613.0                 1.0   \n...                              ...             ...                 ...   \n161066            Besiktas_Konyaspor        160894.0                 NaN   \n161067          Fenerbahce_Gaziantep        160898.0                 NaN   \n161068       Antalyaspor_Giresunspor        160892.0                 NaN   \n161069         Galatasaray_Hatayspor        160891.0                 NaN   \n161070     Istanbulspor_Umraniyespor        160896.0                 NaN   \n\n        LastMatchHomeGoals  SameHomeTeam  LastMatchAwayWin  LastMatchHomeWin  \\\n153794                 0.0          True                 1                 0   \n153795                 0.0         False                 1                 0   \n153796                 2.0          True                 0                 1   \n153797                 1.0          True                 0                 1   \n153798                 0.0         False                 1                 0   \n...                    ...           ...               ...               ...   \n161066                 NaN         False                 0                 0   \n161067                 NaN         False                 0                 0   \n161068                 NaN         False                 0                 0   \n161069                 NaN         False                 0                 0   \n161070                 NaN         False                 0                 0   \n\n        LastMatchDraw  \n153794              0  \n153795              0  \n153796              0  \n153797              0  \n153798              0  \n...               ...  \n161066              0  \n161067              0  \n161068              0  \n161069              0  \n161070              0  \n\n[7277 rows x 183 columns]",
      "text/html": "<div>\n<style scoped>\n    .dataframe tbody tr th:only-of-type {\n        vertical-align: middle;\n    }\n\n    .dataframe tbody tr th {\n        vertical-align: top;\n    }\n\n    .dataframe thead th {\n        text-align: right;\n    }\n</style>\n<table border=\"1\" class=\"dataframe\">\n  <thead>\n    <tr style=\"text-align: right;\">\n      <th></th>\n      <th>Unnamed: 0</th>\n      <th>Div</th>\n      <th>Date</th>\n      <th>HomeTeam</th>\n      <th>AwayTeam</th>\n      <th>FTHG</th>\n      <th>FTAG</th>\n      <th>FTR</th>\n      <th>HTHG</th>\n      <th>HTAG</th>\n      <th>...</th>\n      <th>Var_draw_odds</th>\n      <th>Index</th>\n      <th>MatchTeams</th>\n      <th>LastMatchIndex</th>\n      <th>LastMatchAwayGoals</th>\n      <th>LastMatchHomeGoals</th>\n      <th>SameHomeTeam</th>\n      <th>LastMatchAwayWin</th>\n      <th>LastMatchHomeWin</th>\n      <th>LastMatchDraw</th>\n    </tr>\n  </thead>\n  <tbody>\n    <tr>\n      <th>153794</th>\n      <td>0.0</td>\n      <td>B1</td>\n      <td>2022-07-22</td>\n      <td>Standard</td>\n      <td>Gent</td>\n      <td>NaN</td>\n      <td>NaN</td>\n      <td>0</td>\n      <td>NaN</td>\n      <td>NaN</td>\n      <td>...</td>\n      <td>0.009800</td>\n      <td>153794.0</td>\n      <td>Gent_Standard</td>\n      <td>5528.0</td>\n      <td>1.0</td>\n      <td>0.0</td>\n      <td>True</td>\n      <td>1</td>\n      <td>0</td>\n      <td>0</td>\n    </tr>\n    <tr>\n      <th>153795</th>\n      <td>1.0</td>\n      <td>B1</td>\n      <td>2022-07-23</td>\n      <td>Charleroi</td>\n      <td>Eupen</td>\n      <td>NaN</td>\n      <td>NaN</td>\n      <td>0</td>\n      <td>NaN</td>\n      <td>NaN</td>\n      <td>...</td>\n      <td>0.061667</td>\n      <td>153795.0</td>\n      <td>Charleroi_Eupen</td>\n      <td>5764.0</td>\n      <td>4.0</td>\n      <td>0.0</td>\n      <td>False</td>\n      <td>1</td>\n      <td>0</td>\n      <td>0</td>\n    </tr>\n    <tr>\n      <th>153796</th>\n      <td>2.0</td>\n      <td>B1</td>\n      <td>2022-07-23</td>\n      <td>Kortrijk</td>\n      <td>Oud-Heverlee Leuven</td>\n      <td>NaN</td>\n      <td>NaN</td>\n      <td>0</td>\n      <td>NaN</td>\n      <td>NaN</td>\n      <td>...</td>\n      <td>0.022417</td>\n      <td>153796.0</td>\n      <td>Kortrijk_Oud-Heverlee Leuven</td>\n      <td>5745.0</td>\n      <td>1.0</td>\n      <td>2.0</td>\n      <td>True</td>\n      <td>0</td>\n      <td>1</td>\n      <td>0</td>\n    </tr>\n    <tr>\n      <th>153797</th>\n      <td>3.0</td>\n      <td>B1</td>\n      <td>2022-07-23</td>\n      <td>Waregem</td>\n      <td>Seraing</td>\n      <td>NaN</td>\n      <td>NaN</td>\n      <td>0</td>\n      <td>NaN</td>\n      <td>NaN</td>\n      <td>...</td>\n      <td>0.022017</td>\n      <td>153797.0</td>\n      <td>Seraing_Waregem</td>\n      <td>5693.0</td>\n      <td>0.0</td>\n      <td>1.0</td>\n      <td>True</td>\n      <td>0</td>\n      <td>1</td>\n      <td>0</td>\n    </tr>\n    <tr>\n      <th>153798</th>\n      <td>4.0</td>\n      <td>B1</td>\n      <td>2022-07-23</td>\n      <td>St Truiden</td>\n      <td>St. Gilloise</td>\n      <td>NaN</td>\n      <td>NaN</td>\n      <td>0</td>\n      <td>NaN</td>\n      <td>NaN</td>\n      <td>...</td>\n      <td>0.020017</td>\n      <td>153798.0</td>\n      <td>St Truiden_St. Gilloise</td>\n      <td>5613.0</td>\n      <td>1.0</td>\n      <td>0.0</td>\n      <td>False</td>\n      <td>1</td>\n      <td>0</td>\n      <td>0</td>\n    </tr>\n    <tr>\n      <th>...</th>\n      <td>...</td>\n      <td>...</td>\n      <td>...</td>\n      <td>...</td>\n      <td>...</td>\n      <td>...</td>\n      <td>...</td>\n      <td>...</td>\n      <td>...</td>\n      <td>...</td>\n      <td>...</td>\n      <td>...</td>\n      <td>...</td>\n      <td>...</td>\n      <td>...</td>\n      <td>...</td>\n      <td>...</td>\n      <td>...</td>\n      <td>...</td>\n      <td>...</td>\n      <td>...</td>\n    </tr>\n    <tr>\n      <th>161066</th>\n      <td>337.0</td>\n      <td>T1</td>\n      <td>2023-06-07</td>\n      <td>Besiktas</td>\n      <td>Konyaspor</td>\n      <td>NaN</td>\n      <td>NaN</td>\n      <td>0</td>\n      <td>NaN</td>\n      <td>NaN</td>\n      <td>...</td>\n      <td>0.147067</td>\n      <td>161066.0</td>\n      <td>Besiktas_Konyaspor</td>\n      <td>160894.0</td>\n      <td>NaN</td>\n      <td>NaN</td>\n      <td>False</td>\n      <td>0</td>\n      <td>0</td>\n      <td>0</td>\n    </tr>\n    <tr>\n      <th>161067</th>\n      <td>338.0</td>\n      <td>T1</td>\n      <td>2023-06-07</td>\n      <td>Fenerbahce</td>\n      <td>Gaziantep</td>\n      <td>NaN</td>\n      <td>NaN</td>\n      <td>0</td>\n      <td>NaN</td>\n      <td>NaN</td>\n      <td>...</td>\n      <td>NaN</td>\n      <td>161067.0</td>\n      <td>Fenerbahce_Gaziantep</td>\n      <td>160898.0</td>\n      <td>NaN</td>\n      <td>NaN</td>\n      <td>False</td>\n      <td>0</td>\n      <td>0</td>\n      <td>0</td>\n    </tr>\n    <tr>\n      <th>161068</th>\n      <td>339.0</td>\n      <td>T1</td>\n      <td>2023-06-07</td>\n      <td>Giresunspor</td>\n      <td>Antalyaspor</td>\n      <td>NaN</td>\n      <td>NaN</td>\n      <td>0</td>\n      <td>NaN</td>\n      <td>NaN</td>\n      <td>...</td>\n      <td>0.034150</td>\n      <td>161068.0</td>\n      <td>Antalyaspor_Giresunspor</td>\n      <td>160892.0</td>\n      <td>NaN</td>\n      <td>NaN</td>\n      <td>False</td>\n      <td>0</td>\n      <td>0</td>\n      <td>0</td>\n    </tr>\n    <tr>\n      <th>161069</th>\n      <td>340.0</td>\n      <td>T1</td>\n      <td>2023-06-07</td>\n      <td>Hatayspor</td>\n      <td>Galatasaray</td>\n      <td>NaN</td>\n      <td>NaN</td>\n      <td>0</td>\n      <td>NaN</td>\n      <td>NaN</td>\n      <td>...</td>\n      <td>NaN</td>\n      <td>161069.0</td>\n      <td>Galatasaray_Hatayspor</td>\n      <td>160891.0</td>\n      <td>NaN</td>\n      <td>NaN</td>\n      <td>False</td>\n      <td>0</td>\n      <td>0</td>\n      <td>0</td>\n    </tr>\n    <tr>\n      <th>161070</th>\n      <td>341.0</td>\n      <td>T1</td>\n      <td>2023-06-07</td>\n      <td>Istanbulspor</td>\n      <td>Umraniyespor</td>\n      <td>NaN</td>\n      <td>NaN</td>\n      <td>0</td>\n      <td>NaN</td>\n      <td>NaN</td>\n      <td>...</td>\n      <td>0.032817</td>\n      <td>161070.0</td>\n      <td>Istanbulspor_Umraniyespor</td>\n      <td>160896.0</td>\n      <td>NaN</td>\n      <td>NaN</td>\n      <td>False</td>\n      <td>0</td>\n      <td>0</td>\n      <td>0</td>\n    </tr>\n  </tbody>\n</table>\n<p>7277 rows × 183 columns</p>\n</div>"
     },
     "execution_count": 138,
     "metadata": {},
     "output_type": "execute_result"
    }
   ],
   "source": [
    "df[df[\"season\"] == 22]"
   ],
   "metadata": {
    "collapsed": false,
    "ExecuteTime": {
     "end_time": "2024-01-04T17:42:41.848087200Z",
     "start_time": "2024-01-04T17:42:41.761449900Z"
    }
   },
   "id": "1a241c05253f729f"
  },
  {
   "cell_type": "code",
   "execution_count": 139,
   "outputs": [],
   "source": [
    "dfs = {}\n",
    "land_list = df[\"country\"].unique()[:-1]\n",
    "for country in land_list:\n",
    "    dfs[f\"df_{country}\"] = df[df[\"country\"] == country]\n",
    "    dfs[f\"df_{country}\"].dropna(axis=1, inplace=True, how=\"all\")"
   ],
   "metadata": {
    "collapsed": false,
    "ExecuteTime": {
     "end_time": "2024-01-04T17:42:42.214010Z",
     "start_time": "2024-01-04T17:42:41.810061300Z"
    }
   },
   "id": "63787fad7908ab98"
  },
  {
   "cell_type": "markdown",
   "source": [
    "### Create dummies from teams"
   ],
   "metadata": {
    "collapsed": false
   },
   "id": "198eebfa6e9fe703"
  },
  {
   "cell_type": "code",
   "execution_count": 140,
   "outputs": [],
   "source": [
    "for country in dfs:\n",
    "    tmp = dfs[country][[\"HomeTeam\", \"AwayTeam\"]]\n",
    "    dfs[country] = pd.get_dummies(dfs[country], columns=[\"HomeTeam\", \"AwayTeam\", \"Div\", \"league\"])\n",
    "    try:\n",
    "        dfs[country] = pd.get_dummies(dfs[country], columns=[\"Referee\"])\n",
    "    except KeyError:\n",
    "        pass\n",
    "    dfs[country] = pd.concat([dfs[country], tmp], axis=1)"
   ],
   "metadata": {
    "collapsed": false,
    "ExecuteTime": {
     "end_time": "2024-01-04T17:42:42.981096400Z",
     "start_time": "2024-01-04T17:42:42.202702400Z"
    }
   },
   "id": "f3997eb730fce392"
  },
  {
   "cell_type": "markdown",
   "source": [
    "# Feature Average amount of goals scored/received in the earlier matches\n",
    "\n",
    "HomeTeamAvgScored, AwayTeamAvgScored, HomeTeamAvgReceived, AwayTeamAvgReceived\n",
    "\n",
    "\n"
   ],
   "metadata": {
    "collapsed": false
   },
   "id": "9d636c3c0b0d75b2"
  },
  {
   "cell_type": "code",
   "execution_count": 141,
   "outputs": [],
   "source": [
    "# ty prumery mozna nesedi (koukala jsem na sezonu 22, ale mozna jsem koukala spatne) - PLS CHECK\n",
    "def get_avg_team(df):\n",
    "    lastmatch_home = pd.Series()\n",
    "    df_sub =  df[df[\"season\"] != 22]\n",
    "    lastmatch_home[\"HomeTeamAvgScored\"] = df_sub[\"HomeTeamAvgScored\"].dropna().mean()\n",
    "    lastmatch_home[\"AwayTeamAvgScored\"] = df_sub[\"AwayTeamAvgScored\"].dropna().mean()\n",
    "    lastmatch_home[\"HomeTeamAvgReceived\"] = df_sub[\"HomeTeamAvgReceived\"].dropna().mean()\n",
    "    lastmatch_home[\"AwayTeamAvgReceived\"] = df_sub[\"AwayTeamAvgReceived\"].dropna().mean()\n",
    "    lastmatch_home[\"HomeTeamAvgShotsOnTarget\"] = df_sub[\"HomeTeamAvgShotsOnTarget\"].dropna().mean()\n",
    "    lastmatch_home[\"AwayTeamAvgShotsOnTarget\"] = df_sub[\"AwayTeamAvgShotsOnTarget\"].dropna().mean()\n",
    "    lastmatch_home[\"HomeWinRatio\"] = df_sub[\"HomeWinRatio\"].dropna().mean()\n",
    "    lastmatch_home[\"HomeLossRatio\"] = df_sub[\"HomeLossRatio\"].dropna().mean()\n",
    "    lastmatch_home[\"HomeDrawRatio\"] = df_sub[\"HomeDrawRatio\"].dropna().mean()\n",
    "    lastmatch_home[\"AwayWinRatio\"] = df_sub[\"HomeWinRatio\"].dropna().mean()\n",
    "    lastmatch_home[\"AwayLossRatio\"] = df_sub[\"HomeLossRatio\"].dropna().mean()\n",
    "    lastmatch_home[\"AwayDrawRatio\"] = df_sub[\"HomeDrawRatio\"].dropna().mean()\n",
    "    return lastmatch_home\n",
    "\n",
    "def get_goals_stats(df):\n",
    "    df.sort_values(by=\"Date\", inplace=True)\n",
    "    df[\"HomeTeamAvgScored\"] = 0\n",
    "    df[\"AwayTeamAvgScored\"] = 0\n",
    "    df[\"HomeTeamAvgReceived\"] = 0\n",
    "    df[\"AwayTeamAvgReceived\"] = 0\n",
    "    \n",
    "    df[\"HomeWinRatio\"] = 0\n",
    "    df[\"HomeLossRatio\"] = 0\n",
    "    df[\"HomeDrawRatio\"] = 0\n",
    "    \n",
    "    df[\"AwayWinRatio\"] = 0\n",
    "    df[\"AwayLossRatio\"] = 0\n",
    "    df[\"AwayDrawRatio\"] = 0\n",
    "  \n",
    "    df[\"HomeTeamAvgShotsOnTarget\"] = 0\n",
    "    df[\"AwayTeamAvgShotsOnTarget\"] = 0\n",
    "   \n",
    "    home_wins = 0\n",
    "    home_losses = 0\n",
    "    home_draws = 0\n",
    "\n",
    "    away_wins = 0\n",
    "    away_losses = 0\n",
    "    away_draws = 0\n",
    "    \n",
    "    team_list = set.union(set(df[\"HomeTeam\"]), set(df[\"AwayTeam\"]))\n",
    "    team_list_received = [f\"{team}_received\" for team in team_list]\n",
    "    team_list_res = [f\"{team}_res\" for team in team_list]\n",
    "    team_list_shots = [f\"{team}_shots\" for team in team_list]\n",
    "\n",
    "    df = df.reindex(df.columns.tolist() + list(team_list) + list(team_list_received) + list(team_list_res) + list(team_list_shots),axis=1)\n",
    "    \n",
    "    nancount = 0\n",
    "    \n",
    "    df.reset_index(inplace=True)\n",
    "    for i, row in df.iterrows():\n",
    "        home = row[\"HomeTeam\"]\n",
    "        away = row[\"AwayTeam\"]\n",
    "\n",
    "        filtered_df = df[(df[\"MatchTeams\"] == row[\"MatchTeams\"]) & (df[\"season\"] != 22)]\n",
    "        if not filtered_df.empty and (np.isnan(row[\"LastMatchAwayGoals\"]) or np.isnan(row[\"LastMatchHomeGoals\"])):\n",
    "            # print(filtered_df[\"LastMatchAwayGoals\"].iloc[-1])\n",
    "            last_match_away_goals = filtered_df[\"LastMatchAwayGoals\"].iloc[-1]\n",
    "            last_match_home_goals = filtered_df[\"LastMatchHomeGoals\"].iloc[-1]\n",
    "\n",
    "            # print(f\"{last_match_away_goals = }, {last_match_home_goals = }\")\n",
    "            df.loc[i, \"LastMatchAwayGoals\"] = last_match_away_goals if row[\"SameHomeTeam\"] else last_match_home_goals\n",
    "            df.loc[i, \"LastMatchHomeGoals\"] = last_match_home_goals if row[\"SameHomeTeam\"] else last_match_away_goals\n",
    "            # print(f\"{df.loc[i, 'LastMatchAwayGoals'] = }\")\n",
    "            # df.loc[i, \"LastMatchAwayGoals\"] = df[(df[\"MatchTeams\"] == row[\"MatchTeams\"]) & (df[\"season\"] != 22)][\"LastMatchAwayGoals\"].iloc[-1] if row[\"SameHomeTeam\"] else df[(df[\"MatchTeams\"] == row[\"MatchTeams\"]) & (df[\"season\"] != 22)][\"LastMatchHomeGoals\"].iloc[-1]\n",
    "            # \n",
    "            # df.loc[i, \"LastMatchHomeGoals\"] = df[(df[\"MatchTeams\"] == row[\"MatchTeams\"]) & (df[\"season\"] != 22)][\"LastMatchHomeGoals\"].iloc[-1] if row[\"SameHomeTeam\"] else df[(df[\"MatchTeams\"] == row[\"MatchTeams\"]) & (df[\"season\"] != 22)][\"LastMatchAwayGoals\"].iloc[-1]\n",
    "        elif filtered_df.empty:\n",
    "            nancount += 1\n",
    "\n",
    "        ### Pokud testing data -> musime dat posledni dostupna data\n",
    "        if row[\"season\"] == 22:\n",
    "            # print(\"found season 22 :) in row \", i)\n",
    "            \n",
    "            \n",
    "            lastmatch = df[df[\"season\"] != 22] \n",
    "            try:\n",
    "                lastmatch_home = lastmatch[((df[\"HomeTeam\"] == home) | (lastmatch[\"AwayTeam\"] == home))].iloc[-1]\n",
    "                hometeam = \"Home\" if lastmatch_home[\"HomeTeam\"] == home else \"Away\"\n",
    "                \n",
    "            except IndexError:\n",
    "                lastmatch_home = get_avg_team(df)\n",
    "                hometeam = \"Home\"\n",
    "                \n",
    "            try:\n",
    "                lastmatch_away = lastmatch[((df[\"HomeTeam\"] == away) | (lastmatch[\"AwayTeam\"] == away))].iloc[-1]\n",
    "                awayteam = \"Away\" if lastmatch_away[\"AwayTeam\"] == away else \"Home\"\n",
    "                \n",
    "            except IndexError:\n",
    "                lastmatch_away = get_avg_team(df)\n",
    "                awayteam = \"Away\"            \n",
    "            \n",
    "            \n",
    "        \n",
    "            df.loc[i, \"HomeTeamAvgScored\"] = lastmatch_home[f\"{hometeam}TeamAvgScored\"]\n",
    "            df.loc[i, \"AwayTeamAvgScored\"] = lastmatch_away[f\"{awayteam}TeamAvgScored\"]\n",
    "            df.loc[i, \"HomeTeamAvgReceived\"] = lastmatch_home[f\"{hometeam}TeamAvgReceived\"]\n",
    "            df.loc[i, \"AwayTeamAvgReceived\"] = lastmatch_away[f\"{awayteam}TeamAvgReceived\"]\n",
    "\n",
    "            df.loc[i, \"HomeTeamAvgShotsOnTarget\"] = lastmatch_home[f\"{hometeam}TeamAvgShotsOnTarget\"]\n",
    "            df.loc[i, \"AwayTeamAvgShotsOnTarget\"] = lastmatch_away[f\"{awayteam}TeamAvgShotsOnTarget\"]\n",
    "\n",
    "\n",
    "            df.loc[i,\"HomeWinRatio\"] = lastmatch_home[f\"{hometeam}WinRatio\"]\n",
    "            df.loc[i,\"HomeLossRatio\"] = lastmatch_home[f\"{hometeam}LossRatio\"]\n",
    "            df.loc[i,\"HomeDrawRatio\"] = lastmatch_home[f\"{hometeam}DrawRatio\"]\n",
    "\n",
    "            df.loc[i,\"AwayWinRatio\"] = lastmatch_home[f\"{awayteam}WinRatio\"]\n",
    "            df.loc[i,\"AwayLossRatio\"] = lastmatch_home[f\"{awayteam}LossRatio\"]\n",
    "            df.loc[i,\"AwayDrawRatio\"] = lastmatch_home[f\"{awayteam}DrawRatio\"]\n",
    "\n",
    "            continue\n",
    "\n",
    "        df.loc[i, \"HomeTeamAvgScored\"] = df[home].dropna().mean()\n",
    "        df.loc[i, \"AwayTeamAvgScored\"] = df[away].dropna().mean()\n",
    "        df.loc[i, \"HomeTeamAvgReceived\"] = df[f\"{home}_received\"].dropna().mean()\n",
    "        df.loc[i, \"AwayTeamAvgReceived\"] = df[f\"{away}_received\"].dropna().mean()\n",
    "\n",
    "        df.loc[i, \"HomeTeamAvgShotsOnTarget\"] = df[f\"{home}_shots\"].dropna().mean()\n",
    "        df.loc[i, \"AwayTeamAvgShotsOnTarget\"] = df[f\"{away}_shots\"].dropna().mean()\n",
    "        \n",
    "        df.loc[i, home] = row[\"FTHG\"]\n",
    "        df.loc[i, f\"{home}_received\"] = row[\"FTAG\"]\n",
    "        df.loc[i, away] = row[\"FTAG\"]\n",
    "        df.loc[i, f\"{away}_received\"] = row[\"FTHG\"]\n",
    "        \n",
    "        df.loc[i, f\"{home}_shots\"] = row[\"HST\"]\n",
    "        df.loc[i, f\"{away}_shots\"] = row[\"AST\"]\n",
    "        \n",
    "        try:\n",
    "            home_wins = df[f\"{home}_res\"].value_counts()[\"W\"]\n",
    "            home_losses = df[f\"{home}_res\"].value_counts()[\"L\"]\n",
    "            home_draws = df[f\"{home}_res\"].value_counts()[\"D\"]\n",
    "    \n",
    "            away_wins = df[f\"{away}_res\"].value_counts()[\"W\"]\n",
    "            away_losses = df[f\"{away}_res\"].value_counts()[\"L\"]\n",
    "            away_draws = df[f\"{away}_res\"].value_counts()[\"D\"]\n",
    "        except KeyError:\n",
    "            pass\n",
    "        \n",
    "        try:\n",
    "            df.loc[i,\"HomeWinRatio\"] = home_wins / (home_wins + home_draws + home_losses)\n",
    "            df.loc[i,\"HomeLossRatio\"] = home_losses / (home_wins + home_draws + home_losses)\n",
    "            df.loc[i,\"HomeDrawRatio\"] = home_draws / (home_wins + home_draws + home_losses)\n",
    "        except ZeroDivisionError:\n",
    "            pass\n",
    "\n",
    "        try:\n",
    "            df.loc[i,\"AwayWinRatio\"] = away_wins / (away_wins + away_draws + away_losses)\n",
    "            df.loc[i,\"AwayLossRatio\"] = away_losses / (away_wins + away_draws + away_losses)\n",
    "            df.loc[i,\"AwayDrawRatio\"] = away_draws / (away_wins + away_draws + away_losses)\n",
    "        except ZeroDivisionError:\n",
    "            pass\n",
    "        \n",
    "        if row[\"FTR\"] == \"A\":\n",
    "            df.loc[i, f\"{home}_res\"] = \"L\"\n",
    "            df.loc[i, f\"{away}_res\"] = \"W\"\n",
    "        elif row[\"FTR\"] == \"H\":\n",
    "            df.loc[i, f\"{home}_res\"] = \"W\"\n",
    "            df.loc[i, f\"{away}_res\"] = \"L\"\n",
    "        else:\n",
    "            df.loc[i, f\"{home}_res\"] = \"D\"\n",
    "            df.loc[i, f\"{away}_res\"] = \"D\"\n",
    "\n",
    "    display(df[df[\"LastMatchHomeGoals\"].isna()][[\"MatchTeams\", \"LastMatchHomeGoals\", \"LastMatchAwayGoals\"]])\n",
    "    df[df[\"HomeTeamAvgScored\"].isna()][\"HomeTeamAvgScored\"] = 0\n",
    "    df[df[\"AwayTeamAvgScored\"].isna()][\"AwayTeamAvgScored\"] = 0\n",
    "    df[df[\"HomeTeamAvgReceived\"].isna()][\"HomeTeamAvgReceived\"] = 0\n",
    "    df[df[\"HomeTeamAvgReceived\"].isna()][\"HomeTeamAvgReceived\"] = 0\n",
    "    df.drop(team_list, inplace=True, axis=1)\n",
    "    df.drop(team_list_received, inplace=True, axis=1)\n",
    "    df.drop(team_list_res, inplace=True, axis=1)\n",
    "    df.drop(team_list_shots, inplace=True, axis=1)\n",
    "\n",
    "    df.drop([\"index\", \"HomeTeam\", \"AwayTeam\", \"LastMatchIndex\"], inplace=True, axis=1)\n",
    "    display(df[df[\"LastMatchHomeGoals\"].isna()][[\"MatchTeams\", \"LastMatchHomeGoals\", \"LastMatchAwayGoals\"]])\n",
    "    display(nancount)\n",
    "    return df"
   ],
   "metadata": {
    "collapsed": false,
    "ExecuteTime": {
     "end_time": "2024-01-04T17:42:43.031678500Z",
     "start_time": "2024-01-04T17:42:42.996198300Z"
    }
   },
   "id": "fa73984d9142d137"
  },
  {
   "cell_type": "code",
   "execution_count": 142,
   "outputs": [
    {
     "data": {
      "text/plain": "                            MatchTeams  LastMatchHomeGoals  LastMatchAwayGoals\n522                  Anderlecht_Lommel                 NaN                 NaN\n5513         Beerschot VA_St. Gilloise                 NaN                 NaN\n5624  Oud-Heverlee Leuven_St. Gilloise                 NaN                 NaN\n5891                  Seraing_Westerlo                 NaN                 NaN\n5933             St. Gilloise_Westerlo                 NaN                 NaN\n5984  Oud-Heverlee Leuven_St. Gilloise                 NaN                 NaN\n6030             St. Gilloise_Westerlo                 NaN                 NaN\n6089                  Seraing_Westerlo                 NaN                 NaN",
      "text/html": "<div>\n<style scoped>\n    .dataframe tbody tr th:only-of-type {\n        vertical-align: middle;\n    }\n\n    .dataframe tbody tr th {\n        vertical-align: top;\n    }\n\n    .dataframe thead th {\n        text-align: right;\n    }\n</style>\n<table border=\"1\" class=\"dataframe\">\n  <thead>\n    <tr style=\"text-align: right;\">\n      <th></th>\n      <th>MatchTeams</th>\n      <th>LastMatchHomeGoals</th>\n      <th>LastMatchAwayGoals</th>\n    </tr>\n  </thead>\n  <tbody>\n    <tr>\n      <th>522</th>\n      <td>Anderlecht_Lommel</td>\n      <td>NaN</td>\n      <td>NaN</td>\n    </tr>\n    <tr>\n      <th>5513</th>\n      <td>Beerschot VA_St. Gilloise</td>\n      <td>NaN</td>\n      <td>NaN</td>\n    </tr>\n    <tr>\n      <th>5624</th>\n      <td>Oud-Heverlee Leuven_St. Gilloise</td>\n      <td>NaN</td>\n      <td>NaN</td>\n    </tr>\n    <tr>\n      <th>5891</th>\n      <td>Seraing_Westerlo</td>\n      <td>NaN</td>\n      <td>NaN</td>\n    </tr>\n    <tr>\n      <th>5933</th>\n      <td>St. Gilloise_Westerlo</td>\n      <td>NaN</td>\n      <td>NaN</td>\n    </tr>\n    <tr>\n      <th>5984</th>\n      <td>Oud-Heverlee Leuven_St. Gilloise</td>\n      <td>NaN</td>\n      <td>NaN</td>\n    </tr>\n    <tr>\n      <th>6030</th>\n      <td>St. Gilloise_Westerlo</td>\n      <td>NaN</td>\n      <td>NaN</td>\n    </tr>\n    <tr>\n      <th>6089</th>\n      <td>Seraing_Westerlo</td>\n      <td>NaN</td>\n      <td>NaN</td>\n    </tr>\n  </tbody>\n</table>\n</div>"
     },
     "metadata": {},
     "output_type": "display_data"
    },
    {
     "data": {
      "text/plain": "                            MatchTeams  LastMatchHomeGoals  LastMatchAwayGoals\n522                  Anderlecht_Lommel                 NaN                 NaN\n5513         Beerschot VA_St. Gilloise                 NaN                 NaN\n5624  Oud-Heverlee Leuven_St. Gilloise                 NaN                 NaN\n5891                  Seraing_Westerlo                 NaN                 NaN\n5933             St. Gilloise_Westerlo                 NaN                 NaN\n5984  Oud-Heverlee Leuven_St. Gilloise                 NaN                 NaN\n6030             St. Gilloise_Westerlo                 NaN                 NaN\n6089                  Seraing_Westerlo                 NaN                 NaN",
      "text/html": "<div>\n<style scoped>\n    .dataframe tbody tr th:only-of-type {\n        vertical-align: middle;\n    }\n\n    .dataframe tbody tr th {\n        vertical-align: top;\n    }\n\n    .dataframe thead th {\n        text-align: right;\n    }\n</style>\n<table border=\"1\" class=\"dataframe\">\n  <thead>\n    <tr style=\"text-align: right;\">\n      <th></th>\n      <th>MatchTeams</th>\n      <th>LastMatchHomeGoals</th>\n      <th>LastMatchAwayGoals</th>\n    </tr>\n  </thead>\n  <tbody>\n    <tr>\n      <th>522</th>\n      <td>Anderlecht_Lommel</td>\n      <td>NaN</td>\n      <td>NaN</td>\n    </tr>\n    <tr>\n      <th>5513</th>\n      <td>Beerschot VA_St. Gilloise</td>\n      <td>NaN</td>\n      <td>NaN</td>\n    </tr>\n    <tr>\n      <th>5624</th>\n      <td>Oud-Heverlee Leuven_St. Gilloise</td>\n      <td>NaN</td>\n      <td>NaN</td>\n    </tr>\n    <tr>\n      <th>5891</th>\n      <td>Seraing_Westerlo</td>\n      <td>NaN</td>\n      <td>NaN</td>\n    </tr>\n    <tr>\n      <th>5933</th>\n      <td>St. Gilloise_Westerlo</td>\n      <td>NaN</td>\n      <td>NaN</td>\n    </tr>\n    <tr>\n      <th>5984</th>\n      <td>Oud-Heverlee Leuven_St. Gilloise</td>\n      <td>NaN</td>\n      <td>NaN</td>\n    </tr>\n    <tr>\n      <th>6030</th>\n      <td>St. Gilloise_Westerlo</td>\n      <td>NaN</td>\n      <td>NaN</td>\n    </tr>\n    <tr>\n      <th>6089</th>\n      <td>Seraing_Westerlo</td>\n      <td>NaN</td>\n      <td>NaN</td>\n    </tr>\n  </tbody>\n</table>\n</div>"
     },
     "metadata": {},
     "output_type": "display_data"
    },
    {
     "data": {
      "text/plain": "4"
     },
     "metadata": {},
     "output_type": "display_data"
    },
    {
     "name": "stdout",
     "output_type": "stream",
     "text": [
      "done df_belgium\n"
     ]
    },
    {
     "data": {
      "text/plain": "                      MatchTeams  LastMatchHomeGoals  LastMatchAwayGoals\n39         Millwall_Notts County                 NaN                 NaN\n192          Bradford_Man United                 NaN                 NaN\n514             Chelsea_Coventry                 NaN                 NaN\n756       Bradford_Middlesbrough                 NaN                 NaN\n871            Barnet_Scunthorpe                 NaN                 NaN\n...                          ...                 ...                 ...\n45239  Gillingham_Newport County                 NaN                 NaN\n45285      AFC Wimbledon_Grimsby                 NaN                 NaN\n45290         Gillingham_Salford                 NaN                 NaN\n45311      Chelsea_Nott'm Forest                 NaN                 NaN\n45321      Arsenal_Nott'm Forest                 NaN                 NaN\n\n[163 rows x 3 columns]",
      "text/html": "<div>\n<style scoped>\n    .dataframe tbody tr th:only-of-type {\n        vertical-align: middle;\n    }\n\n    .dataframe tbody tr th {\n        vertical-align: top;\n    }\n\n    .dataframe thead th {\n        text-align: right;\n    }\n</style>\n<table border=\"1\" class=\"dataframe\">\n  <thead>\n    <tr style=\"text-align: right;\">\n      <th></th>\n      <th>MatchTeams</th>\n      <th>LastMatchHomeGoals</th>\n      <th>LastMatchAwayGoals</th>\n    </tr>\n  </thead>\n  <tbody>\n    <tr>\n      <th>39</th>\n      <td>Millwall_Notts County</td>\n      <td>NaN</td>\n      <td>NaN</td>\n    </tr>\n    <tr>\n      <th>192</th>\n      <td>Bradford_Man United</td>\n      <td>NaN</td>\n      <td>NaN</td>\n    </tr>\n    <tr>\n      <th>514</th>\n      <td>Chelsea_Coventry</td>\n      <td>NaN</td>\n      <td>NaN</td>\n    </tr>\n    <tr>\n      <th>756</th>\n      <td>Bradford_Middlesbrough</td>\n      <td>NaN</td>\n      <td>NaN</td>\n    </tr>\n    <tr>\n      <th>871</th>\n      <td>Barnet_Scunthorpe</td>\n      <td>NaN</td>\n      <td>NaN</td>\n    </tr>\n    <tr>\n      <th>...</th>\n      <td>...</td>\n      <td>...</td>\n      <td>...</td>\n    </tr>\n    <tr>\n      <th>45239</th>\n      <td>Gillingham_Newport County</td>\n      <td>NaN</td>\n      <td>NaN</td>\n    </tr>\n    <tr>\n      <th>45285</th>\n      <td>AFC Wimbledon_Grimsby</td>\n      <td>NaN</td>\n      <td>NaN</td>\n    </tr>\n    <tr>\n      <th>45290</th>\n      <td>Gillingham_Salford</td>\n      <td>NaN</td>\n      <td>NaN</td>\n    </tr>\n    <tr>\n      <th>45311</th>\n      <td>Chelsea_Nott'm Forest</td>\n      <td>NaN</td>\n      <td>NaN</td>\n    </tr>\n    <tr>\n      <th>45321</th>\n      <td>Arsenal_Nott'm Forest</td>\n      <td>NaN</td>\n      <td>NaN</td>\n    </tr>\n  </tbody>\n</table>\n<p>163 rows × 3 columns</p>\n</div>"
     },
     "metadata": {},
     "output_type": "display_data"
    },
    {
     "data": {
      "text/plain": "                      MatchTeams  LastMatchHomeGoals  LastMatchAwayGoals\n39         Millwall_Notts County                 NaN                 NaN\n192          Bradford_Man United                 NaN                 NaN\n514             Chelsea_Coventry                 NaN                 NaN\n756       Bradford_Middlesbrough                 NaN                 NaN\n871            Barnet_Scunthorpe                 NaN                 NaN\n...                          ...                 ...                 ...\n45239  Gillingham_Newport County                 NaN                 NaN\n45285      AFC Wimbledon_Grimsby                 NaN                 NaN\n45290         Gillingham_Salford                 NaN                 NaN\n45311      Chelsea_Nott'm Forest                 NaN                 NaN\n45321      Arsenal_Nott'm Forest                 NaN                 NaN\n\n[163 rows x 3 columns]",
      "text/html": "<div>\n<style scoped>\n    .dataframe tbody tr th:only-of-type {\n        vertical-align: middle;\n    }\n\n    .dataframe tbody tr th {\n        vertical-align: top;\n    }\n\n    .dataframe thead th {\n        text-align: right;\n    }\n</style>\n<table border=\"1\" class=\"dataframe\">\n  <thead>\n    <tr style=\"text-align: right;\">\n      <th></th>\n      <th>MatchTeams</th>\n      <th>LastMatchHomeGoals</th>\n      <th>LastMatchAwayGoals</th>\n    </tr>\n  </thead>\n  <tbody>\n    <tr>\n      <th>39</th>\n      <td>Millwall_Notts County</td>\n      <td>NaN</td>\n      <td>NaN</td>\n    </tr>\n    <tr>\n      <th>192</th>\n      <td>Bradford_Man United</td>\n      <td>NaN</td>\n      <td>NaN</td>\n    </tr>\n    <tr>\n      <th>514</th>\n      <td>Chelsea_Coventry</td>\n      <td>NaN</td>\n      <td>NaN</td>\n    </tr>\n    <tr>\n      <th>756</th>\n      <td>Bradford_Middlesbrough</td>\n      <td>NaN</td>\n      <td>NaN</td>\n    </tr>\n    <tr>\n      <th>871</th>\n      <td>Barnet_Scunthorpe</td>\n      <td>NaN</td>\n      <td>NaN</td>\n    </tr>\n    <tr>\n      <th>...</th>\n      <td>...</td>\n      <td>...</td>\n      <td>...</td>\n    </tr>\n    <tr>\n      <th>45239</th>\n      <td>Gillingham_Newport County</td>\n      <td>NaN</td>\n      <td>NaN</td>\n    </tr>\n    <tr>\n      <th>45285</th>\n      <td>AFC Wimbledon_Grimsby</td>\n      <td>NaN</td>\n      <td>NaN</td>\n    </tr>\n    <tr>\n      <th>45290</th>\n      <td>Gillingham_Salford</td>\n      <td>NaN</td>\n      <td>NaN</td>\n    </tr>\n    <tr>\n      <th>45311</th>\n      <td>Chelsea_Nott'm Forest</td>\n      <td>NaN</td>\n      <td>NaN</td>\n    </tr>\n    <tr>\n      <th>45321</th>\n      <td>Arsenal_Nott'm Forest</td>\n      <td>NaN</td>\n      <td>NaN</td>\n    </tr>\n  </tbody>\n</table>\n<p>163 rows × 3 columns</p>\n</div>"
     },
     "metadata": {},
     "output_type": "display_data"
    },
    {
     "data": {
      "text/plain": "126"
     },
     "metadata": {},
     "output_type": "display_data"
    },
    {
     "name": "stdout",
     "output_type": "stream",
     "text": [
      "done df_england\n"
     ]
    },
    {
     "data": {
      "text/plain": "                      MatchTeams  LastMatchHomeGoals  LastMatchAwayGoals\n340               Ajaccio_Cannes                 NaN                 NaN\n380               Cannes_Le Mans                 NaN                 NaN\n519              Cannes_Gueugnon                 NaN                 NaN\n1100         Beauvais_Strasbourg                 NaN                 NaN\n1258            Istres_Martigues                 NaN                 NaN\n...                          ...                 ...                 ...\n16602               Annecy_Niort                 NaN                 NaN\n16604  Quevilly Rouen_St Etienne                 NaN                 NaN\n16620            Annecy_Bordeaux                 NaN                 NaN\n16623      Amiens_Quevilly Rouen                 NaN                 NaN\n16642            Annecy_Paris FC                 NaN                 NaN\n\n[100 rows x 3 columns]",
      "text/html": "<div>\n<style scoped>\n    .dataframe tbody tr th:only-of-type {\n        vertical-align: middle;\n    }\n\n    .dataframe tbody tr th {\n        vertical-align: top;\n    }\n\n    .dataframe thead th {\n        text-align: right;\n    }\n</style>\n<table border=\"1\" class=\"dataframe\">\n  <thead>\n    <tr style=\"text-align: right;\">\n      <th></th>\n      <th>MatchTeams</th>\n      <th>LastMatchHomeGoals</th>\n      <th>LastMatchAwayGoals</th>\n    </tr>\n  </thead>\n  <tbody>\n    <tr>\n      <th>340</th>\n      <td>Ajaccio_Cannes</td>\n      <td>NaN</td>\n      <td>NaN</td>\n    </tr>\n    <tr>\n      <th>380</th>\n      <td>Cannes_Le Mans</td>\n      <td>NaN</td>\n      <td>NaN</td>\n    </tr>\n    <tr>\n      <th>519</th>\n      <td>Cannes_Gueugnon</td>\n      <td>NaN</td>\n      <td>NaN</td>\n    </tr>\n    <tr>\n      <th>1100</th>\n      <td>Beauvais_Strasbourg</td>\n      <td>NaN</td>\n      <td>NaN</td>\n    </tr>\n    <tr>\n      <th>1258</th>\n      <td>Istres_Martigues</td>\n      <td>NaN</td>\n      <td>NaN</td>\n    </tr>\n    <tr>\n      <th>...</th>\n      <td>...</td>\n      <td>...</td>\n      <td>...</td>\n    </tr>\n    <tr>\n      <th>16602</th>\n      <td>Annecy_Niort</td>\n      <td>NaN</td>\n      <td>NaN</td>\n    </tr>\n    <tr>\n      <th>16604</th>\n      <td>Quevilly Rouen_St Etienne</td>\n      <td>NaN</td>\n      <td>NaN</td>\n    </tr>\n    <tr>\n      <th>16620</th>\n      <td>Annecy_Bordeaux</td>\n      <td>NaN</td>\n      <td>NaN</td>\n    </tr>\n    <tr>\n      <th>16623</th>\n      <td>Amiens_Quevilly Rouen</td>\n      <td>NaN</td>\n      <td>NaN</td>\n    </tr>\n    <tr>\n      <th>16642</th>\n      <td>Annecy_Paris FC</td>\n      <td>NaN</td>\n      <td>NaN</td>\n    </tr>\n  </tbody>\n</table>\n<p>100 rows × 3 columns</p>\n</div>"
     },
     "metadata": {},
     "output_type": "display_data"
    },
    {
     "data": {
      "text/plain": "                      MatchTeams  LastMatchHomeGoals  LastMatchAwayGoals\n340               Ajaccio_Cannes                 NaN                 NaN\n380               Cannes_Le Mans                 NaN                 NaN\n519              Cannes_Gueugnon                 NaN                 NaN\n1100         Beauvais_Strasbourg                 NaN                 NaN\n1258            Istres_Martigues                 NaN                 NaN\n...                          ...                 ...                 ...\n16602               Annecy_Niort                 NaN                 NaN\n16604  Quevilly Rouen_St Etienne                 NaN                 NaN\n16620            Annecy_Bordeaux                 NaN                 NaN\n16623      Amiens_Quevilly Rouen                 NaN                 NaN\n16642            Annecy_Paris FC                 NaN                 NaN\n\n[100 rows x 3 columns]",
      "text/html": "<div>\n<style scoped>\n    .dataframe tbody tr th:only-of-type {\n        vertical-align: middle;\n    }\n\n    .dataframe tbody tr th {\n        vertical-align: top;\n    }\n\n    .dataframe thead th {\n        text-align: right;\n    }\n</style>\n<table border=\"1\" class=\"dataframe\">\n  <thead>\n    <tr style=\"text-align: right;\">\n      <th></th>\n      <th>MatchTeams</th>\n      <th>LastMatchHomeGoals</th>\n      <th>LastMatchAwayGoals</th>\n    </tr>\n  </thead>\n  <tbody>\n    <tr>\n      <th>340</th>\n      <td>Ajaccio_Cannes</td>\n      <td>NaN</td>\n      <td>NaN</td>\n    </tr>\n    <tr>\n      <th>380</th>\n      <td>Cannes_Le Mans</td>\n      <td>NaN</td>\n      <td>NaN</td>\n    </tr>\n    <tr>\n      <th>519</th>\n      <td>Cannes_Gueugnon</td>\n      <td>NaN</td>\n      <td>NaN</td>\n    </tr>\n    <tr>\n      <th>1100</th>\n      <td>Beauvais_Strasbourg</td>\n      <td>NaN</td>\n      <td>NaN</td>\n    </tr>\n    <tr>\n      <th>1258</th>\n      <td>Istres_Martigues</td>\n      <td>NaN</td>\n      <td>NaN</td>\n    </tr>\n    <tr>\n      <th>...</th>\n      <td>...</td>\n      <td>...</td>\n      <td>...</td>\n    </tr>\n    <tr>\n      <th>16602</th>\n      <td>Annecy_Niort</td>\n      <td>NaN</td>\n      <td>NaN</td>\n    </tr>\n    <tr>\n      <th>16604</th>\n      <td>Quevilly Rouen_St Etienne</td>\n      <td>NaN</td>\n      <td>NaN</td>\n    </tr>\n    <tr>\n      <th>16620</th>\n      <td>Annecy_Bordeaux</td>\n      <td>NaN</td>\n      <td>NaN</td>\n    </tr>\n    <tr>\n      <th>16623</th>\n      <td>Amiens_Quevilly Rouen</td>\n      <td>NaN</td>\n      <td>NaN</td>\n    </tr>\n    <tr>\n      <th>16642</th>\n      <td>Annecy_Paris FC</td>\n      <td>NaN</td>\n      <td>NaN</td>\n    </tr>\n  </tbody>\n</table>\n<p>100 rows × 3 columns</p>\n</div>"
     },
     "metadata": {},
     "output_type": "display_data"
    },
    {
     "data": {
      "text/plain": "69"
     },
     "metadata": {},
     "output_type": "display_data"
    },
    {
     "name": "stdout",
     "output_type": "stream",
     "text": [
      "done df_france\n"
     ]
    },
    {
     "data": {
      "text/plain": "                           MatchTeams  LastMatchHomeGoals  LastMatchAwayGoals\n344           Leverkusen_Unterhaching                 NaN                 NaN\n364              Chemnitz_Saarbrucken                 NaN                 NaN\n426            Unterhaching_Wolfsburg                 NaN                 NaN\n504          M'gladbach_Stuttgarter K                 NaN                 NaN\n507                      St Pauli_Ulm                 NaN                 NaN\n657           Babelsberg_Union Berlin                 NaN                 NaN\n839               Babelsberg_Mannheim                 NaN                 NaN\n1096             Babelsberg_Karlsruhe                 NaN                 NaN\n2141              Lubeck_Unterhaching                 NaN                 NaN\n2475                    Cottbus_Essen                 NaN                 NaN\n2617             Ein Frankfurt_Erfurt                 NaN                 NaN\n2734            Ein Trier_Munich 1860                 NaN                 NaN\n3216                Bochum_Burghausen                 NaN                 NaN\n4337       Hoffenheim_Kaiserslautern                  NaN                 NaN\n4406                CZ Jena_Osnabruck                 NaN                 NaN\n4423         Kaiserslautern _St Pauli                 NaN                 NaN\n4475          FC Koln_Kaiserslautern                  NaN                 NaN\n4479       Kaiserslautern _M'gladbach                 NaN                 NaN\n4559        Kaiserslautern _Paderborn                 NaN                 NaN\n4578                  Mainz_Offenbach                 NaN                 NaN\n4657   Erzgebirge Aue_Kaiserslautern                  NaN                 NaN\n4755          CZ Jena_Kaiserslautern                  NaN                 NaN\n4815       Ingolstadt_Kaiserslautern                  NaN                 NaN\n4898          Kaiserslautern _Koblenz                 NaN                 NaN\n4929       Kaiserslautern _Oberhausen                 NaN                 NaN\n5053         Duisburg_Kaiserslautern                  NaN                 NaN\n5110         Kaiserslautern _Nurnberg                 NaN                 NaN\n5163    Frankfurt FSV_Kaiserslautern                  NaN                 NaN\n5213            Ahlen_Kaiserslautern                  NaN                 NaN\n5270      Kaiserslautern _Munich 1860                 NaN                 NaN\n5291    Hansa Rostock_Kaiserslautern                  NaN                 NaN\n11864                   Hamburg_Wehen                 NaN                 NaN\n13147    Fortuna Dusseldorf_Magdeburg                 NaN                 NaN\n13161             Karlsruhe_Magdeburg                 NaN                 NaN\n13200              Hannover_Magdeburg                 NaN                 NaN\n13229        Kaiserslautern_Magdeburg                 NaN                 NaN\n13280         Hansa Rostock_Magdeburg                 NaN                 NaN\n13329          Braunschweig_Magdeburg                 NaN                 NaN\n13394              Magdeburg_Nurnberg                 NaN                 NaN\n13451    Fortuna Dusseldorf_Magdeburg                 NaN                 NaN\n13481             Karlsruhe_Magdeburg                 NaN                 NaN\n13536              Hannover_Magdeburg                 NaN                 NaN\n13541        Kaiserslautern_Magdeburg                 NaN                 NaN\n13610         Hansa Rostock_Magdeburg                 NaN                 NaN\n13654          Braunschweig_Magdeburg                 NaN                 NaN\n13702              Magdeburg_Nurnberg                 NaN                 NaN",
      "text/html": "<div>\n<style scoped>\n    .dataframe tbody tr th:only-of-type {\n        vertical-align: middle;\n    }\n\n    .dataframe tbody tr th {\n        vertical-align: top;\n    }\n\n    .dataframe thead th {\n        text-align: right;\n    }\n</style>\n<table border=\"1\" class=\"dataframe\">\n  <thead>\n    <tr style=\"text-align: right;\">\n      <th></th>\n      <th>MatchTeams</th>\n      <th>LastMatchHomeGoals</th>\n      <th>LastMatchAwayGoals</th>\n    </tr>\n  </thead>\n  <tbody>\n    <tr>\n      <th>344</th>\n      <td>Leverkusen_Unterhaching</td>\n      <td>NaN</td>\n      <td>NaN</td>\n    </tr>\n    <tr>\n      <th>364</th>\n      <td>Chemnitz_Saarbrucken</td>\n      <td>NaN</td>\n      <td>NaN</td>\n    </tr>\n    <tr>\n      <th>426</th>\n      <td>Unterhaching_Wolfsburg</td>\n      <td>NaN</td>\n      <td>NaN</td>\n    </tr>\n    <tr>\n      <th>504</th>\n      <td>M'gladbach_Stuttgarter K</td>\n      <td>NaN</td>\n      <td>NaN</td>\n    </tr>\n    <tr>\n      <th>507</th>\n      <td>St Pauli_Ulm</td>\n      <td>NaN</td>\n      <td>NaN</td>\n    </tr>\n    <tr>\n      <th>657</th>\n      <td>Babelsberg_Union Berlin</td>\n      <td>NaN</td>\n      <td>NaN</td>\n    </tr>\n    <tr>\n      <th>839</th>\n      <td>Babelsberg_Mannheim</td>\n      <td>NaN</td>\n      <td>NaN</td>\n    </tr>\n    <tr>\n      <th>1096</th>\n      <td>Babelsberg_Karlsruhe</td>\n      <td>NaN</td>\n      <td>NaN</td>\n    </tr>\n    <tr>\n      <th>2141</th>\n      <td>Lubeck_Unterhaching</td>\n      <td>NaN</td>\n      <td>NaN</td>\n    </tr>\n    <tr>\n      <th>2475</th>\n      <td>Cottbus_Essen</td>\n      <td>NaN</td>\n      <td>NaN</td>\n    </tr>\n    <tr>\n      <th>2617</th>\n      <td>Ein Frankfurt_Erfurt</td>\n      <td>NaN</td>\n      <td>NaN</td>\n    </tr>\n    <tr>\n      <th>2734</th>\n      <td>Ein Trier_Munich 1860</td>\n      <td>NaN</td>\n      <td>NaN</td>\n    </tr>\n    <tr>\n      <th>3216</th>\n      <td>Bochum_Burghausen</td>\n      <td>NaN</td>\n      <td>NaN</td>\n    </tr>\n    <tr>\n      <th>4337</th>\n      <td>Hoffenheim_Kaiserslautern</td>\n      <td>NaN</td>\n      <td>NaN</td>\n    </tr>\n    <tr>\n      <th>4406</th>\n      <td>CZ Jena_Osnabruck</td>\n      <td>NaN</td>\n      <td>NaN</td>\n    </tr>\n    <tr>\n      <th>4423</th>\n      <td>Kaiserslautern _St Pauli</td>\n      <td>NaN</td>\n      <td>NaN</td>\n    </tr>\n    <tr>\n      <th>4475</th>\n      <td>FC Koln_Kaiserslautern</td>\n      <td>NaN</td>\n      <td>NaN</td>\n    </tr>\n    <tr>\n      <th>4479</th>\n      <td>Kaiserslautern _M'gladbach</td>\n      <td>NaN</td>\n      <td>NaN</td>\n    </tr>\n    <tr>\n      <th>4559</th>\n      <td>Kaiserslautern _Paderborn</td>\n      <td>NaN</td>\n      <td>NaN</td>\n    </tr>\n    <tr>\n      <th>4578</th>\n      <td>Mainz_Offenbach</td>\n      <td>NaN</td>\n      <td>NaN</td>\n    </tr>\n    <tr>\n      <th>4657</th>\n      <td>Erzgebirge Aue_Kaiserslautern</td>\n      <td>NaN</td>\n      <td>NaN</td>\n    </tr>\n    <tr>\n      <th>4755</th>\n      <td>CZ Jena_Kaiserslautern</td>\n      <td>NaN</td>\n      <td>NaN</td>\n    </tr>\n    <tr>\n      <th>4815</th>\n      <td>Ingolstadt_Kaiserslautern</td>\n      <td>NaN</td>\n      <td>NaN</td>\n    </tr>\n    <tr>\n      <th>4898</th>\n      <td>Kaiserslautern _Koblenz</td>\n      <td>NaN</td>\n      <td>NaN</td>\n    </tr>\n    <tr>\n      <th>4929</th>\n      <td>Kaiserslautern _Oberhausen</td>\n      <td>NaN</td>\n      <td>NaN</td>\n    </tr>\n    <tr>\n      <th>5053</th>\n      <td>Duisburg_Kaiserslautern</td>\n      <td>NaN</td>\n      <td>NaN</td>\n    </tr>\n    <tr>\n      <th>5110</th>\n      <td>Kaiserslautern _Nurnberg</td>\n      <td>NaN</td>\n      <td>NaN</td>\n    </tr>\n    <tr>\n      <th>5163</th>\n      <td>Frankfurt FSV_Kaiserslautern</td>\n      <td>NaN</td>\n      <td>NaN</td>\n    </tr>\n    <tr>\n      <th>5213</th>\n      <td>Ahlen_Kaiserslautern</td>\n      <td>NaN</td>\n      <td>NaN</td>\n    </tr>\n    <tr>\n      <th>5270</th>\n      <td>Kaiserslautern _Munich 1860</td>\n      <td>NaN</td>\n      <td>NaN</td>\n    </tr>\n    <tr>\n      <th>5291</th>\n      <td>Hansa Rostock_Kaiserslautern</td>\n      <td>NaN</td>\n      <td>NaN</td>\n    </tr>\n    <tr>\n      <th>11864</th>\n      <td>Hamburg_Wehen</td>\n      <td>NaN</td>\n      <td>NaN</td>\n    </tr>\n    <tr>\n      <th>13147</th>\n      <td>Fortuna Dusseldorf_Magdeburg</td>\n      <td>NaN</td>\n      <td>NaN</td>\n    </tr>\n    <tr>\n      <th>13161</th>\n      <td>Karlsruhe_Magdeburg</td>\n      <td>NaN</td>\n      <td>NaN</td>\n    </tr>\n    <tr>\n      <th>13200</th>\n      <td>Hannover_Magdeburg</td>\n      <td>NaN</td>\n      <td>NaN</td>\n    </tr>\n    <tr>\n      <th>13229</th>\n      <td>Kaiserslautern_Magdeburg</td>\n      <td>NaN</td>\n      <td>NaN</td>\n    </tr>\n    <tr>\n      <th>13280</th>\n      <td>Hansa Rostock_Magdeburg</td>\n      <td>NaN</td>\n      <td>NaN</td>\n    </tr>\n    <tr>\n      <th>13329</th>\n      <td>Braunschweig_Magdeburg</td>\n      <td>NaN</td>\n      <td>NaN</td>\n    </tr>\n    <tr>\n      <th>13394</th>\n      <td>Magdeburg_Nurnberg</td>\n      <td>NaN</td>\n      <td>NaN</td>\n    </tr>\n    <tr>\n      <th>13451</th>\n      <td>Fortuna Dusseldorf_Magdeburg</td>\n      <td>NaN</td>\n      <td>NaN</td>\n    </tr>\n    <tr>\n      <th>13481</th>\n      <td>Karlsruhe_Magdeburg</td>\n      <td>NaN</td>\n      <td>NaN</td>\n    </tr>\n    <tr>\n      <th>13536</th>\n      <td>Hannover_Magdeburg</td>\n      <td>NaN</td>\n      <td>NaN</td>\n    </tr>\n    <tr>\n      <th>13541</th>\n      <td>Kaiserslautern_Magdeburg</td>\n      <td>NaN</td>\n      <td>NaN</td>\n    </tr>\n    <tr>\n      <th>13610</th>\n      <td>Hansa Rostock_Magdeburg</td>\n      <td>NaN</td>\n      <td>NaN</td>\n    </tr>\n    <tr>\n      <th>13654</th>\n      <td>Braunschweig_Magdeburg</td>\n      <td>NaN</td>\n      <td>NaN</td>\n    </tr>\n    <tr>\n      <th>13702</th>\n      <td>Magdeburg_Nurnberg</td>\n      <td>NaN</td>\n      <td>NaN</td>\n    </tr>\n  </tbody>\n</table>\n</div>"
     },
     "metadata": {},
     "output_type": "display_data"
    },
    {
     "data": {
      "text/plain": "                           MatchTeams  LastMatchHomeGoals  LastMatchAwayGoals\n344           Leverkusen_Unterhaching                 NaN                 NaN\n364              Chemnitz_Saarbrucken                 NaN                 NaN\n426            Unterhaching_Wolfsburg                 NaN                 NaN\n504          M'gladbach_Stuttgarter K                 NaN                 NaN\n507                      St Pauli_Ulm                 NaN                 NaN\n657           Babelsberg_Union Berlin                 NaN                 NaN\n839               Babelsberg_Mannheim                 NaN                 NaN\n1096             Babelsberg_Karlsruhe                 NaN                 NaN\n2141              Lubeck_Unterhaching                 NaN                 NaN\n2475                    Cottbus_Essen                 NaN                 NaN\n2617             Ein Frankfurt_Erfurt                 NaN                 NaN\n2734            Ein Trier_Munich 1860                 NaN                 NaN\n3216                Bochum_Burghausen                 NaN                 NaN\n4337       Hoffenheim_Kaiserslautern                  NaN                 NaN\n4406                CZ Jena_Osnabruck                 NaN                 NaN\n4423         Kaiserslautern _St Pauli                 NaN                 NaN\n4475          FC Koln_Kaiserslautern                  NaN                 NaN\n4479       Kaiserslautern _M'gladbach                 NaN                 NaN\n4559        Kaiserslautern _Paderborn                 NaN                 NaN\n4578                  Mainz_Offenbach                 NaN                 NaN\n4657   Erzgebirge Aue_Kaiserslautern                  NaN                 NaN\n4755          CZ Jena_Kaiserslautern                  NaN                 NaN\n4815       Ingolstadt_Kaiserslautern                  NaN                 NaN\n4898          Kaiserslautern _Koblenz                 NaN                 NaN\n4929       Kaiserslautern _Oberhausen                 NaN                 NaN\n5053         Duisburg_Kaiserslautern                  NaN                 NaN\n5110         Kaiserslautern _Nurnberg                 NaN                 NaN\n5163    Frankfurt FSV_Kaiserslautern                  NaN                 NaN\n5213            Ahlen_Kaiserslautern                  NaN                 NaN\n5270      Kaiserslautern _Munich 1860                 NaN                 NaN\n5291    Hansa Rostock_Kaiserslautern                  NaN                 NaN\n11864                   Hamburg_Wehen                 NaN                 NaN\n13147    Fortuna Dusseldorf_Magdeburg                 NaN                 NaN\n13161             Karlsruhe_Magdeburg                 NaN                 NaN\n13200              Hannover_Magdeburg                 NaN                 NaN\n13229        Kaiserslautern_Magdeburg                 NaN                 NaN\n13280         Hansa Rostock_Magdeburg                 NaN                 NaN\n13329          Braunschweig_Magdeburg                 NaN                 NaN\n13394              Magdeburg_Nurnberg                 NaN                 NaN\n13451    Fortuna Dusseldorf_Magdeburg                 NaN                 NaN\n13481             Karlsruhe_Magdeburg                 NaN                 NaN\n13536              Hannover_Magdeburg                 NaN                 NaN\n13541        Kaiserslautern_Magdeburg                 NaN                 NaN\n13610         Hansa Rostock_Magdeburg                 NaN                 NaN\n13654          Braunschweig_Magdeburg                 NaN                 NaN\n13702              Magdeburg_Nurnberg                 NaN                 NaN",
      "text/html": "<div>\n<style scoped>\n    .dataframe tbody tr th:only-of-type {\n        vertical-align: middle;\n    }\n\n    .dataframe tbody tr th {\n        vertical-align: top;\n    }\n\n    .dataframe thead th {\n        text-align: right;\n    }\n</style>\n<table border=\"1\" class=\"dataframe\">\n  <thead>\n    <tr style=\"text-align: right;\">\n      <th></th>\n      <th>MatchTeams</th>\n      <th>LastMatchHomeGoals</th>\n      <th>LastMatchAwayGoals</th>\n    </tr>\n  </thead>\n  <tbody>\n    <tr>\n      <th>344</th>\n      <td>Leverkusen_Unterhaching</td>\n      <td>NaN</td>\n      <td>NaN</td>\n    </tr>\n    <tr>\n      <th>364</th>\n      <td>Chemnitz_Saarbrucken</td>\n      <td>NaN</td>\n      <td>NaN</td>\n    </tr>\n    <tr>\n      <th>426</th>\n      <td>Unterhaching_Wolfsburg</td>\n      <td>NaN</td>\n      <td>NaN</td>\n    </tr>\n    <tr>\n      <th>504</th>\n      <td>M'gladbach_Stuttgarter K</td>\n      <td>NaN</td>\n      <td>NaN</td>\n    </tr>\n    <tr>\n      <th>507</th>\n      <td>St Pauli_Ulm</td>\n      <td>NaN</td>\n      <td>NaN</td>\n    </tr>\n    <tr>\n      <th>657</th>\n      <td>Babelsberg_Union Berlin</td>\n      <td>NaN</td>\n      <td>NaN</td>\n    </tr>\n    <tr>\n      <th>839</th>\n      <td>Babelsberg_Mannheim</td>\n      <td>NaN</td>\n      <td>NaN</td>\n    </tr>\n    <tr>\n      <th>1096</th>\n      <td>Babelsberg_Karlsruhe</td>\n      <td>NaN</td>\n      <td>NaN</td>\n    </tr>\n    <tr>\n      <th>2141</th>\n      <td>Lubeck_Unterhaching</td>\n      <td>NaN</td>\n      <td>NaN</td>\n    </tr>\n    <tr>\n      <th>2475</th>\n      <td>Cottbus_Essen</td>\n      <td>NaN</td>\n      <td>NaN</td>\n    </tr>\n    <tr>\n      <th>2617</th>\n      <td>Ein Frankfurt_Erfurt</td>\n      <td>NaN</td>\n      <td>NaN</td>\n    </tr>\n    <tr>\n      <th>2734</th>\n      <td>Ein Trier_Munich 1860</td>\n      <td>NaN</td>\n      <td>NaN</td>\n    </tr>\n    <tr>\n      <th>3216</th>\n      <td>Bochum_Burghausen</td>\n      <td>NaN</td>\n      <td>NaN</td>\n    </tr>\n    <tr>\n      <th>4337</th>\n      <td>Hoffenheim_Kaiserslautern</td>\n      <td>NaN</td>\n      <td>NaN</td>\n    </tr>\n    <tr>\n      <th>4406</th>\n      <td>CZ Jena_Osnabruck</td>\n      <td>NaN</td>\n      <td>NaN</td>\n    </tr>\n    <tr>\n      <th>4423</th>\n      <td>Kaiserslautern _St Pauli</td>\n      <td>NaN</td>\n      <td>NaN</td>\n    </tr>\n    <tr>\n      <th>4475</th>\n      <td>FC Koln_Kaiserslautern</td>\n      <td>NaN</td>\n      <td>NaN</td>\n    </tr>\n    <tr>\n      <th>4479</th>\n      <td>Kaiserslautern _M'gladbach</td>\n      <td>NaN</td>\n      <td>NaN</td>\n    </tr>\n    <tr>\n      <th>4559</th>\n      <td>Kaiserslautern _Paderborn</td>\n      <td>NaN</td>\n      <td>NaN</td>\n    </tr>\n    <tr>\n      <th>4578</th>\n      <td>Mainz_Offenbach</td>\n      <td>NaN</td>\n      <td>NaN</td>\n    </tr>\n    <tr>\n      <th>4657</th>\n      <td>Erzgebirge Aue_Kaiserslautern</td>\n      <td>NaN</td>\n      <td>NaN</td>\n    </tr>\n    <tr>\n      <th>4755</th>\n      <td>CZ Jena_Kaiserslautern</td>\n      <td>NaN</td>\n      <td>NaN</td>\n    </tr>\n    <tr>\n      <th>4815</th>\n      <td>Ingolstadt_Kaiserslautern</td>\n      <td>NaN</td>\n      <td>NaN</td>\n    </tr>\n    <tr>\n      <th>4898</th>\n      <td>Kaiserslautern _Koblenz</td>\n      <td>NaN</td>\n      <td>NaN</td>\n    </tr>\n    <tr>\n      <th>4929</th>\n      <td>Kaiserslautern _Oberhausen</td>\n      <td>NaN</td>\n      <td>NaN</td>\n    </tr>\n    <tr>\n      <th>5053</th>\n      <td>Duisburg_Kaiserslautern</td>\n      <td>NaN</td>\n      <td>NaN</td>\n    </tr>\n    <tr>\n      <th>5110</th>\n      <td>Kaiserslautern _Nurnberg</td>\n      <td>NaN</td>\n      <td>NaN</td>\n    </tr>\n    <tr>\n      <th>5163</th>\n      <td>Frankfurt FSV_Kaiserslautern</td>\n      <td>NaN</td>\n      <td>NaN</td>\n    </tr>\n    <tr>\n      <th>5213</th>\n      <td>Ahlen_Kaiserslautern</td>\n      <td>NaN</td>\n      <td>NaN</td>\n    </tr>\n    <tr>\n      <th>5270</th>\n      <td>Kaiserslautern _Munich 1860</td>\n      <td>NaN</td>\n      <td>NaN</td>\n    </tr>\n    <tr>\n      <th>5291</th>\n      <td>Hansa Rostock_Kaiserslautern</td>\n      <td>NaN</td>\n      <td>NaN</td>\n    </tr>\n    <tr>\n      <th>11864</th>\n      <td>Hamburg_Wehen</td>\n      <td>NaN</td>\n      <td>NaN</td>\n    </tr>\n    <tr>\n      <th>13147</th>\n      <td>Fortuna Dusseldorf_Magdeburg</td>\n      <td>NaN</td>\n      <td>NaN</td>\n    </tr>\n    <tr>\n      <th>13161</th>\n      <td>Karlsruhe_Magdeburg</td>\n      <td>NaN</td>\n      <td>NaN</td>\n    </tr>\n    <tr>\n      <th>13200</th>\n      <td>Hannover_Magdeburg</td>\n      <td>NaN</td>\n      <td>NaN</td>\n    </tr>\n    <tr>\n      <th>13229</th>\n      <td>Kaiserslautern_Magdeburg</td>\n      <td>NaN</td>\n      <td>NaN</td>\n    </tr>\n    <tr>\n      <th>13280</th>\n      <td>Hansa Rostock_Magdeburg</td>\n      <td>NaN</td>\n      <td>NaN</td>\n    </tr>\n    <tr>\n      <th>13329</th>\n      <td>Braunschweig_Magdeburg</td>\n      <td>NaN</td>\n      <td>NaN</td>\n    </tr>\n    <tr>\n      <th>13394</th>\n      <td>Magdeburg_Nurnberg</td>\n      <td>NaN</td>\n      <td>NaN</td>\n    </tr>\n    <tr>\n      <th>13451</th>\n      <td>Fortuna Dusseldorf_Magdeburg</td>\n      <td>NaN</td>\n      <td>NaN</td>\n    </tr>\n    <tr>\n      <th>13481</th>\n      <td>Karlsruhe_Magdeburg</td>\n      <td>NaN</td>\n      <td>NaN</td>\n    </tr>\n    <tr>\n      <th>13536</th>\n      <td>Hannover_Magdeburg</td>\n      <td>NaN</td>\n      <td>NaN</td>\n    </tr>\n    <tr>\n      <th>13541</th>\n      <td>Kaiserslautern_Magdeburg</td>\n      <td>NaN</td>\n      <td>NaN</td>\n    </tr>\n    <tr>\n      <th>13610</th>\n      <td>Hansa Rostock_Magdeburg</td>\n      <td>NaN</td>\n      <td>NaN</td>\n    </tr>\n    <tr>\n      <th>13654</th>\n      <td>Braunschweig_Magdeburg</td>\n      <td>NaN</td>\n      <td>NaN</td>\n    </tr>\n    <tr>\n      <th>13702</th>\n      <td>Magdeburg_Nurnberg</td>\n      <td>NaN</td>\n      <td>NaN</td>\n    </tr>\n  </tbody>\n</table>\n</div>"
     },
     "metadata": {},
     "output_type": "display_data"
    },
    {
     "data": {
      "text/plain": "14"
     },
     "metadata": {},
     "output_type": "display_data"
    },
    {
     "name": "stdout",
     "output_type": "stream",
     "text": [
      "done df_germany\n"
     ]
    },
    {
     "data": {
      "text/plain": "                            MatchTeams  LastMatchHomeGoals  LastMatchAwayGoals\n55                      Athinaikos_OFI                 NaN                 NaN\n125                      PAOK_Yiannina                 NaN                 NaN\n148               Eth Asteras_Kalamata                 NaN                 NaN\n216                Kalamata_Paniliakos                 NaN                 NaN\n1160               Akratitos_Kallithea                 NaN                 NaN\n1317                  Kallithea_Xanthi                 NaN                 NaN\n1937          Levadeiakos_Thrasyvoulos                 NaN                 NaN\n2402        Ergotelis_Olympiakos Volou                 NaN                 NaN\n3193                     Apollon_Veria                 NaN                 NaN\n3264             Niki Volos_Olympiakos                 NaN                 NaN\n3282                   Niki Volos_PAOK                 NaN                 NaN\n3293              Ergotelis_Niki Volos                 NaN                 NaN\n3304          Niki Volos_Panathinaikos                 NaN                 NaN\n3309           Niki Volos_Panthrakikos                 NaN                 NaN\n3324                 Niki Volos_Xanthi                 NaN                 NaN\n3329                Kerkyra_Niki Volos                 NaN                 NaN\n3339               Giannina_Niki Volos                 NaN                 NaN\n3358       Asteras Tripolis_Niki Volos                 NaN                 NaN\n3363               Kallonis_Niki Volos                 NaN                 NaN\n3368              Niki Volos_Platanias                 NaN                 NaN\n3382                  Niki Volos_Veria                 NaN                 NaN\n3482            Levadeiakos_Niki Volos                 NaN                 NaN\n5166  Apollon Apollon_Asteras Tripolis                 NaN                 NaN\n5221             Levadeiakos_Volos NFC                 NaN                 NaN\n5317             Levadeiakos_Volos NFC                 NaN                 NaN",
      "text/html": "<div>\n<style scoped>\n    .dataframe tbody tr th:only-of-type {\n        vertical-align: middle;\n    }\n\n    .dataframe tbody tr th {\n        vertical-align: top;\n    }\n\n    .dataframe thead th {\n        text-align: right;\n    }\n</style>\n<table border=\"1\" class=\"dataframe\">\n  <thead>\n    <tr style=\"text-align: right;\">\n      <th></th>\n      <th>MatchTeams</th>\n      <th>LastMatchHomeGoals</th>\n      <th>LastMatchAwayGoals</th>\n    </tr>\n  </thead>\n  <tbody>\n    <tr>\n      <th>55</th>\n      <td>Athinaikos_OFI</td>\n      <td>NaN</td>\n      <td>NaN</td>\n    </tr>\n    <tr>\n      <th>125</th>\n      <td>PAOK_Yiannina</td>\n      <td>NaN</td>\n      <td>NaN</td>\n    </tr>\n    <tr>\n      <th>148</th>\n      <td>Eth Asteras_Kalamata</td>\n      <td>NaN</td>\n      <td>NaN</td>\n    </tr>\n    <tr>\n      <th>216</th>\n      <td>Kalamata_Paniliakos</td>\n      <td>NaN</td>\n      <td>NaN</td>\n    </tr>\n    <tr>\n      <th>1160</th>\n      <td>Akratitos_Kallithea</td>\n      <td>NaN</td>\n      <td>NaN</td>\n    </tr>\n    <tr>\n      <th>1317</th>\n      <td>Kallithea_Xanthi</td>\n      <td>NaN</td>\n      <td>NaN</td>\n    </tr>\n    <tr>\n      <th>1937</th>\n      <td>Levadeiakos_Thrasyvoulos</td>\n      <td>NaN</td>\n      <td>NaN</td>\n    </tr>\n    <tr>\n      <th>2402</th>\n      <td>Ergotelis_Olympiakos Volou</td>\n      <td>NaN</td>\n      <td>NaN</td>\n    </tr>\n    <tr>\n      <th>3193</th>\n      <td>Apollon_Veria</td>\n      <td>NaN</td>\n      <td>NaN</td>\n    </tr>\n    <tr>\n      <th>3264</th>\n      <td>Niki Volos_Olympiakos</td>\n      <td>NaN</td>\n      <td>NaN</td>\n    </tr>\n    <tr>\n      <th>3282</th>\n      <td>Niki Volos_PAOK</td>\n      <td>NaN</td>\n      <td>NaN</td>\n    </tr>\n    <tr>\n      <th>3293</th>\n      <td>Ergotelis_Niki Volos</td>\n      <td>NaN</td>\n      <td>NaN</td>\n    </tr>\n    <tr>\n      <th>3304</th>\n      <td>Niki Volos_Panathinaikos</td>\n      <td>NaN</td>\n      <td>NaN</td>\n    </tr>\n    <tr>\n      <th>3309</th>\n      <td>Niki Volos_Panthrakikos</td>\n      <td>NaN</td>\n      <td>NaN</td>\n    </tr>\n    <tr>\n      <th>3324</th>\n      <td>Niki Volos_Xanthi</td>\n      <td>NaN</td>\n      <td>NaN</td>\n    </tr>\n    <tr>\n      <th>3329</th>\n      <td>Kerkyra_Niki Volos</td>\n      <td>NaN</td>\n      <td>NaN</td>\n    </tr>\n    <tr>\n      <th>3339</th>\n      <td>Giannina_Niki Volos</td>\n      <td>NaN</td>\n      <td>NaN</td>\n    </tr>\n    <tr>\n      <th>3358</th>\n      <td>Asteras Tripolis_Niki Volos</td>\n      <td>NaN</td>\n      <td>NaN</td>\n    </tr>\n    <tr>\n      <th>3363</th>\n      <td>Kallonis_Niki Volos</td>\n      <td>NaN</td>\n      <td>NaN</td>\n    </tr>\n    <tr>\n      <th>3368</th>\n      <td>Niki Volos_Platanias</td>\n      <td>NaN</td>\n      <td>NaN</td>\n    </tr>\n    <tr>\n      <th>3382</th>\n      <td>Niki Volos_Veria</td>\n      <td>NaN</td>\n      <td>NaN</td>\n    </tr>\n    <tr>\n      <th>3482</th>\n      <td>Levadeiakos_Niki Volos</td>\n      <td>NaN</td>\n      <td>NaN</td>\n    </tr>\n    <tr>\n      <th>5166</th>\n      <td>Apollon Apollon_Asteras Tripolis</td>\n      <td>NaN</td>\n      <td>NaN</td>\n    </tr>\n    <tr>\n      <th>5221</th>\n      <td>Levadeiakos_Volos NFC</td>\n      <td>NaN</td>\n      <td>NaN</td>\n    </tr>\n    <tr>\n      <th>5317</th>\n      <td>Levadeiakos_Volos NFC</td>\n      <td>NaN</td>\n      <td>NaN</td>\n    </tr>\n  </tbody>\n</table>\n</div>"
     },
     "metadata": {},
     "output_type": "display_data"
    },
    {
     "data": {
      "text/plain": "                            MatchTeams  LastMatchHomeGoals  LastMatchAwayGoals\n55                      Athinaikos_OFI                 NaN                 NaN\n125                      PAOK_Yiannina                 NaN                 NaN\n148               Eth Asteras_Kalamata                 NaN                 NaN\n216                Kalamata_Paniliakos                 NaN                 NaN\n1160               Akratitos_Kallithea                 NaN                 NaN\n1317                  Kallithea_Xanthi                 NaN                 NaN\n1937          Levadeiakos_Thrasyvoulos                 NaN                 NaN\n2402        Ergotelis_Olympiakos Volou                 NaN                 NaN\n3193                     Apollon_Veria                 NaN                 NaN\n3264             Niki Volos_Olympiakos                 NaN                 NaN\n3282                   Niki Volos_PAOK                 NaN                 NaN\n3293              Ergotelis_Niki Volos                 NaN                 NaN\n3304          Niki Volos_Panathinaikos                 NaN                 NaN\n3309           Niki Volos_Panthrakikos                 NaN                 NaN\n3324                 Niki Volos_Xanthi                 NaN                 NaN\n3329                Kerkyra_Niki Volos                 NaN                 NaN\n3339               Giannina_Niki Volos                 NaN                 NaN\n3358       Asteras Tripolis_Niki Volos                 NaN                 NaN\n3363               Kallonis_Niki Volos                 NaN                 NaN\n3368              Niki Volos_Platanias                 NaN                 NaN\n3382                  Niki Volos_Veria                 NaN                 NaN\n3482            Levadeiakos_Niki Volos                 NaN                 NaN\n5166  Apollon Apollon_Asteras Tripolis                 NaN                 NaN\n5221             Levadeiakos_Volos NFC                 NaN                 NaN\n5317             Levadeiakos_Volos NFC                 NaN                 NaN",
      "text/html": "<div>\n<style scoped>\n    .dataframe tbody tr th:only-of-type {\n        vertical-align: middle;\n    }\n\n    .dataframe tbody tr th {\n        vertical-align: top;\n    }\n\n    .dataframe thead th {\n        text-align: right;\n    }\n</style>\n<table border=\"1\" class=\"dataframe\">\n  <thead>\n    <tr style=\"text-align: right;\">\n      <th></th>\n      <th>MatchTeams</th>\n      <th>LastMatchHomeGoals</th>\n      <th>LastMatchAwayGoals</th>\n    </tr>\n  </thead>\n  <tbody>\n    <tr>\n      <th>55</th>\n      <td>Athinaikos_OFI</td>\n      <td>NaN</td>\n      <td>NaN</td>\n    </tr>\n    <tr>\n      <th>125</th>\n      <td>PAOK_Yiannina</td>\n      <td>NaN</td>\n      <td>NaN</td>\n    </tr>\n    <tr>\n      <th>148</th>\n      <td>Eth Asteras_Kalamata</td>\n      <td>NaN</td>\n      <td>NaN</td>\n    </tr>\n    <tr>\n      <th>216</th>\n      <td>Kalamata_Paniliakos</td>\n      <td>NaN</td>\n      <td>NaN</td>\n    </tr>\n    <tr>\n      <th>1160</th>\n      <td>Akratitos_Kallithea</td>\n      <td>NaN</td>\n      <td>NaN</td>\n    </tr>\n    <tr>\n      <th>1317</th>\n      <td>Kallithea_Xanthi</td>\n      <td>NaN</td>\n      <td>NaN</td>\n    </tr>\n    <tr>\n      <th>1937</th>\n      <td>Levadeiakos_Thrasyvoulos</td>\n      <td>NaN</td>\n      <td>NaN</td>\n    </tr>\n    <tr>\n      <th>2402</th>\n      <td>Ergotelis_Olympiakos Volou</td>\n      <td>NaN</td>\n      <td>NaN</td>\n    </tr>\n    <tr>\n      <th>3193</th>\n      <td>Apollon_Veria</td>\n      <td>NaN</td>\n      <td>NaN</td>\n    </tr>\n    <tr>\n      <th>3264</th>\n      <td>Niki Volos_Olympiakos</td>\n      <td>NaN</td>\n      <td>NaN</td>\n    </tr>\n    <tr>\n      <th>3282</th>\n      <td>Niki Volos_PAOK</td>\n      <td>NaN</td>\n      <td>NaN</td>\n    </tr>\n    <tr>\n      <th>3293</th>\n      <td>Ergotelis_Niki Volos</td>\n      <td>NaN</td>\n      <td>NaN</td>\n    </tr>\n    <tr>\n      <th>3304</th>\n      <td>Niki Volos_Panathinaikos</td>\n      <td>NaN</td>\n      <td>NaN</td>\n    </tr>\n    <tr>\n      <th>3309</th>\n      <td>Niki Volos_Panthrakikos</td>\n      <td>NaN</td>\n      <td>NaN</td>\n    </tr>\n    <tr>\n      <th>3324</th>\n      <td>Niki Volos_Xanthi</td>\n      <td>NaN</td>\n      <td>NaN</td>\n    </tr>\n    <tr>\n      <th>3329</th>\n      <td>Kerkyra_Niki Volos</td>\n      <td>NaN</td>\n      <td>NaN</td>\n    </tr>\n    <tr>\n      <th>3339</th>\n      <td>Giannina_Niki Volos</td>\n      <td>NaN</td>\n      <td>NaN</td>\n    </tr>\n    <tr>\n      <th>3358</th>\n      <td>Asteras Tripolis_Niki Volos</td>\n      <td>NaN</td>\n      <td>NaN</td>\n    </tr>\n    <tr>\n      <th>3363</th>\n      <td>Kallonis_Niki Volos</td>\n      <td>NaN</td>\n      <td>NaN</td>\n    </tr>\n    <tr>\n      <th>3368</th>\n      <td>Niki Volos_Platanias</td>\n      <td>NaN</td>\n      <td>NaN</td>\n    </tr>\n    <tr>\n      <th>3382</th>\n      <td>Niki Volos_Veria</td>\n      <td>NaN</td>\n      <td>NaN</td>\n    </tr>\n    <tr>\n      <th>3482</th>\n      <td>Levadeiakos_Niki Volos</td>\n      <td>NaN</td>\n      <td>NaN</td>\n    </tr>\n    <tr>\n      <th>5166</th>\n      <td>Apollon Apollon_Asteras Tripolis</td>\n      <td>NaN</td>\n      <td>NaN</td>\n    </tr>\n    <tr>\n      <th>5221</th>\n      <td>Levadeiakos_Volos NFC</td>\n      <td>NaN</td>\n      <td>NaN</td>\n    </tr>\n    <tr>\n      <th>5317</th>\n      <td>Levadeiakos_Volos NFC</td>\n      <td>NaN</td>\n      <td>NaN</td>\n    </tr>\n  </tbody>\n</table>\n</div>"
     },
     "metadata": {},
     "output_type": "display_data"
    },
    {
     "data": {
      "text/plain": "2"
     },
     "metadata": {},
     "output_type": "display_data"
    },
    {
     "name": "stdout",
     "output_type": "stream",
     "text": [
      "done df_greece\n"
     ]
    },
    {
     "data": {
      "text/plain": "               MatchTeams  LastMatchHomeGoals  LastMatchAwayGoals\n16       Pistoiese_Torino                 NaN                 NaN\n216     Pistoiese_Venezia                 NaN                 NaN\n487         Ravenna_Siena                 NaN                 NaN\n497         Inter_Vicenza                 NaN                 NaN\n1465           Como_Inter                 NaN                 NaN\n...                   ...                 ...                 ...\n17959  Cremonese_Juventus                 NaN                 NaN\n17964     Modena_Sudtirol                 NaN                 NaN\n17972      Monza_Sassuolo                 NaN                 NaN\n17990     Cremonese_Lazio                 NaN                 NaN\n17998      Atalanta_Monza                 NaN                 NaN\n\n[132 rows x 3 columns]",
      "text/html": "<div>\n<style scoped>\n    .dataframe tbody tr th:only-of-type {\n        vertical-align: middle;\n    }\n\n    .dataframe tbody tr th {\n        vertical-align: top;\n    }\n\n    .dataframe thead th {\n        text-align: right;\n    }\n</style>\n<table border=\"1\" class=\"dataframe\">\n  <thead>\n    <tr style=\"text-align: right;\">\n      <th></th>\n      <th>MatchTeams</th>\n      <th>LastMatchHomeGoals</th>\n      <th>LastMatchAwayGoals</th>\n    </tr>\n  </thead>\n  <tbody>\n    <tr>\n      <th>16</th>\n      <td>Pistoiese_Torino</td>\n      <td>NaN</td>\n      <td>NaN</td>\n    </tr>\n    <tr>\n      <th>216</th>\n      <td>Pistoiese_Venezia</td>\n      <td>NaN</td>\n      <td>NaN</td>\n    </tr>\n    <tr>\n      <th>487</th>\n      <td>Ravenna_Siena</td>\n      <td>NaN</td>\n      <td>NaN</td>\n    </tr>\n    <tr>\n      <th>497</th>\n      <td>Inter_Vicenza</td>\n      <td>NaN</td>\n      <td>NaN</td>\n    </tr>\n    <tr>\n      <th>1465</th>\n      <td>Como_Inter</td>\n      <td>NaN</td>\n      <td>NaN</td>\n    </tr>\n    <tr>\n      <th>...</th>\n      <td>...</td>\n      <td>...</td>\n      <td>...</td>\n    </tr>\n    <tr>\n      <th>17959</th>\n      <td>Cremonese_Juventus</td>\n      <td>NaN</td>\n      <td>NaN</td>\n    </tr>\n    <tr>\n      <th>17964</th>\n      <td>Modena_Sudtirol</td>\n      <td>NaN</td>\n      <td>NaN</td>\n    </tr>\n    <tr>\n      <th>17972</th>\n      <td>Monza_Sassuolo</td>\n      <td>NaN</td>\n      <td>NaN</td>\n    </tr>\n    <tr>\n      <th>17990</th>\n      <td>Cremonese_Lazio</td>\n      <td>NaN</td>\n      <td>NaN</td>\n    </tr>\n    <tr>\n      <th>17998</th>\n      <td>Atalanta_Monza</td>\n      <td>NaN</td>\n      <td>NaN</td>\n    </tr>\n  </tbody>\n</table>\n<p>132 rows × 3 columns</p>\n</div>"
     },
     "metadata": {},
     "output_type": "display_data"
    },
    {
     "data": {
      "text/plain": "               MatchTeams  LastMatchHomeGoals  LastMatchAwayGoals\n16       Pistoiese_Torino                 NaN                 NaN\n216     Pistoiese_Venezia                 NaN                 NaN\n487         Ravenna_Siena                 NaN                 NaN\n497         Inter_Vicenza                 NaN                 NaN\n1465           Como_Inter                 NaN                 NaN\n...                   ...                 ...                 ...\n17959  Cremonese_Juventus                 NaN                 NaN\n17964     Modena_Sudtirol                 NaN                 NaN\n17972      Monza_Sassuolo                 NaN                 NaN\n17990     Cremonese_Lazio                 NaN                 NaN\n17998      Atalanta_Monza                 NaN                 NaN\n\n[132 rows x 3 columns]",
      "text/html": "<div>\n<style scoped>\n    .dataframe tbody tr th:only-of-type {\n        vertical-align: middle;\n    }\n\n    .dataframe tbody tr th {\n        vertical-align: top;\n    }\n\n    .dataframe thead th {\n        text-align: right;\n    }\n</style>\n<table border=\"1\" class=\"dataframe\">\n  <thead>\n    <tr style=\"text-align: right;\">\n      <th></th>\n      <th>MatchTeams</th>\n      <th>LastMatchHomeGoals</th>\n      <th>LastMatchAwayGoals</th>\n    </tr>\n  </thead>\n  <tbody>\n    <tr>\n      <th>16</th>\n      <td>Pistoiese_Torino</td>\n      <td>NaN</td>\n      <td>NaN</td>\n    </tr>\n    <tr>\n      <th>216</th>\n      <td>Pistoiese_Venezia</td>\n      <td>NaN</td>\n      <td>NaN</td>\n    </tr>\n    <tr>\n      <th>487</th>\n      <td>Ravenna_Siena</td>\n      <td>NaN</td>\n      <td>NaN</td>\n    </tr>\n    <tr>\n      <th>497</th>\n      <td>Inter_Vicenza</td>\n      <td>NaN</td>\n      <td>NaN</td>\n    </tr>\n    <tr>\n      <th>1465</th>\n      <td>Como_Inter</td>\n      <td>NaN</td>\n      <td>NaN</td>\n    </tr>\n    <tr>\n      <th>...</th>\n      <td>...</td>\n      <td>...</td>\n      <td>...</td>\n    </tr>\n    <tr>\n      <th>17959</th>\n      <td>Cremonese_Juventus</td>\n      <td>NaN</td>\n      <td>NaN</td>\n    </tr>\n    <tr>\n      <th>17964</th>\n      <td>Modena_Sudtirol</td>\n      <td>NaN</td>\n      <td>NaN</td>\n    </tr>\n    <tr>\n      <th>17972</th>\n      <td>Monza_Sassuolo</td>\n      <td>NaN</td>\n      <td>NaN</td>\n    </tr>\n    <tr>\n      <th>17990</th>\n      <td>Cremonese_Lazio</td>\n      <td>NaN</td>\n      <td>NaN</td>\n    </tr>\n    <tr>\n      <th>17998</th>\n      <td>Atalanta_Monza</td>\n      <td>NaN</td>\n      <td>NaN</td>\n    </tr>\n  </tbody>\n</table>\n<p>132 rows × 3 columns</p>\n</div>"
     },
     "metadata": {},
     "output_type": "display_data"
    },
    {
     "data": {
      "text/plain": "96"
     },
     "metadata": {},
     "output_type": "display_data"
    },
    {
     "name": "stdout",
     "output_type": "stream",
     "text": [
      "done df_italy\n"
     ]
    },
    {
     "data": {
      "text/plain": "                     MatchTeams  LastMatchHomeGoals  LastMatchAwayGoals\n3070        Heracles _NAC Breda                 NaN                 NaN\n3071             Nijmegen_Roda                  NaN                 NaN\n3072     PSV Eindhoven_Vitesse                  NaN                 NaN\n3073     AZ Alkmaar_Graafschap                  NaN                 NaN\n3074          Twente_Willem II                  NaN                 NaN\n3075         Excelsior_Utrecht                  NaN                 NaN\n3076        Den Haag_Groningen                  NaN                 NaN\n3077           Ajax _Heerenveen                 NaN                 NaN\n3078       Feyenoord _VVV Venlo                 NaN                 NaN\n6523  Sparta Rotterdam_Volendam                 NaN                 NaN\n6530   Go Ahead Eagles_Volendam                 NaN                 NaN\n6544   FC Emmen_Go Ahead Eagles                 NaN                 NaN\n6555       For Sittard_Volendam                 NaN                 NaN\n6566          FC Emmen_Volendam                 NaN                 NaN\n6617           Cambuur_Volendam                 NaN                 NaN\n6626           Cambuur_FC Emmen                 NaN                 NaN\n6629         Excelsior_Volendam                 NaN                 NaN\n6630          FC Emmen_Nijmegen                 NaN                 NaN\n6689   FC Emmen_Go Ahead Eagles                 NaN                 NaN\n6695          FC Emmen_Volendam                 NaN                 NaN\n6709       For Sittard_Volendam                 NaN                 NaN\n6720           Cambuur_FC Emmen                 NaN                 NaN\n6733          FC Emmen_Nijmegen                 NaN                 NaN\n6746           Cambuur_Volendam                 NaN                 NaN\n6765  Sparta Rotterdam_Volendam                 NaN                 NaN\n6773   Go Ahead Eagles_Volendam                 NaN                 NaN\n6790         Excelsior_Volendam                 NaN                 NaN",
      "text/html": "<div>\n<style scoped>\n    .dataframe tbody tr th:only-of-type {\n        vertical-align: middle;\n    }\n\n    .dataframe tbody tr th {\n        vertical-align: top;\n    }\n\n    .dataframe thead th {\n        text-align: right;\n    }\n</style>\n<table border=\"1\" class=\"dataframe\">\n  <thead>\n    <tr style=\"text-align: right;\">\n      <th></th>\n      <th>MatchTeams</th>\n      <th>LastMatchHomeGoals</th>\n      <th>LastMatchAwayGoals</th>\n    </tr>\n  </thead>\n  <tbody>\n    <tr>\n      <th>3070</th>\n      <td>Heracles _NAC Breda</td>\n      <td>NaN</td>\n      <td>NaN</td>\n    </tr>\n    <tr>\n      <th>3071</th>\n      <td>Nijmegen_Roda</td>\n      <td>NaN</td>\n      <td>NaN</td>\n    </tr>\n    <tr>\n      <th>3072</th>\n      <td>PSV Eindhoven_Vitesse</td>\n      <td>NaN</td>\n      <td>NaN</td>\n    </tr>\n    <tr>\n      <th>3073</th>\n      <td>AZ Alkmaar_Graafschap</td>\n      <td>NaN</td>\n      <td>NaN</td>\n    </tr>\n    <tr>\n      <th>3074</th>\n      <td>Twente_Willem II</td>\n      <td>NaN</td>\n      <td>NaN</td>\n    </tr>\n    <tr>\n      <th>3075</th>\n      <td>Excelsior_Utrecht</td>\n      <td>NaN</td>\n      <td>NaN</td>\n    </tr>\n    <tr>\n      <th>3076</th>\n      <td>Den Haag_Groningen</td>\n      <td>NaN</td>\n      <td>NaN</td>\n    </tr>\n    <tr>\n      <th>3077</th>\n      <td>Ajax _Heerenveen</td>\n      <td>NaN</td>\n      <td>NaN</td>\n    </tr>\n    <tr>\n      <th>3078</th>\n      <td>Feyenoord _VVV Venlo</td>\n      <td>NaN</td>\n      <td>NaN</td>\n    </tr>\n    <tr>\n      <th>6523</th>\n      <td>Sparta Rotterdam_Volendam</td>\n      <td>NaN</td>\n      <td>NaN</td>\n    </tr>\n    <tr>\n      <th>6530</th>\n      <td>Go Ahead Eagles_Volendam</td>\n      <td>NaN</td>\n      <td>NaN</td>\n    </tr>\n    <tr>\n      <th>6544</th>\n      <td>FC Emmen_Go Ahead Eagles</td>\n      <td>NaN</td>\n      <td>NaN</td>\n    </tr>\n    <tr>\n      <th>6555</th>\n      <td>For Sittard_Volendam</td>\n      <td>NaN</td>\n      <td>NaN</td>\n    </tr>\n    <tr>\n      <th>6566</th>\n      <td>FC Emmen_Volendam</td>\n      <td>NaN</td>\n      <td>NaN</td>\n    </tr>\n    <tr>\n      <th>6617</th>\n      <td>Cambuur_Volendam</td>\n      <td>NaN</td>\n      <td>NaN</td>\n    </tr>\n    <tr>\n      <th>6626</th>\n      <td>Cambuur_FC Emmen</td>\n      <td>NaN</td>\n      <td>NaN</td>\n    </tr>\n    <tr>\n      <th>6629</th>\n      <td>Excelsior_Volendam</td>\n      <td>NaN</td>\n      <td>NaN</td>\n    </tr>\n    <tr>\n      <th>6630</th>\n      <td>FC Emmen_Nijmegen</td>\n      <td>NaN</td>\n      <td>NaN</td>\n    </tr>\n    <tr>\n      <th>6689</th>\n      <td>FC Emmen_Go Ahead Eagles</td>\n      <td>NaN</td>\n      <td>NaN</td>\n    </tr>\n    <tr>\n      <th>6695</th>\n      <td>FC Emmen_Volendam</td>\n      <td>NaN</td>\n      <td>NaN</td>\n    </tr>\n    <tr>\n      <th>6709</th>\n      <td>For Sittard_Volendam</td>\n      <td>NaN</td>\n      <td>NaN</td>\n    </tr>\n    <tr>\n      <th>6720</th>\n      <td>Cambuur_FC Emmen</td>\n      <td>NaN</td>\n      <td>NaN</td>\n    </tr>\n    <tr>\n      <th>6733</th>\n      <td>FC Emmen_Nijmegen</td>\n      <td>NaN</td>\n      <td>NaN</td>\n    </tr>\n    <tr>\n      <th>6746</th>\n      <td>Cambuur_Volendam</td>\n      <td>NaN</td>\n      <td>NaN</td>\n    </tr>\n    <tr>\n      <th>6765</th>\n      <td>Sparta Rotterdam_Volendam</td>\n      <td>NaN</td>\n      <td>NaN</td>\n    </tr>\n    <tr>\n      <th>6773</th>\n      <td>Go Ahead Eagles_Volendam</td>\n      <td>NaN</td>\n      <td>NaN</td>\n    </tr>\n    <tr>\n      <th>6790</th>\n      <td>Excelsior_Volendam</td>\n      <td>NaN</td>\n      <td>NaN</td>\n    </tr>\n  </tbody>\n</table>\n</div>"
     },
     "metadata": {},
     "output_type": "display_data"
    },
    {
     "data": {
      "text/plain": "                     MatchTeams  LastMatchHomeGoals  LastMatchAwayGoals\n3070        Heracles _NAC Breda                 NaN                 NaN\n3071             Nijmegen_Roda                  NaN                 NaN\n3072     PSV Eindhoven_Vitesse                  NaN                 NaN\n3073     AZ Alkmaar_Graafschap                  NaN                 NaN\n3074          Twente_Willem II                  NaN                 NaN\n3075         Excelsior_Utrecht                  NaN                 NaN\n3076        Den Haag_Groningen                  NaN                 NaN\n3077           Ajax _Heerenveen                 NaN                 NaN\n3078       Feyenoord _VVV Venlo                 NaN                 NaN\n6523  Sparta Rotterdam_Volendam                 NaN                 NaN\n6530   Go Ahead Eagles_Volendam                 NaN                 NaN\n6544   FC Emmen_Go Ahead Eagles                 NaN                 NaN\n6555       For Sittard_Volendam                 NaN                 NaN\n6566          FC Emmen_Volendam                 NaN                 NaN\n6617           Cambuur_Volendam                 NaN                 NaN\n6626           Cambuur_FC Emmen                 NaN                 NaN\n6629         Excelsior_Volendam                 NaN                 NaN\n6630          FC Emmen_Nijmegen                 NaN                 NaN\n6689   FC Emmen_Go Ahead Eagles                 NaN                 NaN\n6695          FC Emmen_Volendam                 NaN                 NaN\n6709       For Sittard_Volendam                 NaN                 NaN\n6720           Cambuur_FC Emmen                 NaN                 NaN\n6733          FC Emmen_Nijmegen                 NaN                 NaN\n6746           Cambuur_Volendam                 NaN                 NaN\n6765  Sparta Rotterdam_Volendam                 NaN                 NaN\n6773   Go Ahead Eagles_Volendam                 NaN                 NaN\n6790         Excelsior_Volendam                 NaN                 NaN",
      "text/html": "<div>\n<style scoped>\n    .dataframe tbody tr th:only-of-type {\n        vertical-align: middle;\n    }\n\n    .dataframe tbody tr th {\n        vertical-align: top;\n    }\n\n    .dataframe thead th {\n        text-align: right;\n    }\n</style>\n<table border=\"1\" class=\"dataframe\">\n  <thead>\n    <tr style=\"text-align: right;\">\n      <th></th>\n      <th>MatchTeams</th>\n      <th>LastMatchHomeGoals</th>\n      <th>LastMatchAwayGoals</th>\n    </tr>\n  </thead>\n  <tbody>\n    <tr>\n      <th>3070</th>\n      <td>Heracles _NAC Breda</td>\n      <td>NaN</td>\n      <td>NaN</td>\n    </tr>\n    <tr>\n      <th>3071</th>\n      <td>Nijmegen_Roda</td>\n      <td>NaN</td>\n      <td>NaN</td>\n    </tr>\n    <tr>\n      <th>3072</th>\n      <td>PSV Eindhoven_Vitesse</td>\n      <td>NaN</td>\n      <td>NaN</td>\n    </tr>\n    <tr>\n      <th>3073</th>\n      <td>AZ Alkmaar_Graafschap</td>\n      <td>NaN</td>\n      <td>NaN</td>\n    </tr>\n    <tr>\n      <th>3074</th>\n      <td>Twente_Willem II</td>\n      <td>NaN</td>\n      <td>NaN</td>\n    </tr>\n    <tr>\n      <th>3075</th>\n      <td>Excelsior_Utrecht</td>\n      <td>NaN</td>\n      <td>NaN</td>\n    </tr>\n    <tr>\n      <th>3076</th>\n      <td>Den Haag_Groningen</td>\n      <td>NaN</td>\n      <td>NaN</td>\n    </tr>\n    <tr>\n      <th>3077</th>\n      <td>Ajax _Heerenveen</td>\n      <td>NaN</td>\n      <td>NaN</td>\n    </tr>\n    <tr>\n      <th>3078</th>\n      <td>Feyenoord _VVV Venlo</td>\n      <td>NaN</td>\n      <td>NaN</td>\n    </tr>\n    <tr>\n      <th>6523</th>\n      <td>Sparta Rotterdam_Volendam</td>\n      <td>NaN</td>\n      <td>NaN</td>\n    </tr>\n    <tr>\n      <th>6530</th>\n      <td>Go Ahead Eagles_Volendam</td>\n      <td>NaN</td>\n      <td>NaN</td>\n    </tr>\n    <tr>\n      <th>6544</th>\n      <td>FC Emmen_Go Ahead Eagles</td>\n      <td>NaN</td>\n      <td>NaN</td>\n    </tr>\n    <tr>\n      <th>6555</th>\n      <td>For Sittard_Volendam</td>\n      <td>NaN</td>\n      <td>NaN</td>\n    </tr>\n    <tr>\n      <th>6566</th>\n      <td>FC Emmen_Volendam</td>\n      <td>NaN</td>\n      <td>NaN</td>\n    </tr>\n    <tr>\n      <th>6617</th>\n      <td>Cambuur_Volendam</td>\n      <td>NaN</td>\n      <td>NaN</td>\n    </tr>\n    <tr>\n      <th>6626</th>\n      <td>Cambuur_FC Emmen</td>\n      <td>NaN</td>\n      <td>NaN</td>\n    </tr>\n    <tr>\n      <th>6629</th>\n      <td>Excelsior_Volendam</td>\n      <td>NaN</td>\n      <td>NaN</td>\n    </tr>\n    <tr>\n      <th>6630</th>\n      <td>FC Emmen_Nijmegen</td>\n      <td>NaN</td>\n      <td>NaN</td>\n    </tr>\n    <tr>\n      <th>6689</th>\n      <td>FC Emmen_Go Ahead Eagles</td>\n      <td>NaN</td>\n      <td>NaN</td>\n    </tr>\n    <tr>\n      <th>6695</th>\n      <td>FC Emmen_Volendam</td>\n      <td>NaN</td>\n      <td>NaN</td>\n    </tr>\n    <tr>\n      <th>6709</th>\n      <td>For Sittard_Volendam</td>\n      <td>NaN</td>\n      <td>NaN</td>\n    </tr>\n    <tr>\n      <th>6720</th>\n      <td>Cambuur_FC Emmen</td>\n      <td>NaN</td>\n      <td>NaN</td>\n    </tr>\n    <tr>\n      <th>6733</th>\n      <td>FC Emmen_Nijmegen</td>\n      <td>NaN</td>\n      <td>NaN</td>\n    </tr>\n    <tr>\n      <th>6746</th>\n      <td>Cambuur_Volendam</td>\n      <td>NaN</td>\n      <td>NaN</td>\n    </tr>\n    <tr>\n      <th>6765</th>\n      <td>Sparta Rotterdam_Volendam</td>\n      <td>NaN</td>\n      <td>NaN</td>\n    </tr>\n    <tr>\n      <th>6773</th>\n      <td>Go Ahead Eagles_Volendam</td>\n      <td>NaN</td>\n      <td>NaN</td>\n    </tr>\n    <tr>\n      <th>6790</th>\n      <td>Excelsior_Volendam</td>\n      <td>NaN</td>\n      <td>NaN</td>\n    </tr>\n  </tbody>\n</table>\n</div>"
     },
     "metadata": {},
     "output_type": "display_data"
    },
    {
     "data": {
      "text/plain": "18"
     },
     "metadata": {},
     "output_type": "display_data"
    },
    {
     "name": "stdout",
     "output_type": "stream",
     "text": [
      "done df_netherlands\n"
     ]
    },
    {
     "data": {
      "text/plain": "                   MatchTeams  LastMatchHomeGoals  LastMatchAwayGoals\n2458         Benfica_Trofense                 NaN                 NaN\n2952       Feirense _Nacional                 NaN                 NaN\n5171           Aves_Famalicao                 NaN                 NaN\n5698     Farense_Portimonense                 NaN                 NaN\n5861            Arouca_Vizela                 NaN                 NaN\n5996      Estoril_Santa Clara                 NaN                 NaN\n6043           Rio Ave_Vizela                 NaN                 NaN\n6048     Casa Pia_Santa Clara                 NaN                 NaN\n6052         Benfica_Casa Pia                 NaN                 NaN\n6062            Chaves_Vizela                 NaN                 NaN\n6064        Boavista_Casa Pia                 NaN                 NaN\n6075       Casa Pia_Guimaraes                 NaN                 NaN\n6082          Arouca_Casa Pia                 NaN                 NaN\n6091  Casa Pia_Pacos Ferreira                 NaN                 NaN\n6103       Casa Pia_Famalicao                 NaN                 NaN\n6113        Casa Pia_Maritimo                 NaN                 NaN\n6120          Casa Pia_Vizela                 NaN                 NaN\n6125       Casa Pia_Sp Lisbon                 NaN                 NaN\n6129       Chaves_Gil Vicente                 NaN                 NaN\n6138         Casa Pia_Rio Ave                 NaN                 NaN\n6147        Casa Pia_Sp Braga                 NaN                 NaN\n6154          Casa Pia_Chaves                 NaN                 NaN\n6160    Casa Pia_Portimonense                 NaN                 NaN\n6165         Chaves_Famalicao                 NaN                 NaN\n6172           Casa Pia_Porto                 NaN                 NaN\n6183         Casa Pia_Estoril                 NaN                 NaN\n6191     Casa Pia_Gil Vicente                 NaN                 NaN\n6197     Casa Pia_Santa Clara                 NaN                 NaN\n6198           Rio Ave_Vizela                 NaN                 NaN\n6205         Benfica_Casa Pia                 NaN                 NaN\n6214            Chaves_Vizela                 NaN                 NaN\n6220        Boavista_Casa Pia                 NaN                 NaN\n6228       Casa Pia_Guimaraes                 NaN                 NaN\n6234          Arouca_Casa Pia                 NaN                 NaN\n6248  Casa Pia_Pacos Ferreira                 NaN                 NaN\n6257       Casa Pia_Famalicao                 NaN                 NaN\n6263        Casa Pia_Maritimo                 NaN                 NaN\n6267          Casa Pia_Vizela                 NaN                 NaN\n6283       Casa Pia_Sp Lisbon                 NaN                 NaN\n6284       Chaves_Gil Vicente                 NaN                 NaN\n6290         Casa Pia_Rio Ave                 NaN                 NaN\n6294        Casa Pia_Sp Braga                 NaN                 NaN\n6299            Arouca_Vizela                 NaN                 NaN\n6306          Casa Pia_Chaves                 NaN                 NaN\n6309      Estoril_Santa Clara                 NaN                 NaN\n6312    Casa Pia_Portimonense                 NaN                 NaN\n6319         Chaves_Famalicao                 NaN                 NaN\n6326           Casa Pia_Porto                 NaN                 NaN\n6336         Casa Pia_Estoril                 NaN                 NaN\n6345     Casa Pia_Gil Vicente                 NaN                 NaN",
      "text/html": "<div>\n<style scoped>\n    .dataframe tbody tr th:only-of-type {\n        vertical-align: middle;\n    }\n\n    .dataframe tbody tr th {\n        vertical-align: top;\n    }\n\n    .dataframe thead th {\n        text-align: right;\n    }\n</style>\n<table border=\"1\" class=\"dataframe\">\n  <thead>\n    <tr style=\"text-align: right;\">\n      <th></th>\n      <th>MatchTeams</th>\n      <th>LastMatchHomeGoals</th>\n      <th>LastMatchAwayGoals</th>\n    </tr>\n  </thead>\n  <tbody>\n    <tr>\n      <th>2458</th>\n      <td>Benfica_Trofense</td>\n      <td>NaN</td>\n      <td>NaN</td>\n    </tr>\n    <tr>\n      <th>2952</th>\n      <td>Feirense _Nacional</td>\n      <td>NaN</td>\n      <td>NaN</td>\n    </tr>\n    <tr>\n      <th>5171</th>\n      <td>Aves_Famalicao</td>\n      <td>NaN</td>\n      <td>NaN</td>\n    </tr>\n    <tr>\n      <th>5698</th>\n      <td>Farense_Portimonense</td>\n      <td>NaN</td>\n      <td>NaN</td>\n    </tr>\n    <tr>\n      <th>5861</th>\n      <td>Arouca_Vizela</td>\n      <td>NaN</td>\n      <td>NaN</td>\n    </tr>\n    <tr>\n      <th>5996</th>\n      <td>Estoril_Santa Clara</td>\n      <td>NaN</td>\n      <td>NaN</td>\n    </tr>\n    <tr>\n      <th>6043</th>\n      <td>Rio Ave_Vizela</td>\n      <td>NaN</td>\n      <td>NaN</td>\n    </tr>\n    <tr>\n      <th>6048</th>\n      <td>Casa Pia_Santa Clara</td>\n      <td>NaN</td>\n      <td>NaN</td>\n    </tr>\n    <tr>\n      <th>6052</th>\n      <td>Benfica_Casa Pia</td>\n      <td>NaN</td>\n      <td>NaN</td>\n    </tr>\n    <tr>\n      <th>6062</th>\n      <td>Chaves_Vizela</td>\n      <td>NaN</td>\n      <td>NaN</td>\n    </tr>\n    <tr>\n      <th>6064</th>\n      <td>Boavista_Casa Pia</td>\n      <td>NaN</td>\n      <td>NaN</td>\n    </tr>\n    <tr>\n      <th>6075</th>\n      <td>Casa Pia_Guimaraes</td>\n      <td>NaN</td>\n      <td>NaN</td>\n    </tr>\n    <tr>\n      <th>6082</th>\n      <td>Arouca_Casa Pia</td>\n      <td>NaN</td>\n      <td>NaN</td>\n    </tr>\n    <tr>\n      <th>6091</th>\n      <td>Casa Pia_Pacos Ferreira</td>\n      <td>NaN</td>\n      <td>NaN</td>\n    </tr>\n    <tr>\n      <th>6103</th>\n      <td>Casa Pia_Famalicao</td>\n      <td>NaN</td>\n      <td>NaN</td>\n    </tr>\n    <tr>\n      <th>6113</th>\n      <td>Casa Pia_Maritimo</td>\n      <td>NaN</td>\n      <td>NaN</td>\n    </tr>\n    <tr>\n      <th>6120</th>\n      <td>Casa Pia_Vizela</td>\n      <td>NaN</td>\n      <td>NaN</td>\n    </tr>\n    <tr>\n      <th>6125</th>\n      <td>Casa Pia_Sp Lisbon</td>\n      <td>NaN</td>\n      <td>NaN</td>\n    </tr>\n    <tr>\n      <th>6129</th>\n      <td>Chaves_Gil Vicente</td>\n      <td>NaN</td>\n      <td>NaN</td>\n    </tr>\n    <tr>\n      <th>6138</th>\n      <td>Casa Pia_Rio Ave</td>\n      <td>NaN</td>\n      <td>NaN</td>\n    </tr>\n    <tr>\n      <th>6147</th>\n      <td>Casa Pia_Sp Braga</td>\n      <td>NaN</td>\n      <td>NaN</td>\n    </tr>\n    <tr>\n      <th>6154</th>\n      <td>Casa Pia_Chaves</td>\n      <td>NaN</td>\n      <td>NaN</td>\n    </tr>\n    <tr>\n      <th>6160</th>\n      <td>Casa Pia_Portimonense</td>\n      <td>NaN</td>\n      <td>NaN</td>\n    </tr>\n    <tr>\n      <th>6165</th>\n      <td>Chaves_Famalicao</td>\n      <td>NaN</td>\n      <td>NaN</td>\n    </tr>\n    <tr>\n      <th>6172</th>\n      <td>Casa Pia_Porto</td>\n      <td>NaN</td>\n      <td>NaN</td>\n    </tr>\n    <tr>\n      <th>6183</th>\n      <td>Casa Pia_Estoril</td>\n      <td>NaN</td>\n      <td>NaN</td>\n    </tr>\n    <tr>\n      <th>6191</th>\n      <td>Casa Pia_Gil Vicente</td>\n      <td>NaN</td>\n      <td>NaN</td>\n    </tr>\n    <tr>\n      <th>6197</th>\n      <td>Casa Pia_Santa Clara</td>\n      <td>NaN</td>\n      <td>NaN</td>\n    </tr>\n    <tr>\n      <th>6198</th>\n      <td>Rio Ave_Vizela</td>\n      <td>NaN</td>\n      <td>NaN</td>\n    </tr>\n    <tr>\n      <th>6205</th>\n      <td>Benfica_Casa Pia</td>\n      <td>NaN</td>\n      <td>NaN</td>\n    </tr>\n    <tr>\n      <th>6214</th>\n      <td>Chaves_Vizela</td>\n      <td>NaN</td>\n      <td>NaN</td>\n    </tr>\n    <tr>\n      <th>6220</th>\n      <td>Boavista_Casa Pia</td>\n      <td>NaN</td>\n      <td>NaN</td>\n    </tr>\n    <tr>\n      <th>6228</th>\n      <td>Casa Pia_Guimaraes</td>\n      <td>NaN</td>\n      <td>NaN</td>\n    </tr>\n    <tr>\n      <th>6234</th>\n      <td>Arouca_Casa Pia</td>\n      <td>NaN</td>\n      <td>NaN</td>\n    </tr>\n    <tr>\n      <th>6248</th>\n      <td>Casa Pia_Pacos Ferreira</td>\n      <td>NaN</td>\n      <td>NaN</td>\n    </tr>\n    <tr>\n      <th>6257</th>\n      <td>Casa Pia_Famalicao</td>\n      <td>NaN</td>\n      <td>NaN</td>\n    </tr>\n    <tr>\n      <th>6263</th>\n      <td>Casa Pia_Maritimo</td>\n      <td>NaN</td>\n      <td>NaN</td>\n    </tr>\n    <tr>\n      <th>6267</th>\n      <td>Casa Pia_Vizela</td>\n      <td>NaN</td>\n      <td>NaN</td>\n    </tr>\n    <tr>\n      <th>6283</th>\n      <td>Casa Pia_Sp Lisbon</td>\n      <td>NaN</td>\n      <td>NaN</td>\n    </tr>\n    <tr>\n      <th>6284</th>\n      <td>Chaves_Gil Vicente</td>\n      <td>NaN</td>\n      <td>NaN</td>\n    </tr>\n    <tr>\n      <th>6290</th>\n      <td>Casa Pia_Rio Ave</td>\n      <td>NaN</td>\n      <td>NaN</td>\n    </tr>\n    <tr>\n      <th>6294</th>\n      <td>Casa Pia_Sp Braga</td>\n      <td>NaN</td>\n      <td>NaN</td>\n    </tr>\n    <tr>\n      <th>6299</th>\n      <td>Arouca_Vizela</td>\n      <td>NaN</td>\n      <td>NaN</td>\n    </tr>\n    <tr>\n      <th>6306</th>\n      <td>Casa Pia_Chaves</td>\n      <td>NaN</td>\n      <td>NaN</td>\n    </tr>\n    <tr>\n      <th>6309</th>\n      <td>Estoril_Santa Clara</td>\n      <td>NaN</td>\n      <td>NaN</td>\n    </tr>\n    <tr>\n      <th>6312</th>\n      <td>Casa Pia_Portimonense</td>\n      <td>NaN</td>\n      <td>NaN</td>\n    </tr>\n    <tr>\n      <th>6319</th>\n      <td>Chaves_Famalicao</td>\n      <td>NaN</td>\n      <td>NaN</td>\n    </tr>\n    <tr>\n      <th>6326</th>\n      <td>Casa Pia_Porto</td>\n      <td>NaN</td>\n      <td>NaN</td>\n    </tr>\n    <tr>\n      <th>6336</th>\n      <td>Casa Pia_Estoril</td>\n      <td>NaN</td>\n      <td>NaN</td>\n    </tr>\n    <tr>\n      <th>6345</th>\n      <td>Casa Pia_Gil Vicente</td>\n      <td>NaN</td>\n      <td>NaN</td>\n    </tr>\n  </tbody>\n</table>\n</div>"
     },
     "metadata": {},
     "output_type": "display_data"
    },
    {
     "data": {
      "text/plain": "                   MatchTeams  LastMatchHomeGoals  LastMatchAwayGoals\n2458         Benfica_Trofense                 NaN                 NaN\n2952       Feirense _Nacional                 NaN                 NaN\n5171           Aves_Famalicao                 NaN                 NaN\n5698     Farense_Portimonense                 NaN                 NaN\n5861            Arouca_Vizela                 NaN                 NaN\n5996      Estoril_Santa Clara                 NaN                 NaN\n6043           Rio Ave_Vizela                 NaN                 NaN\n6048     Casa Pia_Santa Clara                 NaN                 NaN\n6052         Benfica_Casa Pia                 NaN                 NaN\n6062            Chaves_Vizela                 NaN                 NaN\n6064        Boavista_Casa Pia                 NaN                 NaN\n6075       Casa Pia_Guimaraes                 NaN                 NaN\n6082          Arouca_Casa Pia                 NaN                 NaN\n6091  Casa Pia_Pacos Ferreira                 NaN                 NaN\n6103       Casa Pia_Famalicao                 NaN                 NaN\n6113        Casa Pia_Maritimo                 NaN                 NaN\n6120          Casa Pia_Vizela                 NaN                 NaN\n6125       Casa Pia_Sp Lisbon                 NaN                 NaN\n6129       Chaves_Gil Vicente                 NaN                 NaN\n6138         Casa Pia_Rio Ave                 NaN                 NaN\n6147        Casa Pia_Sp Braga                 NaN                 NaN\n6154          Casa Pia_Chaves                 NaN                 NaN\n6160    Casa Pia_Portimonense                 NaN                 NaN\n6165         Chaves_Famalicao                 NaN                 NaN\n6172           Casa Pia_Porto                 NaN                 NaN\n6183         Casa Pia_Estoril                 NaN                 NaN\n6191     Casa Pia_Gil Vicente                 NaN                 NaN\n6197     Casa Pia_Santa Clara                 NaN                 NaN\n6198           Rio Ave_Vizela                 NaN                 NaN\n6205         Benfica_Casa Pia                 NaN                 NaN\n6214            Chaves_Vizela                 NaN                 NaN\n6220        Boavista_Casa Pia                 NaN                 NaN\n6228       Casa Pia_Guimaraes                 NaN                 NaN\n6234          Arouca_Casa Pia                 NaN                 NaN\n6248  Casa Pia_Pacos Ferreira                 NaN                 NaN\n6257       Casa Pia_Famalicao                 NaN                 NaN\n6263        Casa Pia_Maritimo                 NaN                 NaN\n6267          Casa Pia_Vizela                 NaN                 NaN\n6283       Casa Pia_Sp Lisbon                 NaN                 NaN\n6284       Chaves_Gil Vicente                 NaN                 NaN\n6290         Casa Pia_Rio Ave                 NaN                 NaN\n6294        Casa Pia_Sp Braga                 NaN                 NaN\n6299            Arouca_Vizela                 NaN                 NaN\n6306          Casa Pia_Chaves                 NaN                 NaN\n6309      Estoril_Santa Clara                 NaN                 NaN\n6312    Casa Pia_Portimonense                 NaN                 NaN\n6319         Chaves_Famalicao                 NaN                 NaN\n6326           Casa Pia_Porto                 NaN                 NaN\n6336         Casa Pia_Estoril                 NaN                 NaN\n6345     Casa Pia_Gil Vicente                 NaN                 NaN",
      "text/html": "<div>\n<style scoped>\n    .dataframe tbody tr th:only-of-type {\n        vertical-align: middle;\n    }\n\n    .dataframe tbody tr th {\n        vertical-align: top;\n    }\n\n    .dataframe thead th {\n        text-align: right;\n    }\n</style>\n<table border=\"1\" class=\"dataframe\">\n  <thead>\n    <tr style=\"text-align: right;\">\n      <th></th>\n      <th>MatchTeams</th>\n      <th>LastMatchHomeGoals</th>\n      <th>LastMatchAwayGoals</th>\n    </tr>\n  </thead>\n  <tbody>\n    <tr>\n      <th>2458</th>\n      <td>Benfica_Trofense</td>\n      <td>NaN</td>\n      <td>NaN</td>\n    </tr>\n    <tr>\n      <th>2952</th>\n      <td>Feirense _Nacional</td>\n      <td>NaN</td>\n      <td>NaN</td>\n    </tr>\n    <tr>\n      <th>5171</th>\n      <td>Aves_Famalicao</td>\n      <td>NaN</td>\n      <td>NaN</td>\n    </tr>\n    <tr>\n      <th>5698</th>\n      <td>Farense_Portimonense</td>\n      <td>NaN</td>\n      <td>NaN</td>\n    </tr>\n    <tr>\n      <th>5861</th>\n      <td>Arouca_Vizela</td>\n      <td>NaN</td>\n      <td>NaN</td>\n    </tr>\n    <tr>\n      <th>5996</th>\n      <td>Estoril_Santa Clara</td>\n      <td>NaN</td>\n      <td>NaN</td>\n    </tr>\n    <tr>\n      <th>6043</th>\n      <td>Rio Ave_Vizela</td>\n      <td>NaN</td>\n      <td>NaN</td>\n    </tr>\n    <tr>\n      <th>6048</th>\n      <td>Casa Pia_Santa Clara</td>\n      <td>NaN</td>\n      <td>NaN</td>\n    </tr>\n    <tr>\n      <th>6052</th>\n      <td>Benfica_Casa Pia</td>\n      <td>NaN</td>\n      <td>NaN</td>\n    </tr>\n    <tr>\n      <th>6062</th>\n      <td>Chaves_Vizela</td>\n      <td>NaN</td>\n      <td>NaN</td>\n    </tr>\n    <tr>\n      <th>6064</th>\n      <td>Boavista_Casa Pia</td>\n      <td>NaN</td>\n      <td>NaN</td>\n    </tr>\n    <tr>\n      <th>6075</th>\n      <td>Casa Pia_Guimaraes</td>\n      <td>NaN</td>\n      <td>NaN</td>\n    </tr>\n    <tr>\n      <th>6082</th>\n      <td>Arouca_Casa Pia</td>\n      <td>NaN</td>\n      <td>NaN</td>\n    </tr>\n    <tr>\n      <th>6091</th>\n      <td>Casa Pia_Pacos Ferreira</td>\n      <td>NaN</td>\n      <td>NaN</td>\n    </tr>\n    <tr>\n      <th>6103</th>\n      <td>Casa Pia_Famalicao</td>\n      <td>NaN</td>\n      <td>NaN</td>\n    </tr>\n    <tr>\n      <th>6113</th>\n      <td>Casa Pia_Maritimo</td>\n      <td>NaN</td>\n      <td>NaN</td>\n    </tr>\n    <tr>\n      <th>6120</th>\n      <td>Casa Pia_Vizela</td>\n      <td>NaN</td>\n      <td>NaN</td>\n    </tr>\n    <tr>\n      <th>6125</th>\n      <td>Casa Pia_Sp Lisbon</td>\n      <td>NaN</td>\n      <td>NaN</td>\n    </tr>\n    <tr>\n      <th>6129</th>\n      <td>Chaves_Gil Vicente</td>\n      <td>NaN</td>\n      <td>NaN</td>\n    </tr>\n    <tr>\n      <th>6138</th>\n      <td>Casa Pia_Rio Ave</td>\n      <td>NaN</td>\n      <td>NaN</td>\n    </tr>\n    <tr>\n      <th>6147</th>\n      <td>Casa Pia_Sp Braga</td>\n      <td>NaN</td>\n      <td>NaN</td>\n    </tr>\n    <tr>\n      <th>6154</th>\n      <td>Casa Pia_Chaves</td>\n      <td>NaN</td>\n      <td>NaN</td>\n    </tr>\n    <tr>\n      <th>6160</th>\n      <td>Casa Pia_Portimonense</td>\n      <td>NaN</td>\n      <td>NaN</td>\n    </tr>\n    <tr>\n      <th>6165</th>\n      <td>Chaves_Famalicao</td>\n      <td>NaN</td>\n      <td>NaN</td>\n    </tr>\n    <tr>\n      <th>6172</th>\n      <td>Casa Pia_Porto</td>\n      <td>NaN</td>\n      <td>NaN</td>\n    </tr>\n    <tr>\n      <th>6183</th>\n      <td>Casa Pia_Estoril</td>\n      <td>NaN</td>\n      <td>NaN</td>\n    </tr>\n    <tr>\n      <th>6191</th>\n      <td>Casa Pia_Gil Vicente</td>\n      <td>NaN</td>\n      <td>NaN</td>\n    </tr>\n    <tr>\n      <th>6197</th>\n      <td>Casa Pia_Santa Clara</td>\n      <td>NaN</td>\n      <td>NaN</td>\n    </tr>\n    <tr>\n      <th>6198</th>\n      <td>Rio Ave_Vizela</td>\n      <td>NaN</td>\n      <td>NaN</td>\n    </tr>\n    <tr>\n      <th>6205</th>\n      <td>Benfica_Casa Pia</td>\n      <td>NaN</td>\n      <td>NaN</td>\n    </tr>\n    <tr>\n      <th>6214</th>\n      <td>Chaves_Vizela</td>\n      <td>NaN</td>\n      <td>NaN</td>\n    </tr>\n    <tr>\n      <th>6220</th>\n      <td>Boavista_Casa Pia</td>\n      <td>NaN</td>\n      <td>NaN</td>\n    </tr>\n    <tr>\n      <th>6228</th>\n      <td>Casa Pia_Guimaraes</td>\n      <td>NaN</td>\n      <td>NaN</td>\n    </tr>\n    <tr>\n      <th>6234</th>\n      <td>Arouca_Casa Pia</td>\n      <td>NaN</td>\n      <td>NaN</td>\n    </tr>\n    <tr>\n      <th>6248</th>\n      <td>Casa Pia_Pacos Ferreira</td>\n      <td>NaN</td>\n      <td>NaN</td>\n    </tr>\n    <tr>\n      <th>6257</th>\n      <td>Casa Pia_Famalicao</td>\n      <td>NaN</td>\n      <td>NaN</td>\n    </tr>\n    <tr>\n      <th>6263</th>\n      <td>Casa Pia_Maritimo</td>\n      <td>NaN</td>\n      <td>NaN</td>\n    </tr>\n    <tr>\n      <th>6267</th>\n      <td>Casa Pia_Vizela</td>\n      <td>NaN</td>\n      <td>NaN</td>\n    </tr>\n    <tr>\n      <th>6283</th>\n      <td>Casa Pia_Sp Lisbon</td>\n      <td>NaN</td>\n      <td>NaN</td>\n    </tr>\n    <tr>\n      <th>6284</th>\n      <td>Chaves_Gil Vicente</td>\n      <td>NaN</td>\n      <td>NaN</td>\n    </tr>\n    <tr>\n      <th>6290</th>\n      <td>Casa Pia_Rio Ave</td>\n      <td>NaN</td>\n      <td>NaN</td>\n    </tr>\n    <tr>\n      <th>6294</th>\n      <td>Casa Pia_Sp Braga</td>\n      <td>NaN</td>\n      <td>NaN</td>\n    </tr>\n    <tr>\n      <th>6299</th>\n      <td>Arouca_Vizela</td>\n      <td>NaN</td>\n      <td>NaN</td>\n    </tr>\n    <tr>\n      <th>6306</th>\n      <td>Casa Pia_Chaves</td>\n      <td>NaN</td>\n      <td>NaN</td>\n    </tr>\n    <tr>\n      <th>6309</th>\n      <td>Estoril_Santa Clara</td>\n      <td>NaN</td>\n      <td>NaN</td>\n    </tr>\n    <tr>\n      <th>6312</th>\n      <td>Casa Pia_Portimonense</td>\n      <td>NaN</td>\n      <td>NaN</td>\n    </tr>\n    <tr>\n      <th>6319</th>\n      <td>Chaves_Famalicao</td>\n      <td>NaN</td>\n      <td>NaN</td>\n    </tr>\n    <tr>\n      <th>6326</th>\n      <td>Casa Pia_Porto</td>\n      <td>NaN</td>\n      <td>NaN</td>\n    </tr>\n    <tr>\n      <th>6336</th>\n      <td>Casa Pia_Estoril</td>\n      <td>NaN</td>\n      <td>NaN</td>\n    </tr>\n    <tr>\n      <th>6345</th>\n      <td>Casa Pia_Gil Vicente</td>\n      <td>NaN</td>\n      <td>NaN</td>\n    </tr>\n  </tbody>\n</table>\n</div>"
     },
     "metadata": {},
     "output_type": "display_data"
    },
    {
     "data": {
      "text/plain": "42"
     },
     "metadata": {},
     "output_type": "display_data"
    },
    {
     "name": "stdout",
     "output_type": "stream",
     "text": [
      "done df_portugal\n"
     ]
    },
    {
     "data": {
      "text/plain": "                      MatchTeams  LastMatchHomeGoals  LastMatchAwayGoals\n3285           Raith_Ross County                 NaN                 NaN\n16023    Inverness C_Queens Park                 NaN                 NaN\n16028      Bonnyrigg Rose_Forfar                 NaN                 NaN\n16032  FC Edinburgh_Kelty Hearts                 NaN                 NaN\n16034     Cove Rangers_Raith Rvs                 NaN                 NaN\n...                          ...                 ...                 ...\n16743        Cove Rangers_Morton                 NaN                 NaN\n16746         Dundee_Queens Park                 NaN                 NaN\n16750  Kelty Hearts_Queen of Sth                 NaN                 NaN\n16752       Bonnyrigg Rose_Elgin                 NaN                 NaN\n16759   Airdrie Utd_FC Edinburgh                 NaN                 NaN\n\n[157 rows x 3 columns]",
      "text/html": "<div>\n<style scoped>\n    .dataframe tbody tr th:only-of-type {\n        vertical-align: middle;\n    }\n\n    .dataframe tbody tr th {\n        vertical-align: top;\n    }\n\n    .dataframe thead th {\n        text-align: right;\n    }\n</style>\n<table border=\"1\" class=\"dataframe\">\n  <thead>\n    <tr style=\"text-align: right;\">\n      <th></th>\n      <th>MatchTeams</th>\n      <th>LastMatchHomeGoals</th>\n      <th>LastMatchAwayGoals</th>\n    </tr>\n  </thead>\n  <tbody>\n    <tr>\n      <th>3285</th>\n      <td>Raith_Ross County</td>\n      <td>NaN</td>\n      <td>NaN</td>\n    </tr>\n    <tr>\n      <th>16023</th>\n      <td>Inverness C_Queens Park</td>\n      <td>NaN</td>\n      <td>NaN</td>\n    </tr>\n    <tr>\n      <th>16028</th>\n      <td>Bonnyrigg Rose_Forfar</td>\n      <td>NaN</td>\n      <td>NaN</td>\n    </tr>\n    <tr>\n      <th>16032</th>\n      <td>FC Edinburgh_Kelty Hearts</td>\n      <td>NaN</td>\n      <td>NaN</td>\n    </tr>\n    <tr>\n      <th>16034</th>\n      <td>Cove Rangers_Raith Rvs</td>\n      <td>NaN</td>\n      <td>NaN</td>\n    </tr>\n    <tr>\n      <th>...</th>\n      <td>...</td>\n      <td>...</td>\n      <td>...</td>\n    </tr>\n    <tr>\n      <th>16743</th>\n      <td>Cove Rangers_Morton</td>\n      <td>NaN</td>\n      <td>NaN</td>\n    </tr>\n    <tr>\n      <th>16746</th>\n      <td>Dundee_Queens Park</td>\n      <td>NaN</td>\n      <td>NaN</td>\n    </tr>\n    <tr>\n      <th>16750</th>\n      <td>Kelty Hearts_Queen of Sth</td>\n      <td>NaN</td>\n      <td>NaN</td>\n    </tr>\n    <tr>\n      <th>16752</th>\n      <td>Bonnyrigg Rose_Elgin</td>\n      <td>NaN</td>\n      <td>NaN</td>\n    </tr>\n    <tr>\n      <th>16759</th>\n      <td>Airdrie Utd_FC Edinburgh</td>\n      <td>NaN</td>\n      <td>NaN</td>\n    </tr>\n  </tbody>\n</table>\n<p>157 rows × 3 columns</p>\n</div>"
     },
     "metadata": {},
     "output_type": "display_data"
    },
    {
     "data": {
      "text/plain": "                      MatchTeams  LastMatchHomeGoals  LastMatchAwayGoals\n3285           Raith_Ross County                 NaN                 NaN\n16023    Inverness C_Queens Park                 NaN                 NaN\n16028      Bonnyrigg Rose_Forfar                 NaN                 NaN\n16032  FC Edinburgh_Kelty Hearts                 NaN                 NaN\n16034     Cove Rangers_Raith Rvs                 NaN                 NaN\n...                          ...                 ...                 ...\n16743        Cove Rangers_Morton                 NaN                 NaN\n16746         Dundee_Queens Park                 NaN                 NaN\n16750  Kelty Hearts_Queen of Sth                 NaN                 NaN\n16752       Bonnyrigg Rose_Elgin                 NaN                 NaN\n16759   Airdrie Utd_FC Edinburgh                 NaN                 NaN\n\n[157 rows x 3 columns]",
      "text/html": "<div>\n<style scoped>\n    .dataframe tbody tr th:only-of-type {\n        vertical-align: middle;\n    }\n\n    .dataframe tbody tr th {\n        vertical-align: top;\n    }\n\n    .dataframe thead th {\n        text-align: right;\n    }\n</style>\n<table border=\"1\" class=\"dataframe\">\n  <thead>\n    <tr style=\"text-align: right;\">\n      <th></th>\n      <th>MatchTeams</th>\n      <th>LastMatchHomeGoals</th>\n      <th>LastMatchAwayGoals</th>\n    </tr>\n  </thead>\n  <tbody>\n    <tr>\n      <th>3285</th>\n      <td>Raith_Ross County</td>\n      <td>NaN</td>\n      <td>NaN</td>\n    </tr>\n    <tr>\n      <th>16023</th>\n      <td>Inverness C_Queens Park</td>\n      <td>NaN</td>\n      <td>NaN</td>\n    </tr>\n    <tr>\n      <th>16028</th>\n      <td>Bonnyrigg Rose_Forfar</td>\n      <td>NaN</td>\n      <td>NaN</td>\n    </tr>\n    <tr>\n      <th>16032</th>\n      <td>FC Edinburgh_Kelty Hearts</td>\n      <td>NaN</td>\n      <td>NaN</td>\n    </tr>\n    <tr>\n      <th>16034</th>\n      <td>Cove Rangers_Raith Rvs</td>\n      <td>NaN</td>\n      <td>NaN</td>\n    </tr>\n    <tr>\n      <th>...</th>\n      <td>...</td>\n      <td>...</td>\n      <td>...</td>\n    </tr>\n    <tr>\n      <th>16743</th>\n      <td>Cove Rangers_Morton</td>\n      <td>NaN</td>\n      <td>NaN</td>\n    </tr>\n    <tr>\n      <th>16746</th>\n      <td>Dundee_Queens Park</td>\n      <td>NaN</td>\n      <td>NaN</td>\n    </tr>\n    <tr>\n      <th>16750</th>\n      <td>Kelty Hearts_Queen of Sth</td>\n      <td>NaN</td>\n      <td>NaN</td>\n    </tr>\n    <tr>\n      <th>16752</th>\n      <td>Bonnyrigg Rose_Elgin</td>\n      <td>NaN</td>\n      <td>NaN</td>\n    </tr>\n    <tr>\n      <th>16759</th>\n      <td>Airdrie Utd_FC Edinburgh</td>\n      <td>NaN</td>\n      <td>NaN</td>\n    </tr>\n  </tbody>\n</table>\n<p>157 rows × 3 columns</p>\n</div>"
     },
     "metadata": {},
     "output_type": "display_data"
    },
    {
     "data": {
      "text/plain": "156"
     },
     "metadata": {},
     "output_type": "display_data"
    },
    {
     "name": "stdout",
     "output_type": "stream",
     "text": [
      "done df_scotland\n"
     ]
    },
    {
     "data": {
      "text/plain": "                 MatchTeams  LastMatchHomeGoals  LastMatchAwayGoals\n240            Betis_Lleida                 NaN                 NaN\n328    Sevilla_U.Las Palmas                 NaN                 NaN\n439       Salamanca_Sevilla                 NaN                 NaN\n476      Extremadura_Getafe                 NaN                 NaN\n492       Jaen_U.Las Palmas                 NaN                 NaN\n...                     ...                 ...                 ...\n18801         Ibiza_Levante                 NaN                 NaN\n18804      Granada_Mirandes                 NaN                 NaN\n18820       Andorra_Leganes                 NaN                 NaN\n18835  Andorra_Villarreal B                 NaN                 NaN\n18853   Cartagena_Santander                 NaN                 NaN\n\n[128 rows x 3 columns]",
      "text/html": "<div>\n<style scoped>\n    .dataframe tbody tr th:only-of-type {\n        vertical-align: middle;\n    }\n\n    .dataframe tbody tr th {\n        vertical-align: top;\n    }\n\n    .dataframe thead th {\n        text-align: right;\n    }\n</style>\n<table border=\"1\" class=\"dataframe\">\n  <thead>\n    <tr style=\"text-align: right;\">\n      <th></th>\n      <th>MatchTeams</th>\n      <th>LastMatchHomeGoals</th>\n      <th>LastMatchAwayGoals</th>\n    </tr>\n  </thead>\n  <tbody>\n    <tr>\n      <th>240</th>\n      <td>Betis_Lleida</td>\n      <td>NaN</td>\n      <td>NaN</td>\n    </tr>\n    <tr>\n      <th>328</th>\n      <td>Sevilla_U.Las Palmas</td>\n      <td>NaN</td>\n      <td>NaN</td>\n    </tr>\n    <tr>\n      <th>439</th>\n      <td>Salamanca_Sevilla</td>\n      <td>NaN</td>\n      <td>NaN</td>\n    </tr>\n    <tr>\n      <th>476</th>\n      <td>Extremadura_Getafe</td>\n      <td>NaN</td>\n      <td>NaN</td>\n    </tr>\n    <tr>\n      <th>492</th>\n      <td>Jaen_U.Las Palmas</td>\n      <td>NaN</td>\n      <td>NaN</td>\n    </tr>\n    <tr>\n      <th>...</th>\n      <td>...</td>\n      <td>...</td>\n      <td>...</td>\n    </tr>\n    <tr>\n      <th>18801</th>\n      <td>Ibiza_Levante</td>\n      <td>NaN</td>\n      <td>NaN</td>\n    </tr>\n    <tr>\n      <th>18804</th>\n      <td>Granada_Mirandes</td>\n      <td>NaN</td>\n      <td>NaN</td>\n    </tr>\n    <tr>\n      <th>18820</th>\n      <td>Andorra_Leganes</td>\n      <td>NaN</td>\n      <td>NaN</td>\n    </tr>\n    <tr>\n      <th>18835</th>\n      <td>Andorra_Villarreal B</td>\n      <td>NaN</td>\n      <td>NaN</td>\n    </tr>\n    <tr>\n      <th>18853</th>\n      <td>Cartagena_Santander</td>\n      <td>NaN</td>\n      <td>NaN</td>\n    </tr>\n  </tbody>\n</table>\n<p>128 rows × 3 columns</p>\n</div>"
     },
     "metadata": {},
     "output_type": "display_data"
    },
    {
     "data": {
      "text/plain": "                 MatchTeams  LastMatchHomeGoals  LastMatchAwayGoals\n240            Betis_Lleida                 NaN                 NaN\n328    Sevilla_U.Las Palmas                 NaN                 NaN\n439       Salamanca_Sevilla                 NaN                 NaN\n476      Extremadura_Getafe                 NaN                 NaN\n492       Jaen_U.Las Palmas                 NaN                 NaN\n...                     ...                 ...                 ...\n18801         Ibiza_Levante                 NaN                 NaN\n18804      Granada_Mirandes                 NaN                 NaN\n18820       Andorra_Leganes                 NaN                 NaN\n18835  Andorra_Villarreal B                 NaN                 NaN\n18853   Cartagena_Santander                 NaN                 NaN\n\n[128 rows x 3 columns]",
      "text/html": "<div>\n<style scoped>\n    .dataframe tbody tr th:only-of-type {\n        vertical-align: middle;\n    }\n\n    .dataframe tbody tr th {\n        vertical-align: top;\n    }\n\n    .dataframe thead th {\n        text-align: right;\n    }\n</style>\n<table border=\"1\" class=\"dataframe\">\n  <thead>\n    <tr style=\"text-align: right;\">\n      <th></th>\n      <th>MatchTeams</th>\n      <th>LastMatchHomeGoals</th>\n      <th>LastMatchAwayGoals</th>\n    </tr>\n  </thead>\n  <tbody>\n    <tr>\n      <th>240</th>\n      <td>Betis_Lleida</td>\n      <td>NaN</td>\n      <td>NaN</td>\n    </tr>\n    <tr>\n      <th>328</th>\n      <td>Sevilla_U.Las Palmas</td>\n      <td>NaN</td>\n      <td>NaN</td>\n    </tr>\n    <tr>\n      <th>439</th>\n      <td>Salamanca_Sevilla</td>\n      <td>NaN</td>\n      <td>NaN</td>\n    </tr>\n    <tr>\n      <th>476</th>\n      <td>Extremadura_Getafe</td>\n      <td>NaN</td>\n      <td>NaN</td>\n    </tr>\n    <tr>\n      <th>492</th>\n      <td>Jaen_U.Las Palmas</td>\n      <td>NaN</td>\n      <td>NaN</td>\n    </tr>\n    <tr>\n      <th>...</th>\n      <td>...</td>\n      <td>...</td>\n      <td>...</td>\n    </tr>\n    <tr>\n      <th>18801</th>\n      <td>Ibiza_Levante</td>\n      <td>NaN</td>\n      <td>NaN</td>\n    </tr>\n    <tr>\n      <th>18804</th>\n      <td>Granada_Mirandes</td>\n      <td>NaN</td>\n      <td>NaN</td>\n    </tr>\n    <tr>\n      <th>18820</th>\n      <td>Andorra_Leganes</td>\n      <td>NaN</td>\n      <td>NaN</td>\n    </tr>\n    <tr>\n      <th>18835</th>\n      <td>Andorra_Villarreal B</td>\n      <td>NaN</td>\n      <td>NaN</td>\n    </tr>\n    <tr>\n      <th>18853</th>\n      <td>Cartagena_Santander</td>\n      <td>NaN</td>\n      <td>NaN</td>\n    </tr>\n  </tbody>\n</table>\n<p>128 rows × 3 columns</p>\n</div>"
     },
     "metadata": {},
     "output_type": "display_data"
    },
    {
     "data": {
      "text/plain": "88"
     },
     "metadata": {},
     "output_type": "display_data"
    },
    {
     "name": "stdout",
     "output_type": "stream",
     "text": [
      "done df_spain\n"
     ]
    },
    {
     "data": {
      "text/plain": "                     MatchTeams  LastMatchHomeGoals  LastMatchAwayGoals\n330      Malatyaspor_Yozgatspor                 NaN                 NaN\n1846     Manisaspor_Sakaryaspor                 NaN                 NaN\n2229      Oftasspor_Trabzonspor                 NaN                 NaN\n2262    Gaziantepspor_Oftasspor                 NaN                 NaN\n2541    Kayserispor_Kocaelispor                 NaN                 NaN\n...                         ...                 ...                 ...\n6990     Hatayspor_Umraniyespor                 NaN                 NaN\n7000     Gaziantep_Istanbulspor                 NaN                 NaN\n7004   Giresunspor_Umraniyespor                 NaN                 NaN\n7012   Ad. Demirspor_Ankaragucu                 NaN                 NaN\n7014  Istanbulspor_Umraniyespor                 NaN                 NaN\n\n[72 rows x 3 columns]",
      "text/html": "<div>\n<style scoped>\n    .dataframe tbody tr th:only-of-type {\n        vertical-align: middle;\n    }\n\n    .dataframe tbody tr th {\n        vertical-align: top;\n    }\n\n    .dataframe thead th {\n        text-align: right;\n    }\n</style>\n<table border=\"1\" class=\"dataframe\">\n  <thead>\n    <tr style=\"text-align: right;\">\n      <th></th>\n      <th>MatchTeams</th>\n      <th>LastMatchHomeGoals</th>\n      <th>LastMatchAwayGoals</th>\n    </tr>\n  </thead>\n  <tbody>\n    <tr>\n      <th>330</th>\n      <td>Malatyaspor_Yozgatspor</td>\n      <td>NaN</td>\n      <td>NaN</td>\n    </tr>\n    <tr>\n      <th>1846</th>\n      <td>Manisaspor_Sakaryaspor</td>\n      <td>NaN</td>\n      <td>NaN</td>\n    </tr>\n    <tr>\n      <th>2229</th>\n      <td>Oftasspor_Trabzonspor</td>\n      <td>NaN</td>\n      <td>NaN</td>\n    </tr>\n    <tr>\n      <th>2262</th>\n      <td>Gaziantepspor_Oftasspor</td>\n      <td>NaN</td>\n      <td>NaN</td>\n    </tr>\n    <tr>\n      <th>2541</th>\n      <td>Kayserispor_Kocaelispor</td>\n      <td>NaN</td>\n      <td>NaN</td>\n    </tr>\n    <tr>\n      <th>...</th>\n      <td>...</td>\n      <td>...</td>\n      <td>...</td>\n    </tr>\n    <tr>\n      <th>6990</th>\n      <td>Hatayspor_Umraniyespor</td>\n      <td>NaN</td>\n      <td>NaN</td>\n    </tr>\n    <tr>\n      <th>7000</th>\n      <td>Gaziantep_Istanbulspor</td>\n      <td>NaN</td>\n      <td>NaN</td>\n    </tr>\n    <tr>\n      <th>7004</th>\n      <td>Giresunspor_Umraniyespor</td>\n      <td>NaN</td>\n      <td>NaN</td>\n    </tr>\n    <tr>\n      <th>7012</th>\n      <td>Ad. Demirspor_Ankaragucu</td>\n      <td>NaN</td>\n      <td>NaN</td>\n    </tr>\n    <tr>\n      <th>7014</th>\n      <td>Istanbulspor_Umraniyespor</td>\n      <td>NaN</td>\n      <td>NaN</td>\n    </tr>\n  </tbody>\n</table>\n<p>72 rows × 3 columns</p>\n</div>"
     },
     "metadata": {},
     "output_type": "display_data"
    },
    {
     "data": {
      "text/plain": "                     MatchTeams  LastMatchHomeGoals  LastMatchAwayGoals\n330      Malatyaspor_Yozgatspor                 NaN                 NaN\n1846     Manisaspor_Sakaryaspor                 NaN                 NaN\n2229      Oftasspor_Trabzonspor                 NaN                 NaN\n2262    Gaziantepspor_Oftasspor                 NaN                 NaN\n2541    Kayserispor_Kocaelispor                 NaN                 NaN\n...                         ...                 ...                 ...\n6990     Hatayspor_Umraniyespor                 NaN                 NaN\n7000     Gaziantep_Istanbulspor                 NaN                 NaN\n7004   Giresunspor_Umraniyespor                 NaN                 NaN\n7012   Ad. Demirspor_Ankaragucu                 NaN                 NaN\n7014  Istanbulspor_Umraniyespor                 NaN                 NaN\n\n[72 rows x 3 columns]",
      "text/html": "<div>\n<style scoped>\n    .dataframe tbody tr th:only-of-type {\n        vertical-align: middle;\n    }\n\n    .dataframe tbody tr th {\n        vertical-align: top;\n    }\n\n    .dataframe thead th {\n        text-align: right;\n    }\n</style>\n<table border=\"1\" class=\"dataframe\">\n  <thead>\n    <tr style=\"text-align: right;\">\n      <th></th>\n      <th>MatchTeams</th>\n      <th>LastMatchHomeGoals</th>\n      <th>LastMatchAwayGoals</th>\n    </tr>\n  </thead>\n  <tbody>\n    <tr>\n      <th>330</th>\n      <td>Malatyaspor_Yozgatspor</td>\n      <td>NaN</td>\n      <td>NaN</td>\n    </tr>\n    <tr>\n      <th>1846</th>\n      <td>Manisaspor_Sakaryaspor</td>\n      <td>NaN</td>\n      <td>NaN</td>\n    </tr>\n    <tr>\n      <th>2229</th>\n      <td>Oftasspor_Trabzonspor</td>\n      <td>NaN</td>\n      <td>NaN</td>\n    </tr>\n    <tr>\n      <th>2262</th>\n      <td>Gaziantepspor_Oftasspor</td>\n      <td>NaN</td>\n      <td>NaN</td>\n    </tr>\n    <tr>\n      <th>2541</th>\n      <td>Kayserispor_Kocaelispor</td>\n      <td>NaN</td>\n      <td>NaN</td>\n    </tr>\n    <tr>\n      <th>...</th>\n      <td>...</td>\n      <td>...</td>\n      <td>...</td>\n    </tr>\n    <tr>\n      <th>6990</th>\n      <td>Hatayspor_Umraniyespor</td>\n      <td>NaN</td>\n      <td>NaN</td>\n    </tr>\n    <tr>\n      <th>7000</th>\n      <td>Gaziantep_Istanbulspor</td>\n      <td>NaN</td>\n      <td>NaN</td>\n    </tr>\n    <tr>\n      <th>7004</th>\n      <td>Giresunspor_Umraniyespor</td>\n      <td>NaN</td>\n      <td>NaN</td>\n    </tr>\n    <tr>\n      <th>7012</th>\n      <td>Ad. Demirspor_Ankaragucu</td>\n      <td>NaN</td>\n      <td>NaN</td>\n    </tr>\n    <tr>\n      <th>7014</th>\n      <td>Istanbulspor_Umraniyespor</td>\n      <td>NaN</td>\n      <td>NaN</td>\n    </tr>\n  </tbody>\n</table>\n<p>72 rows × 3 columns</p>\n</div>"
     },
     "metadata": {},
     "output_type": "display_data"
    },
    {
     "data": {
      "text/plain": "58"
     },
     "metadata": {},
     "output_type": "display_data"
    },
    {
     "name": "stdout",
     "output_type": "stream",
     "text": [
      "done df_turkey\n"
     ]
    }
   ],
   "source": [
    "for country in dfs:\n",
    "    dfs[country] = get_goals_stats(dfs[country])\n",
    "    # don't get scared if you get \"only\" belgium done, england takes *LONG* (10 min), rest is faster \n",
    "    print(f\"done {country}\")\n",
    "    # break ## UNCOMMENT THIS LINE IF TESTING"
   ],
   "metadata": {
    "collapsed": false,
    "ExecuteTime": {
     "end_time": "2024-01-04T18:09:06.261997Z",
     "start_time": "2024-01-04T17:42:43.013724800Z"
    }
   },
   "id": "5f5bb940d58faa68"
  },
  {
   "cell_type": "markdown",
   "source": [
    "### Add scored/received ratio for each team\n",
    "\n",
    "Problem with NaN and inf values for the first instances where teams have scored 0 or received 0 goals -> we could drop the first season maybe?"
   ],
   "metadata": {
    "collapsed": false
   },
   "id": "cd633a5ebb1865b0"
  },
  {
   "cell_type": "code",
   "execution_count": 143,
   "outputs": [],
   "source": [
    "for country in dfs: # this will need fix for season 22? \n",
    "    cnt = dfs[country]\n",
    "    cnt[\"HomeTeamScoredRatio\"] = cnt[\"HomeTeamAvgScored\"]/(cnt[\"HomeTeamAvgReceived\"] + cnt[\"HomeTeamAvgScored\"])\n",
    "    cnt[\"AwayTeamScoredRatio\"] = cnt[\"AwayTeamAvgScored\"]/(cnt[\"AwayTeamAvgReceived\"] + cnt[\"AwayTeamAvgScored\"])"
   ],
   "metadata": {
    "collapsed": false,
    "ExecuteTime": {
     "end_time": "2024-01-04T18:09:06.294444400Z",
     "start_time": "2024-01-04T18:09:06.203044500Z"
    }
   },
   "id": "5d347800c9a4fe39"
  },
  {
   "cell_type": "code",
   "execution_count": 144,
   "outputs": [],
   "source": [
    "blg = dfs[\"df_belgium\"]"
   ],
   "metadata": {
    "collapsed": false,
    "ExecuteTime": {
     "end_time": "2024-01-04T18:09:06.298962700Z",
     "start_time": "2024-01-04T18:09:06.218712400Z"
    }
   },
   "id": "c75349163754345e"
  },
  {
   "cell_type": "code",
   "execution_count": 145,
   "outputs": [
    {
     "data": {
      "text/plain": "                            MatchTeams  LastMatchHomeGoals  LastMatchAwayGoals\n522                  Anderlecht_Lommel                 NaN                 NaN\n5513         Beerschot VA_St. Gilloise                 NaN                 NaN\n5624  Oud-Heverlee Leuven_St. Gilloise                 NaN                 NaN\n5891                  Seraing_Westerlo                 NaN                 NaN\n5933             St. Gilloise_Westerlo                 NaN                 NaN\n5984  Oud-Heverlee Leuven_St. Gilloise                 NaN                 NaN\n6030             St. Gilloise_Westerlo                 NaN                 NaN\n6089                  Seraing_Westerlo                 NaN                 NaN",
      "text/html": "<div>\n<style scoped>\n    .dataframe tbody tr th:only-of-type {\n        vertical-align: middle;\n    }\n\n    .dataframe tbody tr th {\n        vertical-align: top;\n    }\n\n    .dataframe thead th {\n        text-align: right;\n    }\n</style>\n<table border=\"1\" class=\"dataframe\">\n  <thead>\n    <tr style=\"text-align: right;\">\n      <th></th>\n      <th>MatchTeams</th>\n      <th>LastMatchHomeGoals</th>\n      <th>LastMatchAwayGoals</th>\n    </tr>\n  </thead>\n  <tbody>\n    <tr>\n      <th>522</th>\n      <td>Anderlecht_Lommel</td>\n      <td>NaN</td>\n      <td>NaN</td>\n    </tr>\n    <tr>\n      <th>5513</th>\n      <td>Beerschot VA_St. Gilloise</td>\n      <td>NaN</td>\n      <td>NaN</td>\n    </tr>\n    <tr>\n      <th>5624</th>\n      <td>Oud-Heverlee Leuven_St. Gilloise</td>\n      <td>NaN</td>\n      <td>NaN</td>\n    </tr>\n    <tr>\n      <th>5891</th>\n      <td>Seraing_Westerlo</td>\n      <td>NaN</td>\n      <td>NaN</td>\n    </tr>\n    <tr>\n      <th>5933</th>\n      <td>St. Gilloise_Westerlo</td>\n      <td>NaN</td>\n      <td>NaN</td>\n    </tr>\n    <tr>\n      <th>5984</th>\n      <td>Oud-Heverlee Leuven_St. Gilloise</td>\n      <td>NaN</td>\n      <td>NaN</td>\n    </tr>\n    <tr>\n      <th>6030</th>\n      <td>St. Gilloise_Westerlo</td>\n      <td>NaN</td>\n      <td>NaN</td>\n    </tr>\n    <tr>\n      <th>6089</th>\n      <td>Seraing_Westerlo</td>\n      <td>NaN</td>\n      <td>NaN</td>\n    </tr>\n  </tbody>\n</table>\n</div>"
     },
     "execution_count": 145,
     "metadata": {},
     "output_type": "execute_result"
    }
   ],
   "source": [
    "blg[blg[\"LastMatchHomeGoals\"].isna()][[\"MatchTeams\", \"LastMatchHomeGoals\", \"LastMatchAwayGoals\"]]"
   ],
   "metadata": {
    "collapsed": false,
    "ExecuteTime": {
     "end_time": "2024-01-04T18:09:06.358019500Z",
     "start_time": "2024-01-04T18:09:06.234736200Z"
    }
   },
   "id": "9d91069a3203d852"
  },
  {
   "cell_type": "code",
   "execution_count": 146,
   "outputs": [
    {
     "data": {
      "text/plain": "      Unnamed: 0       Date  FTHG  FTAG FTR  HTHG  HTAG HTR   GBH   GBD  ...  \\\n4          171.0 2000-08-12   2.0   1.0   H   1.0   0.0   H  1.41  4.10  ...   \n156        253.0 2000-12-20   1.0   3.0   A   1.0   1.0   D  2.30  3.30  ...   \n405         77.0 2001-11-24   2.0   1.0   H   0.0   0.0   D  1.85  3.30  ...   \n562        214.0 2002-04-06   1.0   1.0   D   1.0   0.0   H  1.96  3.20  ...   \n712        171.0 2002-12-07   1.0   2.0   A   1.0   1.0   D  1.70  3.45  ...   \n846        210.0 2003-05-10   2.0   1.0   H   0.0   0.0   D  1.90  3.40  ...   \n877          8.0 2003-08-16   2.0   1.0   H   1.0   0.0   H  2.00  3.20  ...   \n1032       168.0 2004-01-25   2.0   1.0   H   0.0   0.0   D  1.60  3.40  ...   \n5852        60.0 2022-09-04   NaN   NaN   0   NaN   NaN   0   NaN   NaN  ...   \n5952       161.0 2022-12-27   NaN   NaN   0   NaN   NaN   0   NaN   NaN  ...   \n\n      HomeWinRatio  HomeLossRatio  HomeDrawRatio  AwayWinRatio  AwayLossRatio  \\\n4         0.000000       0.000000       0.000000      0.000000       0.000000   \n156       0.411765       0.529412       0.058824      0.470588       0.294118   \n405       0.400000       0.377778       0.222222      0.311111       0.488889   \n562       0.266667       0.483333       0.250000      0.380952       0.396825   \n712       0.269231       0.474359       0.256410      0.350000       0.425000   \n846       0.354167       0.437500       0.208333      0.255319       0.489362   \n877       0.265306       0.489796       0.244898      0.360000       0.420000   \n1032      0.358974       0.401709       0.239316      0.252174       0.513043   \n5852      0.381119       0.388112       0.230769      0.381119       0.388112   \n5952      0.326134       0.425486       0.248380      0.326134       0.425486   \n\n      AwayDrawRatio  HomeTeamAvgShotsOnTarget  AwayTeamAvgShotsOnTarget  \\\n4          0.000000                       NaN                       NaN   \n156        0.235294                  4.676126                  5.139268   \n405        0.200000                  5.133448                  4.576372   \n562        0.222222                  4.632775                  5.093461   \n712        0.225000                  4.709671                  4.916134   \n846        0.255319                  4.897756                  4.667900   \n877        0.220000                  4.683067                  4.908727   \n1032       0.234783                  4.857997                  4.601449   \n5852       0.230769                  4.681071                  4.688514   \n5952       0.248380                  4.688514                  4.681071   \n\n      HomeTeamScoredRatio  AwayTeamScoredRatio  \n4                     NaN                  NaN  \n156              0.478261             0.535714  \n405              0.520270             0.453782  \n562              0.426136             0.500000  \n712              0.432773             0.470356  \n846              0.478114             0.428571  \n877              0.433447             0.486928  \n1032             0.482857             0.408284  \n5852             0.482716             0.454266  \n5952             0.454266             0.482716  \n\n[10 rows x 254 columns]",
      "text/html": "<div>\n<style scoped>\n    .dataframe tbody tr th:only-of-type {\n        vertical-align: middle;\n    }\n\n    .dataframe tbody tr th {\n        vertical-align: top;\n    }\n\n    .dataframe thead th {\n        text-align: right;\n    }\n</style>\n<table border=\"1\" class=\"dataframe\">\n  <thead>\n    <tr style=\"text-align: right;\">\n      <th></th>\n      <th>Unnamed: 0</th>\n      <th>Date</th>\n      <th>FTHG</th>\n      <th>FTAG</th>\n      <th>FTR</th>\n      <th>HTHG</th>\n      <th>HTAG</th>\n      <th>HTR</th>\n      <th>GBH</th>\n      <th>GBD</th>\n      <th>...</th>\n      <th>HomeWinRatio</th>\n      <th>HomeLossRatio</th>\n      <th>HomeDrawRatio</th>\n      <th>AwayWinRatio</th>\n      <th>AwayLossRatio</th>\n      <th>AwayDrawRatio</th>\n      <th>HomeTeamAvgShotsOnTarget</th>\n      <th>AwayTeamAvgShotsOnTarget</th>\n      <th>HomeTeamScoredRatio</th>\n      <th>AwayTeamScoredRatio</th>\n    </tr>\n  </thead>\n  <tbody>\n    <tr>\n      <th>4</th>\n      <td>171.0</td>\n      <td>2000-08-12</td>\n      <td>2.0</td>\n      <td>1.0</td>\n      <td>H</td>\n      <td>1.0</td>\n      <td>0.0</td>\n      <td>H</td>\n      <td>1.41</td>\n      <td>4.10</td>\n      <td>...</td>\n      <td>0.000000</td>\n      <td>0.000000</td>\n      <td>0.000000</td>\n      <td>0.000000</td>\n      <td>0.000000</td>\n      <td>0.000000</td>\n      <td>NaN</td>\n      <td>NaN</td>\n      <td>NaN</td>\n      <td>NaN</td>\n    </tr>\n    <tr>\n      <th>156</th>\n      <td>253.0</td>\n      <td>2000-12-20</td>\n      <td>1.0</td>\n      <td>3.0</td>\n      <td>A</td>\n      <td>1.0</td>\n      <td>1.0</td>\n      <td>D</td>\n      <td>2.30</td>\n      <td>3.30</td>\n      <td>...</td>\n      <td>0.411765</td>\n      <td>0.529412</td>\n      <td>0.058824</td>\n      <td>0.470588</td>\n      <td>0.294118</td>\n      <td>0.235294</td>\n      <td>4.676126</td>\n      <td>5.139268</td>\n      <td>0.478261</td>\n      <td>0.535714</td>\n    </tr>\n    <tr>\n      <th>405</th>\n      <td>77.0</td>\n      <td>2001-11-24</td>\n      <td>2.0</td>\n      <td>1.0</td>\n      <td>H</td>\n      <td>0.0</td>\n      <td>0.0</td>\n      <td>D</td>\n      <td>1.85</td>\n      <td>3.30</td>\n      <td>...</td>\n      <td>0.400000</td>\n      <td>0.377778</td>\n      <td>0.222222</td>\n      <td>0.311111</td>\n      <td>0.488889</td>\n      <td>0.200000</td>\n      <td>5.133448</td>\n      <td>4.576372</td>\n      <td>0.520270</td>\n      <td>0.453782</td>\n    </tr>\n    <tr>\n      <th>562</th>\n      <td>214.0</td>\n      <td>2002-04-06</td>\n      <td>1.0</td>\n      <td>1.0</td>\n      <td>D</td>\n      <td>1.0</td>\n      <td>0.0</td>\n      <td>H</td>\n      <td>1.96</td>\n      <td>3.20</td>\n      <td>...</td>\n      <td>0.266667</td>\n      <td>0.483333</td>\n      <td>0.250000</td>\n      <td>0.380952</td>\n      <td>0.396825</td>\n      <td>0.222222</td>\n      <td>4.632775</td>\n      <td>5.093461</td>\n      <td>0.426136</td>\n      <td>0.500000</td>\n    </tr>\n    <tr>\n      <th>712</th>\n      <td>171.0</td>\n      <td>2002-12-07</td>\n      <td>1.0</td>\n      <td>2.0</td>\n      <td>A</td>\n      <td>1.0</td>\n      <td>1.0</td>\n      <td>D</td>\n      <td>1.70</td>\n      <td>3.45</td>\n      <td>...</td>\n      <td>0.269231</td>\n      <td>0.474359</td>\n      <td>0.256410</td>\n      <td>0.350000</td>\n      <td>0.425000</td>\n      <td>0.225000</td>\n      <td>4.709671</td>\n      <td>4.916134</td>\n      <td>0.432773</td>\n      <td>0.470356</td>\n    </tr>\n    <tr>\n      <th>846</th>\n      <td>210.0</td>\n      <td>2003-05-10</td>\n      <td>2.0</td>\n      <td>1.0</td>\n      <td>H</td>\n      <td>0.0</td>\n      <td>0.0</td>\n      <td>D</td>\n      <td>1.90</td>\n      <td>3.40</td>\n      <td>...</td>\n      <td>0.354167</td>\n      <td>0.437500</td>\n      <td>0.208333</td>\n      <td>0.255319</td>\n      <td>0.489362</td>\n      <td>0.255319</td>\n      <td>4.897756</td>\n      <td>4.667900</td>\n      <td>0.478114</td>\n      <td>0.428571</td>\n    </tr>\n    <tr>\n      <th>877</th>\n      <td>8.0</td>\n      <td>2003-08-16</td>\n      <td>2.0</td>\n      <td>1.0</td>\n      <td>H</td>\n      <td>1.0</td>\n      <td>0.0</td>\n      <td>H</td>\n      <td>2.00</td>\n      <td>3.20</td>\n      <td>...</td>\n      <td>0.265306</td>\n      <td>0.489796</td>\n      <td>0.244898</td>\n      <td>0.360000</td>\n      <td>0.420000</td>\n      <td>0.220000</td>\n      <td>4.683067</td>\n      <td>4.908727</td>\n      <td>0.433447</td>\n      <td>0.486928</td>\n    </tr>\n    <tr>\n      <th>1032</th>\n      <td>168.0</td>\n      <td>2004-01-25</td>\n      <td>2.0</td>\n      <td>1.0</td>\n      <td>H</td>\n      <td>0.0</td>\n      <td>0.0</td>\n      <td>D</td>\n      <td>1.60</td>\n      <td>3.40</td>\n      <td>...</td>\n      <td>0.358974</td>\n      <td>0.401709</td>\n      <td>0.239316</td>\n      <td>0.252174</td>\n      <td>0.513043</td>\n      <td>0.234783</td>\n      <td>4.857997</td>\n      <td>4.601449</td>\n      <td>0.482857</td>\n      <td>0.408284</td>\n    </tr>\n    <tr>\n      <th>5852</th>\n      <td>60.0</td>\n      <td>2022-09-04</td>\n      <td>NaN</td>\n      <td>NaN</td>\n      <td>0</td>\n      <td>NaN</td>\n      <td>NaN</td>\n      <td>0</td>\n      <td>NaN</td>\n      <td>NaN</td>\n      <td>...</td>\n      <td>0.381119</td>\n      <td>0.388112</td>\n      <td>0.230769</td>\n      <td>0.381119</td>\n      <td>0.388112</td>\n      <td>0.230769</td>\n      <td>4.681071</td>\n      <td>4.688514</td>\n      <td>0.482716</td>\n      <td>0.454266</td>\n    </tr>\n    <tr>\n      <th>5952</th>\n      <td>161.0</td>\n      <td>2022-12-27</td>\n      <td>NaN</td>\n      <td>NaN</td>\n      <td>0</td>\n      <td>NaN</td>\n      <td>NaN</td>\n      <td>0</td>\n      <td>NaN</td>\n      <td>NaN</td>\n      <td>...</td>\n      <td>0.326134</td>\n      <td>0.425486</td>\n      <td>0.248380</td>\n      <td>0.326134</td>\n      <td>0.425486</td>\n      <td>0.248380</td>\n      <td>4.688514</td>\n      <td>4.681071</td>\n      <td>0.454266</td>\n      <td>0.482716</td>\n    </tr>\n  </tbody>\n</table>\n<p>10 rows × 254 columns</p>\n</div>"
     },
     "execution_count": 146,
     "metadata": {},
     "output_type": "execute_result"
    }
   ],
   "source": [
    "blg[blg[\"MatchTeams\"] == \"Antwerp_Westerlo\"]"
   ],
   "metadata": {
    "collapsed": false,
    "ExecuteTime": {
     "end_time": "2024-01-04T18:09:06.390603300Z",
     "start_time": "2024-01-04T18:09:06.249474Z"
    }
   },
   "id": "a459d30460f7d176"
  },
  {
   "cell_type": "code",
   "execution_count": 147,
   "outputs": [
    {
     "data": {
      "text/plain": "      Unnamed: 0       Date  FTHG  FTAG FTR  HTHG  HTAG HTR  GBH  GBD  ...  \\\n5792         0.0 2022-07-22   NaN   NaN   0   NaN   NaN   0  NaN  NaN  ...   \n5793         1.0 2022-07-23   NaN   NaN   0   NaN   NaN   0  NaN  NaN  ...   \n5794         2.0 2022-07-23   NaN   NaN   0   NaN   NaN   0  NaN  NaN  ...   \n5795         4.0 2022-07-23   NaN   NaN   0   NaN   NaN   0  NaN  NaN  ...   \n5796         3.0 2022-07-23   NaN   NaN   0   NaN   NaN   0  NaN  NaN  ...   \n...          ...        ...   ...   ...  ..   ...   ...  ..  ...  ...  ...   \n6093       304.0 2023-04-23   NaN   NaN   0   NaN   NaN   0  NaN  NaN  ...   \n6094       299.0 2023-04-23   NaN   NaN   0   NaN   NaN   0  NaN  NaN  ...   \n6095       298.0 2023-04-23   NaN   NaN   0   NaN   NaN   0  NaN  NaN  ...   \n6096       300.0 2023-04-23   NaN   NaN   0   NaN   NaN   0  NaN  NaN  ...   \n6097       305.0 2023-04-23   NaN   NaN   0   NaN   NaN   0  NaN  NaN  ...   \n\n      HomeWinRatio  HomeLossRatio  HomeDrawRatio  AwayWinRatio  AwayLossRatio  \\\n5792      0.492017       0.249637       0.258345      0.307829       0.457295   \n5793      0.358663       0.386018       0.255319      0.358663       0.386018   \n5794      0.359036       0.407229       0.233735      0.616519       0.156342   \n5795      0.307829       0.457295       0.234875      0.492017       0.249637   \n5796      0.366412       0.375954       0.257634      0.358663       0.386018   \n...            ...            ...            ...           ...            ...   \n6093      0.262570       0.424581       0.312849      0.262570       0.424581   \n6094      0.616519       0.156342       0.227139      0.616519       0.156342   \n6095      0.307829       0.457295       0.234875      0.307829       0.457295   \n6096      0.358663       0.386018       0.255319      0.366412       0.375954   \n6097      0.366412       0.375954       0.257634      0.366412       0.375954   \n\n      AwayDrawRatio  HomeTeamAvgShotsOnTarget  AwayTeamAvgShotsOnTarget  \\\n5792       0.234875                  5.083699                  5.128811   \n5793       0.255319                  4.671945                  4.199741   \n5794       0.227139                  4.648310                  4.660707   \n5795       0.258345                  4.455075                  5.483871   \n5796       0.255319                  4.710807                  3.272727   \n...             ...                       ...                       ...   \n6093       0.312849                  4.660707                  5.083699   \n6094       0.227139                  5.431673                  4.621183   \n6095       0.234875                  4.455075                  4.681071   \n6096       0.257634                  4.671945                  5.192850   \n6097       0.257634                  4.710807                  4.500662   \n\n      HomeTeamScoredRatio  AwayTeamScoredRatio  \n5792             0.600632             0.574391  \n5793             0.479131             0.385965  \n5794             0.486462             0.441392  \n5795             0.436352             0.725275  \n5796             0.488506             0.312500  \n...                   ...                  ...  \n6093             0.441392             0.600632  \n6094             0.683400             0.445467  \n6095             0.436352             0.482716  \n6096             0.479131             0.577734  \n6097             0.488506             0.428571  \n\n[306 rows x 254 columns]",
      "text/html": "<div>\n<style scoped>\n    .dataframe tbody tr th:only-of-type {\n        vertical-align: middle;\n    }\n\n    .dataframe tbody tr th {\n        vertical-align: top;\n    }\n\n    .dataframe thead th {\n        text-align: right;\n    }\n</style>\n<table border=\"1\" class=\"dataframe\">\n  <thead>\n    <tr style=\"text-align: right;\">\n      <th></th>\n      <th>Unnamed: 0</th>\n      <th>Date</th>\n      <th>FTHG</th>\n      <th>FTAG</th>\n      <th>FTR</th>\n      <th>HTHG</th>\n      <th>HTAG</th>\n      <th>HTR</th>\n      <th>GBH</th>\n      <th>GBD</th>\n      <th>...</th>\n      <th>HomeWinRatio</th>\n      <th>HomeLossRatio</th>\n      <th>HomeDrawRatio</th>\n      <th>AwayWinRatio</th>\n      <th>AwayLossRatio</th>\n      <th>AwayDrawRatio</th>\n      <th>HomeTeamAvgShotsOnTarget</th>\n      <th>AwayTeamAvgShotsOnTarget</th>\n      <th>HomeTeamScoredRatio</th>\n      <th>AwayTeamScoredRatio</th>\n    </tr>\n  </thead>\n  <tbody>\n    <tr>\n      <th>5792</th>\n      <td>0.0</td>\n      <td>2022-07-22</td>\n      <td>NaN</td>\n      <td>NaN</td>\n      <td>0</td>\n      <td>NaN</td>\n      <td>NaN</td>\n      <td>0</td>\n      <td>NaN</td>\n      <td>NaN</td>\n      <td>...</td>\n      <td>0.492017</td>\n      <td>0.249637</td>\n      <td>0.258345</td>\n      <td>0.307829</td>\n      <td>0.457295</td>\n      <td>0.234875</td>\n      <td>5.083699</td>\n      <td>5.128811</td>\n      <td>0.600632</td>\n      <td>0.574391</td>\n    </tr>\n    <tr>\n      <th>5793</th>\n      <td>1.0</td>\n      <td>2022-07-23</td>\n      <td>NaN</td>\n      <td>NaN</td>\n      <td>0</td>\n      <td>NaN</td>\n      <td>NaN</td>\n      <td>0</td>\n      <td>NaN</td>\n      <td>NaN</td>\n      <td>...</td>\n      <td>0.358663</td>\n      <td>0.386018</td>\n      <td>0.255319</td>\n      <td>0.358663</td>\n      <td>0.386018</td>\n      <td>0.255319</td>\n      <td>4.671945</td>\n      <td>4.199741</td>\n      <td>0.479131</td>\n      <td>0.385965</td>\n    </tr>\n    <tr>\n      <th>5794</th>\n      <td>2.0</td>\n      <td>2022-07-23</td>\n      <td>NaN</td>\n      <td>NaN</td>\n      <td>0</td>\n      <td>NaN</td>\n      <td>NaN</td>\n      <td>0</td>\n      <td>NaN</td>\n      <td>NaN</td>\n      <td>...</td>\n      <td>0.359036</td>\n      <td>0.407229</td>\n      <td>0.233735</td>\n      <td>0.616519</td>\n      <td>0.156342</td>\n      <td>0.227139</td>\n      <td>4.648310</td>\n      <td>4.660707</td>\n      <td>0.486462</td>\n      <td>0.441392</td>\n    </tr>\n    <tr>\n      <th>5795</th>\n      <td>4.0</td>\n      <td>2022-07-23</td>\n      <td>NaN</td>\n      <td>NaN</td>\n      <td>0</td>\n      <td>NaN</td>\n      <td>NaN</td>\n      <td>0</td>\n      <td>NaN</td>\n      <td>NaN</td>\n      <td>...</td>\n      <td>0.307829</td>\n      <td>0.457295</td>\n      <td>0.234875</td>\n      <td>0.492017</td>\n      <td>0.249637</td>\n      <td>0.258345</td>\n      <td>4.455075</td>\n      <td>5.483871</td>\n      <td>0.436352</td>\n      <td>0.725275</td>\n    </tr>\n    <tr>\n      <th>5796</th>\n      <td>3.0</td>\n      <td>2022-07-23</td>\n      <td>NaN</td>\n      <td>NaN</td>\n      <td>0</td>\n      <td>NaN</td>\n      <td>NaN</td>\n      <td>0</td>\n      <td>NaN</td>\n      <td>NaN</td>\n      <td>...</td>\n      <td>0.366412</td>\n      <td>0.375954</td>\n      <td>0.257634</td>\n      <td>0.358663</td>\n      <td>0.386018</td>\n      <td>0.255319</td>\n      <td>4.710807</td>\n      <td>3.272727</td>\n      <td>0.488506</td>\n      <td>0.312500</td>\n    </tr>\n    <tr>\n      <th>...</th>\n      <td>...</td>\n      <td>...</td>\n      <td>...</td>\n      <td>...</td>\n      <td>...</td>\n      <td>...</td>\n      <td>...</td>\n      <td>...</td>\n      <td>...</td>\n      <td>...</td>\n      <td>...</td>\n      <td>...</td>\n      <td>...</td>\n      <td>...</td>\n      <td>...</td>\n      <td>...</td>\n      <td>...</td>\n      <td>...</td>\n      <td>...</td>\n      <td>...</td>\n      <td>...</td>\n    </tr>\n    <tr>\n      <th>6093</th>\n      <td>304.0</td>\n      <td>2023-04-23</td>\n      <td>NaN</td>\n      <td>NaN</td>\n      <td>0</td>\n      <td>NaN</td>\n      <td>NaN</td>\n      <td>0</td>\n      <td>NaN</td>\n      <td>NaN</td>\n      <td>...</td>\n      <td>0.262570</td>\n      <td>0.424581</td>\n      <td>0.312849</td>\n      <td>0.262570</td>\n      <td>0.424581</td>\n      <td>0.312849</td>\n      <td>4.660707</td>\n      <td>5.083699</td>\n      <td>0.441392</td>\n      <td>0.600632</td>\n    </tr>\n    <tr>\n      <th>6094</th>\n      <td>299.0</td>\n      <td>2023-04-23</td>\n      <td>NaN</td>\n      <td>NaN</td>\n      <td>0</td>\n      <td>NaN</td>\n      <td>NaN</td>\n      <td>0</td>\n      <td>NaN</td>\n      <td>NaN</td>\n      <td>...</td>\n      <td>0.616519</td>\n      <td>0.156342</td>\n      <td>0.227139</td>\n      <td>0.616519</td>\n      <td>0.156342</td>\n      <td>0.227139</td>\n      <td>5.431673</td>\n      <td>4.621183</td>\n      <td>0.683400</td>\n      <td>0.445467</td>\n    </tr>\n    <tr>\n      <th>6095</th>\n      <td>298.0</td>\n      <td>2023-04-23</td>\n      <td>NaN</td>\n      <td>NaN</td>\n      <td>0</td>\n      <td>NaN</td>\n      <td>NaN</td>\n      <td>0</td>\n      <td>NaN</td>\n      <td>NaN</td>\n      <td>...</td>\n      <td>0.307829</td>\n      <td>0.457295</td>\n      <td>0.234875</td>\n      <td>0.307829</td>\n      <td>0.457295</td>\n      <td>0.234875</td>\n      <td>4.455075</td>\n      <td>4.681071</td>\n      <td>0.436352</td>\n      <td>0.482716</td>\n    </tr>\n    <tr>\n      <th>6096</th>\n      <td>300.0</td>\n      <td>2023-04-23</td>\n      <td>NaN</td>\n      <td>NaN</td>\n      <td>0</td>\n      <td>NaN</td>\n      <td>NaN</td>\n      <td>0</td>\n      <td>NaN</td>\n      <td>NaN</td>\n      <td>...</td>\n      <td>0.358663</td>\n      <td>0.386018</td>\n      <td>0.255319</td>\n      <td>0.366412</td>\n      <td>0.375954</td>\n      <td>0.257634</td>\n      <td>4.671945</td>\n      <td>5.192850</td>\n      <td>0.479131</td>\n      <td>0.577734</td>\n    </tr>\n    <tr>\n      <th>6097</th>\n      <td>305.0</td>\n      <td>2023-04-23</td>\n      <td>NaN</td>\n      <td>NaN</td>\n      <td>0</td>\n      <td>NaN</td>\n      <td>NaN</td>\n      <td>0</td>\n      <td>NaN</td>\n      <td>NaN</td>\n      <td>...</td>\n      <td>0.366412</td>\n      <td>0.375954</td>\n      <td>0.257634</td>\n      <td>0.366412</td>\n      <td>0.375954</td>\n      <td>0.257634</td>\n      <td>4.710807</td>\n      <td>4.500662</td>\n      <td>0.488506</td>\n      <td>0.428571</td>\n    </tr>\n  </tbody>\n</table>\n<p>306 rows × 254 columns</p>\n</div>"
     },
     "execution_count": 147,
     "metadata": {},
     "output_type": "execute_result"
    }
   ],
   "source": [
    "    # check if all seasons got through\n",
    "blg[blg[\"season\"] == 22]"
   ],
   "metadata": {
    "collapsed": false,
    "ExecuteTime": {
     "end_time": "2024-01-04T18:09:06.419499600Z",
     "start_time": "2024-01-04T18:09:06.282029400Z"
    }
   },
   "id": "c478ca1bd49e9485"
  },
  {
   "cell_type": "markdown",
   "source": [
    "### Drop unnecessary columns"
   ],
   "metadata": {
    "collapsed": false
   },
   "id": "c69bf7be15c86bd5"
  },
  {
   "cell_type": "code",
   "execution_count": 148,
   "outputs": [],
   "source": [
    "combined_labels = [\n",
    "    \"HS\", \"AS\", \"HST\", \"AST\", \"HHW\", \"AHW\",\n",
    "    \"HC\", \"AC\", \"HF\", \"AF\", \"HFKC\", \"AFKC\",\n",
    "    \"HO\", \"AO\", \"HY\", \"AY\", \"HR\", \"AR\",\n",
    "    \"HBP\", \"ABP\",\n",
    "    \"B365H\", \"B365D\", \"B365A\",\n",
    "    \"BSH\", \"BSD\", \"BSA\",\n",
    "    \"BWH\", \"BWD\", \"BWA\",\n",
    "    \"GBH\", \"GBD\", \"GBA\",\n",
    "    \"IWH\", \"IWD\", \"IWA\",\n",
    "    \"LBH\", \"LBD\", \"LBA\",\n",
    "    \"PSH\", \"PSD\", \"PSA\",\n",
    "    \"SOH\", \"SOD\", \"SOA\",\n",
    "    \"SBH\", \"SBD\", \"SBA\",\n",
    "    \"SJH\", \"SJD\", \"SJA\",\n",
    "    \"SYH\", \"SYD\", \"SYA\",\n",
    "    \"VCH\", \"VCD\", \"VCA\",\n",
    "    \"WHH\", \"WHD\", \"WHA\",\n",
    "    \"Bb1X2\", \"BbMxH\", \"BbAvH\", \"BbMxD\", \"BbAvD\", \"BbMxA\", \"BbAvA\",\n",
    "    \"MaxH\", \"MaxD\", \"MaxA\", \"AvgH\", \"AvgD\", \"AvgA\",\n",
    "    \"BbOU\", \"BbMx>2.5\", \"BbAv>2.5\", \"BbMx<2.5\", \"BbAv<2.5\",\n",
    "    \"GB>2.5\", \"GB<2.5\", \"B365>2.5\", \"B365<2.5\", \"P>2.5\", \"P<2.5\",\n",
    "    \"Max>2.5\", \"Max<2.5\", \"Avg>2.5\", \"Avg<2.5\",\n",
    "    \"BbAH\", \"BbAHh\", \"AHh\", \"BbMxAHH\", \"BbAvAHH\", \"BbMxAHA\", \"BbAvAHA\",\n",
    "    \"GBAHH\", \"GBAHA\", \"GBAH\", \"LBAHH\", \"LBAHA\", \"LBAH\",\n",
    "    \"B365AHH\", \"B365AHA\", \"B365AH\", \"PAHH\", \"PAHA\",\n",
    "    \"MaxAHH\", \"MaxAHA\", \"AvgAHH\", \"AvgAHA\", \"Unnamed: 0\", \"Date\", \"FTHG\", \"FTAG\", \"HTHG\", \"FTR\", \"HTHG\", \"HTAG\", \"HTR\", \"Index\", \"country\",\n",
    "    \"PSCH\", \"PSCD\", \"PSCA\", \"Time\", \"B365CH\", \"B365CD\", \"B365CA\",\n",
    "    \"BWCH\", \"BWCD\", \"BWCA\", \"IWCH\", \"IWCD\", \"IWCA\", \"WHCH\", \"WHCD\",\n",
    "    \"WHCA\", \"VCCH\", \"VCCD\", \"VCCA\", \"MaxCH\", \"MaxCD\", \"MaxCA\", \"AvgCH\",\n",
    "    \"AvgCD\", \"AvgCA\", \"B365C>2.5\", \"B365C<2.5\", \"PC>2.5\", \"PC<2.5\",\n",
    "    \"MaxC>2.5\", \"MaxC<2.5\", \"AvgC>2.5\", \"AvgC<2.5\", \"AHCh\", \"B365CAHH\",\n",
    "    \"B365CAHA\", \"PCAHH\", \"PCAHA\", \"MaxCAHH\", \"MaxCAHA\", \"AvgCAHH\", \"AvgCAHA\", \"Attendance\"\n",
    "]"
   ],
   "metadata": {
    "collapsed": false,
    "ExecuteTime": {
     "end_time": "2024-01-04T18:09:06.467118900Z",
     "start_time": "2024-01-04T18:09:06.312479700Z"
    }
   },
   "id": "dc7351b4b5b40e52"
  },
  {
   "cell_type": "code",
   "execution_count": 149,
   "outputs": [],
   "source": [
    "for country in dfs:\n",
    "    for col in combined_labels:\n",
    "        dfs[country].drop(col,axis=1, inplace=True, errors='ignore')\n",
    "        dfs[country] = dfs[country][dfs[country][\"season\"] != 0]"
   ],
   "metadata": {
    "collapsed": false,
    "ExecuteTime": {
     "end_time": "2024-01-04T18:09:19.571026100Z",
     "start_time": "2024-01-04T18:09:06.328955400Z"
    }
   },
   "id": "c8f894d197f23716"
  },
  {
   "cell_type": "markdown",
   "source": [
    "# Export Dataset as .csv file"
   ],
   "metadata": {
    "collapsed": false
   },
   "id": "6ca8c6e9e8aa759e"
  },
  {
   "cell_type": "code",
   "execution_count": 150,
   "outputs": [],
   "source": [
    "for country in dfs:\n",
    "    dfs[country][dfs[country][\"season\"] != 22].to_csv(f\"data/train_preprocessed/{country}.csv\")\n",
    "    dfs[country][dfs[country][\"season\"] == 22].to_csv(f\"data/test_preprocessed/{country}.csv\")"
   ],
   "metadata": {
    "collapsed": false,
    "ExecuteTime": {
     "end_time": "2024-01-04T18:09:29.723740900Z",
     "start_time": "2024-01-04T18:09:19.572026500Z"
    }
   },
   "id": "7515491c70f17e4c"
  }
 ],
 "metadata": {
  "kernelspec": {
   "display_name": "Python 3",
   "language": "python",
   "name": "python3"
  },
  "language_info": {
   "codemirror_mode": {
    "name": "ipython",
    "version": 3
   },
   "file_extension": ".py",
   "mimetype": "text/x-python",
   "name": "python",
   "nbconvert_exporter": "python",
   "pygments_lexer": "ipython3",
   "version": "3.11.4"
  }
 },
 "nbformat": 4,
 "nbformat_minor": 5
}
