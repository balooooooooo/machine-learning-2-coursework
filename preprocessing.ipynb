{
 "cells": [
  {
   "cell_type": "markdown",
   "source": [
    "# Libraries"
   ],
   "metadata": {
    "collapsed": false
   },
   "id": "2714e0ed"
  },
  {
   "cell_type": "code",
   "execution_count": 12,
   "outputs": [],
   "source": [
    "import shutup\n",
    "import pandas as pd\n",
    "import numpy as np\n",
    "import os as os\n",
    "import matplotlib.pyplot as plt\n",
    "import re\n",
    "from sklearn.linear_model import PoissonRegressor"
   ],
   "metadata": {
    "collapsed": false,
    "ExecuteTime": {
     "end_time": "2024-01-07T19:10:48.390756600Z",
     "start_time": "2024-01-07T19:10:47.823489200Z"
    }
   },
   "id": "e051ae22ea092cdd"
  },
  {
   "cell_type": "markdown",
   "source": [
    "# Load train data\n",
    "\n",
    "- iterate through train data folder \n",
    "- feature engineer the **country** and **league** from parent folder name\n",
    "- join the loaded csv files by rows\n",
    "- removed quotation marks that would in some rows merge two columns into one"
   ],
   "metadata": {
    "collapsed": false
   },
   "id": "2ae94145eddab5e6"
  },
  {
   "cell_type": "code",
   "execution_count": 13,
   "outputs": [],
   "source": [
    "def replace_last(string, old, new):\n",
    "    return new.join(string.rsplit(old, 1))\n",
    "\n",
    "def delete_quotation_marks(path):\n",
    "    with open(path, \"r\") as f:\n",
    "        raw_file = f.readlines()\n",
    "        count=0\n",
    "        for i in range(len(raw_file)):\n",
    "            match = re.search(\"\\\"(\\+|-)?\\d+\\.?\\d*,(\\+|-)?\\d+\\.?\\d*\\\"\", raw_file[i])\n",
    "            if match:\n",
    "                count+=1\n",
    "                raw_file[i] = raw_file[i].replace(\"\\\"\",\"\")\n",
    "                raw_file[i] = replace_last(raw_file[i], \",\",\"\\n\")\n",
    "    with open(path, \"w\") as f:\n",
    "        f.writelines(raw_file)"
   ],
   "metadata": {
    "collapsed": false,
    "ExecuteTime": {
     "end_time": "2024-01-07T19:10:48.476044300Z",
     "start_time": "2024-01-07T19:10:47.835015400Z"
    }
   },
   "id": "cabc0efb30639685"
  },
  {
   "cell_type": "code",
   "execution_count": 14,
   "outputs": [],
   "source": [
    "### Load train data\n",
    "df = pd.DataFrame()\n",
    "for root, directory, files in os.walk(\"data/train\", topdown=False):\n",
    "    if files:\n",
    "        for file in files:\n",
    "            tmp = pd.read_csv(f\"{root}/{file}\")\n",
    "            # Remove empty rows and columns\n",
    "            tmp = tmp.dropna(how='all', axis=0)\n",
    "            tmp = tmp.dropna(how='all', axis=1)\n",
    "            # Derive additional columns\n",
    "            tmp[\"league\"] = int(root.split(\"\\\\\")[2])\n",
    "            tmp[\"country\"] = root.split(\"\\\\\")[1]\n",
    "            tmp[\"season\"] = int(file[:2]) # no. of season - 00/01 - 0th season, 21/22 - 21st season\n",
    "            df = pd.concat([df, tmp], axis = 0)\n",
    "df.sort_values(by=\"Date\", inplace=True)\n",
    "\n",
    "### Load test data\n",
    "df_test = pd.DataFrame()\n",
    "for root, directory, files in os.walk(\"data/test\", topdown=False):\n",
    "    if files:\n",
    "        for file in files:\n",
    "            tmp = pd.read_csv(f\"{root}/{file}\")\n",
    "            # Remove empty rows and columns\n",
    "            tmp = tmp.dropna(how='all', axis=0)\n",
    "            tmp = tmp.dropna(how='all', axis=1)\n",
    "            # Derive additional columns\n",
    "            tmp[\"league\"] = int(root.split(\"\\\\\")[2])\n",
    "            tmp[\"country\"] = root.split(\"\\\\\")[1]\n",
    "            tmp[\"season\"] = 22 # no. of season - 00/01 - 0th season, 21/22 - 21st season\n",
    "            # tmp[\"orig_index\"] = tmp.index\n",
    "            df_test = pd.concat([df_test, tmp], axis = 0)\n",
    "\n",
    "df = pd.concat([df, df_test], axis=0, join=\"outer\")"
   ],
   "metadata": {
    "collapsed": false,
    "ExecuteTime": {
     "end_time": "2024-01-07T19:11:14.272911700Z",
     "start_time": "2024-01-07T19:10:47.857056500Z"
    }
   },
   "id": "38d7588280b5dd96"
  },
  {
   "cell_type": "code",
   "execution_count": 15,
   "outputs": [],
   "source": [
    "df.to_csv(\"combined.csv\")"
   ],
   "metadata": {
    "collapsed": false,
    "ExecuteTime": {
     "end_time": "2024-01-07T19:11:20.243087Z",
     "start_time": "2024-01-07T19:11:14.272911700Z"
    }
   },
   "id": "ff8a9a332fc151b0"
  },
  {
   "cell_type": "code",
   "execution_count": 16,
   "outputs": [],
   "source": [
    "delete_quotation_marks(\"combined.csv\")"
   ],
   "metadata": {
    "collapsed": false,
    "ExecuteTime": {
     "end_time": "2024-01-07T19:11:21.020167100Z",
     "start_time": "2024-01-07T19:11:20.243087Z"
    }
   },
   "id": "3bdecf73024ac859"
  },
  {
   "cell_type": "code",
   "execution_count": 17,
   "outputs": [],
   "source": [
    "shutup.please()\n",
    "df = pd.read_csv(\"combined.csv\")"
   ],
   "metadata": {
    "collapsed": false,
    "ExecuteTime": {
     "end_time": "2024-01-07T19:11:22.038672900Z",
     "start_time": "2024-01-07T19:11:21.022991900Z"
    }
   },
   "id": "13b6c7342ccd09f5"
  },
  {
   "cell_type": "markdown",
   "source": [
    "# Data validation\n",
    "\n",
    "In some cases, the data is wrong. This section corrects the loaded data."
   ],
   "metadata": {
    "collapsed": false
   },
   "id": "4ba4606dc9c7a36f"
  },
  {
   "cell_type": "markdown",
   "source": [
    "## Same name for different things\n",
    "\n",
    "In some cases, columns are named differently. We will standardize to use column names that are in *'notes.txt'*\n"
   ],
   "metadata": {
    "collapsed": false
   },
   "id": "13b8d39a27682c20"
  },
  {
   "cell_type": "code",
   "execution_count": 18,
   "outputs": [
    {
     "name": "stdout",
     "output_type": "stream",
     "text": [
      "Cases for HT: data/train\\greece\\1, 0001.csv\n",
      "Cases for AT: data/train\\greece\\1, 0001.csv\n",
      "Cases for HT: data/train\\greece\\1, 0102.csv\n",
      "Cases for AT: data/train\\greece\\1, 0102.csv\n",
      "Cases for HT: data/train\\greece\\1, 0203.csv\n",
      "Cases for AT: data/train\\greece\\1, 0203.csv\n",
      "Cases for HT: data/train\\greece\\1, 0304.csv\n",
      "Cases for AT: data/train\\greece\\1, 0304.csv\n",
      "Cases for HT: data/train\\greece\\1, 0405.csv\n",
      "Cases for AT: data/train\\greece\\1, 0405.csv\n"
     ]
    }
   ],
   "source": [
    "for root, directory, files in os.walk(\"data/train\", topdown=False):\n",
    "    if files:\n",
    "        for file in files:\n",
    "            tmp = pd.read_csv(f\"{root}/{file}\")\n",
    "            if \"HT\" in tmp.columns:\n",
    "                print(f\"Cases for HT: {root}, {file}\")\n",
    "            if \"AT\" in tmp.columns:\n",
    "                print(f\"Cases for AT: {root}, {file}\")"
   ],
   "metadata": {
    "collapsed": false,
    "ExecuteTime": {
     "end_time": "2024-01-07T19:11:23.227407700Z",
     "start_time": "2024-01-07T19:11:22.041190Z"
    }
   },
   "id": "b38a427d869d5318"
  },
  {
   "cell_type": "markdown",
   "source": [
    "The only affected data are in Greece."
   ],
   "metadata": {
    "collapsed": false
   },
   "id": "910562b947564879"
  },
  {
   "cell_type": "code",
   "execution_count": 19,
   "outputs": [],
   "source": [
    "df[\"HomeTeam\"] = df[\"HomeTeam\"].mask(df[\"HT\"].notnull(), df[\"HT\"])\n",
    "df[\"AwayTeam\"] = df[\"AwayTeam\"].mask(df[\"AT\"].notnull(), df[\"AT\"])\n",
    "df = df.drop(columns = [\"HT\", \"AT\"])"
   ],
   "metadata": {
    "collapsed": false,
    "ExecuteTime": {
     "end_time": "2024-01-07T19:11:23.305546Z",
     "start_time": "2024-01-07T19:11:23.228408600Z"
    }
   },
   "id": "a6ec392c63fe6c76"
  },
  {
   "cell_type": "code",
   "execution_count": 20,
   "outputs": [],
   "source": [
    "df.drop(df[df[\"HomeTeam\"] == df[\"AwayTeam\"]].index, inplace=True) # remove cases where teams play against themselves"
   ],
   "metadata": {
    "collapsed": false,
    "ExecuteTime": {
     "end_time": "2024-01-07T19:11:23.385221200Z",
     "start_time": "2024-01-07T19:11:23.306547800Z"
    }
   },
   "id": "9d2d1dcb19e3ce38"
  },
  {
   "cell_type": "code",
   "execution_count": 21,
   "outputs": [],
   "source": [
    "# df[\"Date\"] = pd.to_datetime(df[\"Date\"], format = '%d/%m/%Y', dayfirst=True)"
   ],
   "metadata": {
    "collapsed": false,
    "ExecuteTime": {
     "end_time": "2024-01-07T19:11:23.401757500Z",
     "start_time": "2024-01-07T19:11:23.386222Z"
    }
   },
   "id": "55f66d0e63b7982a"
  },
  {
   "cell_type": "markdown",
   "source": [
    "## Not imputable data\n",
    "\n",
    "In some cases, missing data cause the data to be unusable and can't be computed. This applies to variables\n",
    "\n",
    "- HomeTeam\n",
    "- AwayTeam"
   ],
   "metadata": {
    "collapsed": false
   },
   "id": "c551a44639ce963a"
  },
  {
   "cell_type": "code",
   "execution_count": 22,
   "outputs": [],
   "source": [
    "crucial_cols = ['Date', 'HomeTeam', 'AwayTeam']\n",
    "df = df.dropna(subset = crucial_cols)"
   ],
   "metadata": {
    "collapsed": false,
    "ExecuteTime": {
     "end_time": "2024-01-07T19:11:23.495303100Z",
     "start_time": "2024-01-07T19:11:23.401757500Z"
    }
   },
   "id": "79a6dc9ad52b014a"
  },
  {
   "cell_type": "code",
   "execution_count": 23,
   "outputs": [
    {
     "data": {
      "text/plain": "              HFKC         AFKC\ncount  1305.000000  1305.000000\nmean     16.627586    17.283525\nstd       4.386871     4.735901\nmin       2.000000     2.000000\n25%      14.000000    14.000000\n50%      16.000000    17.000000\n75%      20.000000    20.000000\nmax      32.000000    34.000000",
      "text/html": "<div>\n<style scoped>\n    .dataframe tbody tr th:only-of-type {\n        vertical-align: middle;\n    }\n\n    .dataframe tbody tr th {\n        vertical-align: top;\n    }\n\n    .dataframe thead th {\n        text-align: right;\n    }\n</style>\n<table border=\"1\" class=\"dataframe\">\n  <thead>\n    <tr style=\"text-align: right;\">\n      <th></th>\n      <th>HFKC</th>\n      <th>AFKC</th>\n    </tr>\n  </thead>\n  <tbody>\n    <tr>\n      <th>count</th>\n      <td>1305.000000</td>\n      <td>1305.000000</td>\n    </tr>\n    <tr>\n      <th>mean</th>\n      <td>16.627586</td>\n      <td>17.283525</td>\n    </tr>\n    <tr>\n      <th>std</th>\n      <td>4.386871</td>\n      <td>4.735901</td>\n    </tr>\n    <tr>\n      <th>min</th>\n      <td>2.000000</td>\n      <td>2.000000</td>\n    </tr>\n    <tr>\n      <th>25%</th>\n      <td>14.000000</td>\n      <td>14.000000</td>\n    </tr>\n    <tr>\n      <th>50%</th>\n      <td>16.000000</td>\n      <td>17.000000</td>\n    </tr>\n    <tr>\n      <th>75%</th>\n      <td>20.000000</td>\n      <td>20.000000</td>\n    </tr>\n    <tr>\n      <th>max</th>\n      <td>32.000000</td>\n      <td>34.000000</td>\n    </tr>\n  </tbody>\n</table>\n</div>"
     },
     "execution_count": 23,
     "metadata": {},
     "output_type": "execute_result"
    }
   ],
   "source": [
    "df[[\"HFKC\", \"AFKC\"]].describe()"
   ],
   "metadata": {
    "collapsed": false,
    "ExecuteTime": {
     "end_time": "2024-01-07T19:11:23.557351700Z",
     "start_time": "2024-01-07T19:11:23.496304500Z"
    }
   },
   "id": "8f63ed5248520abe"
  },
  {
   "cell_type": "markdown",
   "source": [
    "## Goal validation\n",
    "\n",
    "Some goals are incorrect and they need to be fixed.\n",
    "\n"
   ],
   "metadata": {
    "collapsed": false
   },
   "id": "f4acf7b9deb3b17e"
  },
  {
   "cell_type": "code",
   "execution_count": 24,
   "outputs": [
    {
     "data": {
      "text/plain": "                FTHG           FTAG           HTHG           HTAG\ncount  154495.000000  154473.000000  154445.000000  154454.000000\nmean        2.217761       1.131447       0.655308       0.494315\nstd        21.887856       1.108842       0.809085       0.708314\nmin         0.000000      -1.000000       0.000000       0.000000\n25%         1.000000       0.000000       0.000000       0.000000\n50%         1.000000       1.000000       0.000000       0.000000\n75%         2.000000       2.000000       1.000000       1.000000\nmax       998.000000      13.000000       7.000000       6.000000",
      "text/html": "<div>\n<style scoped>\n    .dataframe tbody tr th:only-of-type {\n        vertical-align: middle;\n    }\n\n    .dataframe tbody tr th {\n        vertical-align: top;\n    }\n\n    .dataframe thead th {\n        text-align: right;\n    }\n</style>\n<table border=\"1\" class=\"dataframe\">\n  <thead>\n    <tr style=\"text-align: right;\">\n      <th></th>\n      <th>FTHG</th>\n      <th>FTAG</th>\n      <th>HTHG</th>\n      <th>HTAG</th>\n    </tr>\n  </thead>\n  <tbody>\n    <tr>\n      <th>count</th>\n      <td>154495.000000</td>\n      <td>154473.000000</td>\n      <td>154445.000000</td>\n      <td>154454.000000</td>\n    </tr>\n    <tr>\n      <th>mean</th>\n      <td>2.217761</td>\n      <td>1.131447</td>\n      <td>0.655308</td>\n      <td>0.494315</td>\n    </tr>\n    <tr>\n      <th>std</th>\n      <td>21.887856</td>\n      <td>1.108842</td>\n      <td>0.809085</td>\n      <td>0.708314</td>\n    </tr>\n    <tr>\n      <th>min</th>\n      <td>0.000000</td>\n      <td>-1.000000</td>\n      <td>0.000000</td>\n      <td>0.000000</td>\n    </tr>\n    <tr>\n      <th>25%</th>\n      <td>1.000000</td>\n      <td>0.000000</td>\n      <td>0.000000</td>\n      <td>0.000000</td>\n    </tr>\n    <tr>\n      <th>50%</th>\n      <td>1.000000</td>\n      <td>1.000000</td>\n      <td>0.000000</td>\n      <td>0.000000</td>\n    </tr>\n    <tr>\n      <th>75%</th>\n      <td>2.000000</td>\n      <td>2.000000</td>\n      <td>1.000000</td>\n      <td>1.000000</td>\n    </tr>\n    <tr>\n      <th>max</th>\n      <td>998.000000</td>\n      <td>13.000000</td>\n      <td>7.000000</td>\n      <td>6.000000</td>\n    </tr>\n  </tbody>\n</table>\n</div>"
     },
     "execution_count": 24,
     "metadata": {},
     "output_type": "execute_result"
    }
   ],
   "source": [
    "goal_cols = [\"FTHG\", \"FTAG\", \"HTHG\", \"HTAG\"]\n",
    "df[goal_cols].describe()"
   ],
   "metadata": {
    "collapsed": false,
    "ExecuteTime": {
     "end_time": "2024-01-07T19:11:23.665513800Z",
     "start_time": "2024-01-07T19:11:23.528400900Z"
    }
   },
   "id": "657538d5cf004510"
  },
  {
   "cell_type": "markdown",
   "source": [
    "There seem to be several issues:\n",
    "\n",
    "- the max value for **FTHG** is absurd\n",
    "- the min value for **FTAG** does not make sense\n",
    "- some values are missing"
   ],
   "metadata": {
    "collapsed": false
   },
   "id": "2aa520f7268f331d"
  },
  {
   "cell_type": "code",
   "execution_count": 25,
   "outputs": [
    {
     "data": {
      "text/plain": "FTHG\n1.0      51639\n2.0      37642\n0.0      36011\n3.0      18462\n4.0       7202\n5.0       2343\n6.0        751\n7.0        185\n8.0         42\n9.0         14\n339.0        5\n10.0         5\n373.0        4\n772.0        4\n572.0        4\nName: count, dtype: int64"
     },
     "execution_count": 25,
     "metadata": {},
     "output_type": "execute_result"
    }
   ],
   "source": [
    "df[\"FTHG\"].value_counts().head(15)"
   ],
   "metadata": {
    "collapsed": false,
    "ExecuteTime": {
     "end_time": "2024-01-07T19:11:23.727553700Z",
     "start_time": "2024-01-07T19:11:23.575390300Z"
    }
   },
   "id": "3a2d1f300c063570"
  },
  {
   "cell_type": "markdown",
   "source": [
    "First, we will remove all rows where the Full Time Home Goals are greater than 15."
   ],
   "metadata": {
    "collapsed": false
   },
   "id": "c69ffe8dd5a43a13"
  },
  {
   "cell_type": "code",
   "execution_count": 26,
   "outputs": [],
   "source": [
    "df_22 = df[df[\"season\"] == 22] # this split is necessary as goal values are unknown for test season\n",
    "df = df[df[\"FTHG\"] <= 15] # this line gets also rid of all NaNs\n",
    "df = pd.concat([df, df_22])"
   ],
   "metadata": {
    "collapsed": false,
    "ExecuteTime": {
     "end_time": "2024-01-07T19:11:23.824366600Z",
     "start_time": "2024-01-07T19:11:23.594149200Z"
    }
   },
   "id": "7c3d6a035bd61f5e"
  },
  {
   "cell_type": "markdown",
   "source": [
    "Next, all Full Time Away goals that are less than zero are inspected. Since we are not sure which values are good and bad, all of them are removed."
   ],
   "metadata": {
    "collapsed": false
   },
   "id": "2334a5cf5203f897"
  },
  {
   "cell_type": "code",
   "execution_count": 27,
   "outputs": [],
   "source": [
    "# df_22 = df[df[\"season\"] == 22] # keep season 22\n",
    "df = df[df[\"FTAG\"] >= 0]\n",
    "df = pd.concat([df, df_22])"
   ],
   "metadata": {
    "collapsed": false,
    "ExecuteTime": {
     "end_time": "2024-01-07T19:11:23.916004700Z",
     "start_time": "2024-01-07T19:11:23.748605Z"
    }
   },
   "id": "222e2ecfc432def5"
  },
  {
   "cell_type": "code",
   "execution_count": 28,
   "outputs": [
    {
     "data": {
      "text/plain": "7277"
     },
     "execution_count": 28,
     "metadata": {},
     "output_type": "execute_result"
    }
   ],
   "source": [
    "df[\"FTHG\"].isna().sum() # there should be 7277, which is the count of rows in season 22"
   ],
   "metadata": {
    "collapsed": false,
    "ExecuteTime": {
     "end_time": "2024-01-07T19:11:23.966647Z",
     "start_time": "2024-01-07T19:11:23.906482100Z"
    }
   },
   "id": "cad1888faa5c1492"
  },
  {
   "cell_type": "code",
   "execution_count": 29,
   "outputs": [
    {
     "data": {
      "text/plain": "7277"
     },
     "execution_count": 29,
     "metadata": {},
     "output_type": "execute_result"
    }
   ],
   "source": [
    "df[\"FTAG\"].isna().sum()"
   ],
   "metadata": {
    "collapsed": false,
    "ExecuteTime": {
     "end_time": "2024-01-07T19:11:23.982683700Z",
     "start_time": "2024-01-07T19:11:23.921515300Z"
    }
   },
   "id": "4a38347e679a7df0"
  },
  {
   "cell_type": "markdown",
   "source": [
    "What's left are the missing values in 'HTHG' and 'HTAG' columns. We have no way of recomputing these as well and these rows are again excluded."
   ],
   "metadata": {
    "collapsed": false
   },
   "id": "74ea71a7360aa200"
  },
  {
   "cell_type": "code",
   "execution_count": 30,
   "outputs": [],
   "source": [
    "cols = [\"HTHG\", \"HTAG\"]\n",
    "df_22 = df[df[\"season\"] == 22]\n",
    "# df_pre22 = df[df[\"season\"] != 22]\n",
    "df = df[df[cols].isna().sum(axis=1) == 0]\n",
    "df = pd.concat([df, df_22], axis=0)\n",
    "# df[\"season\"].unique()"
   ],
   "metadata": {
    "collapsed": false,
    "ExecuteTime": {
     "end_time": "2024-01-07T19:11:24.124816400Z",
     "start_time": "2024-01-07T19:11:23.939047600Z"
    }
   },
   "id": "8b9a3961024b8d5a"
  },
  {
   "cell_type": "markdown",
   "source": [
    "If we run the describe() function again, we can see that the counts in all columns match and min/max statistics make sense."
   ],
   "metadata": {
    "collapsed": false
   },
   "id": "8832d12e29a8ce13"
  },
  {
   "cell_type": "code",
   "execution_count": 31,
   "outputs": [
    {
     "data": {
      "text/plain": "                FTHG           FTAG           HTHG           HTAG\ncount  153834.000000  153834.000000  153834.000000  153834.000000\nmean        1.485536       1.133768       0.655369       0.494481\nstd         1.253200       1.107155       0.809073       0.708545\nmin         0.000000       0.000000       0.000000       0.000000\n25%         1.000000       0.000000       0.000000       0.000000\n50%         1.000000       1.000000       0.000000       0.000000\n75%         2.000000       2.000000       1.000000       1.000000\nmax        10.000000      13.000000       7.000000       6.000000",
      "text/html": "<div>\n<style scoped>\n    .dataframe tbody tr th:only-of-type {\n        vertical-align: middle;\n    }\n\n    .dataframe tbody tr th {\n        vertical-align: top;\n    }\n\n    .dataframe thead th {\n        text-align: right;\n    }\n</style>\n<table border=\"1\" class=\"dataframe\">\n  <thead>\n    <tr style=\"text-align: right;\">\n      <th></th>\n      <th>FTHG</th>\n      <th>FTAG</th>\n      <th>HTHG</th>\n      <th>HTAG</th>\n    </tr>\n  </thead>\n  <tbody>\n    <tr>\n      <th>count</th>\n      <td>153834.000000</td>\n      <td>153834.000000</td>\n      <td>153834.000000</td>\n      <td>153834.000000</td>\n    </tr>\n    <tr>\n      <th>mean</th>\n      <td>1.485536</td>\n      <td>1.133768</td>\n      <td>0.655369</td>\n      <td>0.494481</td>\n    </tr>\n    <tr>\n      <th>std</th>\n      <td>1.253200</td>\n      <td>1.107155</td>\n      <td>0.809073</td>\n      <td>0.708545</td>\n    </tr>\n    <tr>\n      <th>min</th>\n      <td>0.000000</td>\n      <td>0.000000</td>\n      <td>0.000000</td>\n      <td>0.000000</td>\n    </tr>\n    <tr>\n      <th>25%</th>\n      <td>1.000000</td>\n      <td>0.000000</td>\n      <td>0.000000</td>\n      <td>0.000000</td>\n    </tr>\n    <tr>\n      <th>50%</th>\n      <td>1.000000</td>\n      <td>1.000000</td>\n      <td>0.000000</td>\n      <td>0.000000</td>\n    </tr>\n    <tr>\n      <th>75%</th>\n      <td>2.000000</td>\n      <td>2.000000</td>\n      <td>1.000000</td>\n      <td>1.000000</td>\n    </tr>\n    <tr>\n      <th>max</th>\n      <td>10.000000</td>\n      <td>13.000000</td>\n      <td>7.000000</td>\n      <td>6.000000</td>\n    </tr>\n  </tbody>\n</table>\n</div>"
     },
     "execution_count": 31,
     "metadata": {},
     "output_type": "execute_result"
    }
   ],
   "source": [
    "df[goal_cols].describe()"
   ],
   "metadata": {
    "collapsed": false,
    "ExecuteTime": {
     "end_time": "2024-01-07T19:11:24.201931500Z",
     "start_time": "2024-01-07T19:11:24.110946900Z"
    }
   },
   "id": "6bbd84ad89c9626a"
  },
  {
   "cell_type": "markdown",
   "source": [
    "### Shots on target imputation"
   ],
   "metadata": {
    "collapsed": false
   },
   "id": "3f8e17580598af17"
  },
  {
   "cell_type": "code",
   "execution_count": 32,
   "outputs": [],
   "source": [
    "lm = PoissonRegressor()\n",
    "\n",
    "y_train = df[df[\"season\"] != 22][[\"AST\", \"HST\"]]\n",
    "X_train = df[df[\"season\"] != 22][[\"AST\", \"HST\", \"FTAG\", \"FTHG\"]]\n",
    "X_train.dropna(subset=[\"AST\", \"HST\"],axis=0, inplace=True, how='any')\n",
    "y_train.dropna(axis=0, inplace=True, how='any')"
   ],
   "metadata": {
    "collapsed": false,
    "ExecuteTime": {
     "end_time": "2024-01-07T19:11:24.342553100Z",
     "start_time": "2024-01-07T19:11:24.158397500Z"
    }
   },
   "id": "c28dadfdafe7d51a"
  },
  {
   "cell_type": "code",
   "execution_count": 33,
   "outputs": [],
   "source": [
    "X_train = pd.concat([X_train[\"FTAG\"],X_train[\"FTHG\"]], axis=0)\n",
    "y_train = pd.concat([y_train[\"AST\"], y_train[\"HST\"]], axis=0)\n",
    "\n",
    "X_train = np.array(X_train).reshape(-1,1)\n",
    "y_train = np.array(y_train).reshape(-1,1)"
   ],
   "metadata": {
    "collapsed": false,
    "ExecuteTime": {
     "end_time": "2024-01-07T19:11:24.355078100Z",
     "start_time": "2024-01-07T19:11:24.315912900Z"
    }
   },
   "id": "4466a6b14cb967f"
  },
  {
   "cell_type": "code",
   "execution_count": 34,
   "outputs": [
    {
     "data": {
      "text/plain": "PoissonRegressor()",
      "text/html": "<style>#sk-container-id-1 {color: black;}#sk-container-id-1 pre{padding: 0;}#sk-container-id-1 div.sk-toggleable {background-color: white;}#sk-container-id-1 label.sk-toggleable__label {cursor: pointer;display: block;width: 100%;margin-bottom: 0;padding: 0.3em;box-sizing: border-box;text-align: center;}#sk-container-id-1 label.sk-toggleable__label-arrow:before {content: \"▸\";float: left;margin-right: 0.25em;color: #696969;}#sk-container-id-1 label.sk-toggleable__label-arrow:hover:before {color: black;}#sk-container-id-1 div.sk-estimator:hover label.sk-toggleable__label-arrow:before {color: black;}#sk-container-id-1 div.sk-toggleable__content {max-height: 0;max-width: 0;overflow: hidden;text-align: left;background-color: #f0f8ff;}#sk-container-id-1 div.sk-toggleable__content pre {margin: 0.2em;color: black;border-radius: 0.25em;background-color: #f0f8ff;}#sk-container-id-1 input.sk-toggleable__control:checked~div.sk-toggleable__content {max-height: 200px;max-width: 100%;overflow: auto;}#sk-container-id-1 input.sk-toggleable__control:checked~label.sk-toggleable__label-arrow:before {content: \"▾\";}#sk-container-id-1 div.sk-estimator input.sk-toggleable__control:checked~label.sk-toggleable__label {background-color: #d4ebff;}#sk-container-id-1 div.sk-label input.sk-toggleable__control:checked~label.sk-toggleable__label {background-color: #d4ebff;}#sk-container-id-1 input.sk-hidden--visually {border: 0;clip: rect(1px 1px 1px 1px);clip: rect(1px, 1px, 1px, 1px);height: 1px;margin: -1px;overflow: hidden;padding: 0;position: absolute;width: 1px;}#sk-container-id-1 div.sk-estimator {font-family: monospace;background-color: #f0f8ff;border: 1px dotted black;border-radius: 0.25em;box-sizing: border-box;margin-bottom: 0.5em;}#sk-container-id-1 div.sk-estimator:hover {background-color: #d4ebff;}#sk-container-id-1 div.sk-parallel-item::after {content: \"\";width: 100%;border-bottom: 1px solid gray;flex-grow: 1;}#sk-container-id-1 div.sk-label:hover label.sk-toggleable__label {background-color: #d4ebff;}#sk-container-id-1 div.sk-serial::before {content: \"\";position: absolute;border-left: 1px solid gray;box-sizing: border-box;top: 0;bottom: 0;left: 50%;z-index: 0;}#sk-container-id-1 div.sk-serial {display: flex;flex-direction: column;align-items: center;background-color: white;padding-right: 0.2em;padding-left: 0.2em;position: relative;}#sk-container-id-1 div.sk-item {position: relative;z-index: 1;}#sk-container-id-1 div.sk-parallel {display: flex;align-items: stretch;justify-content: center;background-color: white;position: relative;}#sk-container-id-1 div.sk-item::before, #sk-container-id-1 div.sk-parallel-item::before {content: \"\";position: absolute;border-left: 1px solid gray;box-sizing: border-box;top: 0;bottom: 0;left: 50%;z-index: -1;}#sk-container-id-1 div.sk-parallel-item {display: flex;flex-direction: column;z-index: 1;position: relative;background-color: white;}#sk-container-id-1 div.sk-parallel-item:first-child::after {align-self: flex-end;width: 50%;}#sk-container-id-1 div.sk-parallel-item:last-child::after {align-self: flex-start;width: 50%;}#sk-container-id-1 div.sk-parallel-item:only-child::after {width: 0;}#sk-container-id-1 div.sk-dashed-wrapped {border: 1px dashed gray;margin: 0 0.4em 0.5em 0.4em;box-sizing: border-box;padding-bottom: 0.4em;background-color: white;}#sk-container-id-1 div.sk-label label {font-family: monospace;font-weight: bold;display: inline-block;line-height: 1.2em;}#sk-container-id-1 div.sk-label-container {text-align: center;}#sk-container-id-1 div.sk-container {/* jupyter's `normalize.less` sets `[hidden] { display: none; }` but bootstrap.min.css set `[hidden] { display: none !important; }` so we also need the `!important` here to be able to override the default hidden behavior on the sphinx rendered scikit-learn.org. See: https://github.com/scikit-learn/scikit-learn/issues/21755 */display: inline-block !important;position: relative;}#sk-container-id-1 div.sk-text-repr-fallback {display: none;}</style><div id=\"sk-container-id-1\" class=\"sk-top-container\"><div class=\"sk-text-repr-fallback\"><pre>PoissonRegressor()</pre><b>In a Jupyter environment, please rerun this cell to show the HTML representation or trust the notebook. <br />On GitHub, the HTML representation is unable to render, please try loading this page with nbviewer.org.</b></div><div class=\"sk-container\" hidden><div class=\"sk-item\"><div class=\"sk-estimator sk-toggleable\"><input class=\"sk-toggleable__control sk-hidden--visually\" id=\"sk-estimator-id-1\" type=\"checkbox\" checked><label for=\"sk-estimator-id-1\" class=\"sk-toggleable__label sk-toggleable__label-arrow\">PoissonRegressor</label><div class=\"sk-toggleable__content\"><pre>PoissonRegressor()</pre></div></div></div></div></div>"
     },
     "execution_count": 34,
     "metadata": {},
     "output_type": "execute_result"
    }
   ],
   "source": [
    "lm.fit(X_train, y_train)"
   ],
   "metadata": {
    "collapsed": false,
    "ExecuteTime": {
     "end_time": "2024-01-07T19:11:24.468300600Z",
     "start_time": "2024-01-07T19:11:24.329931900Z"
    }
   },
   "id": "c48eeaf0ca420e68"
  },
  {
   "cell_type": "code",
   "execution_count": 35,
   "outputs": [],
   "source": [
    "X_pred_HST = df[(df[\"season\"] != 22) & (df[\"HST\"].isna())][[\"HST\", \"FTHG\"]]\n",
    "\n",
    "X_pred_AST = df[(df[\"season\"] != 22) & (df[\"AST\"].isna())][[\"AST\", \"FTAG\"]]"
   ],
   "metadata": {
    "collapsed": false,
    "ExecuteTime": {
     "end_time": "2024-01-07T19:11:24.542424100Z",
     "start_time": "2024-01-07T19:11:24.440243200Z"
    }
   },
   "id": "2c5ad5aa07f91f04"
  },
  {
   "cell_type": "code",
   "execution_count": 36,
   "outputs": [],
   "source": [
    "X_pred_AST =   np.array(X_pred_AST[\"FTAG\"]).reshape(-1,1)\n",
    "X_pred_HST =  np.array(X_pred_HST[\"FTHG\"]).reshape(-1,1)\n"
   ],
   "metadata": {
    "collapsed": false,
    "ExecuteTime": {
     "end_time": "2024-01-07T19:11:24.561962Z",
     "start_time": "2024-01-07T19:11:24.533242900Z"
    }
   },
   "id": "f12ef5cc91809445"
  },
  {
   "cell_type": "code",
   "execution_count": 37,
   "outputs": [],
   "source": [
    "y_pred_HST = lm.predict(X_pred_HST)\n",
    "y_pred_AST = lm.predict(X_pred_AST)"
   ],
   "metadata": {
    "collapsed": false,
    "ExecuteTime": {
     "end_time": "2024-01-07T19:11:24.566966400Z",
     "start_time": "2024-01-07T19:11:24.549933200Z"
    }
   },
   "id": "74f9dea5b6125941"
  },
  {
   "cell_type": "code",
   "execution_count": 38,
   "outputs": [],
   "source": [
    "X_pred_HST = df[df[\"season\"]!= 22][[\"HST\", \"FTHG\"]]\n",
    "X_pred_AST = df[df[\"season\"]!= 22][[\"AST\", \"FTAG\"]]\n",
    "X_pred_HST = X_pred_HST[X_pred_HST.isna().any(axis=1)]\n",
    "X_pred_AST = X_pred_AST[X_pred_AST.isna().any(axis=1)]"
   ],
   "metadata": {
    "collapsed": false,
    "ExecuteTime": {
     "end_time": "2024-01-07T19:11:24.734328600Z",
     "start_time": "2024-01-07T19:11:24.565966100Z"
    }
   },
   "id": "26ddf4a3308299eb"
  },
  {
   "cell_type": "code",
   "execution_count": 39,
   "outputs": [],
   "source": [
    "X_pred_AST[\"AST\"] = y_pred_AST\n",
    "X_pred_HST[\"HST\"] = y_pred_HST"
   ],
   "metadata": {
    "collapsed": false,
    "ExecuteTime": {
     "end_time": "2024-01-07T19:11:24.749854300Z",
     "start_time": "2024-01-07T19:11:24.735329700Z"
    }
   },
   "id": "63d790614220db57"
  },
  {
   "cell_type": "code",
   "execution_count": 40,
   "outputs": [
    {
     "data": {
      "text/plain": "             HST  FTHG\n49      4.342496   1.0\n54      5.213597   2.0\n55      5.213597   2.0\n64      5.213597   2.0\n69      6.259441   3.0\n...          ...   ...\n154779  4.342496   1.0\n154780  5.213597   2.0\n154781  5.213597   2.0\n154782  3.616940   0.0\n154786  3.616940   0.0\n\n[63098 rows x 2 columns]",
      "text/html": "<div>\n<style scoped>\n    .dataframe tbody tr th:only-of-type {\n        vertical-align: middle;\n    }\n\n    .dataframe tbody tr th {\n        vertical-align: top;\n    }\n\n    .dataframe thead th {\n        text-align: right;\n    }\n</style>\n<table border=\"1\" class=\"dataframe\">\n  <thead>\n    <tr style=\"text-align: right;\">\n      <th></th>\n      <th>HST</th>\n      <th>FTHG</th>\n    </tr>\n  </thead>\n  <tbody>\n    <tr>\n      <th>49</th>\n      <td>4.342496</td>\n      <td>1.0</td>\n    </tr>\n    <tr>\n      <th>54</th>\n      <td>5.213597</td>\n      <td>2.0</td>\n    </tr>\n    <tr>\n      <th>55</th>\n      <td>5.213597</td>\n      <td>2.0</td>\n    </tr>\n    <tr>\n      <th>64</th>\n      <td>5.213597</td>\n      <td>2.0</td>\n    </tr>\n    <tr>\n      <th>69</th>\n      <td>6.259441</td>\n      <td>3.0</td>\n    </tr>\n    <tr>\n      <th>...</th>\n      <td>...</td>\n      <td>...</td>\n    </tr>\n    <tr>\n      <th>154779</th>\n      <td>4.342496</td>\n      <td>1.0</td>\n    </tr>\n    <tr>\n      <th>154780</th>\n      <td>5.213597</td>\n      <td>2.0</td>\n    </tr>\n    <tr>\n      <th>154781</th>\n      <td>5.213597</td>\n      <td>2.0</td>\n    </tr>\n    <tr>\n      <th>154782</th>\n      <td>3.616940</td>\n      <td>0.0</td>\n    </tr>\n    <tr>\n      <th>154786</th>\n      <td>3.616940</td>\n      <td>0.0</td>\n    </tr>\n  </tbody>\n</table>\n<p>63098 rows × 2 columns</p>\n</div>"
     },
     "execution_count": 40,
     "metadata": {},
     "output_type": "execute_result"
    }
   ],
   "source": [
    "X_pred_HST"
   ],
   "metadata": {
    "collapsed": false,
    "ExecuteTime": {
     "end_time": "2024-01-07T19:11:24.786956Z",
     "start_time": "2024-01-07T19:11:24.754900600Z"
    }
   },
   "id": "eafbb55876b3653"
  },
  {
   "cell_type": "code",
   "execution_count": 41,
   "outputs": [
    {
     "data": {
      "text/plain": "49       NaN\n54       NaN\n55       NaN\n64       NaN\n69       NaN\n          ..\n154779   NaN\n154780   NaN\n154781   NaN\n154782   NaN\n154786   NaN\nName: HST, Length: 63098, dtype: float64"
     },
     "execution_count": 41,
     "metadata": {},
     "output_type": "execute_result"
    }
   ],
   "source": [
    "df[(df[\"season\"] != 22) & (df[\"HST\"].isna())][\"HST\"]"
   ],
   "metadata": {
    "collapsed": false,
    "ExecuteTime": {
     "end_time": "2024-01-07T19:11:24.904155Z",
     "start_time": "2024-01-07T19:11:24.766415Z"
    }
   },
   "id": "549309244bcf0e04"
  },
  {
   "cell_type": "code",
   "execution_count": 42,
   "outputs": [],
   "source": [
    "df.loc[(df[\"season\"] != 22) & (df[\"AST\"].isna()), \"AST\"] = X_pred_AST[\"AST\"]\n",
    "df.loc[(df[\"season\"] != 22) & (df[\"HST\"].isna()), \"HST\"] = X_pred_HST[\"HST\"]"
   ],
   "metadata": {
    "collapsed": false,
    "ExecuteTime": {
     "end_time": "2024-01-07T19:11:24.918672700Z",
     "start_time": "2024-01-07T19:11:24.813159800Z"
    }
   },
   "id": "5773b872b2defc3a"
  },
  {
   "cell_type": "code",
   "execution_count": 43,
   "outputs": [
    {
     "data": {
      "text/plain": "0         5.0\n2         8.0\n3         6.0\n4         6.0\n5         3.0\n         ... \n154801    0.0\n154802    6.0\n154803    4.0\n154804    2.0\n154805    4.0\nName: HST, Length: 153834, dtype: float64"
     },
     "execution_count": 43,
     "metadata": {},
     "output_type": "execute_result"
    }
   ],
   "source": [
    "df[df[\"season\"] != 22][\"HST\"]"
   ],
   "metadata": {
    "collapsed": false,
    "ExecuteTime": {
     "end_time": "2024-01-07T19:11:24.940785400Z",
     "start_time": "2024-01-07T19:11:24.830181900Z"
    }
   },
   "id": "992a008182b14d6d"
  },
  {
   "cell_type": "markdown",
   "source": [
    "## Result validation\n",
    "\n",
    "Another thing that needs to be validated is the result classification, which are re-classified - this is the easiest data validation process."
   ],
   "metadata": {
    "collapsed": false
   },
   "id": "e52e77484568589d"
  },
  {
   "cell_type": "code",
   "execution_count": 44,
   "outputs": [],
   "source": [
    "half_conds = [df[\"HTHG\"] > df[\"HTAG\"], df[\"HTHG\"] < df[\"HTAG\"], df[\"HTHG\"] == df[\"HTAG\"]]\n",
    "half_choic = [\"H\"                    , \"A\"                    , \"D\"]\n",
    "df.loc[:, \"HTR\"] = np.select(half_conds, half_choic)\n",
    "full_conds = [df[\"FTHG\"] > df[\"FTAG\"], df[\"FTHG\"] < df[\"FTAG\"], df[\"FTHG\"] == df[\"FTAG\"]]\n",
    "full_choic = [\"H\"                    , \"A\"                    , \"D\"]\n",
    "df.loc[:, \"FTR\"] = np.select(full_conds, full_choic)"
   ],
   "metadata": {
    "collapsed": false,
    "ExecuteTime": {
     "end_time": "2024-01-07T19:11:24.971203300Z",
     "start_time": "2024-01-07T19:11:24.906157800Z"
    }
   },
   "id": "85e5e89fe1176573"
  },
  {
   "cell_type": "markdown",
   "source": [
    "## Validation of other statistics\n",
    "\n",
    "First step is to look at simple descriptive statistics."
   ],
   "metadata": {
    "collapsed": false
   },
   "id": "d09fdf7e0bd7ad56"
  },
  {
   "cell_type": "code",
   "execution_count": 45,
   "outputs": [
    {
     "data": {
      "text/plain": "         Attendance            HS            AS            HST            AST  \\\ncount   6641.000000  91641.000000  91683.000000  153834.000000  153834.000000   \nmean   12853.621894     12.675691     10.296674       5.092346       4.338688   \nstd    13873.200798      4.925237      4.384018       2.314043       2.006212   \nmin      123.000000      0.000000      0.000000       0.000000       0.000000   \n25%     3530.000000      9.000000      7.000000       3.616940       3.000000   \n50%     7014.000000     12.000000     10.000000       5.000000       4.342496   \n75%    17608.000000     16.000000     13.000000       6.000000       5.213597   \nmax    69000.000000     46.000000     45.000000      27.000000      23.000000   \n\n               HHW          AHW            HC            AC            HF  \\\ncount  6472.000000  6484.000000  91235.000000  91286.000000  89606.000000   \nmean      0.351823     0.260950      5.722694      4.647372     12.849296   \nstd       0.610765     0.543137      2.937960      2.624308      4.555750   \nmin       0.000000     0.000000      0.000000      0.000000      0.000000   \n25%       0.000000     0.000000      4.000000      3.000000     10.000000   \n50%       0.000000     0.000000      5.000000      4.000000     12.000000   \n75%       1.000000     0.000000      7.000000      6.000000     16.000000   \nmax       4.000000    10.000000     26.000000     21.000000    145.000000   \n\n       ...         HFKC         AFKC           HO           AO            HY  \\\ncount  ...  1298.000000  1298.000000  6485.000000  6466.000000  91834.000000   \nmean   ...    16.620955    17.298921     3.258288     3.250541      1.642714   \nstd    ...     4.394704     4.740125     2.368060     2.519042      1.292988   \nmin    ...     2.000000     2.000000     0.000000     0.000000      0.000000   \n25%    ...    14.000000    14.000000     2.000000     1.000000      1.000000   \n50%    ...    16.000000    17.000000     3.000000     3.000000      1.000000   \n75%    ...    20.000000    20.000000     5.000000     5.000000      2.000000   \nmax    ...    32.000000    34.000000    16.000000    18.000000     11.000000   \n\n                 AY            HR            AR          HBP          ABP  \ncount  91831.000000  91854.000000  91799.000000  6652.000000  6639.000000  \nmean       1.960275      0.086964      0.119936    15.496843    20.928604  \nstd        1.365244      0.299356      0.351835    14.991016    17.225443  \nmin        0.000000      0.000000      0.000000     0.000000     0.000000  \n25%        1.000000      0.000000      0.000000     0.000000    10.000000  \n50%        2.000000      0.000000      0.000000    10.000000    20.000000  \n75%        3.000000      0.000000      0.000000    20.000000    30.000000  \nmax       10.000000      3.000000      9.000000   115.000000   150.000000  \n\n[8 rows x 21 columns]",
      "text/html": "<div>\n<style scoped>\n    .dataframe tbody tr th:only-of-type {\n        vertical-align: middle;\n    }\n\n    .dataframe tbody tr th {\n        vertical-align: top;\n    }\n\n    .dataframe thead th {\n        text-align: right;\n    }\n</style>\n<table border=\"1\" class=\"dataframe\">\n  <thead>\n    <tr style=\"text-align: right;\">\n      <th></th>\n      <th>Attendance</th>\n      <th>HS</th>\n      <th>AS</th>\n      <th>HST</th>\n      <th>AST</th>\n      <th>HHW</th>\n      <th>AHW</th>\n      <th>HC</th>\n      <th>AC</th>\n      <th>HF</th>\n      <th>...</th>\n      <th>HFKC</th>\n      <th>AFKC</th>\n      <th>HO</th>\n      <th>AO</th>\n      <th>HY</th>\n      <th>AY</th>\n      <th>HR</th>\n      <th>AR</th>\n      <th>HBP</th>\n      <th>ABP</th>\n    </tr>\n  </thead>\n  <tbody>\n    <tr>\n      <th>count</th>\n      <td>6641.000000</td>\n      <td>91641.000000</td>\n      <td>91683.000000</td>\n      <td>153834.000000</td>\n      <td>153834.000000</td>\n      <td>6472.000000</td>\n      <td>6484.000000</td>\n      <td>91235.000000</td>\n      <td>91286.000000</td>\n      <td>89606.000000</td>\n      <td>...</td>\n      <td>1298.000000</td>\n      <td>1298.000000</td>\n      <td>6485.000000</td>\n      <td>6466.000000</td>\n      <td>91834.000000</td>\n      <td>91831.000000</td>\n      <td>91854.000000</td>\n      <td>91799.000000</td>\n      <td>6652.000000</td>\n      <td>6639.000000</td>\n    </tr>\n    <tr>\n      <th>mean</th>\n      <td>12853.621894</td>\n      <td>12.675691</td>\n      <td>10.296674</td>\n      <td>5.092346</td>\n      <td>4.338688</td>\n      <td>0.351823</td>\n      <td>0.260950</td>\n      <td>5.722694</td>\n      <td>4.647372</td>\n      <td>12.849296</td>\n      <td>...</td>\n      <td>16.620955</td>\n      <td>17.298921</td>\n      <td>3.258288</td>\n      <td>3.250541</td>\n      <td>1.642714</td>\n      <td>1.960275</td>\n      <td>0.086964</td>\n      <td>0.119936</td>\n      <td>15.496843</td>\n      <td>20.928604</td>\n    </tr>\n    <tr>\n      <th>std</th>\n      <td>13873.200798</td>\n      <td>4.925237</td>\n      <td>4.384018</td>\n      <td>2.314043</td>\n      <td>2.006212</td>\n      <td>0.610765</td>\n      <td>0.543137</td>\n      <td>2.937960</td>\n      <td>2.624308</td>\n      <td>4.555750</td>\n      <td>...</td>\n      <td>4.394704</td>\n      <td>4.740125</td>\n      <td>2.368060</td>\n      <td>2.519042</td>\n      <td>1.292988</td>\n      <td>1.365244</td>\n      <td>0.299356</td>\n      <td>0.351835</td>\n      <td>14.991016</td>\n      <td>17.225443</td>\n    </tr>\n    <tr>\n      <th>min</th>\n      <td>123.000000</td>\n      <td>0.000000</td>\n      <td>0.000000</td>\n      <td>0.000000</td>\n      <td>0.000000</td>\n      <td>0.000000</td>\n      <td>0.000000</td>\n      <td>0.000000</td>\n      <td>0.000000</td>\n      <td>0.000000</td>\n      <td>...</td>\n      <td>2.000000</td>\n      <td>2.000000</td>\n      <td>0.000000</td>\n      <td>0.000000</td>\n      <td>0.000000</td>\n      <td>0.000000</td>\n      <td>0.000000</td>\n      <td>0.000000</td>\n      <td>0.000000</td>\n      <td>0.000000</td>\n    </tr>\n    <tr>\n      <th>25%</th>\n      <td>3530.000000</td>\n      <td>9.000000</td>\n      <td>7.000000</td>\n      <td>3.616940</td>\n      <td>3.000000</td>\n      <td>0.000000</td>\n      <td>0.000000</td>\n      <td>4.000000</td>\n      <td>3.000000</td>\n      <td>10.000000</td>\n      <td>...</td>\n      <td>14.000000</td>\n      <td>14.000000</td>\n      <td>2.000000</td>\n      <td>1.000000</td>\n      <td>1.000000</td>\n      <td>1.000000</td>\n      <td>0.000000</td>\n      <td>0.000000</td>\n      <td>0.000000</td>\n      <td>10.000000</td>\n    </tr>\n    <tr>\n      <th>50%</th>\n      <td>7014.000000</td>\n      <td>12.000000</td>\n      <td>10.000000</td>\n      <td>5.000000</td>\n      <td>4.342496</td>\n      <td>0.000000</td>\n      <td>0.000000</td>\n      <td>5.000000</td>\n      <td>4.000000</td>\n      <td>12.000000</td>\n      <td>...</td>\n      <td>16.000000</td>\n      <td>17.000000</td>\n      <td>3.000000</td>\n      <td>3.000000</td>\n      <td>1.000000</td>\n      <td>2.000000</td>\n      <td>0.000000</td>\n      <td>0.000000</td>\n      <td>10.000000</td>\n      <td>20.000000</td>\n    </tr>\n    <tr>\n      <th>75%</th>\n      <td>17608.000000</td>\n      <td>16.000000</td>\n      <td>13.000000</td>\n      <td>6.000000</td>\n      <td>5.213597</td>\n      <td>1.000000</td>\n      <td>0.000000</td>\n      <td>7.000000</td>\n      <td>6.000000</td>\n      <td>16.000000</td>\n      <td>...</td>\n      <td>20.000000</td>\n      <td>20.000000</td>\n      <td>5.000000</td>\n      <td>5.000000</td>\n      <td>2.000000</td>\n      <td>3.000000</td>\n      <td>0.000000</td>\n      <td>0.000000</td>\n      <td>20.000000</td>\n      <td>30.000000</td>\n    </tr>\n    <tr>\n      <th>max</th>\n      <td>69000.000000</td>\n      <td>46.000000</td>\n      <td>45.000000</td>\n      <td>27.000000</td>\n      <td>23.000000</td>\n      <td>4.000000</td>\n      <td>10.000000</td>\n      <td>26.000000</td>\n      <td>21.000000</td>\n      <td>145.000000</td>\n      <td>...</td>\n      <td>32.000000</td>\n      <td>34.000000</td>\n      <td>16.000000</td>\n      <td>18.000000</td>\n      <td>11.000000</td>\n      <td>10.000000</td>\n      <td>3.000000</td>\n      <td>9.000000</td>\n      <td>115.000000</td>\n      <td>150.000000</td>\n    </tr>\n  </tbody>\n</table>\n<p>8 rows × 21 columns</p>\n</div>"
     },
     "execution_count": 45,
     "metadata": {},
     "output_type": "execute_result"
    }
   ],
   "source": [
    "stat_cols = [\n",
    "    'Attendance', 'HS', 'AS', 'HST', 'AST', 'HHW', 'AHW',\n",
    "    'HC', 'AC', 'HF', 'AF', 'HFKC', 'AFKC', 'HO', 'AO', 'HY', 'AY', 'HR', 'AR', \"HBP\", \"ABP\"\n",
    "]\n",
    "\n",
    "df[stat_cols].describe()"
   ],
   "metadata": {
    "collapsed": false,
    "ExecuteTime": {
     "end_time": "2024-01-07T19:11:25.141385300Z",
     "start_time": "2024-01-07T19:11:24.939280900Z"
    }
   },
   "id": "bc0b4a8d0d72e42f"
  },
  {
   "cell_type": "markdown",
   "source": [
    "Then we take a look at boxplots for variables where at least one variable falls out of the interval\n",
    "\n",
    "$$\n",
    "(\\text{q}_{0.25} - 3 * \\text{IQR} ; \\text{q}_{0.75} + 3 * \\text{IQR})\n",
    "$$"
   ],
   "metadata": {
    "collapsed": false
   },
   "id": "45f0423ea6b24818"
  },
  {
   "cell_type": "code",
   "execution_count": 46,
   "outputs": [
    {
     "data": {
      "text/plain": "Attendance      109\nHS               14\nAS               23\nHST             879\nAST             863\nAHW            1435\nHC              174\nAC               72\nHF               21\nAF               25\nHO                4\nAO                2\nHY              632\nAY                2\nHR             7542\nAR            10247\nHBP              13\nABP              24\ndtype: int64"
     },
     "execution_count": 46,
     "metadata": {},
     "output_type": "execute_result"
    }
   ],
   "source": [
    "def outliers(x, multi = 3):\n",
    "    q25 = x.quantile(0.25)\n",
    "    q75 = x.quantile(0.75)\n",
    "    iqr = q75 - q25\n",
    "    outliers = x[(x < q25 - multi * iqr) | (x > q75 + multi * iqr)]\n",
    "    return len(outliers)\n",
    "\n",
    "stat_outliers = df[stat_cols].apply(lambda x: outliers(x))\n",
    "stat_outliers = stat_outliers[stat_outliers != 0]\n",
    "stat_outliers"
   ],
   "metadata": {
    "collapsed": false,
    "ExecuteTime": {
     "end_time": "2024-01-07T19:11:25.252142500Z",
     "start_time": "2024-01-07T19:11:25.143388Z"
    }
   },
   "id": "177436f7c3a88243"
  },
  {
   "cell_type": "code",
   "execution_count": 47,
   "outputs": [
    {
     "data": {
      "text/plain": "<Figure size 1200x1000 with 18 Axes>",
      "image/png": "[encoded data removed]"
     },
     "metadata": {},
     "output_type": "display_data"
    }
   ],
   "source": [
    "fig, axes = plt.subplots(nrows=3, ncols = 6, figsize = (12, 10))\n",
    "axes = axes.ravel()\n",
    "\n",
    "for i, col in enumerate(stat_outliers.index):\n",
    "    # Data\n",
    "    df[col].plot(kind='box', ax = axes[i])\n",
    "    # Styling\n",
    "    axes[i].set_title(col)\n",
    "    axes[i].axes.get_xaxis().set_visible(False)\n",
    "\n",
    "plt.show()\n"
   ],
   "metadata": {
    "collapsed": false,
    "ExecuteTime": {
     "end_time": "2024-01-07T19:11:26.797629400Z",
     "start_time": "2024-01-07T19:11:25.206013200Z"
    }
   },
   "id": "2dd75d75ae33862b"
  },
  {
   "cell_type": "markdown",
   "source": [
    "We can se that some outliers are not that extreme. For example variables *HO*, *AO* or *HY* have extreme values, but won't remove them. This is because even tho they can be considered as extreme, there seems to be a natural way how they occured and tehre are no huge jumps between them.\n",
    "\n",
    "On the other hand, variables *AHW*, *HF*, *AF* and *AR* seem to have some variables that are far away from the other data. Note that we do not consider variables in *HR* as outliers because it looks like it's a discrete variable with mostly zeroes."
   ],
   "metadata": {
    "collapsed": false
   },
   "id": "a888e96f3e2a7992"
  },
  {
   "cell_type": "code",
   "execution_count": 48,
   "outputs": [
    {
     "name": "stdout",
     "output_type": "stream",
     "text": [
      "Number of extreme values:\n",
      "AS: [45. 39.], (count: 2)\n",
      "AHW: [10.], (count: 1)\n",
      "HF: [145.], (count: 1)\n",
      "AF: [77.], (count: 1)\n",
      "AR: [9.], (count: 1)\n",
      "ABP: [150.], (count: 1)\n"
     ]
    }
   ],
   "source": [
    "stat_jump = [\n",
    "    \"AS\", \"AHW\", \"HF\", \"AF\", \"AR\", \"ABP\"\n",
    "]\n",
    "stats_cut = [\n",
    "    38, 6, 100, 60, 6, 130\n",
    "]\n",
    "\n",
    "print(\"Number of extreme values:\")\n",
    "for i, col in enumerate(stat_jump):\n",
    "    cutoff = stats_cut[i]\n",
    "    x = df[col].to_numpy()\n",
    "    extreme = x[x > cutoff]\n",
    "    print(f\"{col}: {extreme}, (count: {len(extreme)})\")\n",
    "    \n",
    "plt.show()"
   ],
   "metadata": {
    "collapsed": false,
    "ExecuteTime": {
     "end_time": "2024-01-07T19:11:26.935342900Z",
     "start_time": "2024-01-07T19:11:26.798630500Z"
    }
   },
   "id": "f21efa2b34676bd3"
  },
  {
   "cell_type": "markdown",
   "source": [
    "Based on the analysis, we see that these extreme values occur at most twice. This is why we chose to remove them."
   ],
   "metadata": {
    "collapsed": false
   },
   "id": "e02737b46401e115"
  },
  {
   "cell_type": "code",
   "execution_count": 49,
   "outputs": [],
   "source": [
    "criteria = dict(zip(stat_jump, stats_cut))\n",
    "for column, value in criteria.items():\n",
    "    # .isna() is important because otherwise all na rows are dropped\n",
    "    df = df[df[column].lt(value) | df[column].isna()]"
   ],
   "metadata": {
    "collapsed": false,
    "ExecuteTime": {
     "end_time": "2024-01-07T19:11:27.250741200Z",
     "start_time": "2024-01-07T19:11:26.814637600Z"
    }
   },
   "id": "bfd4534b886b19e8"
  },
  {
   "cell_type": "markdown",
   "source": [
    "Finally, we will double-check with boxplots."
   ],
   "metadata": {
    "collapsed": false
   },
   "id": "fa38c764b778db71"
  },
  {
   "cell_type": "code",
   "execution_count": 50,
   "outputs": [
    {
     "data": {
      "text/plain": "<Figure size 800x800 with 6 Axes>",
      "image/png": "[encoded data removed]"
     },
     "metadata": {},
     "output_type": "display_data"
    }
   ],
   "source": [
    "fig, axes = plt.subplots(nrows=2, ncols = 3, figsize = (8, 8))\n",
    "axes = axes.ravel()\n",
    "\n",
    "for i, col in enumerate(stat_jump):\n",
    "    df[col].plot(kind='box', ax = axes[i])\n",
    "    axes[i].set_title(col)\n",
    "    axes[i].axes.get_xaxis().set_visible(False)\n",
    "\n",
    "plt.show()"
   ],
   "metadata": {
    "collapsed": false,
    "ExecuteTime": {
     "end_time": "2024-01-07T19:11:27.636094300Z",
     "start_time": "2024-01-07T19:11:27.252147300Z"
    }
   },
   "id": "660bf3ce1d532ff9"
  },
  {
   "cell_type": "markdown",
   "source": [
    "IT looks like variable *HF* contains another outlier, but this process should be done only once. Hence, no outliers are removed."
   ],
   "metadata": {
    "collapsed": false
   },
   "id": "47633077ae692db9"
  },
  {
   "cell_type": "markdown",
   "source": [
    "## Random unnamed data\n",
    "\n",
    "File *'data/train/portugal/1/0304.csv'* contains random data in columns *'Unnamed: 33'* and *'Unnamed: 34'*."
   ],
   "metadata": {
    "collapsed": false
   },
   "id": "bace25c465e174b5"
  },
  {
   "cell_type": "code",
   "execution_count": 51,
   "outputs": [
    {
     "data": {
      "text/plain": "       Unnamed: 32  Unnamed: 33  Unnamed: 34\n11469          2.0          1.8        -1.75",
      "text/html": "<div>\n<style scoped>\n    .dataframe tbody tr th:only-of-type {\n        vertical-align: middle;\n    }\n\n    .dataframe tbody tr th {\n        vertical-align: top;\n    }\n\n    .dataframe thead th {\n        text-align: right;\n    }\n</style>\n<table border=\"1\" class=\"dataframe\">\n  <thead>\n    <tr style=\"text-align: right;\">\n      <th></th>\n      <th>Unnamed: 32</th>\n      <th>Unnamed: 33</th>\n      <th>Unnamed: 34</th>\n    </tr>\n  </thead>\n  <tbody>\n    <tr>\n      <th>11469</th>\n      <td>2.0</td>\n      <td>1.8</td>\n      <td>-1.75</td>\n    </tr>\n  </tbody>\n</table>\n</div>"
     },
     "execution_count": 51,
     "metadata": {},
     "output_type": "execute_result"
    }
   ],
   "source": [
    "unnamed_cols_df = df[['Unnamed: 32', 'Unnamed: 33', 'Unnamed: 34']]\n",
    "unnamed_cols_df[unnamed_cols_df.notnull().any(axis=1)]"
   ],
   "metadata": {
    "collapsed": false,
    "ExecuteTime": {
     "end_time": "2024-01-07T19:11:27.654122500Z",
     "start_time": "2024-01-07T19:11:27.628507500Z"
    }
   },
   "id": "786e1f9ac050b5ae"
  },
  {
   "cell_type": "markdown",
   "source": [
    "Since we do not know what these columns represent, and it is only one non-NA row from the whole dataset, this column is removed."
   ],
   "metadata": {
    "collapsed": false
   },
   "id": "1f14558724384896"
  },
  {
   "cell_type": "code",
   "execution_count": 52,
   "outputs": [],
   "source": [
    "df = df.drop(columns = unnamed_cols_df.columns)"
   ],
   "metadata": {
    "collapsed": false,
    "ExecuteTime": {
     "end_time": "2024-01-07T19:11:27.745219400Z",
     "start_time": "2024-01-07T19:11:27.644603300Z"
    }
   },
   "id": "63344855b69da629"
  },
  {
   "cell_type": "markdown",
   "source": [
    "## Wrong betting odds names\n",
    "\n",
    "File *'data/train/germany/2/0405.csv'* contains columns **LB**, **LB.1** and **LB.2**, which are unique only to this file. After further investigation, they represent the betting odds data for Ladbrokers. After looking at the data more thoroughly, it can be guessed that all three columns represent odds for home win, away win, and draw."
   ],
   "metadata": {
    "collapsed": false
   },
   "id": "2096a866882ec13c"
  },
  {
   "cell_type": "code",
   "execution_count": 53,
   "outputs": [
    {
     "data": {
      "text/plain": "       LB  LB.1  LB.2   SBH   SBD   SBA   WHH   WHD   WHA  GBAHH  GBAHA  GBAH\n2    1.67  3.25   NaN  1.62  3.75  5.00  1.65  3.30  4.60   1.65   2.02 -0.50\n6    2.00  3.20   NaN  2.10  3.20  3.25  2.15  3.10  3.00   1.77   1.95 -0.25\n7    1.91  3.25   NaN  2.00  3.30  3.40  1.90  3.25  3.40   1.95   1.70 -0.50\n12   2.60  3.20  2.38  2.70  3.20  2.40  2.50  3.10  2.50   1.43   2.50  0.50\n15   2.25  3.20  2.75  2.40  3.00  2.88  2.20  3.10  2.87   2.30   1.48 -0.50\n..    ...   ...   ...   ...   ...   ...   ...   ...   ...    ...    ...   ...\n291  2.40  3.25  2.50  2.50  3.25  2.50  2.45  3.25  2.45   2.45   1.43 -0.50\n294  2.00  3.00  3.40  2.10  3.20  3.25  2.10  3.20  3.00   1.91   1.70 -0.50\n295  2.25  3.20  2.75  2.38  3.10  2.88  2.37  3.30  2.50   2.20   1.52 -0.50\n297  1.62  3.25  5.00  1.60  3.75  5.00  1.60  3.30  5.00   1.62   2.06 -0.50\n299  1.73  3.20  4.33  1.75  3.50  4.20  1.75  3.30  4.00   1.75   1.89 -0.50\n\n[110 rows x 12 columns]",
      "text/html": "<div>\n<style scoped>\n    .dataframe tbody tr th:only-of-type {\n        vertical-align: middle;\n    }\n\n    .dataframe tbody tr th {\n        vertical-align: top;\n    }\n\n    .dataframe thead th {\n        text-align: right;\n    }\n</style>\n<table border=\"1\" class=\"dataframe\">\n  <thead>\n    <tr style=\"text-align: right;\">\n      <th></th>\n      <th>LB</th>\n      <th>LB.1</th>\n      <th>LB.2</th>\n      <th>SBH</th>\n      <th>SBD</th>\n      <th>SBA</th>\n      <th>WHH</th>\n      <th>WHD</th>\n      <th>WHA</th>\n      <th>GBAHH</th>\n      <th>GBAHA</th>\n      <th>GBAH</th>\n    </tr>\n  </thead>\n  <tbody>\n    <tr>\n      <th>2</th>\n      <td>1.67</td>\n      <td>3.25</td>\n      <td>NaN</td>\n      <td>1.62</td>\n      <td>3.75</td>\n      <td>5.00</td>\n      <td>1.65</td>\n      <td>3.30</td>\n      <td>4.60</td>\n      <td>1.65</td>\n      <td>2.02</td>\n      <td>-0.50</td>\n    </tr>\n    <tr>\n      <th>6</th>\n      <td>2.00</td>\n      <td>3.20</td>\n      <td>NaN</td>\n      <td>2.10</td>\n      <td>3.20</td>\n      <td>3.25</td>\n      <td>2.15</td>\n      <td>3.10</td>\n      <td>3.00</td>\n      <td>1.77</td>\n      <td>1.95</td>\n      <td>-0.25</td>\n    </tr>\n    <tr>\n      <th>7</th>\n      <td>1.91</td>\n      <td>3.25</td>\n      <td>NaN</td>\n      <td>2.00</td>\n      <td>3.30</td>\n      <td>3.40</td>\n      <td>1.90</td>\n      <td>3.25</td>\n      <td>3.40</td>\n      <td>1.95</td>\n      <td>1.70</td>\n      <td>-0.50</td>\n    </tr>\n    <tr>\n      <th>12</th>\n      <td>2.60</td>\n      <td>3.20</td>\n      <td>2.38</td>\n      <td>2.70</td>\n      <td>3.20</td>\n      <td>2.40</td>\n      <td>2.50</td>\n      <td>3.10</td>\n      <td>2.50</td>\n      <td>1.43</td>\n      <td>2.50</td>\n      <td>0.50</td>\n    </tr>\n    <tr>\n      <th>15</th>\n      <td>2.25</td>\n      <td>3.20</td>\n      <td>2.75</td>\n      <td>2.40</td>\n      <td>3.00</td>\n      <td>2.88</td>\n      <td>2.20</td>\n      <td>3.10</td>\n      <td>2.87</td>\n      <td>2.30</td>\n      <td>1.48</td>\n      <td>-0.50</td>\n    </tr>\n    <tr>\n      <th>...</th>\n      <td>...</td>\n      <td>...</td>\n      <td>...</td>\n      <td>...</td>\n      <td>...</td>\n      <td>...</td>\n      <td>...</td>\n      <td>...</td>\n      <td>...</td>\n      <td>...</td>\n      <td>...</td>\n      <td>...</td>\n    </tr>\n    <tr>\n      <th>291</th>\n      <td>2.40</td>\n      <td>3.25</td>\n      <td>2.50</td>\n      <td>2.50</td>\n      <td>3.25</td>\n      <td>2.50</td>\n      <td>2.45</td>\n      <td>3.25</td>\n      <td>2.45</td>\n      <td>2.45</td>\n      <td>1.43</td>\n      <td>-0.50</td>\n    </tr>\n    <tr>\n      <th>294</th>\n      <td>2.00</td>\n      <td>3.00</td>\n      <td>3.40</td>\n      <td>2.10</td>\n      <td>3.20</td>\n      <td>3.25</td>\n      <td>2.10</td>\n      <td>3.20</td>\n      <td>3.00</td>\n      <td>1.91</td>\n      <td>1.70</td>\n      <td>-0.50</td>\n    </tr>\n    <tr>\n      <th>295</th>\n      <td>2.25</td>\n      <td>3.20</td>\n      <td>2.75</td>\n      <td>2.38</td>\n      <td>3.10</td>\n      <td>2.88</td>\n      <td>2.37</td>\n      <td>3.30</td>\n      <td>2.50</td>\n      <td>2.20</td>\n      <td>1.52</td>\n      <td>-0.50</td>\n    </tr>\n    <tr>\n      <th>297</th>\n      <td>1.62</td>\n      <td>3.25</td>\n      <td>5.00</td>\n      <td>1.60</td>\n      <td>3.75</td>\n      <td>5.00</td>\n      <td>1.60</td>\n      <td>3.30</td>\n      <td>5.00</td>\n      <td>1.62</td>\n      <td>2.06</td>\n      <td>-0.50</td>\n    </tr>\n    <tr>\n      <th>299</th>\n      <td>1.73</td>\n      <td>3.20</td>\n      <td>4.33</td>\n      <td>1.75</td>\n      <td>3.50</td>\n      <td>4.20</td>\n      <td>1.75</td>\n      <td>3.30</td>\n      <td>4.00</td>\n      <td>1.75</td>\n      <td>1.89</td>\n      <td>-0.50</td>\n    </tr>\n  </tbody>\n</table>\n<p>110 rows × 12 columns</p>\n</div>"
     },
     "execution_count": 53,
     "metadata": {},
     "output_type": "execute_result"
    }
   ],
   "source": [
    "tmp = pd.read_csv(\"data/train/germany/2/0405.csv\")\n",
    "# Remove empty rows and columns\n",
    "tmp = tmp.dropna(how='all', axis=0)\n",
    "tmp = tmp.dropna(how='all', axis=1)\n",
    "tmp = tmp.loc[:, ~tmp.columns.str.startswith('Unnamed:')]\n",
    "tmp = tmp[tmp[['LB', 'LB.1', 'LB.2']].notnull().any(axis=1)]\n",
    "tmp.filter(regex='[HDAB12]$').iloc[:, -12:]"
   ],
   "metadata": {
    "collapsed": false,
    "ExecuteTime": {
     "end_time": "2024-01-07T19:11:27.807252Z",
     "start_time": "2024-01-07T19:11:27.713146200Z"
    }
   },
   "id": "46c0204ec919c55a"
  },
  {
   "cell_type": "markdown",
   "source": [
    "Based on column similarity, we can make an edjucated guess that\n",
    "\n",
    "- **LB** should be **LBH**,\n",
    "- **LB.1** should be **LBD**, and\n",
    "- **LB.2** should be **LBA**"
   ],
   "metadata": {
    "collapsed": false
   },
   "id": "353c391dda553e2"
  },
  {
   "cell_type": "code",
   "execution_count": 54,
   "outputs": [],
   "source": [
    "# If LB is not null, use that value and replace it in LBH\n",
    "df[\"LBH\"] = df[\"LBH\"].mask(df[\"LB\"  ].notnull(), df[\"LB\"])\n",
    "df[\"LBD\"] = df[\"LBD\"].mask(df[\"LB.1\"].notnull(), df[\"LB.1\"])\n",
    "df[\"LBA\"] = df[\"LBA\"].mask(df[\"LB.2\"].notnull(), df[\"LB.2\"])\n",
    "df = df.drop(columns = [\"LB\", \"LB.1\", \"LB.2\"])"
   ],
   "metadata": {
    "collapsed": false,
    "ExecuteTime": {
     "end_time": "2024-01-07T19:11:27.874419500Z",
     "start_time": "2024-01-07T19:11:27.741217Z"
    }
   },
   "id": "62309977e66ec42d"
  },
  {
   "cell_type": "markdown",
   "source": [
    "## Date normalization\n",
    "\n",
    "Date is not consistent and it needs to be unified in order to format it as date."
   ],
   "metadata": {
    "collapsed": false
   },
   "id": "576e514dc2ec2ff9"
  },
  {
   "cell_type": "code",
   "execution_count": 55,
   "outputs": [],
   "source": [
    "potential_fixes = pd.to_datetime(df['Date'], format='mixed', dayfirst=True)\n",
    "equal = potential_fixes[potential_fixes.isnull()].index.equals(df[df[\"Date\"].isnull()].index)\n",
    "# if True, all non-na dates have been converted\n",
    "if equal:\n",
    "    df[\"Date\"] = potential_fixes\n",
    "else:\n",
    "   print(\"Date indexes are not equal. Something wrong with the conversion??\")"
   ],
   "metadata": {
    "collapsed": false,
    "ExecuteTime": {
     "end_time": "2024-01-07T19:11:28.009199500Z",
     "start_time": "2024-01-07T19:11:27.818767700Z"
    }
   },
   "id": "ca78f5ac8fad1e9d"
  },
  {
   "cell_type": "markdown",
   "source": [
    "## Bookies analysis"
   ],
   "metadata": {
    "collapsed": false
   },
   "id": "e3ebd7b832fd12f8"
  },
  {
   "cell_type": "code",
   "execution_count": 56,
   "outputs": [
    {
     "name": "stdout",
     "output_type": "stream",
     "text": [
      "        Avg_away_odds  Avg_home_odds  Avg_draw_odds Avg_bookie_prediction  \\\n",
      "0            4.820000       1.602000       3.290000                     H   \n",
      "2            5.600000       1.484000       3.620000                     H   \n",
      "3            3.880000       1.756000       3.300000                     H   \n",
      "4            5.240000       1.532000       3.470000                     H   \n",
      "5            2.420000       2.454000       3.200000                     A   \n",
      "...               ...            ...            ...                   ...   \n",
      "162225       6.843333       1.368333       5.076667                     H   \n",
      "162226            NaN            NaN            NaN                   NaN   \n",
      "162227       3.610000       1.843333       3.795000                     H   \n",
      "162228            NaN            NaN            NaN                   NaN   \n",
      "162229       5.545000       1.470000       4.528333                     H   \n",
      "\n",
      "        heavy_favour  Var_away_odds  Var_home_odds  Var_draw_odds  \n",
      "0          -3.218000       0.692000       0.005470       0.015500  \n",
      "2          -4.116000       0.645000       0.002280       0.052000  \n",
      "3          -2.124000       0.157000       0.003430       0.020000  \n",
      "4          -3.708000       0.513000       0.003970       0.034500  \n",
      "5           0.034000       0.012000       0.024080       0.013750  \n",
      "...              ...            ...            ...            ...  \n",
      "162225     -5.475000       0.158267       0.001097       0.147067  \n",
      "162226           NaN            NaN            NaN            NaN  \n",
      "162227     -1.766667       0.007000       0.001707       0.034150  \n",
      "162228           NaN            NaN            NaN            NaN  \n",
      "162229     -4.075000       0.064150       0.000680       0.032817  \n",
      "\n",
      "[161104 rows x 8 columns]\n"
     ]
    }
   ],
   "source": [
    "#minor warning suppression\n",
    "shutup.please()\n",
    "\n",
    "away_odds = df[[\"B365A\", \"BSA\", \"BWA\", \"GBA\", \"IWA\", \"LBA\", \"PSA\", \"SOA\", \"SBA\", \"SJA\", \"SYA\", \"VCA\", \"WHA\"]]\n",
    "home_odds = df[[\"B365H\", \"BSH\", \"BWH\", \"GBH\", \"IWH\", \"LBH\", \"PSH\", \"SOH\", \"SBH\", \"SJH\", \"SYH\", \"VCH\", \"WHH\"]]\n",
    "draw_odds = df[[\"B365D\", \"BSD\", \"BWD\", \"GBD\", \"IWD\", \"LBD\", \"PSD\", \"SOD\", \"SBD\", \"SJD\", \"SYD\", \"VCD\", \"WHD\"]]\n",
    "\n",
    "#Average of away/home/draw odds\n",
    "df[\"Avg_away_odds\"] = away_odds.mean(axis=1)\n",
    "df[\"Avg_home_odds\"] = home_odds.mean(axis=1)\n",
    "df[\"Avg_draw_odds\"] = draw_odds.mean(axis=1)\n",
    "\n",
    "#Predcition based on averages - Odds with smallest average have the highest probability -> returns A/H/D\n",
    "df[\"Avg_bookie_prediction\"] = df[[\"Avg_away_odds\", \"Avg_home_odds\", \"Avg_draw_odds\"]].idxmin(axis=1).fillna(\"\").astype(str).str[4]\n",
    "df[\"Avg_bookie_prediction\"] = df[\"Avg_bookie_prediction\"].str.upper()\n",
    "\n",
    "# if one team is heavily favoured, there could be a greater amount of goals scored ???\n",
    "df[\"heavy_favour\"] = df[\"Avg_home_odds\"] - df[\"Avg_away_odds\"]\n",
    "\n",
    "#Certainity of odds, the smaller variance implies, that bookies are more \"sure\"\n",
    "df[\"Var_away_odds\"] = away_odds.var(axis=1)\n",
    "df[\"Var_home_odds\"] = home_odds.var(axis=1)\n",
    "df[\"Var_draw_odds\"] = draw_odds.var(axis=1)\n",
    "\n",
    "print(df.loc[:, \"Avg_away_odds\":\"Var_draw_odds\"])"
   ],
   "metadata": {
    "collapsed": false,
    "ExecuteTime": {
     "end_time": "2024-01-07T19:11:28.365850Z",
     "start_time": "2024-01-07T19:11:28.005193800Z"
    }
   },
   "id": "c25515b5503cff13"
  },
  {
   "cell_type": "code",
   "execution_count": 57,
   "outputs": [
    {
     "name": "stdout",
     "output_type": "stream",
     "text": [
      "        B365A  B365D  B365H B365P  BSA  BSD  BSH  BSP   BWA  BWD  ...  SYP  \\\n",
      "0         NaN    NaN    NaN   NaN  NaN  NaN  NaN  NaN   NaN  NaN  ...  NaN   \n",
      "2         NaN    NaN    NaN   NaN  NaN  NaN  NaN  NaN   NaN  NaN  ...  NaN   \n",
      "3         NaN    NaN    NaN   NaN  NaN  NaN  NaN  NaN   NaN  NaN  ...  NaN   \n",
      "4         NaN    NaN    NaN   NaN  NaN  NaN  NaN  NaN   NaN  NaN  ...  NaN   \n",
      "5         NaN    NaN    NaN   NaN  NaN  NaN  NaN  NaN   NaN  NaN  ...  NaN   \n",
      "...       ...    ...    ...   ...  ...  ...  ...  ...   ...  ...  ...  ...   \n",
      "162225   6.50   5.50   1.36     H  NaN  NaN  NaN  NaN  6.75  5.0  ...  NaN   \n",
      "162226    NaN    NaN    NaN   NaN  NaN  NaN  NaN  NaN   NaN  NaN  ...  NaN   \n",
      "162227   3.60   3.75   1.80     H  NaN  NaN  NaN  NaN  3.60  3.9  ...  NaN   \n",
      "162228    NaN    NaN    NaN   NaN  NaN  NaN  NaN  NaN   NaN  NaN  ...  NaN   \n",
      "162229   5.25   4.50   1.45     H  NaN  NaN  NaN  NaN  5.50  4.6  ...  NaN   \n",
      "\n",
      "        VCA  VCD   VCH  VCP  WHA   WHD   WHH  WHP Outcome  \n",
      "0       NaN  NaN   NaN  NaN  5.0  3.25  1.61    H       H  \n",
      "2       NaN  NaN   NaN  NaN  6.0  3.60  1.50    H       H  \n",
      "3       NaN  NaN   NaN  NaN  3.6  3.40  1.80    H       H  \n",
      "4       NaN  NaN   NaN  NaN  5.0  3.50  1.57    H       H  \n",
      "5       NaN  NaN   NaN  NaN  2.3  3.25  2.62    A       H  \n",
      "...     ...  ...   ...  ...  ...   ...   ...  ...     ...  \n",
      "162225  7.0  4.8  1.33    H  6.5  4.50  1.33    H       0  \n",
      "162226  NaN  NaN   NaN  NaN  NaN   NaN   NaN  NaN       0  \n",
      "162227  3.6  3.7  1.83    H  3.5  3.50  1.80    H       0  \n",
      "162228  NaN  NaN   NaN  NaN  NaN   NaN   NaN  NaN       0  \n",
      "162229  5.5  4.5  1.45    H  5.5  4.20  1.44    H       0  \n",
      "\n",
      "[161104 rows x 53 columns]\n"
     ]
    }
   ],
   "source": [
    "#Columns for predictions of all bookies\n",
    "bookies_predictions = pd.DataFrame(columns = [\"B365P\", \"BSP\", \"BWP\", \"GBP\", \"IWP\", \"LBP\", \"PSP\", \"SOP\", \"SBP\", \"SJP\", \"SYP\", \"VCP\", \"WHP\"])\n",
    "\n",
    "#dataframe with away/home/draw odds for each bookie\n",
    "df_bookies_accuracy = pd.concat([away_odds, home_odds, draw_odds, bookies_predictions], axis = 1).sort_index(axis = 1)\n",
    "df_bookies_accuracy[\"Outcome\"] = df[[\"FTR\"]]\n",
    "\n",
    "seq = list(range(3, 53, 4))\n",
    "#\"prediction\" of each bookie based on their odds\n",
    "for i in seq:\n",
    "    df_bookies_accuracy.iloc[:, i] = df_bookies_accuracy.iloc[:, i-3:i].idxmin(axis=1).fillna(\"\").astype(str).str[-1]\n",
    "\n",
    "print(df_bookies_accuracy)"
   ],
   "metadata": {
    "collapsed": false,
    "ExecuteTime": {
     "end_time": "2024-01-07T19:11:29.559257100Z",
     "start_time": "2024-01-07T19:11:28.365850Z"
    }
   },
   "id": "560f2d8c692863de"
  },
  {
   "cell_type": "code",
   "execution_count": 58,
   "outputs": [
    {
     "name": "stdout",
     "output_type": "stream",
     "text": [
      "Percentage of matching values for B365: 47.40%\n",
      "Percentage of matching values for BS: 49.76%\n",
      "Percentage of matching values for BW: 47.17%\n",
      "Percentage of matching values for GB: 49.95%\n",
      "Percentage of matching values for IW: 47.50%\n",
      "Percentage of matching values for LB: 49.82%\n",
      "Percentage of matching values for PS: 45.15%\n",
      "Percentage of matching values for SO: 49.27%\n",
      "Percentage of matching values for SB: 49.94%\n",
      "Percentage of matching values for SJ: 49.76%\n",
      "Percentage of matching values for SY: 49.94%\n",
      "Percentage of matching values for VC: 47.13%\n",
      "Percentage of matching values for WH: 47.76%\n"
     ]
    }
   ],
   "source": [
    "#Accuracy of each bookie - all around 50% - accuracy of a bookie cannot be used as a weight for prediction\n",
    "for bookie in bookies_predictions:\n",
    "    filter_df = df_bookies_accuracy[df_bookies_accuracy[bookie].notna()]\n",
    "    matching_values = (filter_df[bookie] == filter_df['Outcome']).sum()\n",
    "    total_values = len(filter_df)\n",
    "    percent= (matching_values/total_values) *100\n",
    "    print(\"Percentage of matching values for \" + bookie[:-1] + f\": {percent:.2f}%\")"
   ],
   "metadata": {
    "collapsed": false,
    "ExecuteTime": {
     "end_time": "2024-01-07T19:11:29.874209900Z",
     "start_time": "2024-01-07T19:11:29.559257100Z"
    }
   },
   "id": "ab531191012f1bfb"
  },
  {
   "cell_type": "markdown",
   "source": [
    "- - -"
   ],
   "metadata": {
    "collapsed": false
   },
   "id": "fae4bede01492298"
  },
  {
   "cell_type": "code",
   "execution_count": 59,
   "outputs": [
    {
     "data": {
      "text/plain": "(161104, 175)"
     },
     "execution_count": 59,
     "metadata": {},
     "output_type": "execute_result"
    }
   ],
   "source": [
    "df.shape"
   ],
   "metadata": {
    "collapsed": false,
    "ExecuteTime": {
     "end_time": "2024-01-07T19:11:29.888329800Z",
     "start_time": "2024-01-07T19:11:29.874209900Z"
    }
   },
   "id": "13df9d592fbe9a75"
  },
  {
   "cell_type": "markdown",
   "source": [
    "**Handicap values fix**\n",
    "Handicaps are written in quarters - divisible by 0.25"
   ],
   "metadata": {
    "collapsed": false
   },
   "id": "fa831713638daa7"
  },
  {
   "cell_type": "code",
   "execution_count": 60,
   "outputs": [
    {
     "data": {
      "text/plain": "               GBAH       B365AH         BbAHh           AHh         LBAH  \\\ncount  11551.000000  6811.000000  98135.000000  27596.000000  5431.000000   \nmean      -0.362254    -0.361547     -0.305963     -0.252609    -0.350586   \nstd        0.484828     0.529031      1.287679      0.676762     0.588918   \nmin       -2.250000    -2.500000   -275.000000     -3.750000    -2.250000   \n25%       -0.500000    -0.750000     -0.500000     -0.500000    -0.750000   \n50%       -0.500000    -0.250000     -0.250000     -0.250000    -0.250000   \n75%       -0.250000     0.000000      0.000000      0.000000     0.000000   \nmax        2.500000     1.750000     12.500000      3.000000     9.000000   \n\n               AHCh  \ncount  27620.000000  \nmean      -0.246913  \nstd        0.698673  \nmin       -4.000000  \n25%       -0.500000  \n50%       -0.250000  \n75%        0.250000  \nmax        3.250000  ",
      "text/html": "<div>\n<style scoped>\n    .dataframe tbody tr th:only-of-type {\n        vertical-align: middle;\n    }\n\n    .dataframe tbody tr th {\n        vertical-align: top;\n    }\n\n    .dataframe thead th {\n        text-align: right;\n    }\n</style>\n<table border=\"1\" class=\"dataframe\">\n  <thead>\n    <tr style=\"text-align: right;\">\n      <th></th>\n      <th>GBAH</th>\n      <th>B365AH</th>\n      <th>BbAHh</th>\n      <th>AHh</th>\n      <th>LBAH</th>\n      <th>AHCh</th>\n    </tr>\n  </thead>\n  <tbody>\n    <tr>\n      <th>count</th>\n      <td>11551.000000</td>\n      <td>6811.000000</td>\n      <td>98135.000000</td>\n      <td>27596.000000</td>\n      <td>5431.000000</td>\n      <td>27620.000000</td>\n    </tr>\n    <tr>\n      <th>mean</th>\n      <td>-0.362254</td>\n      <td>-0.361547</td>\n      <td>-0.305963</td>\n      <td>-0.252609</td>\n      <td>-0.350586</td>\n      <td>-0.246913</td>\n    </tr>\n    <tr>\n      <th>std</th>\n      <td>0.484828</td>\n      <td>0.529031</td>\n      <td>1.287679</td>\n      <td>0.676762</td>\n      <td>0.588918</td>\n      <td>0.698673</td>\n    </tr>\n    <tr>\n      <th>min</th>\n      <td>-2.250000</td>\n      <td>-2.500000</td>\n      <td>-275.000000</td>\n      <td>-3.750000</td>\n      <td>-2.250000</td>\n      <td>-4.000000</td>\n    </tr>\n    <tr>\n      <th>25%</th>\n      <td>-0.500000</td>\n      <td>-0.750000</td>\n      <td>-0.500000</td>\n      <td>-0.500000</td>\n      <td>-0.750000</td>\n      <td>-0.500000</td>\n    </tr>\n    <tr>\n      <th>50%</th>\n      <td>-0.500000</td>\n      <td>-0.250000</td>\n      <td>-0.250000</td>\n      <td>-0.250000</td>\n      <td>-0.250000</td>\n      <td>-0.250000</td>\n    </tr>\n    <tr>\n      <th>75%</th>\n      <td>-0.250000</td>\n      <td>0.000000</td>\n      <td>0.000000</td>\n      <td>0.000000</td>\n      <td>0.000000</td>\n      <td>0.250000</td>\n    </tr>\n    <tr>\n      <th>max</th>\n      <td>2.500000</td>\n      <td>1.750000</td>\n      <td>12.500000</td>\n      <td>3.000000</td>\n      <td>9.000000</td>\n      <td>3.250000</td>\n    </tr>\n  </tbody>\n</table>\n</div>"
     },
     "execution_count": 60,
     "metadata": {},
     "output_type": "execute_result"
    }
   ],
   "source": [
    "handicap_cols = ['GBAH', 'B365AH', 'BbAHh', 'AHh', 'LBAH', 'AHCh']\n",
    "df[handicap_cols].describe()"
   ],
   "metadata": {
    "collapsed": false,
    "ExecuteTime": {
     "end_time": "2024-01-07T19:11:29.972499100Z",
     "start_time": "2024-01-07T19:11:29.889831800Z"
    }
   },
   "id": "c1843d4a1fd6dc8d"
  },
  {
   "cell_type": "code",
   "execution_count": 61,
   "outputs": [
    {
     "name": "stdout",
     "output_type": "stream",
     "text": [
      "number of invalid rows left:  0\n",
      "number of invalid rows left:  0\n",
      "number of invalid rows left:  0\n",
      "number of invalid rows left:  0\n",
      "number of invalid rows left:  0\n",
      "number of invalid rows left:  0\n"
     ]
    }
   ],
   "source": [
    "# handicaps are usually counted in quarters (ending with .0, .25, .50, .75)\n",
    "for col in handicap_cols:\n",
    "    df = df[(df[col] % 0.25 == 0) | df[col].isna()] # drop rows with numeric value indivisible by 0.25\n",
    "for i in handicap_cols:\n",
    "    print(\n",
    "        \"number of invalid rows left: \", # difference between # of all rows and validated rows\n",
    "        len(df[i]) - len(df[((df[i] % 0.25 == 0) | (df[i].isna()))])\n",
    "    )"
   ],
   "metadata": {
    "collapsed": false,
    "ExecuteTime": {
     "end_time": "2024-01-07T19:11:30.866210400Z",
     "start_time": "2024-01-07T19:11:29.967073100Z"
    }
   },
   "id": "bc46b39a04c4c8c9"
  },
  {
   "cell_type": "markdown",
   "source": [
    "Betting odds validation (betting odds have to be positive)"
   ],
   "metadata": {
    "collapsed": false
   },
   "id": "bb399d7b28eaae5e"
  },
  {
   "cell_type": "code",
   "execution_count": 62,
   "outputs": [
    {
     "data": {
      "text/plain": "                GBH           GBD           GBA            IWH            IWD  \\\ncount  87396.000000  87450.000000  87434.000000  156861.000000  156865.000000   \nmean       2.275595      3.381706      3.951696       2.346728       3.396041   \nstd        1.040873      0.614211      2.196840       1.169321       0.729838   \nmin        1.030000      1.250000      1.030000       1.010000       1.500000   \n25%        1.730000      3.100000      2.650000       1.750000       3.100000   \n50%        2.100000      3.250000      3.350000       2.100000       3.200000   \n75%        2.450000      3.450000      4.500000       2.500000       3.500000   \nmax       24.000000     11.000000     34.000000      30.000000      16.000000   \n\n                 IWA           SBH           SBD           SBA            WHH  \\\ncount  156899.000000  78434.000000  78449.000000  78435.000000  154158.000000   \nmean        3.757516      2.266286      3.385494      3.950441       2.407906   \nstd         2.273136      1.048682      0.597253      2.235655       1.316585   \nmin         1.030000      1.020000      1.200000      1.020000       1.010000   \n25%         2.550000      1.727000      3.200000      2.620000       1.750000   \n50%         3.200000      2.100000      3.250000      3.300000       2.150000   \n75%         4.200000      2.450000      3.400000      4.500000       2.600000   \nmax        70.000000     26.000000     13.000000     34.000000      34.000000   \n\n       ...      AvgC<2.5          AHCh      B365CAHH      B365CAHA  \\\ncount  ...  27636.000000  27620.000000  27583.000000  27583.000000   \nmean   ...      1.931220     -0.246913      1.932299      1.939337   \nstd    ...      0.423723      0.698673      0.105566      0.101720   \nmin    ...      1.210000     -4.000000      1.500000      1.180000   \n25%    ...      1.650000     -0.500000      1.850000      1.860000   \n50%    ...      1.840000     -0.250000      1.930000      1.950000   \n75%    ...      2.100000      0.250000      2.020000      2.020000   \nmax    ...      6.940000      3.250000      4.650000      2.500000   \n\n              PCAHH         PCAHA       MaxCAHH       MaxCAHA       AvgCAHH  \\\ncount  27597.000000  27598.000000  27633.000000  27636.000000  27636.000000   \nmean       1.950335      1.956255      2.002076      2.007636      1.920410   \nstd        0.105345      0.103709      0.105914      0.106690      0.096882   \nmin        1.590000      1.200000      1.680000      1.200000      1.600000   \n25%        1.870000      1.880000      1.920000      1.920000      1.840000   \n50%        1.950000      1.950000      2.000000      2.000000      1.920000   \n75%        2.030000      2.030000      2.080000      2.090000      1.990000   \nmax        5.080000      2.460000      5.500000      2.700000      4.900000   \n\n            AvgCAHA  \ncount  27616.000000  \nmean       1.923658  \nstd        0.094341  \nmin        1.180000  \n25%        1.850000  \n50%        1.920000  \n75%        2.000000  \nmax        2.360000  \n\n[8 rows x 49 columns]",
      "text/html": "<div>\n<style scoped>\n    .dataframe tbody tr th:only-of-type {\n        vertical-align: middle;\n    }\n\n    .dataframe tbody tr th {\n        vertical-align: top;\n    }\n\n    .dataframe thead th {\n        text-align: right;\n    }\n</style>\n<table border=\"1\" class=\"dataframe\">\n  <thead>\n    <tr style=\"text-align: right;\">\n      <th></th>\n      <th>GBH</th>\n      <th>GBD</th>\n      <th>GBA</th>\n      <th>IWH</th>\n      <th>IWD</th>\n      <th>IWA</th>\n      <th>SBH</th>\n      <th>SBD</th>\n      <th>SBA</th>\n      <th>WHH</th>\n      <th>...</th>\n      <th>AvgC&lt;2.5</th>\n      <th>AHCh</th>\n      <th>B365CAHH</th>\n      <th>B365CAHA</th>\n      <th>PCAHH</th>\n      <th>PCAHA</th>\n      <th>MaxCAHH</th>\n      <th>MaxCAHA</th>\n      <th>AvgCAHH</th>\n      <th>AvgCAHA</th>\n    </tr>\n  </thead>\n  <tbody>\n    <tr>\n      <th>count</th>\n      <td>87396.000000</td>\n      <td>87450.000000</td>\n      <td>87434.000000</td>\n      <td>156861.000000</td>\n      <td>156865.000000</td>\n      <td>156899.000000</td>\n      <td>78434.000000</td>\n      <td>78449.000000</td>\n      <td>78435.000000</td>\n      <td>154158.000000</td>\n      <td>...</td>\n      <td>27636.000000</td>\n      <td>27620.000000</td>\n      <td>27583.000000</td>\n      <td>27583.000000</td>\n      <td>27597.000000</td>\n      <td>27598.000000</td>\n      <td>27633.000000</td>\n      <td>27636.000000</td>\n      <td>27636.000000</td>\n      <td>27616.000000</td>\n    </tr>\n    <tr>\n      <th>mean</th>\n      <td>2.275595</td>\n      <td>3.381706</td>\n      <td>3.951696</td>\n      <td>2.346728</td>\n      <td>3.396041</td>\n      <td>3.757516</td>\n      <td>2.266286</td>\n      <td>3.385494</td>\n      <td>3.950441</td>\n      <td>2.407906</td>\n      <td>...</td>\n      <td>1.931220</td>\n      <td>-0.246913</td>\n      <td>1.932299</td>\n      <td>1.939337</td>\n      <td>1.950335</td>\n      <td>1.956255</td>\n      <td>2.002076</td>\n      <td>2.007636</td>\n      <td>1.920410</td>\n      <td>1.923658</td>\n    </tr>\n    <tr>\n      <th>std</th>\n      <td>1.040873</td>\n      <td>0.614211</td>\n      <td>2.196840</td>\n      <td>1.169321</td>\n      <td>0.729838</td>\n      <td>2.273136</td>\n      <td>1.048682</td>\n      <td>0.597253</td>\n      <td>2.235655</td>\n      <td>1.316585</td>\n      <td>...</td>\n      <td>0.423723</td>\n      <td>0.698673</td>\n      <td>0.105566</td>\n      <td>0.101720</td>\n      <td>0.105345</td>\n      <td>0.103709</td>\n      <td>0.105914</td>\n      <td>0.106690</td>\n      <td>0.096882</td>\n      <td>0.094341</td>\n    </tr>\n    <tr>\n      <th>min</th>\n      <td>1.030000</td>\n      <td>1.250000</td>\n      <td>1.030000</td>\n      <td>1.010000</td>\n      <td>1.500000</td>\n      <td>1.030000</td>\n      <td>1.020000</td>\n      <td>1.200000</td>\n      <td>1.020000</td>\n      <td>1.010000</td>\n      <td>...</td>\n      <td>1.210000</td>\n      <td>-4.000000</td>\n      <td>1.500000</td>\n      <td>1.180000</td>\n      <td>1.590000</td>\n      <td>1.200000</td>\n      <td>1.680000</td>\n      <td>1.200000</td>\n      <td>1.600000</td>\n      <td>1.180000</td>\n    </tr>\n    <tr>\n      <th>25%</th>\n      <td>1.730000</td>\n      <td>3.100000</td>\n      <td>2.650000</td>\n      <td>1.750000</td>\n      <td>3.100000</td>\n      <td>2.550000</td>\n      <td>1.727000</td>\n      <td>3.200000</td>\n      <td>2.620000</td>\n      <td>1.750000</td>\n      <td>...</td>\n      <td>1.650000</td>\n      <td>-0.500000</td>\n      <td>1.850000</td>\n      <td>1.860000</td>\n      <td>1.870000</td>\n      <td>1.880000</td>\n      <td>1.920000</td>\n      <td>1.920000</td>\n      <td>1.840000</td>\n      <td>1.850000</td>\n    </tr>\n    <tr>\n      <th>50%</th>\n      <td>2.100000</td>\n      <td>3.250000</td>\n      <td>3.350000</td>\n      <td>2.100000</td>\n      <td>3.200000</td>\n      <td>3.200000</td>\n      <td>2.100000</td>\n      <td>3.250000</td>\n      <td>3.300000</td>\n      <td>2.150000</td>\n      <td>...</td>\n      <td>1.840000</td>\n      <td>-0.250000</td>\n      <td>1.930000</td>\n      <td>1.950000</td>\n      <td>1.950000</td>\n      <td>1.950000</td>\n      <td>2.000000</td>\n      <td>2.000000</td>\n      <td>1.920000</td>\n      <td>1.920000</td>\n    </tr>\n    <tr>\n      <th>75%</th>\n      <td>2.450000</td>\n      <td>3.450000</td>\n      <td>4.500000</td>\n      <td>2.500000</td>\n      <td>3.500000</td>\n      <td>4.200000</td>\n      <td>2.450000</td>\n      <td>3.400000</td>\n      <td>4.500000</td>\n      <td>2.600000</td>\n      <td>...</td>\n      <td>2.100000</td>\n      <td>0.250000</td>\n      <td>2.020000</td>\n      <td>2.020000</td>\n      <td>2.030000</td>\n      <td>2.030000</td>\n      <td>2.080000</td>\n      <td>2.090000</td>\n      <td>1.990000</td>\n      <td>2.000000</td>\n    </tr>\n    <tr>\n      <th>max</th>\n      <td>24.000000</td>\n      <td>11.000000</td>\n      <td>34.000000</td>\n      <td>30.000000</td>\n      <td>16.000000</td>\n      <td>70.000000</td>\n      <td>26.000000</td>\n      <td>13.000000</td>\n      <td>34.000000</td>\n      <td>34.000000</td>\n      <td>...</td>\n      <td>6.940000</td>\n      <td>3.250000</td>\n      <td>4.650000</td>\n      <td>2.500000</td>\n      <td>5.080000</td>\n      <td>2.460000</td>\n      <td>5.500000</td>\n      <td>2.700000</td>\n      <td>4.900000</td>\n      <td>2.360000</td>\n    </tr>\n  </tbody>\n</table>\n<p>8 rows × 49 columns</p>\n</div>"
     },
     "execution_count": 62,
     "metadata": {},
     "output_type": "execute_result"
    }
   ],
   "source": [
    "odds_cols = ['GBH', 'GBD', 'GBA', 'IWH', 'IWD', 'IWA', 'SBH', 'SBD', 'SBA', 'WHH', 'WHD', 'WHA', 'B365CH', 'B365CD', 'B365CA', 'BWCH', 'BWCD', 'BWCA', 'IWCH', 'IWCD', 'IWCA', 'WHCH', 'WHCD', 'WHCA', 'VCCH', 'VCCD', 'VCCA', 'MaxCH', 'MaxCD', 'MaxCA', 'AvgCH','AvgCD', 'AvgCA', 'B365C>2.5', 'B365C<2.5', 'PC>2.5', 'PC<2.5', 'MaxC>2.5', 'MaxC<2.5', 'AvgC>2.5', 'AvgC<2.5', 'AHCh', 'B365CAHH', 'B365CAHA', 'PCAHH', 'PCAHA', 'MaxCAHH', 'MaxCAHA', 'AvgCAHH', 'AvgCAHA']\n",
    "df[odds_cols].describe()"
   ],
   "metadata": {
    "collapsed": false,
    "ExecuteTime": {
     "end_time": "2024-01-07T19:11:31.330209800Z",
     "start_time": "2024-01-07T19:11:30.861177Z"
    }
   },
   "id": "b5a8ae1dff1c7d6c"
  },
  {
   "cell_type": "code",
   "execution_count": 63,
   "outputs": [],
   "source": [
    "# only column 'AHCh' has negative values -> no need to run on all 50 columns\n",
    "df[\"AHCh\"] = abs(df[\"AHCh\"])"
   ],
   "metadata": {
    "collapsed": false,
    "ExecuteTime": {
     "end_time": "2024-01-07T19:11:31.358432Z",
     "start_time": "2024-01-07T19:11:31.328208Z"
    }
   },
   "id": "5ee615a107a929b8"
  },
  {
   "cell_type": "markdown",
   "id": "a9ec006d07aaf9ed",
   "metadata": {
    "collapsed": false
   },
   "source": [
    "Drop all completely empty columns and rows which there is a lot of, dropped 41 empty columns in total."
   ]
  },
  {
   "cell_type": "code",
   "execution_count": 64,
   "id": "a8f0e94069f87e82",
   "metadata": {
    "collapsed": false,
    "ExecuteTime": {
     "end_time": "2024-01-07T19:11:31.519141400Z",
     "start_time": "2024-01-07T19:11:31.343232900Z"
    }
   },
   "outputs": [],
   "source": [
    "df.dropna(how='all', axis=1, inplace=True)"
   ]
  },
  {
   "cell_type": "code",
   "execution_count": 65,
   "id": "ff1c67e0d03c41e8",
   "metadata": {
    "collapsed": false,
    "ExecuteTime": {
     "end_time": "2024-01-07T19:11:31.545707Z",
     "start_time": "2024-01-07T19:11:31.517139500Z"
    }
   },
   "outputs": [
    {
     "data": {
      "text/plain": "(161071, 175)"
     },
     "execution_count": 65,
     "metadata": {},
     "output_type": "execute_result"
    }
   ],
   "source": [
    "df.shape"
   ]
  },
  {
   "cell_type": "markdown",
   "id": "2f822ca43aff7d4d",
   "metadata": {
    "collapsed": false
   },
   "source": [
    "# Data Exploration\n",
    "\n",
    "Total overview of all variables."
   ]
  },
  {
   "cell_type": "code",
   "execution_count": 66,
   "id": "a76d2dc275b79d0c",
   "metadata": {
    "collapsed": false,
    "ExecuteTime": {
     "end_time": "2024-01-07T19:11:33.051670Z",
     "start_time": "2024-01-07T19:11:31.532191Z"
    }
   },
   "outputs": [
    {
     "data": {
      "text/plain": "          Unnamed: 0                           Date           FTHG  \\\ncount  161071.000000                         161071  153794.000000   \nmean      188.102539  2012-01-01 15:35:10.033463552       1.485565   \nmin         0.000000            2000-07-28 00:00:00       0.000000   \n25%        85.000000            2006-03-12 00:00:00       1.000000   \n50%       169.000000            2012-01-02 00:00:00       1.000000   \n75%       272.000000            2017-09-30 00:00:00       2.000000   \nmax       551.000000            2023-06-07 00:00:00      10.000000   \nstd       126.572785                            NaN       1.253213   \n\n                FTAG           HTHG           HTAG           GBH  \\\ncount  153794.000000  153794.000000  153794.000000  87396.000000   \nmean        1.133640       0.655383       0.494434      2.275595   \nmin         0.000000       0.000000       0.000000      1.030000   \n25%         0.000000       0.000000       0.000000      1.730000   \n50%         1.000000       0.000000       0.000000      2.100000   \n75%         2.000000       1.000000       1.000000      2.450000   \nmax         9.000000       7.000000       6.000000     24.000000   \nstd         1.106673       0.809099       0.708481      1.040873   \n\n                GBD           GBA            IWH  ...        LBAHH  \\\ncount  87450.000000  87434.000000  156861.000000  ...  5421.000000   \nmean       3.381706      3.951696       2.346728  ...     1.919170   \nmin        1.250000      1.030000       1.010000  ...     1.250000   \n25%        3.100000      2.650000       1.750000  ...     1.840000   \n50%        3.250000      3.350000       2.100000  ...     1.920000   \n75%        3.450000      4.500000       2.500000  ...     2.000000   \nmax       11.000000     34.000000      30.000000  ...     3.400000   \nstd        0.614211      2.196840       1.169321  ...     0.109095   \n\n             LBAHA         LBAH  Avg_away_odds  Avg_home_odds  Avg_draw_odds  \\\ncount  5421.000000  5409.000000  160487.000000  160486.000000  160486.000000   \nmean      1.924853    -0.360094       3.994997       2.407829       3.513629   \nmin      -0.500000    -2.250000       1.040000       1.010000       1.250000   \n25%       1.840000    -0.750000       2.608333       1.758000       3.172222   \n50%       1.920000    -0.250000       3.308333       2.130000       3.311429   \n75%       2.000000     0.000000       4.450000       2.577000       3.561111   \nmax       4.000000     9.000000      68.000000      32.333333      19.214286   \nstd       0.122329     0.570447       2.620643       1.305819       0.809313   \n\n        heavy_favour  Var_away_odds  Var_home_odds  Var_draw_odds  \ncount  160486.000000  159705.000000  159704.000000  159704.000000  \nmean       -1.587163       0.292037       0.039422       0.034328  \nmin       -66.980000       0.000000       0.000000       0.000000  \n25%        -2.682000       0.006211       0.001310       0.006111  \n50%        -1.174000       0.023333       0.003333       0.011267  \n75%        -0.046750       0.085500       0.008988       0.022143  \nmax        31.270000     468.000000     140.333333      42.154762  \nstd         3.438277       2.962548       0.557864       0.248086  \n\n[8 rows x 164 columns]",
      "text/html": "<div>\n<style scoped>\n    .dataframe tbody tr th:only-of-type {\n        vertical-align: middle;\n    }\n\n    .dataframe tbody tr th {\n        vertical-align: top;\n    }\n\n    .dataframe thead th {\n        text-align: right;\n    }\n</style>\n<table border=\"1\" class=\"dataframe\">\n  <thead>\n    <tr style=\"text-align: right;\">\n      <th></th>\n      <th>Unnamed: 0</th>\n      <th>Date</th>\n      <th>FTHG</th>\n      <th>FTAG</th>\n      <th>HTHG</th>\n      <th>HTAG</th>\n      <th>GBH</th>\n      <th>GBD</th>\n      <th>GBA</th>\n      <th>IWH</th>\n      <th>...</th>\n      <th>LBAHH</th>\n      <th>LBAHA</th>\n      <th>LBAH</th>\n      <th>Avg_away_odds</th>\n      <th>Avg_home_odds</th>\n      <th>Avg_draw_odds</th>\n      <th>heavy_favour</th>\n      <th>Var_away_odds</th>\n      <th>Var_home_odds</th>\n      <th>Var_draw_odds</th>\n    </tr>\n  </thead>\n  <tbody>\n    <tr>\n      <th>count</th>\n      <td>161071.000000</td>\n      <td>161071</td>\n      <td>153794.000000</td>\n      <td>153794.000000</td>\n      <td>153794.000000</td>\n      <td>153794.000000</td>\n      <td>87396.000000</td>\n      <td>87450.000000</td>\n      <td>87434.000000</td>\n      <td>156861.000000</td>\n      <td>...</td>\n      <td>5421.000000</td>\n      <td>5421.000000</td>\n      <td>5409.000000</td>\n      <td>160487.000000</td>\n      <td>160486.000000</td>\n      <td>160486.000000</td>\n      <td>160486.000000</td>\n      <td>159705.000000</td>\n      <td>159704.000000</td>\n      <td>159704.000000</td>\n    </tr>\n    <tr>\n      <th>mean</th>\n      <td>188.102539</td>\n      <td>2012-01-01 15:35:10.033463552</td>\n      <td>1.485565</td>\n      <td>1.133640</td>\n      <td>0.655383</td>\n      <td>0.494434</td>\n      <td>2.275595</td>\n      <td>3.381706</td>\n      <td>3.951696</td>\n      <td>2.346728</td>\n      <td>...</td>\n      <td>1.919170</td>\n      <td>1.924853</td>\n      <td>-0.360094</td>\n      <td>3.994997</td>\n      <td>2.407829</td>\n      <td>3.513629</td>\n      <td>-1.587163</td>\n      <td>0.292037</td>\n      <td>0.039422</td>\n      <td>0.034328</td>\n    </tr>\n    <tr>\n      <th>min</th>\n      <td>0.000000</td>\n      <td>2000-07-28 00:00:00</td>\n      <td>0.000000</td>\n      <td>0.000000</td>\n      <td>0.000000</td>\n      <td>0.000000</td>\n      <td>1.030000</td>\n      <td>1.250000</td>\n      <td>1.030000</td>\n      <td>1.010000</td>\n      <td>...</td>\n      <td>1.250000</td>\n      <td>-0.500000</td>\n      <td>-2.250000</td>\n      <td>1.040000</td>\n      <td>1.010000</td>\n      <td>1.250000</td>\n      <td>-66.980000</td>\n      <td>0.000000</td>\n      <td>0.000000</td>\n      <td>0.000000</td>\n    </tr>\n    <tr>\n      <th>25%</th>\n      <td>85.000000</td>\n      <td>2006-03-12 00:00:00</td>\n      <td>1.000000</td>\n      <td>0.000000</td>\n      <td>0.000000</td>\n      <td>0.000000</td>\n      <td>1.730000</td>\n      <td>3.100000</td>\n      <td>2.650000</td>\n      <td>1.750000</td>\n      <td>...</td>\n      <td>1.840000</td>\n      <td>1.840000</td>\n      <td>-0.750000</td>\n      <td>2.608333</td>\n      <td>1.758000</td>\n      <td>3.172222</td>\n      <td>-2.682000</td>\n      <td>0.006211</td>\n      <td>0.001310</td>\n      <td>0.006111</td>\n    </tr>\n    <tr>\n      <th>50%</th>\n      <td>169.000000</td>\n      <td>2012-01-02 00:00:00</td>\n      <td>1.000000</td>\n      <td>1.000000</td>\n      <td>0.000000</td>\n      <td>0.000000</td>\n      <td>2.100000</td>\n      <td>3.250000</td>\n      <td>3.350000</td>\n      <td>2.100000</td>\n      <td>...</td>\n      <td>1.920000</td>\n      <td>1.920000</td>\n      <td>-0.250000</td>\n      <td>3.308333</td>\n      <td>2.130000</td>\n      <td>3.311429</td>\n      <td>-1.174000</td>\n      <td>0.023333</td>\n      <td>0.003333</td>\n      <td>0.011267</td>\n    </tr>\n    <tr>\n      <th>75%</th>\n      <td>272.000000</td>\n      <td>2017-09-30 00:00:00</td>\n      <td>2.000000</td>\n      <td>2.000000</td>\n      <td>1.000000</td>\n      <td>1.000000</td>\n      <td>2.450000</td>\n      <td>3.450000</td>\n      <td>4.500000</td>\n      <td>2.500000</td>\n      <td>...</td>\n      <td>2.000000</td>\n      <td>2.000000</td>\n      <td>0.000000</td>\n      <td>4.450000</td>\n      <td>2.577000</td>\n      <td>3.561111</td>\n      <td>-0.046750</td>\n      <td>0.085500</td>\n      <td>0.008988</td>\n      <td>0.022143</td>\n    </tr>\n    <tr>\n      <th>max</th>\n      <td>551.000000</td>\n      <td>2023-06-07 00:00:00</td>\n      <td>10.000000</td>\n      <td>9.000000</td>\n      <td>7.000000</td>\n      <td>6.000000</td>\n      <td>24.000000</td>\n      <td>11.000000</td>\n      <td>34.000000</td>\n      <td>30.000000</td>\n      <td>...</td>\n      <td>3.400000</td>\n      <td>4.000000</td>\n      <td>9.000000</td>\n      <td>68.000000</td>\n      <td>32.333333</td>\n      <td>19.214286</td>\n      <td>31.270000</td>\n      <td>468.000000</td>\n      <td>140.333333</td>\n      <td>42.154762</td>\n    </tr>\n    <tr>\n      <th>std</th>\n      <td>126.572785</td>\n      <td>NaN</td>\n      <td>1.253213</td>\n      <td>1.106673</td>\n      <td>0.809099</td>\n      <td>0.708481</td>\n      <td>1.040873</td>\n      <td>0.614211</td>\n      <td>2.196840</td>\n      <td>1.169321</td>\n      <td>...</td>\n      <td>0.109095</td>\n      <td>0.122329</td>\n      <td>0.570447</td>\n      <td>2.620643</td>\n      <td>1.305819</td>\n      <td>0.809313</td>\n      <td>3.438277</td>\n      <td>2.962548</td>\n      <td>0.557864</td>\n      <td>0.248086</td>\n    </tr>\n  </tbody>\n</table>\n<p>8 rows × 164 columns</p>\n</div>"
     },
     "execution_count": 66,
     "metadata": {},
     "output_type": "execute_result"
    }
   ],
   "source": [
    "df.describe()"
   ]
  },
  {
   "cell_type": "markdown",
   "id": "34b17fe2",
   "metadata": {},
   "source": [
    "Percentage of missing values."
   ]
  },
  {
   "cell_type": "code",
   "execution_count": 67,
   "id": "dbd0ff92d61fb66f",
   "metadata": {
    "collapsed": false,
    "ExecuteTime": {
     "end_time": "2024-01-07T19:11:33.273880700Z",
     "start_time": "2024-01-07T19:11:33.052670700Z"
    }
   },
   "outputs": [
    {
     "data": {
      "text/plain": "HFKC          0.991560\nAFKC          0.991560\nLBAH          0.964830\nLBAHA         0.964752\nLBAHH         0.964752\nSYD           0.964732\nSYA           0.964693\nSYH           0.964693\nAO            0.957976\nHHW           0.957937\nAHW           0.957859\nHO            0.957853\nSOH           0.957313\nSOD           0.957222\nSOA           0.957215\nABP           0.956851\nAttendance    0.956838\nHBP           0.956767\nB365AH        0.955850\nGBAHA         0.925049\ndtype: float64"
     },
     "execution_count": 67,
     "metadata": {},
     "output_type": "execute_result"
    }
   ],
   "source": [
    "na_vals = df[df[\"season\"] != 22].isna().sum()       # AVOID DATA LEAKAGE ;)\n",
    "na_vals = na_vals/df[df[\"season\"] != 22].shape[0]\n",
    "na_vals.sort_values(ascending = False).head(20)"
   ]
  },
  {
   "cell_type": "code",
   "execution_count": 68,
   "metadata": {
    "ExecuteTime": {
     "end_time": "2024-01-07T19:11:33.648619Z",
     "start_time": "2024-01-07T19:11:33.268109300Z"
    }
   },
   "outputs": [
    {
     "data": {
      "text/plain": "       Variable First Occurrence Last Occurrence  Missing within\n83         HFKC       2019-02-01      2018-10-31          151212\n84         AFKC       2019-02-01      2018-10-31          151212\n166        LBAH       2005-01-01      2004-10-31          148002\n165       LBAHA       2005-01-01      2004-10-31          147990\n164       LBAHH       2005-01-01      2004-10-31          147990\n..          ...              ...             ...             ...\n23       league       2001-01-01      2023-06-07               0\n24      country       2001-01-01      2023-06-07               0\n25       season       2001-01-01      2023-06-07               0\n81          HST       2001-01-01      2021-12-31               0\n0    Unnamed: 0       2001-01-01      2023-06-07               0\n\n[175 rows x 4 columns]",
      "text/html": "<div>\n<style scoped>\n    .dataframe tbody tr th:only-of-type {\n        vertical-align: middle;\n    }\n\n    .dataframe tbody tr th {\n        vertical-align: top;\n    }\n\n    .dataframe thead th {\n        text-align: right;\n    }\n</style>\n<table border=\"1\" class=\"dataframe\">\n  <thead>\n    <tr style=\"text-align: right;\">\n      <th></th>\n      <th>Variable</th>\n      <th>First Occurrence</th>\n      <th>Last Occurrence</th>\n      <th>Missing within</th>\n    </tr>\n  </thead>\n  <tbody>\n    <tr>\n      <th>83</th>\n      <td>HFKC</td>\n      <td>2019-02-01</td>\n      <td>2018-10-31</td>\n      <td>151212</td>\n    </tr>\n    <tr>\n      <th>84</th>\n      <td>AFKC</td>\n      <td>2019-02-01</td>\n      <td>2018-10-31</td>\n      <td>151212</td>\n    </tr>\n    <tr>\n      <th>166</th>\n      <td>LBAH</td>\n      <td>2005-01-01</td>\n      <td>2004-10-31</td>\n      <td>148002</td>\n    </tr>\n    <tr>\n      <th>165</th>\n      <td>LBAHA</td>\n      <td>2005-01-01</td>\n      <td>2004-10-31</td>\n      <td>147990</td>\n    </tr>\n    <tr>\n      <th>164</th>\n      <td>LBAHH</td>\n      <td>2005-01-01</td>\n      <td>2004-10-31</td>\n      <td>147990</td>\n    </tr>\n    <tr>\n      <th>...</th>\n      <td>...</td>\n      <td>...</td>\n      <td>...</td>\n      <td>...</td>\n    </tr>\n    <tr>\n      <th>23</th>\n      <td>league</td>\n      <td>2001-01-01</td>\n      <td>2023-06-07</td>\n      <td>0</td>\n    </tr>\n    <tr>\n      <th>24</th>\n      <td>country</td>\n      <td>2001-01-01</td>\n      <td>2023-06-07</td>\n      <td>0</td>\n    </tr>\n    <tr>\n      <th>25</th>\n      <td>season</td>\n      <td>2001-01-01</td>\n      <td>2023-06-07</td>\n      <td>0</td>\n    </tr>\n    <tr>\n      <th>81</th>\n      <td>HST</td>\n      <td>2001-01-01</td>\n      <td>2021-12-31</td>\n      <td>0</td>\n    </tr>\n    <tr>\n      <th>0</th>\n      <td>Unnamed: 0</td>\n      <td>2001-01-01</td>\n      <td>2023-06-07</td>\n      <td>0</td>\n    </tr>\n  </tbody>\n</table>\n<p>175 rows × 4 columns</p>\n</div>"
     },
     "execution_count": 68,
     "metadata": {},
     "output_type": "execute_result"
    }
   ],
   "source": [
    "df = df.reset_index(drop = True)\n",
    "\n",
    "# Get first and last occurrences\n",
    "first_occurrences = df.apply(lambda x: x.first_valid_index())\n",
    "last_occurrences = df.apply(lambda x: x.last_valid_index())\n",
    "\n",
    "missing_counts = {}\n",
    "\n",
    "for column in df.columns:\n",
    "    # Indexes of the first and last occurrences\n",
    "    first_idx = df[column].first_valid_index()\n",
    "    last_idx = df[column].last_valid_index()\n",
    "\n",
    "    # Select the range between first and last occurrence, count missing values\n",
    "    missing_count = df[column][first_idx:last_idx].isnull().sum()\n",
    "    missing_counts[column] = missing_count\n",
    "\n",
    "result_df = pd.DataFrame({\n",
    "    'Variable':          df.columns,\n",
    "    'First Occurrence':  df[\"Date\"].to_numpy()[first_occurrences.values],\n",
    "    'Last Occurrence':   df[\"Date\"].to_numpy()[last_occurrences.values],\n",
    "    \"Missing within\": missing_counts.values()\n",
    "})\n",
    "\n",
    "result_df.sort_values(by=\"Missing within\", ascending=False)"
   ],
   "id": "50b764f244678fc2"
  },
  {
   "cell_type": "markdown",
   "source": [
    "# Feature Engineering\n",
    "We decided to add several features to the dataset.\n",
    "These features are:\n",
    "- Result of the last match between the two contending teams\n",
    "- Goal score during the last match between the two contending teams\n",
    "- Average amount of goals scored in the current season\n",
    "- Average amount of goals received in the current season\n",
    "\n",
    "We believe that these features will prove useful in the training of our model as they can reveal things such as momentum and strenghts/weaknesses against certain teams."
   ],
   "metadata": {
    "collapsed": false
   },
   "id": "30bec80d7d965594"
  },
  {
   "cell_type": "markdown",
   "source": [
    "### Result of the last match between the two contending teams"
   ],
   "metadata": {
    "collapsed": false
   },
   "id": "731c6074219fca63"
  },
  {
   "cell_type": "markdown",
   "source": [
    "Create a string of participating teams, append them alphabetically behind each other so it is easier to slice them."
   ],
   "metadata": {
    "collapsed": false
   },
   "id": "eb136876c01030c7"
  },
  {
   "cell_type": "code",
   "execution_count": 69,
   "outputs": [],
   "source": [
    "df[\"Index\"] = df.index\n",
    "df[\"MatchTeams\"] = df[[\"HomeTeam\",\"AwayTeam\"]].values.tolist()\n",
    "df[\"MatchTeams\"] = df[\"MatchTeams\"].sort_values().apply(lambda x: sorted(x))"
   ],
   "metadata": {
    "collapsed": false,
    "ExecuteTime": {
     "end_time": "2024-01-07T19:11:34.456267400Z",
     "start_time": "2024-01-07T19:11:33.643534200Z"
    }
   },
   "id": "90d9139991f1075a"
  },
  {
   "cell_type": "code",
   "execution_count": 70,
   "outputs": [],
   "source": [
    "df = df.assign(MatchTeams=df[\"MatchTeams\"].apply(lambda l: \"_\".join(l)))"
   ],
   "metadata": {
    "collapsed": false,
    "ExecuteTime": {
     "end_time": "2024-01-07T19:11:34.581117800Z",
     "start_time": "2024-01-07T19:11:34.501855200Z"
    }
   },
   "id": "cca557999ee1cea"
  },
  {
   "cell_type": "code",
   "execution_count": 71,
   "outputs": [
    {
     "data": {
      "text/plain": "        Unnamed: 0  Div       Date      HomeTeam      AwayTeam  FTHG  FTAG  \\\n37848          NaN  NaN        NaT           NaN           NaN   NaN   NaN   \n45266        284.0   T1 2003-11-08     Adanaspor  A. Sebatspor   1.0   2.0   \n105061         NaN  NaN        NaT           NaN           NaN   NaN   NaN   \n69754        112.0   T1 2003-12-21    Ankaragucu  A. Sebatspor   1.0   1.0   \n143805       131.0   T1 2004-05-15  A. Sebatspor    Ankaragucu   3.0   2.0   \n...            ...  ...        ...           ...           ...   ...   ...   \n36731        112.0  SP1 2010-01-17      Zaragoza         Xerez   0.0   0.0   \n61100          NaN  NaN        NaT           NaN           NaN   NaN   NaN   \n96050        367.0   E3 2003-09-13        Yeovil          York   3.0   0.0   \n86381        153.0   E3 2004-04-20          York        Yeovil   1.0   2.0   \n5823         125.0   E3 2015-08-18          York        Yeovil   1.0   0.0   \n\n        FTR  HTHG  HTAG  ... LBAH  Avg_away_odds  Avg_home_odds  \\\n37848   NaN   NaN   NaN  ...  NaN            NaN            NaN   \n45266     A   0.0   1.0  ...  NaN       3.341667       1.881500   \n105061  NaN   NaN   NaN  ...  NaN            NaN            NaN   \n69754     D   1.0   0.0  ...  NaN       4.302167       1.644000   \n143805    H   3.0   2.0  ...  NaN       6.950000       1.305000   \n...     ...   ...   ...  ...  ...            ...            ...   \n36731     D   0.0   0.0  ...  NaN       5.390000       1.616000   \n61100   NaN   NaN   NaN  ...  NaN            NaN            NaN   \n96050     H   2.0   0.0  ...  NaN       3.464286       1.892714   \n86381     A   1.0   0.0  ...  NaN       2.200000       2.728333   \n5823      H   0.0   0.0  ...  NaN       4.087143       1.934286   \n\n        Avg_draw_odds  Avg_bookie_prediction  heavy_favour  Var_away_odds  \\\n37848             NaN                    NaN           NaN            NaN   \n45266        3.358333                      H     -1.460167       0.044417   \n105061            NaN                    NaN           NaN            NaN   \n69754        3.441667                      H     -2.658167       0.028892   \n143805       4.507500                      H     -5.645000       0.176667   \n...               ...                    ...           ...            ...   \n36731        3.570000                      H     -3.774000       0.207111   \n61100             NaN                    NaN           NaN            NaN   \n96050        3.235714                      H     -1.571571       0.060595   \n86381        3.375000                      A      0.528333       0.007000   \n5823         3.360000                      H     -2.152857       0.168324   \n\n        Var_home_odds  Var_draw_odds     Index  \n37848             NaN            NaN       NaN  \n45266        0.005085       0.008417   37848.0  \n105061            NaN            NaN       NaN  \n69754        0.000972       0.010417  105061.0  \n143805       0.000300       0.022892   69754.0  \n...               ...            ...       ...  \n36731        0.001893       0.002333   78214.0  \n61100             NaN            NaN       NaN  \n96050        0.000785       0.003929   61100.0  \n86381        0.003817       0.015750   96050.0  \n5823         0.000462       0.019367   86381.0  \n\n[161071 rows x 176 columns]",
      "text/html": "<div>\n<style scoped>\n    .dataframe tbody tr th:only-of-type {\n        vertical-align: middle;\n    }\n\n    .dataframe tbody tr th {\n        vertical-align: top;\n    }\n\n    .dataframe thead th {\n        text-align: right;\n    }\n</style>\n<table border=\"1\" class=\"dataframe\">\n  <thead>\n    <tr style=\"text-align: right;\">\n      <th></th>\n      <th>Unnamed: 0</th>\n      <th>Div</th>\n      <th>Date</th>\n      <th>HomeTeam</th>\n      <th>AwayTeam</th>\n      <th>FTHG</th>\n      <th>FTAG</th>\n      <th>FTR</th>\n      <th>HTHG</th>\n      <th>HTAG</th>\n      <th>...</th>\n      <th>LBAH</th>\n      <th>Avg_away_odds</th>\n      <th>Avg_home_odds</th>\n      <th>Avg_draw_odds</th>\n      <th>Avg_bookie_prediction</th>\n      <th>heavy_favour</th>\n      <th>Var_away_odds</th>\n      <th>Var_home_odds</th>\n      <th>Var_draw_odds</th>\n      <th>Index</th>\n    </tr>\n  </thead>\n  <tbody>\n    <tr>\n      <th>37848</th>\n      <td>NaN</td>\n      <td>NaN</td>\n      <td>NaT</td>\n      <td>NaN</td>\n      <td>NaN</td>\n      <td>NaN</td>\n      <td>NaN</td>\n      <td>NaN</td>\n      <td>NaN</td>\n      <td>NaN</td>\n      <td>...</td>\n      <td>NaN</td>\n      <td>NaN</td>\n      <td>NaN</td>\n      <td>NaN</td>\n      <td>NaN</td>\n      <td>NaN</td>\n      <td>NaN</td>\n      <td>NaN</td>\n      <td>NaN</td>\n      <td>NaN</td>\n    </tr>\n    <tr>\n      <th>45266</th>\n      <td>284.0</td>\n      <td>T1</td>\n      <td>2003-11-08</td>\n      <td>Adanaspor</td>\n      <td>A. Sebatspor</td>\n      <td>1.0</td>\n      <td>2.0</td>\n      <td>A</td>\n      <td>0.0</td>\n      <td>1.0</td>\n      <td>...</td>\n      <td>NaN</td>\n      <td>3.341667</td>\n      <td>1.881500</td>\n      <td>3.358333</td>\n      <td>H</td>\n      <td>-1.460167</td>\n      <td>0.044417</td>\n      <td>0.005085</td>\n      <td>0.008417</td>\n      <td>37848.0</td>\n    </tr>\n    <tr>\n      <th>105061</th>\n      <td>NaN</td>\n      <td>NaN</td>\n      <td>NaT</td>\n      <td>NaN</td>\n      <td>NaN</td>\n      <td>NaN</td>\n      <td>NaN</td>\n      <td>NaN</td>\n      <td>NaN</td>\n      <td>NaN</td>\n      <td>...</td>\n      <td>NaN</td>\n      <td>NaN</td>\n      <td>NaN</td>\n      <td>NaN</td>\n      <td>NaN</td>\n      <td>NaN</td>\n      <td>NaN</td>\n      <td>NaN</td>\n      <td>NaN</td>\n      <td>NaN</td>\n    </tr>\n    <tr>\n      <th>69754</th>\n      <td>112.0</td>\n      <td>T1</td>\n      <td>2003-12-21</td>\n      <td>Ankaragucu</td>\n      <td>A. Sebatspor</td>\n      <td>1.0</td>\n      <td>1.0</td>\n      <td>D</td>\n      <td>1.0</td>\n      <td>0.0</td>\n      <td>...</td>\n      <td>NaN</td>\n      <td>4.302167</td>\n      <td>1.644000</td>\n      <td>3.441667</td>\n      <td>H</td>\n      <td>-2.658167</td>\n      <td>0.028892</td>\n      <td>0.000972</td>\n      <td>0.010417</td>\n      <td>105061.0</td>\n    </tr>\n    <tr>\n      <th>143805</th>\n      <td>131.0</td>\n      <td>T1</td>\n      <td>2004-05-15</td>\n      <td>A. Sebatspor</td>\n      <td>Ankaragucu</td>\n      <td>3.0</td>\n      <td>2.0</td>\n      <td>H</td>\n      <td>3.0</td>\n      <td>2.0</td>\n      <td>...</td>\n      <td>NaN</td>\n      <td>6.950000</td>\n      <td>1.305000</td>\n      <td>4.507500</td>\n      <td>H</td>\n      <td>-5.645000</td>\n      <td>0.176667</td>\n      <td>0.000300</td>\n      <td>0.022892</td>\n      <td>69754.0</td>\n    </tr>\n    <tr>\n      <th>...</th>\n      <td>...</td>\n      <td>...</td>\n      <td>...</td>\n      <td>...</td>\n      <td>...</td>\n      <td>...</td>\n      <td>...</td>\n      <td>...</td>\n      <td>...</td>\n      <td>...</td>\n      <td>...</td>\n      <td>...</td>\n      <td>...</td>\n      <td>...</td>\n      <td>...</td>\n      <td>...</td>\n      <td>...</td>\n      <td>...</td>\n      <td>...</td>\n      <td>...</td>\n      <td>...</td>\n    </tr>\n    <tr>\n      <th>36731</th>\n      <td>112.0</td>\n      <td>SP1</td>\n      <td>2010-01-17</td>\n      <td>Zaragoza</td>\n      <td>Xerez</td>\n      <td>0.0</td>\n      <td>0.0</td>\n      <td>D</td>\n      <td>0.0</td>\n      <td>0.0</td>\n      <td>...</td>\n      <td>NaN</td>\n      <td>5.390000</td>\n      <td>1.616000</td>\n      <td>3.570000</td>\n      <td>H</td>\n      <td>-3.774000</td>\n      <td>0.207111</td>\n      <td>0.001893</td>\n      <td>0.002333</td>\n      <td>78214.0</td>\n    </tr>\n    <tr>\n      <th>61100</th>\n      <td>NaN</td>\n      <td>NaN</td>\n      <td>NaT</td>\n      <td>NaN</td>\n      <td>NaN</td>\n      <td>NaN</td>\n      <td>NaN</td>\n      <td>NaN</td>\n      <td>NaN</td>\n      <td>NaN</td>\n      <td>...</td>\n      <td>NaN</td>\n      <td>NaN</td>\n      <td>NaN</td>\n      <td>NaN</td>\n      <td>NaN</td>\n      <td>NaN</td>\n      <td>NaN</td>\n      <td>NaN</td>\n      <td>NaN</td>\n      <td>NaN</td>\n    </tr>\n    <tr>\n      <th>96050</th>\n      <td>367.0</td>\n      <td>E3</td>\n      <td>2003-09-13</td>\n      <td>Yeovil</td>\n      <td>York</td>\n      <td>3.0</td>\n      <td>0.0</td>\n      <td>H</td>\n      <td>2.0</td>\n      <td>0.0</td>\n      <td>...</td>\n      <td>NaN</td>\n      <td>3.464286</td>\n      <td>1.892714</td>\n      <td>3.235714</td>\n      <td>H</td>\n      <td>-1.571571</td>\n      <td>0.060595</td>\n      <td>0.000785</td>\n      <td>0.003929</td>\n      <td>61100.0</td>\n    </tr>\n    <tr>\n      <th>86381</th>\n      <td>153.0</td>\n      <td>E3</td>\n      <td>2004-04-20</td>\n      <td>York</td>\n      <td>Yeovil</td>\n      <td>1.0</td>\n      <td>2.0</td>\n      <td>A</td>\n      <td>1.0</td>\n      <td>0.0</td>\n      <td>...</td>\n      <td>NaN</td>\n      <td>2.200000</td>\n      <td>2.728333</td>\n      <td>3.375000</td>\n      <td>A</td>\n      <td>0.528333</td>\n      <td>0.007000</td>\n      <td>0.003817</td>\n      <td>0.015750</td>\n      <td>96050.0</td>\n    </tr>\n    <tr>\n      <th>5823</th>\n      <td>125.0</td>\n      <td>E3</td>\n      <td>2015-08-18</td>\n      <td>York</td>\n      <td>Yeovil</td>\n      <td>1.0</td>\n      <td>0.0</td>\n      <td>H</td>\n      <td>0.0</td>\n      <td>0.0</td>\n      <td>...</td>\n      <td>NaN</td>\n      <td>4.087143</td>\n      <td>1.934286</td>\n      <td>3.360000</td>\n      <td>H</td>\n      <td>-2.152857</td>\n      <td>0.168324</td>\n      <td>0.000462</td>\n      <td>0.019367</td>\n      <td>86381.0</td>\n    </tr>\n  </tbody>\n</table>\n<p>161071 rows × 176 columns</p>\n</div>"
     },
     "execution_count": 71,
     "metadata": {},
     "output_type": "execute_result"
    }
   ],
   "source": [
    "df.sort_values(['MatchTeams','Date'],ascending=True).groupby('MatchTeams').shift()"
   ],
   "metadata": {
    "collapsed": false,
    "ExecuteTime": {
     "end_time": "2024-01-07T19:11:35.149161600Z",
     "start_time": "2024-01-07T19:11:34.582118300Z"
    }
   },
   "id": "471e8ec62aeb1eaa"
  },
  {
   "cell_type": "markdown",
   "source": [],
   "metadata": {
    "collapsed": false
   },
   "id": "b2b3e785cc19563b"
  },
  {
   "cell_type": "code",
   "execution_count": 72,
   "outputs": [
    {
     "data": {
      "text/plain": "7277"
     },
     "execution_count": 72,
     "metadata": {},
     "output_type": "execute_result"
    }
   ],
   "source": [
    "len(df[df[\"season\"]==22])"
   ],
   "metadata": {
    "collapsed": false,
    "ExecuteTime": {
     "end_time": "2024-01-07T19:11:35.165247300Z",
     "start_time": "2024-01-07T19:11:35.144156900Z"
    }
   },
   "id": "2ffc0436392c3d56"
  },
  {
   "cell_type": "markdown",
   "source": [
    "Use groupby to group by same matches, create [\"LastMatchIndex\",\"LastMatchAwayGoals\", \"LastMatchHomeGoals\"] columns with unsorted values.\n",
    "First match of two teams gets empty column index as LastMatchIndex"
   ],
   "metadata": {
    "collapsed": false
   },
   "id": "5dd64750de5803cc"
  },
  {
   "cell_type": "code",
   "execution_count": 73,
   "outputs": [],
   "source": [
    "df[[\"LastMatchIndex\",\"LastMatchAwayGoals\", \"LastMatchHomeGoals\"]] = df.sort_values(['MatchTeams','Date'],ascending=True).groupby('MatchTeams').shift()[[\"Index\",\"FTAG\", \"FTHG\"]]\n",
    "df.loc[np.isnan(df[\"LastMatchIndex\"]), \"LastMatchIndex\"] = len(df.index)-1\n",
    "df.loc[len(df.index)] = [np.nan for _ in range(df.shape[1])]\n",
    "df.loc[len(df.index)-1]\n",
    "df[\"LastMatchIndex\"] = df[\"LastMatchIndex\"].replace(np.nan, len(df.index)-1)\n",
    "\n",
    "df[\"LastMatchIndex\"].fillna(len(df.index)-1)\n",
    "arr = df[\"LastMatchIndex\"]"
   ],
   "metadata": {
    "collapsed": false,
    "ExecuteTime": {
     "end_time": "2024-01-07T19:11:35.627026300Z",
     "start_time": "2024-01-07T19:11:35.160190100Z"
    }
   },
   "id": "24cda30259af6152"
  },
  {
   "cell_type": "markdown",
   "source": [
    "Switch LastMatchHomeGoals and LastMatchAwayGoals if they do not correspond to the teams accordingly, calculate who won the match"
   ],
   "metadata": {
    "collapsed": false
   },
   "id": "529fafb307538356"
  },
  {
   "cell_type": "code",
   "execution_count": 74,
   "outputs": [],
   "source": [
    "df[\"SameHomeTeam\"] = (df.iloc[arr][\"HomeTeam\"].values == df[\"HomeTeam\"].values)\n",
    "df.loc[df[\"SameHomeTeam\"],['LastMatchHomeGoals','LastMatchAwayGoals']] = df.loc[df[\"SameHomeTeam\"],['LastMatchHomeGoals','LastMatchAwayGoals']].values\n",
    "df[\"LastMatchAwayWin\"] = (df[\"LastMatchAwayGoals\"] > df[\"LastMatchHomeGoals\"]).astype(int)\n",
    "df[\"LastMatchHomeWin\"] = (df[\"LastMatchAwayGoals\"] < df[\"LastMatchHomeGoals\"]).astype(int)\n",
    "df[\"LastMatchDraw\"] = (df[\"LastMatchAwayGoals\"] == df[\"LastMatchHomeGoals\"]).astype(int)"
   ],
   "metadata": {
    "collapsed": false,
    "ExecuteTime": {
     "end_time": "2024-01-07T19:11:35.845091500Z",
     "start_time": "2024-01-07T19:11:35.629028Z"
    }
   },
   "id": "1ea2c9e1455d3e4"
  },
  {
   "cell_type": "code",
   "execution_count": 75,
   "outputs": [
    {
     "data": {
      "text/plain": "        Unnamed: 0  Div       Date        HomeTeam          AwayTeam  FTHG  \\\n0            178.0   E0 2001-01-01         Chelsea       Aston Villa   1.0   \n1             43.0   E2 2001-01-01    Bristol City         Cambridge   6.0   \n2             63.0   E1 2001-01-01  Sheffield Weds           Grimsby   1.0   \n3             76.0   E1 2001-01-01       West Brom          Barnsley   1.0   \n4             93.0   E1 2001-01-01        Tranmere  Sheffield United   1.0   \n...            ...  ...        ...             ...               ...   ...   \n161067       338.0   T1 2023-06-07      Fenerbahce         Gaziantep   NaN   \n161068       339.0   T1 2023-06-07     Giresunspor       Antalyaspor   NaN   \n161069       340.0   T1 2023-06-07       Hatayspor       Galatasaray   NaN   \n161070       341.0   T1 2023-06-07    Istanbulspor      Umraniyespor   NaN   \n161071         NaN  NaN        NaT             NaN               NaN   NaN   \n\n        FTAG  FTR  HTHG  HTAG  ... heavy_favour  Var_away_odds  Var_home_odds  \\\n0        0.0    H   1.0   0.0  ...    -3.218000        0.69200       0.005470   \n1        2.0    H   1.0   1.0  ...    -4.116000        0.64500       0.002280   \n2        0.0    H   0.0   0.0  ...    -2.124000        0.15700       0.003430   \n3        0.0    H   0.0   0.0  ...    -3.708000        0.51300       0.003970   \n4        0.0    H   1.0   0.0  ...     0.034000        0.01200       0.024080   \n...      ...  ...   ...   ...  ...          ...            ...            ...   \n161067   NaN    0   NaN   NaN  ...          NaN            NaN            NaN   \n161068   NaN    0   NaN   NaN  ...    -1.766667        0.00700       0.001707   \n161069   NaN    0   NaN   NaN  ...          NaN            NaN            NaN   \n161070   NaN    0   NaN   NaN  ...    -4.075000        0.06415       0.000680   \n161071   NaN  NaN   NaN   NaN  ...          NaN            NaN            NaN   \n\n        Var_draw_odds                 MatchTeams  LastMatchAwayGoals  \\\n0            0.015500        Aston Villa_Chelsea                 1.0   \n1            0.052000     Bristol City_Cambridge                 0.0   \n2            0.020000     Grimsby_Sheffield Weds                 1.0   \n3            0.034500         Barnsley_West Brom                 1.0   \n4            0.013750  Sheffield United_Tranmere                 0.0   \n...               ...                        ...                 ...   \n161067            NaN       Fenerbahce_Gaziantep                 NaN   \n161068       0.034150    Antalyaspor_Giresunspor                 NaN   \n161069            NaN      Galatasaray_Hatayspor                 NaN   \n161070       0.032817  Istanbulspor_Umraniyespor                 NaN   \n161071            NaN                        NaN                 NaN   \n\n        LastMatchHomeGoals  LastMatchAwayWin  LastMatchHomeWin  LastMatchDraw  \n0                      1.0                 0                 0              1  \n1                      1.0                 0                 1              0  \n2                      0.0                 1                 0              0  \n3                      4.0                 0                 1              0  \n4                      2.0                 0                 1              0  \n...                    ...               ...               ...            ...  \n161067                 NaN                 0                 0              0  \n161068                 NaN                 0                 0              0  \n161069                 NaN                 0                 0              0  \n161070                 NaN                 0                 0              0  \n161071                 NaN                 0                 0              0  \n\n[161072 rows x 181 columns]",
      "text/html": "<div>\n<style scoped>\n    .dataframe tbody tr th:only-of-type {\n        vertical-align: middle;\n    }\n\n    .dataframe tbody tr th {\n        vertical-align: top;\n    }\n\n    .dataframe thead th {\n        text-align: right;\n    }\n</style>\n<table border=\"1\" class=\"dataframe\">\n  <thead>\n    <tr style=\"text-align: right;\">\n      <th></th>\n      <th>Unnamed: 0</th>\n      <th>Div</th>\n      <th>Date</th>\n      <th>HomeTeam</th>\n      <th>AwayTeam</th>\n      <th>FTHG</th>\n      <th>FTAG</th>\n      <th>FTR</th>\n      <th>HTHG</th>\n      <th>HTAG</th>\n      <th>...</th>\n      <th>heavy_favour</th>\n      <th>Var_away_odds</th>\n      <th>Var_home_odds</th>\n      <th>Var_draw_odds</th>\n      <th>MatchTeams</th>\n      <th>LastMatchAwayGoals</th>\n      <th>LastMatchHomeGoals</th>\n      <th>LastMatchAwayWin</th>\n      <th>LastMatchHomeWin</th>\n      <th>LastMatchDraw</th>\n    </tr>\n  </thead>\n  <tbody>\n    <tr>\n      <th>0</th>\n      <td>178.0</td>\n      <td>E0</td>\n      <td>2001-01-01</td>\n      <td>Chelsea</td>\n      <td>Aston Villa</td>\n      <td>1.0</td>\n      <td>0.0</td>\n      <td>H</td>\n      <td>1.0</td>\n      <td>0.0</td>\n      <td>...</td>\n      <td>-3.218000</td>\n      <td>0.69200</td>\n      <td>0.005470</td>\n      <td>0.015500</td>\n      <td>Aston Villa_Chelsea</td>\n      <td>1.0</td>\n      <td>1.0</td>\n      <td>0</td>\n      <td>0</td>\n      <td>1</td>\n    </tr>\n    <tr>\n      <th>1</th>\n      <td>43.0</td>\n      <td>E2</td>\n      <td>2001-01-01</td>\n      <td>Bristol City</td>\n      <td>Cambridge</td>\n      <td>6.0</td>\n      <td>2.0</td>\n      <td>H</td>\n      <td>1.0</td>\n      <td>1.0</td>\n      <td>...</td>\n      <td>-4.116000</td>\n      <td>0.64500</td>\n      <td>0.002280</td>\n      <td>0.052000</td>\n      <td>Bristol City_Cambridge</td>\n      <td>0.0</td>\n      <td>1.0</td>\n      <td>0</td>\n      <td>1</td>\n      <td>0</td>\n    </tr>\n    <tr>\n      <th>2</th>\n      <td>63.0</td>\n      <td>E1</td>\n      <td>2001-01-01</td>\n      <td>Sheffield Weds</td>\n      <td>Grimsby</td>\n      <td>1.0</td>\n      <td>0.0</td>\n      <td>H</td>\n      <td>0.0</td>\n      <td>0.0</td>\n      <td>...</td>\n      <td>-2.124000</td>\n      <td>0.15700</td>\n      <td>0.003430</td>\n      <td>0.020000</td>\n      <td>Grimsby_Sheffield Weds</td>\n      <td>1.0</td>\n      <td>0.0</td>\n      <td>1</td>\n      <td>0</td>\n      <td>0</td>\n    </tr>\n    <tr>\n      <th>3</th>\n      <td>76.0</td>\n      <td>E1</td>\n      <td>2001-01-01</td>\n      <td>West Brom</td>\n      <td>Barnsley</td>\n      <td>1.0</td>\n      <td>0.0</td>\n      <td>H</td>\n      <td>0.0</td>\n      <td>0.0</td>\n      <td>...</td>\n      <td>-3.708000</td>\n      <td>0.51300</td>\n      <td>0.003970</td>\n      <td>0.034500</td>\n      <td>Barnsley_West Brom</td>\n      <td>1.0</td>\n      <td>4.0</td>\n      <td>0</td>\n      <td>1</td>\n      <td>0</td>\n    </tr>\n    <tr>\n      <th>4</th>\n      <td>93.0</td>\n      <td>E1</td>\n      <td>2001-01-01</td>\n      <td>Tranmere</td>\n      <td>Sheffield United</td>\n      <td>1.0</td>\n      <td>0.0</td>\n      <td>H</td>\n      <td>1.0</td>\n      <td>0.0</td>\n      <td>...</td>\n      <td>0.034000</td>\n      <td>0.01200</td>\n      <td>0.024080</td>\n      <td>0.013750</td>\n      <td>Sheffield United_Tranmere</td>\n      <td>0.0</td>\n      <td>2.0</td>\n      <td>0</td>\n      <td>1</td>\n      <td>0</td>\n    </tr>\n    <tr>\n      <th>...</th>\n      <td>...</td>\n      <td>...</td>\n      <td>...</td>\n      <td>...</td>\n      <td>...</td>\n      <td>...</td>\n      <td>...</td>\n      <td>...</td>\n      <td>...</td>\n      <td>...</td>\n      <td>...</td>\n      <td>...</td>\n      <td>...</td>\n      <td>...</td>\n      <td>...</td>\n      <td>...</td>\n      <td>...</td>\n      <td>...</td>\n      <td>...</td>\n      <td>...</td>\n      <td>...</td>\n    </tr>\n    <tr>\n      <th>161067</th>\n      <td>338.0</td>\n      <td>T1</td>\n      <td>2023-06-07</td>\n      <td>Fenerbahce</td>\n      <td>Gaziantep</td>\n      <td>NaN</td>\n      <td>NaN</td>\n      <td>0</td>\n      <td>NaN</td>\n      <td>NaN</td>\n      <td>...</td>\n      <td>NaN</td>\n      <td>NaN</td>\n      <td>NaN</td>\n      <td>NaN</td>\n      <td>Fenerbahce_Gaziantep</td>\n      <td>NaN</td>\n      <td>NaN</td>\n      <td>0</td>\n      <td>0</td>\n      <td>0</td>\n    </tr>\n    <tr>\n      <th>161068</th>\n      <td>339.0</td>\n      <td>T1</td>\n      <td>2023-06-07</td>\n      <td>Giresunspor</td>\n      <td>Antalyaspor</td>\n      <td>NaN</td>\n      <td>NaN</td>\n      <td>0</td>\n      <td>NaN</td>\n      <td>NaN</td>\n      <td>...</td>\n      <td>-1.766667</td>\n      <td>0.00700</td>\n      <td>0.001707</td>\n      <td>0.034150</td>\n      <td>Antalyaspor_Giresunspor</td>\n      <td>NaN</td>\n      <td>NaN</td>\n      <td>0</td>\n      <td>0</td>\n      <td>0</td>\n    </tr>\n    <tr>\n      <th>161069</th>\n      <td>340.0</td>\n      <td>T1</td>\n      <td>2023-06-07</td>\n      <td>Hatayspor</td>\n      <td>Galatasaray</td>\n      <td>NaN</td>\n      <td>NaN</td>\n      <td>0</td>\n      <td>NaN</td>\n      <td>NaN</td>\n      <td>...</td>\n      <td>NaN</td>\n      <td>NaN</td>\n      <td>NaN</td>\n      <td>NaN</td>\n      <td>Galatasaray_Hatayspor</td>\n      <td>NaN</td>\n      <td>NaN</td>\n      <td>0</td>\n      <td>0</td>\n      <td>0</td>\n    </tr>\n    <tr>\n      <th>161070</th>\n      <td>341.0</td>\n      <td>T1</td>\n      <td>2023-06-07</td>\n      <td>Istanbulspor</td>\n      <td>Umraniyespor</td>\n      <td>NaN</td>\n      <td>NaN</td>\n      <td>0</td>\n      <td>NaN</td>\n      <td>NaN</td>\n      <td>...</td>\n      <td>-4.075000</td>\n      <td>0.06415</td>\n      <td>0.000680</td>\n      <td>0.032817</td>\n      <td>Istanbulspor_Umraniyespor</td>\n      <td>NaN</td>\n      <td>NaN</td>\n      <td>0</td>\n      <td>0</td>\n      <td>0</td>\n    </tr>\n    <tr>\n      <th>161071</th>\n      <td>NaN</td>\n      <td>NaN</td>\n      <td>NaT</td>\n      <td>NaN</td>\n      <td>NaN</td>\n      <td>NaN</td>\n      <td>NaN</td>\n      <td>NaN</td>\n      <td>NaN</td>\n      <td>NaN</td>\n      <td>...</td>\n      <td>NaN</td>\n      <td>NaN</td>\n      <td>NaN</td>\n      <td>NaN</td>\n      <td>NaN</td>\n      <td>NaN</td>\n      <td>NaN</td>\n      <td>0</td>\n      <td>0</td>\n      <td>0</td>\n    </tr>\n  </tbody>\n</table>\n<p>161072 rows × 181 columns</p>\n</div>"
     },
     "execution_count": 75,
     "metadata": {},
     "output_type": "execute_result"
    }
   ],
   "source": [
    "df.drop([\"SameHomeTeam\", \"LastMatchIndex\", \"Index\"], axis=1)"
   ],
   "metadata": {
    "collapsed": false,
    "ExecuteTime": {
     "end_time": "2024-01-07T19:11:35.995293900Z",
     "start_time": "2024-01-07T19:11:35.847094100Z"
    }
   },
   "id": "e6a2ee9ee9a08c40"
  },
  {
   "cell_type": "code",
   "execution_count": 76,
   "outputs": [
    {
     "data": {
      "text/plain": "             Date  FTHG  FTAG  LastMatchHomeGoals  LastMatchAwayGoals  \\\n108    2005-01-01   0.0   1.0                 1.0                 0.0   \n728    2009-02-01   2.0   0.0                 0.0                 1.0   \n6013   2022-01-02   2.0   2.0                 1.0                 1.0   \n8405   2010-05-02   0.0   2.0                 2.0                 0.0   \n9175   2005-10-02   1.0   4.0                 0.0                 1.0   \n14254  2004-10-03   1.0   0.0                 0.0                 1.0   \n17318  2021-03-04   0.0   1.0                 0.0                 2.0   \n18985  2009-10-04   2.0   0.0                 2.0                 0.0   \n20784  2006-02-05   2.0   0.0                 1.0                 4.0   \n25822  2011-02-06   0.0   1.0                 2.0                 0.0   \n27959  2018-05-06   1.0   0.0                 1.0                 1.0   \n28842  2002-10-06   1.0   0.0                 1.0                 0.0   \n30126  2004-01-07   0.0   1.0                 1.0                 2.0   \n33674  2010-11-07   2.0   0.0                 0.0                 2.0   \n36477  2001-05-08   2.0   2.0                 NaN                 NaN   \n36773  2012-05-08   4.0   1.0                 1.0                 2.0   \n38107  2014-11-08   1.0   2.0                 0.0                 2.0   \n44196  2008-02-10   0.0   0.0                 1.0                 1.0   \n46164  2015-05-10   1.0   1.0                 1.0                 2.0   \n50860  2003-05-11   2.0   1.0                 1.0                 0.0   \n50861  2016-05-11   1.0   1.0                 1.0                 3.0   \n64950  2019-04-14   2.0   0.0                 1.0                 1.0   \n76374  2016-09-16   1.0   2.0                 1.0                 1.0   \n77424  2001-12-16   4.0   0.0                 2.0                 2.0   \n80939  2003-08-17   1.0   2.0                 2.0                 1.0   \n81532  2006-09-17   1.0   0.0                 2.0                 0.0   \n91628  2007-08-19   1.0   1.0                 2.0                 0.0   \n94344  2007-01-20   2.0   0.0                 1.0                 0.0   \n97923  2020-09-20   0.0   2.0                 5.0                 3.0   \n98979  2011-11-20   1.0   2.0                 0.0                 1.0   \n101904 2013-04-21   2.0   2.0                 4.0                 1.0   \n108152 2020-07-22   5.0   3.0                 1.0                 2.0   \n109229 2019-09-22   1.0   2.0                 2.0                 0.0   \n117622 2002-03-24   1.0   0.0                 4.0                 0.0   \n125848 2017-11-25   1.0   1.0                 1.0                 1.0   \n129681 2008-10-26   0.0   1.0                 0.0                 0.0   \n133681 2014-04-27   0.0   2.0                 2.0                 1.0   \n139487 2021-08-28   1.0   1.0                 0.0                 1.0   \n144849 2018-09-29   1.0   1.0                 1.0                 0.0   \n146489 2013-12-29   2.0   1.0                 2.0                 2.0   \n151714 2017-01-31   1.0   1.0                 1.0                 2.0   \n153493 2015-10-31   1.0   3.0                 1.0                 1.0   \n154289 2023-01-21   NaN   NaN                 2.0                 2.0   \n154383 2023-04-04   NaN   NaN                 NaN                 NaN   \n\n        LastMatchHomeWin  LastMatchAwayWin  LastMatchDraw  \n108                    1                 0              0  \n728                    0                 1              0  \n6013                   0                 0              1  \n8405                   1                 0              0  \n9175                   0                 1              0  \n14254                  0                 1              0  \n17318                  0                 1              0  \n18985                  1                 0              0  \n20784                  0                 1              0  \n25822                  1                 0              0  \n27959                  0                 0              1  \n28842                  1                 0              0  \n30126                  0                 1              0  \n33674                  0                 1              0  \n36477                  0                 0              0  \n36773                  0                 1              0  \n38107                  0                 1              0  \n44196                  0                 0              1  \n46164                  0                 1              0  \n50860                  1                 0              0  \n50861                  0                 1              0  \n64950                  0                 0              1  \n76374                  0                 0              1  \n77424                  0                 0              1  \n80939                  1                 0              0  \n81532                  1                 0              0  \n91628                  1                 0              0  \n94344                  1                 0              0  \n97923                  1                 0              0  \n98979                  0                 1              0  \n101904                 1                 0              0  \n108152                 0                 1              0  \n109229                 1                 0              0  \n117622                 1                 0              0  \n125848                 0                 0              1  \n129681                 0                 0              1  \n133681                 1                 0              0  \n139487                 0                 1              0  \n144849                 1                 0              0  \n146489                 0                 0              1  \n151714                 0                 1              0  \n153493                 0                 0              1  \n154289                 0                 0              1  \n154383                 0                 0              0  ",
      "text/html": "<div>\n<style scoped>\n    .dataframe tbody tr th:only-of-type {\n        vertical-align: middle;\n    }\n\n    .dataframe tbody tr th {\n        vertical-align: top;\n    }\n\n    .dataframe thead th {\n        text-align: right;\n    }\n</style>\n<table border=\"1\" class=\"dataframe\">\n  <thead>\n    <tr style=\"text-align: right;\">\n      <th></th>\n      <th>Date</th>\n      <th>FTHG</th>\n      <th>FTAG</th>\n      <th>LastMatchHomeGoals</th>\n      <th>LastMatchAwayGoals</th>\n      <th>LastMatchHomeWin</th>\n      <th>LastMatchAwayWin</th>\n      <th>LastMatchDraw</th>\n    </tr>\n  </thead>\n  <tbody>\n    <tr>\n      <th>108</th>\n      <td>2005-01-01</td>\n      <td>0.0</td>\n      <td>1.0</td>\n      <td>1.0</td>\n      <td>0.0</td>\n      <td>1</td>\n      <td>0</td>\n      <td>0</td>\n    </tr>\n    <tr>\n      <th>728</th>\n      <td>2009-02-01</td>\n      <td>2.0</td>\n      <td>0.0</td>\n      <td>0.0</td>\n      <td>1.0</td>\n      <td>0</td>\n      <td>1</td>\n      <td>0</td>\n    </tr>\n    <tr>\n      <th>6013</th>\n      <td>2022-01-02</td>\n      <td>2.0</td>\n      <td>2.0</td>\n      <td>1.0</td>\n      <td>1.0</td>\n      <td>0</td>\n      <td>0</td>\n      <td>1</td>\n    </tr>\n    <tr>\n      <th>8405</th>\n      <td>2010-05-02</td>\n      <td>0.0</td>\n      <td>2.0</td>\n      <td>2.0</td>\n      <td>0.0</td>\n      <td>1</td>\n      <td>0</td>\n      <td>0</td>\n    </tr>\n    <tr>\n      <th>9175</th>\n      <td>2005-10-02</td>\n      <td>1.0</td>\n      <td>4.0</td>\n      <td>0.0</td>\n      <td>1.0</td>\n      <td>0</td>\n      <td>1</td>\n      <td>0</td>\n    </tr>\n    <tr>\n      <th>14254</th>\n      <td>2004-10-03</td>\n      <td>1.0</td>\n      <td>0.0</td>\n      <td>0.0</td>\n      <td>1.0</td>\n      <td>0</td>\n      <td>1</td>\n      <td>0</td>\n    </tr>\n    <tr>\n      <th>17318</th>\n      <td>2021-03-04</td>\n      <td>0.0</td>\n      <td>1.0</td>\n      <td>0.0</td>\n      <td>2.0</td>\n      <td>0</td>\n      <td>1</td>\n      <td>0</td>\n    </tr>\n    <tr>\n      <th>18985</th>\n      <td>2009-10-04</td>\n      <td>2.0</td>\n      <td>0.0</td>\n      <td>2.0</td>\n      <td>0.0</td>\n      <td>1</td>\n      <td>0</td>\n      <td>0</td>\n    </tr>\n    <tr>\n      <th>20784</th>\n      <td>2006-02-05</td>\n      <td>2.0</td>\n      <td>0.0</td>\n      <td>1.0</td>\n      <td>4.0</td>\n      <td>0</td>\n      <td>1</td>\n      <td>0</td>\n    </tr>\n    <tr>\n      <th>25822</th>\n      <td>2011-02-06</td>\n      <td>0.0</td>\n      <td>1.0</td>\n      <td>2.0</td>\n      <td>0.0</td>\n      <td>1</td>\n      <td>0</td>\n      <td>0</td>\n    </tr>\n    <tr>\n      <th>27959</th>\n      <td>2018-05-06</td>\n      <td>1.0</td>\n      <td>0.0</td>\n      <td>1.0</td>\n      <td>1.0</td>\n      <td>0</td>\n      <td>0</td>\n      <td>1</td>\n    </tr>\n    <tr>\n      <th>28842</th>\n      <td>2002-10-06</td>\n      <td>1.0</td>\n      <td>0.0</td>\n      <td>1.0</td>\n      <td>0.0</td>\n      <td>1</td>\n      <td>0</td>\n      <td>0</td>\n    </tr>\n    <tr>\n      <th>30126</th>\n      <td>2004-01-07</td>\n      <td>0.0</td>\n      <td>1.0</td>\n      <td>1.0</td>\n      <td>2.0</td>\n      <td>0</td>\n      <td>1</td>\n      <td>0</td>\n    </tr>\n    <tr>\n      <th>33674</th>\n      <td>2010-11-07</td>\n      <td>2.0</td>\n      <td>0.0</td>\n      <td>0.0</td>\n      <td>2.0</td>\n      <td>0</td>\n      <td>1</td>\n      <td>0</td>\n    </tr>\n    <tr>\n      <th>36477</th>\n      <td>2001-05-08</td>\n      <td>2.0</td>\n      <td>2.0</td>\n      <td>NaN</td>\n      <td>NaN</td>\n      <td>0</td>\n      <td>0</td>\n      <td>0</td>\n    </tr>\n    <tr>\n      <th>36773</th>\n      <td>2012-05-08</td>\n      <td>4.0</td>\n      <td>1.0</td>\n      <td>1.0</td>\n      <td>2.0</td>\n      <td>0</td>\n      <td>1</td>\n      <td>0</td>\n    </tr>\n    <tr>\n      <th>38107</th>\n      <td>2014-11-08</td>\n      <td>1.0</td>\n      <td>2.0</td>\n      <td>0.0</td>\n      <td>2.0</td>\n      <td>0</td>\n      <td>1</td>\n      <td>0</td>\n    </tr>\n    <tr>\n      <th>44196</th>\n      <td>2008-02-10</td>\n      <td>0.0</td>\n      <td>0.0</td>\n      <td>1.0</td>\n      <td>1.0</td>\n      <td>0</td>\n      <td>0</td>\n      <td>1</td>\n    </tr>\n    <tr>\n      <th>46164</th>\n      <td>2015-05-10</td>\n      <td>1.0</td>\n      <td>1.0</td>\n      <td>1.0</td>\n      <td>2.0</td>\n      <td>0</td>\n      <td>1</td>\n      <td>0</td>\n    </tr>\n    <tr>\n      <th>50860</th>\n      <td>2003-05-11</td>\n      <td>2.0</td>\n      <td>1.0</td>\n      <td>1.0</td>\n      <td>0.0</td>\n      <td>1</td>\n      <td>0</td>\n      <td>0</td>\n    </tr>\n    <tr>\n      <th>50861</th>\n      <td>2016-05-11</td>\n      <td>1.0</td>\n      <td>1.0</td>\n      <td>1.0</td>\n      <td>3.0</td>\n      <td>0</td>\n      <td>1</td>\n      <td>0</td>\n    </tr>\n    <tr>\n      <th>64950</th>\n      <td>2019-04-14</td>\n      <td>2.0</td>\n      <td>0.0</td>\n      <td>1.0</td>\n      <td>1.0</td>\n      <td>0</td>\n      <td>0</td>\n      <td>1</td>\n    </tr>\n    <tr>\n      <th>76374</th>\n      <td>2016-09-16</td>\n      <td>1.0</td>\n      <td>2.0</td>\n      <td>1.0</td>\n      <td>1.0</td>\n      <td>0</td>\n      <td>0</td>\n      <td>1</td>\n    </tr>\n    <tr>\n      <th>77424</th>\n      <td>2001-12-16</td>\n      <td>4.0</td>\n      <td>0.0</td>\n      <td>2.0</td>\n      <td>2.0</td>\n      <td>0</td>\n      <td>0</td>\n      <td>1</td>\n    </tr>\n    <tr>\n      <th>80939</th>\n      <td>2003-08-17</td>\n      <td>1.0</td>\n      <td>2.0</td>\n      <td>2.0</td>\n      <td>1.0</td>\n      <td>1</td>\n      <td>0</td>\n      <td>0</td>\n    </tr>\n    <tr>\n      <th>81532</th>\n      <td>2006-09-17</td>\n      <td>1.0</td>\n      <td>0.0</td>\n      <td>2.0</td>\n      <td>0.0</td>\n      <td>1</td>\n      <td>0</td>\n      <td>0</td>\n    </tr>\n    <tr>\n      <th>91628</th>\n      <td>2007-08-19</td>\n      <td>1.0</td>\n      <td>1.0</td>\n      <td>2.0</td>\n      <td>0.0</td>\n      <td>1</td>\n      <td>0</td>\n      <td>0</td>\n    </tr>\n    <tr>\n      <th>94344</th>\n      <td>2007-01-20</td>\n      <td>2.0</td>\n      <td>0.0</td>\n      <td>1.0</td>\n      <td>0.0</td>\n      <td>1</td>\n      <td>0</td>\n      <td>0</td>\n    </tr>\n    <tr>\n      <th>97923</th>\n      <td>2020-09-20</td>\n      <td>0.0</td>\n      <td>2.0</td>\n      <td>5.0</td>\n      <td>3.0</td>\n      <td>1</td>\n      <td>0</td>\n      <td>0</td>\n    </tr>\n    <tr>\n      <th>98979</th>\n      <td>2011-11-20</td>\n      <td>1.0</td>\n      <td>2.0</td>\n      <td>0.0</td>\n      <td>1.0</td>\n      <td>0</td>\n      <td>1</td>\n      <td>0</td>\n    </tr>\n    <tr>\n      <th>101904</th>\n      <td>2013-04-21</td>\n      <td>2.0</td>\n      <td>2.0</td>\n      <td>4.0</td>\n      <td>1.0</td>\n      <td>1</td>\n      <td>0</td>\n      <td>0</td>\n    </tr>\n    <tr>\n      <th>108152</th>\n      <td>2020-07-22</td>\n      <td>5.0</td>\n      <td>3.0</td>\n      <td>1.0</td>\n      <td>2.0</td>\n      <td>0</td>\n      <td>1</td>\n      <td>0</td>\n    </tr>\n    <tr>\n      <th>109229</th>\n      <td>2019-09-22</td>\n      <td>1.0</td>\n      <td>2.0</td>\n      <td>2.0</td>\n      <td>0.0</td>\n      <td>1</td>\n      <td>0</td>\n      <td>0</td>\n    </tr>\n    <tr>\n      <th>117622</th>\n      <td>2002-03-24</td>\n      <td>1.0</td>\n      <td>0.0</td>\n      <td>4.0</td>\n      <td>0.0</td>\n      <td>1</td>\n      <td>0</td>\n      <td>0</td>\n    </tr>\n    <tr>\n      <th>125848</th>\n      <td>2017-11-25</td>\n      <td>1.0</td>\n      <td>1.0</td>\n      <td>1.0</td>\n      <td>1.0</td>\n      <td>0</td>\n      <td>0</td>\n      <td>1</td>\n    </tr>\n    <tr>\n      <th>129681</th>\n      <td>2008-10-26</td>\n      <td>0.0</td>\n      <td>1.0</td>\n      <td>0.0</td>\n      <td>0.0</td>\n      <td>0</td>\n      <td>0</td>\n      <td>1</td>\n    </tr>\n    <tr>\n      <th>133681</th>\n      <td>2014-04-27</td>\n      <td>0.0</td>\n      <td>2.0</td>\n      <td>2.0</td>\n      <td>1.0</td>\n      <td>1</td>\n      <td>0</td>\n      <td>0</td>\n    </tr>\n    <tr>\n      <th>139487</th>\n      <td>2021-08-28</td>\n      <td>1.0</td>\n      <td>1.0</td>\n      <td>0.0</td>\n      <td>1.0</td>\n      <td>0</td>\n      <td>1</td>\n      <td>0</td>\n    </tr>\n    <tr>\n      <th>144849</th>\n      <td>2018-09-29</td>\n      <td>1.0</td>\n      <td>1.0</td>\n      <td>1.0</td>\n      <td>0.0</td>\n      <td>1</td>\n      <td>0</td>\n      <td>0</td>\n    </tr>\n    <tr>\n      <th>146489</th>\n      <td>2013-12-29</td>\n      <td>2.0</td>\n      <td>1.0</td>\n      <td>2.0</td>\n      <td>2.0</td>\n      <td>0</td>\n      <td>0</td>\n      <td>1</td>\n    </tr>\n    <tr>\n      <th>151714</th>\n      <td>2017-01-31</td>\n      <td>1.0</td>\n      <td>1.0</td>\n      <td>1.0</td>\n      <td>2.0</td>\n      <td>0</td>\n      <td>1</td>\n      <td>0</td>\n    </tr>\n    <tr>\n      <th>153493</th>\n      <td>2015-10-31</td>\n      <td>1.0</td>\n      <td>3.0</td>\n      <td>1.0</td>\n      <td>1.0</td>\n      <td>0</td>\n      <td>0</td>\n      <td>1</td>\n    </tr>\n    <tr>\n      <th>154289</th>\n      <td>2023-01-21</td>\n      <td>NaN</td>\n      <td>NaN</td>\n      <td>2.0</td>\n      <td>2.0</td>\n      <td>0</td>\n      <td>0</td>\n      <td>1</td>\n    </tr>\n    <tr>\n      <th>154383</th>\n      <td>2023-04-04</td>\n      <td>NaN</td>\n      <td>NaN</td>\n      <td>NaN</td>\n      <td>NaN</td>\n      <td>0</td>\n      <td>0</td>\n      <td>0</td>\n    </tr>\n  </tbody>\n</table>\n</div>"
     },
     "execution_count": 76,
     "metadata": {},
     "output_type": "execute_result"
    }
   ],
   "source": [
    "df[df[\"MatchTeams\"] == \"Chelsea_Liverpool\"][[\"Date\",\"FTHG\", \"FTAG\", \"LastMatchHomeGoals\", \"LastMatchAwayGoals\", \"LastMatchHomeWin\",\"LastMatchAwayWin\", \"LastMatchDraw\"]]"
   ],
   "metadata": {
    "collapsed": false,
    "ExecuteTime": {
     "end_time": "2024-01-07T19:11:36.031370900Z",
     "start_time": "2024-01-07T19:11:35.987773800Z"
    }
   },
   "id": "168be5a9ad3d3f17"
  },
  {
   "cell_type": "markdown",
   "source": [
    "### Split data back to individual files based on countries"
   ],
   "metadata": {
    "collapsed": false
   },
   "id": "9e239b0a6d8d1eca"
  },
  {
   "cell_type": "code",
   "execution_count": 77,
   "outputs": [
    {
     "data": {
      "text/plain": "        Unnamed: 0 Div       Date        HomeTeam          AwayTeam  FTHG  \\\n0            178.0  E0 2001-01-01         Chelsea       Aston Villa   1.0   \n1             43.0  E2 2001-01-01    Bristol City         Cambridge   6.0   \n2             63.0  E1 2001-01-01  Sheffield Weds           Grimsby   1.0   \n3             76.0  E1 2001-01-01       West Brom          Barnsley   1.0   \n4             93.0  E1 2001-01-01        Tranmere  Sheffield United   1.0   \n...            ...  ..        ...             ...               ...   ...   \n156131       547.0  E3 2023-05-08       Stockport        Hartlepool   NaN   \n156132       548.0  E3 2023-05-08          Sutton          Carlisle   NaN   \n156133       549.0  E3 2023-05-08         Swindon      Crawley Town   NaN   \n156134       550.0  E3 2023-05-08        Tranmere       Northampton   NaN   \n156135       551.0  E3 2023-05-08         Walsall         Doncaster   NaN   \n\n        FTAG FTR  HTHG  HTAG  ... Var_draw_odds     Index  \\\n0        0.0   H   1.0   0.0  ...      0.015500       0.0   \n1        2.0   H   1.0   1.0  ...      0.052000       1.0   \n2        0.0   H   0.0   0.0  ...      0.020000       2.0   \n3        0.0   H   0.0   0.0  ...      0.034500       3.0   \n4        0.0   H   1.0   0.0  ...      0.013750       4.0   \n...      ...  ..   ...   ...  ...           ...       ...   \n156131   NaN   0   NaN   NaN  ...      0.232817  156131.0   \n156132   NaN   0   NaN   NaN  ...      0.010000  156132.0   \n156133   NaN   0   NaN   NaN  ...      0.009667  156133.0   \n156134   NaN   0   NaN   NaN  ...      0.012817  156134.0   \n156135   NaN   0   NaN   NaN  ...      0.010417  156135.0   \n\n                       MatchTeams  LastMatchIndex  LastMatchAwayGoals  \\\n0             Aston Villa_Chelsea        134095.0                 1.0   \n1          Bristol City_Cambridge        128200.0                 0.0   \n2          Grimsby_Sheffield Weds        128161.0                 1.0   \n3              Barnsley_West Brom        128166.0                 1.0   \n4       Sheffield United_Tranmere        128209.0                 0.0   \n...                           ...             ...                 ...   \n156131       Hartlepool_Stockport        155819.0                 NaN   \n156132            Carlisle_Sutton        155817.0                 NaN   \n156133       Crawley Town_Swindon        155818.0                 NaN   \n156134       Northampton_Tranmere        155821.0                 NaN   \n156135          Doncaster_Walsall        155812.0                 NaN   \n\n        LastMatchHomeGoals  SameHomeTeam  LastMatchAwayWin  LastMatchHomeWin  \\\n0                      1.0         False                 0                 0   \n1                      1.0         False                 0                 1   \n2                      0.0         False                 1                 0   \n3                      4.0         False                 0                 1   \n4                      2.0         False                 0                 1   \n...                    ...           ...               ...               ...   \n156131                 NaN         False                 0                 0   \n156132                 NaN         False                 0                 0   \n156133                 NaN         False                 0                 0   \n156134                 NaN         False                 0                 0   \n156135                 NaN         False                 0                 0   \n\n        LastMatchDraw  \n0                   1  \n1                   0  \n2                   0  \n3                   0  \n4                   0  \n...               ...  \n156131              0  \n156132              0  \n156133              0  \n156134              0  \n156135              0  \n\n[45342 rows x 184 columns]",
      "text/html": "<div>\n<style scoped>\n    .dataframe tbody tr th:only-of-type {\n        vertical-align: middle;\n    }\n\n    .dataframe tbody tr th {\n        vertical-align: top;\n    }\n\n    .dataframe thead th {\n        text-align: right;\n    }\n</style>\n<table border=\"1\" class=\"dataframe\">\n  <thead>\n    <tr style=\"text-align: right;\">\n      <th></th>\n      <th>Unnamed: 0</th>\n      <th>Div</th>\n      <th>Date</th>\n      <th>HomeTeam</th>\n      <th>AwayTeam</th>\n      <th>FTHG</th>\n      <th>FTAG</th>\n      <th>FTR</th>\n      <th>HTHG</th>\n      <th>HTAG</th>\n      <th>...</th>\n      <th>Var_draw_odds</th>\n      <th>Index</th>\n      <th>MatchTeams</th>\n      <th>LastMatchIndex</th>\n      <th>LastMatchAwayGoals</th>\n      <th>LastMatchHomeGoals</th>\n      <th>SameHomeTeam</th>\n      <th>LastMatchAwayWin</th>\n      <th>LastMatchHomeWin</th>\n      <th>LastMatchDraw</th>\n    </tr>\n  </thead>\n  <tbody>\n    <tr>\n      <th>0</th>\n      <td>178.0</td>\n      <td>E0</td>\n      <td>2001-01-01</td>\n      <td>Chelsea</td>\n      <td>Aston Villa</td>\n      <td>1.0</td>\n      <td>0.0</td>\n      <td>H</td>\n      <td>1.0</td>\n      <td>0.0</td>\n      <td>...</td>\n      <td>0.015500</td>\n      <td>0.0</td>\n      <td>Aston Villa_Chelsea</td>\n      <td>134095.0</td>\n      <td>1.0</td>\n      <td>1.0</td>\n      <td>False</td>\n      <td>0</td>\n      <td>0</td>\n      <td>1</td>\n    </tr>\n    <tr>\n      <th>1</th>\n      <td>43.0</td>\n      <td>E2</td>\n      <td>2001-01-01</td>\n      <td>Bristol City</td>\n      <td>Cambridge</td>\n      <td>6.0</td>\n      <td>2.0</td>\n      <td>H</td>\n      <td>1.0</td>\n      <td>1.0</td>\n      <td>...</td>\n      <td>0.052000</td>\n      <td>1.0</td>\n      <td>Bristol City_Cambridge</td>\n      <td>128200.0</td>\n      <td>0.0</td>\n      <td>1.0</td>\n      <td>False</td>\n      <td>0</td>\n      <td>1</td>\n      <td>0</td>\n    </tr>\n    <tr>\n      <th>2</th>\n      <td>63.0</td>\n      <td>E1</td>\n      <td>2001-01-01</td>\n      <td>Sheffield Weds</td>\n      <td>Grimsby</td>\n      <td>1.0</td>\n      <td>0.0</td>\n      <td>H</td>\n      <td>0.0</td>\n      <td>0.0</td>\n      <td>...</td>\n      <td>0.020000</td>\n      <td>2.0</td>\n      <td>Grimsby_Sheffield Weds</td>\n      <td>128161.0</td>\n      <td>1.0</td>\n      <td>0.0</td>\n      <td>False</td>\n      <td>1</td>\n      <td>0</td>\n      <td>0</td>\n    </tr>\n    <tr>\n      <th>3</th>\n      <td>76.0</td>\n      <td>E1</td>\n      <td>2001-01-01</td>\n      <td>West Brom</td>\n      <td>Barnsley</td>\n      <td>1.0</td>\n      <td>0.0</td>\n      <td>H</td>\n      <td>0.0</td>\n      <td>0.0</td>\n      <td>...</td>\n      <td>0.034500</td>\n      <td>3.0</td>\n      <td>Barnsley_West Brom</td>\n      <td>128166.0</td>\n      <td>1.0</td>\n      <td>4.0</td>\n      <td>False</td>\n      <td>0</td>\n      <td>1</td>\n      <td>0</td>\n    </tr>\n    <tr>\n      <th>4</th>\n      <td>93.0</td>\n      <td>E1</td>\n      <td>2001-01-01</td>\n      <td>Tranmere</td>\n      <td>Sheffield United</td>\n      <td>1.0</td>\n      <td>0.0</td>\n      <td>H</td>\n      <td>1.0</td>\n      <td>0.0</td>\n      <td>...</td>\n      <td>0.013750</td>\n      <td>4.0</td>\n      <td>Sheffield United_Tranmere</td>\n      <td>128209.0</td>\n      <td>0.0</td>\n      <td>2.0</td>\n      <td>False</td>\n      <td>0</td>\n      <td>1</td>\n      <td>0</td>\n    </tr>\n    <tr>\n      <th>...</th>\n      <td>...</td>\n      <td>...</td>\n      <td>...</td>\n      <td>...</td>\n      <td>...</td>\n      <td>...</td>\n      <td>...</td>\n      <td>...</td>\n      <td>...</td>\n      <td>...</td>\n      <td>...</td>\n      <td>...</td>\n      <td>...</td>\n      <td>...</td>\n      <td>...</td>\n      <td>...</td>\n      <td>...</td>\n      <td>...</td>\n      <td>...</td>\n      <td>...</td>\n      <td>...</td>\n    </tr>\n    <tr>\n      <th>156131</th>\n      <td>547.0</td>\n      <td>E3</td>\n      <td>2023-05-08</td>\n      <td>Stockport</td>\n      <td>Hartlepool</td>\n      <td>NaN</td>\n      <td>NaN</td>\n      <td>0</td>\n      <td>NaN</td>\n      <td>NaN</td>\n      <td>...</td>\n      <td>0.232817</td>\n      <td>156131.0</td>\n      <td>Hartlepool_Stockport</td>\n      <td>155819.0</td>\n      <td>NaN</td>\n      <td>NaN</td>\n      <td>False</td>\n      <td>0</td>\n      <td>0</td>\n      <td>0</td>\n    </tr>\n    <tr>\n      <th>156132</th>\n      <td>548.0</td>\n      <td>E3</td>\n      <td>2023-05-08</td>\n      <td>Sutton</td>\n      <td>Carlisle</td>\n      <td>NaN</td>\n      <td>NaN</td>\n      <td>0</td>\n      <td>NaN</td>\n      <td>NaN</td>\n      <td>...</td>\n      <td>0.010000</td>\n      <td>156132.0</td>\n      <td>Carlisle_Sutton</td>\n      <td>155817.0</td>\n      <td>NaN</td>\n      <td>NaN</td>\n      <td>False</td>\n      <td>0</td>\n      <td>0</td>\n      <td>0</td>\n    </tr>\n    <tr>\n      <th>156133</th>\n      <td>549.0</td>\n      <td>E3</td>\n      <td>2023-05-08</td>\n      <td>Swindon</td>\n      <td>Crawley Town</td>\n      <td>NaN</td>\n      <td>NaN</td>\n      <td>0</td>\n      <td>NaN</td>\n      <td>NaN</td>\n      <td>...</td>\n      <td>0.009667</td>\n      <td>156133.0</td>\n      <td>Crawley Town_Swindon</td>\n      <td>155818.0</td>\n      <td>NaN</td>\n      <td>NaN</td>\n      <td>False</td>\n      <td>0</td>\n      <td>0</td>\n      <td>0</td>\n    </tr>\n    <tr>\n      <th>156134</th>\n      <td>550.0</td>\n      <td>E3</td>\n      <td>2023-05-08</td>\n      <td>Tranmere</td>\n      <td>Northampton</td>\n      <td>NaN</td>\n      <td>NaN</td>\n      <td>0</td>\n      <td>NaN</td>\n      <td>NaN</td>\n      <td>...</td>\n      <td>0.012817</td>\n      <td>156134.0</td>\n      <td>Northampton_Tranmere</td>\n      <td>155821.0</td>\n      <td>NaN</td>\n      <td>NaN</td>\n      <td>False</td>\n      <td>0</td>\n      <td>0</td>\n      <td>0</td>\n    </tr>\n    <tr>\n      <th>156135</th>\n      <td>551.0</td>\n      <td>E3</td>\n      <td>2023-05-08</td>\n      <td>Walsall</td>\n      <td>Doncaster</td>\n      <td>NaN</td>\n      <td>NaN</td>\n      <td>0</td>\n      <td>NaN</td>\n      <td>NaN</td>\n      <td>...</td>\n      <td>0.010417</td>\n      <td>156135.0</td>\n      <td>Doncaster_Walsall</td>\n      <td>155812.0</td>\n      <td>NaN</td>\n      <td>NaN</td>\n      <td>False</td>\n      <td>0</td>\n      <td>0</td>\n      <td>0</td>\n    </tr>\n  </tbody>\n</table>\n<p>45342 rows × 184 columns</p>\n</div>"
     },
     "execution_count": 77,
     "metadata": {},
     "output_type": "execute_result"
    }
   ],
   "source": [
    "df[df[\"country\"] == \"england\"]"
   ],
   "metadata": {
    "collapsed": false,
    "ExecuteTime": {
     "end_time": "2024-01-07T19:11:36.151265800Z",
     "start_time": "2024-01-07T19:11:36.025861400Z"
    }
   },
   "id": "1a241c05253f729f"
  },
  {
   "cell_type": "code",
   "execution_count": 78,
   "outputs": [],
   "source": [
    "dfs = {}\n",
    "land_list = df[\"country\"].unique()[:-1]\n",
    "for country in land_list:\n",
    "    dfs[f\"df_{country}\"] = df[df[\"country\"] == country]\n",
    "    dfs[f\"df_{country}\"].dropna(axis=1, inplace=True, how=\"all\")"
   ],
   "metadata": {
    "collapsed": false,
    "ExecuteTime": {
     "end_time": "2024-01-07T19:11:36.570968700Z",
     "start_time": "2024-01-07T19:11:36.099836200Z"
    }
   },
   "id": "63787fad7908ab98"
  },
  {
   "cell_type": "code",
   "execution_count": 78,
   "outputs": [],
   "source": [
    "dfs[f\"df_{country}\"]"
   ],
   "metadata": {
    "collapsed": false,
    "ExecuteTime": {
     "end_time": "2024-01-07T19:11:36.586313600Z",
     "start_time": "2024-01-07T19:11:36.570968700Z"
    }
   },
   "id": "158b8bf399923e34"
  },
  {
   "cell_type": "markdown",
   "source": [
    "### Create dummies from teams"
   ],
   "metadata": {
    "collapsed": false
   },
   "id": "198eebfa6e9fe703"
  },
  {
   "cell_type": "code",
   "execution_count": 79,
   "outputs": [],
   "source": [
    "for country in dfs:\n",
    "    tmp = dfs[country][[\"HomeTeam\", \"AwayTeam\"]]\n",
    "    dfs[country] = pd.get_dummies(dfs[country], columns=[\"HomeTeam\", \"AwayTeam\", \"Div\"])\n",
    "    try:\n",
    "        dfs[country] = pd.get_dummies(dfs[country], columns=[\"Referee\"])\n",
    "    except KeyError:\n",
    "        pass\n",
    "    dfs[country] = pd.concat([dfs[country], tmp], axis=1)"
   ],
   "metadata": {
    "collapsed": false,
    "ExecuteTime": {
     "end_time": "2024-01-07T19:11:37.574872700Z",
     "start_time": "2024-01-07T19:11:36.588315300Z"
    }
   },
   "id": "f3997eb730fce392"
  },
  {
   "cell_type": "markdown",
   "source": [
    "# Feature Average amount of goals scored/received in the earlier matches\n",
    "\n",
    "HomeTeamAvgScored, AwayTeamAvgScored, HomeTeamAvgReceived, AwayTeamAvgReceived\n",
    "\n",
    "\n"
   ],
   "metadata": {
    "collapsed": false
   },
   "id": "9d636c3c0b0d75b2"
  },
  {
   "cell_type": "code",
   "execution_count": 85,
   "outputs": [],
   "source": [
    "# ty prumery mozna nesedi (koukala jsem na sezonu 22, ale mozna jsem koukala spatne) - PLS CHECK\n",
    "def get_avg_team(df):\n",
    "    lastmatch_home = pd.Series()\n",
    "    df_sub =  df[df[\"season\"] != 22]\n",
    "    lastmatch_home[\"HomeTeamAvgScored\"] = df_sub[\"HomeTeamAvgScored\"].dropna().mean()\n",
    "    lastmatch_home[\"AwayTeamAvgScored\"] = df_sub[\"AwayTeamAvgScored\"].dropna().mean()\n",
    "    lastmatch_home[\"HomeTeamAvgReceived\"] = df_sub[\"HomeTeamAvgReceived\"].dropna().mean()\n",
    "    lastmatch_home[\"AwayTeamAvgReceived\"] = df_sub[\"AwayTeamAvgReceived\"].dropna().mean()\n",
    "    lastmatch_home[\"HomeTeamAvgShotsOnTarget\"] = df_sub[\"HomeTeamAvgShotsOnTarget\"].dropna().mean()\n",
    "    lastmatch_home[\"AwayTeamAvgShotsOnTarget\"] = df_sub[\"AwayTeamAvgShotsOnTarget\"].dropna().mean()\n",
    "    lastmatch_home[\"HomeWinRatio\"] = df_sub[\"HomeWinRatio\"].dropna().mean()\n",
    "    lastmatch_home[\"HomeLossRatio\"] = df_sub[\"HomeLossRatio\"].dropna().mean()\n",
    "    lastmatch_home[\"HomeDrawRatio\"] = df_sub[\"HomeDrawRatio\"].dropna().mean()\n",
    "    lastmatch_home[\"AwayWinRatio\"] = df_sub[\"HomeWinRatio\"].dropna().mean()\n",
    "    lastmatch_home[\"AwayLossRatio\"] = df_sub[\"HomeLossRatio\"].dropna().mean()\n",
    "    lastmatch_home[\"AwayDrawRatio\"] = df_sub[\"HomeDrawRatio\"].dropna().mean()\n",
    "    return lastmatch_home\n",
    "\n",
    "def get_goals_stats(df):\n",
    "    # df.sort_values(by=\"Date\", inplace=True)\n",
    "    df[\"HomeTeamAvgScored\"] = 0\n",
    "    df[\"AwayTeamAvgScored\"] = 0\n",
    "    df[\"HomeTeamAvgReceived\"] = 0\n",
    "    df[\"AwayTeamAvgReceived\"] = 0\n",
    "    \n",
    "    df[\"HomeWinRatio\"] = 0\n",
    "    df[\"HomeLossRatio\"] = 0\n",
    "    df[\"HomeDrawRatio\"] = 0\n",
    "    \n",
    "    df[\"AwayWinRatio\"] = 0\n",
    "    df[\"AwayLossRatio\"] = 0\n",
    "    df[\"AwayDrawRatio\"] = 0\n",
    "  \n",
    "    df[\"HomeTeamAvgShotsOnTarget\"] = 0\n",
    "    df[\"AwayTeamAvgShotsOnTarget\"] = 0\n",
    "   \n",
    "    home_wins = 0\n",
    "    home_losses = 0\n",
    "    home_draws = 0\n",
    "\n",
    "    away_wins = 0\n",
    "    away_losses = 0\n",
    "    away_draws = 0\n",
    "    \n",
    "    team_list = set.union(set(df[\"HomeTeam\"]), set(df[\"AwayTeam\"]))\n",
    "    team_list_received = [f\"{team}_received\" for team in team_list]\n",
    "    team_list_res = [f\"{team}_res\" for team in team_list]\n",
    "    team_list_shots = [f\"{team}_shots\" for team in team_list]\n",
    "\n",
    "    df = df.reindex(df.columns.tolist() + list(team_list) + list(team_list_received) + list(team_list_res) + list(team_list_shots),axis=1)\n",
    "    \n",
    "    nancount = 0\n",
    "    \n",
    "    df.reset_index(inplace=True)\n",
    "    for i, row in df.iterrows():\n",
    "        if i % 1000 == 0:\n",
    "            print(i)\n",
    "            \n",
    "        home = row[\"HomeTeam\"]\n",
    "        away = row[\"AwayTeam\"]\n",
    "\n",
    "        filtered_df = df[(df[\"MatchTeams\"] == row[\"MatchTeams\"]) & (df[\"season\"] != 22)]\n",
    "        if not filtered_df.empty and (np.isnan(row[\"LastMatchAwayGoals\"]) or np.isnan(row[\"LastMatchHomeGoals\"])):\n",
    "            last_match_away_goals = filtered_df[\"LastMatchAwayGoals\"].iloc[-1]\n",
    "            last_match_home_goals = filtered_df[\"LastMatchHomeGoals\"].iloc[-1]\n",
    "\n",
    "            df.loc[i, \"LastMatchAwayGoals\"] = last_match_away_goals if row[\"SameHomeTeam\"] else last_match_home_goals\n",
    "            df.loc[i, \"LastMatchHomeGoals\"] = last_match_home_goals if row[\"SameHomeTeam\"] else last_match_away_goals\n",
    "\n",
    "        elif filtered_df.empty:\n",
    "            nancount += 1\n",
    "\n",
    "        ### Pokud testing data -> musime dat posledni dostupna data\n",
    "        if row[\"season\"] == 22:\n",
    "            lastmatch = df[df[\"season\"] != 22] \n",
    "            try:\n",
    "                lastmatch_home = lastmatch[((df[\"HomeTeam\"] == home) | (lastmatch[\"AwayTeam\"] == home))].iloc[-1]\n",
    "                hometeam = \"Home\" if lastmatch_home[\"HomeTeam\"] == home else \"Away\"\n",
    "                \n",
    "            except IndexError:\n",
    "                lastmatch_home = get_avg_team(df)\n",
    "                hometeam = \"Home\"\n",
    "                \n",
    "            try:\n",
    "                lastmatch_away = lastmatch[((df[\"HomeTeam\"] == away) | (lastmatch[\"AwayTeam\"] == away))].iloc[-1]\n",
    "                awayteam = \"Away\" if lastmatch_away[\"AwayTeam\"] == away else \"Home\"\n",
    "                \n",
    "            except IndexError:\n",
    "                lastmatch_away = get_avg_team(df)\n",
    "                awayteam = \"Away\"            \n",
    "            \n",
    "            \n",
    "        \n",
    "            df.loc[i, \"HomeTeamAvgScored\"] = lastmatch_home[f\"{hometeam}TeamAvgScored\"]\n",
    "            df.loc[i, \"AwayTeamAvgScored\"] = lastmatch_away[f\"{awayteam}TeamAvgScored\"]\n",
    "            df.loc[i, \"HomeTeamAvgReceived\"] = lastmatch_home[f\"{hometeam}TeamAvgReceived\"]\n",
    "            df.loc[i, \"AwayTeamAvgReceived\"] = lastmatch_away[f\"{awayteam}TeamAvgReceived\"]\n",
    "\n",
    "            df.loc[i, \"HomeTeamAvgShotsOnTarget\"] = lastmatch_home[f\"{hometeam}TeamAvgShotsOnTarget\"]\n",
    "            df.loc[i, \"AwayTeamAvgShotsOnTarget\"] = lastmatch_away[f\"{awayteam}TeamAvgShotsOnTarget\"]\n",
    "\n",
    "\n",
    "            df.loc[i,\"HomeWinRatio\"] = lastmatch_home[f\"{hometeam}WinRatio\"]\n",
    "            df.loc[i,\"HomeLossRatio\"] = lastmatch_home[f\"{hometeam}LossRatio\"]\n",
    "            df.loc[i,\"HomeDrawRatio\"] = lastmatch_home[f\"{hometeam}DrawRatio\"]\n",
    "\n",
    "            df.loc[i,\"AwayWinRatio\"] = lastmatch_home[f\"{awayteam}WinRatio\"]\n",
    "            df.loc[i,\"AwayLossRatio\"] = lastmatch_home[f\"{awayteam}LossRatio\"]\n",
    "            df.loc[i,\"AwayDrawRatio\"] = lastmatch_home[f\"{awayteam}DrawRatio\"]\n",
    "\n",
    "            continue\n",
    "\n",
    "        df.loc[i, \"HomeTeamAvgScored\"] = df[home].dropna().mean()\n",
    "        df.loc[i, \"AwayTeamAvgScored\"] = df[away].dropna().mean()\n",
    "        df.loc[i, \"HomeTeamAvgReceived\"] = df[f\"{home}_received\"].dropna().mean()\n",
    "        df.loc[i, \"AwayTeamAvgReceived\"] = df[f\"{away}_received\"].dropna().mean()\n",
    "\n",
    "        df.loc[i, \"HomeTeamAvgShotsOnTarget\"] = df[f\"{home}_shots\"].dropna().mean()\n",
    "        df.loc[i, \"AwayTeamAvgShotsOnTarget\"] = df[f\"{away}_shots\"].dropna().mean()\n",
    "        \n",
    "        df.loc[i, home] = row[\"FTHG\"]\n",
    "        df.loc[i, f\"{home}_received\"] = row[\"FTAG\"]\n",
    "        df.loc[i, away] = row[\"FTAG\"]\n",
    "        df.loc[i, f\"{away}_received\"] = row[\"FTHG\"]\n",
    "        \n",
    "        df.loc[i, f\"{home}_shots\"] = row[\"HST\"]\n",
    "        df.loc[i, f\"{away}_shots\"] = row[\"AST\"]\n",
    "        \n",
    "        try:\n",
    "            home_wins = df[f\"{home}_res\"].value_counts()[\"W\"]\n",
    "            home_losses = df[f\"{home}_res\"].value_counts()[\"L\"]\n",
    "            home_draws = df[f\"{home}_res\"].value_counts()[\"D\"]\n",
    "    \n",
    "            away_wins = df[f\"{away}_res\"].value_counts()[\"W\"]\n",
    "            away_losses = df[f\"{away}_res\"].value_counts()[\"L\"]\n",
    "            away_draws = df[f\"{away}_res\"].value_counts()[\"D\"]\n",
    "        except KeyError:\n",
    "            pass\n",
    "        \n",
    "        try:\n",
    "            df.loc[i,\"HomeWinRatio\"] = home_wins / (home_wins + home_draws + home_losses)\n",
    "            df.loc[i,\"HomeLossRatio\"] = home_losses / (home_wins + home_draws + home_losses)\n",
    "            df.loc[i,\"HomeDrawRatio\"] = home_draws / (home_wins + home_draws + home_losses)\n",
    "        except ZeroDivisionError:\n",
    "            pass\n",
    "\n",
    "        try:\n",
    "            df.loc[i,\"AwayWinRatio\"] = away_wins / (away_wins + away_draws + away_losses)\n",
    "            df.loc[i,\"AwayLossRatio\"] = away_losses / (away_wins + away_draws + away_losses)\n",
    "            df.loc[i,\"AwayDrawRatio\"] = away_draws / (away_wins + away_draws + away_losses)\n",
    "        except ZeroDivisionError:\n",
    "            pass\n",
    "        \n",
    "        if row[\"FTR\"] == \"A\":\n",
    "            df.loc[i, f\"{home}_res\"] = \"L\"\n",
    "            df.loc[i, f\"{away}_res\"] = \"W\"\n",
    "        elif row[\"FTR\"] == \"H\":\n",
    "            df.loc[i, f\"{home}_res\"] = \"W\"\n",
    "            df.loc[i, f\"{away}_res\"] = \"L\"\n",
    "        else:\n",
    "            df.loc[i, f\"{home}_res\"] = \"D\"\n",
    "            df.loc[i, f\"{away}_res\"] = \"D\"\n",
    "\n",
    "    df[df[\"HomeTeamAvgScored\"].isna()][\"HomeTeamAvgScored\"] = 0\n",
    "    df[df[\"AwayTeamAvgScored\"].isna()][\"AwayTeamAvgScored\"] = 0\n",
    "    df[df[\"HomeTeamAvgReceived\"].isna()][\"HomeTeamAvgReceived\"] = 0\n",
    "    df[df[\"HomeTeamAvgReceived\"].isna()][\"HomeTeamAvgReceived\"] = 0\n",
    "    df.drop(team_list, inplace=True, axis=1)\n",
    "    df.drop(team_list_received, inplace=True, axis=1)\n",
    "    df.drop(team_list_res, inplace=True, axis=1)\n",
    "    df.drop(team_list_shots, inplace=True, axis=1)\n",
    "\n",
    "    df.drop([\"index\", \"HomeTeam\", \"AwayTeam\", \"LastMatchIndex\"], inplace=True, axis=1)\n",
    "    return df"
   ],
   "metadata": {
    "collapsed": false,
    "ExecuteTime": {
     "end_time": "2024-01-07T19:20:15.374061200Z",
     "start_time": "2024-01-07T19:20:15.342508100Z"
    }
   },
   "id": "fa73984d9142d137"
  },
  {
   "cell_type": "code",
   "execution_count": 86,
   "outputs": [
    {
     "name": "stdout",
     "output_type": "stream",
     "text": [
      "45000\n",
      "done df_england\n"
     ]
    },
    {
     "data": {
      "text/plain": "        Unnamed: 0       Date  FTHG  FTAG FTR  HTHG  HTAG HTR   GBH   GBD  \\\n47           122.0 2003-01-01   1.0   1.0   D   0.0   1.0   A  3.85  3.65   \n52           171.0 2003-01-01   2.0   3.0   A   1.0   0.0   H  3.60  3.50   \n53           137.0 2003-01-01   2.0   1.0   H   2.0   0.0   H  2.40  3.50   \n62            56.0 2003-01-01   2.0   0.0   H   0.0   0.0   D  1.65  3.65   \n67           126.0 2003-01-01   3.0   4.0   A   1.0   1.0   D  1.95  3.50   \n...            ...        ...   ...   ...  ..   ...   ...  ..   ...   ...   \n159882       175.0 2023-05-06   NaN   NaN   0   NaN   NaN   0   NaN   NaN   \n159883       176.0 2023-05-06   NaN   NaN   0   NaN   NaN   0   NaN   NaN   \n159884       177.0 2023-05-06   NaN   NaN   0   NaN   NaN   0   NaN   NaN   \n159885       178.0 2023-05-06   NaN   NaN   0   NaN   NaN   0   NaN   NaN   \n159886       179.0 2023-05-06   NaN   NaN   0   NaN   NaN   0   NaN   NaN   \n\n        ...  Referee_W Collum  Referee_W Crombie  Referee_W Young  \\\n47      ...             False              False            False   \n52      ...             False              False            False   \n53      ...             False              False            False   \n62      ...             False              False            False   \n67      ...             False              False            False   \n...     ...               ...                ...              ...   \n159882  ...             False              False            False   \n159883  ...             False              False            False   \n159884  ...             False              False            False   \n159885  ...             False              False            False   \n159886  ...             False              False            False   \n\n        Referee_W. Hornby  Referee_W. S. G. Young  Referee_Willie Young  \\\n47                  False                   False                 False   \n52                  False                   False                 False   \n53                  False                   False                 False   \n62                  False                   False                 False   \n67                  False                   False                 False   \n...                   ...                     ...                   ...   \n159882              False                   False                 False   \n159883              False                   False                 False   \n159884              False                   False                 False   \n159885              False                   False                 False   \n159886              False                   False                 False   \n\n        Referee_Young, W. S. G.  Referee_l Wilson        HomeTeam  \\\n47                        False             False     Cowdenbeath   \n52                        False             False        Arbroath   \n53                        False             False       Dumbarton   \n62                        False             False       East Fife   \n67                        False             False         Brechin   \n...                         ...               ...             ...   \n159882                    False             False      Albion Rvs   \n159883                    False             False  Bonnyrigg Rose   \n159884                    False             False       Dumbarton   \n159885                    False             False          Forfar   \n159886                    False             False   Stenhousemuir   \n\n              AwayTeam  \n47           Raith Rvs  \n52        St Johnstone  \n53         Airdrie Utd  \n62            Montrose  \n67              Forfar  \n...                ...  \n159882        Stirling  \n159883           Elgin  \n159884       Stranraer  \n159885       East Fife  \n159886  Annan Athletic  \n\n[16788 rows x 572 columns]",
      "text/html": "<div>\n<style scoped>\n    .dataframe tbody tr th:only-of-type {\n        vertical-align: middle;\n    }\n\n    .dataframe tbody tr th {\n        vertical-align: top;\n    }\n\n    .dataframe thead th {\n        text-align: right;\n    }\n</style>\n<table border=\"1\" class=\"dataframe\">\n  <thead>\n    <tr style=\"text-align: right;\">\n      <th></th>\n      <th>Unnamed: 0</th>\n      <th>Date</th>\n      <th>FTHG</th>\n      <th>FTAG</th>\n      <th>FTR</th>\n      <th>HTHG</th>\n      <th>HTAG</th>\n      <th>HTR</th>\n      <th>GBH</th>\n      <th>GBD</th>\n      <th>...</th>\n      <th>Referee_W Collum</th>\n      <th>Referee_W Crombie</th>\n      <th>Referee_W Young</th>\n      <th>Referee_W. Hornby</th>\n      <th>Referee_W. S. G. Young</th>\n      <th>Referee_Willie Young</th>\n      <th>Referee_Young, W. S. G.</th>\n      <th>Referee_l Wilson</th>\n      <th>HomeTeam</th>\n      <th>AwayTeam</th>\n    </tr>\n  </thead>\n  <tbody>\n    <tr>\n      <th>47</th>\n      <td>122.0</td>\n      <td>2003-01-01</td>\n      <td>1.0</td>\n      <td>1.0</td>\n      <td>D</td>\n      <td>0.0</td>\n      <td>1.0</td>\n      <td>A</td>\n      <td>3.85</td>\n      <td>3.65</td>\n      <td>...</td>\n      <td>False</td>\n      <td>False</td>\n      <td>False</td>\n      <td>False</td>\n      <td>False</td>\n      <td>False</td>\n      <td>False</td>\n      <td>False</td>\n      <td>Cowdenbeath</td>\n      <td>Raith Rvs</td>\n    </tr>\n    <tr>\n      <th>52</th>\n      <td>171.0</td>\n      <td>2003-01-01</td>\n      <td>2.0</td>\n      <td>3.0</td>\n      <td>A</td>\n      <td>1.0</td>\n      <td>0.0</td>\n      <td>H</td>\n      <td>3.60</td>\n      <td>3.50</td>\n      <td>...</td>\n      <td>False</td>\n      <td>False</td>\n      <td>False</td>\n      <td>False</td>\n      <td>False</td>\n      <td>False</td>\n      <td>False</td>\n      <td>False</td>\n      <td>Arbroath</td>\n      <td>St Johnstone</td>\n    </tr>\n    <tr>\n      <th>53</th>\n      <td>137.0</td>\n      <td>2003-01-01</td>\n      <td>2.0</td>\n      <td>1.0</td>\n      <td>H</td>\n      <td>2.0</td>\n      <td>0.0</td>\n      <td>H</td>\n      <td>2.40</td>\n      <td>3.50</td>\n      <td>...</td>\n      <td>False</td>\n      <td>False</td>\n      <td>False</td>\n      <td>False</td>\n      <td>False</td>\n      <td>False</td>\n      <td>False</td>\n      <td>False</td>\n      <td>Dumbarton</td>\n      <td>Airdrie Utd</td>\n    </tr>\n    <tr>\n      <th>62</th>\n      <td>56.0</td>\n      <td>2003-01-01</td>\n      <td>2.0</td>\n      <td>0.0</td>\n      <td>H</td>\n      <td>0.0</td>\n      <td>0.0</td>\n      <td>D</td>\n      <td>1.65</td>\n      <td>3.65</td>\n      <td>...</td>\n      <td>False</td>\n      <td>False</td>\n      <td>False</td>\n      <td>False</td>\n      <td>False</td>\n      <td>False</td>\n      <td>False</td>\n      <td>False</td>\n      <td>East Fife</td>\n      <td>Montrose</td>\n    </tr>\n    <tr>\n      <th>67</th>\n      <td>126.0</td>\n      <td>2003-01-01</td>\n      <td>3.0</td>\n      <td>4.0</td>\n      <td>A</td>\n      <td>1.0</td>\n      <td>1.0</td>\n      <td>D</td>\n      <td>1.95</td>\n      <td>3.50</td>\n      <td>...</td>\n      <td>False</td>\n      <td>False</td>\n      <td>False</td>\n      <td>False</td>\n      <td>False</td>\n      <td>False</td>\n      <td>False</td>\n      <td>False</td>\n      <td>Brechin</td>\n      <td>Forfar</td>\n    </tr>\n    <tr>\n      <th>...</th>\n      <td>...</td>\n      <td>...</td>\n      <td>...</td>\n      <td>...</td>\n      <td>...</td>\n      <td>...</td>\n      <td>...</td>\n      <td>...</td>\n      <td>...</td>\n      <td>...</td>\n      <td>...</td>\n      <td>...</td>\n      <td>...</td>\n      <td>...</td>\n      <td>...</td>\n      <td>...</td>\n      <td>...</td>\n      <td>...</td>\n      <td>...</td>\n      <td>...</td>\n      <td>...</td>\n    </tr>\n    <tr>\n      <th>159882</th>\n      <td>175.0</td>\n      <td>2023-05-06</td>\n      <td>NaN</td>\n      <td>NaN</td>\n      <td>0</td>\n      <td>NaN</td>\n      <td>NaN</td>\n      <td>0</td>\n      <td>NaN</td>\n      <td>NaN</td>\n      <td>...</td>\n      <td>False</td>\n      <td>False</td>\n      <td>False</td>\n      <td>False</td>\n      <td>False</td>\n      <td>False</td>\n      <td>False</td>\n      <td>False</td>\n      <td>Albion Rvs</td>\n      <td>Stirling</td>\n    </tr>\n    <tr>\n      <th>159883</th>\n      <td>176.0</td>\n      <td>2023-05-06</td>\n      <td>NaN</td>\n      <td>NaN</td>\n      <td>0</td>\n      <td>NaN</td>\n      <td>NaN</td>\n      <td>0</td>\n      <td>NaN</td>\n      <td>NaN</td>\n      <td>...</td>\n      <td>False</td>\n      <td>False</td>\n      <td>False</td>\n      <td>False</td>\n      <td>False</td>\n      <td>False</td>\n      <td>False</td>\n      <td>False</td>\n      <td>Bonnyrigg Rose</td>\n      <td>Elgin</td>\n    </tr>\n    <tr>\n      <th>159884</th>\n      <td>177.0</td>\n      <td>2023-05-06</td>\n      <td>NaN</td>\n      <td>NaN</td>\n      <td>0</td>\n      <td>NaN</td>\n      <td>NaN</td>\n      <td>0</td>\n      <td>NaN</td>\n      <td>NaN</td>\n      <td>...</td>\n      <td>False</td>\n      <td>False</td>\n      <td>False</td>\n      <td>False</td>\n      <td>False</td>\n      <td>False</td>\n      <td>False</td>\n      <td>False</td>\n      <td>Dumbarton</td>\n      <td>Stranraer</td>\n    </tr>\n    <tr>\n      <th>159885</th>\n      <td>178.0</td>\n      <td>2023-05-06</td>\n      <td>NaN</td>\n      <td>NaN</td>\n      <td>0</td>\n      <td>NaN</td>\n      <td>NaN</td>\n      <td>0</td>\n      <td>NaN</td>\n      <td>NaN</td>\n      <td>...</td>\n      <td>False</td>\n      <td>False</td>\n      <td>False</td>\n      <td>False</td>\n      <td>False</td>\n      <td>False</td>\n      <td>False</td>\n      <td>False</td>\n      <td>Forfar</td>\n      <td>East Fife</td>\n    </tr>\n    <tr>\n      <th>159886</th>\n      <td>179.0</td>\n      <td>2023-05-06</td>\n      <td>NaN</td>\n      <td>NaN</td>\n      <td>0</td>\n      <td>NaN</td>\n      <td>NaN</td>\n      <td>0</td>\n      <td>NaN</td>\n      <td>NaN</td>\n      <td>...</td>\n      <td>False</td>\n      <td>False</td>\n      <td>False</td>\n      <td>False</td>\n      <td>False</td>\n      <td>False</td>\n      <td>False</td>\n      <td>False</td>\n      <td>Stenhousemuir</td>\n      <td>Annan Athletic</td>\n    </tr>\n  </tbody>\n</table>\n<p>16788 rows × 572 columns</p>\n</div>"
     },
     "metadata": {},
     "output_type": "display_data"
    },
    {
     "name": "stdout",
     "output_type": "stream",
     "text": [
      "0\n",
      "1000\n",
      "2000\n",
      "3000\n",
      "4000\n",
      "5000\n",
      "6000\n",
      "7000\n",
      "8000\n",
      "9000\n",
      "10000\n",
      "11000\n",
      "12000\n",
      "13000\n",
      "14000\n",
      "15000\n",
      "16000\n",
      "done df_scotland\n"
     ]
    },
    {
     "data": {
      "text/plain": "        Unnamed: 0       Date  FTHG  FTAG FTR  HTHG  HTAG HTR   GBH   GBD  \\\n508          159.0 2001-02-01   1.0   3.0   A   1.0   2.0   A  4.10  3.40   \n512          263.0 2002-02-01   1.0   1.0   D   0.0   1.0   A  1.65  3.50   \n542          253.0 2003-02-01   1.0   1.0   D   1.0   1.0   D  2.00  3.30   \n575           60.0 2003-02-01   0.0   0.0   D   0.0   0.0   D  1.90  3.30   \n600          135.0 2004-02-01   1.0   1.0   D   1.0   1.0   D  3.50  3.25   \n...            ...        ...   ...   ...  ..   ...   ...  ..   ...   ...   \n158808       301.0 2023-05-28   NaN   NaN   0   NaN   NaN   0   NaN   NaN   \n158809       302.0 2023-05-28   NaN   NaN   0   NaN   NaN   0   NaN   NaN   \n158810       303.0 2023-05-28   NaN   NaN   0   NaN   NaN   0   NaN   NaN   \n158811       304.0 2023-05-28   NaN   NaN   0   NaN   NaN   0   NaN   NaN   \n158812       305.0 2023-05-28   NaN   NaN   0   NaN   NaN   0   NaN   NaN   \n\n        ...  AwayTeam_Utrecht  AwayTeam_VVV Venlo  AwayTeam_Vitesse  \\\n508     ...             False               False             False   \n512     ...             False               False             False   \n542     ...             False               False             False   \n575     ...             False               False             False   \n600     ...              True               False             False   \n...     ...               ...                 ...               ...   \n158808  ...             False               False             False   \n158809  ...             False               False             False   \n158810  ...             False               False             False   \n158811  ...             False               False             False   \n158812  ...             False               False             False   \n\n        AwayTeam_Volendam  AwayTeam_Waalwijk  AwayTeam_Willem II  \\\n508                 False              False               False   \n512                 False              False               False   \n542                 False              False               False   \n575                 False              False               False   \n600                 False              False               False   \n...                   ...                ...                 ...   \n158808              False              False               False   \n158809              False              False               False   \n158810              False              False               False   \n158811              False              False               False   \n158812              False              False               False   \n\n        AwayTeam_Zwolle  Div_N1    HomeTeam          AwayTeam  \n508               False    True  Graafschap              Ajax  \n512               False    True    Nijmegen            Sparta  \n542               False    True   NAC Breda        Heerenveen  \n575               False    True  AZ Alkmaar          Nijmegen  \n600               False    True      Zwolle           Utrecht  \n...                 ...     ...         ...               ...  \n158808            False    True   Groningen  Sparta Rotterdam  \n158809            False    True  Heerenveen   Go Ahead Eagles  \n158810            False    True      Twente              Ajax  \n158811            False    True     Utrecht          FC Emmen  \n158812            False    True    Volendam         Excelsior  \n\n[6791 rows x 245 columns]",
      "text/html": "<div>\n<style scoped>\n    .dataframe tbody tr th:only-of-type {\n        vertical-align: middle;\n    }\n\n    .dataframe tbody tr th {\n        vertical-align: top;\n    }\n\n    .dataframe thead th {\n        text-align: right;\n    }\n</style>\n<table border=\"1\" class=\"dataframe\">\n  <thead>\n    <tr style=\"text-align: right;\">\n      <th></th>\n      <th>Unnamed: 0</th>\n      <th>Date</th>\n      <th>FTHG</th>\n      <th>FTAG</th>\n      <th>FTR</th>\n      <th>HTHG</th>\n      <th>HTAG</th>\n      <th>HTR</th>\n      <th>GBH</th>\n      <th>GBD</th>\n      <th>...</th>\n      <th>AwayTeam_Utrecht</th>\n      <th>AwayTeam_VVV Venlo</th>\n      <th>AwayTeam_Vitesse</th>\n      <th>AwayTeam_Volendam</th>\n      <th>AwayTeam_Waalwijk</th>\n      <th>AwayTeam_Willem II</th>\n      <th>AwayTeam_Zwolle</th>\n      <th>Div_N1</th>\n      <th>HomeTeam</th>\n      <th>AwayTeam</th>\n    </tr>\n  </thead>\n  <tbody>\n    <tr>\n      <th>508</th>\n      <td>159.0</td>\n      <td>2001-02-01</td>\n      <td>1.0</td>\n      <td>3.0</td>\n      <td>A</td>\n      <td>1.0</td>\n      <td>2.0</td>\n      <td>A</td>\n      <td>4.10</td>\n      <td>3.40</td>\n      <td>...</td>\n      <td>False</td>\n      <td>False</td>\n      <td>False</td>\n      <td>False</td>\n      <td>False</td>\n      <td>False</td>\n      <td>False</td>\n      <td>True</td>\n      <td>Graafschap</td>\n      <td>Ajax</td>\n    </tr>\n    <tr>\n      <th>512</th>\n      <td>263.0</td>\n      <td>2002-02-01</td>\n      <td>1.0</td>\n      <td>1.0</td>\n      <td>D</td>\n      <td>0.0</td>\n      <td>1.0</td>\n      <td>A</td>\n      <td>1.65</td>\n      <td>3.50</td>\n      <td>...</td>\n      <td>False</td>\n      <td>False</td>\n      <td>False</td>\n      <td>False</td>\n      <td>False</td>\n      <td>False</td>\n      <td>False</td>\n      <td>True</td>\n      <td>Nijmegen</td>\n      <td>Sparta</td>\n    </tr>\n    <tr>\n      <th>542</th>\n      <td>253.0</td>\n      <td>2003-02-01</td>\n      <td>1.0</td>\n      <td>1.0</td>\n      <td>D</td>\n      <td>1.0</td>\n      <td>1.0</td>\n      <td>D</td>\n      <td>2.00</td>\n      <td>3.30</td>\n      <td>...</td>\n      <td>False</td>\n      <td>False</td>\n      <td>False</td>\n      <td>False</td>\n      <td>False</td>\n      <td>False</td>\n      <td>False</td>\n      <td>True</td>\n      <td>NAC Breda</td>\n      <td>Heerenveen</td>\n    </tr>\n    <tr>\n      <th>575</th>\n      <td>60.0</td>\n      <td>2003-02-01</td>\n      <td>0.0</td>\n      <td>0.0</td>\n      <td>D</td>\n      <td>0.0</td>\n      <td>0.0</td>\n      <td>D</td>\n      <td>1.90</td>\n      <td>3.30</td>\n      <td>...</td>\n      <td>False</td>\n      <td>False</td>\n      <td>False</td>\n      <td>False</td>\n      <td>False</td>\n      <td>False</td>\n      <td>False</td>\n      <td>True</td>\n      <td>AZ Alkmaar</td>\n      <td>Nijmegen</td>\n    </tr>\n    <tr>\n      <th>600</th>\n      <td>135.0</td>\n      <td>2004-02-01</td>\n      <td>1.0</td>\n      <td>1.0</td>\n      <td>D</td>\n      <td>1.0</td>\n      <td>1.0</td>\n      <td>D</td>\n      <td>3.50</td>\n      <td>3.25</td>\n      <td>...</td>\n      <td>True</td>\n      <td>False</td>\n      <td>False</td>\n      <td>False</td>\n      <td>False</td>\n      <td>False</td>\n      <td>False</td>\n      <td>True</td>\n      <td>Zwolle</td>\n      <td>Utrecht</td>\n    </tr>\n    <tr>\n      <th>...</th>\n      <td>...</td>\n      <td>...</td>\n      <td>...</td>\n      <td>...</td>\n      <td>...</td>\n      <td>...</td>\n      <td>...</td>\n      <td>...</td>\n      <td>...</td>\n      <td>...</td>\n      <td>...</td>\n      <td>...</td>\n      <td>...</td>\n      <td>...</td>\n      <td>...</td>\n      <td>...</td>\n      <td>...</td>\n      <td>...</td>\n      <td>...</td>\n      <td>...</td>\n      <td>...</td>\n    </tr>\n    <tr>\n      <th>158808</th>\n      <td>301.0</td>\n      <td>2023-05-28</td>\n      <td>NaN</td>\n      <td>NaN</td>\n      <td>0</td>\n      <td>NaN</td>\n      <td>NaN</td>\n      <td>0</td>\n      <td>NaN</td>\n      <td>NaN</td>\n      <td>...</td>\n      <td>False</td>\n      <td>False</td>\n      <td>False</td>\n      <td>False</td>\n      <td>False</td>\n      <td>False</td>\n      <td>False</td>\n      <td>True</td>\n      <td>Groningen</td>\n      <td>Sparta Rotterdam</td>\n    </tr>\n    <tr>\n      <th>158809</th>\n      <td>302.0</td>\n      <td>2023-05-28</td>\n      <td>NaN</td>\n      <td>NaN</td>\n      <td>0</td>\n      <td>NaN</td>\n      <td>NaN</td>\n      <td>0</td>\n      <td>NaN</td>\n      <td>NaN</td>\n      <td>...</td>\n      <td>False</td>\n      <td>False</td>\n      <td>False</td>\n      <td>False</td>\n      <td>False</td>\n      <td>False</td>\n      <td>False</td>\n      <td>True</td>\n      <td>Heerenveen</td>\n      <td>Go Ahead Eagles</td>\n    </tr>\n    <tr>\n      <th>158810</th>\n      <td>303.0</td>\n      <td>2023-05-28</td>\n      <td>NaN</td>\n      <td>NaN</td>\n      <td>0</td>\n      <td>NaN</td>\n      <td>NaN</td>\n      <td>0</td>\n      <td>NaN</td>\n      <td>NaN</td>\n      <td>...</td>\n      <td>False</td>\n      <td>False</td>\n      <td>False</td>\n      <td>False</td>\n      <td>False</td>\n      <td>False</td>\n      <td>False</td>\n      <td>True</td>\n      <td>Twente</td>\n      <td>Ajax</td>\n    </tr>\n    <tr>\n      <th>158811</th>\n      <td>304.0</td>\n      <td>2023-05-28</td>\n      <td>NaN</td>\n      <td>NaN</td>\n      <td>0</td>\n      <td>NaN</td>\n      <td>NaN</td>\n      <td>0</td>\n      <td>NaN</td>\n      <td>NaN</td>\n      <td>...</td>\n      <td>False</td>\n      <td>False</td>\n      <td>False</td>\n      <td>False</td>\n      <td>False</td>\n      <td>False</td>\n      <td>False</td>\n      <td>True</td>\n      <td>Utrecht</td>\n      <td>FC Emmen</td>\n    </tr>\n    <tr>\n      <th>158812</th>\n      <td>305.0</td>\n      <td>2023-05-28</td>\n      <td>NaN</td>\n      <td>NaN</td>\n      <td>0</td>\n      <td>NaN</td>\n      <td>NaN</td>\n      <td>0</td>\n      <td>NaN</td>\n      <td>NaN</td>\n      <td>...</td>\n      <td>False</td>\n      <td>False</td>\n      <td>False</td>\n      <td>False</td>\n      <td>False</td>\n      <td>False</td>\n      <td>False</td>\n      <td>True</td>\n      <td>Volendam</td>\n      <td>Excelsior</td>\n    </tr>\n  </tbody>\n</table>\n<p>6791 rows × 245 columns</p>\n</div>"
     },
     "metadata": {},
     "output_type": "display_data"
    },
    {
     "name": "stdout",
     "output_type": "stream",
     "text": [
      "0\n",
      "1000\n",
      "2000\n",
      "3000\n",
      "4000\n",
      "5000\n",
      "6000\n",
      "done df_netherlands\n"
     ]
    },
    {
     "data": {
      "text/plain": "        Unnamed: 0       Date  FTHG  FTAG FTR  HTHG  HTAG HTR   GBH   GBD  \\\n509           90.0 2002-02-01   0.0   1.0   A   0.0   1.0   A  1.82  3.30   \n511          143.0 2002-02-01   1.0   1.0   D   1.0   0.0   H  2.32  3.25   \n513          146.0 2002-02-01   0.0   1.0   A   0.0   0.0   D  2.65  3.15   \n518          137.0 2003-02-01   2.0   2.0   D   1.0   1.0   D  1.50  3.70   \n532          292.0 2003-02-01   0.0   0.0   D   0.0   0.0   D  4.60  3.35   \n...            ...        ...   ...   ...  ..   ...   ...  ..   ...   ...   \n157502       301.0 2023-05-28   NaN   NaN   0   NaN   NaN   0   NaN   NaN   \n157503       302.0 2023-05-28   NaN   NaN   0   NaN   NaN   0   NaN   NaN   \n157504       303.0 2023-05-28   NaN   NaN   0   NaN   NaN   0   NaN   NaN   \n157505       304.0 2023-05-28   NaN   NaN   0   NaN   NaN   0   NaN   NaN   \n157506       305.0 2023-05-28   NaN   NaN   0   NaN   NaN   0   NaN   NaN   \n\n        ...  Referee_Voss, K  Referee_Wack, F.-X.  Referee_Wagner, L  \\\n509     ...            False                 True              False   \n511     ...            False                False              False   \n513     ...            False                False              False   \n518     ...            False                False              False   \n532     ...            False                False              False   \n...     ...              ...                  ...                ...   \n157502  ...            False                False              False   \n157503  ...            False                False              False   \n157504  ...            False                False              False   \n157505  ...            False                False              False   \n157506  ...            False                False              False   \n\n        Referee_Weber, S  Referee_Weiner, M  Referee_Wezel, V  \\\n509                False              False             False   \n511                False              False             False   \n513                False              False             False   \n518                False              False             False   \n532                False              False             False   \n...                  ...                ...               ...   \n157502             False              False             False   \n157503             False              False             False   \n157504             False              False             False   \n157505             False              False             False   \n157506             False              False             False   \n\n        Referee_Wolfgang Stark  Referee_Wolfgang Stark      HomeTeam  \\\n509                      False                    False   Reutlingen   \n511                      False                    False  Saarbrucken   \n513                      False                    False  Schweinfurt   \n518                      False                    False   Schalke 04   \n532                      False                    False    Bielefeld   \n...                        ...                      ...          ...   \n157502                   False                    False    Magdeburg   \n157503                   False                    False    Paderborn   \n157504                   False                    False   Regensburg   \n157505                   False                    False   Sandhausen   \n157506                   False                    False     St Pauli   \n\n              AwayTeam  \n509           Duisburg  \n511          Karlsruhe  \n513      Ein Frankfurt  \n518     Kaiserslautern  \n532      Bayern Munich  \n...                ...  \n157502       Bielefeld  \n157503        Nurnberg  \n157504      Heidenheim  \n157505         Hamburg  \n157506       Karlsruhe  \n\n[13756 rows x 471 columns]",
      "text/html": "<div>\n<style scoped>\n    .dataframe tbody tr th:only-of-type {\n        vertical-align: middle;\n    }\n\n    .dataframe tbody tr th {\n        vertical-align: top;\n    }\n\n    .dataframe thead th {\n        text-align: right;\n    }\n</style>\n<table border=\"1\" class=\"dataframe\">\n  <thead>\n    <tr style=\"text-align: right;\">\n      <th></th>\n      <th>Unnamed: 0</th>\n      <th>Date</th>\n      <th>FTHG</th>\n      <th>FTAG</th>\n      <th>FTR</th>\n      <th>HTHG</th>\n      <th>HTAG</th>\n      <th>HTR</th>\n      <th>GBH</th>\n      <th>GBD</th>\n      <th>...</th>\n      <th>Referee_Voss, K</th>\n      <th>Referee_Wack, F.-X.</th>\n      <th>Referee_Wagner, L</th>\n      <th>Referee_Weber, S</th>\n      <th>Referee_Weiner, M</th>\n      <th>Referee_Wezel, V</th>\n      <th>Referee_Wolfgang Stark</th>\n      <th>Referee_Wolfgang Stark</th>\n      <th>HomeTeam</th>\n      <th>AwayTeam</th>\n    </tr>\n  </thead>\n  <tbody>\n    <tr>\n      <th>509</th>\n      <td>90.0</td>\n      <td>2002-02-01</td>\n      <td>0.0</td>\n      <td>1.0</td>\n      <td>A</td>\n      <td>0.0</td>\n      <td>1.0</td>\n      <td>A</td>\n      <td>1.82</td>\n      <td>3.30</td>\n      <td>...</td>\n      <td>False</td>\n      <td>True</td>\n      <td>False</td>\n      <td>False</td>\n      <td>False</td>\n      <td>False</td>\n      <td>False</td>\n      <td>False</td>\n      <td>Reutlingen</td>\n      <td>Duisburg</td>\n    </tr>\n    <tr>\n      <th>511</th>\n      <td>143.0</td>\n      <td>2002-02-01</td>\n      <td>1.0</td>\n      <td>1.0</td>\n      <td>D</td>\n      <td>1.0</td>\n      <td>0.0</td>\n      <td>H</td>\n      <td>2.32</td>\n      <td>3.25</td>\n      <td>...</td>\n      <td>False</td>\n      <td>False</td>\n      <td>False</td>\n      <td>False</td>\n      <td>False</td>\n      <td>False</td>\n      <td>False</td>\n      <td>False</td>\n      <td>Saarbrucken</td>\n      <td>Karlsruhe</td>\n    </tr>\n    <tr>\n      <th>513</th>\n      <td>146.0</td>\n      <td>2002-02-01</td>\n      <td>0.0</td>\n      <td>1.0</td>\n      <td>A</td>\n      <td>0.0</td>\n      <td>0.0</td>\n      <td>D</td>\n      <td>2.65</td>\n      <td>3.15</td>\n      <td>...</td>\n      <td>False</td>\n      <td>False</td>\n      <td>False</td>\n      <td>False</td>\n      <td>False</td>\n      <td>False</td>\n      <td>False</td>\n      <td>False</td>\n      <td>Schweinfurt</td>\n      <td>Ein Frankfurt</td>\n    </tr>\n    <tr>\n      <th>518</th>\n      <td>137.0</td>\n      <td>2003-02-01</td>\n      <td>2.0</td>\n      <td>2.0</td>\n      <td>D</td>\n      <td>1.0</td>\n      <td>1.0</td>\n      <td>D</td>\n      <td>1.50</td>\n      <td>3.70</td>\n      <td>...</td>\n      <td>False</td>\n      <td>False</td>\n      <td>False</td>\n      <td>False</td>\n      <td>False</td>\n      <td>False</td>\n      <td>False</td>\n      <td>False</td>\n      <td>Schalke 04</td>\n      <td>Kaiserslautern</td>\n    </tr>\n    <tr>\n      <th>532</th>\n      <td>292.0</td>\n      <td>2003-02-01</td>\n      <td>0.0</td>\n      <td>0.0</td>\n      <td>D</td>\n      <td>0.0</td>\n      <td>0.0</td>\n      <td>D</td>\n      <td>4.60</td>\n      <td>3.35</td>\n      <td>...</td>\n      <td>False</td>\n      <td>False</td>\n      <td>False</td>\n      <td>False</td>\n      <td>False</td>\n      <td>False</td>\n      <td>False</td>\n      <td>False</td>\n      <td>Bielefeld</td>\n      <td>Bayern Munich</td>\n    </tr>\n    <tr>\n      <th>...</th>\n      <td>...</td>\n      <td>...</td>\n      <td>...</td>\n      <td>...</td>\n      <td>...</td>\n      <td>...</td>\n      <td>...</td>\n      <td>...</td>\n      <td>...</td>\n      <td>...</td>\n      <td>...</td>\n      <td>...</td>\n      <td>...</td>\n      <td>...</td>\n      <td>...</td>\n      <td>...</td>\n      <td>...</td>\n      <td>...</td>\n      <td>...</td>\n      <td>...</td>\n      <td>...</td>\n    </tr>\n    <tr>\n      <th>157502</th>\n      <td>301.0</td>\n      <td>2023-05-28</td>\n      <td>NaN</td>\n      <td>NaN</td>\n      <td>0</td>\n      <td>NaN</td>\n      <td>NaN</td>\n      <td>0</td>\n      <td>NaN</td>\n      <td>NaN</td>\n      <td>...</td>\n      <td>False</td>\n      <td>False</td>\n      <td>False</td>\n      <td>False</td>\n      <td>False</td>\n      <td>False</td>\n      <td>False</td>\n      <td>False</td>\n      <td>Magdeburg</td>\n      <td>Bielefeld</td>\n    </tr>\n    <tr>\n      <th>157503</th>\n      <td>302.0</td>\n      <td>2023-05-28</td>\n      <td>NaN</td>\n      <td>NaN</td>\n      <td>0</td>\n      <td>NaN</td>\n      <td>NaN</td>\n      <td>0</td>\n      <td>NaN</td>\n      <td>NaN</td>\n      <td>...</td>\n      <td>False</td>\n      <td>False</td>\n      <td>False</td>\n      <td>False</td>\n      <td>False</td>\n      <td>False</td>\n      <td>False</td>\n      <td>False</td>\n      <td>Paderborn</td>\n      <td>Nurnberg</td>\n    </tr>\n    <tr>\n      <th>157504</th>\n      <td>303.0</td>\n      <td>2023-05-28</td>\n      <td>NaN</td>\n      <td>NaN</td>\n      <td>0</td>\n      <td>NaN</td>\n      <td>NaN</td>\n      <td>0</td>\n      <td>NaN</td>\n      <td>NaN</td>\n      <td>...</td>\n      <td>False</td>\n      <td>False</td>\n      <td>False</td>\n      <td>False</td>\n      <td>False</td>\n      <td>False</td>\n      <td>False</td>\n      <td>False</td>\n      <td>Regensburg</td>\n      <td>Heidenheim</td>\n    </tr>\n    <tr>\n      <th>157505</th>\n      <td>304.0</td>\n      <td>2023-05-28</td>\n      <td>NaN</td>\n      <td>NaN</td>\n      <td>0</td>\n      <td>NaN</td>\n      <td>NaN</td>\n      <td>0</td>\n      <td>NaN</td>\n      <td>NaN</td>\n      <td>...</td>\n      <td>False</td>\n      <td>False</td>\n      <td>False</td>\n      <td>False</td>\n      <td>False</td>\n      <td>False</td>\n      <td>False</td>\n      <td>False</td>\n      <td>Sandhausen</td>\n      <td>Hamburg</td>\n    </tr>\n    <tr>\n      <th>157506</th>\n      <td>305.0</td>\n      <td>2023-05-28</td>\n      <td>NaN</td>\n      <td>NaN</td>\n      <td>0</td>\n      <td>NaN</td>\n      <td>NaN</td>\n      <td>0</td>\n      <td>NaN</td>\n      <td>NaN</td>\n      <td>...</td>\n      <td>False</td>\n      <td>False</td>\n      <td>False</td>\n      <td>False</td>\n      <td>False</td>\n      <td>False</td>\n      <td>False</td>\n      <td>False</td>\n      <td>St Pauli</td>\n      <td>Karlsruhe</td>\n    </tr>\n  </tbody>\n</table>\n<p>13756 rows × 471 columns</p>\n</div>"
     },
     "metadata": {},
     "output_type": "display_data"
    },
    {
     "name": "stdout",
     "output_type": "stream",
     "text": [
      "0\n",
      "1000\n",
      "2000\n",
      "3000\n",
      "4000\n",
      "5000\n",
      "6000\n",
      "7000\n",
      "8000\n",
      "9000\n",
      "10000\n",
      "11000\n",
      "12000\n",
      "13000\n",
      "done df_germany\n"
     ]
    },
    {
     "data": {
      "text/plain": "        Unnamed: 0       Date  FTHG  FTAG FTR  HTHG  HTAG HTR   GBH   GBD  \\\n510          101.0 2002-02-01   3.0   0.0   H   3.0   0.0   H  1.30  4.35   \n596          212.0 2004-02-01   3.0   4.0   A   1.0   1.0   D  1.75  3.30   \n602          168.0 2004-02-01   3.0   2.0   H   1.0   1.0   D  1.85  3.20   \n603          170.0 2004-02-01   1.0   1.0   D   0.0   1.0   A  2.60  3.20   \n607          257.0 2004-02-01   0.0   1.0   A   0.0   0.0   D  3.90  3.40   \n...            ...        ...   ...   ...  ..   ...   ...  ..   ...   ...   \n161066       337.0 2023-06-07   NaN   NaN   0   NaN   NaN   0   NaN   NaN   \n161067       338.0 2023-06-07   NaN   NaN   0   NaN   NaN   0   NaN   NaN   \n161068       339.0 2023-06-07   NaN   NaN   0   NaN   NaN   0   NaN   NaN   \n161069       340.0 2023-06-07   NaN   NaN   0   NaN   NaN   0   NaN   NaN   \n161070       341.0 2023-06-07   NaN   NaN   0   NaN   NaN   0   NaN   NaN   \n\n        ...  AwayTeam_Samsunspor  AwayTeam_Siirt Jet-PA  AwayTeam_Sivasspor  \\\n510     ...                False                  False               False   \n596     ...                False                  False               False   \n602     ...                False                  False               False   \n603     ...                False                  False               False   \n607     ...                False                  False               False   \n...     ...                  ...                    ...                 ...   \n161066  ...                False                  False               False   \n161067  ...                False                  False               False   \n161068  ...                False                  False               False   \n161069  ...                False                  False               False   \n161070  ...                False                  False               False   \n\n        AwayTeam_Trabzonspor  AwayTeam_Umraniyespor  \\\n510                    False                  False   \n596                    False                  False   \n602                    False                  False   \n603                    False                  False   \n607                    False                  False   \n...                      ...                    ...   \n161066                 False                  False   \n161067                 False                  False   \n161068                 False                  False   \n161069                 False                  False   \n161070                 False                   True   \n\n        AwayTeam_Yeni Malatyaspor  AwayTeam_Yozgatspor  Div_T1  \\\n510                         False                False    True   \n596                         False                False    True   \n602                         False                False    True   \n603                         False                False    True   \n607                         False                False    True   \n...                           ...                  ...     ...   \n161066                      False                False    True   \n161067                      False                False    True   \n161068                      False                False    True   \n161069                      False                False    True   \n161070                      False                False    True   \n\n              HomeTeam        AwayTeam  \n510         Fenerbahce     Kocaelispor  \n596     Genclerbirligi  Diyarbakirspor  \n602         Samsunspor      Ankaragucu  \n603          Adanaspor    Istanbulspor  \n607          Bursaspor        Besiktas  \n...                ...             ...  \n161066        Besiktas       Konyaspor  \n161067      Fenerbahce       Gaziantep  \n161068     Giresunspor     Antalyaspor  \n161069       Hatayspor     Galatasaray  \n161070    Istanbulspor    Umraniyespor  \n\n[7015 rows x 271 columns]",
      "text/html": "<div>\n<style scoped>\n    .dataframe tbody tr th:only-of-type {\n        vertical-align: middle;\n    }\n\n    .dataframe tbody tr th {\n        vertical-align: top;\n    }\n\n    .dataframe thead th {\n        text-align: right;\n    }\n</style>\n<table border=\"1\" class=\"dataframe\">\n  <thead>\n    <tr style=\"text-align: right;\">\n      <th></th>\n      <th>Unnamed: 0</th>\n      <th>Date</th>\n      <th>FTHG</th>\n      <th>FTAG</th>\n      <th>FTR</th>\n      <th>HTHG</th>\n      <th>HTAG</th>\n      <th>HTR</th>\n      <th>GBH</th>\n      <th>GBD</th>\n      <th>...</th>\n      <th>AwayTeam_Samsunspor</th>\n      <th>AwayTeam_Siirt Jet-PA</th>\n      <th>AwayTeam_Sivasspor</th>\n      <th>AwayTeam_Trabzonspor</th>\n      <th>AwayTeam_Umraniyespor</th>\n      <th>AwayTeam_Yeni Malatyaspor</th>\n      <th>AwayTeam_Yozgatspor</th>\n      <th>Div_T1</th>\n      <th>HomeTeam</th>\n      <th>AwayTeam</th>\n    </tr>\n  </thead>\n  <tbody>\n    <tr>\n      <th>510</th>\n      <td>101.0</td>\n      <td>2002-02-01</td>\n      <td>3.0</td>\n      <td>0.0</td>\n      <td>H</td>\n      <td>3.0</td>\n      <td>0.0</td>\n      <td>H</td>\n      <td>1.30</td>\n      <td>4.35</td>\n      <td>...</td>\n      <td>False</td>\n      <td>False</td>\n      <td>False</td>\n      <td>False</td>\n      <td>False</td>\n      <td>False</td>\n      <td>False</td>\n      <td>True</td>\n      <td>Fenerbahce</td>\n      <td>Kocaelispor</td>\n    </tr>\n    <tr>\n      <th>596</th>\n      <td>212.0</td>\n      <td>2004-02-01</td>\n      <td>3.0</td>\n      <td>4.0</td>\n      <td>A</td>\n      <td>1.0</td>\n      <td>1.0</td>\n      <td>D</td>\n      <td>1.75</td>\n      <td>3.30</td>\n      <td>...</td>\n      <td>False</td>\n      <td>False</td>\n      <td>False</td>\n      <td>False</td>\n      <td>False</td>\n      <td>False</td>\n      <td>False</td>\n      <td>True</td>\n      <td>Genclerbirligi</td>\n      <td>Diyarbakirspor</td>\n    </tr>\n    <tr>\n      <th>602</th>\n      <td>168.0</td>\n      <td>2004-02-01</td>\n      <td>3.0</td>\n      <td>2.0</td>\n      <td>H</td>\n      <td>1.0</td>\n      <td>1.0</td>\n      <td>D</td>\n      <td>1.85</td>\n      <td>3.20</td>\n      <td>...</td>\n      <td>False</td>\n      <td>False</td>\n      <td>False</td>\n      <td>False</td>\n      <td>False</td>\n      <td>False</td>\n      <td>False</td>\n      <td>True</td>\n      <td>Samsunspor</td>\n      <td>Ankaragucu</td>\n    </tr>\n    <tr>\n      <th>603</th>\n      <td>170.0</td>\n      <td>2004-02-01</td>\n      <td>1.0</td>\n      <td>1.0</td>\n      <td>D</td>\n      <td>0.0</td>\n      <td>1.0</td>\n      <td>A</td>\n      <td>2.60</td>\n      <td>3.20</td>\n      <td>...</td>\n      <td>False</td>\n      <td>False</td>\n      <td>False</td>\n      <td>False</td>\n      <td>False</td>\n      <td>False</td>\n      <td>False</td>\n      <td>True</td>\n      <td>Adanaspor</td>\n      <td>Istanbulspor</td>\n    </tr>\n    <tr>\n      <th>607</th>\n      <td>257.0</td>\n      <td>2004-02-01</td>\n      <td>0.0</td>\n      <td>1.0</td>\n      <td>A</td>\n      <td>0.0</td>\n      <td>0.0</td>\n      <td>D</td>\n      <td>3.90</td>\n      <td>3.40</td>\n      <td>...</td>\n      <td>False</td>\n      <td>False</td>\n      <td>False</td>\n      <td>False</td>\n      <td>False</td>\n      <td>False</td>\n      <td>False</td>\n      <td>True</td>\n      <td>Bursaspor</td>\n      <td>Besiktas</td>\n    </tr>\n    <tr>\n      <th>...</th>\n      <td>...</td>\n      <td>...</td>\n      <td>...</td>\n      <td>...</td>\n      <td>...</td>\n      <td>...</td>\n      <td>...</td>\n      <td>...</td>\n      <td>...</td>\n      <td>...</td>\n      <td>...</td>\n      <td>...</td>\n      <td>...</td>\n      <td>...</td>\n      <td>...</td>\n      <td>...</td>\n      <td>...</td>\n      <td>...</td>\n      <td>...</td>\n      <td>...</td>\n      <td>...</td>\n    </tr>\n    <tr>\n      <th>161066</th>\n      <td>337.0</td>\n      <td>2023-06-07</td>\n      <td>NaN</td>\n      <td>NaN</td>\n      <td>0</td>\n      <td>NaN</td>\n      <td>NaN</td>\n      <td>0</td>\n      <td>NaN</td>\n      <td>NaN</td>\n      <td>...</td>\n      <td>False</td>\n      <td>False</td>\n      <td>False</td>\n      <td>False</td>\n      <td>False</td>\n      <td>False</td>\n      <td>False</td>\n      <td>True</td>\n      <td>Besiktas</td>\n      <td>Konyaspor</td>\n    </tr>\n    <tr>\n      <th>161067</th>\n      <td>338.0</td>\n      <td>2023-06-07</td>\n      <td>NaN</td>\n      <td>NaN</td>\n      <td>0</td>\n      <td>NaN</td>\n      <td>NaN</td>\n      <td>0</td>\n      <td>NaN</td>\n      <td>NaN</td>\n      <td>...</td>\n      <td>False</td>\n      <td>False</td>\n      <td>False</td>\n      <td>False</td>\n      <td>False</td>\n      <td>False</td>\n      <td>False</td>\n      <td>True</td>\n      <td>Fenerbahce</td>\n      <td>Gaziantep</td>\n    </tr>\n    <tr>\n      <th>161068</th>\n      <td>339.0</td>\n      <td>2023-06-07</td>\n      <td>NaN</td>\n      <td>NaN</td>\n      <td>0</td>\n      <td>NaN</td>\n      <td>NaN</td>\n      <td>0</td>\n      <td>NaN</td>\n      <td>NaN</td>\n      <td>...</td>\n      <td>False</td>\n      <td>False</td>\n      <td>False</td>\n      <td>False</td>\n      <td>False</td>\n      <td>False</td>\n      <td>False</td>\n      <td>True</td>\n      <td>Giresunspor</td>\n      <td>Antalyaspor</td>\n    </tr>\n    <tr>\n      <th>161069</th>\n      <td>340.0</td>\n      <td>2023-06-07</td>\n      <td>NaN</td>\n      <td>NaN</td>\n      <td>0</td>\n      <td>NaN</td>\n      <td>NaN</td>\n      <td>0</td>\n      <td>NaN</td>\n      <td>NaN</td>\n      <td>...</td>\n      <td>False</td>\n      <td>False</td>\n      <td>False</td>\n      <td>False</td>\n      <td>False</td>\n      <td>False</td>\n      <td>False</td>\n      <td>True</td>\n      <td>Hatayspor</td>\n      <td>Galatasaray</td>\n    </tr>\n    <tr>\n      <th>161070</th>\n      <td>341.0</td>\n      <td>2023-06-07</td>\n      <td>NaN</td>\n      <td>NaN</td>\n      <td>0</td>\n      <td>NaN</td>\n      <td>NaN</td>\n      <td>0</td>\n      <td>NaN</td>\n      <td>NaN</td>\n      <td>...</td>\n      <td>False</td>\n      <td>False</td>\n      <td>False</td>\n      <td>False</td>\n      <td>True</td>\n      <td>False</td>\n      <td>False</td>\n      <td>True</td>\n      <td>Istanbulspor</td>\n      <td>Umraniyespor</td>\n    </tr>\n  </tbody>\n</table>\n<p>7015 rows × 271 columns</p>\n</div>"
     },
     "metadata": {},
     "output_type": "display_data"
    },
    {
     "name": "stdout",
     "output_type": "stream",
     "text": [
      "0\n",
      "1000\n",
      "2000\n",
      "3000\n",
      "4000\n",
      "5000\n",
      "6000\n",
      "7000\n",
      "done df_turkey\n"
     ]
    },
    {
     "data": {
      "text/plain": "        Unnamed: 0       Date  FTHG  FTAG FTR  HTHG  HTAG HTR   GBH   GBD  \\\n514           80.0 2002-02-01   0.0   2.0   A   0.0   0.0   D  2.06  2.70   \n536           60.0 2003-02-01   1.0   4.0   A   1.0   2.0   A  2.30  2.95   \n550          146.0 2003-02-01   3.0   1.0   H   1.0   1.0   D  1.80  3.05   \n584          170.0 2004-02-01   0.0   2.0   A   0.0   1.0   A  2.60  3.00   \n590          168.0 2004-02-01   1.0   0.0   H   0.0   0.0   D  1.67  3.10   \n...            ...        ...   ...   ...  ..   ...   ...  ..   ...   ...   \n158502       375.0 2023-05-19   NaN   NaN   0   NaN   NaN   0   NaN   NaN   \n158503       376.0 2023-05-19   NaN   NaN   0   NaN   NaN   0   NaN   NaN   \n158504       377.0 2023-05-19   NaN   NaN   0   NaN   NaN   0   NaN   NaN   \n158505       378.0 2023-05-19   NaN   NaN   0   NaN   NaN   0   NaN   NaN   \n158506       379.0 2023-05-19   NaN   NaN   0   NaN   NaN   0   NaN   NaN   \n\n        ...  Referee_P. Rodomonti  Referee_P. Tagliavento  Referee_R. Herberg  \\\n514     ...                 False                   False               False   \n536     ...                 False                   False               False   \n550     ...                 False                   False               False   \n584     ...                 False                   False               False   \n590     ...                 False                   False               False   \n...     ...                   ...                     ...                 ...   \n158502  ...                 False                   False               False   \n158503  ...                 False                   False               False   \n158504  ...                 False                   False               False   \n158505  ...                 False                   False               False   \n158506  ...                 False                   False               False   \n\n        Referee_R. Rosetti  Referee_S. Cassara'  Referee_S. Farina  \\\n514                  False                False              False   \n536                  False                False              False   \n550                  False                False              False   \n584                  False                False              False   \n590                  False                False              False   \n...                    ...                  ...                ...   \n158502               False                False              False   \n158503               False                False              False   \n158504               False                False              False   \n158505               False                False              False   \n158506               False                False              False   \n\n        Referee_S. Racalbuto  Referee_T. Pieri   HomeTeam   AwayTeam  \n514                    False             False  Pistoiese    Palermo  \n536                    False             False   Piacenza    Brescia  \n550                    False             False       Roma    Bologna  \n584                    False             False     Ancona      Lecce  \n590                    False             False    Udinese     Modena  \n...                      ...               ...        ...        ...  \n158502                 False             False      Parma    Venezia  \n158503                 False             False    Perugia  Benevento  \n158504                 False             False       Pisa       Spal  \n158505                 False             False    Reggina     Ascoli  \n158506                 False             False    Ternana  Frosinone  \n\n[18002 rows x 382 columns]",
      "text/html": "<div>\n<style scoped>\n    .dataframe tbody tr th:only-of-type {\n        vertical-align: middle;\n    }\n\n    .dataframe tbody tr th {\n        vertical-align: top;\n    }\n\n    .dataframe thead th {\n        text-align: right;\n    }\n</style>\n<table border=\"1\" class=\"dataframe\">\n  <thead>\n    <tr style=\"text-align: right;\">\n      <th></th>\n      <th>Unnamed: 0</th>\n      <th>Date</th>\n      <th>FTHG</th>\n      <th>FTAG</th>\n      <th>FTR</th>\n      <th>HTHG</th>\n      <th>HTAG</th>\n      <th>HTR</th>\n      <th>GBH</th>\n      <th>GBD</th>\n      <th>...</th>\n      <th>Referee_P. Rodomonti</th>\n      <th>Referee_P. Tagliavento</th>\n      <th>Referee_R. Herberg</th>\n      <th>Referee_R. Rosetti</th>\n      <th>Referee_S. Cassara'</th>\n      <th>Referee_S. Farina</th>\n      <th>Referee_S. Racalbuto</th>\n      <th>Referee_T. Pieri</th>\n      <th>HomeTeam</th>\n      <th>AwayTeam</th>\n    </tr>\n  </thead>\n  <tbody>\n    <tr>\n      <th>514</th>\n      <td>80.0</td>\n      <td>2002-02-01</td>\n      <td>0.0</td>\n      <td>2.0</td>\n      <td>A</td>\n      <td>0.0</td>\n      <td>0.0</td>\n      <td>D</td>\n      <td>2.06</td>\n      <td>2.70</td>\n      <td>...</td>\n      <td>False</td>\n      <td>False</td>\n      <td>False</td>\n      <td>False</td>\n      <td>False</td>\n      <td>False</td>\n      <td>False</td>\n      <td>False</td>\n      <td>Pistoiese</td>\n      <td>Palermo</td>\n    </tr>\n    <tr>\n      <th>536</th>\n      <td>60.0</td>\n      <td>2003-02-01</td>\n      <td>1.0</td>\n      <td>4.0</td>\n      <td>A</td>\n      <td>1.0</td>\n      <td>2.0</td>\n      <td>A</td>\n      <td>2.30</td>\n      <td>2.95</td>\n      <td>...</td>\n      <td>False</td>\n      <td>False</td>\n      <td>False</td>\n      <td>False</td>\n      <td>False</td>\n      <td>False</td>\n      <td>False</td>\n      <td>False</td>\n      <td>Piacenza</td>\n      <td>Brescia</td>\n    </tr>\n    <tr>\n      <th>550</th>\n      <td>146.0</td>\n      <td>2003-02-01</td>\n      <td>3.0</td>\n      <td>1.0</td>\n      <td>H</td>\n      <td>1.0</td>\n      <td>1.0</td>\n      <td>D</td>\n      <td>1.80</td>\n      <td>3.05</td>\n      <td>...</td>\n      <td>False</td>\n      <td>False</td>\n      <td>False</td>\n      <td>False</td>\n      <td>False</td>\n      <td>False</td>\n      <td>False</td>\n      <td>False</td>\n      <td>Roma</td>\n      <td>Bologna</td>\n    </tr>\n    <tr>\n      <th>584</th>\n      <td>170.0</td>\n      <td>2004-02-01</td>\n      <td>0.0</td>\n      <td>2.0</td>\n      <td>A</td>\n      <td>0.0</td>\n      <td>1.0</td>\n      <td>A</td>\n      <td>2.60</td>\n      <td>3.00</td>\n      <td>...</td>\n      <td>False</td>\n      <td>False</td>\n      <td>False</td>\n      <td>False</td>\n      <td>False</td>\n      <td>False</td>\n      <td>False</td>\n      <td>False</td>\n      <td>Ancona</td>\n      <td>Lecce</td>\n    </tr>\n    <tr>\n      <th>590</th>\n      <td>168.0</td>\n      <td>2004-02-01</td>\n      <td>1.0</td>\n      <td>0.0</td>\n      <td>H</td>\n      <td>0.0</td>\n      <td>0.0</td>\n      <td>D</td>\n      <td>1.67</td>\n      <td>3.10</td>\n      <td>...</td>\n      <td>False</td>\n      <td>False</td>\n      <td>False</td>\n      <td>False</td>\n      <td>False</td>\n      <td>False</td>\n      <td>False</td>\n      <td>False</td>\n      <td>Udinese</td>\n      <td>Modena</td>\n    </tr>\n    <tr>\n      <th>...</th>\n      <td>...</td>\n      <td>...</td>\n      <td>...</td>\n      <td>...</td>\n      <td>...</td>\n      <td>...</td>\n      <td>...</td>\n      <td>...</td>\n      <td>...</td>\n      <td>...</td>\n      <td>...</td>\n      <td>...</td>\n      <td>...</td>\n      <td>...</td>\n      <td>...</td>\n      <td>...</td>\n      <td>...</td>\n      <td>...</td>\n      <td>...</td>\n      <td>...</td>\n      <td>...</td>\n    </tr>\n    <tr>\n      <th>158502</th>\n      <td>375.0</td>\n      <td>2023-05-19</td>\n      <td>NaN</td>\n      <td>NaN</td>\n      <td>0</td>\n      <td>NaN</td>\n      <td>NaN</td>\n      <td>0</td>\n      <td>NaN</td>\n      <td>NaN</td>\n      <td>...</td>\n      <td>False</td>\n      <td>False</td>\n      <td>False</td>\n      <td>False</td>\n      <td>False</td>\n      <td>False</td>\n      <td>False</td>\n      <td>False</td>\n      <td>Parma</td>\n      <td>Venezia</td>\n    </tr>\n    <tr>\n      <th>158503</th>\n      <td>376.0</td>\n      <td>2023-05-19</td>\n      <td>NaN</td>\n      <td>NaN</td>\n      <td>0</td>\n      <td>NaN</td>\n      <td>NaN</td>\n      <td>0</td>\n      <td>NaN</td>\n      <td>NaN</td>\n      <td>...</td>\n      <td>False</td>\n      <td>False</td>\n      <td>False</td>\n      <td>False</td>\n      <td>False</td>\n      <td>False</td>\n      <td>False</td>\n      <td>False</td>\n      <td>Perugia</td>\n      <td>Benevento</td>\n    </tr>\n    <tr>\n      <th>158504</th>\n      <td>377.0</td>\n      <td>2023-05-19</td>\n      <td>NaN</td>\n      <td>NaN</td>\n      <td>0</td>\n      <td>NaN</td>\n      <td>NaN</td>\n      <td>0</td>\n      <td>NaN</td>\n      <td>NaN</td>\n      <td>...</td>\n      <td>False</td>\n      <td>False</td>\n      <td>False</td>\n      <td>False</td>\n      <td>False</td>\n      <td>False</td>\n      <td>False</td>\n      <td>False</td>\n      <td>Pisa</td>\n      <td>Spal</td>\n    </tr>\n    <tr>\n      <th>158505</th>\n      <td>378.0</td>\n      <td>2023-05-19</td>\n      <td>NaN</td>\n      <td>NaN</td>\n      <td>0</td>\n      <td>NaN</td>\n      <td>NaN</td>\n      <td>0</td>\n      <td>NaN</td>\n      <td>NaN</td>\n      <td>...</td>\n      <td>False</td>\n      <td>False</td>\n      <td>False</td>\n      <td>False</td>\n      <td>False</td>\n      <td>False</td>\n      <td>False</td>\n      <td>False</td>\n      <td>Reggina</td>\n      <td>Ascoli</td>\n    </tr>\n    <tr>\n      <th>158506</th>\n      <td>379.0</td>\n      <td>2023-05-19</td>\n      <td>NaN</td>\n      <td>NaN</td>\n      <td>0</td>\n      <td>NaN</td>\n      <td>NaN</td>\n      <td>0</td>\n      <td>NaN</td>\n      <td>NaN</td>\n      <td>...</td>\n      <td>False</td>\n      <td>False</td>\n      <td>False</td>\n      <td>False</td>\n      <td>False</td>\n      <td>False</td>\n      <td>False</td>\n      <td>False</td>\n      <td>Ternana</td>\n      <td>Frosinone</td>\n    </tr>\n  </tbody>\n</table>\n<p>18002 rows × 382 columns</p>\n</div>"
     },
     "metadata": {},
     "output_type": "display_data"
    },
    {
     "name": "stdout",
     "output_type": "stream",
     "text": [
      "0\n",
      "1000\n",
      "2000\n",
      "3000\n",
      "4000\n",
      "5000\n",
      "6000\n",
      "7000\n",
      "8000\n",
      "9000\n",
      "10000\n",
      "11000\n",
      "12000\n",
      "13000\n",
      "14000\n",
      "15000\n",
      "16000\n",
      "17000\n",
      "18000\n",
      "done df_italy\n"
     ]
    },
    {
     "data": {
      "text/plain": "        Unnamed: 0       Date  FTHG  FTAG FTR  HTHG  HTAG HTR   GBH   GBD  \\\n515          157.0 2002-02-01   2.0   0.0   H   0.0   0.0   D  1.25  4.75   \n563          168.0 2003-02-01   4.0   1.0   H   2.0   1.0   H  1.60  3.35   \n615           55.0 2004-02-01   1.0   1.0   D   0.0   0.0   D  2.47  3.20   \n638          146.0 2004-02-01   0.0   1.0   A   0.0   1.0   A  2.50  3.15   \n640          272.0 2004-02-01   3.0   2.0   H   1.0   2.0   A  2.32  3.25   \n...            ...        ...   ...   ...  ..   ...   ...  ..   ...   ...   \n159114       301.0 2023-05-27   NaN   NaN   0   NaN   NaN   0   NaN   NaN   \n159115       302.0 2023-05-27   NaN   NaN   0   NaN   NaN   0   NaN   NaN   \n159116       303.0 2023-05-27   NaN   NaN   0   NaN   NaN   0   NaN   NaN   \n159117       304.0 2023-05-27   NaN   NaN   0   NaN   NaN   0   NaN   NaN   \n159118       305.0 2023-05-27   NaN   NaN   0   NaN   NaN   0   NaN   NaN   \n\n        ...  AwayTeam_Sp Braga  AwayTeam_Sp Lisbon  AwayTeam_Tondela  \\\n515     ...              False               False             False   \n563     ...              False               False             False   \n615     ...              False               False             False   \n638     ...              False               False             False   \n640     ...              False               False             False   \n...     ...                ...                 ...               ...   \n159114  ...              False               False             False   \n159115  ...              False               False             False   \n159116  ...              False               False             False   \n159117  ...              False               False             False   \n159118  ...              False               False             False   \n\n        AwayTeam_Trofense  AwayTeam_Uniao Madeira  AwayTeam_Varzim  \\\n515                 False                   False            False   \n563                 False                   False            False   \n615                 False                   False            False   \n638                 False                   False            False   \n640                 False                   False            False   \n...                   ...                     ...              ...   \n159114              False                   False            False   \n159115              False                   False            False   \n159116              False                   False            False   \n159117              False                   False            False   \n159118              False                   False            False   \n\n        AwayTeam_Vizela  Div_P1        HomeTeam        AwayTeam  \n515               False    True        Boavista         Alverca  \n563               False    True        Boavista       Academica  \n615               False    True       Guimaraes        Boavista  \n638               False    True     Est Amadora        Nacional  \n640               False    True  Pacos Ferreira     Gil Vicente  \n...                 ...     ...             ...             ...  \n159114            False    True         Estoril        Maritimo  \n159115            False    True         Benfica     Santa Clara  \n159116            False    True    Portimonense          Arouca  \n159117            False    True           Porto       Guimaraes  \n159118            False    True        Sp Braga  Pacos Ferreira  \n\n[6348 rows x 249 columns]",
      "text/html": "<div>\n<style scoped>\n    .dataframe tbody tr th:only-of-type {\n        vertical-align: middle;\n    }\n\n    .dataframe tbody tr th {\n        vertical-align: top;\n    }\n\n    .dataframe thead th {\n        text-align: right;\n    }\n</style>\n<table border=\"1\" class=\"dataframe\">\n  <thead>\n    <tr style=\"text-align: right;\">\n      <th></th>\n      <th>Unnamed: 0</th>\n      <th>Date</th>\n      <th>FTHG</th>\n      <th>FTAG</th>\n      <th>FTR</th>\n      <th>HTHG</th>\n      <th>HTAG</th>\n      <th>HTR</th>\n      <th>GBH</th>\n      <th>GBD</th>\n      <th>...</th>\n      <th>AwayTeam_Sp Braga</th>\n      <th>AwayTeam_Sp Lisbon</th>\n      <th>AwayTeam_Tondela</th>\n      <th>AwayTeam_Trofense</th>\n      <th>AwayTeam_Uniao Madeira</th>\n      <th>AwayTeam_Varzim</th>\n      <th>AwayTeam_Vizela</th>\n      <th>Div_P1</th>\n      <th>HomeTeam</th>\n      <th>AwayTeam</th>\n    </tr>\n  </thead>\n  <tbody>\n    <tr>\n      <th>515</th>\n      <td>157.0</td>\n      <td>2002-02-01</td>\n      <td>2.0</td>\n      <td>0.0</td>\n      <td>H</td>\n      <td>0.0</td>\n      <td>0.0</td>\n      <td>D</td>\n      <td>1.25</td>\n      <td>4.75</td>\n      <td>...</td>\n      <td>False</td>\n      <td>False</td>\n      <td>False</td>\n      <td>False</td>\n      <td>False</td>\n      <td>False</td>\n      <td>False</td>\n      <td>True</td>\n      <td>Boavista</td>\n      <td>Alverca</td>\n    </tr>\n    <tr>\n      <th>563</th>\n      <td>168.0</td>\n      <td>2003-02-01</td>\n      <td>4.0</td>\n      <td>1.0</td>\n      <td>H</td>\n      <td>2.0</td>\n      <td>1.0</td>\n      <td>H</td>\n      <td>1.60</td>\n      <td>3.35</td>\n      <td>...</td>\n      <td>False</td>\n      <td>False</td>\n      <td>False</td>\n      <td>False</td>\n      <td>False</td>\n      <td>False</td>\n      <td>False</td>\n      <td>True</td>\n      <td>Boavista</td>\n      <td>Academica</td>\n    </tr>\n    <tr>\n      <th>615</th>\n      <td>55.0</td>\n      <td>2004-02-01</td>\n      <td>1.0</td>\n      <td>1.0</td>\n      <td>D</td>\n      <td>0.0</td>\n      <td>0.0</td>\n      <td>D</td>\n      <td>2.47</td>\n      <td>3.20</td>\n      <td>...</td>\n      <td>False</td>\n      <td>False</td>\n      <td>False</td>\n      <td>False</td>\n      <td>False</td>\n      <td>False</td>\n      <td>False</td>\n      <td>True</td>\n      <td>Guimaraes</td>\n      <td>Boavista</td>\n    </tr>\n    <tr>\n      <th>638</th>\n      <td>146.0</td>\n      <td>2004-02-01</td>\n      <td>0.0</td>\n      <td>1.0</td>\n      <td>A</td>\n      <td>0.0</td>\n      <td>1.0</td>\n      <td>A</td>\n      <td>2.50</td>\n      <td>3.15</td>\n      <td>...</td>\n      <td>False</td>\n      <td>False</td>\n      <td>False</td>\n      <td>False</td>\n      <td>False</td>\n      <td>False</td>\n      <td>False</td>\n      <td>True</td>\n      <td>Est Amadora</td>\n      <td>Nacional</td>\n    </tr>\n    <tr>\n      <th>640</th>\n      <td>272.0</td>\n      <td>2004-02-01</td>\n      <td>3.0</td>\n      <td>2.0</td>\n      <td>H</td>\n      <td>1.0</td>\n      <td>2.0</td>\n      <td>A</td>\n      <td>2.32</td>\n      <td>3.25</td>\n      <td>...</td>\n      <td>False</td>\n      <td>False</td>\n      <td>False</td>\n      <td>False</td>\n      <td>False</td>\n      <td>False</td>\n      <td>False</td>\n      <td>True</td>\n      <td>Pacos Ferreira</td>\n      <td>Gil Vicente</td>\n    </tr>\n    <tr>\n      <th>...</th>\n      <td>...</td>\n      <td>...</td>\n      <td>...</td>\n      <td>...</td>\n      <td>...</td>\n      <td>...</td>\n      <td>...</td>\n      <td>...</td>\n      <td>...</td>\n      <td>...</td>\n      <td>...</td>\n      <td>...</td>\n      <td>...</td>\n      <td>...</td>\n      <td>...</td>\n      <td>...</td>\n      <td>...</td>\n      <td>...</td>\n      <td>...</td>\n      <td>...</td>\n      <td>...</td>\n    </tr>\n    <tr>\n      <th>159114</th>\n      <td>301.0</td>\n      <td>2023-05-27</td>\n      <td>NaN</td>\n      <td>NaN</td>\n      <td>0</td>\n      <td>NaN</td>\n      <td>NaN</td>\n      <td>0</td>\n      <td>NaN</td>\n      <td>NaN</td>\n      <td>...</td>\n      <td>False</td>\n      <td>False</td>\n      <td>False</td>\n      <td>False</td>\n      <td>False</td>\n      <td>False</td>\n      <td>False</td>\n      <td>True</td>\n      <td>Estoril</td>\n      <td>Maritimo</td>\n    </tr>\n    <tr>\n      <th>159115</th>\n      <td>302.0</td>\n      <td>2023-05-27</td>\n      <td>NaN</td>\n      <td>NaN</td>\n      <td>0</td>\n      <td>NaN</td>\n      <td>NaN</td>\n      <td>0</td>\n      <td>NaN</td>\n      <td>NaN</td>\n      <td>...</td>\n      <td>False</td>\n      <td>False</td>\n      <td>False</td>\n      <td>False</td>\n      <td>False</td>\n      <td>False</td>\n      <td>False</td>\n      <td>True</td>\n      <td>Benfica</td>\n      <td>Santa Clara</td>\n    </tr>\n    <tr>\n      <th>159116</th>\n      <td>303.0</td>\n      <td>2023-05-27</td>\n      <td>NaN</td>\n      <td>NaN</td>\n      <td>0</td>\n      <td>NaN</td>\n      <td>NaN</td>\n      <td>0</td>\n      <td>NaN</td>\n      <td>NaN</td>\n      <td>...</td>\n      <td>False</td>\n      <td>False</td>\n      <td>False</td>\n      <td>False</td>\n      <td>False</td>\n      <td>False</td>\n      <td>False</td>\n      <td>True</td>\n      <td>Portimonense</td>\n      <td>Arouca</td>\n    </tr>\n    <tr>\n      <th>159117</th>\n      <td>304.0</td>\n      <td>2023-05-27</td>\n      <td>NaN</td>\n      <td>NaN</td>\n      <td>0</td>\n      <td>NaN</td>\n      <td>NaN</td>\n      <td>0</td>\n      <td>NaN</td>\n      <td>NaN</td>\n      <td>...</td>\n      <td>False</td>\n      <td>False</td>\n      <td>False</td>\n      <td>False</td>\n      <td>False</td>\n      <td>False</td>\n      <td>False</td>\n      <td>True</td>\n      <td>Porto</td>\n      <td>Guimaraes</td>\n    </tr>\n    <tr>\n      <th>159118</th>\n      <td>305.0</td>\n      <td>2023-05-27</td>\n      <td>NaN</td>\n      <td>NaN</td>\n      <td>0</td>\n      <td>NaN</td>\n      <td>NaN</td>\n      <td>0</td>\n      <td>NaN</td>\n      <td>NaN</td>\n      <td>...</td>\n      <td>False</td>\n      <td>False</td>\n      <td>False</td>\n      <td>False</td>\n      <td>False</td>\n      <td>False</td>\n      <td>False</td>\n      <td>True</td>\n      <td>Sp Braga</td>\n      <td>Pacos Ferreira</td>\n    </tr>\n  </tbody>\n</table>\n<p>6348 rows × 249 columns</p>\n</div>"
     },
     "metadata": {},
     "output_type": "display_data"
    },
    {
     "name": "stdout",
     "output_type": "stream",
     "text": [
      "0\n",
      "1000\n",
      "2000\n",
      "3000\n",
      "4000\n",
      "5000\n",
      "6000\n",
      "done df_portugal\n"
     ]
    },
    {
     "data": {
      "text/plain": "        Unnamed: 0       Date  FTHG  FTAG FTR  HTHG  HTAG HTR   GBH   GBD  \\\n516          173.0 2003-02-01   1.0   0.0   H   0.0   0.0   D  1.30  4.30   \n527           33.0 2003-02-01   3.0   3.0   D   0.0   1.0   A  2.20  3.10   \n557          211.0 2003-02-01   1.0   0.0   H   1.0   0.0   H  1.55  3.50   \n585          218.0 2004-02-01   2.0   1.0   H   1.0   0.0   H  1.25  4.35   \n635          156.0 2004-02-01   2.0   1.0   H   0.0   0.0   D  2.00  2.90   \n...            ...        ...   ...   ...  ..   ...   ...  ..   ...   ...   \n157742       235.0 2023-05-13   NaN   NaN   0   NaN   NaN   0   NaN   NaN   \n157743       236.0 2023-05-13   NaN   NaN   0   NaN   NaN   0   NaN   NaN   \n157744       237.0 2023-05-14   NaN   NaN   0   NaN   NaN   0   NaN   NaN   \n157745       238.0 2023-05-14   NaN   NaN   0   NaN   NaN   0   NaN   NaN   \n157746       239.0 2023-05-14   NaN   NaN   0   NaN   NaN   0   NaN   NaN   \n\n        ...  AwayTeam_Platanias  AwayTeam_Proodeftiki  AwayTeam_Thrasyvoulos  \\\n516     ...               False                 False                  False   \n527     ...               False                 False                  False   \n557     ...               False                 False                  False   \n585     ...               False                 False                  False   \n635     ...               False                 False                  False   \n...     ...                 ...                   ...                    ...   \n157742  ...               False                 False                  False   \n157743  ...               False                 False                  False   \n157744  ...               False                 False                  False   \n157745  ...               False                 False                  False   \n157746  ...               False                 False                  False   \n\n        AwayTeam_Veria  AwayTeam_Volos NFC  AwayTeam_Xanthi  \\\n516              False               False            False   \n527              False               False            False   \n557              False               False             True   \n585              False               False            False   \n635              False               False            False   \n...                ...                 ...              ...   \n157742           False               False            False   \n157743           False               False            False   \n157744           False                True            False   \n157745           False               False            False   \n157746           False               False            False   \n\n        AwayTeam_Yiannina  Div_G1       HomeTeam    AwayTeam  \n516                 False    True     Olympiakos         OFI  \n527                 False    True      Akratitos    Kalithea  \n557                 False    True           PAOK      Xanthi  \n585                 False    True         Egaleo   Akratitos  \n635                 False    True     Chalkidona         OFI  \n...                   ...     ...            ...         ...  \n157742              False    True        Ionikos       Lamia  \n157743              False    True    Levadeiakos    Giannina  \n157744              False    True            AEK   Volos NFC  \n157745              False    True  Panathinaikos        Aris  \n157746              False    True           PAOK  Olympiakos  \n\n[5412 rows x 257 columns]",
      "text/html": "<div>\n<style scoped>\n    .dataframe tbody tr th:only-of-type {\n        vertical-align: middle;\n    }\n\n    .dataframe tbody tr th {\n        vertical-align: top;\n    }\n\n    .dataframe thead th {\n        text-align: right;\n    }\n</style>\n<table border=\"1\" class=\"dataframe\">\n  <thead>\n    <tr style=\"text-align: right;\">\n      <th></th>\n      <th>Unnamed: 0</th>\n      <th>Date</th>\n      <th>FTHG</th>\n      <th>FTAG</th>\n      <th>FTR</th>\n      <th>HTHG</th>\n      <th>HTAG</th>\n      <th>HTR</th>\n      <th>GBH</th>\n      <th>GBD</th>\n      <th>...</th>\n      <th>AwayTeam_Platanias</th>\n      <th>AwayTeam_Proodeftiki</th>\n      <th>AwayTeam_Thrasyvoulos</th>\n      <th>AwayTeam_Veria</th>\n      <th>AwayTeam_Volos NFC</th>\n      <th>AwayTeam_Xanthi</th>\n      <th>AwayTeam_Yiannina</th>\n      <th>Div_G1</th>\n      <th>HomeTeam</th>\n      <th>AwayTeam</th>\n    </tr>\n  </thead>\n  <tbody>\n    <tr>\n      <th>516</th>\n      <td>173.0</td>\n      <td>2003-02-01</td>\n      <td>1.0</td>\n      <td>0.0</td>\n      <td>H</td>\n      <td>0.0</td>\n      <td>0.0</td>\n      <td>D</td>\n      <td>1.30</td>\n      <td>4.30</td>\n      <td>...</td>\n      <td>False</td>\n      <td>False</td>\n      <td>False</td>\n      <td>False</td>\n      <td>False</td>\n      <td>False</td>\n      <td>False</td>\n      <td>True</td>\n      <td>Olympiakos</td>\n      <td>OFI</td>\n    </tr>\n    <tr>\n      <th>527</th>\n      <td>33.0</td>\n      <td>2003-02-01</td>\n      <td>3.0</td>\n      <td>3.0</td>\n      <td>D</td>\n      <td>0.0</td>\n      <td>1.0</td>\n      <td>A</td>\n      <td>2.20</td>\n      <td>3.10</td>\n      <td>...</td>\n      <td>False</td>\n      <td>False</td>\n      <td>False</td>\n      <td>False</td>\n      <td>False</td>\n      <td>False</td>\n      <td>False</td>\n      <td>True</td>\n      <td>Akratitos</td>\n      <td>Kalithea</td>\n    </tr>\n    <tr>\n      <th>557</th>\n      <td>211.0</td>\n      <td>2003-02-01</td>\n      <td>1.0</td>\n      <td>0.0</td>\n      <td>H</td>\n      <td>1.0</td>\n      <td>0.0</td>\n      <td>H</td>\n      <td>1.55</td>\n      <td>3.50</td>\n      <td>...</td>\n      <td>False</td>\n      <td>False</td>\n      <td>False</td>\n      <td>False</td>\n      <td>False</td>\n      <td>True</td>\n      <td>False</td>\n      <td>True</td>\n      <td>PAOK</td>\n      <td>Xanthi</td>\n    </tr>\n    <tr>\n      <th>585</th>\n      <td>218.0</td>\n      <td>2004-02-01</td>\n      <td>2.0</td>\n      <td>1.0</td>\n      <td>H</td>\n      <td>1.0</td>\n      <td>0.0</td>\n      <td>H</td>\n      <td>1.25</td>\n      <td>4.35</td>\n      <td>...</td>\n      <td>False</td>\n      <td>False</td>\n      <td>False</td>\n      <td>False</td>\n      <td>False</td>\n      <td>False</td>\n      <td>False</td>\n      <td>True</td>\n      <td>Egaleo</td>\n      <td>Akratitos</td>\n    </tr>\n    <tr>\n      <th>635</th>\n      <td>156.0</td>\n      <td>2004-02-01</td>\n      <td>2.0</td>\n      <td>1.0</td>\n      <td>H</td>\n      <td>0.0</td>\n      <td>0.0</td>\n      <td>D</td>\n      <td>2.00</td>\n      <td>2.90</td>\n      <td>...</td>\n      <td>False</td>\n      <td>False</td>\n      <td>False</td>\n      <td>False</td>\n      <td>False</td>\n      <td>False</td>\n      <td>False</td>\n      <td>True</td>\n      <td>Chalkidona</td>\n      <td>OFI</td>\n    </tr>\n    <tr>\n      <th>...</th>\n      <td>...</td>\n      <td>...</td>\n      <td>...</td>\n      <td>...</td>\n      <td>...</td>\n      <td>...</td>\n      <td>...</td>\n      <td>...</td>\n      <td>...</td>\n      <td>...</td>\n      <td>...</td>\n      <td>...</td>\n      <td>...</td>\n      <td>...</td>\n      <td>...</td>\n      <td>...</td>\n      <td>...</td>\n      <td>...</td>\n      <td>...</td>\n      <td>...</td>\n      <td>...</td>\n    </tr>\n    <tr>\n      <th>157742</th>\n      <td>235.0</td>\n      <td>2023-05-13</td>\n      <td>NaN</td>\n      <td>NaN</td>\n      <td>0</td>\n      <td>NaN</td>\n      <td>NaN</td>\n      <td>0</td>\n      <td>NaN</td>\n      <td>NaN</td>\n      <td>...</td>\n      <td>False</td>\n      <td>False</td>\n      <td>False</td>\n      <td>False</td>\n      <td>False</td>\n      <td>False</td>\n      <td>False</td>\n      <td>True</td>\n      <td>Ionikos</td>\n      <td>Lamia</td>\n    </tr>\n    <tr>\n      <th>157743</th>\n      <td>236.0</td>\n      <td>2023-05-13</td>\n      <td>NaN</td>\n      <td>NaN</td>\n      <td>0</td>\n      <td>NaN</td>\n      <td>NaN</td>\n      <td>0</td>\n      <td>NaN</td>\n      <td>NaN</td>\n      <td>...</td>\n      <td>False</td>\n      <td>False</td>\n      <td>False</td>\n      <td>False</td>\n      <td>False</td>\n      <td>False</td>\n      <td>False</td>\n      <td>True</td>\n      <td>Levadeiakos</td>\n      <td>Giannina</td>\n    </tr>\n    <tr>\n      <th>157744</th>\n      <td>237.0</td>\n      <td>2023-05-14</td>\n      <td>NaN</td>\n      <td>NaN</td>\n      <td>0</td>\n      <td>NaN</td>\n      <td>NaN</td>\n      <td>0</td>\n      <td>NaN</td>\n      <td>NaN</td>\n      <td>...</td>\n      <td>False</td>\n      <td>False</td>\n      <td>False</td>\n      <td>False</td>\n      <td>True</td>\n      <td>False</td>\n      <td>False</td>\n      <td>True</td>\n      <td>AEK</td>\n      <td>Volos NFC</td>\n    </tr>\n    <tr>\n      <th>157745</th>\n      <td>238.0</td>\n      <td>2023-05-14</td>\n      <td>NaN</td>\n      <td>NaN</td>\n      <td>0</td>\n      <td>NaN</td>\n      <td>NaN</td>\n      <td>0</td>\n      <td>NaN</td>\n      <td>NaN</td>\n      <td>...</td>\n      <td>False</td>\n      <td>False</td>\n      <td>False</td>\n      <td>False</td>\n      <td>False</td>\n      <td>False</td>\n      <td>False</td>\n      <td>True</td>\n      <td>Panathinaikos</td>\n      <td>Aris</td>\n    </tr>\n    <tr>\n      <th>157746</th>\n      <td>239.0</td>\n      <td>2023-05-14</td>\n      <td>NaN</td>\n      <td>NaN</td>\n      <td>0</td>\n      <td>NaN</td>\n      <td>NaN</td>\n      <td>0</td>\n      <td>NaN</td>\n      <td>NaN</td>\n      <td>...</td>\n      <td>False</td>\n      <td>False</td>\n      <td>False</td>\n      <td>False</td>\n      <td>False</td>\n      <td>False</td>\n      <td>False</td>\n      <td>True</td>\n      <td>PAOK</td>\n      <td>Olympiakos</td>\n    </tr>\n  </tbody>\n</table>\n<p>5412 rows × 257 columns</p>\n</div>"
     },
     "metadata": {},
     "output_type": "display_data"
    },
    {
     "name": "stdout",
     "output_type": "stream",
     "text": [
      "0\n",
      "1000\n",
      "2000\n",
      "3000\n",
      "4000\n",
      "5000\n",
      "done df_greece\n"
     ]
    },
    {
     "data": {
      "text/plain": "        Unnamed: 0       Date  FTHG  FTAG FTR  HTHG  HTAG HTR   GBH   GBD  \\\n521          148.0 2003-02-01   0.0   1.0   A   0.0   1.0   A  1.60  3.00   \n523           79.0 2003-02-01   0.0   1.0   A   0.0   0.0   D  2.55  3.00   \n526           85.0 2003-02-01   1.0   1.0   D   1.0   1.0   D  2.30  3.00   \n528          108.0 2003-02-01   2.0   0.0   H   1.0   0.0   H  1.75  3.10   \n530          122.0 2003-02-01   1.0   1.0   D   1.0   0.0   H  2.25  2.95   \n...            ...        ...   ...   ...  ..   ...   ...  ..   ...   ...   \n156890       374.0 2023-06-02   NaN   NaN   0   NaN   NaN   0   NaN   NaN   \n156891       375.0 2023-06-02   NaN   NaN   0   NaN   NaN   0   NaN   NaN   \n156892       376.0 2023-06-02   NaN   NaN   0   NaN   NaN   0   NaN   NaN   \n156893       377.0 2023-06-02   NaN   NaN   0   NaN   NaN   0   NaN   NaN   \n156894       378.0 2023-06-02   NaN   NaN   0   NaN   NaN   0   NaN   NaN   \n\n        ...  AwayTeam_Tours  AwayTeam_Troyes  AwayTeam_Valence  \\\n521     ...           False            False             False   \n523     ...           False            False             False   \n526     ...           False            False             False   \n528     ...           False            False             False   \n530     ...           False            False             False   \n...     ...             ...              ...               ...   \n156890  ...           False            False             False   \n156891  ...           False            False             False   \n156892  ...           False            False             False   \n156893  ...           False            False             False   \n156894  ...           False            False             False   \n\n        AwayTeam_Valenciennes  AwayTeam_Vannes  AwayTeam_Wasquehal  Div_F1  \\\n521                     False            False               False   False   \n523                     False            False               False    True   \n526                     False            False               False    True   \n528                     False            False               False    True   \n530                     False            False               False    True   \n...                       ...              ...                 ...     ...   \n156890                  False            False               False   False   \n156891                  False            False               False   False   \n156892                  False            False               False   False   \n156893                  False            False               False   False   \n156894                   True            False               False   False   \n\n        Div_F2    HomeTeam        AwayTeam  \n521       True       Laval           Nancy  \n523      False  Strasbourg        Paris SG  \n526      False      Rennes            Lens  \n528      False     Auxerre         Sochaux  \n530      False     Ajaccio          Bastia  \n...        ...         ...             ...  \n156890    True       Nimes         Sochaux  \n156891    True       Niort  Quevilly Rouen  \n156892    True    Paris FC          Annecy  \n156893    True      Pau FC            Caen  \n156894    True  St Etienne    Valenciennes  \n\n[16655 rows x 315 columns]",
      "text/html": "<div>\n<style scoped>\n    .dataframe tbody tr th:only-of-type {\n        vertical-align: middle;\n    }\n\n    .dataframe tbody tr th {\n        vertical-align: top;\n    }\n\n    .dataframe thead th {\n        text-align: right;\n    }\n</style>\n<table border=\"1\" class=\"dataframe\">\n  <thead>\n    <tr style=\"text-align: right;\">\n      <th></th>\n      <th>Unnamed: 0</th>\n      <th>Date</th>\n      <th>FTHG</th>\n      <th>FTAG</th>\n      <th>FTR</th>\n      <th>HTHG</th>\n      <th>HTAG</th>\n      <th>HTR</th>\n      <th>GBH</th>\n      <th>GBD</th>\n      <th>...</th>\n      <th>AwayTeam_Tours</th>\n      <th>AwayTeam_Troyes</th>\n      <th>AwayTeam_Valence</th>\n      <th>AwayTeam_Valenciennes</th>\n      <th>AwayTeam_Vannes</th>\n      <th>AwayTeam_Wasquehal</th>\n      <th>Div_F1</th>\n      <th>Div_F2</th>\n      <th>HomeTeam</th>\n      <th>AwayTeam</th>\n    </tr>\n  </thead>\n  <tbody>\n    <tr>\n      <th>521</th>\n      <td>148.0</td>\n      <td>2003-02-01</td>\n      <td>0.0</td>\n      <td>1.0</td>\n      <td>A</td>\n      <td>0.0</td>\n      <td>1.0</td>\n      <td>A</td>\n      <td>1.60</td>\n      <td>3.00</td>\n      <td>...</td>\n      <td>False</td>\n      <td>False</td>\n      <td>False</td>\n      <td>False</td>\n      <td>False</td>\n      <td>False</td>\n      <td>False</td>\n      <td>True</td>\n      <td>Laval</td>\n      <td>Nancy</td>\n    </tr>\n    <tr>\n      <th>523</th>\n      <td>79.0</td>\n      <td>2003-02-01</td>\n      <td>0.0</td>\n      <td>1.0</td>\n      <td>A</td>\n      <td>0.0</td>\n      <td>0.0</td>\n      <td>D</td>\n      <td>2.55</td>\n      <td>3.00</td>\n      <td>...</td>\n      <td>False</td>\n      <td>False</td>\n      <td>False</td>\n      <td>False</td>\n      <td>False</td>\n      <td>False</td>\n      <td>True</td>\n      <td>False</td>\n      <td>Strasbourg</td>\n      <td>Paris SG</td>\n    </tr>\n    <tr>\n      <th>526</th>\n      <td>85.0</td>\n      <td>2003-02-01</td>\n      <td>1.0</td>\n      <td>1.0</td>\n      <td>D</td>\n      <td>1.0</td>\n      <td>1.0</td>\n      <td>D</td>\n      <td>2.30</td>\n      <td>3.00</td>\n      <td>...</td>\n      <td>False</td>\n      <td>False</td>\n      <td>False</td>\n      <td>False</td>\n      <td>False</td>\n      <td>False</td>\n      <td>True</td>\n      <td>False</td>\n      <td>Rennes</td>\n      <td>Lens</td>\n    </tr>\n    <tr>\n      <th>528</th>\n      <td>108.0</td>\n      <td>2003-02-01</td>\n      <td>2.0</td>\n      <td>0.0</td>\n      <td>H</td>\n      <td>1.0</td>\n      <td>0.0</td>\n      <td>H</td>\n      <td>1.75</td>\n      <td>3.10</td>\n      <td>...</td>\n      <td>False</td>\n      <td>False</td>\n      <td>False</td>\n      <td>False</td>\n      <td>False</td>\n      <td>False</td>\n      <td>True</td>\n      <td>False</td>\n      <td>Auxerre</td>\n      <td>Sochaux</td>\n    </tr>\n    <tr>\n      <th>530</th>\n      <td>122.0</td>\n      <td>2003-02-01</td>\n      <td>1.0</td>\n      <td>1.0</td>\n      <td>D</td>\n      <td>1.0</td>\n      <td>0.0</td>\n      <td>H</td>\n      <td>2.25</td>\n      <td>2.95</td>\n      <td>...</td>\n      <td>False</td>\n      <td>False</td>\n      <td>False</td>\n      <td>False</td>\n      <td>False</td>\n      <td>False</td>\n      <td>True</td>\n      <td>False</td>\n      <td>Ajaccio</td>\n      <td>Bastia</td>\n    </tr>\n    <tr>\n      <th>...</th>\n      <td>...</td>\n      <td>...</td>\n      <td>...</td>\n      <td>...</td>\n      <td>...</td>\n      <td>...</td>\n      <td>...</td>\n      <td>...</td>\n      <td>...</td>\n      <td>...</td>\n      <td>...</td>\n      <td>...</td>\n      <td>...</td>\n      <td>...</td>\n      <td>...</td>\n      <td>...</td>\n      <td>...</td>\n      <td>...</td>\n      <td>...</td>\n      <td>...</td>\n      <td>...</td>\n    </tr>\n    <tr>\n      <th>156890</th>\n      <td>374.0</td>\n      <td>2023-06-02</td>\n      <td>NaN</td>\n      <td>NaN</td>\n      <td>0</td>\n      <td>NaN</td>\n      <td>NaN</td>\n      <td>0</td>\n      <td>NaN</td>\n      <td>NaN</td>\n      <td>...</td>\n      <td>False</td>\n      <td>False</td>\n      <td>False</td>\n      <td>False</td>\n      <td>False</td>\n      <td>False</td>\n      <td>False</td>\n      <td>True</td>\n      <td>Nimes</td>\n      <td>Sochaux</td>\n    </tr>\n    <tr>\n      <th>156891</th>\n      <td>375.0</td>\n      <td>2023-06-02</td>\n      <td>NaN</td>\n      <td>NaN</td>\n      <td>0</td>\n      <td>NaN</td>\n      <td>NaN</td>\n      <td>0</td>\n      <td>NaN</td>\n      <td>NaN</td>\n      <td>...</td>\n      <td>False</td>\n      <td>False</td>\n      <td>False</td>\n      <td>False</td>\n      <td>False</td>\n      <td>False</td>\n      <td>False</td>\n      <td>True</td>\n      <td>Niort</td>\n      <td>Quevilly Rouen</td>\n    </tr>\n    <tr>\n      <th>156892</th>\n      <td>376.0</td>\n      <td>2023-06-02</td>\n      <td>NaN</td>\n      <td>NaN</td>\n      <td>0</td>\n      <td>NaN</td>\n      <td>NaN</td>\n      <td>0</td>\n      <td>NaN</td>\n      <td>NaN</td>\n      <td>...</td>\n      <td>False</td>\n      <td>False</td>\n      <td>False</td>\n      <td>False</td>\n      <td>False</td>\n      <td>False</td>\n      <td>False</td>\n      <td>True</td>\n      <td>Paris FC</td>\n      <td>Annecy</td>\n    </tr>\n    <tr>\n      <th>156893</th>\n      <td>377.0</td>\n      <td>2023-06-02</td>\n      <td>NaN</td>\n      <td>NaN</td>\n      <td>0</td>\n      <td>NaN</td>\n      <td>NaN</td>\n      <td>0</td>\n      <td>NaN</td>\n      <td>NaN</td>\n      <td>...</td>\n      <td>False</td>\n      <td>False</td>\n      <td>False</td>\n      <td>False</td>\n      <td>False</td>\n      <td>False</td>\n      <td>False</td>\n      <td>True</td>\n      <td>Pau FC</td>\n      <td>Caen</td>\n    </tr>\n    <tr>\n      <th>156894</th>\n      <td>378.0</td>\n      <td>2023-06-02</td>\n      <td>NaN</td>\n      <td>NaN</td>\n      <td>0</td>\n      <td>NaN</td>\n      <td>NaN</td>\n      <td>0</td>\n      <td>NaN</td>\n      <td>NaN</td>\n      <td>...</td>\n      <td>False</td>\n      <td>False</td>\n      <td>False</td>\n      <td>True</td>\n      <td>False</td>\n      <td>False</td>\n      <td>False</td>\n      <td>True</td>\n      <td>St Etienne</td>\n      <td>Valenciennes</td>\n    </tr>\n  </tbody>\n</table>\n<p>16655 rows × 315 columns</p>\n</div>"
     },
     "metadata": {},
     "output_type": "display_data"
    },
    {
     "name": "stdout",
     "output_type": "stream",
     "text": [
      "0\n",
      "1000\n",
      "2000\n",
      "3000\n",
      "4000\n",
      "5000\n",
      "6000\n",
      "7000\n",
      "8000\n",
      "9000\n",
      "10000\n",
      "11000\n",
      "12000\n",
      "13000\n",
      "14000\n",
      "15000\n",
      "16000\n",
      "done df_france\n"
     ]
    },
    {
     "data": {
      "text/plain": "        Unnamed: 0       Date  FTHG  FTAG FTR  HTHG  HTAG HTR  GBH   GBD  ...  \\\n534           77.0 2003-02-01   1.0   0.0   H   1.0   0.0   H  1.7  2.90  ...   \n537          324.0 2003-02-01   3.0   0.0   H   1.0   0.0   H  2.3  3.20  ...   \n540          278.0 2003-02-01   1.0   1.0   D   1.0   1.0   D  2.3  2.60  ...   \n562          120.0 2003-02-01   4.0   0.0   H   0.0   0.0   D  2.0  2.65  ...   \n587          174.0 2004-02-01   1.0   0.0   H   1.0   0.0   H  1.5  3.60  ...   \n...            ...        ...   ...   ...  ..   ...   ...  ..  ...   ...  ...   \n160724       457.0 2023-05-27   NaN   NaN   0   NaN   NaN   0  NaN   NaN  ...   \n160725       458.0 2023-05-27   NaN   NaN   0   NaN   NaN   0  NaN   NaN  ...   \n160726       459.0 2023-05-27   NaN   NaN   0   NaN   NaN   0  NaN   NaN  ...   \n160727       460.0 2023-05-28   NaN   NaN   0   NaN   NaN   0  NaN   NaN  ...   \n160728       461.0 2023-05-28   NaN   NaN   0   NaN   NaN   0  NaN   NaN  ...   \n\n        AwayTeam_Vallecano  AwayTeam_Vecindario  AwayTeam_Villarreal  \\\n534                  False                False                False   \n537                  False                False                False   \n540                  False                False                False   \n562                  False                False                False   \n587                  False                False                False   \n...                    ...                  ...                  ...   \n160724               False                False                False   \n160725               False                False                False   \n160726               False                False                False   \n160727               False                False                False   \n160728               False                False                False   \n\n        AwayTeam_Villarreal B  AwayTeam_Xerez  AwayTeam_Zaragoza  Div_SP1  \\\n534                     False           False              False    False   \n537                     False           False              False     True   \n540                     False           False              False    False   \n562                     False           False              False    False   \n587                     False           False              False     True   \n...                       ...             ...                ...      ...   \n160724                  False           False              False    False   \n160725                  False           False              False    False   \n160726                  False           False              False    False   \n160727                  False           False              False    False   \n160728                  False           False              False    False   \n\n        Div_SP2    HomeTeam      AwayTeam  \n534        True     Levante        Oviedo  \n537       False  Ath Madrid     Barcelona  \n540        True     Leganes      Terrassa  \n562        True    Tenerife        Ferrol  \n587       False   La Coruna       Sevilla  \n...         ...         ...           ...  \n160724     True      Huesca         Eibar  \n160725     True  Las Palmas        Alaves  \n160726     True     Levante        Oviedo  \n160727     True   Santander     Cartagena  \n160728     True    Sp Gijon  Ponferradina  \n\n[18864 rows x 351 columns]",
      "text/html": "<div>\n<style scoped>\n    .dataframe tbody tr th:only-of-type {\n        vertical-align: middle;\n    }\n\n    .dataframe tbody tr th {\n        vertical-align: top;\n    }\n\n    .dataframe thead th {\n        text-align: right;\n    }\n</style>\n<table border=\"1\" class=\"dataframe\">\n  <thead>\n    <tr style=\"text-align: right;\">\n      <th></th>\n      <th>Unnamed: 0</th>\n      <th>Date</th>\n      <th>FTHG</th>\n      <th>FTAG</th>\n      <th>FTR</th>\n      <th>HTHG</th>\n      <th>HTAG</th>\n      <th>HTR</th>\n      <th>GBH</th>\n      <th>GBD</th>\n      <th>...</th>\n      <th>AwayTeam_Vallecano</th>\n      <th>AwayTeam_Vecindario</th>\n      <th>AwayTeam_Villarreal</th>\n      <th>AwayTeam_Villarreal B</th>\n      <th>AwayTeam_Xerez</th>\n      <th>AwayTeam_Zaragoza</th>\n      <th>Div_SP1</th>\n      <th>Div_SP2</th>\n      <th>HomeTeam</th>\n      <th>AwayTeam</th>\n    </tr>\n  </thead>\n  <tbody>\n    <tr>\n      <th>534</th>\n      <td>77.0</td>\n      <td>2003-02-01</td>\n      <td>1.0</td>\n      <td>0.0</td>\n      <td>H</td>\n      <td>1.0</td>\n      <td>0.0</td>\n      <td>H</td>\n      <td>1.7</td>\n      <td>2.90</td>\n      <td>...</td>\n      <td>False</td>\n      <td>False</td>\n      <td>False</td>\n      <td>False</td>\n      <td>False</td>\n      <td>False</td>\n      <td>False</td>\n      <td>True</td>\n      <td>Levante</td>\n      <td>Oviedo</td>\n    </tr>\n    <tr>\n      <th>537</th>\n      <td>324.0</td>\n      <td>2003-02-01</td>\n      <td>3.0</td>\n      <td>0.0</td>\n      <td>H</td>\n      <td>1.0</td>\n      <td>0.0</td>\n      <td>H</td>\n      <td>2.3</td>\n      <td>3.20</td>\n      <td>...</td>\n      <td>False</td>\n      <td>False</td>\n      <td>False</td>\n      <td>False</td>\n      <td>False</td>\n      <td>False</td>\n      <td>True</td>\n      <td>False</td>\n      <td>Ath Madrid</td>\n      <td>Barcelona</td>\n    </tr>\n    <tr>\n      <th>540</th>\n      <td>278.0</td>\n      <td>2003-02-01</td>\n      <td>1.0</td>\n      <td>1.0</td>\n      <td>D</td>\n      <td>1.0</td>\n      <td>1.0</td>\n      <td>D</td>\n      <td>2.3</td>\n      <td>2.60</td>\n      <td>...</td>\n      <td>False</td>\n      <td>False</td>\n      <td>False</td>\n      <td>False</td>\n      <td>False</td>\n      <td>False</td>\n      <td>False</td>\n      <td>True</td>\n      <td>Leganes</td>\n      <td>Terrassa</td>\n    </tr>\n    <tr>\n      <th>562</th>\n      <td>120.0</td>\n      <td>2003-02-01</td>\n      <td>4.0</td>\n      <td>0.0</td>\n      <td>H</td>\n      <td>0.0</td>\n      <td>0.0</td>\n      <td>D</td>\n      <td>2.0</td>\n      <td>2.65</td>\n      <td>...</td>\n      <td>False</td>\n      <td>False</td>\n      <td>False</td>\n      <td>False</td>\n      <td>False</td>\n      <td>False</td>\n      <td>False</td>\n      <td>True</td>\n      <td>Tenerife</td>\n      <td>Ferrol</td>\n    </tr>\n    <tr>\n      <th>587</th>\n      <td>174.0</td>\n      <td>2004-02-01</td>\n      <td>1.0</td>\n      <td>0.0</td>\n      <td>H</td>\n      <td>1.0</td>\n      <td>0.0</td>\n      <td>H</td>\n      <td>1.5</td>\n      <td>3.60</td>\n      <td>...</td>\n      <td>False</td>\n      <td>False</td>\n      <td>False</td>\n      <td>False</td>\n      <td>False</td>\n      <td>False</td>\n      <td>True</td>\n      <td>False</td>\n      <td>La Coruna</td>\n      <td>Sevilla</td>\n    </tr>\n    <tr>\n      <th>...</th>\n      <td>...</td>\n      <td>...</td>\n      <td>...</td>\n      <td>...</td>\n      <td>...</td>\n      <td>...</td>\n      <td>...</td>\n      <td>...</td>\n      <td>...</td>\n      <td>...</td>\n      <td>...</td>\n      <td>...</td>\n      <td>...</td>\n      <td>...</td>\n      <td>...</td>\n      <td>...</td>\n      <td>...</td>\n      <td>...</td>\n      <td>...</td>\n      <td>...</td>\n      <td>...</td>\n    </tr>\n    <tr>\n      <th>160724</th>\n      <td>457.0</td>\n      <td>2023-05-27</td>\n      <td>NaN</td>\n      <td>NaN</td>\n      <td>0</td>\n      <td>NaN</td>\n      <td>NaN</td>\n      <td>0</td>\n      <td>NaN</td>\n      <td>NaN</td>\n      <td>...</td>\n      <td>False</td>\n      <td>False</td>\n      <td>False</td>\n      <td>False</td>\n      <td>False</td>\n      <td>False</td>\n      <td>False</td>\n      <td>True</td>\n      <td>Huesca</td>\n      <td>Eibar</td>\n    </tr>\n    <tr>\n      <th>160725</th>\n      <td>458.0</td>\n      <td>2023-05-27</td>\n      <td>NaN</td>\n      <td>NaN</td>\n      <td>0</td>\n      <td>NaN</td>\n      <td>NaN</td>\n      <td>0</td>\n      <td>NaN</td>\n      <td>NaN</td>\n      <td>...</td>\n      <td>False</td>\n      <td>False</td>\n      <td>False</td>\n      <td>False</td>\n      <td>False</td>\n      <td>False</td>\n      <td>False</td>\n      <td>True</td>\n      <td>Las Palmas</td>\n      <td>Alaves</td>\n    </tr>\n    <tr>\n      <th>160726</th>\n      <td>459.0</td>\n      <td>2023-05-27</td>\n      <td>NaN</td>\n      <td>NaN</td>\n      <td>0</td>\n      <td>NaN</td>\n      <td>NaN</td>\n      <td>0</td>\n      <td>NaN</td>\n      <td>NaN</td>\n      <td>...</td>\n      <td>False</td>\n      <td>False</td>\n      <td>False</td>\n      <td>False</td>\n      <td>False</td>\n      <td>False</td>\n      <td>False</td>\n      <td>True</td>\n      <td>Levante</td>\n      <td>Oviedo</td>\n    </tr>\n    <tr>\n      <th>160727</th>\n      <td>460.0</td>\n      <td>2023-05-28</td>\n      <td>NaN</td>\n      <td>NaN</td>\n      <td>0</td>\n      <td>NaN</td>\n      <td>NaN</td>\n      <td>0</td>\n      <td>NaN</td>\n      <td>NaN</td>\n      <td>...</td>\n      <td>False</td>\n      <td>False</td>\n      <td>False</td>\n      <td>False</td>\n      <td>False</td>\n      <td>False</td>\n      <td>False</td>\n      <td>True</td>\n      <td>Santander</td>\n      <td>Cartagena</td>\n    </tr>\n    <tr>\n      <th>160728</th>\n      <td>461.0</td>\n      <td>2023-05-28</td>\n      <td>NaN</td>\n      <td>NaN</td>\n      <td>0</td>\n      <td>NaN</td>\n      <td>NaN</td>\n      <td>0</td>\n      <td>NaN</td>\n      <td>NaN</td>\n      <td>...</td>\n      <td>False</td>\n      <td>False</td>\n      <td>False</td>\n      <td>False</td>\n      <td>False</td>\n      <td>False</td>\n      <td>False</td>\n      <td>True</td>\n      <td>Sp Gijon</td>\n      <td>Ponferradina</td>\n    </tr>\n  </tbody>\n</table>\n<p>18864 rows × 351 columns</p>\n</div>"
     },
     "metadata": {},
     "output_type": "display_data"
    },
    {
     "name": "stdout",
     "output_type": "stream",
     "text": [
      "0\n",
      "1000\n",
      "2000\n",
      "3000\n",
      "4000\n",
      "5000\n",
      "6000\n",
      "7000\n",
      "8000\n",
      "9000\n",
      "10000\n",
      "11000\n",
      "12000\n",
      "13000\n",
      "14000\n",
      "15000\n",
      "16000\n",
      "17000\n",
      "18000\n",
      "done df_spain\n"
     ]
    },
    {
     "data": {
      "text/plain": "        Unnamed: 0       Date  FTHG  FTAG FTR  HTHG  HTAG HTR   GBH  GBD  ...  \\\n583          263.0 2004-02-01   2.0   2.0   D   1.0   2.0   A  2.55  3.1  ...   \n588          138.0 2004-02-01   1.0   3.0   A   0.0   1.0   A  4.70  3.6  ...   \n630          272.0 2004-02-01   3.0   2.0   H   0.0   1.0   A  1.90  3.2  ...   \n685          138.0 2009-02-01   1.0   2.0   A   1.0   0.0   H  2.35  3.2  ...   \n701          263.0 2009-02-01   2.0   5.0   A   1.0   2.0   A  2.55  3.2  ...   \n...            ...        ...   ...   ...  ..   ...   ...  ..   ...  ...  ...   \n154095       301.0 2023-04-23   NaN   NaN   0   NaN   NaN   0   NaN  NaN  ...   \n154096       302.0 2023-04-23   NaN   NaN   0   NaN   NaN   0   NaN  NaN  ...   \n154097       303.0 2023-04-23   NaN   NaN   0   NaN   NaN   0   NaN  NaN  ...   \n154098       304.0 2023-04-23   NaN   NaN   0   NaN   NaN   0   NaN  NaN  ...   \n154099       305.0 2023-04-23   NaN   NaN   0   NaN   NaN   0   NaN  NaN  ...   \n\n        AwayTeam_St Truiden  AwayTeam_St. Gilloise  AwayTeam_Standard  \\\n583                   False                  False              False   \n588                   False                  False              False   \n630                   False                  False              False   \n685                   False                  False              False   \n701                   False                  False              False   \n...                     ...                    ...                ...   \n154095                False                  False              False   \n154096                False                  False              False   \n154097                False                   True              False   \n154098                False                  False               True   \n154099                False                  False              False   \n\n        AwayTeam_Tubize  AwayTeam_Waasland-Beveren  AwayTeam_Waregem  \\\n583               False                      False             False   \n588               False                      False             False   \n630               False                      False             False   \n685               False                      False             False   \n701               False                      False             False   \n...                 ...                        ...               ...   \n154095            False                      False             False   \n154096            False                      False             False   \n154097            False                      False             False   \n154098            False                      False             False   \n154099            False                      False             False   \n\n        AwayTeam_Westerlo  Div_B1             HomeTeam       AwayTeam  \n583                 False    True               Lierse       Mouscron  \n588                 False    True           St Truiden     Anderlecht  \n630                 False    True        Cercle Brugge      Charleroi  \n685                 False    True              Lokeren           Genk  \n701                 False    True            Charleroi           Gent  \n...                   ...     ...                  ...            ...  \n154095              False    True          Club Brugge          Eupen  \n154096              False    True                 Gent       Oostende  \n154097              False    True             Kortrijk   St. Gilloise  \n154098              False    True  Oud-Heverlee Leuven       Standard  \n154099              False    True              Waregem  Cercle Brugge  \n\n[6098 rows x 244 columns]",
      "text/html": "<div>\n<style scoped>\n    .dataframe tbody tr th:only-of-type {\n        vertical-align: middle;\n    }\n\n    .dataframe tbody tr th {\n        vertical-align: top;\n    }\n\n    .dataframe thead th {\n        text-align: right;\n    }\n</style>\n<table border=\"1\" class=\"dataframe\">\n  <thead>\n    <tr style=\"text-align: right;\">\n      <th></th>\n      <th>Unnamed: 0</th>\n      <th>Date</th>\n      <th>FTHG</th>\n      <th>FTAG</th>\n      <th>FTR</th>\n      <th>HTHG</th>\n      <th>HTAG</th>\n      <th>HTR</th>\n      <th>GBH</th>\n      <th>GBD</th>\n      <th>...</th>\n      <th>AwayTeam_St Truiden</th>\n      <th>AwayTeam_St. Gilloise</th>\n      <th>AwayTeam_Standard</th>\n      <th>AwayTeam_Tubize</th>\n      <th>AwayTeam_Waasland-Beveren</th>\n      <th>AwayTeam_Waregem</th>\n      <th>AwayTeam_Westerlo</th>\n      <th>Div_B1</th>\n      <th>HomeTeam</th>\n      <th>AwayTeam</th>\n    </tr>\n  </thead>\n  <tbody>\n    <tr>\n      <th>583</th>\n      <td>263.0</td>\n      <td>2004-02-01</td>\n      <td>2.0</td>\n      <td>2.0</td>\n      <td>D</td>\n      <td>1.0</td>\n      <td>2.0</td>\n      <td>A</td>\n      <td>2.55</td>\n      <td>3.1</td>\n      <td>...</td>\n      <td>False</td>\n      <td>False</td>\n      <td>False</td>\n      <td>False</td>\n      <td>False</td>\n      <td>False</td>\n      <td>False</td>\n      <td>True</td>\n      <td>Lierse</td>\n      <td>Mouscron</td>\n    </tr>\n    <tr>\n      <th>588</th>\n      <td>138.0</td>\n      <td>2004-02-01</td>\n      <td>1.0</td>\n      <td>3.0</td>\n      <td>A</td>\n      <td>0.0</td>\n      <td>1.0</td>\n      <td>A</td>\n      <td>4.70</td>\n      <td>3.6</td>\n      <td>...</td>\n      <td>False</td>\n      <td>False</td>\n      <td>False</td>\n      <td>False</td>\n      <td>False</td>\n      <td>False</td>\n      <td>False</td>\n      <td>True</td>\n      <td>St Truiden</td>\n      <td>Anderlecht</td>\n    </tr>\n    <tr>\n      <th>630</th>\n      <td>272.0</td>\n      <td>2004-02-01</td>\n      <td>3.0</td>\n      <td>2.0</td>\n      <td>H</td>\n      <td>0.0</td>\n      <td>1.0</td>\n      <td>A</td>\n      <td>1.90</td>\n      <td>3.2</td>\n      <td>...</td>\n      <td>False</td>\n      <td>False</td>\n      <td>False</td>\n      <td>False</td>\n      <td>False</td>\n      <td>False</td>\n      <td>False</td>\n      <td>True</td>\n      <td>Cercle Brugge</td>\n      <td>Charleroi</td>\n    </tr>\n    <tr>\n      <th>685</th>\n      <td>138.0</td>\n      <td>2009-02-01</td>\n      <td>1.0</td>\n      <td>2.0</td>\n      <td>A</td>\n      <td>1.0</td>\n      <td>0.0</td>\n      <td>H</td>\n      <td>2.35</td>\n      <td>3.2</td>\n      <td>...</td>\n      <td>False</td>\n      <td>False</td>\n      <td>False</td>\n      <td>False</td>\n      <td>False</td>\n      <td>False</td>\n      <td>False</td>\n      <td>True</td>\n      <td>Lokeren</td>\n      <td>Genk</td>\n    </tr>\n    <tr>\n      <th>701</th>\n      <td>263.0</td>\n      <td>2009-02-01</td>\n      <td>2.0</td>\n      <td>5.0</td>\n      <td>A</td>\n      <td>1.0</td>\n      <td>2.0</td>\n      <td>A</td>\n      <td>2.55</td>\n      <td>3.2</td>\n      <td>...</td>\n      <td>False</td>\n      <td>False</td>\n      <td>False</td>\n      <td>False</td>\n      <td>False</td>\n      <td>False</td>\n      <td>False</td>\n      <td>True</td>\n      <td>Charleroi</td>\n      <td>Gent</td>\n    </tr>\n    <tr>\n      <th>...</th>\n      <td>...</td>\n      <td>...</td>\n      <td>...</td>\n      <td>...</td>\n      <td>...</td>\n      <td>...</td>\n      <td>...</td>\n      <td>...</td>\n      <td>...</td>\n      <td>...</td>\n      <td>...</td>\n      <td>...</td>\n      <td>...</td>\n      <td>...</td>\n      <td>...</td>\n      <td>...</td>\n      <td>...</td>\n      <td>...</td>\n      <td>...</td>\n      <td>...</td>\n      <td>...</td>\n    </tr>\n    <tr>\n      <th>154095</th>\n      <td>301.0</td>\n      <td>2023-04-23</td>\n      <td>NaN</td>\n      <td>NaN</td>\n      <td>0</td>\n      <td>NaN</td>\n      <td>NaN</td>\n      <td>0</td>\n      <td>NaN</td>\n      <td>NaN</td>\n      <td>...</td>\n      <td>False</td>\n      <td>False</td>\n      <td>False</td>\n      <td>False</td>\n      <td>False</td>\n      <td>False</td>\n      <td>False</td>\n      <td>True</td>\n      <td>Club Brugge</td>\n      <td>Eupen</td>\n    </tr>\n    <tr>\n      <th>154096</th>\n      <td>302.0</td>\n      <td>2023-04-23</td>\n      <td>NaN</td>\n      <td>NaN</td>\n      <td>0</td>\n      <td>NaN</td>\n      <td>NaN</td>\n      <td>0</td>\n      <td>NaN</td>\n      <td>NaN</td>\n      <td>...</td>\n      <td>False</td>\n      <td>False</td>\n      <td>False</td>\n      <td>False</td>\n      <td>False</td>\n      <td>False</td>\n      <td>False</td>\n      <td>True</td>\n      <td>Gent</td>\n      <td>Oostende</td>\n    </tr>\n    <tr>\n      <th>154097</th>\n      <td>303.0</td>\n      <td>2023-04-23</td>\n      <td>NaN</td>\n      <td>NaN</td>\n      <td>0</td>\n      <td>NaN</td>\n      <td>NaN</td>\n      <td>0</td>\n      <td>NaN</td>\n      <td>NaN</td>\n      <td>...</td>\n      <td>False</td>\n      <td>True</td>\n      <td>False</td>\n      <td>False</td>\n      <td>False</td>\n      <td>False</td>\n      <td>False</td>\n      <td>True</td>\n      <td>Kortrijk</td>\n      <td>St. Gilloise</td>\n    </tr>\n    <tr>\n      <th>154098</th>\n      <td>304.0</td>\n      <td>2023-04-23</td>\n      <td>NaN</td>\n      <td>NaN</td>\n      <td>0</td>\n      <td>NaN</td>\n      <td>NaN</td>\n      <td>0</td>\n      <td>NaN</td>\n      <td>NaN</td>\n      <td>...</td>\n      <td>False</td>\n      <td>False</td>\n      <td>True</td>\n      <td>False</td>\n      <td>False</td>\n      <td>False</td>\n      <td>False</td>\n      <td>True</td>\n      <td>Oud-Heverlee Leuven</td>\n      <td>Standard</td>\n    </tr>\n    <tr>\n      <th>154099</th>\n      <td>305.0</td>\n      <td>2023-04-23</td>\n      <td>NaN</td>\n      <td>NaN</td>\n      <td>0</td>\n      <td>NaN</td>\n      <td>NaN</td>\n      <td>0</td>\n      <td>NaN</td>\n      <td>NaN</td>\n      <td>...</td>\n      <td>False</td>\n      <td>False</td>\n      <td>False</td>\n      <td>False</td>\n      <td>False</td>\n      <td>False</td>\n      <td>False</td>\n      <td>True</td>\n      <td>Waregem</td>\n      <td>Cercle Brugge</td>\n    </tr>\n  </tbody>\n</table>\n<p>6098 rows × 244 columns</p>\n</div>"
     },
     "metadata": {},
     "output_type": "display_data"
    },
    {
     "name": "stdout",
     "output_type": "stream",
     "text": [
      "0\n",
      "1000\n",
      "2000\n",
      "3000\n",
      "4000\n",
      "5000\n",
      "6000\n",
      "done df_belgium\n"
     ]
    }
   ],
   "source": [
    "for country in dfs:\n",
    "    display(dfs[country])\n",
    "    dfs[country] = get_goals_stats(dfs[country])\n",
    "    # don't get scared if you get \"only\" belgium done, england takes *LONG* (10 min), rest is faster \n",
    "    print(f\"done {country}\")\n",
    "    # break ## UNCOMMENT THIS LINE IF TESTING"
   ],
   "metadata": {
    "collapsed": false
   },
   "id": "5f5bb940d58faa68"
  },
  {
   "cell_type": "markdown",
   "source": [
    "### Add scored/received ratio for each team\n",
    "\n",
    "Problem with NaN and inf values for the first instances where teams have scored 0 or received 0 goals -> we could drop the first season maybe?"
   ],
   "metadata": {
    "collapsed": false
   },
   "id": "cd633a5ebb1865b0"
  },
  {
   "cell_type": "code",
   "execution_count": 87,
   "outputs": [],
   "source": [
    "for country in dfs: # this will need fix for season 22? \n",
    "    cnt = dfs[country]\n",
    "    cnt[\"HomeTeamScoredRatio\"] = cnt[\"HomeTeamAvgScored\"]/(cnt[\"HomeTeamAvgReceived\"] + cnt[\"HomeTeamAvgScored\"])\n",
    "    cnt[\"AwayTeamScoredRatio\"] = cnt[\"AwayTeamAvgScored\"]/(cnt[\"AwayTeamAvgReceived\"] + cnt[\"AwayTeamAvgScored\"])"
   ],
   "metadata": {
    "collapsed": false,
    "ExecuteTime": {
     "end_time": "2024-01-07T19:48:02.202011800Z",
     "start_time": "2024-01-07T19:48:02.158999Z"
    }
   },
   "id": "5d347800c9a4fe39"
  },
  {
   "cell_type": "code",
   "execution_count": 88,
   "outputs": [],
   "source": [
    "blg = dfs[\"df_belgium\"]"
   ],
   "metadata": {
    "collapsed": false,
    "ExecuteTime": {
     "end_time": "2024-01-07T19:48:04.094992600Z",
     "start_time": "2024-01-07T19:48:04.080119700Z"
    }
   },
   "id": "c75349163754345e"
  },
  {
   "cell_type": "code",
   "execution_count": 89,
   "outputs": [
    {
     "data": {
      "text/plain": "      Unnamed: 0       Date  FTHG  FTAG FTR  HTHG  HTAG HTR   GBH   GBD  ...  \\\n926        214.0 2002-04-06   1.0   1.0   D   1.0   0.0   H  1.96  3.20  ...   \n1176       171.0 2002-12-07   1.0   2.0   A   1.0   1.0   D  1.70  3.45  ...   \n1598       210.0 2003-05-10   2.0   1.0   H   0.0   0.0   D  1.90  3.40  ...   \n1966       171.0 2000-08-12   2.0   1.0   H   1.0   0.0   H  1.41  4.10  ...   \n2667         8.0 2003-08-16   2.0   1.0   H   1.0   0.0   H  2.00  3.20  ...   \n3614       253.0 2000-12-20   1.0   3.0   A   1.0   1.0   D  2.30  3.30  ...   \n4440        77.0 2001-11-24   2.0   1.0   H   0.0   0.0   D  1.85  3.30  ...   \n4471       168.0 2004-01-25   2.0   1.0   H   0.0   0.0   D  1.60  3.40  ...   \n5852        60.0 2022-09-04   NaN   NaN   0   NaN   NaN   0   NaN   NaN  ...   \n5953       161.0 2022-12-27   NaN   NaN   0   NaN   NaN   0   NaN   NaN  ...   \n\n      HomeWinRatio  HomeLossRatio  HomeDrawRatio  AwayWinRatio  AwayLossRatio  \\\n926       0.422222       0.444444       0.133333      0.361111       0.375000   \n1176      0.457627       0.389831       0.152542      0.359551       0.359551   \n1598      0.330645       0.379032       0.290323      0.397590       0.409639   \n1966      0.339623       0.415094       0.245283      0.428571       0.387755   \n2667      0.407692       0.384615       0.207692      0.337963       0.407407   \n3614      0.400000       0.394444       0.205556      0.336770       0.408935   \n4440      0.314607       0.410112       0.275281      0.382883       0.400901   \n4471      0.318436       0.407821       0.273743      0.379464       0.401786   \n5852      0.377622       0.388112       0.234266      0.310000       0.480000   \n5953      0.326134       0.425486       0.248380      0.622059       0.182353   \n\n      AwayDrawRatio  HomeTeamAvgShotsOnTarget  AwayTeamAvgShotsOnTarget  \\\n926        0.263889                  4.977105                  4.770906   \n1176       0.280899                  4.787198                  4.700850   \n1598       0.192771                  4.657477                  4.846127   \n1966       0.183673                  4.620362                  4.854149   \n2667       0.254630                  4.799877                  4.625705   \n3614       0.254296                  4.695963                  4.749468   \n4440       0.216216                  4.672875                  4.654809   \n4471       0.218750                  4.675895                  4.650491   \n5852       0.210000                  4.695057                  4.688514   \n5953       0.195588                  4.688514                  4.695057   \n\n      HomeTeamScoredRatio  AwayTeamScoredRatio  \n926              0.466165             0.471698  \n1176             0.494048             0.471774  \n1598             0.466867             0.473029  \n1966             0.449883             0.489051  \n2667             0.489071             0.452542  \n3614             0.491089             0.458824  \n4440             0.450605             0.484751  \n4471             0.452357             0.484076  \n5852             0.482121             0.453569  \n5953             0.453569             0.482121  \n\n[10 rows x 255 columns]",
      "text/html": "<div>\n<style scoped>\n    .dataframe tbody tr th:only-of-type {\n        vertical-align: middle;\n    }\n\n    .dataframe tbody tr th {\n        vertical-align: top;\n    }\n\n    .dataframe thead th {\n        text-align: right;\n    }\n</style>\n<table border=\"1\" class=\"dataframe\">\n  <thead>\n    <tr style=\"text-align: right;\">\n      <th></th>\n      <th>Unnamed: 0</th>\n      <th>Date</th>\n      <th>FTHG</th>\n      <th>FTAG</th>\n      <th>FTR</th>\n      <th>HTHG</th>\n      <th>HTAG</th>\n      <th>HTR</th>\n      <th>GBH</th>\n      <th>GBD</th>\n      <th>...</th>\n      <th>HomeWinRatio</th>\n      <th>HomeLossRatio</th>\n      <th>HomeDrawRatio</th>\n      <th>AwayWinRatio</th>\n      <th>AwayLossRatio</th>\n      <th>AwayDrawRatio</th>\n      <th>HomeTeamAvgShotsOnTarget</th>\n      <th>AwayTeamAvgShotsOnTarget</th>\n      <th>HomeTeamScoredRatio</th>\n      <th>AwayTeamScoredRatio</th>\n    </tr>\n  </thead>\n  <tbody>\n    <tr>\n      <th>926</th>\n      <td>214.0</td>\n      <td>2002-04-06</td>\n      <td>1.0</td>\n      <td>1.0</td>\n      <td>D</td>\n      <td>1.0</td>\n      <td>0.0</td>\n      <td>H</td>\n      <td>1.96</td>\n      <td>3.20</td>\n      <td>...</td>\n      <td>0.422222</td>\n      <td>0.444444</td>\n      <td>0.133333</td>\n      <td>0.361111</td>\n      <td>0.375000</td>\n      <td>0.263889</td>\n      <td>4.977105</td>\n      <td>4.770906</td>\n      <td>0.466165</td>\n      <td>0.471698</td>\n    </tr>\n    <tr>\n      <th>1176</th>\n      <td>171.0</td>\n      <td>2002-12-07</td>\n      <td>1.0</td>\n      <td>2.0</td>\n      <td>A</td>\n      <td>1.0</td>\n      <td>1.0</td>\n      <td>D</td>\n      <td>1.70</td>\n      <td>3.45</td>\n      <td>...</td>\n      <td>0.457627</td>\n      <td>0.389831</td>\n      <td>0.152542</td>\n      <td>0.359551</td>\n      <td>0.359551</td>\n      <td>0.280899</td>\n      <td>4.787198</td>\n      <td>4.700850</td>\n      <td>0.494048</td>\n      <td>0.471774</td>\n    </tr>\n    <tr>\n      <th>1598</th>\n      <td>210.0</td>\n      <td>2003-05-10</td>\n      <td>2.0</td>\n      <td>1.0</td>\n      <td>H</td>\n      <td>0.0</td>\n      <td>0.0</td>\n      <td>D</td>\n      <td>1.90</td>\n      <td>3.40</td>\n      <td>...</td>\n      <td>0.330645</td>\n      <td>0.379032</td>\n      <td>0.290323</td>\n      <td>0.397590</td>\n      <td>0.409639</td>\n      <td>0.192771</td>\n      <td>4.657477</td>\n      <td>4.846127</td>\n      <td>0.466867</td>\n      <td>0.473029</td>\n    </tr>\n    <tr>\n      <th>1966</th>\n      <td>171.0</td>\n      <td>2000-08-12</td>\n      <td>2.0</td>\n      <td>1.0</td>\n      <td>H</td>\n      <td>1.0</td>\n      <td>0.0</td>\n      <td>H</td>\n      <td>1.41</td>\n      <td>4.10</td>\n      <td>...</td>\n      <td>0.339623</td>\n      <td>0.415094</td>\n      <td>0.245283</td>\n      <td>0.428571</td>\n      <td>0.387755</td>\n      <td>0.183673</td>\n      <td>4.620362</td>\n      <td>4.854149</td>\n      <td>0.449883</td>\n      <td>0.489051</td>\n    </tr>\n    <tr>\n      <th>2667</th>\n      <td>8.0</td>\n      <td>2003-08-16</td>\n      <td>2.0</td>\n      <td>1.0</td>\n      <td>H</td>\n      <td>1.0</td>\n      <td>0.0</td>\n      <td>H</td>\n      <td>2.00</td>\n      <td>3.20</td>\n      <td>...</td>\n      <td>0.407692</td>\n      <td>0.384615</td>\n      <td>0.207692</td>\n      <td>0.337963</td>\n      <td>0.407407</td>\n      <td>0.254630</td>\n      <td>4.799877</td>\n      <td>4.625705</td>\n      <td>0.489071</td>\n      <td>0.452542</td>\n    </tr>\n    <tr>\n      <th>3614</th>\n      <td>253.0</td>\n      <td>2000-12-20</td>\n      <td>1.0</td>\n      <td>3.0</td>\n      <td>A</td>\n      <td>1.0</td>\n      <td>1.0</td>\n      <td>D</td>\n      <td>2.30</td>\n      <td>3.30</td>\n      <td>...</td>\n      <td>0.400000</td>\n      <td>0.394444</td>\n      <td>0.205556</td>\n      <td>0.336770</td>\n      <td>0.408935</td>\n      <td>0.254296</td>\n      <td>4.695963</td>\n      <td>4.749468</td>\n      <td>0.491089</td>\n      <td>0.458824</td>\n    </tr>\n    <tr>\n      <th>4440</th>\n      <td>77.0</td>\n      <td>2001-11-24</td>\n      <td>2.0</td>\n      <td>1.0</td>\n      <td>H</td>\n      <td>0.0</td>\n      <td>0.0</td>\n      <td>D</td>\n      <td>1.85</td>\n      <td>3.30</td>\n      <td>...</td>\n      <td>0.314607</td>\n      <td>0.410112</td>\n      <td>0.275281</td>\n      <td>0.382883</td>\n      <td>0.400901</td>\n      <td>0.216216</td>\n      <td>4.672875</td>\n      <td>4.654809</td>\n      <td>0.450605</td>\n      <td>0.484751</td>\n    </tr>\n    <tr>\n      <th>4471</th>\n      <td>168.0</td>\n      <td>2004-01-25</td>\n      <td>2.0</td>\n      <td>1.0</td>\n      <td>H</td>\n      <td>0.0</td>\n      <td>0.0</td>\n      <td>D</td>\n      <td>1.60</td>\n      <td>3.40</td>\n      <td>...</td>\n      <td>0.318436</td>\n      <td>0.407821</td>\n      <td>0.273743</td>\n      <td>0.379464</td>\n      <td>0.401786</td>\n      <td>0.218750</td>\n      <td>4.675895</td>\n      <td>4.650491</td>\n      <td>0.452357</td>\n      <td>0.484076</td>\n    </tr>\n    <tr>\n      <th>5852</th>\n      <td>60.0</td>\n      <td>2022-09-04</td>\n      <td>NaN</td>\n      <td>NaN</td>\n      <td>0</td>\n      <td>NaN</td>\n      <td>NaN</td>\n      <td>0</td>\n      <td>NaN</td>\n      <td>NaN</td>\n      <td>...</td>\n      <td>0.377622</td>\n      <td>0.388112</td>\n      <td>0.234266</td>\n      <td>0.310000</td>\n      <td>0.480000</td>\n      <td>0.210000</td>\n      <td>4.695057</td>\n      <td>4.688514</td>\n      <td>0.482121</td>\n      <td>0.453569</td>\n    </tr>\n    <tr>\n      <th>5953</th>\n      <td>161.0</td>\n      <td>2022-12-27</td>\n      <td>NaN</td>\n      <td>NaN</td>\n      <td>0</td>\n      <td>NaN</td>\n      <td>NaN</td>\n      <td>0</td>\n      <td>NaN</td>\n      <td>NaN</td>\n      <td>...</td>\n      <td>0.326134</td>\n      <td>0.425486</td>\n      <td>0.248380</td>\n      <td>0.622059</td>\n      <td>0.182353</td>\n      <td>0.195588</td>\n      <td>4.688514</td>\n      <td>4.695057</td>\n      <td>0.453569</td>\n      <td>0.482121</td>\n    </tr>\n  </tbody>\n</table>\n<p>10 rows × 255 columns</p>\n</div>"
     },
     "execution_count": 89,
     "metadata": {},
     "output_type": "execute_result"
    }
   ],
   "source": [
    "blg[blg[\"MatchTeams\"] == \"Antwerp_Westerlo\"]"
   ],
   "metadata": {
    "collapsed": false,
    "ExecuteTime": {
     "end_time": "2024-01-07T19:48:06.161064600Z",
     "start_time": "2024-01-07T19:48:06.117469Z"
    }
   },
   "id": "a459d30460f7d176"
  },
  {
   "cell_type": "code",
   "execution_count": 90,
   "outputs": [],
   "source": [
    "dfs_copy = dfs"
   ],
   "metadata": {
    "collapsed": false,
    "ExecuteTime": {
     "end_time": "2024-01-07T19:48:29.122471600Z",
     "start_time": "2024-01-07T19:48:29.067667700Z"
    }
   },
   "id": "701e227ba5ce7433"
  },
  {
   "cell_type": "code",
   "execution_count": null,
   "outputs": [],
   "source": [
    "# check if all seasons got through\n",
    "blg[blg[\"season\"] == 22]"
   ],
   "metadata": {
    "collapsed": false,
    "ExecuteTime": {
     "start_time": "2024-01-07T19:11:49.140801800Z"
    }
   },
   "id": "c478ca1bd49e9485"
  },
  {
   "cell_type": "code",
   "execution_count": 91,
   "outputs": [],
   "source": [
    "df_turkey = dfs[\"df_turkey\"]\n",
    "\n",
    "# For HomeTeam_Gaziantep\n",
    "teams = [\"Hatayspor\", \"Gaziantep\"]\n",
    "\n",
    "for team in teams:\n",
    "    for location in [\"Home\", \"Away\"]:\n",
    "        home_col_prefix = f\"HomeTeam_{team}\" if location == \"Home\" else f\"AwayTeam_{team}\"\n",
    "\n",
    "        # For mean values\n",
    "        df_turkey.loc[(df_turkey[\"Avg_bookie_prediction\"].isna()) & (df_turkey[home_col_prefix]), f\"Avg_home_odds\"] = df_turkey[df_turkey[home_col_prefix]][\"Avg_home_odds\"].mean()\n",
    "        df_turkey.loc[(df_turkey[\"Avg_bookie_prediction\"].isna()) & (df_turkey[home_col_prefix]), f\"Avg_away_odds\"] = df_turkey[df_turkey[home_col_prefix]][\"Avg_away_odds\"].mean()\n",
    "        df_turkey.loc[(df_turkey[\"Avg_bookie_prediction\"].isna()) & (df_turkey[home_col_prefix]), f\"Avg_draw_odds\"] = pd.concat([df_turkey[df_turkey[home_col_prefix]], df_turkey[df_turkey[f\"HomeTeam_{team}\"]], df_turkey[df_turkey[f\"AwayTeam_{team}\"]]])[\"Avg_draw_odds\"].mean()\n",
    "\n",
    "        # For Var values\n",
    "        df_turkey.loc[(df_turkey[\"Avg_bookie_prediction\"].isna()) & (df_turkey[home_col_prefix]), f\"Var_home_odds\"] = df_turkey[df_turkey[home_col_prefix]][\"Var_home_odds\"].mean()\n",
    "        df_turkey.loc[(df_turkey[\"Avg_bookie_prediction\"].isna()) & (df_turkey[home_col_prefix]), f\"Var_away_odds\"] = df_turkey[df_turkey[home_col_prefix]][\"Var_away_odds\"].mean()\n",
    "        df_turkey.loc[(df_turkey[\"Avg_bookie_prediction\"].isna()) & (df_turkey[home_col_prefix]), f\"Var_draw_odds\"] = pd.concat([df_turkey[df_turkey[home_col_prefix]], df_turkey[df_turkey[f\"HomeTeam_{team}\"]], df_turkey[df_turkey[f\"AwayTeam_{team}\"]]])[\"Var_draw_odds\"].mean()\n",
    "\n",
    "\n",
    "teams = [\"Bradford\", \"Mansfield\"]\n",
    "df_england = dfs[\"df_england\"]\n",
    "\n",
    "for team in teams:\n",
    "    for location in [\"Home\", \"Away\"]:\n",
    "        home_col_prefix = f\"HomeTeam_{team}\" if location == \"Home\" else f\"AwayTeam_{team}\"\n",
    "\n",
    "        # For mean values\n",
    "        df_england.loc[(df_england[\"Avg_bookie_prediction\"].isna()) & (df_england[home_col_prefix]), f\"Avg_home_odds\"] = df_england[df_england[home_col_prefix]][\"Avg_home_odds\"].mean()\n",
    "        df_england.loc[(df_england[\"Avg_bookie_prediction\"].isna()) & (df_england[home_col_prefix]), f\"Avg_away_odds\"] = df_england[df_england[home_col_prefix]][\"Avg_away_odds\"].mean()\n",
    "        df_england.loc[(df_england[\"Avg_bookie_prediction\"].isna()) & (df_england[home_col_prefix]), f\"Avg_draw_odds\"] = pd.concat([df_england[df_england[home_col_prefix]], df_england[df_england[f\"HomeTeam_{team}\"]], df_england[df_england[f\"AwayTeam_{team}\"]]])[\"Avg_draw_odds\"].mean()\n",
    "\n",
    "        # For Var values\n",
    "        df_england.loc[(df_england[\"Avg_bookie_prediction\"].isna()) & (df_england[home_col_prefix]), f\"Var_home_odds\"] = df_england[df_england[home_col_prefix]][\"Var_home_odds\"].mean()\n",
    "        df_england.loc[(df_england[\"Avg_bookie_prediction\"].isna()) & (df_england[home_col_prefix]), f\"Var_away_odds\"] = df_england[df_england[home_col_prefix]][\"Var_away_odds\"].mean()\n",
    "        df_england.loc[(df_england[\"Avg_bookie_prediction\"].isna()) & (df_england[home_col_prefix]), f\"Var_draw_odds\"] = pd.concat([df_england[df_england[home_col_prefix]], df_england[df_england[f\"HomeTeam_{team}\"]], df_england[df_england[f\"AwayTeam_{team}\"]]])[\"Var_draw_odds\"].mean()\n",
    "\n",
    "\n",
    "\n",
    "df_england[\"Avg_bookie_prediction\"] = df_england[[\"Avg_away_odds\", \"Avg_home_odds\", \"Avg_draw_odds\"]].idxmin(axis=1).fillna(\"\").astype(str).str[4]\n",
    "df_england[\"Avg_bookie_prediction\"] = df_england[\"Avg_bookie_prediction\"].str.upper()\n",
    "\n",
    "df_turkey[\"Avg_bookie_prediction\"] = df_turkey[[\"Avg_away_odds\", \"Avg_home_odds\", \"Avg_draw_odds\"]].idxmin(axis=1).fillna(\"\").astype(str).str[4]\n",
    "df_turkey[\"Avg_bookie_prediction\"] = df_turkey[\"Avg_bookie_prediction\"].str.upper()\n",
    "\n",
    "dfs[\"df_england\"] = df_england\n",
    "dfs[\"df_turkey\"] = df_turkey"
   ],
   "metadata": {
    "collapsed": false,
    "ExecuteTime": {
     "end_time": "2024-01-07T19:48:32.921585500Z",
     "start_time": "2024-01-07T19:48:32.647893Z"
    }
   },
   "id": "657a42a9dfe08dd8"
  },
  {
   "cell_type": "code",
   "execution_count": 92,
   "outputs": [
    {
     "data": {
      "text/plain": "Series([], Name: Avg_home_odds, dtype: float64)"
     },
     "execution_count": 92,
     "metadata": {},
     "output_type": "execute_result"
    }
   ],
   "source": [
    "df_turkey[(df_turkey[\"Avg_bookie_prediction\"].isna()) & (df_turkey[\"HomeTeam_Gaziantep\"])][\"Avg_home_odds\"]"
   ],
   "metadata": {
    "collapsed": false,
    "ExecuteTime": {
     "end_time": "2024-01-07T19:48:36.135085900Z",
     "start_time": "2024-01-07T19:48:36.127574Z"
    }
   },
   "id": "28eb23b851c5103"
  },
  {
   "cell_type": "code",
   "execution_count": 93,
   "outputs": [
    {
     "data": {
      "text/plain": "2.650449735449736"
     },
     "execution_count": 93,
     "metadata": {},
     "output_type": "execute_result"
    }
   ],
   "source": [
    "df_turkey[df_turkey[\"HomeTeam_Gaziantep\"]][\"Avg_home_odds\"].mean()"
   ],
   "metadata": {
    "collapsed": false,
    "ExecuteTime": {
     "end_time": "2024-01-07T19:48:39.169629800Z",
     "start_time": "2024-01-07T19:48:39.105705300Z"
    }
   },
   "id": "b4d8191a08a8763e"
  },
  {
   "cell_type": "code",
   "execution_count": null,
   "outputs": [],
   "source": [
    "display(df_turkey[df_turkey[\"Avg_away_odds\"].isna()])"
   ],
   "metadata": {
    "collapsed": false,
    "ExecuteTime": {
     "start_time": "2024-01-07T19:11:49.146835Z"
    }
   },
   "id": "708c82997e79818f"
  },
  {
   "cell_type": "code",
   "execution_count": null,
   "outputs": [],
   "source": [
    "dfs_copy = dfs"
   ],
   "metadata": {
    "collapsed": false,
    "ExecuteTime": {
     "start_time": "2024-01-07T19:11:49.148362400Z"
    }
   },
   "id": "873463a4d9a8c92e"
  },
  {
   "cell_type": "markdown",
   "source": [
    "### Drop unnecessary columns"
   ],
   "metadata": {
    "collapsed": false
   },
   "id": "c69bf7be15c86bd5"
  },
  {
   "cell_type": "code",
   "execution_count": 94,
   "outputs": [],
   "source": [
    "combined_labels = [\n",
    "    \"HS\", \"AS\", \"HST\", \"AST\", \"HHW\", \"AHW\",\n",
    "    \"HC\", \"AC\", \"HF\", \"AF\", \"HFKC\", \"AFKC\",\n",
    "    \"HO\", \"AO\", \"HY\", \"AY\", \"HR\", \"AR\",\n",
    "    \"HBP\", \"ABP\",\n",
    "    \"B365H\", \"B365D\", \"B365A\",\n",
    "    \"BSH\", \"BSD\", \"BSA\",\n",
    "    \"BWH\", \"BWD\", \"BWA\",\n",
    "    \"GBH\", \"GBD\", \"GBA\",\n",
    "    \"IWH\", \"IWD\", \"IWA\",\n",
    "    \"LBH\", \"LBD\", \"LBA\",\n",
    "    \"PSH\", \"PSD\", \"PSA\",\n",
    "    \"SOH\", \"SOD\", \"SOA\",\n",
    "    \"SBH\", \"SBD\", \"SBA\",\n",
    "    \"SJH\", \"SJD\", \"SJA\",\n",
    "    \"SYH\", \"SYD\", \"SYA\",\n",
    "    \"VCH\", \"VCD\", \"VCA\",\n",
    "    \"WHH\", \"WHD\", \"WHA\",\n",
    "    \"Bb1X2\", \"BbMxH\", \"BbAvH\", \"BbMxD\", \"BbAvD\", \"BbMxA\", \"BbAvA\",\n",
    "    \"MaxH\", \"MaxD\", \"MaxA\", \"AvgH\", \"AvgD\", \"AvgA\",\n",
    "    \"BbOU\", \"BbMx>2.5\", \"BbAv>2.5\", \"BbMx<2.5\", \"BbAv<2.5\",\n",
    "    \"GB>2.5\", \"GB<2.5\", \"B365>2.5\", \"B365<2.5\", \"P>2.5\", \"P<2.5\",\n",
    "    \"Max>2.5\", \"Max<2.5\", \"Avg>2.5\", \"Avg<2.5\",\n",
    "    \"BbAH\", \"BbAHh\", \"AHh\", \"BbMxAHH\", \"BbAvAHH\", \"BbMxAHA\", \"BbAvAHA\",\n",
    "    \"GBAHH\", \"GBAHA\", \"GBAH\", \"LBAHH\", \"LBAHA\", \"LBAH\",\n",
    "    \"B365AHH\", \"B365AHA\", \"B365AH\", \"PAHH\", \"PAHA\",\n",
    "    \"MaxAHH\", \"MaxAHA\", \"AvgAHH\", \"AvgAHA\", \"Unnamed: 0\", \"HTHG\", \"FTR\", \"HTHG\", \"HTAG\", \"HTR\", \"Index\", \"country\",\n",
    "    \"PSCH\", \"PSCD\", \"PSCA\", \"B365CH\", \"B365CD\", \"B365CA\",\n",
    "    \"BWCH\", \"BWCD\", \"BWCA\", \"IWCH\", \"IWCD\", \"IWCA\", \"WHCH\", \"WHCD\",\n",
    "    \"WHCA\", \"VCCH\", \"VCCD\", \"VCCA\", \"MaxCH\", \"MaxCD\", \"MaxCA\", \"AvgCH\",\n",
    "    \"AvgCD\", \"AvgCA\", \"B365C>2.5\", \"B365C<2.5\", \"PC>2.5\", \"PC<2.5\",\n",
    "    \"MaxC>2.5\", \"MaxC<2.5\", \"AvgC>2.5\", \"AvgC<2.5\", \"AHCh\", \"B365CAHH\",\n",
    "    \"B365CAHA\", \"PCAHH\", \"PCAHA\", \"MaxCAHH\", \"MaxCAHA\", \"AvgCAHH\", \"AvgCAHA\", \"Attendance\"\n",
    "]"
   ],
   "metadata": {
    "collapsed": false,
    "ExecuteTime": {
     "end_time": "2024-01-07T19:48:48.366614800Z",
     "start_time": "2024-01-07T19:48:48.332040400Z"
    }
   },
   "id": "dc7351b4b5b40e52"
  },
  {
   "cell_type": "code",
   "execution_count": 95,
   "outputs": [
    {
     "name": "stdout",
     "output_type": "stream",
     "text": [
      "done df_england\n",
      "done df_scotland\n",
      "done df_netherlands\n",
      "done df_germany\n",
      "done df_turkey\n",
      "done df_italy\n",
      "done df_portugal\n",
      "done df_greece\n",
      "done df_france\n",
      "done df_spain\n",
      "done df_belgium\n"
     ]
    }
   ],
   "source": [
    "for country in dfs:\n",
    "    for col in combined_labels:\n",
    "        dfs[country].drop(col,axis=1, inplace=True, errors='ignore')\n",
    "    dfs[country][\"Target_regr\"] = dfs[country][\"FTHG\"] + dfs[country][\"FTAG\"]\n",
    "    dfs[country]['Target_clas'] = [0 if a > h else 1 if h > a else -1 for a, h in zip(dfs[country]['FTAG'], dfs[country]['FTHG'])]\n",
    "    dfs[country] = dfs[country][dfs[country][\"season\"] != 0]\n",
    "    dfs[country] = pd.get_dummies(dfs[country] , columns=['Avg_bookie_prediction'], prefix='Bookie_Prediction')\n",
    "\n",
    "    print(f\"done {country}\")"
   ],
   "metadata": {
    "collapsed": false,
    "ExecuteTime": {
     "end_time": "2024-01-07T19:49:02.117803400Z",
     "start_time": "2024-01-07T19:48:51.686049Z"
    }
   },
   "id": "c8f894d197f23716"
  },
  {
   "cell_type": "code",
   "execution_count": null,
   "outputs": [],
   "source": [
    "dfs[country]"
   ],
   "metadata": {
    "collapsed": false,
    "ExecuteTime": {
     "start_time": "2024-01-07T19:11:49.151452500Z"
    }
   },
   "id": "a421cdbe5ddf60dc"
  },
  {
   "cell_type": "markdown",
   "source": [
    "# Export Dataset as .csv file"
   ],
   "metadata": {
    "collapsed": false
   },
   "id": "6ca8c6e9e8aa759e"
  },
  {
   "cell_type": "markdown",
   "source": [],
   "metadata": {
    "collapsed": false
   },
   "id": "d169ef4151ac073d"
  },
  {
   "cell_type": "code",
   "execution_count": 96,
   "outputs": [],
   "source": [
    "for country in dfs:\n",
    "    dfs[country][dfs[country][\"season\"] != 22].to_csv(f\"data/train_preprocessed/{country}.csv\")\n",
    "    dfs[country][dfs[country][\"season\"] == 22].to_csv(f\"data/test_preprocessed/{country}.csv\")"
   ],
   "metadata": {
    "collapsed": false,
    "ExecuteTime": {
     "end_time": "2024-01-07T19:49:16.910282800Z",
     "start_time": "2024-01-07T19:49:06.173994200Z"
    }
   },
   "id": "7515491c70f17e4c"
  }
 ],
 "metadata": {
  "kernelspec": {
   "display_name": "Python 3",
   "language": "python",
   "name": "python3"
  },
  "language_info": {
   "codemirror_mode": {
    "name": "ipython",
    "version": 3
   },
   "file_extension": ".py",
   "mimetype": "text/x-python",
   "name": "python",
   "nbconvert_exporter": "python",
   "pygments_lexer": "ipython3",
   "version": "3.11.4"
  }
 },
 "nbformat": 4,
 "nbformat_minor": 5
}
