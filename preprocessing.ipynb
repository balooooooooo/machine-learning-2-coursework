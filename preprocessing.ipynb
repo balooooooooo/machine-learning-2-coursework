{
 "cells": [
  {
   "cell_type": "code",
   "execution_count": 46,
   "id": "initial_id",
   "metadata": {
    "collapsed": true,
    "ExecuteTime": {
     "end_time": "2023-11-03T14:36:03.992301200Z",
     "start_time": "2023-11-03T14:36:03.986398100Z"
    }
   },
   "outputs": [],
   "source": [
    "import pandas as pd\n",
    "import numpy as np\n",
    "import os as os"
   ]
  },
  {
   "cell_type": "code",
   "execution_count": 71,
   "outputs": [],
   "source": [
    "def join_csvs():\n",
    "    df = pd.DataFrame()\n",
    "    for root, directory, files in os.walk(\"data/train\", topdown=False):\n",
    "        if files:\n",
    "            for file in files:\n",
    "                tmp = pd.read_csv(f\"{root}/{file}\")\n",
    "                country = [root.split(\"\\\\\")[1] for _ in range(tmp.shape[0])]\n",
    "                league = [root.split(\"\\\\\")[2] for _ in range(tmp.shape[0])]\n",
    "                tmp[\"league\"] = league\n",
    "                tmp[\"country\"] = country\n",
    "                df = pd.concat([df, tmp], axis = 0)\n",
    "    df.to_csv(\"data.csv\")"
   ],
   "metadata": {
    "collapsed": false,
    "ExecuteTime": {
     "end_time": "2023-11-03T14:58:55.578115300Z",
     "start_time": "2023-11-03T14:58:55.562224300Z"
    }
   },
   "id": "64ab231c00a3a93c"
  },
  {
   "cell_type": "code",
   "execution_count": 72,
   "outputs": [],
   "source": [
    "join_csvs()"
   ],
   "metadata": {
    "collapsed": false,
    "ExecuteTime": {
     "end_time": "2023-11-03T14:59:55.786642Z",
     "start_time": "2023-11-03T14:58:57.527331100Z"
    }
   },
   "id": "881fd64fbd3e6f2c"
  }
 ],
 "metadata": {
  "kernelspec": {
   "display_name": "Python 3",
   "language": "python",
   "name": "python3"
  },
  "language_info": {
   "codemirror_mode": {
    "name": "ipython",
    "version": 2
   },
   "file_extension": ".py",
   "mimetype": "text/x-python",
   "name": "python",
   "nbconvert_exporter": "python",
   "pygments_lexer": "ipython2",
   "version": "2.7.6"
  }
 },
 "nbformat": 4,
 "nbformat_minor": 5
}
