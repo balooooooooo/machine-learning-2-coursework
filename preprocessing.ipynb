{
 "cells": [
  {
   "cell_type": "markdown",
   "id": "2714e0ed",
   "metadata": {},
   "source": [
    "# Libraries"
   ]
  },
  {
   "cell_type": "code",
   "execution_count": 1,
   "id": "initial_id",
   "metadata": {
    "collapsed": true,
    "ExecuteTime": {
     "end_time": "2023-11-14T17:19:55.414043200Z",
     "start_time": "2023-11-14T17:19:54.262005100Z"
    }
   },
   "outputs": [],
   "source": [
    "import pandas as pd\n",
    "import numpy as np\n",
    "import os as os\n",
    "import sys\n",
    "import matplotlib.pyplot as plt\n",
    "import shutup"
   ]
  },
  {
   "cell_type": "markdown",
   "id": "b0eaf693b8e5b699",
   "metadata": {
    "collapsed": false
   },
   "source": [
    "# Load train data\n",
    "\n",
    "- iterate through train data folder \n",
    "- feature engineer the **country** and **league** from parent folder name\n",
    "- join the loaded csv files by rows"
   ]
  },
  {
   "cell_type": "code",
   "execution_count": 2,
   "id": "64ab231c00a3a93c",
   "metadata": {
    "collapsed": false,
    "ExecuteTime": {
     "end_time": "2023-11-14T17:20:18.280803Z",
     "start_time": "2023-11-14T17:19:55.411028900Z"
    }
   },
   "outputs": [
    {
     "data": {
      "text/plain": "  Div      Date   HomeTeam     AwayTeam  FTHG  FTAG FTR  HTHG  HTAG HTR  ...  \\\n0  B1  20/05/01   Mechelen       Lierse   1.0   1.0   D   1.0   1.0   D  ...   \n1  B1  17/09/00   Germinal  Club Brugge   2.0   3.0   A   0.0   1.0   A  ...   \n2  B1  14/10/00    Beveren     Standard   0.0   3.0   A   0.0   2.0   A  ...   \n3  B1  06/09/00    Lokeren     Mechelen   3.0   2.0   H   0.0   2.0   A  ...   \n4  B1  27/08/00  Charleroi      Antwerp   1.0   0.0   H   1.0   0.0   H  ...   \n\n   LBAHA  LBAH  LB  LB.1  LB.2   HT   AT  Unnamed: 32  Unnamed: 33  \\\n0    NaN   NaN NaN   NaN   NaN  NaN  NaN          NaN          NaN   \n1    NaN   NaN NaN   NaN   NaN  NaN  NaN          NaN          NaN   \n2    NaN   NaN NaN   NaN   NaN  NaN  NaN          NaN          NaN   \n3    NaN   NaN NaN   NaN   NaN  NaN  NaN          NaN          NaN   \n4    NaN   NaN NaN   NaN   NaN  NaN  NaN          NaN          NaN   \n\n   Unnamed: 34  \n0          NaN  \n1          NaN  \n2          NaN  \n3          NaN  \n4          NaN  \n\n[5 rows x 174 columns]",
      "text/html": "<div>\n<style scoped>\n    .dataframe tbody tr th:only-of-type {\n        vertical-align: middle;\n    }\n\n    .dataframe tbody tr th {\n        vertical-align: top;\n    }\n\n    .dataframe thead th {\n        text-align: right;\n    }\n</style>\n<table border=\"1\" class=\"dataframe\">\n  <thead>\n    <tr style=\"text-align: right;\">\n      <th></th>\n      <th>Div</th>\n      <th>Date</th>\n      <th>HomeTeam</th>\n      <th>AwayTeam</th>\n      <th>FTHG</th>\n      <th>FTAG</th>\n      <th>FTR</th>\n      <th>HTHG</th>\n      <th>HTAG</th>\n      <th>HTR</th>\n      <th>...</th>\n      <th>LBAHA</th>\n      <th>LBAH</th>\n      <th>LB</th>\n      <th>LB.1</th>\n      <th>LB.2</th>\n      <th>HT</th>\n      <th>AT</th>\n      <th>Unnamed: 32</th>\n      <th>Unnamed: 33</th>\n      <th>Unnamed: 34</th>\n    </tr>\n  </thead>\n  <tbody>\n    <tr>\n      <th>0</th>\n      <td>B1</td>\n      <td>20/05/01</td>\n      <td>Mechelen</td>\n      <td>Lierse</td>\n      <td>1.0</td>\n      <td>1.0</td>\n      <td>D</td>\n      <td>1.0</td>\n      <td>1.0</td>\n      <td>D</td>\n      <td>...</td>\n      <td>NaN</td>\n      <td>NaN</td>\n      <td>NaN</td>\n      <td>NaN</td>\n      <td>NaN</td>\n      <td>NaN</td>\n      <td>NaN</td>\n      <td>NaN</td>\n      <td>NaN</td>\n      <td>NaN</td>\n    </tr>\n    <tr>\n      <th>1</th>\n      <td>B1</td>\n      <td>17/09/00</td>\n      <td>Germinal</td>\n      <td>Club Brugge</td>\n      <td>2.0</td>\n      <td>3.0</td>\n      <td>A</td>\n      <td>0.0</td>\n      <td>1.0</td>\n      <td>A</td>\n      <td>...</td>\n      <td>NaN</td>\n      <td>NaN</td>\n      <td>NaN</td>\n      <td>NaN</td>\n      <td>NaN</td>\n      <td>NaN</td>\n      <td>NaN</td>\n      <td>NaN</td>\n      <td>NaN</td>\n      <td>NaN</td>\n    </tr>\n    <tr>\n      <th>2</th>\n      <td>B1</td>\n      <td>14/10/00</td>\n      <td>Beveren</td>\n      <td>Standard</td>\n      <td>0.0</td>\n      <td>3.0</td>\n      <td>A</td>\n      <td>0.0</td>\n      <td>2.0</td>\n      <td>A</td>\n      <td>...</td>\n      <td>NaN</td>\n      <td>NaN</td>\n      <td>NaN</td>\n      <td>NaN</td>\n      <td>NaN</td>\n      <td>NaN</td>\n      <td>NaN</td>\n      <td>NaN</td>\n      <td>NaN</td>\n      <td>NaN</td>\n    </tr>\n    <tr>\n      <th>3</th>\n      <td>B1</td>\n      <td>06/09/00</td>\n      <td>Lokeren</td>\n      <td>Mechelen</td>\n      <td>3.0</td>\n      <td>2.0</td>\n      <td>H</td>\n      <td>0.0</td>\n      <td>2.0</td>\n      <td>A</td>\n      <td>...</td>\n      <td>NaN</td>\n      <td>NaN</td>\n      <td>NaN</td>\n      <td>NaN</td>\n      <td>NaN</td>\n      <td>NaN</td>\n      <td>NaN</td>\n      <td>NaN</td>\n      <td>NaN</td>\n      <td>NaN</td>\n    </tr>\n    <tr>\n      <th>4</th>\n      <td>B1</td>\n      <td>27/08/00</td>\n      <td>Charleroi</td>\n      <td>Antwerp</td>\n      <td>1.0</td>\n      <td>0.0</td>\n      <td>H</td>\n      <td>1.0</td>\n      <td>0.0</td>\n      <td>H</td>\n      <td>...</td>\n      <td>NaN</td>\n      <td>NaN</td>\n      <td>NaN</td>\n      <td>NaN</td>\n      <td>NaN</td>\n      <td>NaN</td>\n      <td>NaN</td>\n      <td>NaN</td>\n      <td>NaN</td>\n      <td>NaN</td>\n    </tr>\n  </tbody>\n</table>\n<p>5 rows × 174 columns</p>\n</div>"
     },
     "execution_count": 2,
     "metadata": {},
     "output_type": "execute_result"
    }
   ],
   "source": [
    "df = pd.DataFrame()\n",
    "for root, directory, files in os.walk(\"data/train\", topdown=False):\n",
    "    if files:\n",
    "        for file in files:\n",
    "            tmp = pd.read_csv(f\"{root}/{file}\")\n",
    "            # Remove empty rows and columns\n",
    "            tmp = tmp.dropna(how='all', axis=0)\n",
    "            tmp = tmp.dropna(how='all', axis=1)\n",
    "            # Derive additional columns\n",
    "            tmp[\"league\"] = int(root.split(\"\\\\\")[2])\n",
    "            tmp[\"country\"] = root.split(\"\\\\\")[1]\n",
    "            tmp[\"season\"] = int(file[:2]) # no. of season - 00/01 - 0th season, 21/22 - 21st season\n",
    "            df = pd.concat([df, tmp], axis = 0)\n",
    "\n",
    "df.head()"
   ]
  },
  {
   "cell_type": "markdown",
   "id": "861bc86b",
   "metadata": {},
   "source": [
    "# Data validation\n",
    "\n",
    "In some cases, the data is wrong. This section correct the loaded data."
   ]
  },
  {
   "cell_type": "markdown",
   "metadata": {},
   "source": [
    "## Not imputable data\n",
    "\n",
    "In some cases, missing data cause the data to be unusable and can't be computed. This applies to variables\n",
    "\n",
    "- HomeTeam\n",
    "- AwayTeam"
   ],
   "id": "226a8a0d7973afc3"
  },
  {
   "cell_type": "code",
   "execution_count": 3,
   "metadata": {
    "ExecuteTime": {
     "end_time": "2023-11-14T17:20:18.429347800Z",
     "start_time": "2023-11-14T17:20:18.273294600Z"
    }
   },
   "outputs": [],
   "source": [
    "crucial_cols = ['Date', 'HomeTeam', 'AwayTeam']\n",
    "df = df.dropna(subset = crucial_cols)"
   ],
   "id": "f77b42e283336b88"
  },
  {
   "cell_type": "code",
   "execution_count": 4,
   "metadata": {
    "ExecuteTime": {
     "end_time": "2023-11-14T17:20:18.480948200Z",
     "start_time": "2023-11-14T17:20:18.428346700Z"
    }
   },
   "outputs": [
    {
     "data": {
      "text/plain": "              HFKC         AFKC\ncount  1306.000000  1306.000000\nmean     16.622511    17.283308\nstd       4.389023     4.734092\nmin       2.000000     2.000000\n25%      14.000000    14.000000\n50%      16.000000    17.000000\n75%      19.750000    20.000000\nmax      32.000000    34.000000",
      "text/html": "<div>\n<style scoped>\n    .dataframe tbody tr th:only-of-type {\n        vertical-align: middle;\n    }\n\n    .dataframe tbody tr th {\n        vertical-align: top;\n    }\n\n    .dataframe thead th {\n        text-align: right;\n    }\n</style>\n<table border=\"1\" class=\"dataframe\">\n  <thead>\n    <tr style=\"text-align: right;\">\n      <th></th>\n      <th>HFKC</th>\n      <th>AFKC</th>\n    </tr>\n  </thead>\n  <tbody>\n    <tr>\n      <th>count</th>\n      <td>1306.000000</td>\n      <td>1306.000000</td>\n    </tr>\n    <tr>\n      <th>mean</th>\n      <td>16.622511</td>\n      <td>17.283308</td>\n    </tr>\n    <tr>\n      <th>std</th>\n      <td>4.389023</td>\n      <td>4.734092</td>\n    </tr>\n    <tr>\n      <th>min</th>\n      <td>2.000000</td>\n      <td>2.000000</td>\n    </tr>\n    <tr>\n      <th>25%</th>\n      <td>14.000000</td>\n      <td>14.000000</td>\n    </tr>\n    <tr>\n      <th>50%</th>\n      <td>16.000000</td>\n      <td>17.000000</td>\n    </tr>\n    <tr>\n      <th>75%</th>\n      <td>19.750000</td>\n      <td>20.000000</td>\n    </tr>\n    <tr>\n      <th>max</th>\n      <td>32.000000</td>\n      <td>34.000000</td>\n    </tr>\n  </tbody>\n</table>\n</div>"
     },
     "execution_count": 4,
     "metadata": {},
     "output_type": "execute_result"
    }
   ],
   "source": [
    "df[[\"HFKC\", \"AFKC\"]].describe()"
   ],
   "id": "732f40399344462b"
  },
  {
   "cell_type": "markdown",
   "metadata": {},
   "source": [
    "## Goal validation\n",
    "\n",
    "Some goals are incorrect and they need to be fixed.\n",
    "\n"
   ],
   "id": "6d25790611d96fb9"
  },
  {
   "cell_type": "code",
   "execution_count": 5,
   "metadata": {
    "ExecuteTime": {
     "end_time": "2023-11-14T17:20:18.554076300Z",
     "start_time": "2023-11-14T17:20:18.461418800Z"
    }
   },
   "outputs": [
    {
     "data": {
      "text/plain": "                FTHG           FTAG           HTHG           HTAG\ncount  153476.000000  153458.000000  153426.000000  153433.000000\nmean        2.221813       1.131671       0.655032       0.494333\nstd        21.960074       1.109022       0.808892       0.708273\nmin         0.000000      -1.000000       0.000000       0.000000\n25%         1.000000       0.000000       0.000000       0.000000\n50%         1.000000       1.000000       0.000000       0.000000\n75%         2.000000       2.000000       1.000000       1.000000\nmax       998.000000      13.000000       7.000000       6.000000",
      "text/html": "<div>\n<style scoped>\n    .dataframe tbody tr th:only-of-type {\n        vertical-align: middle;\n    }\n\n    .dataframe tbody tr th {\n        vertical-align: top;\n    }\n\n    .dataframe thead th {\n        text-align: right;\n    }\n</style>\n<table border=\"1\" class=\"dataframe\">\n  <thead>\n    <tr style=\"text-align: right;\">\n      <th></th>\n      <th>FTHG</th>\n      <th>FTAG</th>\n      <th>HTHG</th>\n      <th>HTAG</th>\n    </tr>\n  </thead>\n  <tbody>\n    <tr>\n      <th>count</th>\n      <td>153476.000000</td>\n      <td>153458.000000</td>\n      <td>153426.000000</td>\n      <td>153433.000000</td>\n    </tr>\n    <tr>\n      <th>mean</th>\n      <td>2.221813</td>\n      <td>1.131671</td>\n      <td>0.655032</td>\n      <td>0.494333</td>\n    </tr>\n    <tr>\n      <th>std</th>\n      <td>21.960074</td>\n      <td>1.109022</td>\n      <td>0.808892</td>\n      <td>0.708273</td>\n    </tr>\n    <tr>\n      <th>min</th>\n      <td>0.000000</td>\n      <td>-1.000000</td>\n      <td>0.000000</td>\n      <td>0.000000</td>\n    </tr>\n    <tr>\n      <th>25%</th>\n      <td>1.000000</td>\n      <td>0.000000</td>\n      <td>0.000000</td>\n      <td>0.000000</td>\n    </tr>\n    <tr>\n      <th>50%</th>\n      <td>1.000000</td>\n      <td>1.000000</td>\n      <td>0.000000</td>\n      <td>0.000000</td>\n    </tr>\n    <tr>\n      <th>75%</th>\n      <td>2.000000</td>\n      <td>2.000000</td>\n      <td>1.000000</td>\n      <td>1.000000</td>\n    </tr>\n    <tr>\n      <th>max</th>\n      <td>998.000000</td>\n      <td>13.000000</td>\n      <td>7.000000</td>\n      <td>6.000000</td>\n    </tr>\n  </tbody>\n</table>\n</div>"
     },
     "execution_count": 5,
     "metadata": {},
     "output_type": "execute_result"
    }
   ],
   "source": [
    "goal_cols = [\"FTHG\", \"FTAG\", \"HTHG\", \"HTAG\"]\n",
    "df[goal_cols].describe()"
   ],
   "id": "775e811c8d7784b"
  },
  {
   "cell_type": "markdown",
   "metadata": {},
   "source": [
    "There seems to be several issues:\n",
    "\n",
    "- the max value for **FTHG** is absurd\n",
    "- the min value for **FTAG** does not make sense\n",
    "- some values are missing"
   ],
   "id": "49e386d46f65c71b"
  },
  {
   "cell_type": "code",
   "execution_count": 6,
   "metadata": {
    "ExecuteTime": {
     "end_time": "2023-11-14T17:20:18.554076300Z",
     "start_time": "2023-11-14T17:20:18.510100100Z"
    }
   },
   "outputs": [
    {
     "data": {
      "text/plain": "FTHG\n1.0      51309\n2.0      37397\n0.0      35796\n3.0      18313\n4.0       7154\n5.0       2325\n6.0        741\n7.0        182\n8.0         41\n9.0         14\n10.0         5\n339.0        5\nName: count, dtype: int64"
     },
     "execution_count": 6,
     "metadata": {},
     "output_type": "execute_result"
    }
   ],
   "source": [
    "df[\"FTHG\"].value_counts().head(12)"
   ],
   "id": "a8aa0767674c3394"
  },
  {
   "cell_type": "markdown",
   "metadata": {},
   "source": [
    "First, we will remove all rows where the Full Time Home Goals are greater than 10."
   ],
   "id": "2e92b30b460e06bb"
  },
  {
   "cell_type": "code",
   "execution_count": 7,
   "metadata": {
    "ExecuteTime": {
     "end_time": "2023-11-14T17:20:18.674999200Z",
     "start_time": "2023-11-14T17:20:18.522118100Z"
    }
   },
   "outputs": [],
   "source": [
    "df = df[df[\"FTHG\"] <= 10]"
   ],
   "id": "da3ad2beef1659cd"
  },
  {
   "cell_type": "markdown",
   "metadata": {},
   "source": [
    "Next, all Full Time Away goals that are less than zero are inspected. Since we are not sure which values are good and bad, all of them are removed."
   ],
   "id": "97b0ffe740656dc6"
  },
  {
   "cell_type": "code",
   "execution_count": 8,
   "metadata": {
    "ExecuteTime": {
     "end_time": "2023-11-14T17:20:18.801001800Z",
     "start_time": "2023-11-14T17:20:18.662455300Z"
    }
   },
   "outputs": [],
   "source": [
    "df = df[df[\"FTAG\"] >= 0]"
   ],
   "id": "c34743041a81b73b"
  },
  {
   "cell_type": "markdown",
   "metadata": {},
   "source": [
    "What's left are the missing values. We have no way of recomputing these as well and these rows are again excluded."
   ],
   "id": "cd01849fd00b63f9"
  },
  {
   "cell_type": "code",
   "execution_count": 9,
   "metadata": {
    "ExecuteTime": {
     "end_time": "2023-11-14T17:20:18.959105200Z",
     "start_time": "2023-11-14T17:20:18.801001800Z"
    }
   },
   "outputs": [],
   "source": [
    "df = df[df[goal_cols].isna().sum(axis=1) == 0]"
   ],
   "id": "cdf84d39956eadc6"
  },
  {
   "cell_type": "markdown",
   "metadata": {},
   "source": [
    "If we run the describe() function again, we can see that the counts are the same and min/max statistics make sense."
   ],
   "id": "3bfc7f7e2d7f23d5"
  },
  {
   "cell_type": "code",
   "execution_count": 10,
   "metadata": {
    "ExecuteTime": {
     "end_time": "2023-11-14T17:20:19.007998600Z",
     "start_time": "2023-11-14T17:20:18.957103700Z"
    }
   },
   "outputs": [
    {
     "data": {
      "text/plain": "                FTHG           FTAG           HTHG           HTAG\ncount  152796.000000  152796.000000  152796.000000  152796.000000\nmean        1.484699       1.134284       0.655096       0.494496\nstd         1.252576       1.107143       0.808871       0.708516\nmin         0.000000       0.000000       0.000000       0.000000\n25%         1.000000       0.000000       0.000000       0.000000\n50%         1.000000       1.000000       0.000000       0.000000\n75%         2.000000       2.000000       1.000000       1.000000\nmax        10.000000      13.000000       7.000000       6.000000",
      "text/html": "<div>\n<style scoped>\n    .dataframe tbody tr th:only-of-type {\n        vertical-align: middle;\n    }\n\n    .dataframe tbody tr th {\n        vertical-align: top;\n    }\n\n    .dataframe thead th {\n        text-align: right;\n    }\n</style>\n<table border=\"1\" class=\"dataframe\">\n  <thead>\n    <tr style=\"text-align: right;\">\n      <th></th>\n      <th>FTHG</th>\n      <th>FTAG</th>\n      <th>HTHG</th>\n      <th>HTAG</th>\n    </tr>\n  </thead>\n  <tbody>\n    <tr>\n      <th>count</th>\n      <td>152796.000000</td>\n      <td>152796.000000</td>\n      <td>152796.000000</td>\n      <td>152796.000000</td>\n    </tr>\n    <tr>\n      <th>mean</th>\n      <td>1.484699</td>\n      <td>1.134284</td>\n      <td>0.655096</td>\n      <td>0.494496</td>\n    </tr>\n    <tr>\n      <th>std</th>\n      <td>1.252576</td>\n      <td>1.107143</td>\n      <td>0.808871</td>\n      <td>0.708516</td>\n    </tr>\n    <tr>\n      <th>min</th>\n      <td>0.000000</td>\n      <td>0.000000</td>\n      <td>0.000000</td>\n      <td>0.000000</td>\n    </tr>\n    <tr>\n      <th>25%</th>\n      <td>1.000000</td>\n      <td>0.000000</td>\n      <td>0.000000</td>\n      <td>0.000000</td>\n    </tr>\n    <tr>\n      <th>50%</th>\n      <td>1.000000</td>\n      <td>1.000000</td>\n      <td>0.000000</td>\n      <td>0.000000</td>\n    </tr>\n    <tr>\n      <th>75%</th>\n      <td>2.000000</td>\n      <td>2.000000</td>\n      <td>1.000000</td>\n      <td>1.000000</td>\n    </tr>\n    <tr>\n      <th>max</th>\n      <td>10.000000</td>\n      <td>13.000000</td>\n      <td>7.000000</td>\n      <td>6.000000</td>\n    </tr>\n  </tbody>\n</table>\n</div>"
     },
     "execution_count": 10,
     "metadata": {},
     "output_type": "execute_result"
    }
   ],
   "source": [
    "df[goal_cols].describe()"
   ],
   "id": "d766cee93635a417"
  },
  {
   "cell_type": "markdown",
   "metadata": {},
   "source": [
    "## Result validation\n",
    "\n",
    "Another thing that needs to be validated is the result classification, which are re-classified - this is the easiest data validation process."
   ],
   "id": "8483080ed972a444"
  },
  {
   "cell_type": "code",
   "execution_count": 11,
   "metadata": {
    "ExecuteTime": {
     "end_time": "2023-11-14T17:20:19.061546500Z",
     "start_time": "2023-11-14T17:20:19.001994500Z"
    }
   },
   "outputs": [],
   "source": [
    "half_conds = [df[\"HTHG\"] > df[\"HTAG\"], df[\"HTHG\"] < df[\"HTAG\"], df[\"HTHG\"] == df[\"HTAG\"]]\n",
    "half_choic = [\"H\"                    , \"A\"                    , \"D\"]\n",
    "df.loc[:, \"HTR\"] = np.select(half_conds, half_choic)\n",
    "full_conds = [df[\"FTHG\"] > df[\"FTAG\"], df[\"FTHG\"] < df[\"FTAG\"], df[\"FTHG\"] == df[\"FTAG\"]]\n",
    "full_choic = [\"H\"                    , \"A\"                    , \"D\"]\n",
    "df.loc[:, \"FTR\"] = np.select(full_conds, full_choic)"
   ],
   "id": "f29087ba4af3f001"
  },
  {
   "cell_type": "markdown",
   "metadata": {},
   "source": [
    "## Validation of other statistics\n",
    "\n",
    "First step is to look at simple descriptive statistics."
   ],
   "id": "664924458ef4583"
  },
  {
   "cell_type": "code",
   "execution_count": 12,
   "metadata": {
    "ExecuteTime": {
     "end_time": "2023-11-14T17:20:19.206135100Z",
     "start_time": "2023-11-14T17:20:19.033971Z"
    }
   },
   "outputs": [
    {
     "data": {
      "text/plain": "         Attendance            HS            AS           HST           AST  \\\ncount   6641.000000  91684.000000  91726.000000  90775.000000  90804.000000   \nmean   12853.621894     12.675352     10.296895      5.231551      4.209748   \nstd    13873.200798      4.925163      4.384494      2.808289      2.456644   \nmin      123.000000      0.000000      0.000000      0.000000      0.000000   \n25%     3530.000000      9.000000      7.000000      3.000000      2.000000   \n50%     7014.000000     12.000000     10.000000      5.000000      4.000000   \n75%    17608.000000     16.000000     13.000000      7.000000      6.000000   \nmax    69000.000000     46.000000     45.000000     27.000000     23.000000   \n\n               HHW          AHW            HC            AC            HF  \\\ncount  6472.000000  6484.000000  91276.000000  91327.000000  89647.000000   \nmean      0.351823     0.260950      5.722841      4.647300     12.849644   \nstd       0.610765     0.543137      2.937912      2.624468      4.556054   \nmin       0.000000     0.000000      0.000000      0.000000      0.000000   \n25%       0.000000     0.000000      4.000000      3.000000     10.000000   \n50%       0.000000     0.000000      5.000000      4.000000     12.000000   \n75%       1.000000     0.000000      7.000000      6.000000     16.000000   \nmax       4.000000    10.000000     26.000000     21.000000    145.000000   \n\n       ...         HFKC         AFKC           HO           AO            HY  \\\ncount  ...  1298.000000  1298.000000  6485.000000  6466.000000  91875.000000   \nmean   ...    16.620955    17.298921     3.258288     3.250541      1.642580   \nstd    ...     4.394704     4.740125     2.368060     2.519042      1.293023   \nmin    ...     2.000000     2.000000     0.000000     0.000000      0.000000   \n25%    ...    14.000000    14.000000     2.000000     1.000000      1.000000   \n50%    ...    16.000000    17.000000     3.000000     3.000000      1.000000   \n75%    ...    20.000000    20.000000     5.000000     5.000000      2.000000   \nmax    ...    32.000000    34.000000    16.000000    18.000000     11.000000   \n\n                 AY            HR           AR          HBP          ABP  \ncount  91874.000000  91897.000000  91839.00000  6652.000000  6639.000000  \nmean       1.960413      0.087000      0.11996    15.496843    20.928604  \nstd        1.365235      0.299434      0.35185    14.991016    17.225443  \nmin        0.000000      0.000000      0.00000     0.000000     0.000000  \n25%        1.000000      0.000000      0.00000     0.000000    10.000000  \n50%        2.000000      0.000000      0.00000    10.000000    20.000000  \n75%        3.000000      0.000000      0.00000    20.000000    30.000000  \nmax       10.000000      3.000000      9.00000   115.000000   150.000000  \n\n[8 rows x 21 columns]",
      "text/html": "<div>\n<style scoped>\n    .dataframe tbody tr th:only-of-type {\n        vertical-align: middle;\n    }\n\n    .dataframe tbody tr th {\n        vertical-align: top;\n    }\n\n    .dataframe thead th {\n        text-align: right;\n    }\n</style>\n<table border=\"1\" class=\"dataframe\">\n  <thead>\n    <tr style=\"text-align: right;\">\n      <th></th>\n      <th>Attendance</th>\n      <th>HS</th>\n      <th>AS</th>\n      <th>HST</th>\n      <th>AST</th>\n      <th>HHW</th>\n      <th>AHW</th>\n      <th>HC</th>\n      <th>AC</th>\n      <th>HF</th>\n      <th>...</th>\n      <th>HFKC</th>\n      <th>AFKC</th>\n      <th>HO</th>\n      <th>AO</th>\n      <th>HY</th>\n      <th>AY</th>\n      <th>HR</th>\n      <th>AR</th>\n      <th>HBP</th>\n      <th>ABP</th>\n    </tr>\n  </thead>\n  <tbody>\n    <tr>\n      <th>count</th>\n      <td>6641.000000</td>\n      <td>91684.000000</td>\n      <td>91726.000000</td>\n      <td>90775.000000</td>\n      <td>90804.000000</td>\n      <td>6472.000000</td>\n      <td>6484.000000</td>\n      <td>91276.000000</td>\n      <td>91327.000000</td>\n      <td>89647.000000</td>\n      <td>...</td>\n      <td>1298.000000</td>\n      <td>1298.000000</td>\n      <td>6485.000000</td>\n      <td>6466.000000</td>\n      <td>91875.000000</td>\n      <td>91874.000000</td>\n      <td>91897.000000</td>\n      <td>91839.00000</td>\n      <td>6652.000000</td>\n      <td>6639.000000</td>\n    </tr>\n    <tr>\n      <th>mean</th>\n      <td>12853.621894</td>\n      <td>12.675352</td>\n      <td>10.296895</td>\n      <td>5.231551</td>\n      <td>4.209748</td>\n      <td>0.351823</td>\n      <td>0.260950</td>\n      <td>5.722841</td>\n      <td>4.647300</td>\n      <td>12.849644</td>\n      <td>...</td>\n      <td>16.620955</td>\n      <td>17.298921</td>\n      <td>3.258288</td>\n      <td>3.250541</td>\n      <td>1.642580</td>\n      <td>1.960413</td>\n      <td>0.087000</td>\n      <td>0.11996</td>\n      <td>15.496843</td>\n      <td>20.928604</td>\n    </tr>\n    <tr>\n      <th>std</th>\n      <td>13873.200798</td>\n      <td>4.925163</td>\n      <td>4.384494</td>\n      <td>2.808289</td>\n      <td>2.456644</td>\n      <td>0.610765</td>\n      <td>0.543137</td>\n      <td>2.937912</td>\n      <td>2.624468</td>\n      <td>4.556054</td>\n      <td>...</td>\n      <td>4.394704</td>\n      <td>4.740125</td>\n      <td>2.368060</td>\n      <td>2.519042</td>\n      <td>1.293023</td>\n      <td>1.365235</td>\n      <td>0.299434</td>\n      <td>0.35185</td>\n      <td>14.991016</td>\n      <td>17.225443</td>\n    </tr>\n    <tr>\n      <th>min</th>\n      <td>123.000000</td>\n      <td>0.000000</td>\n      <td>0.000000</td>\n      <td>0.000000</td>\n      <td>0.000000</td>\n      <td>0.000000</td>\n      <td>0.000000</td>\n      <td>0.000000</td>\n      <td>0.000000</td>\n      <td>0.000000</td>\n      <td>...</td>\n      <td>2.000000</td>\n      <td>2.000000</td>\n      <td>0.000000</td>\n      <td>0.000000</td>\n      <td>0.000000</td>\n      <td>0.000000</td>\n      <td>0.000000</td>\n      <td>0.00000</td>\n      <td>0.000000</td>\n      <td>0.000000</td>\n    </tr>\n    <tr>\n      <th>25%</th>\n      <td>3530.000000</td>\n      <td>9.000000</td>\n      <td>7.000000</td>\n      <td>3.000000</td>\n      <td>2.000000</td>\n      <td>0.000000</td>\n      <td>0.000000</td>\n      <td>4.000000</td>\n      <td>3.000000</td>\n      <td>10.000000</td>\n      <td>...</td>\n      <td>14.000000</td>\n      <td>14.000000</td>\n      <td>2.000000</td>\n      <td>1.000000</td>\n      <td>1.000000</td>\n      <td>1.000000</td>\n      <td>0.000000</td>\n      <td>0.00000</td>\n      <td>0.000000</td>\n      <td>10.000000</td>\n    </tr>\n    <tr>\n      <th>50%</th>\n      <td>7014.000000</td>\n      <td>12.000000</td>\n      <td>10.000000</td>\n      <td>5.000000</td>\n      <td>4.000000</td>\n      <td>0.000000</td>\n      <td>0.000000</td>\n      <td>5.000000</td>\n      <td>4.000000</td>\n      <td>12.000000</td>\n      <td>...</td>\n      <td>16.000000</td>\n      <td>17.000000</td>\n      <td>3.000000</td>\n      <td>3.000000</td>\n      <td>1.000000</td>\n      <td>2.000000</td>\n      <td>0.000000</td>\n      <td>0.00000</td>\n      <td>10.000000</td>\n      <td>20.000000</td>\n    </tr>\n    <tr>\n      <th>75%</th>\n      <td>17608.000000</td>\n      <td>16.000000</td>\n      <td>13.000000</td>\n      <td>7.000000</td>\n      <td>6.000000</td>\n      <td>1.000000</td>\n      <td>0.000000</td>\n      <td>7.000000</td>\n      <td>6.000000</td>\n      <td>16.000000</td>\n      <td>...</td>\n      <td>20.000000</td>\n      <td>20.000000</td>\n      <td>5.000000</td>\n      <td>5.000000</td>\n      <td>2.000000</td>\n      <td>3.000000</td>\n      <td>0.000000</td>\n      <td>0.00000</td>\n      <td>20.000000</td>\n      <td>30.000000</td>\n    </tr>\n    <tr>\n      <th>max</th>\n      <td>69000.000000</td>\n      <td>46.000000</td>\n      <td>45.000000</td>\n      <td>27.000000</td>\n      <td>23.000000</td>\n      <td>4.000000</td>\n      <td>10.000000</td>\n      <td>26.000000</td>\n      <td>21.000000</td>\n      <td>145.000000</td>\n      <td>...</td>\n      <td>32.000000</td>\n      <td>34.000000</td>\n      <td>16.000000</td>\n      <td>18.000000</td>\n      <td>11.000000</td>\n      <td>10.000000</td>\n      <td>3.000000</td>\n      <td>9.00000</td>\n      <td>115.000000</td>\n      <td>150.000000</td>\n    </tr>\n  </tbody>\n</table>\n<p>8 rows × 21 columns</p>\n</div>"
     },
     "execution_count": 12,
     "metadata": {},
     "output_type": "execute_result"
    }
   ],
   "source": [
    "stat_cols = [\n",
    "    'Attendance', 'HS', 'AS', 'HST', 'AST', 'HHW', 'AHW',\n",
    "    'HC', 'AC', 'HF', 'AF', 'HFKC', 'AFKC', 'HO', 'AO', 'HY', 'AY', 'HR', 'AR', \"HBP\", \"ABP\"\n",
    "]\n",
    "\n",
    "df[stat_cols].describe()"
   ],
   "id": "b73f2517a510058b"
  },
  {
   "cell_type": "markdown",
   "metadata": {},
   "source": [
    "Then we take a look at boxplots for variables where at least one variable falls out of the interval\n",
    "\n",
    "$$\n",
    "(\\text{q}_{0.25} - 3 * \\text{IQR} ; \\text{q}_{0.75} + 3 * \\text{IQR})\n",
    "$$"
   ],
   "id": "75779084c512fc8f"
  },
  {
   "cell_type": "code",
   "execution_count": 13,
   "metadata": {
    "ExecuteTime": {
     "end_time": "2023-11-14T17:20:19.303419800Z",
     "start_time": "2023-11-14T17:20:19.205132600Z"
    }
   },
   "outputs": [
    {
     "data": {
      "text/plain": "Attendance      109\nHS               14\nAS               23\nHST              18\nAST               8\nAHW            1435\nHC              174\nAC               73\nHF               21\nAF               25\nHO                4\nAO                2\nHY              633\nAY                2\nHR             7548\nAR            10254\nHBP              13\nABP              24\ndtype: int64"
     },
     "execution_count": 13,
     "metadata": {},
     "output_type": "execute_result"
    }
   ],
   "source": [
    "def outliers(x, multi = 3):\n",
    "    q25 = x.quantile(0.25)\n",
    "    q75 = x.quantile(0.75)\n",
    "    iqr = q75 - q25\n",
    "    outliers = x[(x < q25 - multi * iqr) | (x > q75 + multi * iqr)]\n",
    "    return len(outliers)\n",
    "\n",
    "stat_outliers = df[stat_cols].apply(lambda x: outliers(x))\n",
    "stat_outliers = stat_outliers[stat_outliers != 0]\n",
    "stat_outliers"
   ],
   "id": "5c42b907e5bb93c1"
  },
  {
   "cell_type": "markdown",
   "metadata": {},
   "source": [
    "!!!\n",
    "Bylo by cool se přidat nějak jitter těch bodů, aby bylo vidět, jestli je jeden nebo je jich víc, ale nepodařilo se mi to dát dohromady."
   ],
   "id": "2b4db496d47e316"
  },
  {
   "cell_type": "code",
   "execution_count": 14,
   "outputs": [
    {
     "data": {
      "text/plain": "<Figure size 1200x1000 with 18 Axes>",
      "image/png": "[encoded data removed]"
     },
     "metadata": {},
     "output_type": "display_data"
    }
   ],
   "source": [
    "fig, axes = plt.subplots(nrows=3, ncols = 6, figsize = (12, 10))\n",
    "axes = axes.ravel()\n",
    "\n",
    "for i, col in enumerate(stat_outliers.index):\n",
    "    # Data\n",
    "    df[col].plot(kind='box', ax = axes[i])\n",
    "    # Styling\n",
    "    axes[i].set_title(col)\n",
    "    axes[i].axes.get_xaxis().set_visible(False)\n",
    "\n",
    "plt.show()\n"
   ],
   "metadata": {
    "collapsed": false,
    "ExecuteTime": {
     "end_time": "2023-11-14T17:20:20.643004600Z",
     "start_time": "2023-11-14T17:20:19.269738600Z"
    }
   },
   "id": "7a5cb814aa8ad868"
  },
  {
   "cell_type": "markdown",
   "source": [
    "We can se that some outliers are not that extreme. For example variables *HO*, *AO* or *HY* have extreme values, but won't remove them. This is because even tho they can be considered as extreme, there seems to be a natural way how they occured and tehre are no huge jumps between them.\n",
    "\n",
    "On the other hand, variables *AHW*, *HF*, *AF* and *AR* seem to have some variables that are far away from the other data. Note that we do not consider variables in *HR* as outliers because it looks like it's a discrete variable with mostly zeros."
   ],
   "metadata": {
    "collapsed": false
   },
   "id": "d67ada88180c3393"
  },
  {
   "cell_type": "code",
   "execution_count": 15,
   "outputs": [
    {
     "name": "stdout",
     "output_type": "stream",
     "text": [
      "Number of extreme values:\n",
      "AS: [45. 39.], (count: 2)\n",
      "AHW: [10.], (count: 1)\n",
      "HF: [145.], (count: 1)\n",
      "AF: [77.], (count: 1)\n",
      "AR: [9.], (count: 1)\n",
      "ABP: [150.], (count: 1)\n"
     ]
    }
   ],
   "source": [
    "stat_jump = [\n",
    "    \"AS\", \"AHW\", \"HF\", \"AF\", \"AR\", \"ABP\"\n",
    "]\n",
    "stats_cut = [\n",
    "    38, 6, 100, 60, 6, 130\n",
    "]\n",
    "\n",
    "print(\"Number of extreme values:\")\n",
    "for i, col in enumerate(stat_jump):\n",
    "    cutoff = stats_cut[i]\n",
    "    x = df[col].to_numpy()\n",
    "    extreme = x[x > cutoff]\n",
    "    print(f\"{col}: {extreme}, (count: {len(extreme)})\")\n",
    "    \n",
    "plt.show()"
   ],
   "metadata": {
    "collapsed": false,
    "ExecuteTime": {
     "end_time": "2023-11-14T17:20:20.656524300Z",
     "start_time": "2023-11-14T17:20:20.643004600Z"
    }
   },
   "id": "c722b689d769f74a"
  },
  {
   "cell_type": "markdown",
   "source": [
    "Based on the analysis, we see that these extreme values occur at most twice. This is why we chose to remove them."
   ],
   "metadata": {
    "collapsed": false
   },
   "id": "35230d5924ce9225"
  },
  {
   "cell_type": "code",
   "execution_count": 16,
   "outputs": [],
   "source": [
    "criteria = dict(zip(stat_jump, stats_cut))\n",
    "for column, value in criteria.items():\n",
    "    # .isna() is important because otherwise all na rows are dropped\n",
    "    df = df[df[column].lt(value) | df[column].isna()]"
   ],
   "metadata": {
    "collapsed": false,
    "ExecuteTime": {
     "end_time": "2023-11-14T17:20:21.444018200Z",
     "start_time": "2023-11-14T17:20:20.658525200Z"
    }
   },
   "id": "b659ccb24eb5be1"
  },
  {
   "cell_type": "markdown",
   "source": [
    "Finally, we will double-check with boxplots."
   ],
   "metadata": {
    "collapsed": false
   },
   "id": "aa102cb69a666ee2"
  },
  {
   "cell_type": "code",
   "execution_count": 17,
   "outputs": [
    {
     "data": {
      "text/plain": "<Figure size 800x800 with 6 Axes>",
      "image/png": "[encoded data removed]"
     },
     "metadata": {},
     "output_type": "display_data"
    }
   ],
   "source": [
    "fig, axes = plt.subplots(nrows=2, ncols = 3, figsize = (8, 8))\n",
    "axes = axes.ravel()\n",
    "\n",
    "for i, col in enumerate(stat_jump):\n",
    "    # Data\n",
    "    df[col].plot(kind='box', ax = axes[i])\n",
    "    # Styling\n",
    "    axes[i].set_title(col)\n",
    "    axes[i].axes.get_xaxis().set_visible(False)\n",
    "\n",
    "plt.show()"
   ],
   "metadata": {
    "collapsed": false,
    "ExecuteTime": {
     "end_time": "2023-11-14T17:20:21.815397100Z",
     "start_time": "2023-11-14T17:20:21.439493100Z"
    }
   },
   "id": "47981d097e27552"
  },
  {
   "cell_type": "markdown",
   "source": [
    "IT looks like variable *HF* contains another outlier, but this process should be done only once. Hence, no outliers are removed."
   ],
   "metadata": {
    "collapsed": false
   },
   "id": "d8733da0a1b0a17b"
  },
  {
   "cell_type": "markdown",
   "source": [
    "## Random unnamed data\n",
    "\n",
    "File *'data/train/portugal/1/0304.csv'* contains random data in columns *'Unnamed: 33'* and *'Unnamed: 34'*."
   ],
   "metadata": {
    "collapsed": false
   },
   "id": "5d39e5dcedb04e7e"
  },
  {
   "cell_type": "code",
   "execution_count": 18,
   "outputs": [
    {
     "data": {
      "text/plain": "     Unnamed: 32  Unnamed: 33  Unnamed: 34\n157          2.0          1.8        -1.75",
      "text/html": "<div>\n<style scoped>\n    .dataframe tbody tr th:only-of-type {\n        vertical-align: middle;\n    }\n\n    .dataframe tbody tr th {\n        vertical-align: top;\n    }\n\n    .dataframe thead th {\n        text-align: right;\n    }\n</style>\n<table border=\"1\" class=\"dataframe\">\n  <thead>\n    <tr style=\"text-align: right;\">\n      <th></th>\n      <th>Unnamed: 32</th>\n      <th>Unnamed: 33</th>\n      <th>Unnamed: 34</th>\n    </tr>\n  </thead>\n  <tbody>\n    <tr>\n      <th>157</th>\n      <td>2.0</td>\n      <td>1.8</td>\n      <td>-1.75</td>\n    </tr>\n  </tbody>\n</table>\n</div>"
     },
     "execution_count": 18,
     "metadata": {},
     "output_type": "execute_result"
    }
   ],
   "source": [
    "unnamed_cols_df = df[['Unnamed: 32', 'Unnamed: 33', 'Unnamed: 34']]\n",
    "unnamed_cols_df[unnamed_cols_df.notnull().any(axis=1)]"
   ],
   "metadata": {
    "collapsed": false,
    "ExecuteTime": {
     "end_time": "2023-11-14T17:20:21.829925400Z",
     "start_time": "2023-11-14T17:20:21.809457300Z"
    }
   },
   "id": "74d70af7e34f1d55"
  },
  {
   "cell_type": "markdown",
   "source": [
    "Since we do not know what these columns represent, and it is only one non-NA row from the whole dataset, this column is removed."
   ],
   "metadata": {
    "collapsed": false
   },
   "id": "bfe5dd77dceb6f76"
  },
  {
   "cell_type": "code",
   "execution_count": 19,
   "outputs": [],
   "source": [
    "df = df.drop(columns = unnamed_cols_df.columns)"
   ],
   "metadata": {
    "collapsed": false,
    "ExecuteTime": {
     "end_time": "2023-11-14T17:20:21.978115800Z",
     "start_time": "2023-11-14T17:20:21.824920Z"
    }
   },
   "id": "52b2df9d6e32886c"
  },
  {
   "cell_type": "markdown",
   "source": [
    "## Wrong betting odds names\n",
    "\n",
    "File *'data/train/germany/2/0405.csv'* contains columns **LB**, **LB.1** and **LB.2**, which are unique only to this file. After further investigation, they represent the betting odds data for Ladbrokers. After looking at the data more thoroughly, it can be guessed that all three columns represent odds for home win, away win, and draw."
   ],
   "metadata": {
    "collapsed": false
   },
   "id": "a6f9ce1affaaab46"
  },
  {
   "cell_type": "code",
   "execution_count": 20,
   "outputs": [
    {
     "data": {
      "text/plain": "       LB  LB.1  LB.2   SBH   SBD   SBA   WHH   WHD   WHA  GBAHH  GBAHA  GBAH\n2    1.67  3.25   NaN  1.62  3.75  5.00  1.65  3.30  4.60   1.65   2.02 -0.50\n6    2.00  3.20   NaN  2.10  3.20  3.25  2.15  3.10  3.00   1.77   1.95 -0.25\n7    1.91  3.25   NaN  2.00  3.30  3.40  1.90  3.25  3.40   1.95   1.70 -0.50\n12   2.60  3.20  2.38  2.70  3.20  2.40  2.50  3.10  2.50   1.43   2.50  0.50\n15   2.25  3.20  2.75  2.40  3.00  2.88  2.20  3.10  2.87   2.30   1.48 -0.50\n..    ...   ...   ...   ...   ...   ...   ...   ...   ...    ...    ...   ...\n291  2.40  3.25  2.50  2.50  3.25  2.50  2.45  3.25  2.45   2.45   1.43 -0.50\n294  2.00  3.00  3.40  2.10  3.20  3.25  2.10  3.20  3.00   1.91   1.70 -0.50\n295  2.25  3.20  2.75  2.38  3.10  2.88  2.37  3.30  2.50   2.20   1.52 -0.50\n297  1.62  3.25  5.00  1.60  3.75  5.00  1.60  3.30  5.00   1.62   2.06 -0.50\n299  1.73  3.20  4.33  1.75  3.50  4.20  1.75  3.30  4.00   1.75   1.89 -0.50\n\n[110 rows x 12 columns]",
      "text/html": "<div>\n<style scoped>\n    .dataframe tbody tr th:only-of-type {\n        vertical-align: middle;\n    }\n\n    .dataframe tbody tr th {\n        vertical-align: top;\n    }\n\n    .dataframe thead th {\n        text-align: right;\n    }\n</style>\n<table border=\"1\" class=\"dataframe\">\n  <thead>\n    <tr style=\"text-align: right;\">\n      <th></th>\n      <th>LB</th>\n      <th>LB.1</th>\n      <th>LB.2</th>\n      <th>SBH</th>\n      <th>SBD</th>\n      <th>SBA</th>\n      <th>WHH</th>\n      <th>WHD</th>\n      <th>WHA</th>\n      <th>GBAHH</th>\n      <th>GBAHA</th>\n      <th>GBAH</th>\n    </tr>\n  </thead>\n  <tbody>\n    <tr>\n      <th>2</th>\n      <td>1.67</td>\n      <td>3.25</td>\n      <td>NaN</td>\n      <td>1.62</td>\n      <td>3.75</td>\n      <td>5.00</td>\n      <td>1.65</td>\n      <td>3.30</td>\n      <td>4.60</td>\n      <td>1.65</td>\n      <td>2.02</td>\n      <td>-0.50</td>\n    </tr>\n    <tr>\n      <th>6</th>\n      <td>2.00</td>\n      <td>3.20</td>\n      <td>NaN</td>\n      <td>2.10</td>\n      <td>3.20</td>\n      <td>3.25</td>\n      <td>2.15</td>\n      <td>3.10</td>\n      <td>3.00</td>\n      <td>1.77</td>\n      <td>1.95</td>\n      <td>-0.25</td>\n    </tr>\n    <tr>\n      <th>7</th>\n      <td>1.91</td>\n      <td>3.25</td>\n      <td>NaN</td>\n      <td>2.00</td>\n      <td>3.30</td>\n      <td>3.40</td>\n      <td>1.90</td>\n      <td>3.25</td>\n      <td>3.40</td>\n      <td>1.95</td>\n      <td>1.70</td>\n      <td>-0.50</td>\n    </tr>\n    <tr>\n      <th>12</th>\n      <td>2.60</td>\n      <td>3.20</td>\n      <td>2.38</td>\n      <td>2.70</td>\n      <td>3.20</td>\n      <td>2.40</td>\n      <td>2.50</td>\n      <td>3.10</td>\n      <td>2.50</td>\n      <td>1.43</td>\n      <td>2.50</td>\n      <td>0.50</td>\n    </tr>\n    <tr>\n      <th>15</th>\n      <td>2.25</td>\n      <td>3.20</td>\n      <td>2.75</td>\n      <td>2.40</td>\n      <td>3.00</td>\n      <td>2.88</td>\n      <td>2.20</td>\n      <td>3.10</td>\n      <td>2.87</td>\n      <td>2.30</td>\n      <td>1.48</td>\n      <td>-0.50</td>\n    </tr>\n    <tr>\n      <th>...</th>\n      <td>...</td>\n      <td>...</td>\n      <td>...</td>\n      <td>...</td>\n      <td>...</td>\n      <td>...</td>\n      <td>...</td>\n      <td>...</td>\n      <td>...</td>\n      <td>...</td>\n      <td>...</td>\n      <td>...</td>\n    </tr>\n    <tr>\n      <th>291</th>\n      <td>2.40</td>\n      <td>3.25</td>\n      <td>2.50</td>\n      <td>2.50</td>\n      <td>3.25</td>\n      <td>2.50</td>\n      <td>2.45</td>\n      <td>3.25</td>\n      <td>2.45</td>\n      <td>2.45</td>\n      <td>1.43</td>\n      <td>-0.50</td>\n    </tr>\n    <tr>\n      <th>294</th>\n      <td>2.00</td>\n      <td>3.00</td>\n      <td>3.40</td>\n      <td>2.10</td>\n      <td>3.20</td>\n      <td>3.25</td>\n      <td>2.10</td>\n      <td>3.20</td>\n      <td>3.00</td>\n      <td>1.91</td>\n      <td>1.70</td>\n      <td>-0.50</td>\n    </tr>\n    <tr>\n      <th>295</th>\n      <td>2.25</td>\n      <td>3.20</td>\n      <td>2.75</td>\n      <td>2.38</td>\n      <td>3.10</td>\n      <td>2.88</td>\n      <td>2.37</td>\n      <td>3.30</td>\n      <td>2.50</td>\n      <td>2.20</td>\n      <td>1.52</td>\n      <td>-0.50</td>\n    </tr>\n    <tr>\n      <th>297</th>\n      <td>1.62</td>\n      <td>3.25</td>\n      <td>5.00</td>\n      <td>1.60</td>\n      <td>3.75</td>\n      <td>5.00</td>\n      <td>1.60</td>\n      <td>3.30</td>\n      <td>5.00</td>\n      <td>1.62</td>\n      <td>2.06</td>\n      <td>-0.50</td>\n    </tr>\n    <tr>\n      <th>299</th>\n      <td>1.73</td>\n      <td>3.20</td>\n      <td>4.33</td>\n      <td>1.75</td>\n      <td>3.50</td>\n      <td>4.20</td>\n      <td>1.75</td>\n      <td>3.30</td>\n      <td>4.00</td>\n      <td>1.75</td>\n      <td>1.89</td>\n      <td>-0.50</td>\n    </tr>\n  </tbody>\n</table>\n<p>110 rows × 12 columns</p>\n</div>"
     },
     "execution_count": 20,
     "metadata": {},
     "output_type": "execute_result"
    }
   ],
   "source": [
    "tmp = pd.read_csv(\"data/train/germany/2/0405.csv\")\n",
    "# Remove empty rows and columns\n",
    "tmp = tmp.dropna(how='all', axis=0)\n",
    "tmp = tmp.dropna(how='all', axis=1)\n",
    "tmp = tmp.loc[:, ~tmp.columns.str.startswith('Unnamed:')]\n",
    "tmp = tmp[tmp[['LB', 'LB.1', 'LB.2']].notnull().any(axis=1)]\n",
    "tmp.filter(regex='[HDAB12]$').iloc[:, -12:]"
   ],
   "metadata": {
    "collapsed": false,
    "ExecuteTime": {
     "end_time": "2023-11-14T17:20:21.985637300Z",
     "start_time": "2023-11-14T17:20:21.920094600Z"
    }
   },
   "id": "a30d4c64f092de02"
  },
  {
   "cell_type": "markdown",
   "source": [
    "Based on column similarity, we can make an edjucated guess that\n",
    "\n",
    "- **LB** should be **LBH**,\n",
    "- **LB.1** should be **LBD**, and\n",
    "- **LB.2** should be **LBA**"
   ],
   "metadata": {
    "collapsed": false
   },
   "id": "f0581b5e986eb6de"
  },
  {
   "cell_type": "code",
   "execution_count": 21,
   "outputs": [],
   "source": [
    "# If LB is not null, use that value and replace it in LBH\n",
    "df[\"LBH\"] = df[\"LBH\"].mask(df[\"LB\"  ].notnull(), df[\"LB\"])\n",
    "df[\"LBD\"] = df[\"LBD\"].mask(df[\"LB.1\"].notnull(), df[\"LB.1\"])\n",
    "df[\"LBA\"] = df[\"LBA\"].mask(df[\"LB.2\"].notnull(), df[\"LB.2\"])\n",
    "df = df.drop(columns = [\"LB\", \"LB.1\", \"LB.2\"])"
   ],
   "metadata": {
    "collapsed": false,
    "ExecuteTime": {
     "end_time": "2023-11-14T17:20:22.092656200Z",
     "start_time": "2023-11-14T17:20:21.951169200Z"
    }
   },
   "id": "da1d5fec8a4711d1"
  },
  {
   "cell_type": "markdown",
   "source": [
    "## Same name for different things\n",
    "\n",
    "In some cases, columns are named differently. We will standardize to use column names that are in *'notes.txt'*\n"
   ],
   "metadata": {
    "collapsed": false
   },
   "id": "75cf1f7e93b33aa0"
  },
  {
   "cell_type": "code",
   "execution_count": 22,
   "outputs": [
    {
     "name": "stdout",
     "output_type": "stream",
     "text": [
      "Cases for HT: data/train\\greece\\1, 0001.csv\n",
      "Cases for AT: data/train\\greece\\1, 0001.csv\n",
      "Cases for HT: data/train\\greece\\1, 0102.csv\n",
      "Cases for AT: data/train\\greece\\1, 0102.csv\n",
      "Cases for HT: data/train\\greece\\1, 0203.csv\n",
      "Cases for AT: data/train\\greece\\1, 0203.csv\n",
      "Cases for HT: data/train\\greece\\1, 0304.csv\n",
      "Cases for AT: data/train\\greece\\1, 0304.csv\n",
      "Cases for HT: data/train\\greece\\1, 0405.csv\n",
      "Cases for AT: data/train\\greece\\1, 0405.csv\n"
     ]
    }
   ],
   "source": [
    "for root, directory, files in os.walk(\"data/train\", topdown=False):\n",
    "    if files:\n",
    "        for file in files:\n",
    "            tmp = pd.read_csv(f\"{root}/{file}\")\n",
    "            if \"HT\" in tmp.columns:\n",
    "                print(f\"Cases for HT: {root}, {file}\")\n",
    "            if \"AT\" in tmp.columns:\n",
    "                print(f\"Cases for AT: {root}, {file}\")"
   ],
   "metadata": {
    "collapsed": false,
    "ExecuteTime": {
     "end_time": "2023-11-14T17:20:23.591386200Z",
     "start_time": "2023-11-14T17:20:22.060678400Z"
    }
   },
   "id": "a517547d6425c03f"
  },
  {
   "cell_type": "markdown",
   "source": [
    "The only affected data are in Greece."
   ],
   "metadata": {
    "collapsed": false
   },
   "id": "32dfc2746b0096cd"
  },
  {
   "cell_type": "code",
   "execution_count": 23,
   "outputs": [],
   "source": [
    "df[\"HomeTeam\"] = df[\"HomeTeam\"].mask(df[\"HT\"].notnull(), df[\"HT\"])\n",
    "df[\"AwayTeam\"] = df[\"AwayTeam\"].mask(df[\"AT\"].notnull(), df[\"AT\"])\n",
    "df = df.drop(columns = [\"HT\", \"AT\"])"
   ],
   "metadata": {
    "collapsed": false,
    "ExecuteTime": {
     "end_time": "2023-11-14T17:20:23.685020900Z",
     "start_time": "2023-11-14T17:20:23.587571300Z"
    }
   },
   "id": "71bd3d01e49260f7"
  },
  {
   "cell_type": "markdown",
   "source": [
    "## Date normalization\n",
    "\n",
    "Date is not consistent and it needs to be unified in order to format it as date."
   ],
   "metadata": {
    "collapsed": false
   },
   "id": "661038dd7b393843"
  },
  {
   "cell_type": "code",
   "execution_count": 24,
   "outputs": [],
   "source": [
    "potential_fixes = pd.to_datetime(df['Date'], format='mixed', dayfirst=True)\n",
    "equal = potential_fixes[potential_fixes.isnull()].index.equals(df[df[\"Date\"].isnull()].index)\n",
    "# if True, all non-na dates have been converted\n",
    "if equal:\n",
    "    df[\"Date\"] = potential_fixes\n",
    "else:\n",
    "    sys.exit(\"Date indexes are not equal. Something wrong with the conversion??\")"
   ],
   "metadata": {
    "collapsed": false,
    "ExecuteTime": {
     "end_time": "2023-11-14T17:20:23.873425300Z",
     "start_time": "2023-11-14T17:20:23.683018500Z"
    }
   },
   "id": "46cea86f2154d60a"
  },
  {
   "cell_type": "markdown",
   "source": [
    "## Bookies analysis"
   ],
   "metadata": {
    "collapsed": false
   },
   "id": "f1e12538d24ac865"
  },
  {
   "cell_type": "code",
   "execution_count": 25,
   "outputs": [
    {
     "name": "stdout",
     "output_type": "stream",
     "text": [
      "     Avg_away_odds  Avg_home_odds  Avg_draw_odds Avg_bookie_prediction  \\\n",
      "0         2.410000       2.460000       3.250000                     A   \n",
      "1         1.866667       3.350000       3.300000                     A   \n",
      "2         1.816667       3.287500       3.362500                     A   \n",
      "3         4.083333       1.645000       3.450000                     H   \n",
      "4         4.433333       1.605000       3.387500                     H   \n",
      "..             ...            ...            ...                   ...   \n",
      "367       5.373333       1.606667       3.953333                     H   \n",
      "368       3.426667       2.140000       3.291667                     H   \n",
      "369       2.005000       3.738333       3.385000                     A   \n",
      "370       3.140000       2.191667       3.495000                     H   \n",
      "371       7.143333       1.408333       4.873333                     H   \n",
      "\n",
      "     Var_away_odds  Var_home_odds  Var_draw_odds  \n",
      "0         0.007200       0.007200       0.045000  \n",
      "1         0.005833       0.056667       0.026667  \n",
      "2         0.003333       0.007292       0.012292  \n",
      "3         0.135833       0.004300       0.010000  \n",
      "4         0.163333       0.000100       0.007292  \n",
      "..             ...            ...            ...  \n",
      "367       0.142267       0.000427       0.025067  \n",
      "368       0.038867       0.003200       0.011417  \n",
      "369       0.001550       0.016417       0.014550  \n",
      "370       0.005880       0.003417       0.009750  \n",
      "371       0.190267       0.000297       0.042467  \n",
      "\n",
      "[152789 rows x 7 columns]\n"
     ]
    }
   ],
   "source": [
    "#minor warning suppression\n",
    "shutup.please()\n",
    "\n",
    "away_odds = df[[\"B365A\", \"BSA\", \"BWA\", \"GBA\", \"IWA\", \"LBA\", \"PSA\", \"SOA\", \"SBA\", \"SJA\", \"SYA\", \"VCA\", \"WHA\"]]\n",
    "home_odds = df[[\"B365H\", \"BSH\", \"BWH\", \"GBH\", \"IWH\", \"LBH\", \"PSH\", \"SOH\", \"SBH\", \"SJH\", \"SYH\", \"VCH\", \"WHH\"]]\n",
    "draw_odds = df[[\"B365D\", \"BSD\", \"BWD\", \"GBD\", \"IWD\", \"LBD\", \"PSD\", \"SOD\", \"SBD\", \"SJD\", \"SYD\", \"VCD\", \"WHD\"]]\n",
    "\n",
    "#Average of away/home/draw odds\n",
    "df[\"Avg_away_odds\"] = away_odds.mean(axis=1)\n",
    "df[\"Avg_home_odds\"] = home_odds.mean(axis=1)\n",
    "df[\"Avg_draw_odds\"] = draw_odds.mean(axis=1)\n",
    "\n",
    "#Predcition based on averages - Odds with smallest average have the highest probability -> returns A/H/D\n",
    "df[\"Avg_bookie_prediction\"] = df[[\"Avg_away_odds\", \"Avg_home_odds\", \"Avg_draw_odds\"]].idxmin(axis=1).fillna(\"\").astype(str).str[4]\n",
    "df[\"Avg_bookie_prediction\"] = df[\"Avg_bookie_prediction\"].str.upper()\n",
    "\n",
    "#Certainity of odds, the smaller variance implies, that bookies are more \"sure\"\n",
    "df[\"Var_away_odds\"] = away_odds.var(axis=1)\n",
    "df[\"Var_home_odds\"] = home_odds.var(axis=1)\n",
    "df[\"Var_draw_odds\"] = draw_odds.var(axis=1)\n",
    "\n",
    "print(df.loc[:, \"Avg_away_odds\":\"Var_draw_odds\"])"
   ],
   "metadata": {
    "collapsed": false,
    "ExecuteTime": {
     "end_time": "2023-11-14T17:20:24.184988600Z",
     "start_time": "2023-11-14T17:20:23.869450500Z"
    }
   },
   "id": "2c81c2df5f635823"
  },
  {
   "cell_type": "code",
   "execution_count": 26,
   "outputs": [
    {
     "name": "stdout",
     "output_type": "stream",
     "text": [
      "     B365A  B365D  B365H B365P  BSA  BSD  BSH  BSP   BWA   BWD  ...  SYP  \\\n",
      "0      NaN    NaN    NaN   NaN  NaN  NaN  NaN  NaN   NaN   NaN  ...  NaN   \n",
      "1      NaN    NaN    NaN   NaN  NaN  NaN  NaN  NaN   NaN   NaN  ...  NaN   \n",
      "2      NaN    NaN    NaN   NaN  NaN  NaN  NaN  NaN   NaN   NaN  ...  NaN   \n",
      "3      NaN    NaN    NaN   NaN  NaN  NaN  NaN  NaN   NaN   NaN  ...  NaN   \n",
      "4      NaN    NaN    NaN   NaN  NaN  NaN  NaN  NaN   NaN   NaN  ...  NaN   \n",
      "..     ...    ...    ...   ...  ...  ...  ...  ...   ...   ...  ...  ...   \n",
      "367   4.75   4.00   1.57     H  NaN  NaN  NaN  NaN  5.25  3.90  ...  NaN   \n",
      "368   3.10   3.50   2.05     H  NaN  NaN  NaN  NaN  3.40  3.25  ...  NaN   \n",
      "369   1.95   3.30   3.60     A  NaN  NaN  NaN  NaN  1.98  3.30  ...  NaN   \n",
      "370   3.10   3.50   2.20     H  NaN  NaN  NaN  NaN  3.10  3.50  ...  NaN   \n",
      "371   7.00   4.75   1.40     H  NaN  NaN  NaN  NaN  7.00  5.00  ...  NaN   \n",
      "\n",
      "      VCA  VCD   VCH  VCP   WHA   WHD   WHH  WHP Outcome  \n",
      "0     NaN  NaN   NaN  NaN  2.35  3.40  2.40    A       D  \n",
      "1     NaN  NaN   NaN  NaN  1.95  3.30  3.10    A       A  \n",
      "2     NaN  NaN   NaN  NaN  1.85  3.45  3.25    A       A  \n",
      "3     NaN  NaN   NaN  NaN  3.80  3.50  1.70    H       H  \n",
      "4     NaN  NaN   NaN  NaN  4.50  3.40  1.60    H       H  \n",
      "..    ...  ...   ...  ...   ...   ...   ...  ...     ...  \n",
      "367  5.75  3.8  1.62    H  5.50  3.80  1.60    H       H  \n",
      "368  3.50  3.3  2.15    H  3.40  3.25  2.10    H       A  \n",
      "369  2.05  3.3  3.75    A  2.00  3.40  3.70    A       D  \n",
      "370  3.13  3.4  2.25    H  3.20  3.40  2.15    H       D  \n",
      "371  8.00  4.8  1.40    H  7.00  4.60  1.40    H       H  \n",
      "\n",
      "[152789 rows x 53 columns]\n"
     ]
    }
   ],
   "source": [
    "#Columns for predictions of all bookies\n",
    "bookies_predictions = pd.DataFrame(columns = [\"B365P\", \"BSP\", \"BWP\", \"GBP\", \"IWP\", \"LBP\", \"PSP\", \"SOP\", \"SBP\", \"SJP\", \"SYP\", \"VCP\", \"WHP\"])\n",
    "\n",
    "#dataframe with away/home/draw odds for each bookie\n",
    "df_bookies_accuracy = pd.concat([away_odds, home_odds, draw_odds, bookies_predictions], axis = 1).sort_index(axis = 1)\n",
    "df_bookies_accuracy[\"Outcome\"] = df[[\"FTR\"]]\n",
    "\n",
    "seq = list(range(3, 53, 4))\n",
    "#\"prediction\" of each bookie based on their odds\n",
    "for i in seq:\n",
    "    df_bookies_accuracy.iloc[:, i] = df_bookies_accuracy.iloc[:, i-3:i].idxmin(axis=1).fillna(\"\").astype(str).str[-1]\n",
    "\n",
    "print(df_bookies_accuracy)"
   ],
   "metadata": {
    "collapsed": false,
    "ExecuteTime": {
     "end_time": "2023-11-14T17:20:25.018558100Z",
     "start_time": "2023-11-14T17:20:24.184988600Z"
    }
   },
   "id": "e8d7c71eb410bfed"
  },
  {
   "cell_type": "code",
   "execution_count": 27,
   "outputs": [
    {
     "name": "stdout",
     "output_type": "stream",
     "text": [
      "Percentage of matching values for B365: 49.87%\n",
      "Percentage of matching values for BS: 49.79%\n",
      "Percentage of matching values for BW: 49.88%\n",
      "Percentage of matching values for GB: 49.85%\n",
      "Percentage of matching values for IW: 49.73%\n",
      "Percentage of matching values for LB: 49.80%\n",
      "Percentage of matching values for PS: 49.91%\n",
      "Percentage of matching values for SO: 49.27%\n",
      "Percentage of matching values for SB: 49.87%\n",
      "Percentage of matching values for SJ: 49.77%\n",
      "Percentage of matching values for SY: 49.94%\n",
      "Percentage of matching values for VC: 49.99%\n",
      "Percentage of matching values for WH: 49.89%\n"
     ]
    }
   ],
   "source": [
    "#Accuracy of each bookie - all around 50% - accuracy of a bookie cannot be used as a weight for prediction\n",
    "for bookie in bookies_predictions:\n",
    "    filter_df = df_bookies_accuracy[df_bookies_accuracy[bookie].notna()]\n",
    "    matching_values = (filter_df[bookie] == filter_df['Outcome']).sum()\n",
    "    total_values = len(filter_df)\n",
    "    percent= (matching_values/total_values) *100\n",
    "    print(\"Percentage of matching values for \" + bookie[:-1] + f\": {percent:.2f}%\")"
   ],
   "metadata": {
    "collapsed": false,
    "ExecuteTime": {
     "end_time": "2023-11-14T17:20:25.272057800Z",
     "start_time": "2023-11-14T17:20:25.014462Z"
    }
   },
   "id": "1b86b0aa3d9daa05"
  },
  {
   "cell_type": "markdown",
   "source": [
    "- - -"
   ],
   "metadata": {
    "collapsed": false
   },
   "id": "1a00d24cc9fb48e5"
  },
  {
   "cell_type": "code",
   "execution_count": 28,
   "outputs": [
    {
     "data": {
      "text/plain": "(152789, 173)"
     },
     "execution_count": 28,
     "metadata": {},
     "output_type": "execute_result"
    }
   ],
   "source": [
    "df.shape"
   ],
   "metadata": {
    "collapsed": false,
    "ExecuteTime": {
     "end_time": "2023-11-14T17:20:25.281064800Z",
     "start_time": "2023-11-14T17:20:25.265070800Z"
    }
   },
   "id": "5aa907d44454efac"
  },
  {
   "cell_type": "markdown",
   "source": [
    "Drop all completely empty columns and rows which there is a lot of, dropped 41 empty columns in total."
   ],
   "metadata": {
    "collapsed": false
   },
   "id": "234ba0e944b1f035"
  },
  {
   "cell_type": "code",
   "execution_count": 29,
   "outputs": [],
   "source": [
    "df.dropna(how='all', axis=1, inplace=True)"
   ],
   "metadata": {
    "collapsed": false,
    "ExecuteTime": {
     "end_time": "2023-11-14T17:20:25.499199300Z",
     "start_time": "2023-11-14T17:20:25.282569300Z"
    }
   },
   "id": "3fb31e1bed329138"
  },
  {
   "cell_type": "code",
   "execution_count": 30,
   "outputs": [
    {
     "data": {
      "text/plain": "(152789, 173)"
     },
     "execution_count": 30,
     "metadata": {},
     "output_type": "execute_result"
    }
   ],
   "source": [
    "df.shape"
   ],
   "metadata": {
    "collapsed": false,
    "ExecuteTime": {
     "end_time": "2023-11-14T17:20:25.515258100Z",
     "start_time": "2023-11-14T17:20:25.499199300Z"
    }
   },
   "id": "1d0695aa4b7f0b7b"
  },
  {
   "cell_type": "code",
   "execution_count": 31,
   "outputs": [],
   "source": [
    "df.to_csv(\"final.csv\")"
   ],
   "metadata": {
    "collapsed": false,
    "ExecuteTime": {
     "end_time": "2023-11-14T17:20:31.702553200Z",
     "start_time": "2023-11-14T17:20:25.516259700Z"
    }
   },
   "id": "4604ac42b85042de"
  },
  {
   "cell_type": "markdown",
   "source": [
    "# Data Exploration\n",
    "\n",
    "Total overview of all variables."
   ],
   "metadata": {
    "collapsed": false
   },
   "id": "f0b5e6047279e3e5"
  },
  {
   "cell_type": "code",
   "execution_count": 32,
   "outputs": [
    {
     "data": {
      "text/plain": "                                Date           FTHG           FTAG  \\\ncount                         152789  152789.000000  152789.000000   \nmean   2011-07-17 12:41:28.985463552       1.484727       1.134165   \nmin              2000-07-28 00:00:00       0.000000       0.000000   \n25%              2006-02-04 00:00:00       1.000000       0.000000   \n50%              2011-08-19 00:00:00       1.000000       1.000000   \n75%              2016-12-19 00:00:00       2.000000       2.000000   \nmax              2022-05-29 00:00:00      10.000000       9.000000   \nstd                              NaN       1.252580       1.106677   \n\n                HTHG           HTAG           GBH           GBD           GBA  \\\ncount  152789.000000  152789.000000  86570.000000  86631.000000  86614.000000   \nmean        0.655100       0.494460      2.273737      3.377340      3.940317   \nmin         0.000000       0.000000      1.030000      1.250000      1.060000   \n25%         0.000000       0.000000      1.750000      3.100000      2.650000   \n50%         0.000000       0.000000      2.100000      3.250000      3.350000   \n75%         1.000000       1.000000      2.450000      3.450000      4.500000   \nmax         7.000000       6.000000     24.000000     11.000000     34.000000   \nstd         0.808874       0.708459      1.026936      0.604185      2.171809   \n\n                 IWH            IWD  ...          SOA        LBAHH  \\\ncount  148933.000000  148935.000000  ...  6580.000000  5448.000000   \nmean        2.335584       3.381009  ...     3.832853     1.911193   \nmin         1.010000       1.500000  ...     1.140000    -2.250000   \n25%         1.750000       3.050000  ...     2.620000     1.840000   \n50%         2.100000       3.200000  ...     3.250000     1.920000   \n75%         2.500000       3.450000  ...     4.500000     2.000000   \nmax        30.000000      16.000000  ...    21.000000     3.400000   \nstd         1.150601       0.709864  ...     2.077070     0.174244   \n\n             LBAHA         LBAH  Avg_away_odds  Avg_home_odds  Avg_draw_odds  \\\ncount  5448.000000  5436.000000  152438.000000  152437.000000  152437.000000   \nmean      1.924781    -0.350539       3.991286       2.398775       3.503026   \nmin      -0.500000    -2.250000       1.040000       1.010000       1.250000   \n25%       1.840000    -0.750000       2.615000       1.757143       3.171429   \n50%       1.920000    -0.250000       3.312857       2.126667       3.306667   \n75%       2.000000     0.000000       4.450000       2.566667       3.550000   \nmax       4.000000     9.000000      68.000000      32.333333      19.214286   \nstd       0.124480     0.588715       2.598599       1.291732       0.797677   \n\n       Var_away_odds  Var_home_odds  Var_draw_odds  \ncount  151697.000000  151696.000000  151696.000000  \nmean        0.295144       0.039220       0.034352  \nmin         0.000000       0.000000       0.000000  \n25%         0.006420       0.001344       0.006111  \n50%         0.024139       0.003367       0.011267  \n75%         0.087500       0.009048       0.022157  \nmax       468.000000     140.333333      42.154762  \nstd         3.016932       0.555924       0.249975  \n\n[8 rows x 162 columns]",
      "text/html": "<div>\n<style scoped>\n    .dataframe tbody tr th:only-of-type {\n        vertical-align: middle;\n    }\n\n    .dataframe tbody tr th {\n        vertical-align: top;\n    }\n\n    .dataframe thead th {\n        text-align: right;\n    }\n</style>\n<table border=\"1\" class=\"dataframe\">\n  <thead>\n    <tr style=\"text-align: right;\">\n      <th></th>\n      <th>Date</th>\n      <th>FTHG</th>\n      <th>FTAG</th>\n      <th>HTHG</th>\n      <th>HTAG</th>\n      <th>GBH</th>\n      <th>GBD</th>\n      <th>GBA</th>\n      <th>IWH</th>\n      <th>IWD</th>\n      <th>...</th>\n      <th>SOA</th>\n      <th>LBAHH</th>\n      <th>LBAHA</th>\n      <th>LBAH</th>\n      <th>Avg_away_odds</th>\n      <th>Avg_home_odds</th>\n      <th>Avg_draw_odds</th>\n      <th>Var_away_odds</th>\n      <th>Var_home_odds</th>\n      <th>Var_draw_odds</th>\n    </tr>\n  </thead>\n  <tbody>\n    <tr>\n      <th>count</th>\n      <td>152789</td>\n      <td>152789.000000</td>\n      <td>152789.000000</td>\n      <td>152789.000000</td>\n      <td>152789.000000</td>\n      <td>86570.000000</td>\n      <td>86631.000000</td>\n      <td>86614.000000</td>\n      <td>148933.000000</td>\n      <td>148935.000000</td>\n      <td>...</td>\n      <td>6580.000000</td>\n      <td>5448.000000</td>\n      <td>5448.000000</td>\n      <td>5436.000000</td>\n      <td>152438.000000</td>\n      <td>152437.000000</td>\n      <td>152437.000000</td>\n      <td>151697.000000</td>\n      <td>151696.000000</td>\n      <td>151696.000000</td>\n    </tr>\n    <tr>\n      <th>mean</th>\n      <td>2011-07-17 12:41:28.985463552</td>\n      <td>1.484727</td>\n      <td>1.134165</td>\n      <td>0.655100</td>\n      <td>0.494460</td>\n      <td>2.273737</td>\n      <td>3.377340</td>\n      <td>3.940317</td>\n      <td>2.335584</td>\n      <td>3.381009</td>\n      <td>...</td>\n      <td>3.832853</td>\n      <td>1.911193</td>\n      <td>1.924781</td>\n      <td>-0.350539</td>\n      <td>3.991286</td>\n      <td>2.398775</td>\n      <td>3.503026</td>\n      <td>0.295144</td>\n      <td>0.039220</td>\n      <td>0.034352</td>\n    </tr>\n    <tr>\n      <th>min</th>\n      <td>2000-07-28 00:00:00</td>\n      <td>0.000000</td>\n      <td>0.000000</td>\n      <td>0.000000</td>\n      <td>0.000000</td>\n      <td>1.030000</td>\n      <td>1.250000</td>\n      <td>1.060000</td>\n      <td>1.010000</td>\n      <td>1.500000</td>\n      <td>...</td>\n      <td>1.140000</td>\n      <td>-2.250000</td>\n      <td>-0.500000</td>\n      <td>-2.250000</td>\n      <td>1.040000</td>\n      <td>1.010000</td>\n      <td>1.250000</td>\n      <td>0.000000</td>\n      <td>0.000000</td>\n      <td>0.000000</td>\n    </tr>\n    <tr>\n      <th>25%</th>\n      <td>2006-02-04 00:00:00</td>\n      <td>1.000000</td>\n      <td>0.000000</td>\n      <td>0.000000</td>\n      <td>0.000000</td>\n      <td>1.750000</td>\n      <td>3.100000</td>\n      <td>2.650000</td>\n      <td>1.750000</td>\n      <td>3.050000</td>\n      <td>...</td>\n      <td>2.620000</td>\n      <td>1.840000</td>\n      <td>1.840000</td>\n      <td>-0.750000</td>\n      <td>2.615000</td>\n      <td>1.757143</td>\n      <td>3.171429</td>\n      <td>0.006420</td>\n      <td>0.001344</td>\n      <td>0.006111</td>\n    </tr>\n    <tr>\n      <th>50%</th>\n      <td>2011-08-19 00:00:00</td>\n      <td>1.000000</td>\n      <td>1.000000</td>\n      <td>0.000000</td>\n      <td>0.000000</td>\n      <td>2.100000</td>\n      <td>3.250000</td>\n      <td>3.350000</td>\n      <td>2.100000</td>\n      <td>3.200000</td>\n      <td>...</td>\n      <td>3.250000</td>\n      <td>1.920000</td>\n      <td>1.920000</td>\n      <td>-0.250000</td>\n      <td>3.312857</td>\n      <td>2.126667</td>\n      <td>3.306667</td>\n      <td>0.024139</td>\n      <td>0.003367</td>\n      <td>0.011267</td>\n    </tr>\n    <tr>\n      <th>75%</th>\n      <td>2016-12-19 00:00:00</td>\n      <td>2.000000</td>\n      <td>2.000000</td>\n      <td>1.000000</td>\n      <td>1.000000</td>\n      <td>2.450000</td>\n      <td>3.450000</td>\n      <td>4.500000</td>\n      <td>2.500000</td>\n      <td>3.450000</td>\n      <td>...</td>\n      <td>4.500000</td>\n      <td>2.000000</td>\n      <td>2.000000</td>\n      <td>0.000000</td>\n      <td>4.450000</td>\n      <td>2.566667</td>\n      <td>3.550000</td>\n      <td>0.087500</td>\n      <td>0.009048</td>\n      <td>0.022157</td>\n    </tr>\n    <tr>\n      <th>max</th>\n      <td>2022-05-29 00:00:00</td>\n      <td>10.000000</td>\n      <td>9.000000</td>\n      <td>7.000000</td>\n      <td>6.000000</td>\n      <td>24.000000</td>\n      <td>11.000000</td>\n      <td>34.000000</td>\n      <td>30.000000</td>\n      <td>16.000000</td>\n      <td>...</td>\n      <td>21.000000</td>\n      <td>3.400000</td>\n      <td>4.000000</td>\n      <td>9.000000</td>\n      <td>68.000000</td>\n      <td>32.333333</td>\n      <td>19.214286</td>\n      <td>468.000000</td>\n      <td>140.333333</td>\n      <td>42.154762</td>\n    </tr>\n    <tr>\n      <th>std</th>\n      <td>NaN</td>\n      <td>1.252580</td>\n      <td>1.106677</td>\n      <td>0.808874</td>\n      <td>0.708459</td>\n      <td>1.026936</td>\n      <td>0.604185</td>\n      <td>2.171809</td>\n      <td>1.150601</td>\n      <td>0.709864</td>\n      <td>...</td>\n      <td>2.077070</td>\n      <td>0.174244</td>\n      <td>0.124480</td>\n      <td>0.588715</td>\n      <td>2.598599</td>\n      <td>1.291732</td>\n      <td>0.797677</td>\n      <td>3.016932</td>\n      <td>0.555924</td>\n      <td>0.249975</td>\n    </tr>\n  </tbody>\n</table>\n<p>8 rows × 162 columns</p>\n</div>"
     },
     "execution_count": 32,
     "metadata": {},
     "output_type": "execute_result"
    }
   ],
   "source": [
    "df.describe()"
   ],
   "metadata": {
    "collapsed": false,
    "ExecuteTime": {
     "end_time": "2023-11-14T17:20:32.640868400Z",
     "start_time": "2023-11-14T17:20:31.701534900Z"
    }
   },
   "id": "99cb63c7675f6be0"
  },
  {
   "cell_type": "markdown",
   "source": [
    "Percentage of missing values."
   ],
   "metadata": {
    "collapsed": false
   },
   "id": "1d3741cd471b158a"
  },
  {
   "cell_type": "code",
   "execution_count": 33,
   "outputs": [
    {
     "data": {
      "text/plain": "AFKC          0.991505\nHFKC          0.991505\nSYD           0.964494\nSYA           0.964441\nSYH           0.964441\nLBAH          0.964422\nLBAHA         0.964343\nLBAHH         0.964343\nAO            0.957700\nHHW           0.957661\nAHW           0.957582\nHO            0.957575\nSOH           0.957032\nSOD           0.956941\nSOA           0.956934\nABP           0.956568\nAttendance    0.956554\nHBP           0.956482\nB365AH        0.955389\nGBAHA         0.926520\ndtype: float64"
     },
     "execution_count": 33,
     "metadata": {},
     "output_type": "execute_result"
    }
   ],
   "source": [
    "na_vals = df.isna().sum()\n",
    "na_vals = na_vals/df.shape[0]\n",
    "na_vals.sort_values(ascending = False).head(20)"
   ],
   "metadata": {
    "collapsed": false,
    "ExecuteTime": {
     "end_time": "2023-11-14T17:20:32.759274700Z",
     "start_time": "2023-11-14T17:20:32.641881100Z"
    }
   },
   "id": "87bd3aef84019e54"
  },
  {
   "cell_type": "code",
   "execution_count": 34,
   "outputs": [
    {
     "data": {
      "text/plain": "   Variable First Occurrence Last Occurrence  Missing within\n26      SYD       2002-05-05      2001-08-25          140984\n27      SYA       2002-05-05      2001-08-25          140976\n25      SYH       2002-05-05      2001-08-25          140976\n34    GBAHA       2004-04-03      2004-10-24          135492\n35     GBAH       2004-04-03      2004-10-24          135489\n..      ...              ...             ...             ...\n8      HTAG       2001-05-20      2022-05-15               0\n9       HTR       2001-05-20      2022-05-15               0\n22   league       2001-05-20      2022-05-15               0\n23  country       2001-05-20      2022-05-15               0\n4      FTHG       2001-05-20      2022-05-15               0\n\n[173 rows x 4 columns]",
      "text/html": "<div>\n<style scoped>\n    .dataframe tbody tr th:only-of-type {\n        vertical-align: middle;\n    }\n\n    .dataframe tbody tr th {\n        vertical-align: top;\n    }\n\n    .dataframe thead th {\n        text-align: right;\n    }\n</style>\n<table border=\"1\" class=\"dataframe\">\n  <thead>\n    <tr style=\"text-align: right;\">\n      <th></th>\n      <th>Variable</th>\n      <th>First Occurrence</th>\n      <th>Last Occurrence</th>\n      <th>Missing within</th>\n    </tr>\n  </thead>\n  <tbody>\n    <tr>\n      <th>26</th>\n      <td>SYD</td>\n      <td>2002-05-05</td>\n      <td>2001-08-25</td>\n      <td>140984</td>\n    </tr>\n    <tr>\n      <th>27</th>\n      <td>SYA</td>\n      <td>2002-05-05</td>\n      <td>2001-08-25</td>\n      <td>140976</td>\n    </tr>\n    <tr>\n      <th>25</th>\n      <td>SYH</td>\n      <td>2002-05-05</td>\n      <td>2001-08-25</td>\n      <td>140976</td>\n    </tr>\n    <tr>\n      <th>34</th>\n      <td>GBAHA</td>\n      <td>2004-04-03</td>\n      <td>2004-10-24</td>\n      <td>135492</td>\n    </tr>\n    <tr>\n      <th>35</th>\n      <td>GBAH</td>\n      <td>2004-04-03</td>\n      <td>2004-10-24</td>\n      <td>135489</td>\n    </tr>\n    <tr>\n      <th>...</th>\n      <td>...</td>\n      <td>...</td>\n      <td>...</td>\n      <td>...</td>\n    </tr>\n    <tr>\n      <th>8</th>\n      <td>HTAG</td>\n      <td>2001-05-20</td>\n      <td>2022-05-15</td>\n      <td>0</td>\n    </tr>\n    <tr>\n      <th>9</th>\n      <td>HTR</td>\n      <td>2001-05-20</td>\n      <td>2022-05-15</td>\n      <td>0</td>\n    </tr>\n    <tr>\n      <th>22</th>\n      <td>league</td>\n      <td>2001-05-20</td>\n      <td>2022-05-15</td>\n      <td>0</td>\n    </tr>\n    <tr>\n      <th>23</th>\n      <td>country</td>\n      <td>2001-05-20</td>\n      <td>2022-05-15</td>\n      <td>0</td>\n    </tr>\n    <tr>\n      <th>4</th>\n      <td>FTHG</td>\n      <td>2001-05-20</td>\n      <td>2022-05-15</td>\n      <td>0</td>\n    </tr>\n  </tbody>\n</table>\n<p>173 rows × 4 columns</p>\n</div>"
     },
     "execution_count": 34,
     "metadata": {},
     "output_type": "execute_result"
    }
   ],
   "source": [
    "df = df.reset_index(drop = True)\n",
    "\n",
    "# Get first and last occurrences\n",
    "first_occurrences = df.apply(lambda x: x.first_valid_index())\n",
    "last_occurrences = df.apply(lambda x: x.last_valid_index())\n",
    "\n",
    "# Initialize a dictionary to store counts\n",
    "missing_counts = {}\n",
    "\n",
    "# Iterate through each column and calculate missing values counts between first and last occurrences\n",
    "for column in df.columns:\n",
    "    # Indexes of the first and last occurrences\n",
    "    first_idx = df[column].first_valid_index()\n",
    "    last_idx = df[column].last_valid_index()\n",
    "\n",
    "    # Select the range between first and last occurrence, count missing values\n",
    "    missing_count = df[column][first_idx:last_idx].isnull().sum()\n",
    "    missing_counts[column] = missing_count\n",
    "\n",
    "# Create a new DataFrame with the results\n",
    "result_df = pd.DataFrame({\n",
    "    'Variable':          df.columns,\n",
    "    'First Occurrence':  df[\"Date\"].to_numpy()[first_occurrences.values],\n",
    "    'Last Occurrence':   df[\"Date\"].to_numpy()[last_occurrences.values],\n",
    "    \"Missing within\": missing_counts.values()\n",
    "})\n",
    "\n",
    "result_df.sort_values(by=\"Missing within\", ascending=False)"
   ],
   "metadata": {
    "collapsed": false,
    "ExecuteTime": {
     "end_time": "2023-11-14T17:20:33.016198800Z",
     "start_time": "2023-11-14T17:20:32.702014800Z"
    }
   },
   "id": "647e8ffc4fc172d2"
  },
  {
   "cell_type": "markdown",
   "source": [
    "List of the most missing values."
   ],
   "metadata": {
    "collapsed": false
   },
   "id": "8a1f0edd1a978df0"
  },
  {
   "cell_type": "code",
   "execution_count": 35,
   "outputs": [
    {
     "data": {
      "text/plain": "Div                      0.000000\nDate                     0.000000\nHomeTeam                 0.000000\nAwayTeam                 0.000000\nFTHG                     0.000000\n                           ...   \nAvg_draw_odds            0.073529\nAvg_bookie_prediction    0.073529\nVar_away_odds            0.088235\nVar_home_odds            0.088235\nVar_draw_odds            0.088235\nLength: 173, dtype: float64"
     },
     "execution_count": 35,
     "metadata": {},
     "output_type": "execute_result"
    }
   ],
   "source": [
    "na_vals = df[df[\"season\"] > 18].isna().sum()\n",
    "\n",
    "na_vals = na_vals/df[df[\"season\"] > 18].shape[0]*100\n",
    "na_vals"
   ],
   "metadata": {
    "collapsed": false,
    "ExecuteTime": {
     "end_time": "2023-11-14T17:20:33.139125500Z",
     "start_time": "2023-11-14T17:20:33.018200600Z"
    }
   },
   "id": "84f84ee271f3527a"
  },
  {
   "cell_type": "code",
   "execution_count": 36,
   "outputs": [
    {
     "data": {
      "text/plain": "<Figure size 640x480 with 1 Axes>",
      "image/png": "[encoded data removed]"
     },
     "metadata": {},
     "output_type": "display_data"
    }
   ],
   "source": [
    "na_vals = [df[df[\"season\"]==i].isna().sum().sum()/(df[df[\"season\"]==i].shape[0]*df[df[\"season\"]==i].shape[1]) for i in range(0,22)]\n",
    "plt.xticks(range(0,22))\n",
    "plt.ylim(0.3, 1)\n",
    "plt.locator_params(axis='y', nbins=14)\n",
    "plt.plot(na_vals)\n",
    "plt.gca().ticklabel_format(axis='y', style='plain', scilimits=(0, 0))"
   ],
   "metadata": {
    "collapsed": false,
    "ExecuteTime": {
     "end_time": "2023-11-14T17:20:33.514879600Z",
     "start_time": "2023-11-14T17:20:33.064585400Z"
    }
   },
   "id": "787106119d5075a2"
  },
  {
   "cell_type": "markdown",
   "source": [
    "# Feature Engineering\n",
    "We decided to add several features to the dataset.\n",
    "These features are:\n",
    "- Result of the last match between the two contending teams\n",
    "- Goal score during the last match between the two contending teams\n",
    "- Average amount of goals scored in the current season\n",
    "- Average amount of goals received in the current season\n",
    "\n",
    "We believe that these features will prove useful in the training of our model as they can reveal things such as momentum and strenghts/weaknesses against certain teams."
   ],
   "metadata": {
    "collapsed": false
   },
   "id": "6dafab2b1568d265"
  },
  {
   "cell_type": "markdown",
   "source": [
    "### Result of the last match between the two contending teams"
   ],
   "metadata": {
    "collapsed": false
   },
   "id": "e02bcbf88623869e"
  },
  {
   "cell_type": "markdown",
   "source": [
    "Create a string of participating teams, append them alphabetically behind each other so it is easier to slice them."
   ],
   "metadata": {
    "collapsed": false
   },
   "id": "27d3db66a4fa4ef1"
  },
  {
   "cell_type": "code",
   "execution_count": 37,
   "outputs": [],
   "source": [
    "df[\"Index\"] = df.index\n",
    "df[\"MatchTeams\"] = df[[\"HomeTeam\",\"AwayTeam\"]].values.tolist()\n",
    "df[\"MatchTeams\"] = df[\"MatchTeams\"].sort_values().apply(lambda x: sorted(x))"
   ],
   "metadata": {
    "collapsed": false,
    "ExecuteTime": {
     "end_time": "2023-11-14T17:20:34.199233300Z",
     "start_time": "2023-11-14T17:20:33.516882700Z"
    }
   },
   "id": "5f2106b16333bf"
  },
  {
   "cell_type": "code",
   "execution_count": 38,
   "outputs": [],
   "source": [
    "df = df.assign(MatchTeams=df[\"MatchTeams\"].apply(lambda l: \"_\".join(l)))"
   ],
   "metadata": {
    "collapsed": false,
    "ExecuteTime": {
     "end_time": "2023-11-14T17:20:34.307524500Z",
     "start_time": "2023-11-14T17:20:34.201745400Z"
    }
   },
   "id": "1588a4c5793ed246"
  },
  {
   "cell_type": "code",
   "execution_count": 39,
   "outputs": [
    {
     "data": {
      "text/plain": "        Div       Date      HomeTeam      AwayTeam  FTHG  FTAG  FTR  HTHG  \\\n147285  NaN        NaT           NaN           NaN   NaN   NaN  NaN   NaN   \n147138   T1 2003-11-08     Adanaspor  A. Sebatspor   1.0   2.0    A   0.0   \n147114  NaN        NaT           NaN           NaN   NaN   NaN  NaN   NaN   \n147133   T1 2003-12-21    Ankaragucu  A. Sebatspor   1.0   1.0    D   1.0   \n147436   T1 2004-05-15  A. Sebatspor    Ankaragucu   3.0   2.0    H   3.0   \n...     ...        ...           ...           ...   ...   ...  ...   ...   \n39178    E3 2003-09-13        Yeovil          York   3.0   0.0    H   2.0   \n45598    E3 2004-04-20          York        Yeovil   1.0   2.0    A   1.0   \n45653    E3 2015-08-18          York        Yeovil   1.0   0.0    H   0.0   \n146113  NaN        NaT           NaN           NaN   NaN   NaN  NaN   NaN   \n104875  NaN        NaT           NaN           NaN   NaN   NaN  NaN   NaN   \n\n        HTAG  HTR  ...  LBAHA  LBAH  Avg_away_odds  Avg_home_odds  \\\n147285   NaN  NaN  ...    NaN   NaN            NaN            NaN   \n147138   1.0    A  ...    NaN   NaN       3.341667       1.881500   \n147114   NaN  NaN  ...    NaN   NaN            NaN            NaN   \n147133   0.0    H  ...    NaN   NaN       4.302167       1.644000   \n147436   2.0    H  ...    NaN   NaN       6.950000       1.305000   \n...      ...  ...  ...    ...   ...            ...            ...   \n39178    0.0    H  ...    NaN   NaN       3.464286       1.892714   \n45598    0.0    H  ...    NaN   NaN       2.200000       2.728333   \n45653    0.0    D  ...    NaN   NaN       4.087143       1.934286   \n146113   NaN  NaN  ...    NaN   NaN            NaN            NaN   \n104875   NaN  NaN  ...    NaN   NaN            NaN            NaN   \n\n        Avg_draw_odds  Avg_bookie_prediction  Var_away_odds  Var_home_odds  \\\n147285            NaN                    NaN            NaN            NaN   \n147138       3.358333                      H       0.044417       0.005085   \n147114            NaN                    NaN            NaN            NaN   \n147133       3.441667                      H       0.028892       0.000972   \n147436       4.507500                      H       0.176667       0.000300   \n...               ...                    ...            ...            ...   \n39178        3.235714                      H       0.060595       0.000785   \n45598        3.375000                      A       0.007000       0.003817   \n45653        3.360000                      H       0.168324       0.000462   \n146113            NaN                    NaN            NaN            NaN   \n104875            NaN                    NaN            NaN            NaN   \n\n        Var_draw_odds     Index  \n147285            NaN       NaN  \n147138       0.008417  147285.0  \n147114            NaN       NaN  \n147133       0.010417  147114.0  \n147436       0.022892  147133.0  \n...               ...       ...  \n39178        0.003929   39392.0  \n45598        0.015750   39178.0  \n45653        0.019367   45598.0  \n146113            NaN       NaN  \n104875            NaN       NaN  \n\n[152789 rows x 174 columns]",
      "text/html": "<div>\n<style scoped>\n    .dataframe tbody tr th:only-of-type {\n        vertical-align: middle;\n    }\n\n    .dataframe tbody tr th {\n        vertical-align: top;\n    }\n\n    .dataframe thead th {\n        text-align: right;\n    }\n</style>\n<table border=\"1\" class=\"dataframe\">\n  <thead>\n    <tr style=\"text-align: right;\">\n      <th></th>\n      <th>Div</th>\n      <th>Date</th>\n      <th>HomeTeam</th>\n      <th>AwayTeam</th>\n      <th>FTHG</th>\n      <th>FTAG</th>\n      <th>FTR</th>\n      <th>HTHG</th>\n      <th>HTAG</th>\n      <th>HTR</th>\n      <th>...</th>\n      <th>LBAHA</th>\n      <th>LBAH</th>\n      <th>Avg_away_odds</th>\n      <th>Avg_home_odds</th>\n      <th>Avg_draw_odds</th>\n      <th>Avg_bookie_prediction</th>\n      <th>Var_away_odds</th>\n      <th>Var_home_odds</th>\n      <th>Var_draw_odds</th>\n      <th>Index</th>\n    </tr>\n  </thead>\n  <tbody>\n    <tr>\n      <th>147285</th>\n      <td>NaN</td>\n      <td>NaT</td>\n      <td>NaN</td>\n      <td>NaN</td>\n      <td>NaN</td>\n      <td>NaN</td>\n      <td>NaN</td>\n      <td>NaN</td>\n      <td>NaN</td>\n      <td>NaN</td>\n      <td>...</td>\n      <td>NaN</td>\n      <td>NaN</td>\n      <td>NaN</td>\n      <td>NaN</td>\n      <td>NaN</td>\n      <td>NaN</td>\n      <td>NaN</td>\n      <td>NaN</td>\n      <td>NaN</td>\n      <td>NaN</td>\n    </tr>\n    <tr>\n      <th>147138</th>\n      <td>T1</td>\n      <td>2003-11-08</td>\n      <td>Adanaspor</td>\n      <td>A. Sebatspor</td>\n      <td>1.0</td>\n      <td>2.0</td>\n      <td>A</td>\n      <td>0.0</td>\n      <td>1.0</td>\n      <td>A</td>\n      <td>...</td>\n      <td>NaN</td>\n      <td>NaN</td>\n      <td>3.341667</td>\n      <td>1.881500</td>\n      <td>3.358333</td>\n      <td>H</td>\n      <td>0.044417</td>\n      <td>0.005085</td>\n      <td>0.008417</td>\n      <td>147285.0</td>\n    </tr>\n    <tr>\n      <th>147114</th>\n      <td>NaN</td>\n      <td>NaT</td>\n      <td>NaN</td>\n      <td>NaN</td>\n      <td>NaN</td>\n      <td>NaN</td>\n      <td>NaN</td>\n      <td>NaN</td>\n      <td>NaN</td>\n      <td>NaN</td>\n      <td>...</td>\n      <td>NaN</td>\n      <td>NaN</td>\n      <td>NaN</td>\n      <td>NaN</td>\n      <td>NaN</td>\n      <td>NaN</td>\n      <td>NaN</td>\n      <td>NaN</td>\n      <td>NaN</td>\n      <td>NaN</td>\n    </tr>\n    <tr>\n      <th>147133</th>\n      <td>T1</td>\n      <td>2003-12-21</td>\n      <td>Ankaragucu</td>\n      <td>A. Sebatspor</td>\n      <td>1.0</td>\n      <td>1.0</td>\n      <td>D</td>\n      <td>1.0</td>\n      <td>0.0</td>\n      <td>H</td>\n      <td>...</td>\n      <td>NaN</td>\n      <td>NaN</td>\n      <td>4.302167</td>\n      <td>1.644000</td>\n      <td>3.441667</td>\n      <td>H</td>\n      <td>0.028892</td>\n      <td>0.000972</td>\n      <td>0.010417</td>\n      <td>147114.0</td>\n    </tr>\n    <tr>\n      <th>147436</th>\n      <td>T1</td>\n      <td>2004-05-15</td>\n      <td>A. Sebatspor</td>\n      <td>Ankaragucu</td>\n      <td>3.0</td>\n      <td>2.0</td>\n      <td>H</td>\n      <td>3.0</td>\n      <td>2.0</td>\n      <td>H</td>\n      <td>...</td>\n      <td>NaN</td>\n      <td>NaN</td>\n      <td>6.950000</td>\n      <td>1.305000</td>\n      <td>4.507500</td>\n      <td>H</td>\n      <td>0.176667</td>\n      <td>0.000300</td>\n      <td>0.022892</td>\n      <td>147133.0</td>\n    </tr>\n    <tr>\n      <th>...</th>\n      <td>...</td>\n      <td>...</td>\n      <td>...</td>\n      <td>...</td>\n      <td>...</td>\n      <td>...</td>\n      <td>...</td>\n      <td>...</td>\n      <td>...</td>\n      <td>...</td>\n      <td>...</td>\n      <td>...</td>\n      <td>...</td>\n      <td>...</td>\n      <td>...</td>\n      <td>...</td>\n      <td>...</td>\n      <td>...</td>\n      <td>...</td>\n      <td>...</td>\n      <td>...</td>\n    </tr>\n    <tr>\n      <th>39178</th>\n      <td>E3</td>\n      <td>2003-09-13</td>\n      <td>Yeovil</td>\n      <td>York</td>\n      <td>3.0</td>\n      <td>0.0</td>\n      <td>H</td>\n      <td>2.0</td>\n      <td>0.0</td>\n      <td>H</td>\n      <td>...</td>\n      <td>NaN</td>\n      <td>NaN</td>\n      <td>3.464286</td>\n      <td>1.892714</td>\n      <td>3.235714</td>\n      <td>H</td>\n      <td>0.060595</td>\n      <td>0.000785</td>\n      <td>0.003929</td>\n      <td>39392.0</td>\n    </tr>\n    <tr>\n      <th>45598</th>\n      <td>E3</td>\n      <td>2004-04-20</td>\n      <td>York</td>\n      <td>Yeovil</td>\n      <td>1.0</td>\n      <td>2.0</td>\n      <td>A</td>\n      <td>1.0</td>\n      <td>0.0</td>\n      <td>H</td>\n      <td>...</td>\n      <td>NaN</td>\n      <td>NaN</td>\n      <td>2.200000</td>\n      <td>2.728333</td>\n      <td>3.375000</td>\n      <td>A</td>\n      <td>0.007000</td>\n      <td>0.003817</td>\n      <td>0.015750</td>\n      <td>39178.0</td>\n    </tr>\n    <tr>\n      <th>45653</th>\n      <td>E3</td>\n      <td>2015-08-18</td>\n      <td>York</td>\n      <td>Yeovil</td>\n      <td>1.0</td>\n      <td>0.0</td>\n      <td>H</td>\n      <td>0.0</td>\n      <td>0.0</td>\n      <td>D</td>\n      <td>...</td>\n      <td>NaN</td>\n      <td>NaN</td>\n      <td>4.087143</td>\n      <td>1.934286</td>\n      <td>3.360000</td>\n      <td>H</td>\n      <td>0.168324</td>\n      <td>0.000462</td>\n      <td>0.019367</td>\n      <td>45598.0</td>\n    </tr>\n    <tr>\n      <th>146113</th>\n      <td>NaN</td>\n      <td>NaT</td>\n      <td>NaN</td>\n      <td>NaN</td>\n      <td>NaN</td>\n      <td>NaN</td>\n      <td>NaN</td>\n      <td>NaN</td>\n      <td>NaN</td>\n      <td>NaN</td>\n      <td>...</td>\n      <td>NaN</td>\n      <td>NaN</td>\n      <td>NaN</td>\n      <td>NaN</td>\n      <td>NaN</td>\n      <td>NaN</td>\n      <td>NaN</td>\n      <td>NaN</td>\n      <td>NaN</td>\n      <td>NaN</td>\n    </tr>\n    <tr>\n      <th>104875</th>\n      <td>NaN</td>\n      <td>NaT</td>\n      <td>NaN</td>\n      <td>NaN</td>\n      <td>NaN</td>\n      <td>NaN</td>\n      <td>NaN</td>\n      <td>NaN</td>\n      <td>NaN</td>\n      <td>NaN</td>\n      <td>...</td>\n      <td>NaN</td>\n      <td>NaN</td>\n      <td>NaN</td>\n      <td>NaN</td>\n      <td>NaN</td>\n      <td>NaN</td>\n      <td>NaN</td>\n      <td>NaN</td>\n      <td>NaN</td>\n      <td>NaN</td>\n    </tr>\n  </tbody>\n</table>\n<p>152789 rows × 174 columns</p>\n</div>"
     },
     "execution_count": 39,
     "metadata": {},
     "output_type": "execute_result"
    }
   ],
   "source": [
    "df.sort_values(['MatchTeams','Date'],ascending=True).groupby('MatchTeams').shift()"
   ],
   "metadata": {
    "collapsed": false,
    "ExecuteTime": {
     "end_time": "2023-11-14T17:20:34.703258Z",
     "start_time": "2023-11-14T17:20:34.309027100Z"
    }
   },
   "id": "10bb6bf4e89d3b5a"
  },
  {
   "cell_type": "markdown",
   "source": [],
   "metadata": {
    "collapsed": false
   },
   "id": "23e363b205240b57"
  },
  {
   "cell_type": "markdown",
   "source": [
    "Use groupby to group by same matches, create [\"LastMatchIndex\",\"LastMatchAwayGoals\", \"LastMatchHomeGoals\"] columns with unsorted values.\n",
    "First match of two teams gets empty column index as LastMatchIndex"
   ],
   "metadata": {
    "collapsed": false
   },
   "id": "a1ac3e7f75c4edd7"
  },
  {
   "cell_type": "code",
   "execution_count": 40,
   "outputs": [
    {
     "data": {
      "text/plain": "0            117.0\n1         152788.0\n2         152788.0\n3         152788.0\n4         152788.0\n            ...   \n152785    152197.0\n152786    152763.0\n152787    152303.0\n152788    152466.0\n152789    152789.0\nName: LastMatchIndex, Length: 152790, dtype: float64"
     },
     "execution_count": 40,
     "metadata": {},
     "output_type": "execute_result"
    }
   ],
   "source": [
    "df[[\"LastMatchIndex\",\"LastMatchAwayGoals\", \"LastMatchHomeGoals\"]] = df.sort_values(['MatchTeams','Date'],ascending=True).groupby('MatchTeams').shift()[[\"Index\",\"FTAG\", \"FTHG\"]]\n",
    "df.loc[np.isnan(df[\"LastMatchIndex\"]), \"LastMatchIndex\"] = len(df.index)-1\n",
    "df.loc[len(df.index)] = [np.nan for _ in range(df.shape[1])]\n",
    "df.loc[len(df.index)-1]\n",
    "df[\"LastMatchIndex\"] = df[\"LastMatchIndex\"].replace(np.nan, len(df.index)-1)\n",
    "\n",
    "df[\"LastMatchIndex\"].fillna(len(df.index)-1)"
   ],
   "metadata": {
    "collapsed": false,
    "ExecuteTime": {
     "end_time": "2023-11-14T17:20:35.106054300Z",
     "start_time": "2023-11-14T17:20:34.699027900Z"
    }
   },
   "id": "9ab9f1f222745ff5"
  },
  {
   "cell_type": "code",
   "execution_count": 41,
   "outputs": [],
   "source": [
    "arr = df[\"LastMatchIndex\"]"
   ],
   "metadata": {
    "collapsed": false,
    "ExecuteTime": {
     "end_time": "2023-11-14T17:20:35.133403600Z",
     "start_time": "2023-11-14T17:20:35.103050300Z"
    }
   },
   "id": "78964ed215e7e017"
  },
  {
   "cell_type": "markdown",
   "source": [
    "Switch LastMatchHomeGoals and LastMatchAwayGoals if they do not correspond to the teams accordingly, calculate who won the match"
   ],
   "metadata": {
    "collapsed": false
   },
   "id": "eb2cdee9b48e7020"
  },
  {
   "cell_type": "code",
   "execution_count": 42,
   "outputs": [],
   "source": [
    "df[\"SameHomeTeam\"] = (df.iloc[arr][\"HomeTeam\"].values == df[\"HomeTeam\"].values)\n",
    "df.loc[df[\"SameHomeTeam\"],['LastMatchHomeGoals','LastMatchAwayGoals']] = df.loc[df[\"SameHomeTeam\"],['LastMatchHomeGoals','LastMatchAwayGoals']].values\n",
    "df[\"LastMatchAwayWin\"] = (df[\"LastMatchAwayGoals\"] > df[\"LastMatchHomeGoals\"]).astype(int)\n",
    "df[\"LastMatchHomeWin\"] = (df[\"LastMatchAwayGoals\"] < df[\"LastMatchHomeGoals\"]).astype(int)\n",
    "df[\"LastMatchDraw\"] = (df[\"LastMatchAwayGoals\"] == df[\"LastMatchHomeGoals\"]).astype(int)"
   ],
   "metadata": {
    "collapsed": false,
    "ExecuteTime": {
     "end_time": "2023-11-14T17:20:35.277422400Z",
     "start_time": "2023-11-14T17:20:35.117485200Z"
    }
   },
   "id": "ac199309ca36405d"
  },
  {
   "cell_type": "code",
   "execution_count": 43,
   "outputs": [
    {
     "data": {
      "text/plain": "        Div       Date     HomeTeam          AwayTeam  FTHG  FTAG  FTR  HTHG  \\\n0        B1 2001-05-20     Mechelen            Lierse   1.0   1.0    D   1.0   \n1        B1 2000-09-17     Germinal       Club Brugge   2.0   3.0    A   0.0   \n2        B1 2000-10-14      Beveren          Standard   0.0   3.0    A   0.0   \n3        B1 2000-09-06      Lokeren          Mechelen   3.0   2.0    H   0.0   \n4        B1 2000-08-27    Charleroi           Antwerp   1.0   0.0    H   1.0   \n...     ...        ...          ...               ...   ...   ...  ...   ...   \n152785   T1 2021-08-22       Goztep  Yeni Malatyaspor   0.0   1.0    A   0.0   \n152786   T1 2022-04-16        Altay        Buyuksehyr   1.0   1.0    D   0.0   \n152787   T1 2021-12-19   Fenerbahce          Besiktas   2.0   2.0    D   2.0   \n152788   T1 2022-05-15  Trabzonspor             Altay   2.0   1.0    H   1.0   \n152789  NaN        NaT          NaN               NaN   NaN   NaN  NaN   NaN   \n\n        HTAG  HTR  ...  Avg_bookie_prediction  Var_away_odds  Var_home_odds  \\\n0        1.0    D  ...                      A       0.007200       0.007200   \n1        1.0    A  ...                      A       0.005833       0.056667   \n2        2.0    A  ...                      A       0.003333       0.007292   \n3        2.0    A  ...                      H       0.135833       0.004300   \n4        0.0    H  ...                      H       0.163333       0.000100   \n...      ...  ...  ...                    ...            ...            ...   \n152785   0.0    D  ...                      H       0.038867       0.003200   \n152786   1.0    A  ...                      A       0.001550       0.016417   \n152787   1.0    H  ...                      H       0.005880       0.003417   \n152788   0.0    H  ...                      H       0.190267       0.000297   \n152789   NaN  NaN  ...                    NaN            NaN            NaN   \n\n        Var_draw_odds               MatchTeams  LastMatchAwayGoals  \\\n0            0.045000          Lierse_Mechelen                 1.0   \n1            0.026667     Club Brugge_Germinal                 NaN   \n2            0.012292         Beveren_Standard                 NaN   \n3            0.010000         Lokeren_Mechelen                 NaN   \n4            0.007292        Antwerp_Charleroi                 NaN   \n...               ...                      ...                 ...   \n152785       0.011417  Goztep_Yeni Malatyaspor                 2.0   \n152786       0.014550         Altay_Buyuksehyr                 0.0   \n152787       0.009750      Besiktas_Fenerbahce                 1.0   \n152788       0.042467        Altay_Trabzonspor                 2.0   \n152789            NaN                      NaN                 NaN   \n\n        LastMatchHomeGoals  LastMatchAwayWin  LastMatchHomeWin  LastMatchDraw  \n0                      1.0                 0                 0              1  \n1                      NaN                 0                 0              0  \n2                      NaN                 0                 0              0  \n3                      NaN                 0                 0              0  \n4                      NaN                 0                 0              0  \n...                    ...               ...               ...            ...  \n152785                 2.0                 0                 0              1  \n152786                 0.0                 0                 0              1  \n152787                 1.0                 0                 0              1  \n152788                 1.0                 1                 0              0  \n152789                 NaN                 0                 0              0  \n\n[152790 rows x 179 columns]",
      "text/html": "<div>\n<style scoped>\n    .dataframe tbody tr th:only-of-type {\n        vertical-align: middle;\n    }\n\n    .dataframe tbody tr th {\n        vertical-align: top;\n    }\n\n    .dataframe thead th {\n        text-align: right;\n    }\n</style>\n<table border=\"1\" class=\"dataframe\">\n  <thead>\n    <tr style=\"text-align: right;\">\n      <th></th>\n      <th>Div</th>\n      <th>Date</th>\n      <th>HomeTeam</th>\n      <th>AwayTeam</th>\n      <th>FTHG</th>\n      <th>FTAG</th>\n      <th>FTR</th>\n      <th>HTHG</th>\n      <th>HTAG</th>\n      <th>HTR</th>\n      <th>...</th>\n      <th>Avg_bookie_prediction</th>\n      <th>Var_away_odds</th>\n      <th>Var_home_odds</th>\n      <th>Var_draw_odds</th>\n      <th>MatchTeams</th>\n      <th>LastMatchAwayGoals</th>\n      <th>LastMatchHomeGoals</th>\n      <th>LastMatchAwayWin</th>\n      <th>LastMatchHomeWin</th>\n      <th>LastMatchDraw</th>\n    </tr>\n  </thead>\n  <tbody>\n    <tr>\n      <th>0</th>\n      <td>B1</td>\n      <td>2001-05-20</td>\n      <td>Mechelen</td>\n      <td>Lierse</td>\n      <td>1.0</td>\n      <td>1.0</td>\n      <td>D</td>\n      <td>1.0</td>\n      <td>1.0</td>\n      <td>D</td>\n      <td>...</td>\n      <td>A</td>\n      <td>0.007200</td>\n      <td>0.007200</td>\n      <td>0.045000</td>\n      <td>Lierse_Mechelen</td>\n      <td>1.0</td>\n      <td>1.0</td>\n      <td>0</td>\n      <td>0</td>\n      <td>1</td>\n    </tr>\n    <tr>\n      <th>1</th>\n      <td>B1</td>\n      <td>2000-09-17</td>\n      <td>Germinal</td>\n      <td>Club Brugge</td>\n      <td>2.0</td>\n      <td>3.0</td>\n      <td>A</td>\n      <td>0.0</td>\n      <td>1.0</td>\n      <td>A</td>\n      <td>...</td>\n      <td>A</td>\n      <td>0.005833</td>\n      <td>0.056667</td>\n      <td>0.026667</td>\n      <td>Club Brugge_Germinal</td>\n      <td>NaN</td>\n      <td>NaN</td>\n      <td>0</td>\n      <td>0</td>\n      <td>0</td>\n    </tr>\n    <tr>\n      <th>2</th>\n      <td>B1</td>\n      <td>2000-10-14</td>\n      <td>Beveren</td>\n      <td>Standard</td>\n      <td>0.0</td>\n      <td>3.0</td>\n      <td>A</td>\n      <td>0.0</td>\n      <td>2.0</td>\n      <td>A</td>\n      <td>...</td>\n      <td>A</td>\n      <td>0.003333</td>\n      <td>0.007292</td>\n      <td>0.012292</td>\n      <td>Beveren_Standard</td>\n      <td>NaN</td>\n      <td>NaN</td>\n      <td>0</td>\n      <td>0</td>\n      <td>0</td>\n    </tr>\n    <tr>\n      <th>3</th>\n      <td>B1</td>\n      <td>2000-09-06</td>\n      <td>Lokeren</td>\n      <td>Mechelen</td>\n      <td>3.0</td>\n      <td>2.0</td>\n      <td>H</td>\n      <td>0.0</td>\n      <td>2.0</td>\n      <td>A</td>\n      <td>...</td>\n      <td>H</td>\n      <td>0.135833</td>\n      <td>0.004300</td>\n      <td>0.010000</td>\n      <td>Lokeren_Mechelen</td>\n      <td>NaN</td>\n      <td>NaN</td>\n      <td>0</td>\n      <td>0</td>\n      <td>0</td>\n    </tr>\n    <tr>\n      <th>4</th>\n      <td>B1</td>\n      <td>2000-08-27</td>\n      <td>Charleroi</td>\n      <td>Antwerp</td>\n      <td>1.0</td>\n      <td>0.0</td>\n      <td>H</td>\n      <td>1.0</td>\n      <td>0.0</td>\n      <td>H</td>\n      <td>...</td>\n      <td>H</td>\n      <td>0.163333</td>\n      <td>0.000100</td>\n      <td>0.007292</td>\n      <td>Antwerp_Charleroi</td>\n      <td>NaN</td>\n      <td>NaN</td>\n      <td>0</td>\n      <td>0</td>\n      <td>0</td>\n    </tr>\n    <tr>\n      <th>...</th>\n      <td>...</td>\n      <td>...</td>\n      <td>...</td>\n      <td>...</td>\n      <td>...</td>\n      <td>...</td>\n      <td>...</td>\n      <td>...</td>\n      <td>...</td>\n      <td>...</td>\n      <td>...</td>\n      <td>...</td>\n      <td>...</td>\n      <td>...</td>\n      <td>...</td>\n      <td>...</td>\n      <td>...</td>\n      <td>...</td>\n      <td>...</td>\n      <td>...</td>\n      <td>...</td>\n    </tr>\n    <tr>\n      <th>152785</th>\n      <td>T1</td>\n      <td>2021-08-22</td>\n      <td>Goztep</td>\n      <td>Yeni Malatyaspor</td>\n      <td>0.0</td>\n      <td>1.0</td>\n      <td>A</td>\n      <td>0.0</td>\n      <td>0.0</td>\n      <td>D</td>\n      <td>...</td>\n      <td>H</td>\n      <td>0.038867</td>\n      <td>0.003200</td>\n      <td>0.011417</td>\n      <td>Goztep_Yeni Malatyaspor</td>\n      <td>2.0</td>\n      <td>2.0</td>\n      <td>0</td>\n      <td>0</td>\n      <td>1</td>\n    </tr>\n    <tr>\n      <th>152786</th>\n      <td>T1</td>\n      <td>2022-04-16</td>\n      <td>Altay</td>\n      <td>Buyuksehyr</td>\n      <td>1.0</td>\n      <td>1.0</td>\n      <td>D</td>\n      <td>0.0</td>\n      <td>1.0</td>\n      <td>A</td>\n      <td>...</td>\n      <td>A</td>\n      <td>0.001550</td>\n      <td>0.016417</td>\n      <td>0.014550</td>\n      <td>Altay_Buyuksehyr</td>\n      <td>0.0</td>\n      <td>0.0</td>\n      <td>0</td>\n      <td>0</td>\n      <td>1</td>\n    </tr>\n    <tr>\n      <th>152787</th>\n      <td>T1</td>\n      <td>2021-12-19</td>\n      <td>Fenerbahce</td>\n      <td>Besiktas</td>\n      <td>2.0</td>\n      <td>2.0</td>\n      <td>D</td>\n      <td>2.0</td>\n      <td>1.0</td>\n      <td>H</td>\n      <td>...</td>\n      <td>H</td>\n      <td>0.005880</td>\n      <td>0.003417</td>\n      <td>0.009750</td>\n      <td>Besiktas_Fenerbahce</td>\n      <td>1.0</td>\n      <td>1.0</td>\n      <td>0</td>\n      <td>0</td>\n      <td>1</td>\n    </tr>\n    <tr>\n      <th>152788</th>\n      <td>T1</td>\n      <td>2022-05-15</td>\n      <td>Trabzonspor</td>\n      <td>Altay</td>\n      <td>2.0</td>\n      <td>1.0</td>\n      <td>H</td>\n      <td>1.0</td>\n      <td>0.0</td>\n      <td>H</td>\n      <td>...</td>\n      <td>H</td>\n      <td>0.190267</td>\n      <td>0.000297</td>\n      <td>0.042467</td>\n      <td>Altay_Trabzonspor</td>\n      <td>2.0</td>\n      <td>1.0</td>\n      <td>1</td>\n      <td>0</td>\n      <td>0</td>\n    </tr>\n    <tr>\n      <th>152789</th>\n      <td>NaN</td>\n      <td>NaT</td>\n      <td>NaN</td>\n      <td>NaN</td>\n      <td>NaN</td>\n      <td>NaN</td>\n      <td>NaN</td>\n      <td>NaN</td>\n      <td>NaN</td>\n      <td>NaN</td>\n      <td>...</td>\n      <td>NaN</td>\n      <td>NaN</td>\n      <td>NaN</td>\n      <td>NaN</td>\n      <td>NaN</td>\n      <td>NaN</td>\n      <td>NaN</td>\n      <td>0</td>\n      <td>0</td>\n      <td>0</td>\n    </tr>\n  </tbody>\n</table>\n<p>152790 rows × 179 columns</p>\n</div>"
     },
     "execution_count": 43,
     "metadata": {},
     "output_type": "execute_result"
    }
   ],
   "source": [
    "df[df[\"MatchTeams\"] == \"Chelsea_Liverpool\"][[\"Date\",\"FTHG\", \"FTAG\",\"LastMatchHomeGoals\", \"LastMatchAwayGoals\", \"LastMatchHomeWin\",\"LastMatchAwayWin\", \"LastMatchDraw\" ]]\n",
    "df.drop([\"SameHomeTeam\", \"LastMatchIndex\", \"Index\"], axis=1)"
   ],
   "metadata": {
    "collapsed": false,
    "ExecuteTime": {
     "end_time": "2023-11-14T17:20:35.475940800Z",
     "start_time": "2023-11-14T17:20:35.275420300Z"
    }
   },
   "id": "bee40cad7360d605"
  },
  {
   "cell_type": "code",
   "execution_count": 66,
   "outputs": [
    {
     "data": {
      "text/plain": "54585"
     },
     "execution_count": 66,
     "metadata": {},
     "output_type": "execute_result"
    }
   ],
   "source": [
    "df[\"BbAH\"].isna().sum()"
   ],
   "metadata": {
    "collapsed": false,
    "ExecuteTime": {
     "end_time": "2023-11-14T17:31:26.060668100Z",
     "start_time": "2023-11-14T17:31:26.041519Z"
    }
   },
   "id": "b992668b1c720151"
  },
  {
   "cell_type": "markdown",
   "source": [
    "# TODO Average amount of goals scored/received in the current season\n",
    "\n",
    "We will add 4 columns - HomeTeamAvgScored, AwayTeamAvgScored, HomeTeamAvgReceived, AwayTeamAvgReceived\n",
    "\n"
   ],
   "metadata": {
    "collapsed": false
   },
   "id": "175537c6bf81b9de"
  }
 ],
 "metadata": {
  "kernelspec": {
   "display_name": "Python 3",
   "language": "python",
   "name": "python3"
  },
  "language_info": {
   "codemirror_mode": {
    "name": "ipython",
    "version": 3
   },
   "file_extension": ".py",
   "mimetype": "text/x-python",
   "name": "python",
   "nbconvert_exporter": "python",
   "pygments_lexer": "ipython3",
   "version": "3.11.4"
  }
 },
 "nbformat": 4,
 "nbformat_minor": 5
}
