{
 "cells": [
  {
   "cell_type": "markdown",
   "source": [
    "# Libraries"
   ],
   "metadata": {
    "collapsed": false
   },
   "id": "2714e0ed"
  },
  {
   "cell_type": "code",
   "execution_count": null,
   "outputs": [],
   "source": [
    "import pandas as pd\n",
    "import numpy as np\n",
    "import os as os\n",
    "import matplotlib.pyplot as plt\n",
    "import shutup"
   ],
   "metadata": {
    "collapsed": false
   },
   "id": "e051ae22ea092cdd"
  },
  {
   "cell_type": "markdown",
   "source": [
    "# Load train data\n",
    "\n",
    "- iterate through train data folder \n",
    "- feature engineer the **country** and **league** from parent folder name\n",
    "- join the loaded csv files by rows"
   ],
   "metadata": {
    "collapsed": false
   },
   "id": "2ae94145eddab5e6"
  },
  {
   "cell_type": "code",
   "execution_count": null,
   "outputs": [],
   "source": [
    "df = pd.DataFrame()\n",
    "for root, directory, files in os.walk(\"data/train\", topdown=False):\n",
    "    if files:\n",
    "        for file in files:\n",
    "            tmp = pd.read_csv(f\"{root}/{file}\")\n",
    "            # Remove empty rows and columns\n",
    "            tmp = tmp.dropna(how='all', axis=0)\n",
    "            tmp = tmp.dropna(how='all', axis=1)\n",
    "            # Derive additional columns\n",
    "            tmp[\"league\"] = int(root.split(\"\\\\\")[2])\n",
    "            tmp[\"country\"] = root.split(\"\\\\\")[1]\n",
    "            tmp[\"season\"] = int(file[:2]) # no. of season - 00/01 - 0th season, 21/22 - 21st season\n",
    "            df = pd.concat([df, tmp], axis = 0)\n",
    "\n",
    "df.head()"
   ],
   "metadata": {
    "collapsed": false
   },
   "id": "38d7588280b5dd96"
  },
  {
   "cell_type": "markdown",
   "source": [
    "# Data validation\n",
    "\n",
    "In some cases, the data is wrong. This section correct the loaded data."
   ],
   "metadata": {
    "collapsed": false
   },
   "id": "4ba4606dc9c7a36f"
  },
  {
   "cell_type": "markdown",
   "source": [
    "## Same name for different things\n",
    "\n",
    "In some cases, columns are named differently. We will standardize to use column names that are in *'notes.txt'*\n"
   ],
   "metadata": {
    "collapsed": false
   },
   "id": "13b8d39a27682c20"
  },
  {
   "cell_type": "code",
   "execution_count": null,
   "outputs": [],
   "source": [
    "for root, directory, files in os.walk(\"data/train\", topdown=False):\n",
    "    if files:\n",
    "        for file in files:\n",
    "            tmp = pd.read_csv(f\"{root}/{file}\")\n",
    "            if \"HT\" in tmp.columns:\n",
    "                print(f\"Cases for HT: {root}, {file}\")\n",
    "            if \"AT\" in tmp.columns:\n",
    "                print(f\"Cases for AT: {root}, {file}\")"
   ],
   "metadata": {
    "collapsed": false
   },
   "id": "b38a427d869d5318"
  },
  {
   "cell_type": "markdown",
   "source": [
    "The only affected data are in Greece."
   ],
   "metadata": {
    "collapsed": false
   },
   "id": "910562b947564879"
  },
  {
   "cell_type": "code",
   "execution_count": null,
   "outputs": [],
   "source": [
    "df[\"HomeTeam\"] = df[\"HomeTeam\"].mask(df[\"HT\"].notnull(), df[\"HT\"])\n",
    "df[\"AwayTeam\"] = df[\"AwayTeam\"].mask(df[\"AT\"].notnull(), df[\"AT\"])\n",
    "df = df.drop(columns = [\"HT\", \"AT\"])"
   ],
   "metadata": {
    "collapsed": false
   },
   "id": "a6ec392c63fe6c76"
  },
  {
   "cell_type": "markdown",
   "source": [
    "## Not imputable data\n",
    "\n",
    "In some cases, missing data cause the data to be unusable and can't be computed. This applies to variables\n",
    "\n",
    "- HomeTeam\n",
    "- AwayTeam"
   ],
   "metadata": {
    "collapsed": false
   },
   "id": "c551a44639ce963a"
  },
  {
   "cell_type": "code",
   "execution_count": null,
   "outputs": [],
   "source": [
    "crucial_cols = ['Date', 'HomeTeam', 'AwayTeam']\n",
    "df = df.dropna(subset = crucial_cols)"
   ],
   "metadata": {
    "collapsed": false
   },
   "id": "79a6dc9ad52b014a"
  },
  {
   "cell_type": "code",
   "execution_count": null,
   "outputs": [],
   "source": [
    "df[[\"HFKC\", \"AFKC\"]].describe()"
   ],
   "metadata": {
    "collapsed": false
   },
   "id": "8f63ed5248520abe"
  },
  {
   "cell_type": "markdown",
   "source": [
    "## Goal validation\n",
    "\n",
    "Some goals are incorrect and they need to be fixed.\n",
    "\n"
   ],
   "metadata": {
    "collapsed": false
   },
   "id": "f4acf7b9deb3b17e"
  },
  {
   "cell_type": "code",
   "execution_count": null,
   "outputs": [],
   "source": [
    "goal_cols = [\"FTHG\", \"FTAG\", \"HTHG\", \"HTAG\"]\n",
    "df[goal_cols].describe()"
   ],
   "metadata": {
    "collapsed": false
   },
   "id": "657538d5cf004510"
  },
  {
   "cell_type": "markdown",
   "source": [
    "There seems to be several issues:\n",
    "\n",
    "- the max value for **FTHG** is absurd\n",
    "- the min value for **FTAG** does not make sense\n",
    "- some values are missing"
   ],
   "metadata": {
    "collapsed": false
   },
   "id": "2aa520f7268f331d"
  },
  {
   "cell_type": "code",
   "execution_count": null,
   "outputs": [],
   "source": [
    "df[\"FTHG\"].value_counts().head(12)"
   ],
   "metadata": {
    "collapsed": false
   },
   "id": "3a2d1f300c063570"
  },
  {
   "cell_type": "markdown",
   "source": [
    "First, we will remove all rows where the Full Time Home Goals are greater than 10."
   ],
   "metadata": {
    "collapsed": false
   },
   "id": "c69ffe8dd5a43a13"
  },
  {
   "cell_type": "code",
   "execution_count": null,
   "outputs": [],
   "source": [
    "df = df[df[\"FTHG\"] <= 10]"
   ],
   "metadata": {
    "collapsed": false
   },
   "id": "7c3d6a035bd61f5e"
  },
  {
   "cell_type": "markdown",
   "source": [
    "Next, all Full Time Away goals that are less than zero are inspected. Since we are not sure which values are good and bad, all of them are removed."
   ],
   "metadata": {
    "collapsed": false
   },
   "id": "2334a5cf5203f897"
  },
  {
   "cell_type": "code",
   "execution_count": null,
   "outputs": [],
   "source": [
    "df = df[df[\"FTAG\"] >= 0]"
   ],
   "metadata": {
    "collapsed": false
   },
   "id": "222e2ecfc432def5"
  },
  {
   "cell_type": "markdown",
   "source": [
    "What's left are the missing values. We have no way of recomputing these as well and these rows are again excluded."
   ],
   "metadata": {
    "collapsed": false
   },
   "id": "74ea71a7360aa200"
  },
  {
   "cell_type": "code",
   "execution_count": null,
   "outputs": [],
   "source": [
    "df = df[df[goal_cols].isna().sum(axis=1) == 0]"
   ],
   "metadata": {
    "collapsed": false
   },
   "id": "8b9a3961024b8d5a"
  },
  {
   "cell_type": "markdown",
   "source": [
    "If we run the describe() function again, we can see that the counts are the same and min/max statistics make sense."
   ],
   "metadata": {
    "collapsed": false
   },
   "id": "8832d12e29a8ce13"
  },
  {
   "cell_type": "code",
   "execution_count": null,
   "outputs": [],
   "source": [
    "df[goal_cols].describe()"
   ],
   "metadata": {
    "collapsed": false
   },
   "id": "6bbd84ad89c9626a"
  },
  {
   "cell_type": "markdown",
   "source": [
    "## Result validation\n",
    "\n",
    "Another thing that needs to be validated is the result classification, which are re-classified - this is the easiest data validation process."
   ],
   "metadata": {
    "collapsed": false
   },
   "id": "e52e77484568589d"
  },
  {
   "cell_type": "code",
   "execution_count": null,
   "outputs": [],
   "source": [
    "half_conds = [df[\"HTHG\"] > df[\"HTAG\"], df[\"HTHG\"] < df[\"HTAG\"], df[\"HTHG\"] == df[\"HTAG\"]]\n",
    "half_choic = [\"H\"                    , \"A\"                    , \"D\"]\n",
    "df.loc[:, \"HTR\"] = np.select(half_conds, half_choic)\n",
    "full_conds = [df[\"FTHG\"] > df[\"FTAG\"], df[\"FTHG\"] < df[\"FTAG\"], df[\"FTHG\"] == df[\"FTAG\"]]\n",
    "full_choic = [\"H\"                    , \"A\"                    , \"D\"]\n",
    "df.loc[:, \"FTR\"] = np.select(full_conds, full_choic)"
   ],
   "metadata": {
    "collapsed": false
   },
   "id": "85e5e89fe1176573"
  },
  {
   "cell_type": "markdown",
   "source": [
    "## Validation of other statistics\n",
    "\n",
    "First step is to look at simple descriptive statistics."
   ],
   "metadata": {
    "collapsed": false
   },
   "id": "d09fdf7e0bd7ad56"
  },
  {
   "cell_type": "code",
   "execution_count": null,
   "outputs": [],
   "source": [
    "stat_cols = [\n",
    "    'Attendance', 'HS', 'AS', 'HST', 'AST', 'HHW', 'AHW',\n",
    "    'HC', 'AC', 'HF', 'AF', 'HFKC', 'AFKC', 'HO', 'AO', 'HY', 'AY', 'HR', 'AR', \"HBP\", \"ABP\"\n",
    "]\n",
    "\n",
    "df[stat_cols].describe()"
   ],
   "metadata": {
    "collapsed": false
   },
   "id": "bc0b4a8d0d72e42f"
  },
  {
   "cell_type": "markdown",
   "source": [
    "Then we take a look at boxplots for variables where at least one variable falls out of the interval\n",
    "\n",
    "$$\n",
    "(\\text{q}_{0.25} - 3 * \\text{IQR} ; \\text{q}_{0.75} + 3 * \\text{IQR})\n",
    "$$"
   ],
   "metadata": {
    "collapsed": false
   },
   "id": "45f0423ea6b24818"
  },
  {
   "cell_type": "code",
   "execution_count": null,
   "outputs": [],
   "source": [
    "def outliers(x, multi = 3):\n",
    "    q25 = x.quantile(0.25)\n",
    "    q75 = x.quantile(0.75)\n",
    "    iqr = q75 - q25\n",
    "    outliers = x[(x < q25 - multi * iqr) | (x > q75 + multi * iqr)]\n",
    "    return len(outliers)\n",
    "\n",
    "stat_outliers = df[stat_cols].apply(lambda x: outliers(x))\n",
    "stat_outliers = stat_outliers[stat_outliers != 0]\n",
    "stat_outliers"
   ],
   "metadata": {
    "collapsed": false
   },
   "id": "177436f7c3a88243"
  },
  {
   "cell_type": "code",
   "execution_count": null,
   "outputs": [],
   "source": [
    "fig, axes = plt.subplots(nrows=3, ncols = 6, figsize = (12, 10))\n",
    "axes = axes.ravel()\n",
    "\n",
    "for i, col in enumerate(stat_outliers.index):\n",
    "    # Data\n",
    "    df[col].plot(kind='box', ax = axes[i])\n",
    "    # Styling\n",
    "    axes[i].set_title(col)\n",
    "    axes[i].axes.get_xaxis().set_visible(False)\n",
    "\n",
    "plt.show()\n"
   ],
   "metadata": {
    "collapsed": false
   },
   "id": "2dd75d75ae33862b"
  },
  {
   "cell_type": "markdown",
   "source": [
    "We can se that some outliers are not that extreme. For example variables *HO*, *AO* or *HY* have extreme values, but won't remove them. This is because even tho they can be considered as extreme, there seems to be a natural way how they occured and tehre are no huge jumps between them.\n",
    "\n",
    "On the other hand, variables *AHW*, *HF*, *AF* and *AR* seem to have some variables that are far away from the other data. Note that we do not consider variables in *HR* as outliers because it looks like it's a discrete variable with mostly zeroes."
   ],
   "metadata": {
    "collapsed": false
   },
   "id": "a888e96f3e2a7992"
  },
  {
   "cell_type": "code",
   "execution_count": null,
   "outputs": [],
   "source": [
    "stat_jump = [\n",
    "    \"AS\", \"AHW\", \"HF\", \"AF\", \"AR\", \"ABP\"\n",
    "]\n",
    "stats_cut = [\n",
    "    38, 6, 100, 60, 6, 130\n",
    "]\n",
    "\n",
    "print(\"Number of extreme values:\")\n",
    "for i, col in enumerate(stat_jump):\n",
    "    cutoff = stats_cut[i]\n",
    "    x = df[col].to_numpy()\n",
    "    extreme = x[x > cutoff]\n",
    "    print(f\"{col}: {extreme}, (count: {len(extreme)})\")\n",
    "    \n",
    "plt.show()"
   ],
   "metadata": {
    "collapsed": false
   },
   "id": "f21efa2b34676bd3"
  },
  {
   "cell_type": "markdown",
   "source": [
    "Based on the analysis, we see that these extreme values occur at most twice. This is why we chose to remove them."
   ],
   "metadata": {
    "collapsed": false
   },
   "id": "e02737b46401e115"
  },
  {
   "cell_type": "code",
   "execution_count": null,
   "outputs": [],
   "source": [
    "criteria = dict(zip(stat_jump, stats_cut))\n",
    "for column, value in criteria.items():\n",
    "    # .isna() is important because otherwise all na rows are dropped\n",
    "    df = df[df[column].lt(value) | df[column].isna()]"
   ],
   "metadata": {
    "collapsed": false
   },
   "id": "bfd4534b886b19e8"
  },
  {
   "cell_type": "markdown",
   "source": [
    "Finally, we will double-check with boxplots."
   ],
   "metadata": {
    "collapsed": false
   },
   "id": "fa38c764b778db71"
  },
  {
   "cell_type": "code",
   "execution_count": null,
   "outputs": [],
   "source": [
    "fig, axes = plt.subplots(nrows=2, ncols = 3, figsize = (8, 8))\n",
    "axes = axes.ravel()\n",
    "\n",
    "for i, col in enumerate(stat_jump):\n",
    "    df[col].plot(kind='box', ax = axes[i])\n",
    "    axes[i].set_title(col)\n",
    "    axes[i].axes.get_xaxis().set_visible(False)\n",
    "\n",
    "plt.show()"
   ],
   "metadata": {
    "collapsed": false
   },
   "id": "660bf3ce1d532ff9"
  },
  {
   "cell_type": "markdown",
   "source": [
    "IT looks like variable *HF* contains another outlier, but this process should be done only once. Hence, no outliers are removed."
   ],
   "metadata": {
    "collapsed": false
   },
   "id": "47633077ae692db9"
  },
  {
   "cell_type": "markdown",
   "source": [
    "## Random unnamed data\n",
    "\n",
    "File *'data/train/portugal/1/0304.csv'* contains random data in columns *'Unnamed: 33'* and *'Unnamed: 34'*."
   ],
   "metadata": {
    "collapsed": false
   },
   "id": "bace25c465e174b5"
  },
  {
   "cell_type": "code",
   "execution_count": null,
   "outputs": [],
   "source": [
    "unnamed_cols_df = df[['Unnamed: 32', 'Unnamed: 33', 'Unnamed: 34']]\n",
    "unnamed_cols_df[unnamed_cols_df.notnull().any(axis=1)]"
   ],
   "metadata": {
    "collapsed": false
   },
   "id": "786e1f9ac050b5ae"
  },
  {
   "cell_type": "markdown",
   "source": [
    "Since we do not know what these columns represent, and it is only one non-NA row from the whole dataset, this column is removed."
   ],
   "metadata": {
    "collapsed": false
   },
   "id": "1f14558724384896"
  },
  {
   "cell_type": "code",
   "execution_count": null,
   "outputs": [],
   "source": [
    "df = df.drop(columns = unnamed_cols_df.columns)"
   ],
   "metadata": {
    "collapsed": false
   },
   "id": "63344855b69da629"
  },
  {
   "cell_type": "markdown",
   "source": [
    "## Wrong betting odds names\n",
    "\n",
    "File *'data/train/germany/2/0405.csv'* contains columns **LB**, **LB.1** and **LB.2**, which are unique only to this file. After further investigation, they represent the betting odds data for Ladbrokers. After looking at the data more thoroughly, it can be guessed that all three columns represent odds for home win, away win, and draw."
   ],
   "metadata": {
    "collapsed": false
   },
   "id": "2096a866882ec13c"
  },
  {
   "cell_type": "code",
   "execution_count": null,
   "outputs": [],
   "source": [
    "tmp = pd.read_csv(\"data/train/germany/2/0405.csv\")\n",
    "# Remove empty rows and columns\n",
    "tmp = tmp.dropna(how='all', axis=0)\n",
    "tmp = tmp.dropna(how='all', axis=1)\n",
    "tmp = tmp.loc[:, ~tmp.columns.str.startswith('Unnamed:')]\n",
    "tmp = tmp[tmp[['LB', 'LB.1', 'LB.2']].notnull().any(axis=1)]\n",
    "tmp.filter(regex='[HDAB12]$').iloc[:, -12:]"
   ],
   "metadata": {
    "collapsed": false
   },
   "id": "46c0204ec919c55a"
  },
  {
   "cell_type": "markdown",
   "source": [
    "Based on column similarity, we can make an edjucated guess that\n",
    "\n",
    "- **LB** should be **LBH**,\n",
    "- **LB.1** should be **LBD**, and\n",
    "- **LB.2** should be **LBA**"
   ],
   "metadata": {
    "collapsed": false
   },
   "id": "353c391dda553e2"
  },
  {
   "cell_type": "code",
   "execution_count": null,
   "outputs": [],
   "source": [
    "# If LB is not null, use that value and replace it in LBH\n",
    "df[\"LBH\"] = df[\"LBH\"].mask(df[\"LB\"  ].notnull(), df[\"LB\"])\n",
    "df[\"LBD\"] = df[\"LBD\"].mask(df[\"LB.1\"].notnull(), df[\"LB.1\"])\n",
    "df[\"LBA\"] = df[\"LBA\"].mask(df[\"LB.2\"].notnull(), df[\"LB.2\"])\n",
    "df = df.drop(columns = [\"LB\", \"LB.1\", \"LB.2\"])"
   ],
   "metadata": {
    "collapsed": false
   },
   "id": "62309977e66ec42d"
  },
  {
   "cell_type": "markdown",
   "source": [
    "## Date normalization\n",
    "\n",
    "Date is not consistent and it needs to be unified in order to format it as date."
   ],
   "metadata": {
    "collapsed": false
   },
   "id": "576e514dc2ec2ff9"
  },
  {
   "cell_type": "code",
   "execution_count": null,
   "outputs": [],
   "source": [
    "potential_fixes = pd.to_datetime(df['Date'], format='mixed', dayfirst=True)\n",
    "equal = potential_fixes[potential_fixes.isnull()].index.equals(df[df[\"Date\"].isnull()].index)\n",
    "# if True, all non-na dates have been converted\n",
    "if equal:\n",
    "    df[\"Date\"] = potential_fixes\n",
    "else:\n",
    "   print(\"Date indexes are not equal. Something wrong with the conversion??\")"
   ],
   "metadata": {
    "collapsed": false
   },
   "id": "ca78f5ac8fad1e9d"
  },
  {
   "cell_type": "markdown",
   "source": [
    "## Bookies analysis"
   ],
   "metadata": {
    "collapsed": false
   },
   "id": "e3ebd7b832fd12f8"
  },
  {
   "cell_type": "code",
   "execution_count": null,
   "outputs": [],
   "source": [
    "#minor warning suppression\n",
    "shutup.please()\n",
    "\n",
    "away_odds = df[[\"B365A\", \"BSA\", \"BWA\", \"GBA\", \"IWA\", \"LBA\", \"PSA\", \"SOA\", \"SBA\", \"SJA\", \"SYA\", \"VCA\", \"WHA\"]]\n",
    "home_odds = df[[\"B365H\", \"BSH\", \"BWH\", \"GBH\", \"IWH\", \"LBH\", \"PSH\", \"SOH\", \"SBH\", \"SJH\", \"SYH\", \"VCH\", \"WHH\"]]\n",
    "draw_odds = df[[\"B365D\", \"BSD\", \"BWD\", \"GBD\", \"IWD\", \"LBD\", \"PSD\", \"SOD\", \"SBD\", \"SJD\", \"SYD\", \"VCD\", \"WHD\"]]\n",
    "\n",
    "#Average of away/home/draw odds\n",
    "df[\"Avg_away_odds\"] = away_odds.mean(axis=1)\n",
    "df[\"Avg_home_odds\"] = home_odds.mean(axis=1)\n",
    "df[\"Avg_draw_odds\"] = draw_odds.mean(axis=1)\n",
    "\n",
    "#Predcition based on averages - Odds with smallest average have the highest probability -> returns A/H/D\n",
    "df[\"Avg_bookie_prediction\"] = df[[\"Avg_away_odds\", \"Avg_home_odds\", \"Avg_draw_odds\"]].idxmin(axis=1).fillna(\"\").astype(str).str[4]\n",
    "df[\"Avg_bookie_prediction\"] = df[\"Avg_bookie_prediction\"].str.upper()\n",
    "\n",
    "#Certainity of odds, the smaller variance implies, that bookies are more \"sure\"\n",
    "df[\"Var_away_odds\"] = away_odds.var(axis=1)\n",
    "df[\"Var_home_odds\"] = home_odds.var(axis=1)\n",
    "df[\"Var_draw_odds\"] = draw_odds.var(axis=1)\n",
    "\n",
    "print(df.loc[:, \"Avg_away_odds\":\"Var_draw_odds\"])"
   ],
   "metadata": {
    "collapsed": false
   },
   "id": "c25515b5503cff13"
  },
  {
   "cell_type": "code",
   "execution_count": null,
   "outputs": [],
   "source": [
    "#Columns for predictions of all bookies\n",
    "bookies_predictions = pd.DataFrame(columns = [\"B365P\", \"BSP\", \"BWP\", \"GBP\", \"IWP\", \"LBP\", \"PSP\", \"SOP\", \"SBP\", \"SJP\", \"SYP\", \"VCP\", \"WHP\"])\n",
    "\n",
    "#dataframe with away/home/draw odds for each bookie\n",
    "df_bookies_accuracy = pd.concat([away_odds, home_odds, draw_odds, bookies_predictions], axis = 1).sort_index(axis = 1)\n",
    "df_bookies_accuracy[\"Outcome\"] = df[[\"FTR\"]]\n",
    "\n",
    "seq = list(range(3, 53, 4))\n",
    "#\"prediction\" of each bookie based on their odds\n",
    "for i in seq:\n",
    "    df_bookies_accuracy.iloc[:, i] = df_bookies_accuracy.iloc[:, i-3:i].idxmin(axis=1).fillna(\"\").astype(str).str[-1]\n",
    "\n",
    "print(df_bookies_accuracy)"
   ],
   "metadata": {
    "collapsed": false
   },
   "id": "560f2d8c692863de"
  },
  {
   "cell_type": "code",
   "execution_count": null,
   "outputs": [],
   "source": [
    "#Accuracy of each bookie - all around 50% - accuracy of a bookie cannot be used as a weight for prediction\n",
    "for bookie in bookies_predictions:\n",
    "    filter_df = df_bookies_accuracy[df_bookies_accuracy[bookie].notna()]\n",
    "    matching_values = (filter_df[bookie] == filter_df['Outcome']).sum()\n",
    "    total_values = len(filter_df)\n",
    "    percent= (matching_values/total_values) *100\n",
    "    print(\"Percentage of matching values for \" + bookie[:-1] + f\": {percent:.2f}%\")"
   ],
   "metadata": {
    "collapsed": false
   },
   "id": "ab531191012f1bfb"
  },
  {
   "cell_type": "markdown",
   "source": [
    "- - -"
   ],
   "metadata": {
    "collapsed": false
   },
   "id": "fae4bede01492298"
  },
  {
   "cell_type": "code",
   "execution_count": null,
   "outputs": [],
   "source": [
    "df.shape"
   ],
   "metadata": {
    "collapsed": false
   },
   "id": "13df9d592fbe9a75"
  },
  {
   "cell_type": "markdown",
   "source": [
    "**Handicap values fix**\n",
    "Handicaps are written in quarters - divisible by 0.25"
   ],
   "metadata": {
    "collapsed": false
   },
   "id": "fa831713638daa7"
  },
  {
   "cell_type": "code",
   "execution_count": null,
   "outputs": [],
   "source": [
    "handicap_cols = ['GBAH', 'B365AH', 'BbAHh', 'AHh', 'LBAH', 'AHCh']\n",
    "df[handicap_cols].describe()"
   ],
   "metadata": {
    "collapsed": false
   },
   "id": "c1843d4a1fd6dc8d"
  },
  {
   "cell_type": "code",
   "execution_count": null,
   "outputs": [],
   "source": [
    "# handicaps are usually counted in quarters (ending with .0, .25, .50, .75)\n",
    "for col in handicap_cols:\n",
    "    df = df[(df[col] % 0.25 == 0) | df[col].isna()] # drop rows with numeric value indivisible by 0.25\n",
    "for i in handicap_cols:\n",
    "    print(\n",
    "        \"number of invalid rows left: \", # difference between # of all rows and validated rows\n",
    "        len(df[i]) - len(df[((df[i] % 0.25 == 0) | (df[i].isna()))])\n",
    "    )"
   ],
   "metadata": {
    "collapsed": false
   },
   "id": "bc46b39a04c4c8c9"
  },
  {
   "cell_type": "markdown",
   "source": [
    "Betting odds validation (betting odds are positive)"
   ],
   "metadata": {
    "collapsed": false
   },
   "id": "bb399d7b28eaae5e"
  },
  {
   "cell_type": "code",
   "execution_count": null,
   "outputs": [],
   "source": [
    "odds_cols = ['GBH', 'GBD', 'GBA', 'IWH', 'IWD', 'IWA', 'SBH', 'SBD', 'SBA', 'WHH', 'WHD', 'WHA', 'B365CH', 'B365CD', 'B365CA', 'BWCH', 'BWCD', 'BWCA', 'IWCH', 'IWCD', 'IWCA', 'WHCH', 'WHCD', 'WHCA', 'VCCH', 'VCCD', 'VCCA', 'MaxCH', 'MaxCD', 'MaxCA', 'AvgCH','AvgCD', 'AvgCA', 'B365C>2.5', 'B365C<2.5', 'PC>2.5', 'PC<2.5', 'MaxC>2.5', 'MaxC<2.5', 'AvgC>2.5', 'AvgC<2.5', 'AHCh', 'B365CAHH', 'B365CAHA', 'PCAHH', 'PCAHA', 'MaxCAHH', 'MaxCAHA', 'AvgCAHH', 'AvgCAHA']\n",
    "df[odds_cols] = abs(df[odds_cols])\n",
    "df[odds_cols].describe()"
   ],
   "metadata": {
    "collapsed": false
   },
   "id": "b5a8ae1dff1c7d6c"
  },
  {
   "cell_type": "markdown",
   "id": "a9ec006d07aaf9ed",
   "metadata": {
    "collapsed": false
   },
   "source": [
    "Drop all completely empty columns and rows which there is a lot of, dropped 41 empty columns in total."
   ]
  },
  {
   "cell_type": "code",
   "execution_count": 29,
   "id": "a8f0e94069f87e82",
   "metadata": {
    "collapsed": false,
    "ExecuteTime": {
     "end_time": "2023-11-14T17:55:51.699334700Z",
     "start_time": "2023-11-14T17:55:51.410146Z"
    }
   },
   "outputs": [],
   "source": [
    "df.dropna(how='all', axis=1, inplace=True)"
   ]
  },
  {
   "cell_type": "code",
   "execution_count": 30,
   "id": "ff1c67e0d03c41e8",
   "metadata": {
    "collapsed": false,
    "ExecuteTime": {
     "end_time": "2023-11-14T17:55:51.715740100Z",
     "start_time": "2023-11-14T17:55:51.699334700Z"
    }
   },
   "outputs": [
    {
     "data": {
      "text/plain": "(153871, 166)"
     },
     "execution_count": 30,
     "metadata": {},
     "output_type": "execute_result"
    }
   ],
   "source": [
    "df.shape"
   ]
  },
  {
   "cell_type": "code",
   "execution_count": 31,
   "outputs": [],
   "source": [
    "df.to_csv(\"final.csv\")"
   ],
   "metadata": {
    "collapsed": false,
    "ExecuteTime": {
     "end_time": "2023-11-14T17:56:02.113750600Z",
     "start_time": "2023-11-14T17:55:51.707743200Z"
    }
   },
   "id": "709bc6a619cfdf40"
  },
  {
   "cell_type": "markdown",
   "id": "2f822ca43aff7d4d",
   "metadata": {
    "collapsed": false
   },
   "source": [
    "# Data Exploration\n",
    "\n",
    "Total overview of all variables."
   ]
  },
  {
   "cell_type": "code",
   "execution_count": 32,
   "id": "a76d2dc275b79d0c",
   "metadata": {
    "collapsed": false,
    "ExecuteTime": {
     "end_time": "2023-11-14T17:56:03.555987500Z",
     "start_time": "2023-11-14T17:56:02.115750400Z"
    }
   },
   "outputs": [
    {
     "data": {
      "text/plain": "                                Date           FTHG           FTAG   \ncount                         153871  153871.000000  153871.000000  \\\nmean   2011-06-25 18:33:18.271279104       1.485641       1.133631   \nmin              2000-07-28 00:00:00       0.000000       0.000000   \n25%              2005-12-31 00:00:00       1.000000       0.000000   \n50%              2011-05-14 00:00:00       1.000000       1.000000   \n75%              2016-12-10 00:00:00       2.000000       2.000000   \nmax              2022-05-29 00:00:00      10.000000       9.000000   \nstd                              NaN       1.253308       1.106661   \n\n                HTHG           HTAG           GBH           GBD           GBA   \ncount  153871.000000  153871.000000  87434.000000  87495.000000  87478.000000  \\\nmean        0.655426       0.494356      2.275661      3.381760      3.951660   \nmin         0.000000       0.000000      1.030000      1.250000      1.030000   \n25%         0.000000       0.000000      1.730000      3.100000      2.650000   \n50%         0.000000       0.000000      2.100000      3.250000      3.350000   \n75%         1.000000       1.000000      2.450000      3.450000      4.500000   \nmax         7.000000       6.000000     24.000000     11.000000     34.000000   \nstd         0.809119       0.708428      1.041006      0.614202      2.196771   \n\n                 IWH            IWD  ...           HO           AO   \ncount  149740.000000  149742.000000  ...  6482.000000  6463.000000  \\\nmean        2.336064       3.382683  ...     3.258099     3.251586   \nmin         1.010000       1.500000  ...     0.000000     0.000000   \n25%         1.750000       3.050000  ...     2.000000     1.000000   \n50%         2.100000       3.200000  ...     3.000000     3.000000   \n75%         2.500000       3.450000  ...     5.000000     5.000000   \nmax        30.000000      16.000000  ...    16.000000    18.000000   \nstd         1.155778       0.713694  ...     2.368439     2.519160   \n\n               HBP          ABP          SOH          SOD          SOA   \ncount  6649.000000  6636.000000  6565.000000  6579.000000  6580.000000  \\\nmean     15.485035    20.906420     2.216587     3.391154     3.832853   \nmin       0.000000     0.000000     1.060000     2.380000     1.140000   \n25%       0.000000    10.000000     1.700000     3.200000     2.620000   \n50%      10.000000    20.000000     2.050000     3.250000     3.250000   \n75%      20.000000    30.000000     2.400000     3.400000     4.500000   \nmax     115.000000   115.000000    13.000000     8.000000    21.000000   \nstd      14.984000    17.154701     0.985059     0.480984     2.077070   \n\n             LBAHH        LBAHA         LBAH  \ncount  5426.000000  5426.000000  5414.000000  \nmean      1.919090     1.924930    -0.360039  \nmin       1.250000    -0.500000    -2.250000  \n25%       1.840000     1.840000    -0.750000  \n50%       1.920000     1.920000    -0.250000  \n75%       2.000000     2.000000     0.000000  \nmax       3.400000     4.000000     9.000000  \nstd       0.109133     0.122349     0.570255  \n\n[8 rows x 156 columns]",
      "text/html": "<div>\n<style scoped>\n    .dataframe tbody tr th:only-of-type {\n        vertical-align: middle;\n    }\n\n    .dataframe tbody tr th {\n        vertical-align: top;\n    }\n\n    .dataframe thead th {\n        text-align: right;\n    }\n</style>\n<table border=\"1\" class=\"dataframe\">\n  <thead>\n    <tr style=\"text-align: right;\">\n      <th></th>\n      <th>Date</th>\n      <th>FTHG</th>\n      <th>FTAG</th>\n      <th>HTHG</th>\n      <th>HTAG</th>\n      <th>GBH</th>\n      <th>GBD</th>\n      <th>GBA</th>\n      <th>IWH</th>\n      <th>IWD</th>\n      <th>...</th>\n      <th>HO</th>\n      <th>AO</th>\n      <th>HBP</th>\n      <th>ABP</th>\n      <th>SOH</th>\n      <th>SOD</th>\n      <th>SOA</th>\n      <th>LBAHH</th>\n      <th>LBAHA</th>\n      <th>LBAH</th>\n    </tr>\n  </thead>\n  <tbody>\n    <tr>\n      <th>count</th>\n      <td>153871</td>\n      <td>153871.000000</td>\n      <td>153871.000000</td>\n      <td>153871.000000</td>\n      <td>153871.000000</td>\n      <td>87434.000000</td>\n      <td>87495.000000</td>\n      <td>87478.000000</td>\n      <td>149740.000000</td>\n      <td>149742.000000</td>\n      <td>...</td>\n      <td>6482.000000</td>\n      <td>6463.000000</td>\n      <td>6649.000000</td>\n      <td>6636.000000</td>\n      <td>6565.000000</td>\n      <td>6579.000000</td>\n      <td>6580.000000</td>\n      <td>5426.000000</td>\n      <td>5426.000000</td>\n      <td>5414.000000</td>\n    </tr>\n    <tr>\n      <th>mean</th>\n      <td>2011-06-25 18:33:18.271279104</td>\n      <td>1.485641</td>\n      <td>1.133631</td>\n      <td>0.655426</td>\n      <td>0.494356</td>\n      <td>2.275661</td>\n      <td>3.381760</td>\n      <td>3.951660</td>\n      <td>2.336064</td>\n      <td>3.382683</td>\n      <td>...</td>\n      <td>3.258099</td>\n      <td>3.251586</td>\n      <td>15.485035</td>\n      <td>20.906420</td>\n      <td>2.216587</td>\n      <td>3.391154</td>\n      <td>3.832853</td>\n      <td>1.919090</td>\n      <td>1.924930</td>\n      <td>-0.360039</td>\n    </tr>\n    <tr>\n      <th>min</th>\n      <td>2000-07-28 00:00:00</td>\n      <td>0.000000</td>\n      <td>0.000000</td>\n      <td>0.000000</td>\n      <td>0.000000</td>\n      <td>1.030000</td>\n      <td>1.250000</td>\n      <td>1.030000</td>\n      <td>1.010000</td>\n      <td>1.500000</td>\n      <td>...</td>\n      <td>0.000000</td>\n      <td>0.000000</td>\n      <td>0.000000</td>\n      <td>0.000000</td>\n      <td>1.060000</td>\n      <td>2.380000</td>\n      <td>1.140000</td>\n      <td>1.250000</td>\n      <td>-0.500000</td>\n      <td>-2.250000</td>\n    </tr>\n    <tr>\n      <th>25%</th>\n      <td>2005-12-31 00:00:00</td>\n      <td>1.000000</td>\n      <td>0.000000</td>\n      <td>0.000000</td>\n      <td>0.000000</td>\n      <td>1.730000</td>\n      <td>3.100000</td>\n      <td>2.650000</td>\n      <td>1.750000</td>\n      <td>3.050000</td>\n      <td>...</td>\n      <td>2.000000</td>\n      <td>1.000000</td>\n      <td>0.000000</td>\n      <td>10.000000</td>\n      <td>1.700000</td>\n      <td>3.200000</td>\n      <td>2.620000</td>\n      <td>1.840000</td>\n      <td>1.840000</td>\n      <td>-0.750000</td>\n    </tr>\n    <tr>\n      <th>50%</th>\n      <td>2011-05-14 00:00:00</td>\n      <td>1.000000</td>\n      <td>1.000000</td>\n      <td>0.000000</td>\n      <td>0.000000</td>\n      <td>2.100000</td>\n      <td>3.250000</td>\n      <td>3.350000</td>\n      <td>2.100000</td>\n      <td>3.200000</td>\n      <td>...</td>\n      <td>3.000000</td>\n      <td>3.000000</td>\n      <td>10.000000</td>\n      <td>20.000000</td>\n      <td>2.050000</td>\n      <td>3.250000</td>\n      <td>3.250000</td>\n      <td>1.920000</td>\n      <td>1.920000</td>\n      <td>-0.250000</td>\n    </tr>\n    <tr>\n      <th>75%</th>\n      <td>2016-12-10 00:00:00</td>\n      <td>2.000000</td>\n      <td>2.000000</td>\n      <td>1.000000</td>\n      <td>1.000000</td>\n      <td>2.450000</td>\n      <td>3.450000</td>\n      <td>4.500000</td>\n      <td>2.500000</td>\n      <td>3.450000</td>\n      <td>...</td>\n      <td>5.000000</td>\n      <td>5.000000</td>\n      <td>20.000000</td>\n      <td>30.000000</td>\n      <td>2.400000</td>\n      <td>3.400000</td>\n      <td>4.500000</td>\n      <td>2.000000</td>\n      <td>2.000000</td>\n      <td>0.000000</td>\n    </tr>\n    <tr>\n      <th>max</th>\n      <td>2022-05-29 00:00:00</td>\n      <td>10.000000</td>\n      <td>9.000000</td>\n      <td>7.000000</td>\n      <td>6.000000</td>\n      <td>24.000000</td>\n      <td>11.000000</td>\n      <td>34.000000</td>\n      <td>30.000000</td>\n      <td>16.000000</td>\n      <td>...</td>\n      <td>16.000000</td>\n      <td>18.000000</td>\n      <td>115.000000</td>\n      <td>115.000000</td>\n      <td>13.000000</td>\n      <td>8.000000</td>\n      <td>21.000000</td>\n      <td>3.400000</td>\n      <td>4.000000</td>\n      <td>9.000000</td>\n    </tr>\n    <tr>\n      <th>std</th>\n      <td>NaN</td>\n      <td>1.253308</td>\n      <td>1.106661</td>\n      <td>0.809119</td>\n      <td>0.708428</td>\n      <td>1.041006</td>\n      <td>0.614202</td>\n      <td>2.196771</td>\n      <td>1.155778</td>\n      <td>0.713694</td>\n      <td>...</td>\n      <td>2.368439</td>\n      <td>2.519160</td>\n      <td>14.984000</td>\n      <td>17.154701</td>\n      <td>0.985059</td>\n      <td>0.480984</td>\n      <td>2.077070</td>\n      <td>0.109133</td>\n      <td>0.122349</td>\n      <td>0.570255</td>\n    </tr>\n  </tbody>\n</table>\n<p>8 rows × 156 columns</p>\n</div>"
     },
     "execution_count": 32,
     "metadata": {},
     "output_type": "execute_result"
    }
   ],
   "source": [
    "df.describe()"
   ]
  },
  {
   "cell_type": "markdown",
   "id": "34b17fe2",
   "metadata": {},
   "source": [
    "Percentage of missing values."
   ]
  },
  {
   "cell_type": "code",
   "execution_count": 33,
   "id": "dbd0ff92d61fb66f",
   "metadata": {
    "collapsed": false,
    "ExecuteTime": {
     "end_time": "2023-11-14T17:56:03.740047600Z",
     "start_time": "2023-11-14T17:56:03.555987500Z"
    }
   },
   "outputs": [
    {
     "data": {
      "text/plain": "HFKC          0.991564\nAFKC          0.991564\nLBAH          0.964815\nSYD           0.964743\nLBAHA         0.964737\nLBAHH         0.964737\nSYA           0.964691\nSYH           0.964691\nAO            0.957997\nHHW           0.957958\nAHW           0.957880\nHO            0.957874\nSOH           0.957334\nSOD           0.957243\nSOA           0.957237\nABP           0.956873\nAttendance    0.956860\nHBP           0.956788\nB365AH        0.955840\nGBAHA         0.925061\ndtype: float64"
     },
     "execution_count": 33,
     "metadata": {},
     "output_type": "execute_result"
    }
   ],
   "source": [
    "na_vals = df.isna().sum()\n",
    "na_vals = na_vals/df.shape[0]\n",
    "na_vals.sort_values(ascending = False).head(20)"
   ]
  },
  {
   "cell_type": "code",
   "execution_count": 34,
   "metadata": {
    "ExecuteTime": {
     "end_time": "2023-11-14T17:56:04.150761100Z",
     "start_time": "2023-11-14T17:56:03.653076300Z"
    }
   },
   "outputs": [
    {
     "data": {
      "text/plain": "     Variable First Occurrence Last Occurrence  Missing within\n0         Div       2001-05-20      2022-05-15              86\n1        Date       2001-05-20      2022-05-15               0\n2    HomeTeam       2001-05-20      2022-05-15               0\n3    AwayTeam       2001-05-20      2022-05-15               0\n4        FTHG       2001-05-20      2022-05-15               0\n..        ...              ...             ...             ...\n161       SOD       2003-04-27      2003-12-21          117533\n162       SOA       2003-04-27      2003-12-21          117532\n163     LBAHH       2003-09-20      2004-10-17          127234\n164     LBAHA       2003-09-20      2004-10-17          127234\n165      LBAH       2003-09-20      2004-10-17          127246\n\n[166 rows x 4 columns]",
      "text/html": "<div>\n<style scoped>\n    .dataframe tbody tr th:only-of-type {\n        vertical-align: middle;\n    }\n\n    .dataframe tbody tr th {\n        vertical-align: top;\n    }\n\n    .dataframe thead th {\n        text-align: right;\n    }\n</style>\n<table border=\"1\" class=\"dataframe\">\n  <thead>\n    <tr style=\"text-align: right;\">\n      <th></th>\n      <th>Variable</th>\n      <th>First Occurrence</th>\n      <th>Last Occurrence</th>\n      <th>Missing within</th>\n    </tr>\n  </thead>\n  <tbody>\n    <tr>\n      <th>0</th>\n      <td>Div</td>\n      <td>2001-05-20</td>\n      <td>2022-05-15</td>\n      <td>86</td>\n    </tr>\n    <tr>\n      <th>1</th>\n      <td>Date</td>\n      <td>2001-05-20</td>\n      <td>2022-05-15</td>\n      <td>0</td>\n    </tr>\n    <tr>\n      <th>2</th>\n      <td>HomeTeam</td>\n      <td>2001-05-20</td>\n      <td>2022-05-15</td>\n      <td>0</td>\n    </tr>\n    <tr>\n      <th>3</th>\n      <td>AwayTeam</td>\n      <td>2001-05-20</td>\n      <td>2022-05-15</td>\n      <td>0</td>\n    </tr>\n    <tr>\n      <th>4</th>\n      <td>FTHG</td>\n      <td>2001-05-20</td>\n      <td>2022-05-15</td>\n      <td>0</td>\n    </tr>\n    <tr>\n      <th>...</th>\n      <td>...</td>\n      <td>...</td>\n      <td>...</td>\n      <td>...</td>\n    </tr>\n    <tr>\n      <th>161</th>\n      <td>SOD</td>\n      <td>2003-04-27</td>\n      <td>2003-12-21</td>\n      <td>117533</td>\n    </tr>\n    <tr>\n      <th>162</th>\n      <td>SOA</td>\n      <td>2003-04-27</td>\n      <td>2003-12-21</td>\n      <td>117532</td>\n    </tr>\n    <tr>\n      <th>163</th>\n      <td>LBAHH</td>\n      <td>2003-09-20</td>\n      <td>2004-10-17</td>\n      <td>127234</td>\n    </tr>\n    <tr>\n      <th>164</th>\n      <td>LBAHA</td>\n      <td>2003-09-20</td>\n      <td>2004-10-17</td>\n      <td>127234</td>\n    </tr>\n    <tr>\n      <th>165</th>\n      <td>LBAH</td>\n      <td>2003-09-20</td>\n      <td>2004-10-17</td>\n      <td>127246</td>\n    </tr>\n  </tbody>\n</table>\n<p>166 rows × 4 columns</p>\n</div>"
     },
     "execution_count": 34,
     "metadata": {},
     "output_type": "execute_result"
    }
   ],
   "source": [
    "df = df.reset_index(drop = True)\n",
    "\n",
    "# Get first and last occurrences\n",
    "first_occurrences = df.apply(lambda x: x.first_valid_index())\n",
    "last_occurrences = df.apply(lambda x: x.last_valid_index())\n",
    "\n",
    "# Initialize a dictionary to store counts\n",
    "missing_counts = {}\n",
    "\n",
    "# Iterate through each column and calculate missing values counts between first and last occurrences\n",
    "for column in df.columns:\n",
    "    # Indexes of the first and last occurrences\n",
    "    first_idx = df[column].first_valid_index()\n",
    "    last_idx = df[column].last_valid_index()\n",
    "\n",
    "    # Select the range between first and last occurrence, count missing values\n",
    "    missing_count = df[column][first_idx:last_idx].isnull().sum()\n",
    "    missing_counts[column] = missing_count\n",
    "\n",
    "# Create a new DataFrame with the results\n",
    "result_df = pd.DataFrame({\n",
    "    'Variable':          df.columns,\n",
    "    'First Occurrence':  df[\"Date\"].to_numpy()[first_occurrences.values],\n",
    "    'Last Occurrence':   df[\"Date\"].to_numpy()[last_occurrences.values],\n",
    "    \"Missing within\": missing_counts.values()\n",
    "})\n",
    "\n",
    "result_df.sort_values(by=\"Missing within\", ascending=False)"
   ],
   "id": "50b764f244678fc2"
  },
  {
   "cell_type": "markdown",
   "id": "d45537cd",
   "metadata": {},
   "source": [
    "List of the most missing values."
   ]
  },
  {
   "cell_type": "code",
   "execution_count": 35,
   "id": "b0dfb8726b2a7038",
   "metadata": {
    "collapsed": false,
    "ExecuteTime": {
     "end_time": "2023-11-14T17:56:04.273776900Z",
     "start_time": "2023-11-14T17:56:04.145761300Z"
    }
   },
   "outputs": [
    {
     "data": {
      "text/plain": "Div           0.0\nDate          0.0\nHomeTeam      0.0\nAwayTeam      0.0\nFTHG          0.0\n            ...  \nSOD         100.0\nSOA         100.0\nLBAHH       100.0\nLBAHA       100.0\nLBAH        100.0\nLength: 166, dtype: float64"
     },
     "execution_count": 35,
     "metadata": {},
     "output_type": "execute_result"
    }
   ],
   "source": [
    "na_vals = df[df[\"season\"] > 18].isna().sum()\n",
    "\n",
    "na_vals = na_vals/df[df[\"season\"] > 18].shape[0]*100\n",
    "na_vals"
   ]
  },
  {
   "cell_type": "code",
   "execution_count": 36,
   "id": "9e13263bdbdaddf7",
   "metadata": {
    "collapsed": false,
    "ExecuteTime": {
     "end_time": "2023-11-14T17:56:05.217464200Z",
     "start_time": "2023-11-14T17:56:04.201290300Z"
    }
   },
   "outputs": [
    {
     "data": {
      "text/plain": "<Figure size 640x480 with 1 Axes>",
      "image/png": "[encoded data removed]"
     },
     "metadata": {},
     "output_type": "display_data"
    }
   ],
   "source": [
    "na_vals = [df[df[\"season\"]==i].isna().sum().sum()/(df[df[\"season\"]==i].shape[0]*df[df[\"season\"]==i].shape[1]) for i in range(0,22)]\n",
    "plt.xticks(range(0,22))\n",
    "plt.ylim(0.3, 1)\n",
    "plt.locator_params(axis='y', nbins=14)\n",
    "plt.plot(na_vals)\n",
    "plt.gca().ticklabel_format(axis='y', style='plain', scilimits=(0, 0))"
   ]
  },
  {
   "cell_type": "markdown",
   "source": [
    "# Feature Engineering\n",
    "We decided to add several features to the dataset.\n",
    "These features are:\n",
    "- Result of the last match between the two contending teams\n",
    "- Goal score during the last match between the two contending teams\n",
    "- Average amount of goals scored in the current season\n",
    "- Average amount of goals received in the current season\n",
    "\n",
    "We believe that these features will prove useful in the training of our model as they can reveal things such as momentum and strenghts/weaknesses against certain teams."
   ],
   "metadata": {
    "collapsed": false
   },
   "id": "30bec80d7d965594"
  },
  {
   "cell_type": "markdown",
   "source": [
    "### Result of the last match between the two contending teams"
   ],
   "metadata": {
    "collapsed": false
   },
   "id": "731c6074219fca63"
  },
  {
   "cell_type": "markdown",
   "source": [
    "Create a string of participating teams, append them alphabetically behind each other so it is easier to slice them."
   ],
   "metadata": {
    "collapsed": false
   },
   "id": "eb136876c01030c7"
  },
  {
   "cell_type": "code",
   "execution_count": null,
   "outputs": [],
   "source": [
    "df[\"Index\"] = df.index\n",
    "df[\"MatchTeams\"] = df[[\"HomeTeam\",\"AwayTeam\"]].values.tolist()\n",
    "df[\"MatchTeams\"] = df[\"MatchTeams\"].sort_values().apply(lambda x: sorted(x))"
   ],
   "metadata": {
    "collapsed": false
   },
   "id": "90d9139991f1075a"
  },
  {
   "cell_type": "code",
   "execution_count": null,
   "outputs": [],
   "source": [
    "df = df.assign(MatchTeams=df[\"MatchTeams\"].apply(lambda l: \"_\".join(l)))"
   ],
   "metadata": {
    "collapsed": false
   },
   "id": "cca557999ee1cea"
  },
  {
   "cell_type": "code",
   "execution_count": null,
   "outputs": [],
   "source": [
    "df.sort_values(['MatchTeams','Date'],ascending=True).groupby('MatchTeams').shift()"
   ],
   "metadata": {
    "collapsed": false
   },
   "id": "471e8ec62aeb1eaa"
  },
  {
   "cell_type": "markdown",
   "source": [],
   "metadata": {
    "collapsed": false
   },
   "id": "b2b3e785cc19563b"
  },
  {
   "cell_type": "markdown",
   "source": [
    "Use groupby to group by same matches, create [\"LastMatchIndex\",\"LastMatchAwayGoals\", \"LastMatchHomeGoals\"] columns with unsorted values.\n",
    "First match of two teams gets empty column index as LastMatchIndex"
   ],
   "metadata": {
    "collapsed": false
   },
   "id": "5dd64750de5803cc"
  },
  {
   "cell_type": "code",
   "execution_count": null,
   "outputs": [],
   "source": [
    "df[[\"LastMatchIndex\",\"LastMatchAwayGoals\", \"LastMatchHomeGoals\"]] = df.sort_values(['MatchTeams','Date'],ascending=True).groupby('MatchTeams').shift()[[\"Index\",\"FTAG\", \"FTHG\"]]\n",
    "df.loc[np.isnan(df[\"LastMatchIndex\"]), \"LastMatchIndex\"] = len(df.index)-1\n",
    "df.loc[len(df.index)] = [np.nan for _ in range(df.shape[1])]\n",
    "df.loc[len(df.index)-1]\n",
    "df[\"LastMatchIndex\"] = df[\"LastMatchIndex\"].replace(np.nan, len(df.index)-1)\n",
    "\n",
    "df[\"LastMatchIndex\"].fillna(len(df.index)-1)"
   ],
   "metadata": {
    "collapsed": false
   },
   "id": "24cda30259af6152"
  },
  {
   "cell_type": "code",
   "execution_count": null,
   "outputs": [],
   "source": [
    "arr = df[\"LastMatchIndex\"]"
   ],
   "metadata": {
    "collapsed": false
   },
   "id": "22bb2e15b03017a4"
  },
  {
   "cell_type": "markdown",
   "source": [
    "Switch LastMatchHomeGoals and LastMatchAwayGoals if they do not correspond to the teams accordingly, calculate who won the match"
   ],
   "metadata": {
    "collapsed": false
   },
   "id": "529fafb307538356"
  },
  {
   "cell_type": "code",
   "execution_count": null,
   "outputs": [],
   "source": [
    "df[\"SameHomeTeam\"] = (df.iloc[arr][\"HomeTeam\"].values == df[\"HomeTeam\"].values)\n",
    "df.loc[df[\"SameHomeTeam\"],['LastMatchHomeGoals','LastMatchAwayGoals']] = df.loc[df[\"SameHomeTeam\"],['LastMatchHomeGoals','LastMatchAwayGoals']].values\n",
    "df[\"LastMatchAwayWin\"] = (df[\"LastMatchAwayGoals\"] > df[\"LastMatchHomeGoals\"]).astype(int)\n",
    "df[\"LastMatchHomeWin\"] = (df[\"LastMatchAwayGoals\"] < df[\"LastMatchHomeGoals\"]).astype(int)\n",
    "df[\"LastMatchDraw\"] = (df[\"LastMatchAwayGoals\"] == df[\"LastMatchHomeGoals\"]).astype(int)"
   ],
   "metadata": {
    "collapsed": false
   },
   "id": "1ea2c9e1455d3e4"
  },
  {
   "cell_type": "code",
   "execution_count": null,
   "outputs": [],
   "source": [
    "df[df[\"MatchTeams\"] == \"Chelsea_Liverpool\"][[\"Date\",\"FTHG\", \"FTAG\",\"LastMatchHomeGoals\", \"LastMatchAwayGoals\", \"LastMatchHomeWin\",\"LastMatchAwayWin\", \"LastMatchDraw\" ]]\n",
    "df.drop([\"SameHomeTeam\", \"LastMatchIndex\", \"Index\"], axis=1)"
   ],
   "metadata": {
    "collapsed": false
   },
   "id": "e6a2ee9ee9a08c40"
  },
  {
   "cell_type": "code",
   "execution_count": null,
   "outputs": [],
   "source": [
    "df[\"BbAH\"].isna().sum()"
   ],
   "metadata": {
    "collapsed": false
   },
   "id": "9a32e49ca1fb009"
  },
  {
   "cell_type": "markdown",
   "source": [
    "# TODO Average amount of goals scored/received in the current season\n",
    "\n",
    "We will add 4 columns - HomeTeamAvgScored, AwayTeamAvgScored, HomeTeamAvgReceived, AwayTeamAvgReceived\n",
    "\n"
   ],
   "metadata": {
    "collapsed": false
   },
   "id": "9d636c3c0b0d75b2"
  }
 ],
 "metadata": {
  "kernelspec": {
   "display_name": "Python 3",
   "language": "python",
   "name": "python3"
  },
  "language_info": {
   "codemirror_mode": {
    "name": "ipython",
    "version": 3
   },
   "file_extension": ".py",
   "mimetype": "text/x-python",
   "name": "python",
   "nbconvert_exporter": "python",
   "pygments_lexer": "ipython3",
   "version": "3.11.4"
  }
 },
 "nbformat": 4,
 "nbformat_minor": 5
}
