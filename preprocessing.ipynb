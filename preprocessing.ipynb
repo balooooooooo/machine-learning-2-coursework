{
 "cells": [
  {
   "cell_type": "markdown",
   "source": [
    "# Libraries"
   ],
   "metadata": {
    "collapsed": false
   },
   "id": "2714e0ed"
  },
  {
   "cell_type": "code",
   "execution_count": 1,
   "outputs": [],
   "source": [
    "import pandas as pd\n",
    "import numpy as np\n",
    "import os as os\n",
    "import matplotlib.pyplot as plt\n",
    "import shutup"
   ],
   "metadata": {
    "collapsed": false,
    "ExecuteTime": {
     "end_time": "2023-11-14T21:15:57.202531300Z",
     "start_time": "2023-11-14T21:15:56.050011900Z"
    }
   },
   "id": "e051ae22ea092cdd"
  },
  {
   "cell_type": "markdown",
   "source": [
    "# Load train data\n",
    "\n",
    "- iterate through train data folder \n",
    "- feature engineer the **country** and **league** from parent folder name\n",
    "- join the loaded csv files by rows"
   ],
   "metadata": {
    "collapsed": false
   },
   "id": "2ae94145eddab5e6"
  },
  {
   "cell_type": "code",
   "execution_count": 2,
   "outputs": [
    {
     "data": {
      "text/plain": "  Div      Date   HomeTeam     AwayTeam  FTHG  FTAG FTR  HTHG  HTAG HTR  ...  \\\n0  B1  20/05/01   Mechelen       Lierse   1.0   1.0   D   1.0   1.0   D  ...   \n1  B1  17/09/00   Germinal  Club Brugge   2.0   3.0   A   0.0   1.0   A  ...   \n2  B1  14/10/00    Beveren     Standard   0.0   3.0   A   0.0   2.0   A  ...   \n3  B1  06/09/00    Lokeren     Mechelen   3.0   2.0   H   0.0   2.0   A  ...   \n4  B1  27/08/00  Charleroi      Antwerp   1.0   0.0   H   1.0   0.0   H  ...   \n\n   LBAHA  LBAH  LB  LB.1  LB.2   HT   AT  Unnamed: 32  Unnamed: 33  \\\n0    NaN   NaN NaN   NaN   NaN  NaN  NaN          NaN          NaN   \n1    NaN   NaN NaN   NaN   NaN  NaN  NaN          NaN          NaN   \n2    NaN   NaN NaN   NaN   NaN  NaN  NaN          NaN          NaN   \n3    NaN   NaN NaN   NaN   NaN  NaN  NaN          NaN          NaN   \n4    NaN   NaN NaN   NaN   NaN  NaN  NaN          NaN          NaN   \n\n   Unnamed: 34  \n0          NaN  \n1          NaN  \n2          NaN  \n3          NaN  \n4          NaN  \n\n[5 rows x 174 columns]",
      "text/html": "<div>\n<style scoped>\n    .dataframe tbody tr th:only-of-type {\n        vertical-align: middle;\n    }\n\n    .dataframe tbody tr th {\n        vertical-align: top;\n    }\n\n    .dataframe thead th {\n        text-align: right;\n    }\n</style>\n<table border=\"1\" class=\"dataframe\">\n  <thead>\n    <tr style=\"text-align: right;\">\n      <th></th>\n      <th>Div</th>\n      <th>Date</th>\n      <th>HomeTeam</th>\n      <th>AwayTeam</th>\n      <th>FTHG</th>\n      <th>FTAG</th>\n      <th>FTR</th>\n      <th>HTHG</th>\n      <th>HTAG</th>\n      <th>HTR</th>\n      <th>...</th>\n      <th>LBAHA</th>\n      <th>LBAH</th>\n      <th>LB</th>\n      <th>LB.1</th>\n      <th>LB.2</th>\n      <th>HT</th>\n      <th>AT</th>\n      <th>Unnamed: 32</th>\n      <th>Unnamed: 33</th>\n      <th>Unnamed: 34</th>\n    </tr>\n  </thead>\n  <tbody>\n    <tr>\n      <th>0</th>\n      <td>B1</td>\n      <td>20/05/01</td>\n      <td>Mechelen</td>\n      <td>Lierse</td>\n      <td>1.0</td>\n      <td>1.0</td>\n      <td>D</td>\n      <td>1.0</td>\n      <td>1.0</td>\n      <td>D</td>\n      <td>...</td>\n      <td>NaN</td>\n      <td>NaN</td>\n      <td>NaN</td>\n      <td>NaN</td>\n      <td>NaN</td>\n      <td>NaN</td>\n      <td>NaN</td>\n      <td>NaN</td>\n      <td>NaN</td>\n      <td>NaN</td>\n    </tr>\n    <tr>\n      <th>1</th>\n      <td>B1</td>\n      <td>17/09/00</td>\n      <td>Germinal</td>\n      <td>Club Brugge</td>\n      <td>2.0</td>\n      <td>3.0</td>\n      <td>A</td>\n      <td>0.0</td>\n      <td>1.0</td>\n      <td>A</td>\n      <td>...</td>\n      <td>NaN</td>\n      <td>NaN</td>\n      <td>NaN</td>\n      <td>NaN</td>\n      <td>NaN</td>\n      <td>NaN</td>\n      <td>NaN</td>\n      <td>NaN</td>\n      <td>NaN</td>\n      <td>NaN</td>\n    </tr>\n    <tr>\n      <th>2</th>\n      <td>B1</td>\n      <td>14/10/00</td>\n      <td>Beveren</td>\n      <td>Standard</td>\n      <td>0.0</td>\n      <td>3.0</td>\n      <td>A</td>\n      <td>0.0</td>\n      <td>2.0</td>\n      <td>A</td>\n      <td>...</td>\n      <td>NaN</td>\n      <td>NaN</td>\n      <td>NaN</td>\n      <td>NaN</td>\n      <td>NaN</td>\n      <td>NaN</td>\n      <td>NaN</td>\n      <td>NaN</td>\n      <td>NaN</td>\n      <td>NaN</td>\n    </tr>\n    <tr>\n      <th>3</th>\n      <td>B1</td>\n      <td>06/09/00</td>\n      <td>Lokeren</td>\n      <td>Mechelen</td>\n      <td>3.0</td>\n      <td>2.0</td>\n      <td>H</td>\n      <td>0.0</td>\n      <td>2.0</td>\n      <td>A</td>\n      <td>...</td>\n      <td>NaN</td>\n      <td>NaN</td>\n      <td>NaN</td>\n      <td>NaN</td>\n      <td>NaN</td>\n      <td>NaN</td>\n      <td>NaN</td>\n      <td>NaN</td>\n      <td>NaN</td>\n      <td>NaN</td>\n    </tr>\n    <tr>\n      <th>4</th>\n      <td>B1</td>\n      <td>27/08/00</td>\n      <td>Charleroi</td>\n      <td>Antwerp</td>\n      <td>1.0</td>\n      <td>0.0</td>\n      <td>H</td>\n      <td>1.0</td>\n      <td>0.0</td>\n      <td>H</td>\n      <td>...</td>\n      <td>NaN</td>\n      <td>NaN</td>\n      <td>NaN</td>\n      <td>NaN</td>\n      <td>NaN</td>\n      <td>NaN</td>\n      <td>NaN</td>\n      <td>NaN</td>\n      <td>NaN</td>\n      <td>NaN</td>\n    </tr>\n  </tbody>\n</table>\n<p>5 rows × 174 columns</p>\n</div>"
     },
     "execution_count": 2,
     "metadata": {},
     "output_type": "execute_result"
    }
   ],
   "source": [
    "df = pd.DataFrame()\n",
    "for root, directory, files in os.walk(\"data/train\", topdown=False):\n",
    "    if files:\n",
    "        for file in files:\n",
    "            tmp = pd.read_csv(f\"{root}/{file}\")\n",
    "            # Remove empty rows and columns\n",
    "            tmp = tmp.dropna(how='all', axis=0)\n",
    "            tmp = tmp.dropna(how='all', axis=1)\n",
    "            # Derive additional columns\n",
    "            tmp[\"league\"] = int(root.split(\"\\\\\")[2])\n",
    "            tmp[\"country\"] = root.split(\"\\\\\")[1]\n",
    "            tmp[\"season\"] = int(file[:2]) # no. of season - 00/01 - 0th season, 21/22 - 21st season\n",
    "            df = pd.concat([df, tmp], axis = 0)\n",
    "\n",
    "df.head()"
   ],
   "metadata": {
    "collapsed": false,
    "ExecuteTime": {
     "end_time": "2023-11-14T21:16:21.504359200Z",
     "start_time": "2023-11-14T21:15:57.205533900Z"
    }
   },
   "id": "38d7588280b5dd96"
  },
  {
   "cell_type": "markdown",
   "source": [
    "# Data validation\n",
    "\n",
    "In some cases, the data is wrong. This section correct the loaded data."
   ],
   "metadata": {
    "collapsed": false
   },
   "id": "4ba4606dc9c7a36f"
  },
  {
   "cell_type": "markdown",
   "source": [
    "## Same name for different things\n",
    "\n",
    "In some cases, columns are named differently. We will standardize to use column names that are in *'notes.txt'*\n"
   ],
   "metadata": {
    "collapsed": false
   },
   "id": "13b8d39a27682c20"
  },
  {
   "cell_type": "code",
   "execution_count": 3,
   "outputs": [
    {
     "name": "stdout",
     "output_type": "stream",
     "text": [
      "Cases for HT: data/train\\greece\\1, 0001.csv\n",
      "Cases for AT: data/train\\greece\\1, 0001.csv\n",
      "Cases for HT: data/train\\greece\\1, 0102.csv\n",
      "Cases for AT: data/train\\greece\\1, 0102.csv\n",
      "Cases for HT: data/train\\greece\\1, 0203.csv\n",
      "Cases for AT: data/train\\greece\\1, 0203.csv\n",
      "Cases for HT: data/train\\greece\\1, 0304.csv\n",
      "Cases for AT: data/train\\greece\\1, 0304.csv\n",
      "Cases for HT: data/train\\greece\\1, 0405.csv\n",
      "Cases for AT: data/train\\greece\\1, 0405.csv\n"
     ]
    }
   ],
   "source": [
    "for root, directory, files in os.walk(\"data/train\", topdown=False):\n",
    "    if files:\n",
    "        for file in files:\n",
    "            tmp = pd.read_csv(f\"{root}/{file}\")\n",
    "            if \"HT\" in tmp.columns:\n",
    "                print(f\"Cases for HT: {root}, {file}\")\n",
    "            if \"AT\" in tmp.columns:\n",
    "                print(f\"Cases for AT: {root}, {file}\")"
   ],
   "metadata": {
    "collapsed": false,
    "ExecuteTime": {
     "end_time": "2023-11-14T21:16:22.942306100Z",
     "start_time": "2023-11-14T21:16:21.506361200Z"
    }
   },
   "id": "b38a427d869d5318"
  },
  {
   "cell_type": "markdown",
   "source": [
    "The only affected data are in Greece."
   ],
   "metadata": {
    "collapsed": false
   },
   "id": "910562b947564879"
  },
  {
   "cell_type": "code",
   "execution_count": 4,
   "outputs": [],
   "source": [
    "df[\"HomeTeam\"] = df[\"HomeTeam\"].mask(df[\"HT\"].notnull(), df[\"HT\"])\n",
    "df[\"AwayTeam\"] = df[\"AwayTeam\"].mask(df[\"AT\"].notnull(), df[\"AT\"])\n",
    "df = df.drop(columns = [\"HT\", \"AT\"])"
   ],
   "metadata": {
    "collapsed": false,
    "ExecuteTime": {
     "end_time": "2023-11-14T21:16:23.065856500Z",
     "start_time": "2023-11-14T21:16:22.943306800Z"
    }
   },
   "id": "a6ec392c63fe6c76"
  },
  {
   "cell_type": "markdown",
   "source": [
    "## Not imputable data\n",
    "\n",
    "In some cases, missing data cause the data to be unusable and can't be computed. This applies to variables\n",
    "\n",
    "- HomeTeam\n",
    "- AwayTeam"
   ],
   "metadata": {
    "collapsed": false
   },
   "id": "c551a44639ce963a"
  },
  {
   "cell_type": "code",
   "execution_count": 5,
   "outputs": [],
   "source": [
    "crucial_cols = ['Date', 'HomeTeam', 'AwayTeam']\n",
    "df = df.dropna(subset = crucial_cols)"
   ],
   "metadata": {
    "collapsed": false,
    "ExecuteTime": {
     "end_time": "2023-11-14T21:16:23.225296800Z",
     "start_time": "2023-11-14T21:16:23.054343900Z"
    }
   },
   "id": "79a6dc9ad52b014a"
  },
  {
   "cell_type": "code",
   "execution_count": 6,
   "outputs": [
    {
     "data": {
      "text/plain": "              HFKC         AFKC\ncount  1306.000000  1306.000000\nmean     16.622511    17.283308\nstd       4.389023     4.734092\nmin       2.000000     2.000000\n25%      14.000000    14.000000\n50%      16.000000    17.000000\n75%      19.750000    20.000000\nmax      32.000000    34.000000",
      "text/html": "<div>\n<style scoped>\n    .dataframe tbody tr th:only-of-type {\n        vertical-align: middle;\n    }\n\n    .dataframe tbody tr th {\n        vertical-align: top;\n    }\n\n    .dataframe thead th {\n        text-align: right;\n    }\n</style>\n<table border=\"1\" class=\"dataframe\">\n  <thead>\n    <tr style=\"text-align: right;\">\n      <th></th>\n      <th>HFKC</th>\n      <th>AFKC</th>\n    </tr>\n  </thead>\n  <tbody>\n    <tr>\n      <th>count</th>\n      <td>1306.000000</td>\n      <td>1306.000000</td>\n    </tr>\n    <tr>\n      <th>mean</th>\n      <td>16.622511</td>\n      <td>17.283308</td>\n    </tr>\n    <tr>\n      <th>std</th>\n      <td>4.389023</td>\n      <td>4.734092</td>\n    </tr>\n    <tr>\n      <th>min</th>\n      <td>2.000000</td>\n      <td>2.000000</td>\n    </tr>\n    <tr>\n      <th>25%</th>\n      <td>14.000000</td>\n      <td>14.000000</td>\n    </tr>\n    <tr>\n      <th>50%</th>\n      <td>16.000000</td>\n      <td>17.000000</td>\n    </tr>\n    <tr>\n      <th>75%</th>\n      <td>19.750000</td>\n      <td>20.000000</td>\n    </tr>\n    <tr>\n      <th>max</th>\n      <td>32.000000</td>\n      <td>34.000000</td>\n    </tr>\n  </tbody>\n</table>\n</div>"
     },
     "execution_count": 6,
     "metadata": {},
     "output_type": "execute_result"
    }
   ],
   "source": [
    "df[[\"HFKC\", \"AFKC\"]].describe()"
   ],
   "metadata": {
    "collapsed": false,
    "ExecuteTime": {
     "end_time": "2023-11-14T21:16:23.272197700Z",
     "start_time": "2023-11-14T21:16:23.225296800Z"
    }
   },
   "id": "8f63ed5248520abe"
  },
  {
   "cell_type": "markdown",
   "source": [
    "## Goal validation\n",
    "\n",
    "Some goals are incorrect and they need to be fixed.\n",
    "\n"
   ],
   "metadata": {
    "collapsed": false
   },
   "id": "f4acf7b9deb3b17e"
  },
  {
   "cell_type": "code",
   "execution_count": 7,
   "outputs": [
    {
     "data": {
      "text/plain": "                FTHG           FTAG           HTHG           HTAG\ncount  154586.000000  154563.000000  154536.000000  154543.000000\nmean        2.217406       1.131150       0.655342       0.494231\nstd        21.881446       1.108981       0.809122       0.708230\nmin         0.000000      -1.000000       0.000000       0.000000\n25%         1.000000       0.000000       0.000000       0.000000\n50%         1.000000       1.000000       0.000000       0.000000\n75%         2.000000       2.000000       1.000000       1.000000\nmax       998.000000      13.000000       7.000000       6.000000",
      "text/html": "<div>\n<style scoped>\n    .dataframe tbody tr th:only-of-type {\n        vertical-align: middle;\n    }\n\n    .dataframe tbody tr th {\n        vertical-align: top;\n    }\n\n    .dataframe thead th {\n        text-align: right;\n    }\n</style>\n<table border=\"1\" class=\"dataframe\">\n  <thead>\n    <tr style=\"text-align: right;\">\n      <th></th>\n      <th>FTHG</th>\n      <th>FTAG</th>\n      <th>HTHG</th>\n      <th>HTAG</th>\n    </tr>\n  </thead>\n  <tbody>\n    <tr>\n      <th>count</th>\n      <td>154586.000000</td>\n      <td>154563.000000</td>\n      <td>154536.000000</td>\n      <td>154543.000000</td>\n    </tr>\n    <tr>\n      <th>mean</th>\n      <td>2.217406</td>\n      <td>1.131150</td>\n      <td>0.655342</td>\n      <td>0.494231</td>\n    </tr>\n    <tr>\n      <th>std</th>\n      <td>21.881446</td>\n      <td>1.108981</td>\n      <td>0.809122</td>\n      <td>0.708230</td>\n    </tr>\n    <tr>\n      <th>min</th>\n      <td>0.000000</td>\n      <td>-1.000000</td>\n      <td>0.000000</td>\n      <td>0.000000</td>\n    </tr>\n    <tr>\n      <th>25%</th>\n      <td>1.000000</td>\n      <td>0.000000</td>\n      <td>0.000000</td>\n      <td>0.000000</td>\n    </tr>\n    <tr>\n      <th>50%</th>\n      <td>1.000000</td>\n      <td>1.000000</td>\n      <td>0.000000</td>\n      <td>0.000000</td>\n    </tr>\n    <tr>\n      <th>75%</th>\n      <td>2.000000</td>\n      <td>2.000000</td>\n      <td>1.000000</td>\n      <td>1.000000</td>\n    </tr>\n    <tr>\n      <th>max</th>\n      <td>998.000000</td>\n      <td>13.000000</td>\n      <td>7.000000</td>\n      <td>6.000000</td>\n    </tr>\n  </tbody>\n</table>\n</div>"
     },
     "execution_count": 7,
     "metadata": {},
     "output_type": "execute_result"
    }
   ],
   "source": [
    "goal_cols = [\"FTHG\", \"FTAG\", \"HTHG\", \"HTAG\"]\n",
    "df[goal_cols].describe()"
   ],
   "metadata": {
    "collapsed": false,
    "ExecuteTime": {
     "end_time": "2023-11-14T21:16:23.364516400Z",
     "start_time": "2023-11-14T21:16:23.260146100Z"
    }
   },
   "id": "657538d5cf004510"
  },
  {
   "cell_type": "markdown",
   "source": [
    "There seems to be several issues:\n",
    "\n",
    "- the max value for **FTHG** is absurd\n",
    "- the min value for **FTAG** does not make sense\n",
    "- some values are missing"
   ],
   "metadata": {
    "collapsed": false
   },
   "id": "2aa520f7268f331d"
  },
  {
   "cell_type": "code",
   "execution_count": 8,
   "outputs": [
    {
     "data": {
      "text/plain": "FTHG\n1.0      51668\n2.0      37661\n0.0      36033\n3.0      18471\n4.0       7210\n5.0       2346\n6.0        752\n7.0        185\n8.0         42\n9.0         14\n10.0         5\n339.0        5\nName: count, dtype: int64"
     },
     "execution_count": 8,
     "metadata": {},
     "output_type": "execute_result"
    }
   ],
   "source": [
    "df[\"FTHG\"].value_counts().head(12)"
   ],
   "metadata": {
    "collapsed": false,
    "ExecuteTime": {
     "end_time": "2023-11-14T21:16:23.365517400Z",
     "start_time": "2023-11-14T21:16:23.308294900Z"
    }
   },
   "id": "3a2d1f300c063570"
  },
  {
   "cell_type": "markdown",
   "source": [
    "First, we will remove all rows where the Full Time Home Goals are greater than 10."
   ],
   "metadata": {
    "collapsed": false
   },
   "id": "c69ffe8dd5a43a13"
  },
  {
   "cell_type": "code",
   "execution_count": 9,
   "outputs": [],
   "source": [
    "df = df[df[\"FTHG\"] <= 10]"
   ],
   "metadata": {
    "collapsed": false,
    "ExecuteTime": {
     "end_time": "2023-11-14T21:16:23.475799600Z",
     "start_time": "2023-11-14T21:16:23.317921900Z"
    }
   },
   "id": "7c3d6a035bd61f5e"
  },
  {
   "cell_type": "markdown",
   "source": [
    "Next, all Full Time Away goals that are less than zero are inspected. Since we are not sure which values are good and bad, all of them are removed."
   ],
   "metadata": {
    "collapsed": false
   },
   "id": "2334a5cf5203f897"
  },
  {
   "cell_type": "code",
   "execution_count": 10,
   "outputs": [],
   "source": [
    "df = df[df[\"FTAG\"] >= 0]"
   ],
   "metadata": {
    "collapsed": false,
    "ExecuteTime": {
     "end_time": "2023-11-14T21:16:23.629831400Z",
     "start_time": "2023-11-14T21:16:23.474799600Z"
    }
   },
   "id": "222e2ecfc432def5"
  },
  {
   "cell_type": "markdown",
   "source": [
    "What's left are the missing values. We have no way of recomputing these as well and these rows are again excluded."
   ],
   "metadata": {
    "collapsed": false
   },
   "id": "74ea71a7360aa200"
  },
  {
   "cell_type": "code",
   "execution_count": 11,
   "outputs": [],
   "source": [
    "df = df[df[goal_cols].isna().sum(axis=1) == 0]"
   ],
   "metadata": {
    "collapsed": false,
    "ExecuteTime": {
     "end_time": "2023-11-14T21:16:23.786192400Z",
     "start_time": "2023-11-14T21:16:23.630832200Z"
    }
   },
   "id": "8b9a3961024b8d5a"
  },
  {
   "cell_type": "markdown",
   "source": [
    "If we run the describe() function again, we can see that the counts are the same and min/max statistics make sense."
   ],
   "metadata": {
    "collapsed": false
   },
   "id": "8832d12e29a8ce13"
  },
  {
   "cell_type": "code",
   "execution_count": 12,
   "outputs": [
    {
     "data": {
      "text/plain": "                FTHG           FTAG           HTHG           HTAG\ncount  153901.000000  153901.000000  153901.000000  153901.000000\nmean        1.485578       1.133742       0.655395       0.494389\nstd         1.253277       1.107116       0.809097       0.708477\nmin         0.000000       0.000000       0.000000       0.000000\n25%         1.000000       0.000000       0.000000       0.000000\n50%         1.000000       1.000000       0.000000       0.000000\n75%         2.000000       2.000000       1.000000       1.000000\nmax        10.000000      13.000000       7.000000       6.000000",
      "text/html": "<div>\n<style scoped>\n    .dataframe tbody tr th:only-of-type {\n        vertical-align: middle;\n    }\n\n    .dataframe tbody tr th {\n        vertical-align: top;\n    }\n\n    .dataframe thead th {\n        text-align: right;\n    }\n</style>\n<table border=\"1\" class=\"dataframe\">\n  <thead>\n    <tr style=\"text-align: right;\">\n      <th></th>\n      <th>FTHG</th>\n      <th>FTAG</th>\n      <th>HTHG</th>\n      <th>HTAG</th>\n    </tr>\n  </thead>\n  <tbody>\n    <tr>\n      <th>count</th>\n      <td>153901.000000</td>\n      <td>153901.000000</td>\n      <td>153901.000000</td>\n      <td>153901.000000</td>\n    </tr>\n    <tr>\n      <th>mean</th>\n      <td>1.485578</td>\n      <td>1.133742</td>\n      <td>0.655395</td>\n      <td>0.494389</td>\n    </tr>\n    <tr>\n      <th>std</th>\n      <td>1.253277</td>\n      <td>1.107116</td>\n      <td>0.809097</td>\n      <td>0.708477</td>\n    </tr>\n    <tr>\n      <th>min</th>\n      <td>0.000000</td>\n      <td>0.000000</td>\n      <td>0.000000</td>\n      <td>0.000000</td>\n    </tr>\n    <tr>\n      <th>25%</th>\n      <td>1.000000</td>\n      <td>0.000000</td>\n      <td>0.000000</td>\n      <td>0.000000</td>\n    </tr>\n    <tr>\n      <th>50%</th>\n      <td>1.000000</td>\n      <td>1.000000</td>\n      <td>0.000000</td>\n      <td>0.000000</td>\n    </tr>\n    <tr>\n      <th>75%</th>\n      <td>2.000000</td>\n      <td>2.000000</td>\n      <td>1.000000</td>\n      <td>1.000000</td>\n    </tr>\n    <tr>\n      <th>max</th>\n      <td>10.000000</td>\n      <td>13.000000</td>\n      <td>7.000000</td>\n      <td>6.000000</td>\n    </tr>\n  </tbody>\n</table>\n</div>"
     },
     "execution_count": 12,
     "metadata": {},
     "output_type": "execute_result"
    }
   ],
   "source": [
    "df[goal_cols].describe()"
   ],
   "metadata": {
    "collapsed": false,
    "ExecuteTime": {
     "end_time": "2023-11-14T21:16:23.839542800Z",
     "start_time": "2023-11-14T21:16:23.788433100Z"
    }
   },
   "id": "6bbd84ad89c9626a"
  },
  {
   "cell_type": "markdown",
   "source": [
    "## Result validation\n",
    "\n",
    "Another thing that needs to be validated is the result classification, which are re-classified - this is the easiest data validation process."
   ],
   "metadata": {
    "collapsed": false
   },
   "id": "e52e77484568589d"
  },
  {
   "cell_type": "code",
   "execution_count": 13,
   "outputs": [],
   "source": [
    "half_conds = [df[\"HTHG\"] > df[\"HTAG\"], df[\"HTHG\"] < df[\"HTAG\"], df[\"HTHG\"] == df[\"HTAG\"]]\n",
    "half_choic = [\"H\"                    , \"A\"                    , \"D\"]\n",
    "df.loc[:, \"HTR\"] = np.select(half_conds, half_choic)\n",
    "full_conds = [df[\"FTHG\"] > df[\"FTAG\"], df[\"FTHG\"] < df[\"FTAG\"], df[\"FTHG\"] == df[\"FTAG\"]]\n",
    "full_choic = [\"H\"                    , \"A\"                    , \"D\"]\n",
    "df.loc[:, \"FTR\"] = np.select(full_conds, full_choic)"
   ],
   "metadata": {
    "collapsed": false,
    "ExecuteTime": {
     "end_time": "2023-11-14T21:16:23.878829400Z",
     "start_time": "2023-11-14T21:16:23.834528500Z"
    }
   },
   "id": "85e5e89fe1176573"
  },
  {
   "cell_type": "markdown",
   "source": [
    "## Validation of other statistics\n",
    "\n",
    "First step is to look at simple descriptive statistics."
   ],
   "metadata": {
    "collapsed": false
   },
   "id": "d09fdf7e0bd7ad56"
  },
  {
   "cell_type": "code",
   "execution_count": 14,
   "outputs": [
    {
     "data": {
      "text/plain": "         Attendance            HS            AS           HST           AST  \\\ncount   6641.000000  91684.000000  91726.000000  90775.000000  90804.000000   \nmean   12853.621894     12.675352     10.296895      5.231551      4.209748   \nstd    13873.200798      4.925163      4.384494      2.808289      2.456644   \nmin      123.000000      0.000000      0.000000      0.000000      0.000000   \n25%     3530.000000      9.000000      7.000000      3.000000      2.000000   \n50%     7014.000000     12.000000     10.000000      5.000000      4.000000   \n75%    17608.000000     16.000000     13.000000      7.000000      6.000000   \nmax    69000.000000     46.000000     45.000000     27.000000     23.000000   \n\n               HHW          AHW            HC            AC            HF  \\\ncount  6472.000000  6484.000000  91276.000000  91327.000000  89647.000000   \nmean      0.351823     0.260950      5.722841      4.647300     12.849644   \nstd       0.610765     0.543137      2.937912      2.624468      4.556054   \nmin       0.000000     0.000000      0.000000      0.000000      0.000000   \n25%       0.000000     0.000000      4.000000      3.000000     10.000000   \n50%       0.000000     0.000000      5.000000      4.000000     12.000000   \n75%       1.000000     0.000000      7.000000      6.000000     16.000000   \nmax       4.000000    10.000000     26.000000     21.000000    145.000000   \n\n       ...         HFKC         AFKC           HO           AO            HY  \\\ncount  ...  1298.000000  1298.000000  6485.000000  6466.000000  91875.000000   \nmean   ...    16.620955    17.298921     3.258288     3.250541      1.642580   \nstd    ...     4.394704     4.740125     2.368060     2.519042      1.293023   \nmin    ...     2.000000     2.000000     0.000000     0.000000      0.000000   \n25%    ...    14.000000    14.000000     2.000000     1.000000      1.000000   \n50%    ...    16.000000    17.000000     3.000000     3.000000      1.000000   \n75%    ...    20.000000    20.000000     5.000000     5.000000      2.000000   \nmax    ...    32.000000    34.000000    16.000000    18.000000     11.000000   \n\n                 AY            HR           AR          HBP          ABP  \ncount  91874.000000  91897.000000  91839.00000  6652.000000  6639.000000  \nmean       1.960413      0.087000      0.11996    15.496843    20.928604  \nstd        1.365235      0.299434      0.35185    14.991016    17.225443  \nmin        0.000000      0.000000      0.00000     0.000000     0.000000  \n25%        1.000000      0.000000      0.00000     0.000000    10.000000  \n50%        2.000000      0.000000      0.00000    10.000000    20.000000  \n75%        3.000000      0.000000      0.00000    20.000000    30.000000  \nmax       10.000000      3.000000      9.00000   115.000000   150.000000  \n\n[8 rows x 21 columns]",
      "text/html": "<div>\n<style scoped>\n    .dataframe tbody tr th:only-of-type {\n        vertical-align: middle;\n    }\n\n    .dataframe tbody tr th {\n        vertical-align: top;\n    }\n\n    .dataframe thead th {\n        text-align: right;\n    }\n</style>\n<table border=\"1\" class=\"dataframe\">\n  <thead>\n    <tr style=\"text-align: right;\">\n      <th></th>\n      <th>Attendance</th>\n      <th>HS</th>\n      <th>AS</th>\n      <th>HST</th>\n      <th>AST</th>\n      <th>HHW</th>\n      <th>AHW</th>\n      <th>HC</th>\n      <th>AC</th>\n      <th>HF</th>\n      <th>...</th>\n      <th>HFKC</th>\n      <th>AFKC</th>\n      <th>HO</th>\n      <th>AO</th>\n      <th>HY</th>\n      <th>AY</th>\n      <th>HR</th>\n      <th>AR</th>\n      <th>HBP</th>\n      <th>ABP</th>\n    </tr>\n  </thead>\n  <tbody>\n    <tr>\n      <th>count</th>\n      <td>6641.000000</td>\n      <td>91684.000000</td>\n      <td>91726.000000</td>\n      <td>90775.000000</td>\n      <td>90804.000000</td>\n      <td>6472.000000</td>\n      <td>6484.000000</td>\n      <td>91276.000000</td>\n      <td>91327.000000</td>\n      <td>89647.000000</td>\n      <td>...</td>\n      <td>1298.000000</td>\n      <td>1298.000000</td>\n      <td>6485.000000</td>\n      <td>6466.000000</td>\n      <td>91875.000000</td>\n      <td>91874.000000</td>\n      <td>91897.000000</td>\n      <td>91839.00000</td>\n      <td>6652.000000</td>\n      <td>6639.000000</td>\n    </tr>\n    <tr>\n      <th>mean</th>\n      <td>12853.621894</td>\n      <td>12.675352</td>\n      <td>10.296895</td>\n      <td>5.231551</td>\n      <td>4.209748</td>\n      <td>0.351823</td>\n      <td>0.260950</td>\n      <td>5.722841</td>\n      <td>4.647300</td>\n      <td>12.849644</td>\n      <td>...</td>\n      <td>16.620955</td>\n      <td>17.298921</td>\n      <td>3.258288</td>\n      <td>3.250541</td>\n      <td>1.642580</td>\n      <td>1.960413</td>\n      <td>0.087000</td>\n      <td>0.11996</td>\n      <td>15.496843</td>\n      <td>20.928604</td>\n    </tr>\n    <tr>\n      <th>std</th>\n      <td>13873.200798</td>\n      <td>4.925163</td>\n      <td>4.384494</td>\n      <td>2.808289</td>\n      <td>2.456644</td>\n      <td>0.610765</td>\n      <td>0.543137</td>\n      <td>2.937912</td>\n      <td>2.624468</td>\n      <td>4.556054</td>\n      <td>...</td>\n      <td>4.394704</td>\n      <td>4.740125</td>\n      <td>2.368060</td>\n      <td>2.519042</td>\n      <td>1.293023</td>\n      <td>1.365235</td>\n      <td>0.299434</td>\n      <td>0.35185</td>\n      <td>14.991016</td>\n      <td>17.225443</td>\n    </tr>\n    <tr>\n      <th>min</th>\n      <td>123.000000</td>\n      <td>0.000000</td>\n      <td>0.000000</td>\n      <td>0.000000</td>\n      <td>0.000000</td>\n      <td>0.000000</td>\n      <td>0.000000</td>\n      <td>0.000000</td>\n      <td>0.000000</td>\n      <td>0.000000</td>\n      <td>...</td>\n      <td>2.000000</td>\n      <td>2.000000</td>\n      <td>0.000000</td>\n      <td>0.000000</td>\n      <td>0.000000</td>\n      <td>0.000000</td>\n      <td>0.000000</td>\n      <td>0.00000</td>\n      <td>0.000000</td>\n      <td>0.000000</td>\n    </tr>\n    <tr>\n      <th>25%</th>\n      <td>3530.000000</td>\n      <td>9.000000</td>\n      <td>7.000000</td>\n      <td>3.000000</td>\n      <td>2.000000</td>\n      <td>0.000000</td>\n      <td>0.000000</td>\n      <td>4.000000</td>\n      <td>3.000000</td>\n      <td>10.000000</td>\n      <td>...</td>\n      <td>14.000000</td>\n      <td>14.000000</td>\n      <td>2.000000</td>\n      <td>1.000000</td>\n      <td>1.000000</td>\n      <td>1.000000</td>\n      <td>0.000000</td>\n      <td>0.00000</td>\n      <td>0.000000</td>\n      <td>10.000000</td>\n    </tr>\n    <tr>\n      <th>50%</th>\n      <td>7014.000000</td>\n      <td>12.000000</td>\n      <td>10.000000</td>\n      <td>5.000000</td>\n      <td>4.000000</td>\n      <td>0.000000</td>\n      <td>0.000000</td>\n      <td>5.000000</td>\n      <td>4.000000</td>\n      <td>12.000000</td>\n      <td>...</td>\n      <td>16.000000</td>\n      <td>17.000000</td>\n      <td>3.000000</td>\n      <td>3.000000</td>\n      <td>1.000000</td>\n      <td>2.000000</td>\n      <td>0.000000</td>\n      <td>0.00000</td>\n      <td>10.000000</td>\n      <td>20.000000</td>\n    </tr>\n    <tr>\n      <th>75%</th>\n      <td>17608.000000</td>\n      <td>16.000000</td>\n      <td>13.000000</td>\n      <td>7.000000</td>\n      <td>6.000000</td>\n      <td>1.000000</td>\n      <td>0.000000</td>\n      <td>7.000000</td>\n      <td>6.000000</td>\n      <td>16.000000</td>\n      <td>...</td>\n      <td>20.000000</td>\n      <td>20.000000</td>\n      <td>5.000000</td>\n      <td>5.000000</td>\n      <td>2.000000</td>\n      <td>3.000000</td>\n      <td>0.000000</td>\n      <td>0.00000</td>\n      <td>20.000000</td>\n      <td>30.000000</td>\n    </tr>\n    <tr>\n      <th>max</th>\n      <td>69000.000000</td>\n      <td>46.000000</td>\n      <td>45.000000</td>\n      <td>27.000000</td>\n      <td>23.000000</td>\n      <td>4.000000</td>\n      <td>10.000000</td>\n      <td>26.000000</td>\n      <td>21.000000</td>\n      <td>145.000000</td>\n      <td>...</td>\n      <td>32.000000</td>\n      <td>34.000000</td>\n      <td>16.000000</td>\n      <td>18.000000</td>\n      <td>11.000000</td>\n      <td>10.000000</td>\n      <td>3.000000</td>\n      <td>9.00000</td>\n      <td>115.000000</td>\n      <td>150.000000</td>\n    </tr>\n  </tbody>\n</table>\n<p>8 rows × 21 columns</p>\n</div>"
     },
     "execution_count": 14,
     "metadata": {},
     "output_type": "execute_result"
    }
   ],
   "source": [
    "stat_cols = [\n",
    "    'Attendance', 'HS', 'AS', 'HST', 'AST', 'HHW', 'AHW',\n",
    "    'HC', 'AC', 'HF', 'AF', 'HFKC', 'AFKC', 'HO', 'AO', 'HY', 'AY', 'HR', 'AR', \"HBP\", \"ABP\"\n",
    "]\n",
    "\n",
    "df[stat_cols].describe()"
   ],
   "metadata": {
    "collapsed": false,
    "ExecuteTime": {
     "end_time": "2023-11-14T21:16:24.050989800Z",
     "start_time": "2023-11-14T21:16:23.867970Z"
    }
   },
   "id": "bc0b4a8d0d72e42f"
  },
  {
   "cell_type": "markdown",
   "source": [
    "Then we take a look at boxplots for variables where at least one variable falls out of the interval\n",
    "\n",
    "$$\n",
    "(\\text{q}_{0.25} - 3 * \\text{IQR} ; \\text{q}_{0.75} + 3 * \\text{IQR})\n",
    "$$"
   ],
   "metadata": {
    "collapsed": false
   },
   "id": "45f0423ea6b24818"
  },
  {
   "cell_type": "code",
   "execution_count": 15,
   "outputs": [
    {
     "data": {
      "text/plain": "Attendance      109\nHS               14\nAS               23\nHST              18\nAST               8\nAHW            1435\nHC              174\nAC               73\nHF               21\nAF               25\nHO                4\nAO                2\nHY              633\nAY                2\nHR             7548\nAR            10254\nHBP              13\nABP              24\ndtype: int64"
     },
     "execution_count": 15,
     "metadata": {},
     "output_type": "execute_result"
    }
   ],
   "source": [
    "def outliers(x, multi = 3):\n",
    "    q25 = x.quantile(0.25)\n",
    "    q75 = x.quantile(0.75)\n",
    "    iqr = q75 - q25\n",
    "    outliers = x[(x < q25 - multi * iqr) | (x > q75 + multi * iqr)]\n",
    "    return len(outliers)\n",
    "\n",
    "stat_outliers = df[stat_cols].apply(lambda x: outliers(x))\n",
    "stat_outliers = stat_outliers[stat_outliers != 0]\n",
    "stat_outliers"
   ],
   "metadata": {
    "collapsed": false,
    "ExecuteTime": {
     "end_time": "2023-11-14T21:16:24.156001400Z",
     "start_time": "2023-11-14T21:16:24.051989400Z"
    }
   },
   "id": "177436f7c3a88243"
  },
  {
   "cell_type": "code",
   "execution_count": 16,
   "outputs": [
    {
     "data": {
      "text/plain": "<Figure size 1200x1000 with 18 Axes>",
      "image/png": "[encoded data removed]"
     },
     "metadata": {},
     "output_type": "display_data"
    }
   ],
   "source": [
    "fig, axes = plt.subplots(nrows=3, ncols = 6, figsize = (12, 10))\n",
    "axes = axes.ravel()\n",
    "\n",
    "for i, col in enumerate(stat_outliers.index):\n",
    "    # Data\n",
    "    df[col].plot(kind='box', ax = axes[i])\n",
    "    # Styling\n",
    "    axes[i].set_title(col)\n",
    "    axes[i].axes.get_xaxis().set_visible(False)\n",
    "\n",
    "plt.show()\n"
   ],
   "metadata": {
    "collapsed": false,
    "ExecuteTime": {
     "end_time": "2023-11-14T21:16:25.402933900Z",
     "start_time": "2023-11-14T21:16:24.113431100Z"
    }
   },
   "id": "2dd75d75ae33862b"
  },
  {
   "cell_type": "markdown",
   "source": [
    "We can se that some outliers are not that extreme. For example variables *HO*, *AO* or *HY* have extreme values, but won't remove them. This is because even tho they can be considered as extreme, there seems to be a natural way how they occured and tehre are no huge jumps between them.\n",
    "\n",
    "On the other hand, variables *AHW*, *HF*, *AF* and *AR* seem to have some variables that are far away from the other data. Note that we do not consider variables in *HR* as outliers because it looks like it's a discrete variable with mostly zeroes."
   ],
   "metadata": {
    "collapsed": false
   },
   "id": "a888e96f3e2a7992"
  },
  {
   "cell_type": "code",
   "execution_count": 17,
   "outputs": [
    {
     "name": "stdout",
     "output_type": "stream",
     "text": [
      "Number of extreme values:\n",
      "AS: [45. 39.], (count: 2)\n",
      "AHW: [10.], (count: 1)\n",
      "HF: [145.], (count: 1)\n",
      "AF: [77.], (count: 1)\n",
      "AR: [9.], (count: 1)\n",
      "ABP: [150.], (count: 1)\n"
     ]
    }
   ],
   "source": [
    "stat_jump = [\n",
    "    \"AS\", \"AHW\", \"HF\", \"AF\", \"AR\", \"ABP\"\n",
    "]\n",
    "stats_cut = [\n",
    "    38, 6, 100, 60, 6, 130\n",
    "]\n",
    "\n",
    "print(\"Number of extreme values:\")\n",
    "for i, col in enumerate(stat_jump):\n",
    "    cutoff = stats_cut[i]\n",
    "    x = df[col].to_numpy()\n",
    "    extreme = x[x > cutoff]\n",
    "    print(f\"{col}: {extreme}, (count: {len(extreme)})\")\n",
    "    \n",
    "plt.show()"
   ],
   "metadata": {
    "collapsed": false,
    "ExecuteTime": {
     "end_time": "2023-11-14T21:16:25.419423900Z",
     "start_time": "2023-11-14T21:16:25.402933900Z"
    }
   },
   "id": "f21efa2b34676bd3"
  },
  {
   "cell_type": "markdown",
   "source": [
    "Based on the analysis, we see that these extreme values occur at most twice. This is why we chose to remove them."
   ],
   "metadata": {
    "collapsed": false
   },
   "id": "e02737b46401e115"
  },
  {
   "cell_type": "code",
   "execution_count": 18,
   "outputs": [],
   "source": [
    "criteria = dict(zip(stat_jump, stats_cut))\n",
    "for column, value in criteria.items():\n",
    "    # .isna() is important because otherwise all na rows are dropped\n",
    "    df = df[df[column].lt(value) | df[column].isna()]"
   ],
   "metadata": {
    "collapsed": false,
    "ExecuteTime": {
     "end_time": "2023-11-14T21:16:26.289415Z",
     "start_time": "2023-11-14T21:16:25.420425500Z"
    }
   },
   "id": "bfd4534b886b19e8"
  },
  {
   "cell_type": "markdown",
   "source": [
    "Finally, we will double-check with boxplots."
   ],
   "metadata": {
    "collapsed": false
   },
   "id": "fa38c764b778db71"
  },
  {
   "cell_type": "code",
   "execution_count": 19,
   "outputs": [
    {
     "data": {
      "text/plain": "<Figure size 800x800 with 6 Axes>",
      "image/png": "[encoded data removed]"
     },
     "metadata": {},
     "output_type": "display_data"
    }
   ],
   "source": [
    "fig, axes = plt.subplots(nrows=2, ncols = 3, figsize = (8, 8))\n",
    "axes = axes.ravel()\n",
    "\n",
    "for i, col in enumerate(stat_jump):\n",
    "    df[col].plot(kind='box', ax = axes[i])\n",
    "    axes[i].set_title(col)\n",
    "    axes[i].axes.get_xaxis().set_visible(False)\n",
    "\n",
    "plt.show()"
   ],
   "metadata": {
    "collapsed": false,
    "ExecuteTime": {
     "end_time": "2023-11-14T21:16:26.650535200Z",
     "start_time": "2023-11-14T21:16:26.277382100Z"
    }
   },
   "id": "660bf3ce1d532ff9"
  },
  {
   "cell_type": "markdown",
   "source": [
    "IT looks like variable *HF* contains another outlier, but this process should be done only once. Hence, no outliers are removed."
   ],
   "metadata": {
    "collapsed": false
   },
   "id": "47633077ae692db9"
  },
  {
   "cell_type": "markdown",
   "source": [
    "## Random unnamed data\n",
    "\n",
    "File *'data/train/portugal/1/0304.csv'* contains random data in columns *'Unnamed: 33'* and *'Unnamed: 34'*."
   ],
   "metadata": {
    "collapsed": false
   },
   "id": "bace25c465e174b5"
  },
  {
   "cell_type": "code",
   "execution_count": 20,
   "outputs": [
    {
     "data": {
      "text/plain": "     Unnamed: 32  Unnamed: 33  Unnamed: 34\n157          2.0          1.8        -1.75",
      "text/html": "<div>\n<style scoped>\n    .dataframe tbody tr th:only-of-type {\n        vertical-align: middle;\n    }\n\n    .dataframe tbody tr th {\n        vertical-align: top;\n    }\n\n    .dataframe thead th {\n        text-align: right;\n    }\n</style>\n<table border=\"1\" class=\"dataframe\">\n  <thead>\n    <tr style=\"text-align: right;\">\n      <th></th>\n      <th>Unnamed: 32</th>\n      <th>Unnamed: 33</th>\n      <th>Unnamed: 34</th>\n    </tr>\n  </thead>\n  <tbody>\n    <tr>\n      <th>157</th>\n      <td>2.0</td>\n      <td>1.8</td>\n      <td>-1.75</td>\n    </tr>\n  </tbody>\n</table>\n</div>"
     },
     "execution_count": 20,
     "metadata": {},
     "output_type": "execute_result"
    }
   ],
   "source": [
    "unnamed_cols_df = df[['Unnamed: 32', 'Unnamed: 33', 'Unnamed: 34']]\n",
    "unnamed_cols_df[unnamed_cols_df.notnull().any(axis=1)]"
   ],
   "metadata": {
    "collapsed": false,
    "ExecuteTime": {
     "end_time": "2023-11-14T21:16:26.668340700Z",
     "start_time": "2023-11-14T21:16:26.650535200Z"
    }
   },
   "id": "786e1f9ac050b5ae"
  },
  {
   "cell_type": "markdown",
   "source": [
    "Since we do not know what these columns represent, and it is only one non-NA row from the whole dataset, this column is removed."
   ],
   "metadata": {
    "collapsed": false
   },
   "id": "1f14558724384896"
  },
  {
   "cell_type": "code",
   "execution_count": 21,
   "outputs": [],
   "source": [
    "df = df.drop(columns = unnamed_cols_df.columns)"
   ],
   "metadata": {
    "collapsed": false,
    "ExecuteTime": {
     "end_time": "2023-11-14T21:16:26.787982600Z",
     "start_time": "2023-11-14T21:16:26.665827900Z"
    }
   },
   "id": "63344855b69da629"
  },
  {
   "cell_type": "markdown",
   "source": [
    "## Wrong betting odds names\n",
    "\n",
    "File *'data/train/germany/2/0405.csv'* contains columns **LB**, **LB.1** and **LB.2**, which are unique only to this file. After further investigation, they represent the betting odds data for Ladbrokers. After looking at the data more thoroughly, it can be guessed that all three columns represent odds for home win, away win, and draw."
   ],
   "metadata": {
    "collapsed": false
   },
   "id": "2096a866882ec13c"
  },
  {
   "cell_type": "code",
   "execution_count": 22,
   "outputs": [
    {
     "data": {
      "text/plain": "       LB  LB.1  LB.2   SBH   SBD   SBA   WHH   WHD   WHA  GBAHH  GBAHA  GBAH\n2    1.67  3.25   NaN  1.62  3.75  5.00  1.65  3.30  4.60   1.65   2.02 -0.50\n6    2.00  3.20   NaN  2.10  3.20  3.25  2.15  3.10  3.00   1.77   1.95 -0.25\n7    1.91  3.25   NaN  2.00  3.30  3.40  1.90  3.25  3.40   1.95   1.70 -0.50\n12   2.60  3.20  2.38  2.70  3.20  2.40  2.50  3.10  2.50   1.43   2.50  0.50\n15   2.25  3.20  2.75  2.40  3.00  2.88  2.20  3.10  2.87   2.30   1.48 -0.50\n..    ...   ...   ...   ...   ...   ...   ...   ...   ...    ...    ...   ...\n291  2.40  3.25  2.50  2.50  3.25  2.50  2.45  3.25  2.45   2.45   1.43 -0.50\n294  2.00  3.00  3.40  2.10  3.20  3.25  2.10  3.20  3.00   1.91   1.70 -0.50\n295  2.25  3.20  2.75  2.38  3.10  2.88  2.37  3.30  2.50   2.20   1.52 -0.50\n297  1.62  3.25  5.00  1.60  3.75  5.00  1.60  3.30  5.00   1.62   2.06 -0.50\n299  1.73  3.20  4.33  1.75  3.50  4.20  1.75  3.30  4.00   1.75   1.89 -0.50\n\n[110 rows x 12 columns]",
      "text/html": "<div>\n<style scoped>\n    .dataframe tbody tr th:only-of-type {\n        vertical-align: middle;\n    }\n\n    .dataframe tbody tr th {\n        vertical-align: top;\n    }\n\n    .dataframe thead th {\n        text-align: right;\n    }\n</style>\n<table border=\"1\" class=\"dataframe\">\n  <thead>\n    <tr style=\"text-align: right;\">\n      <th></th>\n      <th>LB</th>\n      <th>LB.1</th>\n      <th>LB.2</th>\n      <th>SBH</th>\n      <th>SBD</th>\n      <th>SBA</th>\n      <th>WHH</th>\n      <th>WHD</th>\n      <th>WHA</th>\n      <th>GBAHH</th>\n      <th>GBAHA</th>\n      <th>GBAH</th>\n    </tr>\n  </thead>\n  <tbody>\n    <tr>\n      <th>2</th>\n      <td>1.67</td>\n      <td>3.25</td>\n      <td>NaN</td>\n      <td>1.62</td>\n      <td>3.75</td>\n      <td>5.00</td>\n      <td>1.65</td>\n      <td>3.30</td>\n      <td>4.60</td>\n      <td>1.65</td>\n      <td>2.02</td>\n      <td>-0.50</td>\n    </tr>\n    <tr>\n      <th>6</th>\n      <td>2.00</td>\n      <td>3.20</td>\n      <td>NaN</td>\n      <td>2.10</td>\n      <td>3.20</td>\n      <td>3.25</td>\n      <td>2.15</td>\n      <td>3.10</td>\n      <td>3.00</td>\n      <td>1.77</td>\n      <td>1.95</td>\n      <td>-0.25</td>\n    </tr>\n    <tr>\n      <th>7</th>\n      <td>1.91</td>\n      <td>3.25</td>\n      <td>NaN</td>\n      <td>2.00</td>\n      <td>3.30</td>\n      <td>3.40</td>\n      <td>1.90</td>\n      <td>3.25</td>\n      <td>3.40</td>\n      <td>1.95</td>\n      <td>1.70</td>\n      <td>-0.50</td>\n    </tr>\n    <tr>\n      <th>12</th>\n      <td>2.60</td>\n      <td>3.20</td>\n      <td>2.38</td>\n      <td>2.70</td>\n      <td>3.20</td>\n      <td>2.40</td>\n      <td>2.50</td>\n      <td>3.10</td>\n      <td>2.50</td>\n      <td>1.43</td>\n      <td>2.50</td>\n      <td>0.50</td>\n    </tr>\n    <tr>\n      <th>15</th>\n      <td>2.25</td>\n      <td>3.20</td>\n      <td>2.75</td>\n      <td>2.40</td>\n      <td>3.00</td>\n      <td>2.88</td>\n      <td>2.20</td>\n      <td>3.10</td>\n      <td>2.87</td>\n      <td>2.30</td>\n      <td>1.48</td>\n      <td>-0.50</td>\n    </tr>\n    <tr>\n      <th>...</th>\n      <td>...</td>\n      <td>...</td>\n      <td>...</td>\n      <td>...</td>\n      <td>...</td>\n      <td>...</td>\n      <td>...</td>\n      <td>...</td>\n      <td>...</td>\n      <td>...</td>\n      <td>...</td>\n      <td>...</td>\n    </tr>\n    <tr>\n      <th>291</th>\n      <td>2.40</td>\n      <td>3.25</td>\n      <td>2.50</td>\n      <td>2.50</td>\n      <td>3.25</td>\n      <td>2.50</td>\n      <td>2.45</td>\n      <td>3.25</td>\n      <td>2.45</td>\n      <td>2.45</td>\n      <td>1.43</td>\n      <td>-0.50</td>\n    </tr>\n    <tr>\n      <th>294</th>\n      <td>2.00</td>\n      <td>3.00</td>\n      <td>3.40</td>\n      <td>2.10</td>\n      <td>3.20</td>\n      <td>3.25</td>\n      <td>2.10</td>\n      <td>3.20</td>\n      <td>3.00</td>\n      <td>1.91</td>\n      <td>1.70</td>\n      <td>-0.50</td>\n    </tr>\n    <tr>\n      <th>295</th>\n      <td>2.25</td>\n      <td>3.20</td>\n      <td>2.75</td>\n      <td>2.38</td>\n      <td>3.10</td>\n      <td>2.88</td>\n      <td>2.37</td>\n      <td>3.30</td>\n      <td>2.50</td>\n      <td>2.20</td>\n      <td>1.52</td>\n      <td>-0.50</td>\n    </tr>\n    <tr>\n      <th>297</th>\n      <td>1.62</td>\n      <td>3.25</td>\n      <td>5.00</td>\n      <td>1.60</td>\n      <td>3.75</td>\n      <td>5.00</td>\n      <td>1.60</td>\n      <td>3.30</td>\n      <td>5.00</td>\n      <td>1.62</td>\n      <td>2.06</td>\n      <td>-0.50</td>\n    </tr>\n    <tr>\n      <th>299</th>\n      <td>1.73</td>\n      <td>3.20</td>\n      <td>4.33</td>\n      <td>1.75</td>\n      <td>3.50</td>\n      <td>4.20</td>\n      <td>1.75</td>\n      <td>3.30</td>\n      <td>4.00</td>\n      <td>1.75</td>\n      <td>1.89</td>\n      <td>-0.50</td>\n    </tr>\n  </tbody>\n</table>\n<p>110 rows × 12 columns</p>\n</div>"
     },
     "execution_count": 22,
     "metadata": {},
     "output_type": "execute_result"
    }
   ],
   "source": [
    "tmp = pd.read_csv(\"data/train/germany/2/0405.csv\")\n",
    "# Remove empty rows and columns\n",
    "tmp = tmp.dropna(how='all', axis=0)\n",
    "tmp = tmp.dropna(how='all', axis=1)\n",
    "tmp = tmp.loc[:, ~tmp.columns.str.startswith('Unnamed:')]\n",
    "tmp = tmp[tmp[['LB', 'LB.1', 'LB.2']].notnull().any(axis=1)]\n",
    "tmp.filter(regex='[HDAB12]$').iloc[:, -12:]"
   ],
   "metadata": {
    "collapsed": false,
    "ExecuteTime": {
     "end_time": "2023-11-14T21:16:26.863552200Z",
     "start_time": "2023-11-14T21:16:26.761622900Z"
    }
   },
   "id": "46c0204ec919c55a"
  },
  {
   "cell_type": "markdown",
   "source": [
    "Based on column similarity, we can make an edjucated guess that\n",
    "\n",
    "- **LB** should be **LBH**,\n",
    "- **LB.1** should be **LBD**, and\n",
    "- **LB.2** should be **LBA**"
   ],
   "metadata": {
    "collapsed": false
   },
   "id": "353c391dda553e2"
  },
  {
   "cell_type": "code",
   "execution_count": 23,
   "outputs": [],
   "source": [
    "# If LB is not null, use that value and replace it in LBH\n",
    "df[\"LBH\"] = df[\"LBH\"].mask(df[\"LB\"  ].notnull(), df[\"LB\"])\n",
    "df[\"LBD\"] = df[\"LBD\"].mask(df[\"LB.1\"].notnull(), df[\"LB.1\"])\n",
    "df[\"LBA\"] = df[\"LBA\"].mask(df[\"LB.2\"].notnull(), df[\"LB.2\"])\n",
    "df = df.drop(columns = [\"LB\", \"LB.1\", \"LB.2\"])"
   ],
   "metadata": {
    "collapsed": false,
    "ExecuteTime": {
     "end_time": "2023-11-14T21:16:26.959429800Z",
     "start_time": "2023-11-14T21:16:26.791433100Z"
    }
   },
   "id": "62309977e66ec42d"
  },
  {
   "cell_type": "markdown",
   "source": [
    "## Date normalization\n",
    "\n",
    "Date is not consistent and it needs to be unified in order to format it as date."
   ],
   "metadata": {
    "collapsed": false
   },
   "id": "576e514dc2ec2ff9"
  },
  {
   "cell_type": "code",
   "execution_count": 24,
   "outputs": [],
   "source": [
    "potential_fixes = pd.to_datetime(df['Date'], format='mixed', dayfirst=True)\n",
    "equal = potential_fixes[potential_fixes.isnull()].index.equals(df[df[\"Date\"].isnull()].index)\n",
    "# if True, all non-na dates have been converted\n",
    "if equal:\n",
    "    df[\"Date\"] = potential_fixes\n",
    "else:\n",
    "   print(\"Date indexes are not equal. Something wrong with the conversion??\")"
   ],
   "metadata": {
    "collapsed": false,
    "ExecuteTime": {
     "end_time": "2023-11-14T21:16:27.116513900Z",
     "start_time": "2023-11-14T21:16:26.916600200Z"
    }
   },
   "id": "ca78f5ac8fad1e9d"
  },
  {
   "cell_type": "markdown",
   "source": [
    "## Bookies analysis"
   ],
   "metadata": {
    "collapsed": false
   },
   "id": "e3ebd7b832fd12f8"
  },
  {
   "cell_type": "code",
   "execution_count": 25,
   "outputs": [
    {
     "name": "stdout",
     "output_type": "stream",
     "text": [
      "     Avg_away_odds  Avg_home_odds  Avg_draw_odds Avg_bookie_prediction  \\\n",
      "0         2.410000       2.460000       3.250000                     A   \n",
      "1         1.866667       3.350000       3.300000                     A   \n",
      "2         1.816667       3.287500       3.362500                     A   \n",
      "3         4.083333       1.645000       3.450000                     H   \n",
      "4         4.433333       1.605000       3.387500                     H   \n",
      "..             ...            ...            ...                   ...   \n",
      "367       5.373333       1.606667       3.953333                     H   \n",
      "368       3.426667       2.140000       3.291667                     H   \n",
      "369       2.005000       3.738333       3.385000                     A   \n",
      "370       3.140000       2.191667       3.495000                     H   \n",
      "371       7.143333       1.408333       4.873333                     H   \n",
      "\n",
      "     Var_away_odds  Var_home_odds  Var_draw_odds  \n",
      "0         0.007200       0.007200       0.045000  \n",
      "1         0.005833       0.056667       0.026667  \n",
      "2         0.003333       0.007292       0.012292  \n",
      "3         0.135833       0.004300       0.010000  \n",
      "4         0.163333       0.000100       0.007292  \n",
      "..             ...            ...            ...  \n",
      "367       0.142267       0.000427       0.025067  \n",
      "368       0.038867       0.003200       0.011417  \n",
      "369       0.001550       0.016417       0.014550  \n",
      "370       0.005880       0.003417       0.009750  \n",
      "371       0.190267       0.000297       0.042467  \n",
      "\n",
      "[153894 rows x 7 columns]\n"
     ]
    }
   ],
   "source": [
    "#minor warning suppression\n",
    "shutup.please()\n",
    "\n",
    "away_odds = df[[\"B365A\", \"BSA\", \"BWA\", \"GBA\", \"IWA\", \"LBA\", \"PSA\", \"SOA\", \"SBA\", \"SJA\", \"SYA\", \"VCA\", \"WHA\"]]\n",
    "home_odds = df[[\"B365H\", \"BSH\", \"BWH\", \"GBH\", \"IWH\", \"LBH\", \"PSH\", \"SOH\", \"SBH\", \"SJH\", \"SYH\", \"VCH\", \"WHH\"]]\n",
    "draw_odds = df[[\"B365D\", \"BSD\", \"BWD\", \"GBD\", \"IWD\", \"LBD\", \"PSD\", \"SOD\", \"SBD\", \"SJD\", \"SYD\", \"VCD\", \"WHD\"]]\n",
    "\n",
    "#Average of away/home/draw odds\n",
    "df[\"Avg_away_odds\"] = away_odds.mean(axis=1)\n",
    "df[\"Avg_home_odds\"] = home_odds.mean(axis=1)\n",
    "df[\"Avg_draw_odds\"] = draw_odds.mean(axis=1)\n",
    "\n",
    "#Predcition based on averages - Odds with smallest average have the highest probability -> returns A/H/D\n",
    "df[\"Avg_bookie_prediction\"] = df[[\"Avg_away_odds\", \"Avg_home_odds\", \"Avg_draw_odds\"]].idxmin(axis=1).fillna(\"\").astype(str).str[4]\n",
    "df[\"Avg_bookie_prediction\"] = df[\"Avg_bookie_prediction\"].str.upper()\n",
    "\n",
    "#Certainity of odds, the smaller variance implies, that bookies are more \"sure\"\n",
    "df[\"Var_away_odds\"] = away_odds.var(axis=1)\n",
    "df[\"Var_home_odds\"] = home_odds.var(axis=1)\n",
    "df[\"Var_draw_odds\"] = draw_odds.var(axis=1)\n",
    "\n",
    "print(df.loc[:, \"Avg_away_odds\":\"Var_draw_odds\"])"
   ],
   "metadata": {
    "collapsed": false,
    "ExecuteTime": {
     "end_time": "2023-11-14T21:16:27.443491400Z",
     "start_time": "2023-11-14T21:16:27.120020400Z"
    }
   },
   "id": "c25515b5503cff13"
  },
  {
   "cell_type": "code",
   "execution_count": 26,
   "outputs": [
    {
     "name": "stdout",
     "output_type": "stream",
     "text": [
      "     B365A  B365D  B365H B365P  BSA  BSD  BSH  BSP   BWA   BWD  ...  SYP  \\\n",
      "0      NaN    NaN    NaN   NaN  NaN  NaN  NaN  NaN   NaN   NaN  ...  NaN   \n",
      "1      NaN    NaN    NaN   NaN  NaN  NaN  NaN  NaN   NaN   NaN  ...  NaN   \n",
      "2      NaN    NaN    NaN   NaN  NaN  NaN  NaN  NaN   NaN   NaN  ...  NaN   \n",
      "3      NaN    NaN    NaN   NaN  NaN  NaN  NaN  NaN   NaN   NaN  ...  NaN   \n",
      "4      NaN    NaN    NaN   NaN  NaN  NaN  NaN  NaN   NaN   NaN  ...  NaN   \n",
      "..     ...    ...    ...   ...  ...  ...  ...  ...   ...   ...  ...  ...   \n",
      "367   4.75   4.00   1.57     H  NaN  NaN  NaN  NaN  5.25  3.90  ...  NaN   \n",
      "368   3.10   3.50   2.05     H  NaN  NaN  NaN  NaN  3.40  3.25  ...  NaN   \n",
      "369   1.95   3.30   3.60     A  NaN  NaN  NaN  NaN  1.98  3.30  ...  NaN   \n",
      "370   3.10   3.50   2.20     H  NaN  NaN  NaN  NaN  3.10  3.50  ...  NaN   \n",
      "371   7.00   4.75   1.40     H  NaN  NaN  NaN  NaN  7.00  5.00  ...  NaN   \n",
      "\n",
      "      VCA  VCD   VCH  VCP   WHA   WHD   WHH  WHP Outcome  \n",
      "0     NaN  NaN   NaN  NaN  2.35  3.40  2.40    A       D  \n",
      "1     NaN  NaN   NaN  NaN  1.95  3.30  3.10    A       A  \n",
      "2     NaN  NaN   NaN  NaN  1.85  3.45  3.25    A       A  \n",
      "3     NaN  NaN   NaN  NaN  3.80  3.50  1.70    H       H  \n",
      "4     NaN  NaN   NaN  NaN  4.50  3.40  1.60    H       H  \n",
      "..    ...  ...   ...  ...   ...   ...   ...  ...     ...  \n",
      "367  5.75  3.8  1.62    H  5.50  3.80  1.60    H       H  \n",
      "368  3.50  3.3  2.15    H  3.40  3.25  2.10    H       A  \n",
      "369  2.05  3.3  3.75    A  2.00  3.40  3.70    A       D  \n",
      "370  3.13  3.4  2.25    H  3.20  3.40  2.15    H       D  \n",
      "371  8.00  4.8  1.40    H  7.00  4.60  1.40    H       H  \n",
      "\n",
      "[153894 rows x 53 columns]\n"
     ]
    }
   ],
   "source": [
    "#Columns for predictions of all bookies\n",
    "bookies_predictions = pd.DataFrame(columns = [\"B365P\", \"BSP\", \"BWP\", \"GBP\", \"IWP\", \"LBP\", \"PSP\", \"SOP\", \"SBP\", \"SJP\", \"SYP\", \"VCP\", \"WHP\"])\n",
    "\n",
    "#dataframe with away/home/draw odds for each bookie\n",
    "df_bookies_accuracy = pd.concat([away_odds, home_odds, draw_odds, bookies_predictions], axis = 1).sort_index(axis = 1)\n",
    "df_bookies_accuracy[\"Outcome\"] = df[[\"FTR\"]]\n",
    "\n",
    "seq = list(range(3, 53, 4))\n",
    "#\"prediction\" of each bookie based on their odds\n",
    "for i in seq:\n",
    "    df_bookies_accuracy.iloc[:, i] = df_bookies_accuracy.iloc[:, i-3:i].idxmin(axis=1).fillna(\"\").astype(str).str[-1]\n",
    "\n",
    "print(df_bookies_accuracy)"
   ],
   "metadata": {
    "collapsed": false,
    "ExecuteTime": {
     "end_time": "2023-11-14T21:16:28.603267300Z",
     "start_time": "2023-11-14T21:16:27.443491400Z"
    }
   },
   "id": "560f2d8c692863de"
  },
  {
   "cell_type": "code",
   "execution_count": 27,
   "outputs": [
    {
     "name": "stdout",
     "output_type": "stream",
     "text": [
      "Percentage of matching values for B365: 49.87%\n",
      "Percentage of matching values for BS: 49.79%\n",
      "Percentage of matching values for BW: 49.89%\n",
      "Percentage of matching values for GB: 49.95%\n",
      "Percentage of matching values for IW: 49.78%\n",
      "Percentage of matching values for LB: 49.82%\n",
      "Percentage of matching values for PS: 49.91%\n",
      "Percentage of matching values for SO: 49.27%\n",
      "Percentage of matching values for SB: 49.94%\n",
      "Percentage of matching values for SJ: 49.77%\n",
      "Percentage of matching values for SY: 49.94%\n",
      "Percentage of matching values for VC: 49.99%\n",
      "Percentage of matching values for WH: 49.90%\n"
     ]
    }
   ],
   "source": [
    "#Accuracy of each bookie - all around 50% - accuracy of a bookie cannot be used as a weight for prediction\n",
    "for bookie in bookies_predictions:\n",
    "    filter_df = df_bookies_accuracy[df_bookies_accuracy[bookie].notna()]\n",
    "    matching_values = (filter_df[bookie] == filter_df['Outcome']).sum()\n",
    "    total_values = len(filter_df)\n",
    "    percent= (matching_values/total_values) *100\n",
    "    print(\"Percentage of matching values for \" + bookie[:-1] + f\": {percent:.2f}%\")"
   ],
   "metadata": {
    "collapsed": false,
    "ExecuteTime": {
     "end_time": "2023-11-14T21:16:28.902299300Z",
     "start_time": "2023-11-14T21:16:28.601265200Z"
    }
   },
   "id": "ab531191012f1bfb"
  },
  {
   "cell_type": "markdown",
   "source": [
    "- - -"
   ],
   "metadata": {
    "collapsed": false
   },
   "id": "fae4bede01492298"
  },
  {
   "cell_type": "code",
   "execution_count": 28,
   "outputs": [
    {
     "data": {
      "text/plain": "(153894, 173)"
     },
     "execution_count": 28,
     "metadata": {},
     "output_type": "execute_result"
    }
   ],
   "source": [
    "df.shape"
   ],
   "metadata": {
    "collapsed": false,
    "ExecuteTime": {
     "end_time": "2023-11-14T21:16:28.913316500Z",
     "start_time": "2023-11-14T21:16:28.894597100Z"
    }
   },
   "id": "13df9d592fbe9a75"
  },
  {
   "cell_type": "markdown",
   "source": [
    "**Handicap values fix**\n",
    "Handicaps are written in quarters - divisible by 0.25"
   ],
   "metadata": {
    "collapsed": false
   },
   "id": "fa831713638daa7"
  },
  {
   "cell_type": "code",
   "execution_count": 29,
   "outputs": [
    {
     "data": {
      "text/plain": "              GBAH       B365AH           AHh         LBAH          AHCh\ncount  11555.00000  6816.000000  20359.000000  5436.000000  20382.000000\nmean      -0.36228    -0.361502     -0.247213    -0.350539     -0.240445\nstd        0.48475     0.528898      0.677834     0.588715      0.701571\nmin       -2.25000    -2.500000     -3.750000    -2.250000     -4.000000\n25%       -0.50000    -0.750000     -0.500000    -0.750000     -0.500000\n50%       -0.50000    -0.250000     -0.250000    -0.250000     -0.250000\n75%       -0.25000     0.000000      0.000000     0.000000      0.250000\nmax        2.50000     1.750000      3.000000     9.000000      3.250000",
      "text/html": "<div>\n<style scoped>\n    .dataframe tbody tr th:only-of-type {\n        vertical-align: middle;\n    }\n\n    .dataframe tbody tr th {\n        vertical-align: top;\n    }\n\n    .dataframe thead th {\n        text-align: right;\n    }\n</style>\n<table border=\"1\" class=\"dataframe\">\n  <thead>\n    <tr style=\"text-align: right;\">\n      <th></th>\n      <th>GBAH</th>\n      <th>B365AH</th>\n      <th>AHh</th>\n      <th>LBAH</th>\n      <th>AHCh</th>\n    </tr>\n  </thead>\n  <tbody>\n    <tr>\n      <th>count</th>\n      <td>11555.00000</td>\n      <td>6816.000000</td>\n      <td>20359.000000</td>\n      <td>5436.000000</td>\n      <td>20382.000000</td>\n    </tr>\n    <tr>\n      <th>mean</th>\n      <td>-0.36228</td>\n      <td>-0.361502</td>\n      <td>-0.247213</td>\n      <td>-0.350539</td>\n      <td>-0.240445</td>\n    </tr>\n    <tr>\n      <th>std</th>\n      <td>0.48475</td>\n      <td>0.528898</td>\n      <td>0.677834</td>\n      <td>0.588715</td>\n      <td>0.701571</td>\n    </tr>\n    <tr>\n      <th>min</th>\n      <td>-2.25000</td>\n      <td>-2.500000</td>\n      <td>-3.750000</td>\n      <td>-2.250000</td>\n      <td>-4.000000</td>\n    </tr>\n    <tr>\n      <th>25%</th>\n      <td>-0.50000</td>\n      <td>-0.750000</td>\n      <td>-0.500000</td>\n      <td>-0.750000</td>\n      <td>-0.500000</td>\n    </tr>\n    <tr>\n      <th>50%</th>\n      <td>-0.50000</td>\n      <td>-0.250000</td>\n      <td>-0.250000</td>\n      <td>-0.250000</td>\n      <td>-0.250000</td>\n    </tr>\n    <tr>\n      <th>75%</th>\n      <td>-0.25000</td>\n      <td>0.000000</td>\n      <td>0.000000</td>\n      <td>0.000000</td>\n      <td>0.250000</td>\n    </tr>\n    <tr>\n      <th>max</th>\n      <td>2.50000</td>\n      <td>1.750000</td>\n      <td>3.000000</td>\n      <td>9.000000</td>\n      <td>3.250000</td>\n    </tr>\n  </tbody>\n</table>\n</div>"
     },
     "execution_count": 29,
     "metadata": {},
     "output_type": "execute_result"
    }
   ],
   "source": [
    "handicap_cols = ['GBAH', 'B365AH', 'BbAHh', 'AHh', 'LBAH', 'AHCh']\n",
    "df[handicap_cols].describe()"
   ],
   "metadata": {
    "collapsed": false,
    "ExecuteTime": {
     "end_time": "2023-11-14T21:16:28.973139Z",
     "start_time": "2023-11-14T21:16:28.911314800Z"
    }
   },
   "id": "c1843d4a1fd6dc8d"
  },
  {
   "cell_type": "code",
   "execution_count": 30,
   "outputs": [
    {
     "ename": "TypeError",
     "evalue": "not all arguments converted during string formatting",
     "output_type": "error",
     "traceback": [
      "\u001B[1;31m---------------------------------------------------------------------------\u001B[0m",
      "\u001B[1;31mTypeError\u001B[0m                                 Traceback (most recent call last)",
      "File \u001B[1;32mC:\\SDKs\\ml_venv\\lib\\site-packages\\pandas\\core\\ops\\array_ops.py:220\u001B[0m, in \u001B[0;36m_na_arithmetic_op\u001B[1;34m(left, right, op, is_cmp)\u001B[0m\n\u001B[0;32m    219\u001B[0m \u001B[38;5;28;01mtry\u001B[39;00m:\n\u001B[1;32m--> 220\u001B[0m     result \u001B[38;5;241m=\u001B[39m \u001B[43mfunc\u001B[49m\u001B[43m(\u001B[49m\u001B[43mleft\u001B[49m\u001B[43m,\u001B[49m\u001B[43m \u001B[49m\u001B[43mright\u001B[49m\u001B[43m)\u001B[49m\n\u001B[0;32m    221\u001B[0m \u001B[38;5;28;01mexcept\u001B[39;00m \u001B[38;5;167;01mTypeError\u001B[39;00m:\n",
      "File \u001B[1;32mC:\\SDKs\\ml_venv\\lib\\site-packages\\pandas\\core\\computation\\expressions.py:243\u001B[0m, in \u001B[0;36mevaluate\u001B[1;34m(op, a, b, use_numexpr)\u001B[0m\n\u001B[0;32m    242\u001B[0m         \u001B[38;5;28;01mreturn\u001B[39;00m _evaluate(op, op_str, a, b)  \u001B[38;5;66;03m# type: ignore[misc]\u001B[39;00m\n\u001B[1;32m--> 243\u001B[0m \u001B[38;5;28;01mreturn\u001B[39;00m \u001B[43m_evaluate_standard\u001B[49m\u001B[43m(\u001B[49m\u001B[43mop\u001B[49m\u001B[43m,\u001B[49m\u001B[43m \u001B[49m\u001B[43mop_str\u001B[49m\u001B[43m,\u001B[49m\u001B[43m \u001B[49m\u001B[43ma\u001B[49m\u001B[43m,\u001B[49m\u001B[43m \u001B[49m\u001B[43mb\u001B[49m\u001B[43m)\u001B[49m\n",
      "File \u001B[1;32mC:\\SDKs\\ml_venv\\lib\\site-packages\\pandas\\core\\computation\\expressions.py:73\u001B[0m, in \u001B[0;36m_evaluate_standard\u001B[1;34m(op, op_str, a, b)\u001B[0m\n\u001B[0;32m     72\u001B[0m     _store_test_result(\u001B[38;5;28;01mFalse\u001B[39;00m)\n\u001B[1;32m---> 73\u001B[0m \u001B[38;5;28;01mreturn\u001B[39;00m \u001B[43mop\u001B[49m\u001B[43m(\u001B[49m\u001B[43ma\u001B[49m\u001B[43m,\u001B[49m\u001B[43m \u001B[49m\u001B[43mb\u001B[49m\u001B[43m)\u001B[49m\n",
      "\u001B[1;31mTypeError\u001B[0m: not all arguments converted during string formatting",
      "\nDuring handling of the above exception, another exception occurred:\n",
      "\u001B[1;31mTypeError\u001B[0m                                 Traceback (most recent call last)",
      "Cell \u001B[1;32mIn[30], line 3\u001B[0m\n\u001B[0;32m      1\u001B[0m \u001B[38;5;66;03m# handicaps are usually counted in quarters (ending with .0, .25, .50, .75)\u001B[39;00m\n\u001B[0;32m      2\u001B[0m \u001B[38;5;28;01mfor\u001B[39;00m col \u001B[38;5;129;01min\u001B[39;00m handicap_cols:\n\u001B[1;32m----> 3\u001B[0m     df \u001B[38;5;241m=\u001B[39m df[(\u001B[43mdf\u001B[49m\u001B[43m[\u001B[49m\u001B[43mcol\u001B[49m\u001B[43m]\u001B[49m\u001B[43m \u001B[49m\u001B[38;5;241;43m%\u001B[39;49m\u001B[43m \u001B[49m\u001B[38;5;241;43m0.25\u001B[39;49m \u001B[38;5;241m==\u001B[39m \u001B[38;5;241m0\u001B[39m) \u001B[38;5;241m|\u001B[39m df[col]\u001B[38;5;241m.\u001B[39misna()] \u001B[38;5;66;03m# drop rows with numeric value indivisible by 0.25\u001B[39;00m\n\u001B[0;32m      4\u001B[0m \u001B[38;5;28;01mfor\u001B[39;00m i \u001B[38;5;129;01min\u001B[39;00m handicap_cols:\n\u001B[0;32m      5\u001B[0m     \u001B[38;5;28mprint\u001B[39m(\n\u001B[0;32m      6\u001B[0m         \u001B[38;5;124m\"\u001B[39m\u001B[38;5;124mnumber of invalid rows left: \u001B[39m\u001B[38;5;124m\"\u001B[39m, \u001B[38;5;66;03m# difference between # of all rows and validated rows\u001B[39;00m\n\u001B[0;32m      7\u001B[0m         \u001B[38;5;28mlen\u001B[39m(df[i]) \u001B[38;5;241m-\u001B[39m \u001B[38;5;28mlen\u001B[39m(df[((df[i] \u001B[38;5;241m%\u001B[39m \u001B[38;5;241m0.25\u001B[39m \u001B[38;5;241m==\u001B[39m \u001B[38;5;241m0\u001B[39m) \u001B[38;5;241m|\u001B[39m (df[i]\u001B[38;5;241m.\u001B[39misna()))])\n\u001B[0;32m      8\u001B[0m     )\n",
      "File \u001B[1;32mC:\\SDKs\\ml_venv\\lib\\site-packages\\pandas\\core\\ops\\common.py:76\u001B[0m, in \u001B[0;36m_unpack_zerodim_and_defer.<locals>.new_method\u001B[1;34m(self, other)\u001B[0m\n\u001B[0;32m     72\u001B[0m             \u001B[38;5;28;01mreturn\u001B[39;00m \u001B[38;5;28mNotImplemented\u001B[39m\n\u001B[0;32m     74\u001B[0m other \u001B[38;5;241m=\u001B[39m item_from_zerodim(other)\n\u001B[1;32m---> 76\u001B[0m \u001B[38;5;28;01mreturn\u001B[39;00m \u001B[43mmethod\u001B[49m\u001B[43m(\u001B[49m\u001B[38;5;28;43mself\u001B[39;49m\u001B[43m,\u001B[49m\u001B[43m \u001B[49m\u001B[43mother\u001B[49m\u001B[43m)\u001B[49m\n",
      "File \u001B[1;32mC:\\SDKs\\ml_venv\\lib\\site-packages\\pandas\\core\\arraylike.py:226\u001B[0m, in \u001B[0;36mOpsMixin.__mod__\u001B[1;34m(self, other)\u001B[0m\n\u001B[0;32m    224\u001B[0m \u001B[38;5;129m@unpack_zerodim_and_defer\u001B[39m(\u001B[38;5;124m\"\u001B[39m\u001B[38;5;124m__mod__\u001B[39m\u001B[38;5;124m\"\u001B[39m)\n\u001B[0;32m    225\u001B[0m \u001B[38;5;28;01mdef\u001B[39;00m \u001B[38;5;21m__mod__\u001B[39m(\u001B[38;5;28mself\u001B[39m, other):\n\u001B[1;32m--> 226\u001B[0m     \u001B[38;5;28;01mreturn\u001B[39;00m \u001B[38;5;28;43mself\u001B[39;49m\u001B[38;5;241;43m.\u001B[39;49m\u001B[43m_arith_method\u001B[49m\u001B[43m(\u001B[49m\u001B[43mother\u001B[49m\u001B[43m,\u001B[49m\u001B[43m \u001B[49m\u001B[43moperator\u001B[49m\u001B[38;5;241;43m.\u001B[39;49m\u001B[43mmod\u001B[49m\u001B[43m)\u001B[49m\n",
      "File \u001B[1;32mC:\\SDKs\\ml_venv\\lib\\site-packages\\pandas\\core\\series.py:5815\u001B[0m, in \u001B[0;36mSeries._arith_method\u001B[1;34m(self, other, op)\u001B[0m\n\u001B[0;32m   5813\u001B[0m \u001B[38;5;28;01mdef\u001B[39;00m \u001B[38;5;21m_arith_method\u001B[39m(\u001B[38;5;28mself\u001B[39m, other, op):\n\u001B[0;32m   5814\u001B[0m     \u001B[38;5;28mself\u001B[39m, other \u001B[38;5;241m=\u001B[39m \u001B[38;5;28mself\u001B[39m\u001B[38;5;241m.\u001B[39m_align_for_op(other)\n\u001B[1;32m-> 5815\u001B[0m     \u001B[38;5;28;01mreturn\u001B[39;00m \u001B[43mbase\u001B[49m\u001B[38;5;241;43m.\u001B[39;49m\u001B[43mIndexOpsMixin\u001B[49m\u001B[38;5;241;43m.\u001B[39;49m\u001B[43m_arith_method\u001B[49m\u001B[43m(\u001B[49m\u001B[38;5;28;43mself\u001B[39;49m\u001B[43m,\u001B[49m\u001B[43m \u001B[49m\u001B[43mother\u001B[49m\u001B[43m,\u001B[49m\u001B[43m \u001B[49m\u001B[43mop\u001B[49m\u001B[43m)\u001B[49m\n",
      "File \u001B[1;32mC:\\SDKs\\ml_venv\\lib\\site-packages\\pandas\\core\\base.py:1381\u001B[0m, in \u001B[0;36mIndexOpsMixin._arith_method\u001B[1;34m(self, other, op)\u001B[0m\n\u001B[0;32m   1378\u001B[0m     rvalues \u001B[38;5;241m=\u001B[39m np\u001B[38;5;241m.\u001B[39marange(rvalues\u001B[38;5;241m.\u001B[39mstart, rvalues\u001B[38;5;241m.\u001B[39mstop, rvalues\u001B[38;5;241m.\u001B[39mstep)\n\u001B[0;32m   1380\u001B[0m \u001B[38;5;28;01mwith\u001B[39;00m np\u001B[38;5;241m.\u001B[39merrstate(\u001B[38;5;28mall\u001B[39m\u001B[38;5;241m=\u001B[39m\u001B[38;5;124m\"\u001B[39m\u001B[38;5;124mignore\u001B[39m\u001B[38;5;124m\"\u001B[39m):\n\u001B[1;32m-> 1381\u001B[0m     result \u001B[38;5;241m=\u001B[39m \u001B[43mops\u001B[49m\u001B[38;5;241;43m.\u001B[39;49m\u001B[43marithmetic_op\u001B[49m\u001B[43m(\u001B[49m\u001B[43mlvalues\u001B[49m\u001B[43m,\u001B[49m\u001B[43m \u001B[49m\u001B[43mrvalues\u001B[49m\u001B[43m,\u001B[49m\u001B[43m \u001B[49m\u001B[43mop\u001B[49m\u001B[43m)\u001B[49m\n\u001B[0;32m   1383\u001B[0m \u001B[38;5;28;01mreturn\u001B[39;00m \u001B[38;5;28mself\u001B[39m\u001B[38;5;241m.\u001B[39m_construct_result(result, name\u001B[38;5;241m=\u001B[39mres_name)\n",
      "File \u001B[1;32mC:\\SDKs\\ml_venv\\lib\\site-packages\\pandas\\core\\ops\\array_ops.py:285\u001B[0m, in \u001B[0;36marithmetic_op\u001B[1;34m(left, right, op)\u001B[0m\n\u001B[0;32m    281\u001B[0m     _bool_arith_check(op, left, right)  \u001B[38;5;66;03m# type: ignore[arg-type]\u001B[39;00m\n\u001B[0;32m    283\u001B[0m     \u001B[38;5;66;03m# error: Argument 1 to \"_na_arithmetic_op\" has incompatible type\u001B[39;00m\n\u001B[0;32m    284\u001B[0m     \u001B[38;5;66;03m# \"Union[ExtensionArray, ndarray[Any, Any]]\"; expected \"ndarray[Any, Any]\"\u001B[39;00m\n\u001B[1;32m--> 285\u001B[0m     res_values \u001B[38;5;241m=\u001B[39m \u001B[43m_na_arithmetic_op\u001B[49m\u001B[43m(\u001B[49m\u001B[43mleft\u001B[49m\u001B[43m,\u001B[49m\u001B[43m \u001B[49m\u001B[43mright\u001B[49m\u001B[43m,\u001B[49m\u001B[43m \u001B[49m\u001B[43mop\u001B[49m\u001B[43m)\u001B[49m  \u001B[38;5;66;03m# type: ignore[arg-type]\u001B[39;00m\n\u001B[0;32m    287\u001B[0m \u001B[38;5;28;01mreturn\u001B[39;00m res_values\n",
      "File \u001B[1;32mC:\\SDKs\\ml_venv\\lib\\site-packages\\pandas\\core\\ops\\array_ops.py:229\u001B[0m, in \u001B[0;36m_na_arithmetic_op\u001B[1;34m(left, right, op, is_cmp)\u001B[0m\n\u001B[0;32m    221\u001B[0m \u001B[38;5;28;01mexcept\u001B[39;00m \u001B[38;5;167;01mTypeError\u001B[39;00m:\n\u001B[0;32m    222\u001B[0m     \u001B[38;5;28;01mif\u001B[39;00m \u001B[38;5;129;01mnot\u001B[39;00m is_cmp \u001B[38;5;129;01mand\u001B[39;00m (\n\u001B[0;32m    223\u001B[0m         left\u001B[38;5;241m.\u001B[39mdtype \u001B[38;5;241m==\u001B[39m \u001B[38;5;28mobject\u001B[39m \u001B[38;5;129;01mor\u001B[39;00m \u001B[38;5;28mgetattr\u001B[39m(right, \u001B[38;5;124m\"\u001B[39m\u001B[38;5;124mdtype\u001B[39m\u001B[38;5;124m\"\u001B[39m, \u001B[38;5;28;01mNone\u001B[39;00m) \u001B[38;5;241m==\u001B[39m \u001B[38;5;28mobject\u001B[39m\n\u001B[0;32m    224\u001B[0m     ):\n\u001B[1;32m   (...)\u001B[0m\n\u001B[0;32m    227\u001B[0m         \u001B[38;5;66;03m# Don't do this for comparisons, as that will handle complex numbers\u001B[39;00m\n\u001B[0;32m    228\u001B[0m         \u001B[38;5;66;03m#  incorrectly, see GH#32047\u001B[39;00m\n\u001B[1;32m--> 229\u001B[0m         result \u001B[38;5;241m=\u001B[39m \u001B[43m_masked_arith_op\u001B[49m\u001B[43m(\u001B[49m\u001B[43mleft\u001B[49m\u001B[43m,\u001B[49m\u001B[43m \u001B[49m\u001B[43mright\u001B[49m\u001B[43m,\u001B[49m\u001B[43m \u001B[49m\u001B[43mop\u001B[49m\u001B[43m)\u001B[49m\n\u001B[0;32m    230\u001B[0m     \u001B[38;5;28;01melse\u001B[39;00m:\n\u001B[0;32m    231\u001B[0m         \u001B[38;5;28;01mraise\u001B[39;00m\n",
      "File \u001B[1;32mC:\\SDKs\\ml_venv\\lib\\site-packages\\pandas\\core\\ops\\array_ops.py:184\u001B[0m, in \u001B[0;36m_masked_arith_op\u001B[1;34m(x, y, op)\u001B[0m\n\u001B[0;32m    181\u001B[0m         mask \u001B[38;5;241m=\u001B[39m np\u001B[38;5;241m.\u001B[39mwhere(y \u001B[38;5;241m==\u001B[39m \u001B[38;5;241m1\u001B[39m, \u001B[38;5;28;01mFalse\u001B[39;00m, mask)\n\u001B[0;32m    183\u001B[0m     \u001B[38;5;28;01mif\u001B[39;00m mask\u001B[38;5;241m.\u001B[39many():\n\u001B[1;32m--> 184\u001B[0m         result[mask] \u001B[38;5;241m=\u001B[39m \u001B[43mop\u001B[49m\u001B[43m(\u001B[49m\u001B[43mxrav\u001B[49m\u001B[43m[\u001B[49m\u001B[43mmask\u001B[49m\u001B[43m]\u001B[49m\u001B[43m,\u001B[49m\u001B[43m \u001B[49m\u001B[43my\u001B[49m\u001B[43m)\u001B[49m\n\u001B[0;32m    186\u001B[0m np\u001B[38;5;241m.\u001B[39mputmask(result, \u001B[38;5;241m~\u001B[39mmask, np\u001B[38;5;241m.\u001B[39mnan)\n\u001B[0;32m    187\u001B[0m result \u001B[38;5;241m=\u001B[39m result\u001B[38;5;241m.\u001B[39mreshape(x\u001B[38;5;241m.\u001B[39mshape)  \u001B[38;5;66;03m# 2D compat\u001B[39;00m\n",
      "\u001B[1;31mTypeError\u001B[0m: not all arguments converted during string formatting"
     ]
    }
   ],
   "source": [
    "# handicaps are usually counted in quarters (ending with .0, .25, .50, .75)\n",
    "for col in handicap_cols:\n",
    "    df = df[(df[col] % 0.25 == 0) | df[col].isna()] # drop rows with numeric value indivisible by 0.25\n",
    "for i in handicap_cols:\n",
    "    print(\n",
    "        \"number of invalid rows left: \", # difference between # of all rows and validated rows\n",
    "        len(df[i]) - len(df[((df[i] % 0.25 == 0) | (df[i].isna()))])\n",
    "    )"
   ],
   "metadata": {
    "collapsed": false,
    "ExecuteTime": {
     "end_time": "2023-11-14T21:16:30.187562700Z",
     "start_time": "2023-11-14T21:16:28.974141600Z"
    }
   },
   "id": "bc46b39a04c4c8c9"
  },
  {
   "cell_type": "markdown",
   "source": [
    "Betting odds validation (betting odds are positive)"
   ],
   "metadata": {
    "collapsed": false
   },
   "id": "bb399d7b28eaae5e"
  },
  {
   "cell_type": "code",
   "execution_count": null,
   "outputs": [],
   "source": [
    "odds_cols = ['GBH', 'GBD', 'GBA', 'IWH', 'IWD', 'IWA', 'SBH', 'SBD', 'SBA', 'WHH', 'WHD', 'WHA', 'B365CH', 'B365CD', 'B365CA', 'BWCH', 'BWCD', 'BWCA', 'IWCH', 'IWCD', 'IWCA', 'WHCH', 'WHCD', 'WHCA', 'VCCH', 'VCCD', 'VCCA', 'MaxCH', 'MaxCD', 'MaxCA', 'AvgCH','AvgCD', 'AvgCA', 'B365C>2.5', 'B365C<2.5', 'PC>2.5', 'PC<2.5', 'MaxC>2.5', 'MaxC<2.5', 'AvgC>2.5', 'AvgC<2.5', 'AHCh', 'B365CAHH', 'B365CAHA', 'PCAHH', 'PCAHA', 'MaxCAHH', 'MaxCAHA', 'AvgCAHH', 'AvgCAHA']\n",
    "df[odds_cols] = abs(df[odds_cols])\n",
    "df[odds_cols].describe()"
   ],
   "metadata": {
    "collapsed": false,
    "ExecuteTime": {
     "start_time": "2023-11-14T21:16:30.186561800Z"
    }
   },
   "id": "b5a8ae1dff1c7d6c"
  },
  {
   "cell_type": "markdown",
   "id": "a9ec006d07aaf9ed",
   "metadata": {
    "collapsed": false
   },
   "source": [
    "Drop all completely empty columns and rows which there is a lot of, dropped 41 empty columns in total."
   ]
  },
  {
   "cell_type": "code",
   "execution_count": null,
   "id": "a8f0e94069f87e82",
   "metadata": {
    "collapsed": false,
    "ExecuteTime": {
     "end_time": "2023-11-14T21:16:30.187562700Z",
     "start_time": "2023-11-14T21:16:30.187562700Z"
    }
   },
   "outputs": [],
   "source": [
    "df.dropna(how='all', axis=1, inplace=True)"
   ]
  },
  {
   "cell_type": "code",
   "execution_count": null,
   "id": "ff1c67e0d03c41e8",
   "metadata": {
    "collapsed": false,
    "ExecuteTime": {
     "end_time": "2023-11-14T21:16:30.191815900Z",
     "start_time": "2023-11-14T21:16:30.189815600Z"
    }
   },
   "outputs": [],
   "source": [
    "df.shape"
   ]
  },
  {
   "cell_type": "markdown",
   "id": "2f822ca43aff7d4d",
   "metadata": {
    "collapsed": false
   },
   "source": [
    "# Data Exploration\n",
    "\n",
    "Total overview of all variables."
   ]
  },
  {
   "cell_type": "code",
   "execution_count": 33,
   "id": "a76d2dc275b79d0c",
   "metadata": {
    "collapsed": false,
    "ExecuteTime": {
     "end_time": "2023-11-14T21:17:33.024606400Z",
     "start_time": "2023-11-14T21:17:31.661629500Z"
    }
   },
   "outputs": [
    {
     "data": {
      "text/plain": "                                Date           FTHG           FTAG  \\\ncount                         153893  153893.000000  153893.000000   \nmean   2011-06-25 10:40:46.660991744       1.485604       1.133632   \nmin              2000-07-28 00:00:00       0.000000       0.000000   \n25%              2005-12-31 00:00:00       1.000000       0.000000   \n50%              2011-05-14 00:00:00       1.000000       1.000000   \n75%              2016-12-10 00:00:00       2.000000       2.000000   \nmax              2022-05-29 00:00:00      10.000000       9.000000   \nstd                              NaN       1.253284       1.106654   \n\n                HTHG           HTAG           GBH           GBD           GBA  \\\ncount  153893.000000  153893.000000  87456.000000  87517.000000  87500.000000   \nmean        0.655397       0.494356      2.275679      3.381784      3.951666   \nmin         0.000000       0.000000      1.030000      1.250000      1.030000   \n25%         0.000000       0.000000      1.730000      3.100000      2.650000   \n50%         0.000000       0.000000      2.100000      3.250000      3.350000   \n75%         1.000000       1.000000      2.450000      3.450000      4.500000   \nmax         7.000000       6.000000     24.000000     11.000000     34.000000   \nstd         0.809103       0.708421      1.041026      0.614256      2.197045   \n\n                 IWH            IWD  ...        LBAHH        LBAHA  \\\ncount  149762.000000  149764.000000  ...  5448.000000  5448.000000   \nmean        2.336064       3.382672  ...     1.911193     1.924781   \nmin         1.010000       1.500000  ...    -2.250000    -0.500000   \n25%         1.750000       3.050000  ...     1.840000     1.840000   \n50%         2.100000       3.200000  ...     1.920000     1.920000   \n75%         2.500000       3.450000  ...     2.000000     2.000000   \nmax        30.000000      16.000000  ...     3.400000     4.000000   \nstd         1.155773       0.713703  ...     0.174244     0.124480   \n\n              LBAH  Avg_away_odds  Avg_home_odds  Avg_draw_odds  \\\ncount  5436.000000  153339.000000  153338.000000  153338.000000   \nmean     -0.350539       3.996913       2.399125       3.504659   \nmin      -2.250000       1.040000       1.010000       1.250000   \n25%      -0.750000       2.614286       1.755400       3.171429   \n50%      -0.250000       3.313750       2.125000       3.306667   \n75%       0.000000       4.456000       2.566667       3.551000   \nmax       9.000000      68.000000      32.333333      19.214286   \nstd       0.588715       2.607193       1.296643       0.800564   \n\n       Var_away_odds  Var_home_odds  Var_draw_odds          Index  \ncount  152557.000000  152556.000000  152556.000000  153893.000000  \nmean        0.297257       0.039700       0.034543     187.893549  \nmin         0.000000       0.000000       0.000000       0.000000  \n25%         0.006417       0.001337       0.006111      85.000000  \n50%         0.024167       0.003361       0.011295     169.000000  \n75%         0.087957       0.009048       0.022229     272.000000  \nmax       468.000000     140.333333      42.154762     542.000000  \nstd         3.017378       0.560029       0.249678     126.529119  \n\n[8 rows x 163 columns]",
      "text/html": "<div>\n<style scoped>\n    .dataframe tbody tr th:only-of-type {\n        vertical-align: middle;\n    }\n\n    .dataframe tbody tr th {\n        vertical-align: top;\n    }\n\n    .dataframe thead th {\n        text-align: right;\n    }\n</style>\n<table border=\"1\" class=\"dataframe\">\n  <thead>\n    <tr style=\"text-align: right;\">\n      <th></th>\n      <th>Date</th>\n      <th>FTHG</th>\n      <th>FTAG</th>\n      <th>HTHG</th>\n      <th>HTAG</th>\n      <th>GBH</th>\n      <th>GBD</th>\n      <th>GBA</th>\n      <th>IWH</th>\n      <th>IWD</th>\n      <th>...</th>\n      <th>LBAHH</th>\n      <th>LBAHA</th>\n      <th>LBAH</th>\n      <th>Avg_away_odds</th>\n      <th>Avg_home_odds</th>\n      <th>Avg_draw_odds</th>\n      <th>Var_away_odds</th>\n      <th>Var_home_odds</th>\n      <th>Var_draw_odds</th>\n      <th>Index</th>\n    </tr>\n  </thead>\n  <tbody>\n    <tr>\n      <th>count</th>\n      <td>153893</td>\n      <td>153893.000000</td>\n      <td>153893.000000</td>\n      <td>153893.000000</td>\n      <td>153893.000000</td>\n      <td>87456.000000</td>\n      <td>87517.000000</td>\n      <td>87500.000000</td>\n      <td>149762.000000</td>\n      <td>149764.000000</td>\n      <td>...</td>\n      <td>5448.000000</td>\n      <td>5448.000000</td>\n      <td>5436.000000</td>\n      <td>153339.000000</td>\n      <td>153338.000000</td>\n      <td>153338.000000</td>\n      <td>152557.000000</td>\n      <td>152556.000000</td>\n      <td>152556.000000</td>\n      <td>153893.000000</td>\n    </tr>\n    <tr>\n      <th>mean</th>\n      <td>2011-06-25 10:40:46.660991744</td>\n      <td>1.485604</td>\n      <td>1.133632</td>\n      <td>0.655397</td>\n      <td>0.494356</td>\n      <td>2.275679</td>\n      <td>3.381784</td>\n      <td>3.951666</td>\n      <td>2.336064</td>\n      <td>3.382672</td>\n      <td>...</td>\n      <td>1.911193</td>\n      <td>1.924781</td>\n      <td>-0.350539</td>\n      <td>3.996913</td>\n      <td>2.399125</td>\n      <td>3.504659</td>\n      <td>0.297257</td>\n      <td>0.039700</td>\n      <td>0.034543</td>\n      <td>187.893549</td>\n    </tr>\n    <tr>\n      <th>min</th>\n      <td>2000-07-28 00:00:00</td>\n      <td>0.000000</td>\n      <td>0.000000</td>\n      <td>0.000000</td>\n      <td>0.000000</td>\n      <td>1.030000</td>\n      <td>1.250000</td>\n      <td>1.030000</td>\n      <td>1.010000</td>\n      <td>1.500000</td>\n      <td>...</td>\n      <td>-2.250000</td>\n      <td>-0.500000</td>\n      <td>-2.250000</td>\n      <td>1.040000</td>\n      <td>1.010000</td>\n      <td>1.250000</td>\n      <td>0.000000</td>\n      <td>0.000000</td>\n      <td>0.000000</td>\n      <td>0.000000</td>\n    </tr>\n    <tr>\n      <th>25%</th>\n      <td>2005-12-31 00:00:00</td>\n      <td>1.000000</td>\n      <td>0.000000</td>\n      <td>0.000000</td>\n      <td>0.000000</td>\n      <td>1.730000</td>\n      <td>3.100000</td>\n      <td>2.650000</td>\n      <td>1.750000</td>\n      <td>3.050000</td>\n      <td>...</td>\n      <td>1.840000</td>\n      <td>1.840000</td>\n      <td>-0.750000</td>\n      <td>2.614286</td>\n      <td>1.755400</td>\n      <td>3.171429</td>\n      <td>0.006417</td>\n      <td>0.001337</td>\n      <td>0.006111</td>\n      <td>85.000000</td>\n    </tr>\n    <tr>\n      <th>50%</th>\n      <td>2011-05-14 00:00:00</td>\n      <td>1.000000</td>\n      <td>1.000000</td>\n      <td>0.000000</td>\n      <td>0.000000</td>\n      <td>2.100000</td>\n      <td>3.250000</td>\n      <td>3.350000</td>\n      <td>2.100000</td>\n      <td>3.200000</td>\n      <td>...</td>\n      <td>1.920000</td>\n      <td>1.920000</td>\n      <td>-0.250000</td>\n      <td>3.313750</td>\n      <td>2.125000</td>\n      <td>3.306667</td>\n      <td>0.024167</td>\n      <td>0.003361</td>\n      <td>0.011295</td>\n      <td>169.000000</td>\n    </tr>\n    <tr>\n      <th>75%</th>\n      <td>2016-12-10 00:00:00</td>\n      <td>2.000000</td>\n      <td>2.000000</td>\n      <td>1.000000</td>\n      <td>1.000000</td>\n      <td>2.450000</td>\n      <td>3.450000</td>\n      <td>4.500000</td>\n      <td>2.500000</td>\n      <td>3.450000</td>\n      <td>...</td>\n      <td>2.000000</td>\n      <td>2.000000</td>\n      <td>0.000000</td>\n      <td>4.456000</td>\n      <td>2.566667</td>\n      <td>3.551000</td>\n      <td>0.087957</td>\n      <td>0.009048</td>\n      <td>0.022229</td>\n      <td>272.000000</td>\n    </tr>\n    <tr>\n      <th>max</th>\n      <td>2022-05-29 00:00:00</td>\n      <td>10.000000</td>\n      <td>9.000000</td>\n      <td>7.000000</td>\n      <td>6.000000</td>\n      <td>24.000000</td>\n      <td>11.000000</td>\n      <td>34.000000</td>\n      <td>30.000000</td>\n      <td>16.000000</td>\n      <td>...</td>\n      <td>3.400000</td>\n      <td>4.000000</td>\n      <td>9.000000</td>\n      <td>68.000000</td>\n      <td>32.333333</td>\n      <td>19.214286</td>\n      <td>468.000000</td>\n      <td>140.333333</td>\n      <td>42.154762</td>\n      <td>542.000000</td>\n    </tr>\n    <tr>\n      <th>std</th>\n      <td>NaN</td>\n      <td>1.253284</td>\n      <td>1.106654</td>\n      <td>0.809103</td>\n      <td>0.708421</td>\n      <td>1.041026</td>\n      <td>0.614256</td>\n      <td>2.197045</td>\n      <td>1.155773</td>\n      <td>0.713703</td>\n      <td>...</td>\n      <td>0.174244</td>\n      <td>0.124480</td>\n      <td>0.588715</td>\n      <td>2.607193</td>\n      <td>1.296643</td>\n      <td>0.800564</td>\n      <td>3.017378</td>\n      <td>0.560029</td>\n      <td>0.249678</td>\n      <td>126.529119</td>\n    </tr>\n  </tbody>\n</table>\n<p>8 rows × 163 columns</p>\n</div>"
     },
     "execution_count": 33,
     "metadata": {},
     "output_type": "execute_result"
    }
   ],
   "source": [
    "df.describe()"
   ]
  },
  {
   "cell_type": "markdown",
   "id": "34b17fe2",
   "metadata": {},
   "source": [
    "Percentage of missing values."
   ]
  },
  {
   "cell_type": "code",
   "execution_count": 34,
   "id": "dbd0ff92d61fb66f",
   "metadata": {
    "collapsed": false,
    "ExecuteTime": {
     "end_time": "2023-11-14T21:17:36.154358800Z",
     "start_time": "2023-11-14T21:17:36.074493100Z"
    }
   },
   "outputs": [
    {
     "data": {
      "text/plain": "HFKC          0.991566\nAFKC          0.991566\nSYD           0.964748\nSYH           0.964696\nSYA           0.964696\nLBAH          0.964677\nLBAHH         0.964599\nLBAHA         0.964599\nAO            0.958003\nHHW           0.957964\nAHW           0.957886\nHO            0.957880\nSOH           0.957340\nSOD           0.957250\nSOA           0.957243\nABP           0.956879\nAttendance    0.956866\nHBP           0.956795\nB365AH        0.955709\nGBAHA         0.924941\ndtype: float64"
     },
     "execution_count": 34,
     "metadata": {},
     "output_type": "execute_result"
    }
   ],
   "source": [
    "na_vals = df.isna().sum()\n",
    "na_vals = na_vals/df.shape[0]\n",
    "na_vals.sort_values(ascending = False).head(20)"
   ]
  },
  {
   "cell_type": "code",
   "execution_count": 36,
   "metadata": {
    "ExecuteTime": {
     "end_time": "2023-11-14T21:17:40.020080Z",
     "start_time": "2023-11-14T21:17:39.682319900Z"
    }
   },
   "outputs": [
    {
     "data": {
      "text/plain": "       Variable First Occurrence Last Occurrence  Missing within\n26          SYD       2002-05-05      2001-08-25          142088\n25          SYH       2002-05-05      2001-08-25          142080\n27          SYA       2002-05-05      2001-08-25          142080\n34        GBAHA       2004-04-03      2004-10-24          136272\n35         GBAH       2004-04-03      2004-10-24          136269\n..          ...              ...             ...             ...\n4          FTHG       2001-05-20      2022-05-15               0\n3      AwayTeam       2001-05-20      2022-05-15               0\n2      HomeTeam       2001-05-20      2022-05-15               0\n173       Index       2001-05-20      2022-05-15               0\n174  MatchTeams       2001-05-20      2022-05-15               0\n\n[175 rows x 4 columns]",
      "text/html": "<div>\n<style scoped>\n    .dataframe tbody tr th:only-of-type {\n        vertical-align: middle;\n    }\n\n    .dataframe tbody tr th {\n        vertical-align: top;\n    }\n\n    .dataframe thead th {\n        text-align: right;\n    }\n</style>\n<table border=\"1\" class=\"dataframe\">\n  <thead>\n    <tr style=\"text-align: right;\">\n      <th></th>\n      <th>Variable</th>\n      <th>First Occurrence</th>\n      <th>Last Occurrence</th>\n      <th>Missing within</th>\n    </tr>\n  </thead>\n  <tbody>\n    <tr>\n      <th>26</th>\n      <td>SYD</td>\n      <td>2002-05-05</td>\n      <td>2001-08-25</td>\n      <td>142088</td>\n    </tr>\n    <tr>\n      <th>25</th>\n      <td>SYH</td>\n      <td>2002-05-05</td>\n      <td>2001-08-25</td>\n      <td>142080</td>\n    </tr>\n    <tr>\n      <th>27</th>\n      <td>SYA</td>\n      <td>2002-05-05</td>\n      <td>2001-08-25</td>\n      <td>142080</td>\n    </tr>\n    <tr>\n      <th>34</th>\n      <td>GBAHA</td>\n      <td>2004-04-03</td>\n      <td>2004-10-24</td>\n      <td>136272</td>\n    </tr>\n    <tr>\n      <th>35</th>\n      <td>GBAH</td>\n      <td>2004-04-03</td>\n      <td>2004-10-24</td>\n      <td>136269</td>\n    </tr>\n    <tr>\n      <th>...</th>\n      <td>...</td>\n      <td>...</td>\n      <td>...</td>\n      <td>...</td>\n    </tr>\n    <tr>\n      <th>4</th>\n      <td>FTHG</td>\n      <td>2001-05-20</td>\n      <td>2022-05-15</td>\n      <td>0</td>\n    </tr>\n    <tr>\n      <th>3</th>\n      <td>AwayTeam</td>\n      <td>2001-05-20</td>\n      <td>2022-05-15</td>\n      <td>0</td>\n    </tr>\n    <tr>\n      <th>2</th>\n      <td>HomeTeam</td>\n      <td>2001-05-20</td>\n      <td>2022-05-15</td>\n      <td>0</td>\n    </tr>\n    <tr>\n      <th>173</th>\n      <td>Index</td>\n      <td>2001-05-20</td>\n      <td>2022-05-15</td>\n      <td>0</td>\n    </tr>\n    <tr>\n      <th>174</th>\n      <td>MatchTeams</td>\n      <td>2001-05-20</td>\n      <td>2022-05-15</td>\n      <td>0</td>\n    </tr>\n  </tbody>\n</table>\n<p>175 rows × 4 columns</p>\n</div>"
     },
     "execution_count": 36,
     "metadata": {},
     "output_type": "execute_result"
    }
   ],
   "source": [
    "df = df.reset_index(drop = True)\n",
    "\n",
    "# Get first and last occurrences\n",
    "first_occurrences = df.apply(lambda x: x.first_valid_index())\n",
    "last_occurrences = df.apply(lambda x: x.last_valid_index())\n",
    "\n",
    "missing_counts = {}\n",
    "\n",
    "for column in df.columns:\n",
    "    # Indexes of the first and last occurrences\n",
    "    first_idx = df[column].first_valid_index()\n",
    "    last_idx = df[column].last_valid_index()\n",
    "\n",
    "    # Select the range between first and last occurrence, count missing values\n",
    "    missing_count = df[column][first_idx:last_idx].isnull().sum()\n",
    "    missing_counts[column] = missing_count\n",
    "\n",
    "result_df = pd.DataFrame({\n",
    "    'Variable':          df.columns,\n",
    "    'First Occurrence':  df[\"Date\"].to_numpy()[first_occurrences.values],\n",
    "    'Last Occurrence':   df[\"Date\"].to_numpy()[last_occurrences.values],\n",
    "    \"Missing within\": missing_counts.values()\n",
    "})\n",
    "\n",
    "result_df.sort_values(by=\"Missing within\", ascending=False)"
   ],
   "id": "50b764f244678fc2"
  },
  {
   "cell_type": "markdown",
   "id": "d45537cd",
   "metadata": {},
   "source": [
    "List of the most missing values."
   ]
  },
  {
   "cell_type": "code",
   "execution_count": 37,
   "id": "b0dfb8726b2a7038",
   "metadata": {
    "collapsed": false,
    "ExecuteTime": {
     "end_time": "2023-11-14T21:17:42.693498500Z",
     "start_time": "2023-11-14T21:17:42.641387500Z"
    }
   },
   "outputs": [
    {
     "data": {
      "text/plain": "Div              0.000000\nDate             0.000000\nHomeTeam         0.000000\nAwayTeam         0.000000\nFTHG             0.000000\n                   ...   \nVar_away_odds    0.088235\nVar_home_odds    0.088235\nVar_draw_odds    0.088235\nIndex            0.000000\nMatchTeams       0.000000\nLength: 175, dtype: float64"
     },
     "execution_count": 37,
     "metadata": {},
     "output_type": "execute_result"
    }
   ],
   "source": [
    "na_vals = df[df[\"season\"] > 18].isna().sum()\n",
    "\n",
    "na_vals = na_vals/df[df[\"season\"] > 18].shape[0]*100\n",
    "na_vals"
   ]
  },
  {
   "cell_type": "code",
   "execution_count": 38,
   "id": "9e13263bdbdaddf7",
   "metadata": {
    "collapsed": false,
    "ExecuteTime": {
     "end_time": "2023-11-14T21:17:44.762381100Z",
     "start_time": "2023-11-14T21:17:44.324011700Z"
    }
   },
   "outputs": [
    {
     "data": {
      "text/plain": "<Figure size 640x480 with 1 Axes>",
      "image/png": "[encoded data removed]"
     },
     "metadata": {},
     "output_type": "display_data"
    }
   ],
   "source": [
    "na_vals = [df[df[\"season\"]==i].isna().sum().sum()/(df[df[\"season\"]==i].shape[0]*df[df[\"season\"]==i].shape[1]) for i in range(0,22)]\n",
    "plt.xticks(range(0,22))\n",
    "plt.ylim(0.3, 1)\n",
    "plt.locator_params(axis='y', nbins=14)\n",
    "plt.plot(na_vals)\n",
    "plt.gca().ticklabel_format(axis='y', style='plain', scilimits=(0, 0))"
   ]
  },
  {
   "cell_type": "markdown",
   "source": [
    "# Feature Engineering\n",
    "We decided to add several features to the dataset.\n",
    "These features are:\n",
    "- Result of the last match between the two contending teams\n",
    "- Goal score during the last match between the two contending teams\n",
    "- Average amount of goals scored in the current season\n",
    "- Average amount of goals received in the current season\n",
    "\n",
    "We believe that these features will prove useful in the training of our model as they can reveal things such as momentum and strenghts/weaknesses against certain teams."
   ],
   "metadata": {
    "collapsed": false
   },
   "id": "30bec80d7d965594"
  },
  {
   "cell_type": "markdown",
   "source": [
    "### Result of the last match between the two contending teams"
   ],
   "metadata": {
    "collapsed": false
   },
   "id": "731c6074219fca63"
  },
  {
   "cell_type": "markdown",
   "source": [
    "Create a string of participating teams, append them alphabetically behind each other so it is easier to slice them."
   ],
   "metadata": {
    "collapsed": false
   },
   "id": "eb136876c01030c7"
  },
  {
   "cell_type": "code",
   "execution_count": 39,
   "outputs": [],
   "source": [
    "df[\"Index\"] = df.index\n",
    "df[\"MatchTeams\"] = df[[\"HomeTeam\",\"AwayTeam\"]].values.tolist()\n",
    "df[\"MatchTeams\"] = df[\"MatchTeams\"].sort_values().apply(lambda x: sorted(x))"
   ],
   "metadata": {
    "collapsed": false,
    "ExecuteTime": {
     "end_time": "2023-11-14T21:17:47.623007500Z",
     "start_time": "2023-11-14T21:17:47.136428900Z"
    }
   },
   "id": "90d9139991f1075a"
  },
  {
   "cell_type": "code",
   "execution_count": 40,
   "outputs": [],
   "source": [
    "df = df.assign(MatchTeams=df[\"MatchTeams\"].apply(lambda l: \"_\".join(l)))"
   ],
   "metadata": {
    "collapsed": false,
    "ExecuteTime": {
     "end_time": "2023-11-14T21:17:49.525615600Z",
     "start_time": "2023-11-14T21:17:49.400687200Z"
    }
   },
   "id": "cca557999ee1cea"
  },
  {
   "cell_type": "code",
   "execution_count": 41,
   "outputs": [
    {
     "data": {
      "text/plain": "        Div       Date      HomeTeam      AwayTeam  FTHG  FTAG  FTR  HTHG  \\\n148389  NaN        NaT           NaN           NaN   NaN   NaN  NaN   NaN   \n148242   T1 2003-11-08     Adanaspor  A. Sebatspor   1.0   2.0    A   0.0   \n148218  NaN        NaT           NaN           NaN   NaN   NaN  NaN   NaN   \n148237   T1 2003-12-21    Ankaragucu  A. Sebatspor   1.0   1.0    D   1.0   \n148540   T1 2004-05-15  A. Sebatspor    Ankaragucu   3.0   2.0    H   3.0   \n...     ...        ...           ...           ...   ...   ...  ...   ...   \n39178    E3 2003-09-13        Yeovil          York   3.0   0.0    H   2.0   \n45598    E3 2004-04-20          York        Yeovil   1.0   2.0    A   1.0   \n45653    E3 2015-08-18          York        Yeovil   1.0   0.0    H   0.0   \n147217  NaN        NaT           NaN           NaN   NaN   NaN  NaN   NaN   \n105980  NaN        NaT           NaN           NaN   NaN   NaN  NaN   NaN   \n\n        HTAG  HTR  ...  LBAHA  LBAH  Avg_away_odds  Avg_home_odds  \\\n148389   NaN  NaN  ...    NaN   NaN            NaN            NaN   \n148242   1.0    A  ...    NaN   NaN       3.341667       1.881500   \n148218   NaN  NaN  ...    NaN   NaN            NaN            NaN   \n148237   0.0    H  ...    NaN   NaN       4.302167       1.644000   \n148540   2.0    H  ...    NaN   NaN       6.950000       1.305000   \n...      ...  ...  ...    ...   ...            ...            ...   \n39178    0.0    H  ...    NaN   NaN       3.464286       1.892714   \n45598    0.0    H  ...    NaN   NaN       2.200000       2.728333   \n45653    0.0    D  ...    NaN   NaN       4.087143       1.934286   \n147217   NaN  NaN  ...    NaN   NaN            NaN            NaN   \n105980   NaN  NaN  ...    NaN   NaN            NaN            NaN   \n\n        Avg_draw_odds  Avg_bookie_prediction  Var_away_odds  Var_home_odds  \\\n148389            NaN                    NaN            NaN            NaN   \n148242       3.358333                      H       0.044417       0.005085   \n148218            NaN                    NaN            NaN            NaN   \n148237       3.441667                      H       0.028892       0.000972   \n148540       4.507500                      H       0.176667       0.000300   \n...               ...                    ...            ...            ...   \n39178        3.235714                      H       0.060595       0.000785   \n45598        3.375000                      A       0.007000       0.003817   \n45653        3.360000                      H       0.168324       0.000462   \n147217            NaN                    NaN            NaN            NaN   \n105980            NaN                    NaN            NaN            NaN   \n\n        Var_draw_odds     Index  \n148389            NaN       NaN  \n148242       0.008417  148389.0  \n148218            NaN       NaN  \n148237       0.010417  148218.0  \n148540       0.022892  148237.0  \n...               ...       ...  \n39178        0.003929   39392.0  \n45598        0.015750   39178.0  \n45653        0.019367   45598.0  \n147217            NaN       NaN  \n105980            NaN       NaN  \n\n[153893 rows x 174 columns]",
      "text/html": "<div>\n<style scoped>\n    .dataframe tbody tr th:only-of-type {\n        vertical-align: middle;\n    }\n\n    .dataframe tbody tr th {\n        vertical-align: top;\n    }\n\n    .dataframe thead th {\n        text-align: right;\n    }\n</style>\n<table border=\"1\" class=\"dataframe\">\n  <thead>\n    <tr style=\"text-align: right;\">\n      <th></th>\n      <th>Div</th>\n      <th>Date</th>\n      <th>HomeTeam</th>\n      <th>AwayTeam</th>\n      <th>FTHG</th>\n      <th>FTAG</th>\n      <th>FTR</th>\n      <th>HTHG</th>\n      <th>HTAG</th>\n      <th>HTR</th>\n      <th>...</th>\n      <th>LBAHA</th>\n      <th>LBAH</th>\n      <th>Avg_away_odds</th>\n      <th>Avg_home_odds</th>\n      <th>Avg_draw_odds</th>\n      <th>Avg_bookie_prediction</th>\n      <th>Var_away_odds</th>\n      <th>Var_home_odds</th>\n      <th>Var_draw_odds</th>\n      <th>Index</th>\n    </tr>\n  </thead>\n  <tbody>\n    <tr>\n      <th>148389</th>\n      <td>NaN</td>\n      <td>NaT</td>\n      <td>NaN</td>\n      <td>NaN</td>\n      <td>NaN</td>\n      <td>NaN</td>\n      <td>NaN</td>\n      <td>NaN</td>\n      <td>NaN</td>\n      <td>NaN</td>\n      <td>...</td>\n      <td>NaN</td>\n      <td>NaN</td>\n      <td>NaN</td>\n      <td>NaN</td>\n      <td>NaN</td>\n      <td>NaN</td>\n      <td>NaN</td>\n      <td>NaN</td>\n      <td>NaN</td>\n      <td>NaN</td>\n    </tr>\n    <tr>\n      <th>148242</th>\n      <td>T1</td>\n      <td>2003-11-08</td>\n      <td>Adanaspor</td>\n      <td>A. Sebatspor</td>\n      <td>1.0</td>\n      <td>2.0</td>\n      <td>A</td>\n      <td>0.0</td>\n      <td>1.0</td>\n      <td>A</td>\n      <td>...</td>\n      <td>NaN</td>\n      <td>NaN</td>\n      <td>3.341667</td>\n      <td>1.881500</td>\n      <td>3.358333</td>\n      <td>H</td>\n      <td>0.044417</td>\n      <td>0.005085</td>\n      <td>0.008417</td>\n      <td>148389.0</td>\n    </tr>\n    <tr>\n      <th>148218</th>\n      <td>NaN</td>\n      <td>NaT</td>\n      <td>NaN</td>\n      <td>NaN</td>\n      <td>NaN</td>\n      <td>NaN</td>\n      <td>NaN</td>\n      <td>NaN</td>\n      <td>NaN</td>\n      <td>NaN</td>\n      <td>...</td>\n      <td>NaN</td>\n      <td>NaN</td>\n      <td>NaN</td>\n      <td>NaN</td>\n      <td>NaN</td>\n      <td>NaN</td>\n      <td>NaN</td>\n      <td>NaN</td>\n      <td>NaN</td>\n      <td>NaN</td>\n    </tr>\n    <tr>\n      <th>148237</th>\n      <td>T1</td>\n      <td>2003-12-21</td>\n      <td>Ankaragucu</td>\n      <td>A. Sebatspor</td>\n      <td>1.0</td>\n      <td>1.0</td>\n      <td>D</td>\n      <td>1.0</td>\n      <td>0.0</td>\n      <td>H</td>\n      <td>...</td>\n      <td>NaN</td>\n      <td>NaN</td>\n      <td>4.302167</td>\n      <td>1.644000</td>\n      <td>3.441667</td>\n      <td>H</td>\n      <td>0.028892</td>\n      <td>0.000972</td>\n      <td>0.010417</td>\n      <td>148218.0</td>\n    </tr>\n    <tr>\n      <th>148540</th>\n      <td>T1</td>\n      <td>2004-05-15</td>\n      <td>A. Sebatspor</td>\n      <td>Ankaragucu</td>\n      <td>3.0</td>\n      <td>2.0</td>\n      <td>H</td>\n      <td>3.0</td>\n      <td>2.0</td>\n      <td>H</td>\n      <td>...</td>\n      <td>NaN</td>\n      <td>NaN</td>\n      <td>6.950000</td>\n      <td>1.305000</td>\n      <td>4.507500</td>\n      <td>H</td>\n      <td>0.176667</td>\n      <td>0.000300</td>\n      <td>0.022892</td>\n      <td>148237.0</td>\n    </tr>\n    <tr>\n      <th>...</th>\n      <td>...</td>\n      <td>...</td>\n      <td>...</td>\n      <td>...</td>\n      <td>...</td>\n      <td>...</td>\n      <td>...</td>\n      <td>...</td>\n      <td>...</td>\n      <td>...</td>\n      <td>...</td>\n      <td>...</td>\n      <td>...</td>\n      <td>...</td>\n      <td>...</td>\n      <td>...</td>\n      <td>...</td>\n      <td>...</td>\n      <td>...</td>\n      <td>...</td>\n      <td>...</td>\n    </tr>\n    <tr>\n      <th>39178</th>\n      <td>E3</td>\n      <td>2003-09-13</td>\n      <td>Yeovil</td>\n      <td>York</td>\n      <td>3.0</td>\n      <td>0.0</td>\n      <td>H</td>\n      <td>2.0</td>\n      <td>0.0</td>\n      <td>H</td>\n      <td>...</td>\n      <td>NaN</td>\n      <td>NaN</td>\n      <td>3.464286</td>\n      <td>1.892714</td>\n      <td>3.235714</td>\n      <td>H</td>\n      <td>0.060595</td>\n      <td>0.000785</td>\n      <td>0.003929</td>\n      <td>39392.0</td>\n    </tr>\n    <tr>\n      <th>45598</th>\n      <td>E3</td>\n      <td>2004-04-20</td>\n      <td>York</td>\n      <td>Yeovil</td>\n      <td>1.0</td>\n      <td>2.0</td>\n      <td>A</td>\n      <td>1.0</td>\n      <td>0.0</td>\n      <td>H</td>\n      <td>...</td>\n      <td>NaN</td>\n      <td>NaN</td>\n      <td>2.200000</td>\n      <td>2.728333</td>\n      <td>3.375000</td>\n      <td>A</td>\n      <td>0.007000</td>\n      <td>0.003817</td>\n      <td>0.015750</td>\n      <td>39178.0</td>\n    </tr>\n    <tr>\n      <th>45653</th>\n      <td>E3</td>\n      <td>2015-08-18</td>\n      <td>York</td>\n      <td>Yeovil</td>\n      <td>1.0</td>\n      <td>0.0</td>\n      <td>H</td>\n      <td>0.0</td>\n      <td>0.0</td>\n      <td>D</td>\n      <td>...</td>\n      <td>NaN</td>\n      <td>NaN</td>\n      <td>4.087143</td>\n      <td>1.934286</td>\n      <td>3.360000</td>\n      <td>H</td>\n      <td>0.168324</td>\n      <td>0.000462</td>\n      <td>0.019367</td>\n      <td>45598.0</td>\n    </tr>\n    <tr>\n      <th>147217</th>\n      <td>NaN</td>\n      <td>NaT</td>\n      <td>NaN</td>\n      <td>NaN</td>\n      <td>NaN</td>\n      <td>NaN</td>\n      <td>NaN</td>\n      <td>NaN</td>\n      <td>NaN</td>\n      <td>NaN</td>\n      <td>...</td>\n      <td>NaN</td>\n      <td>NaN</td>\n      <td>NaN</td>\n      <td>NaN</td>\n      <td>NaN</td>\n      <td>NaN</td>\n      <td>NaN</td>\n      <td>NaN</td>\n      <td>NaN</td>\n      <td>NaN</td>\n    </tr>\n    <tr>\n      <th>105980</th>\n      <td>NaN</td>\n      <td>NaT</td>\n      <td>NaN</td>\n      <td>NaN</td>\n      <td>NaN</td>\n      <td>NaN</td>\n      <td>NaN</td>\n      <td>NaN</td>\n      <td>NaN</td>\n      <td>NaN</td>\n      <td>...</td>\n      <td>NaN</td>\n      <td>NaN</td>\n      <td>NaN</td>\n      <td>NaN</td>\n      <td>NaN</td>\n      <td>NaN</td>\n      <td>NaN</td>\n      <td>NaN</td>\n      <td>NaN</td>\n      <td>NaN</td>\n    </tr>\n  </tbody>\n</table>\n<p>153893 rows × 174 columns</p>\n</div>"
     },
     "execution_count": 41,
     "metadata": {},
     "output_type": "execute_result"
    }
   ],
   "source": [
    "df.sort_values(['MatchTeams','Date'],ascending=True).groupby('MatchTeams').shift()"
   ],
   "metadata": {
    "collapsed": false,
    "ExecuteTime": {
     "end_time": "2023-11-14T21:17:51.323445200Z",
     "start_time": "2023-11-14T21:17:50.791922800Z"
    }
   },
   "id": "471e8ec62aeb1eaa"
  },
  {
   "cell_type": "markdown",
   "source": [],
   "metadata": {
    "collapsed": false
   },
   "id": "b2b3e785cc19563b"
  },
  {
   "cell_type": "markdown",
   "source": [
    "Use groupby to group by same matches, create [\"LastMatchIndex\",\"LastMatchAwayGoals\", \"LastMatchHomeGoals\"] columns with unsorted values.\n",
    "First match of two teams gets empty column index as LastMatchIndex"
   ],
   "metadata": {
    "collapsed": false
   },
   "id": "5dd64750de5803cc"
  },
  {
   "cell_type": "code",
   "execution_count": 43,
   "outputs": [],
   "source": [
    "df[[\"LastMatchIndex\",\"LastMatchAwayGoals\", \"LastMatchHomeGoals\"]] = df.sort_values(['MatchTeams','Date'],ascending=True).groupby('MatchTeams').shift()[[\"Index\",\"FTAG\", \"FTHG\"]]\n",
    "df.loc[np.isnan(df[\"LastMatchIndex\"]), \"LastMatchIndex\"] = len(df.index)-1\n",
    "df.loc[len(df.index)] = [np.nan for _ in range(df.shape[1])]\n",
    "df.loc[len(df.index)-1]\n",
    "df[\"LastMatchIndex\"] = df[\"LastMatchIndex\"].replace(np.nan, len(df.index)-1)\n",
    "\n",
    "df[\"LastMatchIndex\"].fillna(len(df.index)-1)\n",
    "arr = df[\"LastMatchIndex\"]"
   ],
   "metadata": {
    "collapsed": false,
    "ExecuteTime": {
     "end_time": "2023-11-14T21:18:04.090938100Z",
     "start_time": "2023-11-14T21:18:03.504239200Z"
    }
   },
   "id": "24cda30259af6152"
  },
  {
   "cell_type": "markdown",
   "source": [
    "Switch LastMatchHomeGoals and LastMatchAwayGoals if they do not correspond to the teams accordingly, calculate who won the match"
   ],
   "metadata": {
    "collapsed": false
   },
   "id": "529fafb307538356"
  },
  {
   "cell_type": "code",
   "execution_count": 44,
   "outputs": [],
   "source": [
    "df[\"SameHomeTeam\"] = (df.iloc[arr][\"HomeTeam\"].values == df[\"HomeTeam\"].values)\n",
    "df.loc[df[\"SameHomeTeam\"],['LastMatchHomeGoals','LastMatchAwayGoals']] = df.loc[df[\"SameHomeTeam\"],['LastMatchHomeGoals','LastMatchAwayGoals']].values\n",
    "df[\"LastMatchAwayWin\"] = (df[\"LastMatchAwayGoals\"] > df[\"LastMatchHomeGoals\"]).astype(int)\n",
    "df[\"LastMatchHomeWin\"] = (df[\"LastMatchAwayGoals\"] < df[\"LastMatchHomeGoals\"]).astype(int)\n",
    "df[\"LastMatchDraw\"] = (df[\"LastMatchAwayGoals\"] == df[\"LastMatchHomeGoals\"]).astype(int)"
   ],
   "metadata": {
    "collapsed": false,
    "ExecuteTime": {
     "end_time": "2023-11-14T21:18:06.903089100Z",
     "start_time": "2023-11-14T21:18:06.739459200Z"
    }
   },
   "id": "1ea2c9e1455d3e4"
  },
  {
   "cell_type": "code",
   "execution_count": 45,
   "outputs": [
    {
     "data": {
      "text/plain": "        Div       Date     HomeTeam     AwayTeam  FTHG  FTAG  FTR  HTHG  HTAG  \\\n0        B1 2001-05-20     Mechelen       Lierse   1.0   1.0    D   1.0   1.0   \n1        B1 2000-09-17     Germinal  Club Brugge   2.0   3.0    A   0.0   1.0   \n2        B1 2000-10-14      Beveren     Standard   0.0   3.0    A   0.0   2.0   \n3        B1 2000-09-06      Lokeren     Mechelen   3.0   2.0    H   0.0   2.0   \n4        B1 2000-08-27    Charleroi      Antwerp   1.0   0.0    H   1.0   0.0   \n...     ...        ...          ...          ...   ...   ...  ...   ...   ...   \n153890   T1 2022-04-16        Altay   Buyuksehyr   1.0   1.0    D   0.0   1.0   \n153891   T1 2021-12-19   Fenerbahce     Besiktas   2.0   2.0    D   2.0   1.0   \n153892   T1 2022-05-15  Trabzonspor        Altay   2.0   1.0    H   1.0   0.0   \n153893  NaN        NaT          NaN          NaN   NaN   NaN  NaN   NaN   NaN   \n153894  NaN        NaT          NaN          NaN   NaN   NaN  NaN   NaN   NaN   \n\n        HTR  ...  Avg_bookie_prediction  Var_away_odds  Var_home_odds  \\\n0         D  ...                      A       0.007200       0.007200   \n1         A  ...                      A       0.005833       0.056667   \n2         A  ...                      A       0.003333       0.007292   \n3         A  ...                      H       0.135833       0.004300   \n4         H  ...                      H       0.163333       0.000100   \n...     ...  ...                    ...            ...            ...   \n153890    A  ...                      A       0.001550       0.016417   \n153891    H  ...                      H       0.005880       0.003417   \n153892    H  ...                      H       0.190267       0.000297   \n153893  NaN  ...                    NaN            NaN            NaN   \n153894  NaN  ...                    NaN            NaN            NaN   \n\n        Var_draw_odds            MatchTeams  LastMatchAwayGoals  \\\n0            0.045000       Lierse_Mechelen                 1.0   \n1            0.026667  Club Brugge_Germinal                 NaN   \n2            0.012292      Beveren_Standard                 NaN   \n3            0.010000      Lokeren_Mechelen                 NaN   \n4            0.007292     Antwerp_Charleroi                 NaN   \n...               ...                   ...                 ...   \n153890       0.014550      Altay_Buyuksehyr                 0.0   \n153891       0.009750   Besiktas_Fenerbahce                 1.0   \n153892       0.042467     Altay_Trabzonspor                 2.0   \n153893            NaN                   NaN                 NaN   \n153894            NaN                   NaN                 NaN   \n\n        LastMatchHomeGoals  LastMatchAwayWin  LastMatchHomeWin  LastMatchDraw  \n0                      1.0                 0                 0              1  \n1                      NaN                 0                 0              0  \n2                      NaN                 0                 0              0  \n3                      NaN                 0                 0              0  \n4                      NaN                 0                 0              0  \n...                    ...               ...               ...            ...  \n153890                 0.0                 0                 0              1  \n153891                 1.0                 0                 0              1  \n153892                 1.0                 1                 0              0  \n153893                 NaN                 0                 0              0  \n153894                 NaN                 0                 0              0  \n\n[153895 rows x 179 columns]",
      "text/html": "<div>\n<style scoped>\n    .dataframe tbody tr th:only-of-type {\n        vertical-align: middle;\n    }\n\n    .dataframe tbody tr th {\n        vertical-align: top;\n    }\n\n    .dataframe thead th {\n        text-align: right;\n    }\n</style>\n<table border=\"1\" class=\"dataframe\">\n  <thead>\n    <tr style=\"text-align: right;\">\n      <th></th>\n      <th>Div</th>\n      <th>Date</th>\n      <th>HomeTeam</th>\n      <th>AwayTeam</th>\n      <th>FTHG</th>\n      <th>FTAG</th>\n      <th>FTR</th>\n      <th>HTHG</th>\n      <th>HTAG</th>\n      <th>HTR</th>\n      <th>...</th>\n      <th>Avg_bookie_prediction</th>\n      <th>Var_away_odds</th>\n      <th>Var_home_odds</th>\n      <th>Var_draw_odds</th>\n      <th>MatchTeams</th>\n      <th>LastMatchAwayGoals</th>\n      <th>LastMatchHomeGoals</th>\n      <th>LastMatchAwayWin</th>\n      <th>LastMatchHomeWin</th>\n      <th>LastMatchDraw</th>\n    </tr>\n  </thead>\n  <tbody>\n    <tr>\n      <th>0</th>\n      <td>B1</td>\n      <td>2001-05-20</td>\n      <td>Mechelen</td>\n      <td>Lierse</td>\n      <td>1.0</td>\n      <td>1.0</td>\n      <td>D</td>\n      <td>1.0</td>\n      <td>1.0</td>\n      <td>D</td>\n      <td>...</td>\n      <td>A</td>\n      <td>0.007200</td>\n      <td>0.007200</td>\n      <td>0.045000</td>\n      <td>Lierse_Mechelen</td>\n      <td>1.0</td>\n      <td>1.0</td>\n      <td>0</td>\n      <td>0</td>\n      <td>1</td>\n    </tr>\n    <tr>\n      <th>1</th>\n      <td>B1</td>\n      <td>2000-09-17</td>\n      <td>Germinal</td>\n      <td>Club Brugge</td>\n      <td>2.0</td>\n      <td>3.0</td>\n      <td>A</td>\n      <td>0.0</td>\n      <td>1.0</td>\n      <td>A</td>\n      <td>...</td>\n      <td>A</td>\n      <td>0.005833</td>\n      <td>0.056667</td>\n      <td>0.026667</td>\n      <td>Club Brugge_Germinal</td>\n      <td>NaN</td>\n      <td>NaN</td>\n      <td>0</td>\n      <td>0</td>\n      <td>0</td>\n    </tr>\n    <tr>\n      <th>2</th>\n      <td>B1</td>\n      <td>2000-10-14</td>\n      <td>Beveren</td>\n      <td>Standard</td>\n      <td>0.0</td>\n      <td>3.0</td>\n      <td>A</td>\n      <td>0.0</td>\n      <td>2.0</td>\n      <td>A</td>\n      <td>...</td>\n      <td>A</td>\n      <td>0.003333</td>\n      <td>0.007292</td>\n      <td>0.012292</td>\n      <td>Beveren_Standard</td>\n      <td>NaN</td>\n      <td>NaN</td>\n      <td>0</td>\n      <td>0</td>\n      <td>0</td>\n    </tr>\n    <tr>\n      <th>3</th>\n      <td>B1</td>\n      <td>2000-09-06</td>\n      <td>Lokeren</td>\n      <td>Mechelen</td>\n      <td>3.0</td>\n      <td>2.0</td>\n      <td>H</td>\n      <td>0.0</td>\n      <td>2.0</td>\n      <td>A</td>\n      <td>...</td>\n      <td>H</td>\n      <td>0.135833</td>\n      <td>0.004300</td>\n      <td>0.010000</td>\n      <td>Lokeren_Mechelen</td>\n      <td>NaN</td>\n      <td>NaN</td>\n      <td>0</td>\n      <td>0</td>\n      <td>0</td>\n    </tr>\n    <tr>\n      <th>4</th>\n      <td>B1</td>\n      <td>2000-08-27</td>\n      <td>Charleroi</td>\n      <td>Antwerp</td>\n      <td>1.0</td>\n      <td>0.0</td>\n      <td>H</td>\n      <td>1.0</td>\n      <td>0.0</td>\n      <td>H</td>\n      <td>...</td>\n      <td>H</td>\n      <td>0.163333</td>\n      <td>0.000100</td>\n      <td>0.007292</td>\n      <td>Antwerp_Charleroi</td>\n      <td>NaN</td>\n      <td>NaN</td>\n      <td>0</td>\n      <td>0</td>\n      <td>0</td>\n    </tr>\n    <tr>\n      <th>...</th>\n      <td>...</td>\n      <td>...</td>\n      <td>...</td>\n      <td>...</td>\n      <td>...</td>\n      <td>...</td>\n      <td>...</td>\n      <td>...</td>\n      <td>...</td>\n      <td>...</td>\n      <td>...</td>\n      <td>...</td>\n      <td>...</td>\n      <td>...</td>\n      <td>...</td>\n      <td>...</td>\n      <td>...</td>\n      <td>...</td>\n      <td>...</td>\n      <td>...</td>\n      <td>...</td>\n    </tr>\n    <tr>\n      <th>153890</th>\n      <td>T1</td>\n      <td>2022-04-16</td>\n      <td>Altay</td>\n      <td>Buyuksehyr</td>\n      <td>1.0</td>\n      <td>1.0</td>\n      <td>D</td>\n      <td>0.0</td>\n      <td>1.0</td>\n      <td>A</td>\n      <td>...</td>\n      <td>A</td>\n      <td>0.001550</td>\n      <td>0.016417</td>\n      <td>0.014550</td>\n      <td>Altay_Buyuksehyr</td>\n      <td>0.0</td>\n      <td>0.0</td>\n      <td>0</td>\n      <td>0</td>\n      <td>1</td>\n    </tr>\n    <tr>\n      <th>153891</th>\n      <td>T1</td>\n      <td>2021-12-19</td>\n      <td>Fenerbahce</td>\n      <td>Besiktas</td>\n      <td>2.0</td>\n      <td>2.0</td>\n      <td>D</td>\n      <td>2.0</td>\n      <td>1.0</td>\n      <td>H</td>\n      <td>...</td>\n      <td>H</td>\n      <td>0.005880</td>\n      <td>0.003417</td>\n      <td>0.009750</td>\n      <td>Besiktas_Fenerbahce</td>\n      <td>1.0</td>\n      <td>1.0</td>\n      <td>0</td>\n      <td>0</td>\n      <td>1</td>\n    </tr>\n    <tr>\n      <th>153892</th>\n      <td>T1</td>\n      <td>2022-05-15</td>\n      <td>Trabzonspor</td>\n      <td>Altay</td>\n      <td>2.0</td>\n      <td>1.0</td>\n      <td>H</td>\n      <td>1.0</td>\n      <td>0.0</td>\n      <td>H</td>\n      <td>...</td>\n      <td>H</td>\n      <td>0.190267</td>\n      <td>0.000297</td>\n      <td>0.042467</td>\n      <td>Altay_Trabzonspor</td>\n      <td>2.0</td>\n      <td>1.0</td>\n      <td>1</td>\n      <td>0</td>\n      <td>0</td>\n    </tr>\n    <tr>\n      <th>153893</th>\n      <td>NaN</td>\n      <td>NaT</td>\n      <td>NaN</td>\n      <td>NaN</td>\n      <td>NaN</td>\n      <td>NaN</td>\n      <td>NaN</td>\n      <td>NaN</td>\n      <td>NaN</td>\n      <td>NaN</td>\n      <td>...</td>\n      <td>NaN</td>\n      <td>NaN</td>\n      <td>NaN</td>\n      <td>NaN</td>\n      <td>NaN</td>\n      <td>NaN</td>\n      <td>NaN</td>\n      <td>0</td>\n      <td>0</td>\n      <td>0</td>\n    </tr>\n    <tr>\n      <th>153894</th>\n      <td>NaN</td>\n      <td>NaT</td>\n      <td>NaN</td>\n      <td>NaN</td>\n      <td>NaN</td>\n      <td>NaN</td>\n      <td>NaN</td>\n      <td>NaN</td>\n      <td>NaN</td>\n      <td>NaN</td>\n      <td>...</td>\n      <td>NaN</td>\n      <td>NaN</td>\n      <td>NaN</td>\n      <td>NaN</td>\n      <td>NaN</td>\n      <td>NaN</td>\n      <td>NaN</td>\n      <td>0</td>\n      <td>0</td>\n      <td>0</td>\n    </tr>\n  </tbody>\n</table>\n<p>153895 rows × 179 columns</p>\n</div>"
     },
     "execution_count": 45,
     "metadata": {},
     "output_type": "execute_result"
    }
   ],
   "source": [
    "df.drop([\"SameHomeTeam\", \"LastMatchIndex\", \"Index\"], axis=1)"
   ],
   "metadata": {
    "collapsed": false,
    "ExecuteTime": {
     "end_time": "2023-11-14T21:18:09.001172900Z",
     "start_time": "2023-11-14T21:18:08.846349300Z"
    }
   },
   "id": "e6a2ee9ee9a08c40"
  },
  {
   "cell_type": "code",
   "execution_count": 46,
   "outputs": [
    {
     "data": {
      "text/plain": "            Date  FTHG  FTAG  LastMatchHomeGoals  LastMatchAwayGoals  \\\n5963  2001-05-08   2.0   2.0                 NaN                 NaN   \n6404  2001-12-16   4.0   0.0                 2.0                 2.0   \n6453  2002-03-24   1.0   0.0                 4.0                 0.0   \n6716  2003-05-11   2.0   1.0                 1.0                 0.0   \n6771  2002-10-06   1.0   0.0                 1.0                 0.0   \n7126  2003-08-17   1.0   2.0                 2.0                 1.0   \n7215  2004-01-07   0.0   1.0                 1.0                 2.0   \n7479  2004-10-03   1.0   0.0                 0.0                 1.0   \n7560  2005-01-01   0.0   1.0                 1.0                 0.0   \n7712  2006-02-05   2.0   0.0                 1.0                 4.0   \n7724  2005-10-02   1.0   4.0                 0.0                 1.0   \n8084  2007-01-20   2.0   0.0                 1.0                 0.0   \n8109  2006-09-17   1.0   0.0                 2.0                 0.0   \n8569  2008-02-10   0.0   0.0                 1.0                 1.0   \n8583  2007-08-19   1.0   1.0                 2.0                 0.0   \n8869  2009-02-01   2.0   0.0                 0.0                 1.0   \n9010  2008-10-26   0.0   1.0                 0.0                 0.0   \n9346  2009-10-04   2.0   0.0                 2.0                 0.0   \n9421  2010-05-02   0.0   2.0                 2.0                 0.0   \n9546  2011-02-06   0.0   1.0                 2.0                 0.0   \n9673  2010-11-07   2.0   0.0                 0.0                 2.0   \n10061 2011-11-20   1.0   2.0                 0.0                 1.0   \n10109 2012-05-08   4.0   1.0                 1.0                 2.0   \n10266 2013-04-21   2.0   2.0                 4.0                 1.0   \n10608 2013-12-29   2.0   1.0                 2.0                 2.0   \n10820 2014-04-27   0.0   2.0                 2.0                 1.0   \n11022 2014-11-08   1.0   2.0                 0.0                 2.0   \n11074 2015-05-10   1.0   1.0                 1.0                 2.0   \n11557 2015-10-31   1.0   3.0                 1.0                 1.0   \n11657 2016-05-11   1.0   1.0                 1.0                 3.0   \n11835 2017-01-31   1.0   1.0                 1.0                 2.0   \n12011 2016-09-16   1.0   2.0                 1.0                 1.0   \n12209 2017-11-25   1.0   1.0                 1.0                 1.0   \n12451 2018-05-06   1.0   0.0                 1.0                 1.0   \n12556 2019-04-14   2.0   0.0                 1.0                 1.0   \n12680 2018-09-29   1.0   1.0                 1.0                 0.0   \n13022 2019-09-22   1.0   2.0                 2.0                 0.0   \n13072 2020-07-22   5.0   3.0                 1.0                 2.0   \n13524 2021-03-04   0.0   1.0                 0.0                 2.0   \n13548 2020-09-20   0.0   2.0                 5.0                 3.0   \n13618 2022-01-02   2.0   2.0                 1.0                 1.0   \n13860 2021-08-28   1.0   1.0                 0.0                 1.0   \n\n       LastMatchHomeWin  LastMatchAwayWin  LastMatchDraw  \n5963                  0                 0              0  \n6404                  0                 0              1  \n6453                  1                 0              0  \n6716                  1                 0              0  \n6771                  1                 0              0  \n7126                  1                 0              0  \n7215                  0                 1              0  \n7479                  0                 1              0  \n7560                  1                 0              0  \n7712                  0                 1              0  \n7724                  0                 1              0  \n8084                  1                 0              0  \n8109                  1                 0              0  \n8569                  0                 0              1  \n8583                  1                 0              0  \n8869                  0                 1              0  \n9010                  0                 0              1  \n9346                  1                 0              0  \n9421                  1                 0              0  \n9546                  1                 0              0  \n9673                  0                 1              0  \n10061                 0                 1              0  \n10109                 0                 1              0  \n10266                 1                 0              0  \n10608                 0                 0              1  \n10820                 1                 0              0  \n11022                 0                 1              0  \n11074                 0                 1              0  \n11557                 0                 0              1  \n11657                 0                 1              0  \n11835                 0                 1              0  \n12011                 0                 0              1  \n12209                 0                 0              1  \n12451                 0                 0              1  \n12556                 0                 0              1  \n12680                 1                 0              0  \n13022                 1                 0              0  \n13072                 0                 1              0  \n13524                 0                 1              0  \n13548                 1                 0              0  \n13618                 0                 0              1  \n13860                 0                 1              0  ",
      "text/html": "<div>\n<style scoped>\n    .dataframe tbody tr th:only-of-type {\n        vertical-align: middle;\n    }\n\n    .dataframe tbody tr th {\n        vertical-align: top;\n    }\n\n    .dataframe thead th {\n        text-align: right;\n    }\n</style>\n<table border=\"1\" class=\"dataframe\">\n  <thead>\n    <tr style=\"text-align: right;\">\n      <th></th>\n      <th>Date</th>\n      <th>FTHG</th>\n      <th>FTAG</th>\n      <th>LastMatchHomeGoals</th>\n      <th>LastMatchAwayGoals</th>\n      <th>LastMatchHomeWin</th>\n      <th>LastMatchAwayWin</th>\n      <th>LastMatchDraw</th>\n    </tr>\n  </thead>\n  <tbody>\n    <tr>\n      <th>5963</th>\n      <td>2001-05-08</td>\n      <td>2.0</td>\n      <td>2.0</td>\n      <td>NaN</td>\n      <td>NaN</td>\n      <td>0</td>\n      <td>0</td>\n      <td>0</td>\n    </tr>\n    <tr>\n      <th>6404</th>\n      <td>2001-12-16</td>\n      <td>4.0</td>\n      <td>0.0</td>\n      <td>2.0</td>\n      <td>2.0</td>\n      <td>0</td>\n      <td>0</td>\n      <td>1</td>\n    </tr>\n    <tr>\n      <th>6453</th>\n      <td>2002-03-24</td>\n      <td>1.0</td>\n      <td>0.0</td>\n      <td>4.0</td>\n      <td>0.0</td>\n      <td>1</td>\n      <td>0</td>\n      <td>0</td>\n    </tr>\n    <tr>\n      <th>6716</th>\n      <td>2003-05-11</td>\n      <td>2.0</td>\n      <td>1.0</td>\n      <td>1.0</td>\n      <td>0.0</td>\n      <td>1</td>\n      <td>0</td>\n      <td>0</td>\n    </tr>\n    <tr>\n      <th>6771</th>\n      <td>2002-10-06</td>\n      <td>1.0</td>\n      <td>0.0</td>\n      <td>1.0</td>\n      <td>0.0</td>\n      <td>1</td>\n      <td>0</td>\n      <td>0</td>\n    </tr>\n    <tr>\n      <th>7126</th>\n      <td>2003-08-17</td>\n      <td>1.0</td>\n      <td>2.0</td>\n      <td>2.0</td>\n      <td>1.0</td>\n      <td>1</td>\n      <td>0</td>\n      <td>0</td>\n    </tr>\n    <tr>\n      <th>7215</th>\n      <td>2004-01-07</td>\n      <td>0.0</td>\n      <td>1.0</td>\n      <td>1.0</td>\n      <td>2.0</td>\n      <td>0</td>\n      <td>1</td>\n      <td>0</td>\n    </tr>\n    <tr>\n      <th>7479</th>\n      <td>2004-10-03</td>\n      <td>1.0</td>\n      <td>0.0</td>\n      <td>0.0</td>\n      <td>1.0</td>\n      <td>0</td>\n      <td>1</td>\n      <td>0</td>\n    </tr>\n    <tr>\n      <th>7560</th>\n      <td>2005-01-01</td>\n      <td>0.0</td>\n      <td>1.0</td>\n      <td>1.0</td>\n      <td>0.0</td>\n      <td>1</td>\n      <td>0</td>\n      <td>0</td>\n    </tr>\n    <tr>\n      <th>7712</th>\n      <td>2006-02-05</td>\n      <td>2.0</td>\n      <td>0.0</td>\n      <td>1.0</td>\n      <td>4.0</td>\n      <td>0</td>\n      <td>1</td>\n      <td>0</td>\n    </tr>\n    <tr>\n      <th>7724</th>\n      <td>2005-10-02</td>\n      <td>1.0</td>\n      <td>4.0</td>\n      <td>0.0</td>\n      <td>1.0</td>\n      <td>0</td>\n      <td>1</td>\n      <td>0</td>\n    </tr>\n    <tr>\n      <th>8084</th>\n      <td>2007-01-20</td>\n      <td>2.0</td>\n      <td>0.0</td>\n      <td>1.0</td>\n      <td>0.0</td>\n      <td>1</td>\n      <td>0</td>\n      <td>0</td>\n    </tr>\n    <tr>\n      <th>8109</th>\n      <td>2006-09-17</td>\n      <td>1.0</td>\n      <td>0.0</td>\n      <td>2.0</td>\n      <td>0.0</td>\n      <td>1</td>\n      <td>0</td>\n      <td>0</td>\n    </tr>\n    <tr>\n      <th>8569</th>\n      <td>2008-02-10</td>\n      <td>0.0</td>\n      <td>0.0</td>\n      <td>1.0</td>\n      <td>1.0</td>\n      <td>0</td>\n      <td>0</td>\n      <td>1</td>\n    </tr>\n    <tr>\n      <th>8583</th>\n      <td>2007-08-19</td>\n      <td>1.0</td>\n      <td>1.0</td>\n      <td>2.0</td>\n      <td>0.0</td>\n      <td>1</td>\n      <td>0</td>\n      <td>0</td>\n    </tr>\n    <tr>\n      <th>8869</th>\n      <td>2009-02-01</td>\n      <td>2.0</td>\n      <td>0.0</td>\n      <td>0.0</td>\n      <td>1.0</td>\n      <td>0</td>\n      <td>1</td>\n      <td>0</td>\n    </tr>\n    <tr>\n      <th>9010</th>\n      <td>2008-10-26</td>\n      <td>0.0</td>\n      <td>1.0</td>\n      <td>0.0</td>\n      <td>0.0</td>\n      <td>0</td>\n      <td>0</td>\n      <td>1</td>\n    </tr>\n    <tr>\n      <th>9346</th>\n      <td>2009-10-04</td>\n      <td>2.0</td>\n      <td>0.0</td>\n      <td>2.0</td>\n      <td>0.0</td>\n      <td>1</td>\n      <td>0</td>\n      <td>0</td>\n    </tr>\n    <tr>\n      <th>9421</th>\n      <td>2010-05-02</td>\n      <td>0.0</td>\n      <td>2.0</td>\n      <td>2.0</td>\n      <td>0.0</td>\n      <td>1</td>\n      <td>0</td>\n      <td>0</td>\n    </tr>\n    <tr>\n      <th>9546</th>\n      <td>2011-02-06</td>\n      <td>0.0</td>\n      <td>1.0</td>\n      <td>2.0</td>\n      <td>0.0</td>\n      <td>1</td>\n      <td>0</td>\n      <td>0</td>\n    </tr>\n    <tr>\n      <th>9673</th>\n      <td>2010-11-07</td>\n      <td>2.0</td>\n      <td>0.0</td>\n      <td>0.0</td>\n      <td>2.0</td>\n      <td>0</td>\n      <td>1</td>\n      <td>0</td>\n    </tr>\n    <tr>\n      <th>10061</th>\n      <td>2011-11-20</td>\n      <td>1.0</td>\n      <td>2.0</td>\n      <td>0.0</td>\n      <td>1.0</td>\n      <td>0</td>\n      <td>1</td>\n      <td>0</td>\n    </tr>\n    <tr>\n      <th>10109</th>\n      <td>2012-05-08</td>\n      <td>4.0</td>\n      <td>1.0</td>\n      <td>1.0</td>\n      <td>2.0</td>\n      <td>0</td>\n      <td>1</td>\n      <td>0</td>\n    </tr>\n    <tr>\n      <th>10266</th>\n      <td>2013-04-21</td>\n      <td>2.0</td>\n      <td>2.0</td>\n      <td>4.0</td>\n      <td>1.0</td>\n      <td>1</td>\n      <td>0</td>\n      <td>0</td>\n    </tr>\n    <tr>\n      <th>10608</th>\n      <td>2013-12-29</td>\n      <td>2.0</td>\n      <td>1.0</td>\n      <td>2.0</td>\n      <td>2.0</td>\n      <td>0</td>\n      <td>0</td>\n      <td>1</td>\n    </tr>\n    <tr>\n      <th>10820</th>\n      <td>2014-04-27</td>\n      <td>0.0</td>\n      <td>2.0</td>\n      <td>2.0</td>\n      <td>1.0</td>\n      <td>1</td>\n      <td>0</td>\n      <td>0</td>\n    </tr>\n    <tr>\n      <th>11022</th>\n      <td>2014-11-08</td>\n      <td>1.0</td>\n      <td>2.0</td>\n      <td>0.0</td>\n      <td>2.0</td>\n      <td>0</td>\n      <td>1</td>\n      <td>0</td>\n    </tr>\n    <tr>\n      <th>11074</th>\n      <td>2015-05-10</td>\n      <td>1.0</td>\n      <td>1.0</td>\n      <td>1.0</td>\n      <td>2.0</td>\n      <td>0</td>\n      <td>1</td>\n      <td>0</td>\n    </tr>\n    <tr>\n      <th>11557</th>\n      <td>2015-10-31</td>\n      <td>1.0</td>\n      <td>3.0</td>\n      <td>1.0</td>\n      <td>1.0</td>\n      <td>0</td>\n      <td>0</td>\n      <td>1</td>\n    </tr>\n    <tr>\n      <th>11657</th>\n      <td>2016-05-11</td>\n      <td>1.0</td>\n      <td>1.0</td>\n      <td>1.0</td>\n      <td>3.0</td>\n      <td>0</td>\n      <td>1</td>\n      <td>0</td>\n    </tr>\n    <tr>\n      <th>11835</th>\n      <td>2017-01-31</td>\n      <td>1.0</td>\n      <td>1.0</td>\n      <td>1.0</td>\n      <td>2.0</td>\n      <td>0</td>\n      <td>1</td>\n      <td>0</td>\n    </tr>\n    <tr>\n      <th>12011</th>\n      <td>2016-09-16</td>\n      <td>1.0</td>\n      <td>2.0</td>\n      <td>1.0</td>\n      <td>1.0</td>\n      <td>0</td>\n      <td>0</td>\n      <td>1</td>\n    </tr>\n    <tr>\n      <th>12209</th>\n      <td>2017-11-25</td>\n      <td>1.0</td>\n      <td>1.0</td>\n      <td>1.0</td>\n      <td>1.0</td>\n      <td>0</td>\n      <td>0</td>\n      <td>1</td>\n    </tr>\n    <tr>\n      <th>12451</th>\n      <td>2018-05-06</td>\n      <td>1.0</td>\n      <td>0.0</td>\n      <td>1.0</td>\n      <td>1.0</td>\n      <td>0</td>\n      <td>0</td>\n      <td>1</td>\n    </tr>\n    <tr>\n      <th>12556</th>\n      <td>2019-04-14</td>\n      <td>2.0</td>\n      <td>0.0</td>\n      <td>1.0</td>\n      <td>1.0</td>\n      <td>0</td>\n      <td>0</td>\n      <td>1</td>\n    </tr>\n    <tr>\n      <th>12680</th>\n      <td>2018-09-29</td>\n      <td>1.0</td>\n      <td>1.0</td>\n      <td>1.0</td>\n      <td>0.0</td>\n      <td>1</td>\n      <td>0</td>\n      <td>0</td>\n    </tr>\n    <tr>\n      <th>13022</th>\n      <td>2019-09-22</td>\n      <td>1.0</td>\n      <td>2.0</td>\n      <td>2.0</td>\n      <td>0.0</td>\n      <td>1</td>\n      <td>0</td>\n      <td>0</td>\n    </tr>\n    <tr>\n      <th>13072</th>\n      <td>2020-07-22</td>\n      <td>5.0</td>\n      <td>3.0</td>\n      <td>1.0</td>\n      <td>2.0</td>\n      <td>0</td>\n      <td>1</td>\n      <td>0</td>\n    </tr>\n    <tr>\n      <th>13524</th>\n      <td>2021-03-04</td>\n      <td>0.0</td>\n      <td>1.0</td>\n      <td>0.0</td>\n      <td>2.0</td>\n      <td>0</td>\n      <td>1</td>\n      <td>0</td>\n    </tr>\n    <tr>\n      <th>13548</th>\n      <td>2020-09-20</td>\n      <td>0.0</td>\n      <td>2.0</td>\n      <td>5.0</td>\n      <td>3.0</td>\n      <td>1</td>\n      <td>0</td>\n      <td>0</td>\n    </tr>\n    <tr>\n      <th>13618</th>\n      <td>2022-01-02</td>\n      <td>2.0</td>\n      <td>2.0</td>\n      <td>1.0</td>\n      <td>1.0</td>\n      <td>0</td>\n      <td>0</td>\n      <td>1</td>\n    </tr>\n    <tr>\n      <th>13860</th>\n      <td>2021-08-28</td>\n      <td>1.0</td>\n      <td>1.0</td>\n      <td>0.0</td>\n      <td>1.0</td>\n      <td>0</td>\n      <td>1</td>\n      <td>0</td>\n    </tr>\n  </tbody>\n</table>\n</div>"
     },
     "execution_count": 46,
     "metadata": {},
     "output_type": "execute_result"
    }
   ],
   "source": [
    "df[df[\"MatchTeams\"] == \"Chelsea_Liverpool\"][[\"Date\",\"FTHG\", \"FTAG\", \"LastMatchHomeGoals\", \"LastMatchAwayGoals\", \"LastMatchHomeWin\",\"LastMatchAwayWin\", \"LastMatchDraw\"]]"
   ],
   "metadata": {
    "collapsed": false,
    "ExecuteTime": {
     "end_time": "2023-11-14T21:19:28.200950900Z",
     "start_time": "2023-11-14T21:19:28.117487900Z"
    }
   },
   "id": "168be5a9ad3d3f17"
  },
  {
   "cell_type": "markdown",
   "source": [
    "# TODO Average amount of goals scored/received in the current season\n",
    "\n",
    "We will add 4 columns - HomeTeamAvgScored, AwayTeamAvgScored, HomeTeamAvgReceived, AwayTeamAvgReceived\n",
    "\n"
   ],
   "metadata": {
    "collapsed": false
   },
   "id": "9d636c3c0b0d75b2"
  },
  {
   "cell_type": "markdown",
   "source": [
    "# Export Dataset as .csv file"
   ],
   "metadata": {
    "collapsed": false
   },
   "id": "6ca8c6e9e8aa759e"
  },
  {
   "cell_type": "code",
   "execution_count": null,
   "outputs": [],
   "source": [
    "df.to_csv(\"final.csv\")"
   ],
   "metadata": {
    "collapsed": false
   },
   "id": "7515491c70f17e4c"
  }
 ],
 "metadata": {
  "kernelspec": {
   "display_name": "Python 3",
   "language": "python",
   "name": "python3"
  },
  "language_info": {
   "codemirror_mode": {
    "name": "ipython",
    "version": 3
   },
   "file_extension": ".py",
   "mimetype": "text/x-python",
   "name": "python",
   "nbconvert_exporter": "python",
   "pygments_lexer": "ipython3",
   "version": "3.11.4"
  }
 },
 "nbformat": 4,
 "nbformat_minor": 5
}
