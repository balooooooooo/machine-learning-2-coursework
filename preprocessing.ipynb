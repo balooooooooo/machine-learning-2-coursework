{
 "cells": [
  {
   "cell_type": "code",
   "execution_count": 19,
   "id": "initial_id",
   "metadata": {
    "collapsed": true,
    "ExecuteTime": {
     "end_time": "2023-11-04T11:20:26.297262100Z",
     "start_time": "2023-11-04T11:20:26.291729200Z"
    }
   },
   "outputs": [],
   "source": [
    "import pandas as pd\n",
    "import numpy as np\n",
    "import os as os\n",
    "from matplotlib import pyplot as plt"
   ]
  },
  {
   "cell_type": "markdown",
   "source": [
    "### Load train data\n",
    "- iterate through train data folder \n",
    "- feature engineer the **country** and **league** from parent folder name\n",
    "- join the loaded csv files by rows"
   ],
   "metadata": {
    "collapsed": false
   },
   "id": "b0eaf693b8e5b699"
  },
  {
   "cell_type": "code",
   "execution_count": 33,
   "outputs": [],
   "source": [
    "df = pd.DataFrame()\n",
    "for root, directory, files in os.walk(\"data/train\", topdown=False):\n",
    "    if files:\n",
    "        for file in files:\n",
    "            tmp = pd.read_csv(f\"{root}/{file}\")\n",
    "            tmp[\"league\"] = int(root.split(\"\\\\\")[2])\n",
    "            tmp[\"country\"] = root.split(\"\\\\\")[1]\n",
    "            tmp[\"season\"] = int(file[:2]) # no. of season - 00/01 - 0th season, 21/22 - 21st season\n",
    "            df = pd.concat([df, tmp], axis = 0)"
   ],
   "metadata": {
    "collapsed": false,
    "ExecuteTime": {
     "end_time": "2023-11-04T13:31:20.792418100Z",
     "start_time": "2023-11-04T13:30:35.594697800Z"
    }
   },
   "id": "64ab231c00a3a93c"
  },
  {
   "cell_type": "code",
   "execution_count": 14,
   "outputs": [
    {
     "data": {
      "text/plain": "  Div      Date   HomeTeam     AwayTeam  FTHG  FTAG FTR  HTHG  HTAG HTR  ...  \\\n0  B1  20/05/01   Mechelen       Lierse   1.0   1.0   D   1.0   1.0   D  ...   \n1  B1  17/09/00   Germinal  Club Brugge   2.0   3.0   A   0.0   1.0   A  ...   \n2  B1  14/10/00    Beveren     Standard   0.0   3.0   A   0.0   2.0   A  ...   \n3  B1  06/09/00    Lokeren     Mechelen   3.0   2.0   H   0.0   2.0   A  ...   \n4  B1  27/08/00  Charleroi      Antwerp   1.0   0.0   H   1.0   0.0   H  ...   \n\n   LB.1  LB.2   HT   AT  Unnamed: 24  Unnamed: 27  Unnamed: 28  Unnamed: 29  \\\n0   NaN   NaN  NaN  NaN          NaN          NaN          NaN          NaN   \n1   NaN   NaN  NaN  NaN          NaN          NaN          NaN          NaN   \n2   NaN   NaN  NaN  NaN          NaN          NaN          NaN          NaN   \n3   NaN   NaN  NaN  NaN          NaN          NaN          NaN          NaN   \n4   NaN   NaN  NaN  NaN          NaN          NaN          NaN          NaN   \n\n   Unnamed: 53  Unnamed: 106  \n0          NaN           NaN  \n1          NaN           NaN  \n2          NaN           NaN  \n3          NaN           NaN  \n4          NaN           NaN  \n\n[5 rows x 215 columns]",
      "text/html": "<div>\n<style scoped>\n    .dataframe tbody tr th:only-of-type {\n        vertical-align: middle;\n    }\n\n    .dataframe tbody tr th {\n        vertical-align: top;\n    }\n\n    .dataframe thead th {\n        text-align: right;\n    }\n</style>\n<table border=\"1\" class=\"dataframe\">\n  <thead>\n    <tr style=\"text-align: right;\">\n      <th></th>\n      <th>Div</th>\n      <th>Date</th>\n      <th>HomeTeam</th>\n      <th>AwayTeam</th>\n      <th>FTHG</th>\n      <th>FTAG</th>\n      <th>FTR</th>\n      <th>HTHG</th>\n      <th>HTAG</th>\n      <th>HTR</th>\n      <th>...</th>\n      <th>LB.1</th>\n      <th>LB.2</th>\n      <th>HT</th>\n      <th>AT</th>\n      <th>Unnamed: 24</th>\n      <th>Unnamed: 27</th>\n      <th>Unnamed: 28</th>\n      <th>Unnamed: 29</th>\n      <th>Unnamed: 53</th>\n      <th>Unnamed: 106</th>\n    </tr>\n  </thead>\n  <tbody>\n    <tr>\n      <th>0</th>\n      <td>B1</td>\n      <td>20/05/01</td>\n      <td>Mechelen</td>\n      <td>Lierse</td>\n      <td>1.0</td>\n      <td>1.0</td>\n      <td>D</td>\n      <td>1.0</td>\n      <td>1.0</td>\n      <td>D</td>\n      <td>...</td>\n      <td>NaN</td>\n      <td>NaN</td>\n      <td>NaN</td>\n      <td>NaN</td>\n      <td>NaN</td>\n      <td>NaN</td>\n      <td>NaN</td>\n      <td>NaN</td>\n      <td>NaN</td>\n      <td>NaN</td>\n    </tr>\n    <tr>\n      <th>1</th>\n      <td>B1</td>\n      <td>17/09/00</td>\n      <td>Germinal</td>\n      <td>Club Brugge</td>\n      <td>2.0</td>\n      <td>3.0</td>\n      <td>A</td>\n      <td>0.0</td>\n      <td>1.0</td>\n      <td>A</td>\n      <td>...</td>\n      <td>NaN</td>\n      <td>NaN</td>\n      <td>NaN</td>\n      <td>NaN</td>\n      <td>NaN</td>\n      <td>NaN</td>\n      <td>NaN</td>\n      <td>NaN</td>\n      <td>NaN</td>\n      <td>NaN</td>\n    </tr>\n    <tr>\n      <th>2</th>\n      <td>B1</td>\n      <td>14/10/00</td>\n      <td>Beveren</td>\n      <td>Standard</td>\n      <td>0.0</td>\n      <td>3.0</td>\n      <td>A</td>\n      <td>0.0</td>\n      <td>2.0</td>\n      <td>A</td>\n      <td>...</td>\n      <td>NaN</td>\n      <td>NaN</td>\n      <td>NaN</td>\n      <td>NaN</td>\n      <td>NaN</td>\n      <td>NaN</td>\n      <td>NaN</td>\n      <td>NaN</td>\n      <td>NaN</td>\n      <td>NaN</td>\n    </tr>\n    <tr>\n      <th>3</th>\n      <td>B1</td>\n      <td>06/09/00</td>\n      <td>Lokeren</td>\n      <td>Mechelen</td>\n      <td>3.0</td>\n      <td>2.0</td>\n      <td>H</td>\n      <td>0.0</td>\n      <td>2.0</td>\n      <td>A</td>\n      <td>...</td>\n      <td>NaN</td>\n      <td>NaN</td>\n      <td>NaN</td>\n      <td>NaN</td>\n      <td>NaN</td>\n      <td>NaN</td>\n      <td>NaN</td>\n      <td>NaN</td>\n      <td>NaN</td>\n      <td>NaN</td>\n    </tr>\n    <tr>\n      <th>4</th>\n      <td>B1</td>\n      <td>27/08/00</td>\n      <td>Charleroi</td>\n      <td>Antwerp</td>\n      <td>1.0</td>\n      <td>0.0</td>\n      <td>H</td>\n      <td>1.0</td>\n      <td>0.0</td>\n      <td>H</td>\n      <td>...</td>\n      <td>NaN</td>\n      <td>NaN</td>\n      <td>NaN</td>\n      <td>NaN</td>\n      <td>NaN</td>\n      <td>NaN</td>\n      <td>NaN</td>\n      <td>NaN</td>\n      <td>NaN</td>\n      <td>NaN</td>\n    </tr>\n  </tbody>\n</table>\n<p>5 rows × 215 columns</p>\n</div>"
     },
     "execution_count": 14,
     "metadata": {},
     "output_type": "execute_result"
    }
   ],
   "source": [
    "df.head()"
   ],
   "metadata": {
    "collapsed": false,
    "ExecuteTime": {
     "end_time": "2023-11-04T10:56:30.143056Z",
     "start_time": "2023-11-04T10:56:30.111535700Z"
    }
   },
   "id": "881fd64fbd3e6f2c"
  },
  {
   "cell_type": "code",
   "execution_count": 15,
   "outputs": [
    {
     "data": {
      "text/plain": "(155173, 215)"
     },
     "execution_count": 15,
     "metadata": {},
     "output_type": "execute_result"
    }
   ],
   "source": [
    "df.shape"
   ],
   "metadata": {
    "collapsed": false,
    "ExecuteTime": {
     "end_time": "2023-11-04T10:57:07.048071600Z",
     "start_time": "2023-11-04T10:57:07.030588300Z"
    }
   },
   "id": "bf0509bf35597b1a"
  },
  {
   "cell_type": "markdown",
   "source": [
    "Drop all completely empty columns which there is a lot of, dropped 41 empty columns in total."
   ],
   "metadata": {
    "collapsed": false
   },
   "id": "a9ec006d07aaf9ed"
  },
  {
   "cell_type": "code",
   "execution_count": 34,
   "outputs": [],
   "source": [
    "df.dropna(how='all', axis=1, inplace=True) "
   ],
   "metadata": {
    "collapsed": false,
    "ExecuteTime": {
     "end_time": "2023-11-04T13:34:52.465068100Z",
     "start_time": "2023-11-04T13:34:52.234476500Z"
    }
   },
   "id": "a8f0e94069f87e82"
  },
  {
   "cell_type": "code",
   "execution_count": 35,
   "outputs": [
    {
     "data": {
      "text/plain": "(155173, 174)"
     },
     "execution_count": 35,
     "metadata": {},
     "output_type": "execute_result"
    }
   ],
   "source": [
    "df.shape"
   ],
   "metadata": {
    "collapsed": false,
    "ExecuteTime": {
     "end_time": "2023-11-04T13:34:54.194059100Z",
     "start_time": "2023-11-04T13:34:54.163644800Z"
    }
   },
   "id": "ff1c67e0d03c41e8"
  },
  {
   "cell_type": "code",
   "execution_count": 32,
   "outputs": [],
   "source": [
    "df.to_csv(\"final.csv\")"
   ],
   "metadata": {
    "collapsed": false,
    "ExecuteTime": {
     "end_time": "2023-11-04T13:26:38.365207600Z",
     "start_time": "2023-11-04T13:26:27.963584400Z"
    }
   },
   "id": "709bc6a619cfdf40"
  },
  {
   "cell_type": "markdown",
   "source": [
    "# Data Exploration"
   ],
   "metadata": {
    "collapsed": false
   },
   "id": "2f822ca43aff7d4d"
  },
  {
   "cell_type": "code",
   "execution_count": 20,
   "outputs": [
    {
     "data": {
      "text/plain": "                FTHG           FTAG           HTHG           HTAG  \\\ncount  154864.000000  154841.000000  154813.000000  154820.000000   \nmean        2.216358       1.130883       0.655636       0.494206   \nstd        21.861876       1.108967       0.809382       0.708167   \nmin         0.000000      -1.000000       0.000000       0.000000   \n25%         1.000000       0.000000       0.000000       0.000000   \n50%         1.000000       1.000000       0.000000       0.000000   \n75%         2.000000       2.000000       1.000000       1.000000   \nmax       998.000000      13.000000       7.000000       6.000000   \n\n                GBH           GBD           GBA            IWH            IWD  \\\ncount  88060.000000  88123.000000  88106.000000  150729.000000  150735.000000   \nmean       2.275366      3.381363      3.950892       2.335784       3.382514   \nstd        1.039952      0.613622      2.195107       1.155085       0.713629   \nmin        1.030000      1.250000      1.030000       1.010000       1.500000   \n25%        1.730000      3.100000      2.650000       1.750000       3.050000   \n50%        2.100000      3.250000      3.350000       2.100000       3.200000   \n75%        2.450000      3.450000      4.500000       2.500000       3.450000   \nmax       24.000000     11.000000     34.000000      30.000000      16.000000   \n\n                 IWA  ...          ABP          SOH          SOD          SOA  \\\ncount  150766.000000  ...  6671.000000  6599.000000  6613.000000  6614.000000   \nmean        3.753866  ...    20.914406     2.216488     3.391382     3.833776   \nstd         2.251540  ...    17.212936     0.983779     0.481409     2.078919   \nmin         1.030000  ...     0.000000     1.060000     2.380000     1.140000   \n25%         2.550000  ...    10.000000     1.700000     3.200000     2.620000   \n50%         3.200000  ...    20.000000     2.100000     3.250000     3.250000   \n75%         4.200000  ...    30.000000     2.400000     3.400000     4.500000   \nmax        70.000000  ...   150.000000    13.000000     8.000000    21.000000   \n\n             LBAHH        LBAHA         LBAH          LB        LB.1  \\\ncount  5470.000000  5470.000000  5458.000000  110.000000  110.000000   \nmean      1.911200     1.924793    -0.350500    1.985955    3.258182   \nstd       0.174042     0.124442     0.588259    0.434470    0.170338   \nmin      -2.250000    -0.500000    -2.250000    1.360000    3.000000   \n25%       1.840000     1.840000    -0.750000    1.684250    3.200000   \n50%       1.920000     1.920000    -0.250000    1.909000    3.200000   \n75%       2.000000     2.000000     0.000000    2.237500    3.250000   \nmax       3.400000     4.000000     9.000000    3.500000    4.000000   \n\n             LB.2  \ncount  107.000000  \nmean     3.808477  \nstd      1.309792  \nmin      1.900000  \n25%      2.800000  \n50%      3.500000  \n75%      4.333000  \nmax      8.000000  \n\n[8 rows x 161 columns]",
      "text/html": "<div>\n<style scoped>\n    .dataframe tbody tr th:only-of-type {\n        vertical-align: middle;\n    }\n\n    .dataframe tbody tr th {\n        vertical-align: top;\n    }\n\n    .dataframe thead th {\n        text-align: right;\n    }\n</style>\n<table border=\"1\" class=\"dataframe\">\n  <thead>\n    <tr style=\"text-align: right;\">\n      <th></th>\n      <th>FTHG</th>\n      <th>FTAG</th>\n      <th>HTHG</th>\n      <th>HTAG</th>\n      <th>GBH</th>\n      <th>GBD</th>\n      <th>GBA</th>\n      <th>IWH</th>\n      <th>IWD</th>\n      <th>IWA</th>\n      <th>...</th>\n      <th>ABP</th>\n      <th>SOH</th>\n      <th>SOD</th>\n      <th>SOA</th>\n      <th>LBAHH</th>\n      <th>LBAHA</th>\n      <th>LBAH</th>\n      <th>LB</th>\n      <th>LB.1</th>\n      <th>LB.2</th>\n    </tr>\n  </thead>\n  <tbody>\n    <tr>\n      <th>count</th>\n      <td>154864.000000</td>\n      <td>154841.000000</td>\n      <td>154813.000000</td>\n      <td>154820.000000</td>\n      <td>88060.000000</td>\n      <td>88123.000000</td>\n      <td>88106.000000</td>\n      <td>150729.000000</td>\n      <td>150735.000000</td>\n      <td>150766.000000</td>\n      <td>...</td>\n      <td>6671.000000</td>\n      <td>6599.000000</td>\n      <td>6613.000000</td>\n      <td>6614.000000</td>\n      <td>5470.000000</td>\n      <td>5470.000000</td>\n      <td>5458.000000</td>\n      <td>110.000000</td>\n      <td>110.000000</td>\n      <td>107.000000</td>\n    </tr>\n    <tr>\n      <th>mean</th>\n      <td>2.216358</td>\n      <td>1.130883</td>\n      <td>0.655636</td>\n      <td>0.494206</td>\n      <td>2.275366</td>\n      <td>3.381363</td>\n      <td>3.950892</td>\n      <td>2.335784</td>\n      <td>3.382514</td>\n      <td>3.753866</td>\n      <td>...</td>\n      <td>20.914406</td>\n      <td>2.216488</td>\n      <td>3.391382</td>\n      <td>3.833776</td>\n      <td>1.911200</td>\n      <td>1.924793</td>\n      <td>-0.350500</td>\n      <td>1.985955</td>\n      <td>3.258182</td>\n      <td>3.808477</td>\n    </tr>\n    <tr>\n      <th>std</th>\n      <td>21.861876</td>\n      <td>1.108967</td>\n      <td>0.809382</td>\n      <td>0.708167</td>\n      <td>1.039952</td>\n      <td>0.613622</td>\n      <td>2.195107</td>\n      <td>1.155085</td>\n      <td>0.713629</td>\n      <td>2.251540</td>\n      <td>...</td>\n      <td>17.212936</td>\n      <td>0.983779</td>\n      <td>0.481409</td>\n      <td>2.078919</td>\n      <td>0.174042</td>\n      <td>0.124442</td>\n      <td>0.588259</td>\n      <td>0.434470</td>\n      <td>0.170338</td>\n      <td>1.309792</td>\n    </tr>\n    <tr>\n      <th>min</th>\n      <td>0.000000</td>\n      <td>-1.000000</td>\n      <td>0.000000</td>\n      <td>0.000000</td>\n      <td>1.030000</td>\n      <td>1.250000</td>\n      <td>1.030000</td>\n      <td>1.010000</td>\n      <td>1.500000</td>\n      <td>1.030000</td>\n      <td>...</td>\n      <td>0.000000</td>\n      <td>1.060000</td>\n      <td>2.380000</td>\n      <td>1.140000</td>\n      <td>-2.250000</td>\n      <td>-0.500000</td>\n      <td>-2.250000</td>\n      <td>1.360000</td>\n      <td>3.000000</td>\n      <td>1.900000</td>\n    </tr>\n    <tr>\n      <th>25%</th>\n      <td>1.000000</td>\n      <td>0.000000</td>\n      <td>0.000000</td>\n      <td>0.000000</td>\n      <td>1.730000</td>\n      <td>3.100000</td>\n      <td>2.650000</td>\n      <td>1.750000</td>\n      <td>3.050000</td>\n      <td>2.550000</td>\n      <td>...</td>\n      <td>10.000000</td>\n      <td>1.700000</td>\n      <td>3.200000</td>\n      <td>2.620000</td>\n      <td>1.840000</td>\n      <td>1.840000</td>\n      <td>-0.750000</td>\n      <td>1.684250</td>\n      <td>3.200000</td>\n      <td>2.800000</td>\n    </tr>\n    <tr>\n      <th>50%</th>\n      <td>1.000000</td>\n      <td>1.000000</td>\n      <td>0.000000</td>\n      <td>0.000000</td>\n      <td>2.100000</td>\n      <td>3.250000</td>\n      <td>3.350000</td>\n      <td>2.100000</td>\n      <td>3.200000</td>\n      <td>3.200000</td>\n      <td>...</td>\n      <td>20.000000</td>\n      <td>2.100000</td>\n      <td>3.250000</td>\n      <td>3.250000</td>\n      <td>1.920000</td>\n      <td>1.920000</td>\n      <td>-0.250000</td>\n      <td>1.909000</td>\n      <td>3.200000</td>\n      <td>3.500000</td>\n    </tr>\n    <tr>\n      <th>75%</th>\n      <td>2.000000</td>\n      <td>2.000000</td>\n      <td>1.000000</td>\n      <td>1.000000</td>\n      <td>2.450000</td>\n      <td>3.450000</td>\n      <td>4.500000</td>\n      <td>2.500000</td>\n      <td>3.450000</td>\n      <td>4.200000</td>\n      <td>...</td>\n      <td>30.000000</td>\n      <td>2.400000</td>\n      <td>3.400000</td>\n      <td>4.500000</td>\n      <td>2.000000</td>\n      <td>2.000000</td>\n      <td>0.000000</td>\n      <td>2.237500</td>\n      <td>3.250000</td>\n      <td>4.333000</td>\n    </tr>\n    <tr>\n      <th>max</th>\n      <td>998.000000</td>\n      <td>13.000000</td>\n      <td>7.000000</td>\n      <td>6.000000</td>\n      <td>24.000000</td>\n      <td>11.000000</td>\n      <td>34.000000</td>\n      <td>30.000000</td>\n      <td>16.000000</td>\n      <td>70.000000</td>\n      <td>...</td>\n      <td>150.000000</td>\n      <td>13.000000</td>\n      <td>8.000000</td>\n      <td>21.000000</td>\n      <td>3.400000</td>\n      <td>4.000000</td>\n      <td>9.000000</td>\n      <td>3.500000</td>\n      <td>4.000000</td>\n      <td>8.000000</td>\n    </tr>\n  </tbody>\n</table>\n<p>8 rows × 161 columns</p>\n</div>"
     },
     "execution_count": 20,
     "metadata": {},
     "output_type": "execute_result"
    }
   ],
   "source": [
    "df.describe()"
   ],
   "metadata": {
    "collapsed": false,
    "ExecuteTime": {
     "end_time": "2023-11-04T11:47:35.028277100Z",
     "start_time": "2023-11-04T11:47:33.377034Z"
    }
   },
   "id": "a76d2dc275b79d0c"
  },
  {
   "cell_type": "code",
   "execution_count": 36,
   "outputs": [
    {
     "data": {
      "text/plain": "Div          0.200421\nDate         0.236510\nHomeTeam     0.901574\nAwayTeam     0.903508\nFTHG         0.199133\n              ...    \nLB          99.929111\nLB.1        99.929111\nLB.2        99.931045\nHT          99.284669\nAT          99.280158\nLength: 174, dtype: float64"
     },
     "execution_count": 36,
     "metadata": {},
     "output_type": "execute_result"
    }
   ],
   "source": [
    "na_vals = df.isna().sum()\n",
    "na_vals = na_vals/df.shape[0]*100\n",
    "na_vals"
   ],
   "metadata": {
    "collapsed": false,
    "ExecuteTime": {
     "end_time": "2023-11-04T13:34:57.427125500Z",
     "start_time": "2023-11-04T13:34:57.334893400Z"
    }
   },
   "id": "dbd0ff92d61fb66f"
  },
  {
   "cell_type": "code",
   "execution_count": 40,
   "outputs": [
    {
     "data": {
      "text/plain": "Div           0.000000\nDate          0.087754\nHomeTeam      0.000000\nAwayTeam      0.000000\nFTHG          0.034126\n               ...    \nLB          100.000000\nLB.1        100.000000\nLB.2        100.000000\nHT          100.000000\nAT          100.000000\nLength: 174, dtype: float64"
     },
     "execution_count": 40,
     "metadata": {},
     "output_type": "execute_result"
    }
   ],
   "source": [
    "na_vals = df[df[\"season\"] > 18].isna().sum()\n",
    "\n",
    "na_vals = na_vals/df[df[\"season\"] > 18].shape[0]*100\n",
    "na_vals"
   ],
   "metadata": {
    "collapsed": false,
    "ExecuteTime": {
     "end_time": "2023-11-04T13:37:49.823050600Z",
     "start_time": "2023-11-04T13:37:49.713807800Z"
    }
   },
   "id": "b0dfb8726b2a7038"
  }
 ],
 "metadata": {
  "kernelspec": {
   "display_name": "Python 3",
   "language": "python",
   "name": "python3"
  },
  "language_info": {
   "codemirror_mode": {
    "name": "ipython",
    "version": 2
   },
   "file_extension": ".py",
   "mimetype": "text/x-python",
   "name": "python",
   "nbconvert_exporter": "python",
   "pygments_lexer": "ipython2",
   "version": "2.7.6"
  }
 },
 "nbformat": 4,
 "nbformat_minor": 5
}
