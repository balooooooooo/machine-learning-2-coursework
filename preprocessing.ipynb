{
 "cells": [
  {
   "cell_type": "code",
   "execution_count": 46,
   "id": "initial_id",
   "metadata": {
    "collapsed": true,
    "ExecuteTime": {
     "end_time": "2023-11-03T14:36:03.992301200Z",
     "start_time": "2023-11-03T14:36:03.986398100Z"
    }
   },
   "outputs": [],
   "source": [
    "import pandas as pd\n",
    "import numpy as np\n",
    "import os as os"
   ]
  },
  {
   "cell_type": "code",
   "execution_count": 74,
   "outputs": [],
   "source": [
    "df = pd.DataFrame()\n",
    "for root, directory, files in os.walk(\"data/train\", topdown=False):\n",
    "    if files:\n",
    "        for file in files:\n",
    "            tmp = pd.read_csv(f\"{root}/{file}\")\n",
    "            country = [root.split(\"\\\\\")[1] for _ in range(tmp.shape[0])]\n",
    "            league = [root.split(\"\\\\\")[2] for _ in range(tmp.shape[0])]\n",
    "            tmp[\"league\"] = league\n",
    "            tmp[\"country\"] = country\n",
    "            df = pd.concat([df, tmp], axis = 0)\n",
    "df.to_csv(\"data.csv\")"
   ],
   "metadata": {
    "collapsed": false,
    "ExecuteTime": {
     "end_time": "2023-11-03T15:07:28.252341800Z",
     "start_time": "2023-11-03T15:06:15.237100900Z"
    }
   },
   "id": "64ab231c00a3a93c"
  },
  {
   "cell_type": "code",
   "execution_count": 75,
   "outputs": [
    {
     "data": {
      "text/plain": "  Div      Date   HomeTeam     AwayTeam  FTHG  FTAG FTR  HTHG  HTAG HTR  ...  \\\n0  B1  20/05/01   Mechelen       Lierse   1.0   1.0   D   1.0   1.0   D  ...   \n1  B1  17/09/00   Germinal  Club Brugge   2.0   3.0   A   0.0   1.0   A  ...   \n2  B1  14/10/00    Beveren     Standard   0.0   3.0   A   0.0   2.0   A  ...   \n3  B1  06/09/00    Lokeren     Mechelen   3.0   2.0   H   0.0   2.0   A  ...   \n4  B1  27/08/00  Charleroi      Antwerp   1.0   0.0   H   1.0   0.0   H  ...   \n\n   LB.1  LB.2   HT   AT  Unnamed: 24  Unnamed: 27  Unnamed: 28  Unnamed: 29  \\\n0   NaN   NaN  NaN  NaN          NaN          NaN          NaN          NaN   \n1   NaN   NaN  NaN  NaN          NaN          NaN          NaN          NaN   \n2   NaN   NaN  NaN  NaN          NaN          NaN          NaN          NaN   \n3   NaN   NaN  NaN  NaN          NaN          NaN          NaN          NaN   \n4   NaN   NaN  NaN  NaN          NaN          NaN          NaN          NaN   \n\n   Unnamed: 53  Unnamed: 106  \n0          NaN           NaN  \n1          NaN           NaN  \n2          NaN           NaN  \n3          NaN           NaN  \n4          NaN           NaN  \n\n[5 rows x 214 columns]",
      "text/html": "<div>\n<style scoped>\n    .dataframe tbody tr th:only-of-type {\n        vertical-align: middle;\n    }\n\n    .dataframe tbody tr th {\n        vertical-align: top;\n    }\n\n    .dataframe thead th {\n        text-align: right;\n    }\n</style>\n<table border=\"1\" class=\"dataframe\">\n  <thead>\n    <tr style=\"text-align: right;\">\n      <th></th>\n      <th>Div</th>\n      <th>Date</th>\n      <th>HomeTeam</th>\n      <th>AwayTeam</th>\n      <th>FTHG</th>\n      <th>FTAG</th>\n      <th>FTR</th>\n      <th>HTHG</th>\n      <th>HTAG</th>\n      <th>HTR</th>\n      <th>...</th>\n      <th>LB.1</th>\n      <th>LB.2</th>\n      <th>HT</th>\n      <th>AT</th>\n      <th>Unnamed: 24</th>\n      <th>Unnamed: 27</th>\n      <th>Unnamed: 28</th>\n      <th>Unnamed: 29</th>\n      <th>Unnamed: 53</th>\n      <th>Unnamed: 106</th>\n    </tr>\n  </thead>\n  <tbody>\n    <tr>\n      <th>0</th>\n      <td>B1</td>\n      <td>20/05/01</td>\n      <td>Mechelen</td>\n      <td>Lierse</td>\n      <td>1.0</td>\n      <td>1.0</td>\n      <td>D</td>\n      <td>1.0</td>\n      <td>1.0</td>\n      <td>D</td>\n      <td>...</td>\n      <td>NaN</td>\n      <td>NaN</td>\n      <td>NaN</td>\n      <td>NaN</td>\n      <td>NaN</td>\n      <td>NaN</td>\n      <td>NaN</td>\n      <td>NaN</td>\n      <td>NaN</td>\n      <td>NaN</td>\n    </tr>\n    <tr>\n      <th>1</th>\n      <td>B1</td>\n      <td>17/09/00</td>\n      <td>Germinal</td>\n      <td>Club Brugge</td>\n      <td>2.0</td>\n      <td>3.0</td>\n      <td>A</td>\n      <td>0.0</td>\n      <td>1.0</td>\n      <td>A</td>\n      <td>...</td>\n      <td>NaN</td>\n      <td>NaN</td>\n      <td>NaN</td>\n      <td>NaN</td>\n      <td>NaN</td>\n      <td>NaN</td>\n      <td>NaN</td>\n      <td>NaN</td>\n      <td>NaN</td>\n      <td>NaN</td>\n    </tr>\n    <tr>\n      <th>2</th>\n      <td>B1</td>\n      <td>14/10/00</td>\n      <td>Beveren</td>\n      <td>Standard</td>\n      <td>0.0</td>\n      <td>3.0</td>\n      <td>A</td>\n      <td>0.0</td>\n      <td>2.0</td>\n      <td>A</td>\n      <td>...</td>\n      <td>NaN</td>\n      <td>NaN</td>\n      <td>NaN</td>\n      <td>NaN</td>\n      <td>NaN</td>\n      <td>NaN</td>\n      <td>NaN</td>\n      <td>NaN</td>\n      <td>NaN</td>\n      <td>NaN</td>\n    </tr>\n    <tr>\n      <th>3</th>\n      <td>B1</td>\n      <td>06/09/00</td>\n      <td>Lokeren</td>\n      <td>Mechelen</td>\n      <td>3.0</td>\n      <td>2.0</td>\n      <td>H</td>\n      <td>0.0</td>\n      <td>2.0</td>\n      <td>A</td>\n      <td>...</td>\n      <td>NaN</td>\n      <td>NaN</td>\n      <td>NaN</td>\n      <td>NaN</td>\n      <td>NaN</td>\n      <td>NaN</td>\n      <td>NaN</td>\n      <td>NaN</td>\n      <td>NaN</td>\n      <td>NaN</td>\n    </tr>\n    <tr>\n      <th>4</th>\n      <td>B1</td>\n      <td>27/08/00</td>\n      <td>Charleroi</td>\n      <td>Antwerp</td>\n      <td>1.0</td>\n      <td>0.0</td>\n      <td>H</td>\n      <td>1.0</td>\n      <td>0.0</td>\n      <td>H</td>\n      <td>...</td>\n      <td>NaN</td>\n      <td>NaN</td>\n      <td>NaN</td>\n      <td>NaN</td>\n      <td>NaN</td>\n      <td>NaN</td>\n      <td>NaN</td>\n      <td>NaN</td>\n      <td>NaN</td>\n      <td>NaN</td>\n    </tr>\n  </tbody>\n</table>\n<p>5 rows × 214 columns</p>\n</div>"
     },
     "execution_count": 75,
     "metadata": {},
     "output_type": "execute_result"
    }
   ],
   "source": [
    "df.head()"
   ],
   "metadata": {
    "collapsed": false,
    "ExecuteTime": {
     "end_time": "2023-11-03T15:07:28.295186300Z",
     "start_time": "2023-11-03T15:07:28.259478800Z"
    }
   },
   "id": "881fd64fbd3e6f2c"
  }
 ],
 "metadata": {
  "kernelspec": {
   "display_name": "Python 3",
   "language": "python",
   "name": "python3"
  },
  "language_info": {
   "codemirror_mode": {
    "name": "ipython",
    "version": 2
   },
   "file_extension": ".py",
   "mimetype": "text/x-python",
   "name": "python",
   "nbconvert_exporter": "python",
   "pygments_lexer": "ipython2",
   "version": "2.7.6"
  }
 },
 "nbformat": 4,
 "nbformat_minor": 5
}
