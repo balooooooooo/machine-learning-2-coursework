{
 "cells": [
  {
   "cell_type": "code",
   "execution_count": 1,
   "id": "initial_id",
   "metadata": {
    "collapsed": true,
    "ExecuteTime": {
     "end_time": "2024-01-03T15:16:01.795113300Z",
     "start_time": "2024-01-03T15:16:01.500767800Z"
    }
   },
   "outputs": [],
   "source": [
    "import pandas as pd\n",
    "import numpy as np\n",
    "import os as os "
   ]
  },
  {
   "cell_type": "markdown",
   "source": [
    "### Load data"
   ],
   "metadata": {
    "collapsed": false
   },
   "id": "6491863b8ff047b2"
  },
  {
   "cell_type": "code",
   "execution_count": 2,
   "outputs": [],
   "source": [
    "dfs_train = {}\n",
    "dfs_test = {}"
   ],
   "metadata": {
    "collapsed": false,
    "ExecuteTime": {
     "end_time": "2024-01-03T15:16:01.811809700Z",
     "start_time": "2024-01-03T15:16:01.795113300Z"
    }
   },
   "id": "67e99dc3b60e9c20"
  },
  {
   "cell_type": "code",
   "execution_count": 3,
   "outputs": [],
   "source": [
    "for root, directory, files in os.walk(\"data/train_preprocessed\", topdown=False):\n",
    "    if files:\n",
    "        for file in files:\n",
    "            dfs_train[file[:-4]] = pd.read_csv(f\"{root}/{file}\")\n",
    "for root, directory, files in os.walk(\"data/test_preprocessed\", topdown=False):\n",
    "    if files:\n",
    "        for file in files:\n",
    "            dfs_test[file[:-4]] = pd.read_csv(f\"{root}/{file}\")"
   ],
   "metadata": {
    "collapsed": false,
    "ExecuteTime": {
     "end_time": "2024-01-03T15:16:05.582821500Z",
     "start_time": "2024-01-03T15:16:01.810809400Z"
    }
   },
   "id": "c7af8ff6f8ea0ba"
  },
  {
   "cell_type": "code",
   "execution_count": 4,
   "outputs": [
    {
     "data": {
      "text/plain": "      Unnamed: 0  season  Avg_away_odds  Avg_home_odds  Avg_draw_odds  \\\n0            300     1.0       4.666667       1.556667       3.533333   \n1            301     1.0       8.600000       1.233333       4.900000   \n2            302     1.0       2.966667       2.050000       3.166667   \n3            303     1.0       5.733333       1.416667       3.833333   \n4            304     1.0       3.916667       1.706667       3.383333   \n...          ...     ...            ...            ...            ...   \n5487        5787    21.0       3.914000       1.870000       3.574000   \n5488        5788    21.0       7.970000       1.330000       5.290000   \n5489        5789    21.0       1.392000       7.320000       4.752000   \n5490        5790    21.0      11.128000       1.228000       6.252000   \n5491        5791    21.0       1.482000       6.234000       4.430000   \n\n     Avg_bookie_prediction  Var_away_odds  Var_home_odds  Var_draw_odds  \\\n0                        H       0.083333       0.000133       0.043333   \n1                        H       2.680000       0.003333       0.280000   \n2                        H       0.043333       0.032500       0.063333   \n3                        H       0.463333       0.000833       0.043333   \n4                        H       0.270833       0.008133       0.110833   \n...                    ...            ...            ...            ...   \n5487                     H       0.010480       0.001150       0.013380   \n5488                     H       0.092000       0.000350       0.045500   \n5489                     A       0.001270       0.130750       0.026770   \n5490                     H       2.046920       0.000370       0.062520   \n5491                     A       0.000470       0.137530       0.019500   \n\n                    MatchTeams  ...  HomeWinRatio  HomeLossRatio  \\\n0                 Beveren_Genk  ...      0.343750       0.406250   \n1           Anderlecht_Antwerp  ...      0.735294       0.029412   \n2               Lierse_Lokeren  ...      0.375000       0.437500   \n3              Gent_St Truiden  ...      0.454545       0.272727   \n4             Lommel_Molenbeek  ...      0.454545       0.272727   \n...                        ...  ...           ...            ...   \n5487       St Truiden_Standard  ...      0.307829       0.457295   \n5488      Club Brugge_Mechelen  ...      0.621145       0.182085   \n5489       Anderlecht_Kortrijk  ...      0.359036       0.407229   \n5490  Gent_Oud-Heverlee Leuven  ...      0.471366       0.286344   \n5491              Genk_Seraing  ...      0.242424       0.636364   \n\n      HomeDrawRatio  AwayWinRatio  AwayLossRatio  AwayDrawRatio  \\\n0          0.250000      0.264706       0.500000       0.235294   \n1          0.235294      0.323529       0.470588       0.205882   \n2          0.187500      0.468750       0.250000       0.281250   \n3          0.272727      0.264706       0.500000       0.235294   \n4          0.272727      0.264706       0.500000       0.235294   \n...             ...           ...            ...            ...   \n5487       0.234875      0.492017       0.249637       0.258345   \n5488       0.196769      0.336798       0.426195       0.237006   \n5489       0.233735      0.616519       0.156342       0.227139   \n5490       0.242291      0.262570       0.424581       0.312849   \n5491       0.121212      0.479228       0.280415       0.240356   \n\n      HomeTeamAvgShotsOnTarget  AwayTeamAvgShotsOnTarget  HomeTeamScoredRatio  \\\n0                     4.756882                  4.309364             0.478261   \n1                     6.264428                  4.510234             0.778761   \n2                     4.734209                  5.034806             0.472527   \n3                     5.121079                  4.826950             0.552381   \n4                          NaN                       NaN                  NaN   \n...                        ...                       ...                  ...   \n5487                  4.455075                  5.083699             0.436352   \n5488                  5.613602                  4.621183             0.673558   \n5489                  4.648310                  5.431673             0.486462   \n5490                  5.128811                  4.660707             0.574391   \n5491                  3.272727                  5.192850             0.312500   \n\n      AwayTeamScoredRatio  \n0                0.319149  \n1                0.457831  \n2                0.571429  \n3                0.448980  \n4                     NaN  \n...                   ...  \n5487             0.600632  \n5488             0.445467  \n5489             0.683400  \n5490             0.441392  \n5491             0.577734  \n\n[5492 rows x 106 columns]",
      "text/html": "<div>\n<style scoped>\n    .dataframe tbody tr th:only-of-type {\n        vertical-align: middle;\n    }\n\n    .dataframe tbody tr th {\n        vertical-align: top;\n    }\n\n    .dataframe thead th {\n        text-align: right;\n    }\n</style>\n<table border=\"1\" class=\"dataframe\">\n  <thead>\n    <tr style=\"text-align: right;\">\n      <th></th>\n      <th>Unnamed: 0</th>\n      <th>season</th>\n      <th>Avg_away_odds</th>\n      <th>Avg_home_odds</th>\n      <th>Avg_draw_odds</th>\n      <th>Avg_bookie_prediction</th>\n      <th>Var_away_odds</th>\n      <th>Var_home_odds</th>\n      <th>Var_draw_odds</th>\n      <th>MatchTeams</th>\n      <th>...</th>\n      <th>HomeWinRatio</th>\n      <th>HomeLossRatio</th>\n      <th>HomeDrawRatio</th>\n      <th>AwayWinRatio</th>\n      <th>AwayLossRatio</th>\n      <th>AwayDrawRatio</th>\n      <th>HomeTeamAvgShotsOnTarget</th>\n      <th>AwayTeamAvgShotsOnTarget</th>\n      <th>HomeTeamScoredRatio</th>\n      <th>AwayTeamScoredRatio</th>\n    </tr>\n  </thead>\n  <tbody>\n    <tr>\n      <th>0</th>\n      <td>300</td>\n      <td>1.0</td>\n      <td>4.666667</td>\n      <td>1.556667</td>\n      <td>3.533333</td>\n      <td>H</td>\n      <td>0.083333</td>\n      <td>0.000133</td>\n      <td>0.043333</td>\n      <td>Beveren_Genk</td>\n      <td>...</td>\n      <td>0.343750</td>\n      <td>0.406250</td>\n      <td>0.250000</td>\n      <td>0.264706</td>\n      <td>0.500000</td>\n      <td>0.235294</td>\n      <td>4.756882</td>\n      <td>4.309364</td>\n      <td>0.478261</td>\n      <td>0.319149</td>\n    </tr>\n    <tr>\n      <th>1</th>\n      <td>301</td>\n      <td>1.0</td>\n      <td>8.600000</td>\n      <td>1.233333</td>\n      <td>4.900000</td>\n      <td>H</td>\n      <td>2.680000</td>\n      <td>0.003333</td>\n      <td>0.280000</td>\n      <td>Anderlecht_Antwerp</td>\n      <td>...</td>\n      <td>0.735294</td>\n      <td>0.029412</td>\n      <td>0.235294</td>\n      <td>0.323529</td>\n      <td>0.470588</td>\n      <td>0.205882</td>\n      <td>6.264428</td>\n      <td>4.510234</td>\n      <td>0.778761</td>\n      <td>0.457831</td>\n    </tr>\n    <tr>\n      <th>2</th>\n      <td>302</td>\n      <td>1.0</td>\n      <td>2.966667</td>\n      <td>2.050000</td>\n      <td>3.166667</td>\n      <td>H</td>\n      <td>0.043333</td>\n      <td>0.032500</td>\n      <td>0.063333</td>\n      <td>Lierse_Lokeren</td>\n      <td>...</td>\n      <td>0.375000</td>\n      <td>0.437500</td>\n      <td>0.187500</td>\n      <td>0.468750</td>\n      <td>0.250000</td>\n      <td>0.281250</td>\n      <td>4.734209</td>\n      <td>5.034806</td>\n      <td>0.472527</td>\n      <td>0.571429</td>\n    </tr>\n    <tr>\n      <th>3</th>\n      <td>303</td>\n      <td>1.0</td>\n      <td>5.733333</td>\n      <td>1.416667</td>\n      <td>3.833333</td>\n      <td>H</td>\n      <td>0.463333</td>\n      <td>0.000833</td>\n      <td>0.043333</td>\n      <td>Gent_St Truiden</td>\n      <td>...</td>\n      <td>0.454545</td>\n      <td>0.272727</td>\n      <td>0.272727</td>\n      <td>0.264706</td>\n      <td>0.500000</td>\n      <td>0.235294</td>\n      <td>5.121079</td>\n      <td>4.826950</td>\n      <td>0.552381</td>\n      <td>0.448980</td>\n    </tr>\n    <tr>\n      <th>4</th>\n      <td>304</td>\n      <td>1.0</td>\n      <td>3.916667</td>\n      <td>1.706667</td>\n      <td>3.383333</td>\n      <td>H</td>\n      <td>0.270833</td>\n      <td>0.008133</td>\n      <td>0.110833</td>\n      <td>Lommel_Molenbeek</td>\n      <td>...</td>\n      <td>0.454545</td>\n      <td>0.272727</td>\n      <td>0.272727</td>\n      <td>0.264706</td>\n      <td>0.500000</td>\n      <td>0.235294</td>\n      <td>NaN</td>\n      <td>NaN</td>\n      <td>NaN</td>\n      <td>NaN</td>\n    </tr>\n    <tr>\n      <th>...</th>\n      <td>...</td>\n      <td>...</td>\n      <td>...</td>\n      <td>...</td>\n      <td>...</td>\n      <td>...</td>\n      <td>...</td>\n      <td>...</td>\n      <td>...</td>\n      <td>...</td>\n      <td>...</td>\n      <td>...</td>\n      <td>...</td>\n      <td>...</td>\n      <td>...</td>\n      <td>...</td>\n      <td>...</td>\n      <td>...</td>\n      <td>...</td>\n      <td>...</td>\n      <td>...</td>\n    </tr>\n    <tr>\n      <th>5487</th>\n      <td>5787</td>\n      <td>21.0</td>\n      <td>3.914000</td>\n      <td>1.870000</td>\n      <td>3.574000</td>\n      <td>H</td>\n      <td>0.010480</td>\n      <td>0.001150</td>\n      <td>0.013380</td>\n      <td>St Truiden_Standard</td>\n      <td>...</td>\n      <td>0.307829</td>\n      <td>0.457295</td>\n      <td>0.234875</td>\n      <td>0.492017</td>\n      <td>0.249637</td>\n      <td>0.258345</td>\n      <td>4.455075</td>\n      <td>5.083699</td>\n      <td>0.436352</td>\n      <td>0.600632</td>\n    </tr>\n    <tr>\n      <th>5488</th>\n      <td>5788</td>\n      <td>21.0</td>\n      <td>7.970000</td>\n      <td>1.330000</td>\n      <td>5.290000</td>\n      <td>H</td>\n      <td>0.092000</td>\n      <td>0.000350</td>\n      <td>0.045500</td>\n      <td>Club Brugge_Mechelen</td>\n      <td>...</td>\n      <td>0.621145</td>\n      <td>0.182085</td>\n      <td>0.196769</td>\n      <td>0.336798</td>\n      <td>0.426195</td>\n      <td>0.237006</td>\n      <td>5.613602</td>\n      <td>4.621183</td>\n      <td>0.673558</td>\n      <td>0.445467</td>\n    </tr>\n    <tr>\n      <th>5489</th>\n      <td>5789</td>\n      <td>21.0</td>\n      <td>1.392000</td>\n      <td>7.320000</td>\n      <td>4.752000</td>\n      <td>A</td>\n      <td>0.001270</td>\n      <td>0.130750</td>\n      <td>0.026770</td>\n      <td>Anderlecht_Kortrijk</td>\n      <td>...</td>\n      <td>0.359036</td>\n      <td>0.407229</td>\n      <td>0.233735</td>\n      <td>0.616519</td>\n      <td>0.156342</td>\n      <td>0.227139</td>\n      <td>4.648310</td>\n      <td>5.431673</td>\n      <td>0.486462</td>\n      <td>0.683400</td>\n    </tr>\n    <tr>\n      <th>5490</th>\n      <td>5790</td>\n      <td>21.0</td>\n      <td>11.128000</td>\n      <td>1.228000</td>\n      <td>6.252000</td>\n      <td>H</td>\n      <td>2.046920</td>\n      <td>0.000370</td>\n      <td>0.062520</td>\n      <td>Gent_Oud-Heverlee Leuven</td>\n      <td>...</td>\n      <td>0.471366</td>\n      <td>0.286344</td>\n      <td>0.242291</td>\n      <td>0.262570</td>\n      <td>0.424581</td>\n      <td>0.312849</td>\n      <td>5.128811</td>\n      <td>4.660707</td>\n      <td>0.574391</td>\n      <td>0.441392</td>\n    </tr>\n    <tr>\n      <th>5491</th>\n      <td>5791</td>\n      <td>21.0</td>\n      <td>1.482000</td>\n      <td>6.234000</td>\n      <td>4.430000</td>\n      <td>A</td>\n      <td>0.000470</td>\n      <td>0.137530</td>\n      <td>0.019500</td>\n      <td>Genk_Seraing</td>\n      <td>...</td>\n      <td>0.242424</td>\n      <td>0.636364</td>\n      <td>0.121212</td>\n      <td>0.479228</td>\n      <td>0.280415</td>\n      <td>0.240356</td>\n      <td>3.272727</td>\n      <td>5.192850</td>\n      <td>0.312500</td>\n      <td>0.577734</td>\n    </tr>\n  </tbody>\n</table>\n<p>5492 rows × 106 columns</p>\n</div>"
     },
     "execution_count": 4,
     "metadata": {},
     "output_type": "execute_result"
    }
   ],
   "source": [
    "dfs_train[\"df_belgium\"]"
   ],
   "metadata": {
    "collapsed": false,
    "ExecuteTime": {
     "end_time": "2024-01-03T15:16:05.626330500Z",
     "start_time": "2024-01-03T15:16:05.583822100Z"
    }
   },
   "id": "6a00c509f5e49cb3"
  },
  {
   "cell_type": "code",
   "execution_count": null,
   "outputs": [],
   "source": [],
   "metadata": {
    "collapsed": false
   },
   "id": "9d6bc42435f04bf6"
  }
 ],
 "metadata": {
  "kernelspec": {
   "display_name": "Python 3",
   "language": "python",
   "name": "python3"
  },
  "language_info": {
   "codemirror_mode": {
    "name": "ipython",
    "version": 2
   },
   "file_extension": ".py",
   "mimetype": "text/x-python",
   "name": "python",
   "nbconvert_exporter": "python",
   "pygments_lexer": "ipython2",
   "version": "2.7.6"
  }
 },
 "nbformat": 4,
 "nbformat_minor": 5
}
