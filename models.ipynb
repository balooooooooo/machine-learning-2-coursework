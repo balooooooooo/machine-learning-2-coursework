{
 "cells": [
  {
   "cell_type": "code",
   "execution_count": 1,
   "id": "initial_id",
   "metadata": {
    "collapsed": true,
    "ExecuteTime": {
     "end_time": "2024-01-04T22:51:15.563446Z",
     "start_time": "2024-01-04T22:51:14.507099800Z"
    }
   },
   "outputs": [],
   "source": [
    "import pandas as pd\n",
    "import numpy as np\n",
    "import os as os\n",
    "from IPython.display import display\n",
    "from sklearn.ensemble import RandomForestClassifier\n",
    "from sklearn.metrics import mean_squared_error as MSE\n",
    "from sklearn.model_selection import RandomizedSearchCV, GridSearchCV\n",
    "from sklearn.metrics import accuracy_score,f1_score\n",
    "from matplotlib import pyplot as plt\n",
    "from sklearn.tree import plot_tree"
   ]
  },
  {
   "cell_type": "markdown",
   "source": [
    "### Load data"
   ],
   "metadata": {
    "collapsed": false
   },
   "id": "6491863b8ff047b2"
  },
  {
   "cell_type": "code",
   "execution_count": 2,
   "outputs": [],
   "source": [
    "dfs_train = {}\n",
    "dfs_test = {}"
   ],
   "metadata": {
    "collapsed": false,
    "ExecuteTime": {
     "end_time": "2024-01-04T22:51:15.578095100Z",
     "start_time": "2024-01-04T22:51:15.563446Z"
    }
   },
   "id": "67e99dc3b60e9c20"
  },
  {
   "cell_type": "code",
   "execution_count": 3,
   "outputs": [],
   "source": [
    "for root, directory, files in os.walk(\"data/train_preprocessed\", topdown=False):\n",
    "    if files:\n",
    "        for file in files:\n",
    "            dfs_train[file[:-4]] = pd.read_csv(f\"{root}/{file}\")\n",
    "            try:\n",
    "                dfs_train[file[:-4]] = pd.get_dummies(dfs_train[file[:-4]], columns=[\"Avg_bookie_prediction\"], prefix='Bookie_Prediction')\n",
    "            except KeyError:\n",
    "                pass\n",
    "for root, directory, files in os.walk(\"data/test_preprocessed\", topdown=False):\n",
    "    if files:\n",
    "        for file in files:\n",
    "            dfs_test[file[:-4]] = pd.read_csv(f\"{root}/{file}\")\n",
    "            try:\n",
    "                dfs_test[file[:-4]] = pd.get_dummies(dfs_test[file[:-4]], columns=[\"Avg_bookie_prediction\"], prefix='Bookie_Prediction')\n",
    "                \n",
    "            except KeyError:\n",
    "                pass\n",
    "            dfs_test[file[:-4]].drop(columns=[\"Target\", \"Target_clas\", \"Target_regr\"], inplace=True)\n",
    "\n",
    "\n"
   ],
   "metadata": {
    "collapsed": false,
    "ExecuteTime": {
     "end_time": "2024-01-04T22:51:19.565851800Z",
     "start_time": "2024-01-04T22:51:15.581097Z"
    }
   },
   "id": "c7af8ff6f8ea0ba"
  },
  {
   "cell_type": "code",
   "execution_count": 4,
   "outputs": [],
   "source": [
    "def impute_nan_values(dfs):\n",
    "    for df in dfs.values():\n",
    "        for col in df.columns:\n",
    "            if df[col].dtype == np.float64 or df[col].dtype == np.int64:\n",
    "                df[col] = df.groupby(\"season\")[col].transform(lambda x: x.fillna(x.mean()))\n",
    "        df.dropna(inplace=True)\n",
    "impute_nan_values(dfs_train)\n",
    "impute_nan_values(dfs_test)"
   ],
   "metadata": {
    "collapsed": false,
    "ExecuteTime": {
     "end_time": "2024-01-04T22:51:20.923490300Z",
     "start_time": "2024-01-04T22:51:19.567852300Z"
    }
   },
   "id": "6a00c509f5e49cb3"
  },
  {
   "cell_type": "code",
   "execution_count": 26,
   "outputs": [],
   "source": [
    "# validation set\n",
    "dfs_valid_reg_X = {}\n",
    "dfs_valid_reg_y = {}\n",
    "dfs_train_reg_X = {}\n",
    "dfs_train_reg_y = {}\n",
    "dfs_valid_clas_X = {}\n",
    "dfs_valid_clas_y = {}\n",
    "dfs_train_clas_X = {}\n",
    "dfs_train_clas_y = {}\n",
    "\n",
    "\n",
    "cols_to_drop = ['FTHG', 'FTAG', 'MatchTeams', 'SameHomeTeam', 'Target', 'Target_regr', 'Target_clas', \"Unnamed: 0\"]\n",
    "\n",
    "for country in dfs_train:\n",
    "    # dfs_train[country] =   dfs_train[country][  dfs_train[country][\"season\"] > 12]\n",
    "    dfs_train[country]['Target_clas'] = [0 if a > h else 1 if h > a else -1 for a, h in zip(dfs_train[country]['FTAG'], dfs_train[country]['FTHG'])]\n",
    "\n",
    "    dfs_valid_reg_y[country[3:]] = dfs_train[country][dfs_train[country][\"season\"] == 21][\"Target_regr\"]\n",
    "    dfs_valid_reg_X[country[3:]] = dfs_train[country][dfs_train[country][\"season\"] == 21].drop(columns=cols_to_drop, errors='ignore')\n",
    "    \n",
    "    dfs_train_reg_y[country[3:]] = dfs_train[country][dfs_train[country][\"season\"] != 21][\"Target_regr\"]\n",
    "    dfs_train_reg_X[country[3:]] = dfs_train[country][dfs_train[country][\"season\"] != 21].drop(columns=cols_to_drop, errors='ignore')\n",
    "    \n",
    "    dfs_train_clas_y[country[3:]] = dfs_train[country][dfs_train[country][\"season\"] != 21][\"Target_clas\"]\n",
    "    dfs_train_clas_X[country[3:]] = dfs_train[country][dfs_train[country][\"season\"] != 21].drop(columns=cols_to_drop, errors='ignore')\n",
    "\n",
    "    dfs_valid_clas_y[country[3:]] = dfs_train[country][dfs_train[country][\"season\"] == 21][\"Target_clas\"]\n",
    "    dfs_valid_clas_X[country[3:]] = dfs_train[country][dfs_train[country][\"season\"] == 21].drop(columns=cols_to_drop, errors='ignore')\n",
    "    "
   ],
   "metadata": {
    "collapsed": false,
    "ExecuteTime": {
     "end_time": "2024-01-04T23:03:29.104345900Z",
     "start_time": "2024-01-04T23:03:28.635519Z"
    }
   },
   "id": "bc85102fe8888b5a"
  },
  {
   "cell_type": "markdown",
   "source": [
    "# Classification task"
   ],
   "metadata": {
    "collapsed": false
   },
   "id": "382011daf10761e3"
  },
  {
   "cell_type": "markdown",
   "source": [
    "### Random Forest Baseline Model"
   ],
   "metadata": {
    "collapsed": false
   },
   "id": "594858abcbcb887e"
  },
  {
   "cell_type": "code",
   "execution_count": 27,
   "outputs": [],
   "source": [
    "rfm = RandomForestClassifier(random_state=42, max_depth=10) ### Cesta je snizit hloubku stromu"
   ],
   "metadata": {
    "collapsed": false,
    "ExecuteTime": {
     "end_time": "2024-01-04T23:03:32.532428500Z",
     "start_time": "2024-01-04T23:03:32.501866700Z"
    }
   },
   "id": "f34af3475c665b37"
  },
  {
   "cell_type": "code",
   "execution_count": 25,
   "outputs": [
    {
     "data": {
      "text/plain": "      Unnamed: 0  season  Avg_away_odds  Avg_home_odds  Avg_draw_odds  \\\n0            300     1.0       4.666667       1.556667       3.533333   \n1            301     1.0       8.600000       1.233333       4.900000   \n2            302     1.0       2.966667       2.050000       3.166667   \n3            303     1.0       5.733333       1.416667       3.833333   \n4            304     1.0       3.916667       1.706667       3.383333   \n...          ...     ...            ...            ...            ...   \n5188        5488    20.0       1.758333       4.306667       3.868333   \n5189        5489    20.0       5.336667       1.625000       3.916667   \n5190        5490    20.0      12.416667       1.205000       6.708333   \n5191        5491    20.0       3.541667       1.845000       4.268333   \n5192        5492    20.0       1.915000       3.513333       3.956667   \n\n      Var_away_odds  Var_home_odds  Var_draw_odds  LastMatchAwayGoals  \\\n0          0.083333       0.000133       0.043333                 0.0   \n1          2.680000       0.003333       0.280000                 0.0   \n2          0.043333       0.032500       0.063333                 4.0   \n3          0.463333       0.000833       0.043333                 1.0   \n4          0.270833       0.008133       0.110833                 1.0   \n...             ...            ...            ...                 ...   \n5188       0.000537       0.052947       0.035617                 3.0   \n5189       0.043067       0.000270       0.013667                 3.0   \n5190       0.241667       0.000070       0.110417                 0.0   \n5191       0.022417       0.000710       0.072417                 3.0   \n5192       0.004830       0.030067       0.096867                 2.0   \n\n      LastMatchHomeGoals  ...  HomeDrawRatio  AwayWinRatio  AwayLossRatio  \\\n0                    1.0  ...       0.250000      0.264706       0.500000   \n1                    2.0  ...       0.235294      0.323529       0.470588   \n2                    1.0  ...       0.187500      0.468750       0.250000   \n3                    0.0  ...       0.272727      0.264706       0.500000   \n4                    0.0  ...       0.272727      0.264706       0.500000   \n...                  ...  ...            ...           ...            ...   \n5188                 0.0  ...       0.260692      0.468413       0.288136   \n5189                 0.0  ...       0.258015      0.406250       0.437500   \n5190                 0.0  ...       0.193199      0.337838       0.443694   \n5191                 1.0  ...       0.306122      0.232210       0.494382   \n5192                 1.0  ...       0.228346      0.324444       0.435556   \n\n      AwayDrawRatio  HomeTeamAvgShotsOnTarget  AwayTeamAvgShotsOnTarget  \\\n0          0.235294                  4.756882                  4.309364   \n1          0.205882                  6.264428                  4.510234   \n2          0.281250                  4.734209                  5.034806   \n3          0.235294                  5.121079                  4.826950   \n4          0.235294                  5.015620                  5.024576   \n...             ...                       ...                       ...   \n5188       0.243451                  4.772837                  5.113590   \n5189       0.156250                  5.143005                  4.218750   \n5190       0.218468                  5.602570                  4.640432   \n5191       0.273408                  4.668479                  4.398972   \n5192       0.240000                  4.708789                  4.623976   \n\n      HomeTeamScoredRatio  AwayTeamScoredRatio  Avg_bookie_prediction_A  \\\n0                0.478261             0.319149                    False   \n1                0.778761             0.457831                    False   \n2                0.472527             0.571429                    False   \n3                0.552381             0.448980                    False   \n4                0.501487             0.505637                    False   \n...                   ...                  ...                      ...   \n5188             0.497591             0.571584                     True   \n5189             0.608815             0.482759                    False   \n5190             0.674631             0.479649                    False   \n5191             0.439294             0.398943                    False   \n5192             0.488692             0.437883                     True   \n\n      Avg_bookie_prediction_H  \n0                        True  \n1                        True  \n2                        True  \n3                        True  \n4                        True  \n...                       ...  \n5188                    False  \n5189                     True  \n5190                     True  \n5191                     True  \n5192                    False  \n\n[5193 rows x 105 columns]",
      "text/html": "<div>\n<style scoped>\n    .dataframe tbody tr th:only-of-type {\n        vertical-align: middle;\n    }\n\n    .dataframe tbody tr th {\n        vertical-align: top;\n    }\n\n    .dataframe thead th {\n        text-align: right;\n    }\n</style>\n<table border=\"1\" class=\"dataframe\">\n  <thead>\n    <tr style=\"text-align: right;\">\n      <th></th>\n      <th>Unnamed: 0</th>\n      <th>season</th>\n      <th>Avg_away_odds</th>\n      <th>Avg_home_odds</th>\n      <th>Avg_draw_odds</th>\n      <th>Var_away_odds</th>\n      <th>Var_home_odds</th>\n      <th>Var_draw_odds</th>\n      <th>LastMatchAwayGoals</th>\n      <th>LastMatchHomeGoals</th>\n      <th>...</th>\n      <th>HomeDrawRatio</th>\n      <th>AwayWinRatio</th>\n      <th>AwayLossRatio</th>\n      <th>AwayDrawRatio</th>\n      <th>HomeTeamAvgShotsOnTarget</th>\n      <th>AwayTeamAvgShotsOnTarget</th>\n      <th>HomeTeamScoredRatio</th>\n      <th>AwayTeamScoredRatio</th>\n      <th>Avg_bookie_prediction_A</th>\n      <th>Avg_bookie_prediction_H</th>\n    </tr>\n  </thead>\n  <tbody>\n    <tr>\n      <th>0</th>\n      <td>300</td>\n      <td>1.0</td>\n      <td>4.666667</td>\n      <td>1.556667</td>\n      <td>3.533333</td>\n      <td>0.083333</td>\n      <td>0.000133</td>\n      <td>0.043333</td>\n      <td>0.0</td>\n      <td>1.0</td>\n      <td>...</td>\n      <td>0.250000</td>\n      <td>0.264706</td>\n      <td>0.500000</td>\n      <td>0.235294</td>\n      <td>4.756882</td>\n      <td>4.309364</td>\n      <td>0.478261</td>\n      <td>0.319149</td>\n      <td>False</td>\n      <td>True</td>\n    </tr>\n    <tr>\n      <th>1</th>\n      <td>301</td>\n      <td>1.0</td>\n      <td>8.600000</td>\n      <td>1.233333</td>\n      <td>4.900000</td>\n      <td>2.680000</td>\n      <td>0.003333</td>\n      <td>0.280000</td>\n      <td>0.0</td>\n      <td>2.0</td>\n      <td>...</td>\n      <td>0.235294</td>\n      <td>0.323529</td>\n      <td>0.470588</td>\n      <td>0.205882</td>\n      <td>6.264428</td>\n      <td>4.510234</td>\n      <td>0.778761</td>\n      <td>0.457831</td>\n      <td>False</td>\n      <td>True</td>\n    </tr>\n    <tr>\n      <th>2</th>\n      <td>302</td>\n      <td>1.0</td>\n      <td>2.966667</td>\n      <td>2.050000</td>\n      <td>3.166667</td>\n      <td>0.043333</td>\n      <td>0.032500</td>\n      <td>0.063333</td>\n      <td>4.0</td>\n      <td>1.0</td>\n      <td>...</td>\n      <td>0.187500</td>\n      <td>0.468750</td>\n      <td>0.250000</td>\n      <td>0.281250</td>\n      <td>4.734209</td>\n      <td>5.034806</td>\n      <td>0.472527</td>\n      <td>0.571429</td>\n      <td>False</td>\n      <td>True</td>\n    </tr>\n    <tr>\n      <th>3</th>\n      <td>303</td>\n      <td>1.0</td>\n      <td>5.733333</td>\n      <td>1.416667</td>\n      <td>3.833333</td>\n      <td>0.463333</td>\n      <td>0.000833</td>\n      <td>0.043333</td>\n      <td>1.0</td>\n      <td>0.0</td>\n      <td>...</td>\n      <td>0.272727</td>\n      <td>0.264706</td>\n      <td>0.500000</td>\n      <td>0.235294</td>\n      <td>5.121079</td>\n      <td>4.826950</td>\n      <td>0.552381</td>\n      <td>0.448980</td>\n      <td>False</td>\n      <td>True</td>\n    </tr>\n    <tr>\n      <th>4</th>\n      <td>304</td>\n      <td>1.0</td>\n      <td>3.916667</td>\n      <td>1.706667</td>\n      <td>3.383333</td>\n      <td>0.270833</td>\n      <td>0.008133</td>\n      <td>0.110833</td>\n      <td>1.0</td>\n      <td>0.0</td>\n      <td>...</td>\n      <td>0.272727</td>\n      <td>0.264706</td>\n      <td>0.500000</td>\n      <td>0.235294</td>\n      <td>5.015620</td>\n      <td>5.024576</td>\n      <td>0.501487</td>\n      <td>0.505637</td>\n      <td>False</td>\n      <td>True</td>\n    </tr>\n    <tr>\n      <th>...</th>\n      <td>...</td>\n      <td>...</td>\n      <td>...</td>\n      <td>...</td>\n      <td>...</td>\n      <td>...</td>\n      <td>...</td>\n      <td>...</td>\n      <td>...</td>\n      <td>...</td>\n      <td>...</td>\n      <td>...</td>\n      <td>...</td>\n      <td>...</td>\n      <td>...</td>\n      <td>...</td>\n      <td>...</td>\n      <td>...</td>\n      <td>...</td>\n      <td>...</td>\n      <td>...</td>\n    </tr>\n    <tr>\n      <th>5188</th>\n      <td>5488</td>\n      <td>20.0</td>\n      <td>1.758333</td>\n      <td>4.306667</td>\n      <td>3.868333</td>\n      <td>0.000537</td>\n      <td>0.052947</td>\n      <td>0.035617</td>\n      <td>3.0</td>\n      <td>0.0</td>\n      <td>...</td>\n      <td>0.260692</td>\n      <td>0.468413</td>\n      <td>0.288136</td>\n      <td>0.243451</td>\n      <td>4.772837</td>\n      <td>5.113590</td>\n      <td>0.497591</td>\n      <td>0.571584</td>\n      <td>True</td>\n      <td>False</td>\n    </tr>\n    <tr>\n      <th>5189</th>\n      <td>5489</td>\n      <td>20.0</td>\n      <td>5.336667</td>\n      <td>1.625000</td>\n      <td>3.916667</td>\n      <td>0.043067</td>\n      <td>0.000270</td>\n      <td>0.013667</td>\n      <td>3.0</td>\n      <td>0.0</td>\n      <td>...</td>\n      <td>0.258015</td>\n      <td>0.406250</td>\n      <td>0.437500</td>\n      <td>0.156250</td>\n      <td>5.143005</td>\n      <td>4.218750</td>\n      <td>0.608815</td>\n      <td>0.482759</td>\n      <td>False</td>\n      <td>True</td>\n    </tr>\n    <tr>\n      <th>5190</th>\n      <td>5490</td>\n      <td>20.0</td>\n      <td>12.416667</td>\n      <td>1.205000</td>\n      <td>6.708333</td>\n      <td>0.241667</td>\n      <td>0.000070</td>\n      <td>0.110417</td>\n      <td>0.0</td>\n      <td>0.0</td>\n      <td>...</td>\n      <td>0.193199</td>\n      <td>0.337838</td>\n      <td>0.443694</td>\n      <td>0.218468</td>\n      <td>5.602570</td>\n      <td>4.640432</td>\n      <td>0.674631</td>\n      <td>0.479649</td>\n      <td>False</td>\n      <td>True</td>\n    </tr>\n    <tr>\n      <th>5191</th>\n      <td>5491</td>\n      <td>20.0</td>\n      <td>3.541667</td>\n      <td>1.845000</td>\n      <td>4.268333</td>\n      <td>0.022417</td>\n      <td>0.000710</td>\n      <td>0.072417</td>\n      <td>3.0</td>\n      <td>1.0</td>\n      <td>...</td>\n      <td>0.306122</td>\n      <td>0.232210</td>\n      <td>0.494382</td>\n      <td>0.273408</td>\n      <td>4.668479</td>\n      <td>4.398972</td>\n      <td>0.439294</td>\n      <td>0.398943</td>\n      <td>False</td>\n      <td>True</td>\n    </tr>\n    <tr>\n      <th>5192</th>\n      <td>5492</td>\n      <td>20.0</td>\n      <td>1.915000</td>\n      <td>3.513333</td>\n      <td>3.956667</td>\n      <td>0.004830</td>\n      <td>0.030067</td>\n      <td>0.096867</td>\n      <td>2.0</td>\n      <td>1.0</td>\n      <td>...</td>\n      <td>0.228346</td>\n      <td>0.324444</td>\n      <td>0.435556</td>\n      <td>0.240000</td>\n      <td>4.708789</td>\n      <td>4.623976</td>\n      <td>0.488692</td>\n      <td>0.437883</td>\n      <td>True</td>\n      <td>False</td>\n    </tr>\n  </tbody>\n</table>\n<p>5193 rows × 105 columns</p>\n</div>"
     },
     "execution_count": 25,
     "metadata": {},
     "output_type": "execute_result"
    }
   ],
   "source": [
    "dfs_train_clas_X[\"belgium\"]"
   ],
   "metadata": {
    "collapsed": false,
    "ExecuteTime": {
     "end_time": "2024-01-04T23:03:07.283140600Z",
     "start_time": "2024-01-04T23:03:07.235629900Z"
    }
   },
   "id": "3e1de4cf4bb3f234"
  },
  {
   "cell_type": "code",
   "execution_count": 29,
   "outputs": [
    {
     "name": "stdout",
     "output_type": "stream",
     "text": [
      "F1-score for baseline model on validation data for belgium: 0.6521335968954519\n",
      "F1-score for baseline model on validation data for england: 0.3448263620952428\n",
      "F1-score for baseline model on validation data for france: 0.4728276632531063\n",
      "F1-score for baseline model on validation data for germany: 0.4032306609257694\n",
      "F1-score for baseline model on validation data for greece: 0.7179190699038669\n",
      "F1-score for baseline model on validation data for italy: 0.4745922430474163\n",
      "F1-score for baseline model on validation data for netherlands: 0.6408420423490157\n",
      "F1-score for baseline model on validation data for portugal: 0.6450986011586589\n",
      "F1-score for baseline model on validation data for scotland: 0.39488667281153794\n",
      "F1-score for baseline model on validation data for spain: 0.4354203559769306\n",
      "F1-score for baseline model on validation data for turkey: 0.5759979992451613\n"
     ]
    }
   ],
   "source": [
    "dfs_train_predict = {}\n",
    "for country in dfs_train_clas_X.keys():\n",
    "    rfm.fit(dfs_train_clas_X[country], dfs_train_clas_y[country])\n",
    "    dfs_train_predict[country] = rfm.predict(dfs_train_clas_X[country])\n",
    "\n",
    "    # Calculate the average depth of all decision trees\n",
    "    average_depth = sum(tree.get_depth() for tree in rfm.estimators_) / len(rfm.estimators_)\n",
    "\n",
    "    # print(f\"Average Depth of Decision Trees for {country}: {average_depth}\")\n",
    "\n",
    "    # print(f\"Accuracy for baseline model on validation data for {country}: {round(accuracy_score(dfs_valid_clas_y[country], dfs_train_predict[country])*100, ndigits=4)}%\")\n",
    "    print(f\"F1-score for baseline model on validation data for {country}: {f1_score(dfs_train_clas_y[country], dfs_train_predict[country], average='macro')}\")"
   ],
   "metadata": {
    "collapsed": false,
    "ExecuteTime": {
     "end_time": "2024-01-04T23:06:12.184013300Z",
     "start_time": "2024-01-04T23:05:48.487555600Z"
    }
   },
   "id": "57ec67f0a3906196"
  },
  {
   "cell_type": "markdown",
   "source": [
    "### Random Search"
   ],
   "metadata": {
    "collapsed": false
   },
   "id": "e7270aca6b067226"
  },
  {
   "cell_type": "code",
   "execution_count": 8,
   "outputs": [
    {
     "name": "stdout",
     "output_type": "stream",
     "text": [
      "F1-score for best random search model on validation data for belgium: 0.3667028592110026\n",
      "F1-score for best random search model on validation data for england: 0.3443651480133092\n",
      "F1-score for best random search model on validation data for france: 0.38087113995476174\n",
      "F1-score for best random search model on validation data for germany: 0.3787230479265418\n",
      "F1-score for best random search model on validation data for greece: 0.38423579517048295\n",
      "F1-score for best random search model on validation data for italy: 0.3935444095357095\n",
      "F1-score for best random search model on validation data for netherlands: 0.42759268136784917\n",
      "F1-score for best random search model on validation data for portugal: 0.4132132132132133\n",
      "F1-score for best random search model on validation data for scotland: 0.39276795524922586\n",
      "F1-score for best random search model on validation data for spain: 0.3661081493930391\n",
      "F1-score for best random search model on validation data for turkey: 0.3636725016681573\n"
     ]
    }
   ],
   "source": [
    "param_grid = {\n",
    "    'max_depth': [i for i in range(1, 300)],\n",
    "    'min_samples_split': [i for i in range(1, 300)],\n",
    "    'min_samples_leaf': [i for i in range(1, 200)]\n",
    "}\n",
    "rfm = RandomForestClassifier(random_state=42)\n",
    "dfs_train_predict_random = {}\n",
    "\n",
    "random_search = RandomizedSearchCV(estimator=rfm, param_distributions=param_grid, n_iter=2,\n",
    "                                   cv=5, random_state=42, n_jobs=-1)\n",
    "dfs_train_predict = {}\n",
    "for country in dfs_train_clas_X.keys():\n",
    "    random_search.fit(dfs_train_clas_X[country], dfs_train_clas_y[country])\n",
    "    best_params = random_search.best_params_\n",
    "    best_random_forest = random_search.best_estimator_\n",
    "    dfs_train_predict_random[country] = best_random_forest.predict(dfs_valid_clas_X[country])\n",
    "\n",
    "    print(f\"F1-score for best random search model on validation data for {country}: {f1_score(dfs_valid_clas_y[country], dfs_train_predict_random[country], average='macro')}\")"
   ],
   "metadata": {
    "collapsed": false,
    "ExecuteTime": {
     "end_time": "2024-01-04T22:53:08.690421800Z",
     "start_time": "2024-01-04T22:52:29.251459200Z"
    }
   },
   "id": "bd22878a7300438b"
  }
 ],
 "metadata": {
  "kernelspec": {
   "display_name": "Python 3",
   "language": "python",
   "name": "python3"
  },
  "language_info": {
   "codemirror_mode": {
    "name": "ipython",
    "version": 2
   },
   "file_extension": ".py",
   "mimetype": "text/x-python",
   "name": "python",
   "nbconvert_exporter": "python",
   "pygments_lexer": "ipython2",
   "version": "2.7.6"
  }
 },
 "nbformat": 4,
 "nbformat_minor": 5
}
