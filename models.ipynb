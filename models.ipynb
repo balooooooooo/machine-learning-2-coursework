{
 "cells": [
  {
   "cell_type": "code",
   "execution_count": 1,
   "id": "initial_id",
   "metadata": {
    "collapsed": true,
    "ExecuteTime": {
     "end_time": "2024-01-05T15:55:21.801371600Z",
     "start_time": "2024-01-05T15:55:20.645243500Z"
    }
   },
   "outputs": [],
   "source": [
    "import pandas as pd\n",
    "import numpy as np\n",
    "import os as os\n",
    "from IPython.display import display\n",
    "from sklearn.ensemble import RandomForestRegressor, GradientBoostingRegressor, HistGradientBoostingRegressor\n",
    "from sklearn.model_selection import RandomizedSearchCV\n",
    "from sklearn.metrics import mean_squared_error as MSE"
   ]
  },
  {
   "cell_type": "markdown",
   "source": [
    "### Load data"
   ],
   "metadata": {
    "collapsed": false
   },
   "id": "6491863b8ff047b2"
  },
  {
   "cell_type": "code",
   "execution_count": 2,
   "outputs": [],
   "source": [
    "dfs_train = {}\n",
    "dfs_test = {}"
   ],
   "metadata": {
    "collapsed": false,
    "ExecuteTime": {
     "end_time": "2024-01-05T15:55:21.811368100Z",
     "start_time": "2024-01-05T15:55:21.801371600Z"
    }
   },
   "id": "67e99dc3b60e9c20"
  },
  {
   "cell_type": "code",
   "execution_count": 3,
   "outputs": [],
   "source": [
    "for root, directory, files in os.walk(\"data/train_preprocessed\", topdown=False):\n",
    "    if files:\n",
    "        for file in files:\n",
    "            dfs_train[file[:-4]] = pd.read_csv(f\"{root}/{file}\")\n",
    "for root, directory, files in os.walk(\"data/test_preprocessed\", topdown=False):\n",
    "    if files:\n",
    "        for file in files:\n",
    "            dfs_test[file[:-4]] = pd.read_csv(f\"{root}/{file}\")\n",
    "            dfs_test[file[:-4]].drop(columns=[\"Target\", \"Target_clas\", \"Target_regr\"], inplace=True)"
   ],
   "metadata": {
    "collapsed": false,
    "ExecuteTime": {
     "end_time": "2024-01-05T15:55:29.837216800Z",
     "start_time": "2024-01-05T15:55:21.808369500Z"
    }
   },
   "id": "c7af8ff6f8ea0ba"
  },
  {
   "cell_type": "code",
   "execution_count": 4,
   "outputs": [],
   "source": [
    "def impute_nan_values(dfs):\n",
    "    for df in dfs.values():\n",
    "        for col in df.columns:\n",
    "            if df[col].dtype == np.float64 or df[col].dtype == np.int64:\n",
    "                df[col] = df.groupby(\"season\")[col].transform(lambda x: x.fillna(x.mean()))\n",
    "        df.dropna(inplace=True)\n",
    "impute_nan_values(dfs_train)\n",
    "impute_nan_values(dfs_test)"
   ],
   "metadata": {
    "collapsed": false,
    "ExecuteTime": {
     "end_time": "2024-01-05T15:55:32.346255200Z",
     "start_time": "2024-01-05T15:55:29.837216800Z"
    }
   },
   "id": "6a00c509f5e49cb3"
  },
  {
   "cell_type": "code",
   "execution_count": 5,
   "outputs": [],
   "source": [
    "# validation set\n",
    "\n",
    "dfs_valid_reg_X = {}\n",
    "dfs_valid_reg_y = {}\n",
    "dfs_train_reg_X = {}\n",
    "dfs_train_reg_y = {}\n",
    "dfs_valid_clas_X = {}\n",
    "dfs_valid_clas_y = {}\n",
    "dfs_train_clas_X = {}\n",
    "dfs_train_clas_y = {}\n",
    "\n",
    "dfs_train.pop('df_england')\n",
    "\n",
    "\n",
    "cols_to_drop = ['FTHG', 'FTAG', 'MatchTeams', 'SameHomeTeam', 'Target', 'Target_regr', 'Target_clas']\n",
    "\n",
    "for country in dfs_train:\n",
    "    dfs_valid_reg_y[country[3:]] = dfs_train[country][dfs_train[country][\"season\"] == 21][\"Target_regr\"]\n",
    "    dfs_valid_reg_X[country[3:]] = dfs_train[country][dfs_train[country][\"season\"] == 21].drop(columns=cols_to_drop)\n",
    "\n",
    "    dfs_train_reg_y[country[3:]] = dfs_train[country][dfs_train[country][\"season\"] > 5][\"Target_regr\"]\n",
    "    dfs_train_reg_X[country[3:]] = dfs_train[country][dfs_train[country][\"season\"] > 5]\n",
    "    \n",
    "    dfs_train_reg_y[country[3:]] = dfs_train[country][dfs_train[country][\"season\"] != 21][\"Target_regr\"]\n",
    "    dfs_train_reg_X[country[3:]] = dfs_train[country][dfs_train[country][\"season\"] != 21].drop(columns=cols_to_drop)\n",
    "\n",
    "    # dfs_train_clas_y[country[3:]] = dfs_train[country][dfs_train[country][\"season\"] != 21][\"Target_clas\"]\n",
    "    # dfs_train_clas_X[country[3:]] = dfs_train[country][dfs_train[country][\"season\"] != 21].drop(columns=cols_to_drop)\n",
    "    # \n",
    "    # dfs_valid_clas_y[country[3:]] = dfs_train[country][dfs_train[country][\"season\"] == 21][\"Target_clas\"]\n",
    "    # dfs_valid_clas_X[country[3:]] = dfs_train[country][dfs_train[country][\"season\"] == 21].drop(columns=cols_to_drop)"
   ],
   "metadata": {
    "collapsed": false,
    "ExecuteTime": {
     "end_time": "2024-01-05T15:55:32.652779900Z",
     "start_time": "2024-01-05T15:55:32.347255400Z"
    }
   },
   "id": "bc85102fe8888b5a"
  },
  {
   "cell_type": "markdown",
   "source": [
    "### Regression task\n"
   ],
   "metadata": {
    "collapsed": false
   },
   "id": "6fdf91d6c7c6cd0e"
  },
  {
   "cell_type": "markdown",
   "source": [
    "baseline model\n"
   ],
   "metadata": {
    "collapsed": false
   },
   "id": "3420f0569b98d441"
  },
  {
   "cell_type": "code",
   "execution_count": 6,
   "outputs": [],
   "source": [
    "bl_forests = {}"
   ],
   "metadata": {
    "collapsed": false,
    "ExecuteTime": {
     "end_time": "2024-01-05T15:55:32.662545600Z",
     "start_time": "2024-01-05T15:55:32.652779900Z"
    }
   },
   "id": "4718f763fdc0fdfa"
  },
  {
   "cell_type": "code",
   "execution_count": 7,
   "outputs": [],
   "source": [
    "for country in dfs_train_reg_X:\n",
    "    bl_forests[country] = RandomForestRegressor(n_estimators=100, criterion=\"squared_error\", max_depth=10)"
   ],
   "metadata": {
    "collapsed": false,
    "ExecuteTime": {
     "end_time": "2024-01-05T15:55:32.672590500Z",
     "start_time": "2024-01-05T15:55:32.658549500Z"
    }
   },
   "id": "27423c903a4c1465"
  },
  {
   "cell_type": "code",
   "execution_count": 8,
   "outputs": [],
   "source": [
    "pd.set_option('display.max_columns', 500)"
   ],
   "metadata": {
    "collapsed": false,
    "ExecuteTime": {
     "end_time": "2024-01-05T15:55:32.694220700Z",
     "start_time": "2024-01-05T15:55:32.670590700Z"
    }
   },
   "id": "6d1c5db7eebd9fc2"
  },
  {
   "cell_type": "code",
   "execution_count": 9,
   "outputs": [
    {
     "name": "stdout",
     "output_type": "stream",
     "text": [
      "hmm\n"
     ]
    }
   ],
   "source": [
    "for country in bl_forests:\n",
    "    try:\n",
    "        dfs_valid_reg_X[country].drop(columns=['Avg_bookie_prediction'], axis=1, inplace=True)\n",
    "        dfs_train_reg_X[country].drop(columns=['Avg_bookie_prediction'], axis=1, inplace=True)\n",
    "    except:\n",
    "        print(\"hmm\")"
   ],
   "metadata": {
    "collapsed": false,
    "ExecuteTime": {
     "end_time": "2024-01-05T15:55:32.750353800Z",
     "start_time": "2024-01-05T15:55:32.684223600Z"
    }
   },
   "id": "de3dae3e4ac85c9"
  },
  {
   "cell_type": "code",
   "execution_count": 10,
   "outputs": [
    {
     "ename": "KeyError",
     "evalue": "'england'",
     "output_type": "error",
     "traceback": [
      "\u001B[1;31m---------------------------------------------------------------------------\u001B[0m",
      "\u001B[1;31mKeyError\u001B[0m                                  Traceback (most recent call last)",
      "Cell \u001B[1;32mIn[10], line 1\u001B[0m\n\u001B[1;32m----> 1\u001B[0m \u001B[43mdfs_train_reg_X\u001B[49m\u001B[43m[\u001B[49m\u001B[38;5;124;43m'\u001B[39;49m\u001B[38;5;124;43mengland\u001B[39;49m\u001B[38;5;124;43m'\u001B[39;49m\u001B[43m]\u001B[49m\u001B[38;5;241m.\u001B[39mhead()\n",
      "\u001B[1;31mKeyError\u001B[0m: 'england'"
     ]
    }
   ],
   "source": [
    "# dfs_train_reg_X['england'].head()"
   ],
   "metadata": {
    "collapsed": false,
    "ExecuteTime": {
     "end_time": "2024-01-05T15:55:33.477841900Z",
     "start_time": "2024-01-05T15:55:32.744355500Z"
    }
   },
   "id": "e3e90d8613afac4f"
  },
  {
   "cell_type": "code",
   "execution_count": 11,
   "outputs": [
    {
     "name": "stdout",
     "output_type": "stream",
     "text": [
      "fitting  belgium\n",
      "fitting  france\n",
      "fitting  germany\n",
      "fitting  greece\n",
      "fitting  italy\n",
      "fitting  netherlands\n",
      "fitting  portugal\n",
      "fitting  scotland\n",
      "fitting  spain\n",
      "fitting  turkey\n"
     ]
    }
   ],
   "source": [
    "for country in bl_forests:\n",
    "    print(\"fitting \", country)\n",
    "    bl_forests[country].fit(X=dfs_train_reg_X[country], y=dfs_train_reg_y[country])"
   ],
   "metadata": {
    "collapsed": false,
    "ExecuteTime": {
     "end_time": "2024-01-05T15:59:47.339998800Z",
     "start_time": "2024-01-05T15:55:50.401600300Z"
    }
   },
   "id": "e6d63a8a4671ef14"
  },
  {
   "cell_type": "code",
   "execution_count": 12,
   "outputs": [
    {
     "name": "stdout",
     "output_type": "stream",
     "text": [
      "baseline forest mse of  belgium :  3.542512144980251\n",
      "baseline forest mse of  france :  2.681936417224585\n",
      "baseline forest mse of  germany :  2.8143159878508173\n",
      "baseline forest mse of  greece :  2.675688838868358\n",
      "baseline forest mse of  italy :  2.5602504240410373\n",
      "baseline forest mse of  netherlands :  2.691732597484649\n",
      "baseline forest mse of  portugal :  2.212194706192593\n",
      "baseline forest mse of  scotland :  2.4932141477037533\n",
      "baseline forest mse of  spain :  2.552807045578344\n",
      "baseline forest mse of  turkey :  2.8315313408901357\n"
     ]
    }
   ],
   "source": [
    "for country in bl_forests:\n",
    "    # print(\"predicting \", country)\n",
    "    prediction = bl_forests[country].predict(dfs_valid_reg_X[country])\n",
    "    print(\"baseline forest mse of \", country, \": \", MSE(prediction, dfs_valid_reg_y[country]))\n",
    "    "
   ],
   "metadata": {
    "collapsed": false,
    "ExecuteTime": {
     "end_time": "2024-01-05T16:01:23.977106700Z",
     "start_time": "2024-01-05T16:01:23.831906600Z"
    }
   },
   "id": "cfbfdce6831d4820"
  },
  {
   "cell_type": "markdown",
   "source": [
    "random search\n"
   ],
   "metadata": {
    "collapsed": false
   },
   "id": "9905bf45fc994415"
  },
  {
   "cell_type": "code",
   "execution_count": 13,
   "outputs": [],
   "source": [
    "param_grid = {\n",
    "    'n_estimators':[i for i in range(50,200)],\n",
    "    'min_samples_split':[i for i in range(2, 50)],\n",
    "    'max_depth':[i for i in range(3, 100)]\n",
    "}\n",
    "\n",
    "rs_estimators = {}\n",
    "rs_forests = {}\n",
    "rs_best = {}\n",
    "rs_best_estims = {}"
   ],
   "metadata": {
    "collapsed": false,
    "ExecuteTime": {
     "end_time": "2024-01-05T16:01:26.263097700Z",
     "start_time": "2024-01-05T16:01:26.252594900Z"
    }
   },
   "id": "8998a42114fcb07b"
  },
  {
   "cell_type": "code",
   "execution_count": 14,
   "outputs": [],
   "source": [
    "for country in bl_forests:\n",
    "    rs_estimators[country] = RandomForestRegressor(random_state=42)"
   ],
   "metadata": {
    "collapsed": false,
    "ExecuteTime": {
     "end_time": "2024-01-05T16:01:32.138123500Z",
     "start_time": "2024-01-05T16:01:32.127131300Z"
    }
   },
   "id": "ff7bd58433f76837"
  },
  {
   "cell_type": "code",
   "execution_count": 15,
   "outputs": [
    {
     "name": "stdout",
     "output_type": "stream",
     "text": [
      "random searching belgium\n",
      "random searching france\n",
      "random searching germany\n",
      "random searching greece\n",
      "random searching italy\n",
      "random searching netherlands\n",
      "random searching portugal\n",
      "random searching scotland\n",
      "random searching spain\n",
      "random searching turkey\n"
     ]
    }
   ],
   "source": [
    "for country in dfs_train_reg_X:\n",
    "    print(\"random searching\", country)\n",
    "    rs_forests[country] = RandomizedSearchCV(estimator=rs_estimators[country], param_distributions=param_grid,  n_iter=3, cv=3, random_state=42, error_score='raise')"
   ],
   "metadata": {
    "collapsed": false,
    "ExecuteTime": {
     "end_time": "2024-01-05T16:01:33.296703200Z",
     "start_time": "2024-01-05T16:01:33.285943700Z"
    }
   },
   "id": "531add585a6cbf0d"
  },
  {
   "cell_type": "code",
   "execution_count": null,
   "outputs": [
    {
     "name": "stdout",
     "output_type": "stream",
     "text": [
      "best params for country belgium :  {'n_estimators': 132, 'min_samples_split': 17, 'max_depth': 21}\n",
      "best params for country france :  {'n_estimators': 58, 'min_samples_split': 47, 'max_depth': 19}\n",
      "best params for country germany :  {'n_estimators': 58, 'min_samples_split': 47, 'max_depth': 19}\n",
      "best params for country greece :  {'n_estimators': 58, 'min_samples_split': 47, 'max_depth': 19}\n",
      "best params for country italy :  {'n_estimators': 58, 'min_samples_split': 47, 'max_depth': 19}\n",
      "best params for country netherlands :  {'n_estimators': 58, 'min_samples_split': 47, 'max_depth': 19}\n",
      "best params for country portugal :  {'n_estimators': 58, 'min_samples_split': 47, 'max_depth': 19}\n"
     ]
    }
   ],
   "source": [
    "for country in rs_forests:\n",
    "    rs_forests[country].fit(X=dfs_train_reg_X[country], y=dfs_train_reg_y[country])\n",
    "    rs_best[country] = rs_forests[country].best_params_\n",
    "    print(\"best params for country\", country, \": \", rs_best[country])\n",
    "    rs_best_estims[country] = rs_forests[country].best_estimator_"
   ],
   "metadata": {
    "collapsed": false,
    "is_executing": true,
    "ExecuteTime": {
     "start_time": "2024-01-05T16:01:35.361749200Z"
    }
   },
   "id": "28d181c1a8029177"
  },
  {
   "cell_type": "code",
   "execution_count": null,
   "outputs": [],
   "source": [
    "for country in rs_forests:\n",
    "    preds = rs_best_estims[country].predict(dfs_valid_reg_X[country])\n",
    "    print(\"Validation MSE of country \", country, \" with random search params: \", MSE(dfs_valid_reg_y[country], preds))"
   ],
   "metadata": {
    "collapsed": false,
    "is_executing": true
   },
   "id": "324fb22c10f67fba"
  },
  {
   "cell_type": "markdown",
   "source": [
    "grid search\n"
   ],
   "metadata": {
    "collapsed": false
   },
   "id": "e5b6f8b40379cf91"
  },
  {
   "cell_type": "markdown",
   "source": [
    "train on best params\n"
   ],
   "metadata": {
    "collapsed": false
   },
   "id": "c8f33e2ecf3689e6"
  },
  {
   "cell_type": "markdown",
   "source": [
    "*repeat with boosting?*"
   ],
   "metadata": {
    "collapsed": false
   },
   "id": "a58de76ddddc57af"
  },
  {
   "cell_type": "code",
   "execution_count": null,
   "outputs": [],
   "source": [
    "gb_forests = {}"
   ],
   "metadata": {
    "collapsed": false,
    "ExecuteTime": {
     "start_time": "2024-01-05T15:55:33.492836800Z"
    }
   },
   "id": "da048006a9a8cba8"
  },
  {
   "cell_type": "code",
   "execution_count": null,
   "outputs": [],
   "source": [
    "for country in dfs_train_reg_X:\n",
    "    gb_forests[country] = HistGradientBoostingRegressor(max_depth=10)"
   ],
   "metadata": {
    "collapsed": false,
    "ExecuteTime": {
     "end_time": "2024-01-05T15:55:33.500834700Z",
     "start_time": "2024-01-05T15:55:33.494835800Z"
    }
   },
   "id": "12804e8366567e6b"
  },
  {
   "cell_type": "code",
   "execution_count": null,
   "outputs": [],
   "source": [
    "for country in gb_forests:\n",
    "    print(\"fitting \", country)\n",
    "    gb_forests[country].fit(X=dfs_train_reg_X[country], y=dfs_train_reg_y[country])"
   ],
   "metadata": {
    "collapsed": false,
    "ExecuteTime": {
     "start_time": "2024-01-05T15:55:33.497835300Z"
    }
   },
   "id": "5e114590495bd0a5"
  },
  {
   "cell_type": "code",
   "execution_count": null,
   "outputs": [],
   "source": [
    "for country in bl_forests:\n",
    "    # print(\"predicting \", country)\n",
    "    prediction = gb_forests[country].predict(dfs_valid_reg_X[country])\n",
    "    print(\"gradient boost forest mse of \", country, \": \", MSE(prediction, dfs_valid_reg_y[country]))"
   ],
   "metadata": {
    "collapsed": false,
    "ExecuteTime": {
     "start_time": "2024-01-05T15:55:33.499834300Z"
    }
   },
   "id": "1f83f693cd486f70"
  }
 ],
 "metadata": {
  "kernelspec": {
   "display_name": "Python 3",
   "language": "python",
   "name": "python3"
  },
  "language_info": {
   "codemirror_mode": {
    "name": "ipython",
    "version": 2
   },
   "file_extension": ".py",
   "mimetype": "text/x-python",
   "name": "python",
   "nbconvert_exporter": "python",
   "pygments_lexer": "ipython2",
   "version": "2.7.6"
  }
 },
 "nbformat": 4,
 "nbformat_minor": 5
}
