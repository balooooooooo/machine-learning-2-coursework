{
 "cells": [
  {
   "cell_type": "code",
   "execution_count": 114,
   "id": "initial_id",
   "metadata": {
    "collapsed": true,
    "ExecuteTime": {
     "end_time": "2024-01-05T15:09:38.445019400Z",
     "start_time": "2024-01-05T15:09:38.437545900Z"
    }
   },
   "outputs": [],
   "source": [
    "import pandas as pd\n",
    "import numpy as np\n",
    "import os as os\n",
    "from IPython.display import display\n",
    "from sklearn.ensemble import RandomForestClassifier, GradientBoostingClassifier, VotingClassifier\n",
    "from sklearn.naive_bayes import MultinomialNB,CategoricalNB\n",
    "from sklearn.linear_model import LogisticRegression\n",
    "from sklearn.neighbors import KNeighborsClassifier\n",
    "from sklearn.metrics import mean_squared_error as MSE\n",
    "from sklearn.model_selection import RandomizedSearchCV, GridSearchCV\n",
    "from sklearn.metrics import accuracy_score,f1_score\n",
    "from matplotlib import pyplot as plt\n",
    "from sklearn.tree import plot_tree"
   ]
  },
  {
   "cell_type": "markdown",
   "source": [
    "### Load data"
   ],
   "metadata": {
    "collapsed": false
   },
   "id": "6491863b8ff047b2"
  },
  {
   "cell_type": "code",
   "execution_count": 2,
   "outputs": [],
   "source": [
    "dfs_train = {}\n",
    "dfs_test = {}"
   ],
   "metadata": {
    "collapsed": false,
    "ExecuteTime": {
     "end_time": "2024-01-05T12:46:52.145448700Z",
     "start_time": "2024-01-05T12:46:52.132437700Z"
    }
   },
   "id": "67e99dc3b60e9c20"
  },
  {
   "cell_type": "code",
   "execution_count": 3,
   "outputs": [],
   "source": [
    "for root, directory, files in os.walk(\"data/train_preprocessed\", topdown=False):\n",
    "    if files:\n",
    "        for file in files:\n",
    "            dfs_train[file[:-4]] = pd.read_csv(f\"{root}/{file}\")\n",
    "            try:\n",
    "                dfs_train[file[:-4]] = pd.get_dummies(dfs_train[file[:-4]], columns=[\"Avg_bookie_prediction\"], prefix='Bookie_Prediction')\n",
    "            except KeyError:\n",
    "                pass\n",
    "for root, directory, files in os.walk(\"data/test_preprocessed\", topdown=False):\n",
    "    if files:\n",
    "        for file in files:\n",
    "            dfs_test[file[:-4]] = pd.read_csv(f\"{root}/{file}\")\n",
    "            try:\n",
    "                dfs_test[file[:-4]] = pd.get_dummies(dfs_test[file[:-4]], columns=[\"Avg_bookie_prediction\"], prefix='Bookie_Prediction')\n",
    "                \n",
    "            except KeyError:\n",
    "                pass\n",
    "            dfs_test[file[:-4]].drop(columns=[\"Target_clas\", \"Target_regr\"], inplace=True)"
   ],
   "metadata": {
    "collapsed": false,
    "ExecuteTime": {
     "end_time": "2024-01-05T12:46:55.836483Z",
     "start_time": "2024-01-05T12:46:52.147450Z"
    }
   },
   "id": "c7af8ff6f8ea0ba"
  },
  {
   "cell_type": "code",
   "execution_count": 4,
   "outputs": [],
   "source": [
    "def impute_nan_values(dfs):\n",
    "    for df in dfs.values():\n",
    "        for col in df.columns:\n",
    "            if df[col].dtype == np.float64 or df[col].dtype == np.int64:\n",
    "                df[col] = df.groupby(\"season\")[col].transform(lambda x: x.fillna(x.mean()))\n",
    "        df.dropna(inplace=True)\n",
    "impute_nan_values(dfs_train)\n",
    "impute_nan_values(dfs_test)"
   ],
   "metadata": {
    "collapsed": false,
    "ExecuteTime": {
     "end_time": "2024-01-05T12:46:57.113315800Z",
     "start_time": "2024-01-05T12:46:55.838985800Z"
    }
   },
   "id": "6a00c509f5e49cb3"
  },
  {
   "cell_type": "code",
   "execution_count": 33,
   "outputs": [],
   "source": [
    "# validation set\n",
    "dfs_valid_reg_X = {}\n",
    "dfs_valid_reg_y = {}\n",
    "dfs_train_reg_X = {}\n",
    "dfs_train_reg_y = {}\n",
    "dfs_valid_clas_X = {}\n",
    "dfs_valid_clas_y = {}\n",
    "dfs_train_clas_X = {}\n",
    "dfs_train_clas_y = {}\n",
    "\n",
    "\n",
    "cols_to_drop = ['FTHG', 'FTAG', 'MatchTeams', 'SameHomeTeam', 'Target', 'Target_regr', 'Target_clas', \"Unnamed: 0\"]\n",
    "\n",
    "for country in dfs_train:\n",
    "    # dfs_train[country] =   dfs_train[country][  dfs_train[country][\"season\"] > 12]\n",
    "    dfs_train[country]['Target_clas'] = [0 if a > h else 1 if h > a else -1 for a, h in zip(dfs_train[country]['FTAG'], dfs_train[country]['FTHG'])]\n",
    "\n",
    "    dfs_valid_reg_y[country[3:]] = dfs_train[country][dfs_train[country][\"season\"] == 21][\"Target_regr\"]\n",
    "    dfs_valid_reg_X[country[3:]] = dfs_train[country][dfs_train[country][\"season\"] == 21].drop(columns=cols_to_drop, errors='ignore')\n",
    "    \n",
    "    dfs_train_reg_y[country[3:]] = dfs_train[country][dfs_train[country][\"season\"] != 21][\"Target_regr\"]\n",
    "    dfs_train_reg_X[country[3:]] = dfs_train[country][dfs_train[country][\"season\"] != 21].drop(columns=cols_to_drop, errors='ignore')\n",
    "    \n",
    "    dfs_train_clas_y[country[3:]] = dfs_train[country][dfs_train[country][\"season\"] != 21][\"Target_clas\"]\n",
    "    dfs_train_clas_X[country[3:]] = dfs_train[country][dfs_train[country][\"season\"] != 21].drop(columns=cols_to_drop, errors='ignore')\n",
    "\n",
    "    dfs_valid_clas_y[country[3:]] = dfs_train[country][dfs_train[country][\"season\"] == 21][\"Target_clas\"]\n",
    "    dfs_valid_clas_X[country[3:]] = dfs_train[country][dfs_train[country][\"season\"] == 21].drop(columns=cols_to_drop, errors='ignore')\n"
   ],
   "metadata": {
    "collapsed": false,
    "ExecuteTime": {
     "end_time": "2024-01-05T13:24:40.049816500Z",
     "start_time": "2024-01-05T13:24:39.673106300Z"
    }
   },
   "id": "bc85102fe8888b5a"
  },
  {
   "cell_type": "code",
   "execution_count": 66,
   "outputs": [],
   "source": [
    "train_results = pd.DataFrame(columns=[\"country\"])"
   ],
   "metadata": {
    "collapsed": false,
    "ExecuteTime": {
     "end_time": "2024-01-05T14:22:49.322102100Z",
     "start_time": "2024-01-05T14:22:49.285577800Z"
    }
   },
   "id": "adc91403dbf185be"
  },
  {
   "cell_type": "code",
   "execution_count": 67,
   "outputs": [],
   "source": [
    "train_results[\"country\"] = dfs_train_clas_X.keys()"
   ],
   "metadata": {
    "collapsed": false,
    "ExecuteTime": {
     "end_time": "2024-01-05T14:22:56.122623300Z",
     "start_time": "2024-01-05T14:22:56.104443400Z"
    }
   },
   "id": "4fbe116bc1af055e"
  },
  {
   "cell_type": "code",
   "execution_count": 68,
   "outputs": [
    {
     "data": {
      "text/plain": "        country\n0       belgium\n1       england\n2        france\n3       germany\n4        greece\n5         italy\n6   netherlands\n7      portugal\n8      scotland\n9         spain\n10       turkey",
      "text/html": "<div>\n<style scoped>\n    .dataframe tbody tr th:only-of-type {\n        vertical-align: middle;\n    }\n\n    .dataframe tbody tr th {\n        vertical-align: top;\n    }\n\n    .dataframe thead th {\n        text-align: right;\n    }\n</style>\n<table border=\"1\" class=\"dataframe\">\n  <thead>\n    <tr style=\"text-align: right;\">\n      <th></th>\n      <th>country</th>\n    </tr>\n  </thead>\n  <tbody>\n    <tr>\n      <th>0</th>\n      <td>belgium</td>\n    </tr>\n    <tr>\n      <th>1</th>\n      <td>england</td>\n    </tr>\n    <tr>\n      <th>2</th>\n      <td>france</td>\n    </tr>\n    <tr>\n      <th>3</th>\n      <td>germany</td>\n    </tr>\n    <tr>\n      <th>4</th>\n      <td>greece</td>\n    </tr>\n    <tr>\n      <th>5</th>\n      <td>italy</td>\n    </tr>\n    <tr>\n      <th>6</th>\n      <td>netherlands</td>\n    </tr>\n    <tr>\n      <th>7</th>\n      <td>portugal</td>\n    </tr>\n    <tr>\n      <th>8</th>\n      <td>scotland</td>\n    </tr>\n    <tr>\n      <th>9</th>\n      <td>spain</td>\n    </tr>\n    <tr>\n      <th>10</th>\n      <td>turkey</td>\n    </tr>\n  </tbody>\n</table>\n</div>"
     },
     "execution_count": 68,
     "metadata": {},
     "output_type": "execute_result"
    }
   ],
   "source": [
    "train_results"
   ],
   "metadata": {
    "collapsed": false,
    "ExecuteTime": {
     "end_time": "2024-01-05T14:22:57.049586Z",
     "start_time": "2024-01-05T14:22:57.033570900Z"
    }
   },
   "id": "9d6866e75a8203e2"
  },
  {
   "cell_type": "markdown",
   "source": [
    "# Classification task\n",
    "We decided to go with Voting Classifier consisting of 3 classification algorithms -  Gaussian Naive Bayes, RandomForestClassifier & Logistic Regression"
   ],
   "metadata": {
    "collapsed": false
   },
   "id": "382011daf10761e3"
  },
  {
   "cell_type": "markdown",
   "source": [
    "### Logistic Regression"
   ],
   "metadata": {
    "collapsed": false
   },
   "id": "f71023eb496babff"
  },
  {
   "cell_type": "code",
   "execution_count": 37,
   "outputs": [],
   "source": [
    "lr = LogisticRegression(random_state=42, multi_class='multinomial', max_iter=10000) ### Cesta je snizit hloubku stromu"
   ],
   "metadata": {
    "collapsed": false,
    "ExecuteTime": {
     "end_time": "2024-01-05T13:24:47.415644Z",
     "start_time": "2024-01-05T13:24:47.404670700Z"
    }
   },
   "id": "849fa728bd3dfd6d"
  },
  {
   "cell_type": "code",
   "execution_count": 69,
   "outputs": [
    {
     "name": "stdout",
     "output_type": "stream",
     "text": [
      "F1-score for baseline model on train data for belgium: 0.43014606492079216\n",
      "F1-score for baseline model on validation data for belgium: 0.4176354911238633\n",
      " --------\n",
      "F1-score for baseline model on train data for england: 0.3949700342699738\n",
      "F1-score for baseline model on validation data for england: 0.4100840644217642\n",
      " --------\n",
      "F1-score for baseline model on train data for france: 0.39493113940696506\n",
      "F1-score for baseline model on validation data for france: 0.3980616384466553\n",
      " --------\n",
      "F1-score for baseline model on train data for germany: 0.3958911765311015\n",
      "F1-score for baseline model on validation data for germany: 0.3719856092675347\n",
      " --------\n",
      "F1-score for baseline model on train data for greece: 0.5008292035211275\n",
      "F1-score for baseline model on validation data for greece: 0.42837095194268276\n",
      " --------\n",
      "F1-score for baseline model on train data for italy: 0.4426181011698844\n",
      "F1-score for baseline model on validation data for italy: 0.4140664996093013\n",
      " --------\n",
      "F1-score for baseline model on train data for netherlands: 0.42954386023362545\n",
      "F1-score for baseline model on validation data for netherlands: 0.4114638447971781\n",
      " --------\n",
      "F1-score for baseline model on train data for portugal: 0.4670741900565105\n",
      "F1-score for baseline model on validation data for portugal: 0.42014823827537356\n",
      " --------\n",
      "F1-score for baseline model on train data for scotland: 0.42104916951350785\n",
      "F1-score for baseline model on validation data for scotland: 0.3676473720062652\n",
      " --------\n",
      "F1-score for baseline model on train data for spain: 0.3894038724177243\n",
      "F1-score for baseline model on validation data for spain: 0.4110350118896234\n",
      " --------\n",
      "F1-score for baseline model on train data for turkey: 0.43037547758160066\n",
      "F1-score for baseline model on validation data for turkey: 0.41289073720230296\n",
      " --------\n"
     ]
    }
   ],
   "source": [
    "dfs_train_predict = {}\n",
    "dfs_valid_predict = {}\n",
    "for country in dfs_train_clas_X.keys():\n",
    "    lr.fit(dfs_train_clas_X[country], dfs_train_clas_y[country])\n",
    "    dfs_train_predict[country] = lr.predict(dfs_train_clas_X[country])\n",
    "    dfs_valid_predict[country] = lr.predict(dfs_valid_clas_X[country])\n",
    "    train_results.loc[train_results[\"country\"] == country, \"lr\"] = f1_score(dfs_valid_clas_y[country], dfs_valid_predict[country], average='macro')\n",
    "    print(f\"F1-score for baseline model on train data for {country}: {f1_score(dfs_train_clas_y[country], dfs_train_predict[country], average='macro')}\")\n",
    "    print(f\"F1-score for baseline model on validation data for {country}: {f1_score(dfs_valid_clas_y[country], dfs_valid_predict[country], average='macro')}\\n --------\")"
   ],
   "metadata": {
    "collapsed": false,
    "ExecuteTime": {
     "end_time": "2024-01-05T14:25:32.482829500Z",
     "start_time": "2024-01-05T14:22:59.236546500Z"
    }
   },
   "id": "e9ec9754db98e2da"
  },
  {
   "cell_type": "markdown",
   "source": [
    "### Random Forest Baseline Model"
   ],
   "metadata": {
    "collapsed": false
   },
   "id": "594858abcbcb887e"
  },
  {
   "cell_type": "code",
   "execution_count": 109,
   "outputs": [],
   "source": [
    "rfm = RandomForestClassifier(random_state=42, max_depth=12) ### Cesta je snizit hloubku stromu"
   ],
   "metadata": {
    "collapsed": false,
    "ExecuteTime": {
     "end_time": "2024-01-05T15:02:26.230013700Z",
     "start_time": "2024-01-05T15:02:26.197103300Z"
    }
   },
   "id": "f34af3475c665b37"
  },
  {
   "cell_type": "code",
   "execution_count": 112,
   "outputs": [
    {
     "name": "stdout",
     "output_type": "stream",
     "text": [
      "F1-score for baseline Random Forest model on train data for belgium: 0.4958541003148133\n",
      "F1-score for baseline Random model on validation data for belgium: 0.4075616480613878\n",
      " --------\n",
      "F1-score for baseline Random Forest model on train data for england: 0.34021077501126856\n",
      "F1-score for baseline Random model on validation data for england: 0.3708075467071283\n",
      " --------\n",
      "F1-score for baseline Random Forest model on train data for france: 0.38344945989267903\n",
      "F1-score for baseline Random model on validation data for france: 0.36346769506877824\n",
      " --------\n",
      "F1-score for baseline Random Forest model on train data for germany: 0.3646404892872359\n",
      "F1-score for baseline Random model on validation data for germany: 0.3517197540320865\n",
      " --------\n",
      "F1-score for baseline Random Forest model on train data for greece: 0.6013034629047252\n",
      "F1-score for baseline Random model on validation data for greece: 0.4062224616213304\n",
      " --------\n",
      "F1-score for baseline Random Forest model on train data for italy: 0.4128914545234861\n",
      "F1-score for baseline Random model on validation data for italy: 0.389969592230379\n",
      " --------\n",
      "F1-score for baseline Random Forest model on train data for netherlands: 0.503693018002878\n",
      "F1-score for baseline Random model on validation data for netherlands: 0.39858709797360103\n",
      " --------\n",
      "F1-score for baseline Random Forest model on train data for portugal: 0.5295490639781909\n",
      "F1-score for baseline Random model on validation data for portugal: 0.4033932205803774\n",
      " --------\n",
      "F1-score for baseline Random Forest model on train data for scotland: 0.3781911708786814\n",
      "F1-score for baseline Random model on validation data for scotland: 0.3630872101735729\n",
      " --------\n",
      "F1-score for baseline Random Forest model on train data for spain: 0.36791280663039744\n",
      "F1-score for baseline Random model on validation data for spain: 0.3699426523297491\n",
      " --------\n",
      "F1-score for baseline Random Forest model on train data for turkey: 0.4406846401582627\n",
      "F1-score for baseline Random model on validation data for turkey: 0.3962570838641655\n",
      " --------\n"
     ]
    }
   ],
   "source": [
    "dfs_train_predict = {}\n",
    "dfs_valid_predict = {}\n",
    "for country in dfs_train_clas_X.keys():\n",
    "    rfm.fit(dfs_train_clas_X[country], dfs_train_clas_y[country])\n",
    "    dfs_train_predict[country] = rfm.predict(dfs_train_clas_X[country])\n",
    "    dfs_valid_predict[country] = rfm.predict(dfs_valid_clas_X[country])\n",
    "    # Calculate the average depth of all decision trees\n",
    "    average_depth = sum(tree.get_depth() for tree in rfm.estimators_) / len(rfm.estimators_)\n",
    "\n",
    "    # print(f\"Average Depth of Decision Trees for {country}: {average_depth}\")\n",
    "    train_results.loc[train_results[\"country\"] == country, \"rfm\"] = f1_score(dfs_valid_clas_y[country], dfs_valid_predict[country], average='macro')\n",
    "\n",
    "    # print(f\"Accuracy for baseline model on validation data for {country}: {round(accuracy_score(dfs_valid_clas_y[country], dfs_train_predict[country])*100, ndigits=4)}%\")\n",
    "    print(f\"F1-score for baseline Random Forest model on train data for {country}: {f1_score(dfs_train_clas_y[country], dfs_train_predict[country], average='macro')}\")\n",
    "    print(f\"F1-score for baseline Random model on validation data for {country}: {f1_score(dfs_valid_clas_y[country], dfs_valid_predict[country], average='macro')}\\n --------\")"
   ],
   "metadata": {
    "collapsed": false,
    "ExecuteTime": {
     "end_time": "2024-01-05T15:03:48.257195400Z",
     "start_time": "2024-01-05T15:03:28.365990200Z"
    }
   },
   "id": "57ec67f0a3906196"
  },
  {
   "cell_type": "markdown",
   "source": [
    "### MultinomialNaive Bayes"
   ],
   "metadata": {
    "collapsed": false
   },
   "id": "ab31cc39a53d29b"
  },
  {
   "cell_type": "code",
   "execution_count": 11,
   "outputs": [],
   "source": [
    "nb = MultinomialNB()"
   ],
   "metadata": {
    "collapsed": false,
    "ExecuteTime": {
     "end_time": "2024-01-05T12:49:59.206813500Z",
     "start_time": "2024-01-05T12:49:59.175172300Z"
    }
   },
   "id": "561c2f796f6b828a"
  },
  {
   "cell_type": "code",
   "execution_count": 71,
   "outputs": [
    {
     "name": "stdout",
     "output_type": "stream",
     "text": [
      "F1-score for baseline Multinomial Naive Bayes model on train data for belgium: 0.44618249390671066\n",
      "F1-score for baseline Multinomial Naive Bayes model on validation data for belgium: 0.4628873279475689\n",
      " --------\n",
      "F1-score for baseline Multinomial Naive Bayes model on train data for england: 0.4027666304679926\n",
      "F1-score for baseline Multinomial Naive Bayes model on validation data for england: 0.3966624859491937\n",
      " --------\n",
      "F1-score for baseline Multinomial Naive Bayes model on train data for france: 0.4326559199079685\n",
      "F1-score for baseline Multinomial Naive Bayes model on validation data for france: 0.4023597767272586\n",
      " --------\n",
      "F1-score for baseline Multinomial Naive Bayes model on train data for germany: 0.42889144141673646\n",
      "F1-score for baseline Multinomial Naive Bayes model on validation data for germany: 0.43488045924524615\n",
      " --------\n",
      "F1-score for baseline Multinomial Naive Bayes model on train data for greece: 0.5137807834450298\n",
      "F1-score for baseline Multinomial Naive Bayes model on validation data for greece: 0.43438853734322197\n",
      " --------\n",
      "F1-score for baseline Multinomial Naive Bayes model on train data for italy: 0.45745216373700076\n",
      "F1-score for baseline Multinomial Naive Bayes model on validation data for italy: 0.45991251311610215\n",
      " --------\n",
      "F1-score for baseline Multinomial Naive Bayes model on train data for netherlands: 0.4822110472399228\n",
      "F1-score for baseline Multinomial Naive Bayes model on validation data for netherlands: 0.4769197104297847\n",
      " --------\n",
      "F1-score for baseline Multinomial Naive Bayes model on train data for portugal: 0.490817839868081\n",
      "F1-score for baseline Multinomial Naive Bayes model on validation data for portugal: 0.5460456782563335\n",
      " --------\n",
      "F1-score for baseline Multinomial Naive Bayes model on train data for scotland: 0.44822164000997483\n",
      "F1-score for baseline Multinomial Naive Bayes model on validation data for scotland: 0.4563909434423235\n",
      " --------\n",
      "F1-score for baseline Multinomial Naive Bayes model on train data for spain: 0.4319537644522071\n",
      "F1-score for baseline Multinomial Naive Bayes model on validation data for spain: 0.4176067927319123\n",
      " --------\n",
      "F1-score for baseline Multinomial Naive Bayes model on train data for turkey: 0.4571541575720827\n",
      "F1-score for baseline Multinomial Naive Bayes model on validation data for turkey: 0.4191517962044829\n",
      " --------\n"
     ]
    }
   ],
   "source": [
    "dfs_train_predict = {}\n",
    "dfs_valid_predict = {}\n",
    "for country in dfs_train_clas_X.keys():\n",
    "    nb.fit(dfs_train_clas_X[country], dfs_train_clas_y[country])\n",
    "    dfs_train_predict[country] = nb.predict(dfs_train_clas_X[country])\n",
    "    dfs_valid_predict[country] = nb.predict(dfs_valid_clas_X[country])\n",
    "    train_results.loc[train_results[\"country\"] == country, \"nb\"] = f1_score(dfs_valid_clas_y[country], dfs_valid_predict[country], average='macro')\n",
    "\n",
    "    print(f\"F1-score for baseline Multinomial Naive Bayes model on train data for {country}: {f1_score(dfs_train_clas_y[country], dfs_train_predict[country], average='macro')}\")\n",
    "    print(f\"F1-score for baseline Multinomial Naive Bayes model on validation data for {country}: {f1_score(dfs_valid_clas_y[country], dfs_valid_predict[country], average='macro')}\\n --------\")"
   ],
   "metadata": {
    "collapsed": false,
    "ExecuteTime": {
     "end_time": "2024-01-05T14:26:39.835898600Z",
     "start_time": "2024-01-05T14:26:39.167226700Z"
    }
   },
   "id": "35ee17d02a2f0cc5"
  },
  {
   "cell_type": "markdown",
   "source": [
    "### KNeighborsClassifier"
   ],
   "metadata": {
    "collapsed": false
   },
   "id": "7e3b120342bd53c8"
  },
  {
   "cell_type": "code",
   "execution_count": 13,
   "outputs": [],
   "source": [
    "kn = KNeighborsClassifier()"
   ],
   "metadata": {
    "collapsed": false,
    "ExecuteTime": {
     "end_time": "2024-01-05T12:49:59.882709700Z",
     "start_time": "2024-01-05T12:49:59.867050600Z"
    }
   },
   "id": "21b749850dc349dc"
  },
  {
   "cell_type": "code",
   "execution_count": 72,
   "outputs": [
    {
     "name": "stdout",
     "output_type": "stream",
     "text": [
      "F1-score for baseline KNeighbors model on train data for belgium: 0.5989689080352577\n",
      "F1-score for baseline KNeighbors Naive Bayes model on validation data for belgium: 0.39529002686897413\n",
      " --------\n",
      "F1-score for baseline KNeighbors model on train data for england: 0.5836088667204372\n",
      "F1-score for baseline KNeighbors Naive Bayes model on validation data for england: 0.37459397413994583\n",
      " --------\n",
      "F1-score for baseline KNeighbors model on train data for france: 0.5867507611254664\n",
      "F1-score for baseline KNeighbors Naive Bayes model on validation data for france: 0.42872444831200207\n",
      " --------\n",
      "F1-score for baseline KNeighbors model on train data for germany: 0.5871107727382849\n",
      "F1-score for baseline KNeighbors Naive Bayes model on validation data for germany: 0.4256512457558741\n",
      " --------\n",
      "F1-score for baseline KNeighbors model on train data for greece: 0.6377260226943732\n",
      "F1-score for baseline KNeighbors Naive Bayes model on validation data for greece: 0.4101284958427816\n",
      " --------\n",
      "F1-score for baseline KNeighbors model on train data for italy: 0.5954509422644797\n",
      "F1-score for baseline KNeighbors Naive Bayes model on validation data for italy: 0.44297561318434187\n",
      " --------\n",
      "F1-score for baseline KNeighbors model on train data for netherlands: 0.6087074195398138\n",
      "F1-score for baseline KNeighbors Naive Bayes model on validation data for netherlands: 0.43141459687995365\n",
      " --------\n",
      "F1-score for baseline KNeighbors model on train data for portugal: 0.614182114943942\n",
      "F1-score for baseline KNeighbors Naive Bayes model on validation data for portugal: 0.5161809997630894\n",
      " --------\n",
      "F1-score for baseline KNeighbors model on train data for scotland: 0.5969602181686524\n",
      "F1-score for baseline KNeighbors Naive Bayes model on validation data for scotland: 0.42718833689952157\n",
      " --------\n",
      "F1-score for baseline KNeighbors model on train data for spain: 0.5894309536769385\n",
      "F1-score for baseline KNeighbors Naive Bayes model on validation data for spain: 0.4232897391436882\n",
      " --------\n",
      "F1-score for baseline KNeighbors model on train data for turkey: 0.5886571709995789\n",
      "F1-score for baseline KNeighbors Naive Bayes model on validation data for turkey: 0.36078405721262863\n",
      " --------\n"
     ]
    }
   ],
   "source": [
    "dfs_train_predict = {}\n",
    "dfs_valid_predict = {}\n",
    "for country in dfs_train_clas_X.keys():\n",
    "    kn.fit(dfs_train_clas_X[country], dfs_train_clas_y[country])\n",
    "    dfs_train_predict[country] = kn.predict(dfs_train_clas_X[country])\n",
    "    dfs_valid_predict[country] = kn.predict(dfs_valid_clas_X[country])\n",
    "    train_results.loc[train_results[\"country\"] == country, \"kn\"] = f1_score(dfs_valid_clas_y[country], dfs_valid_predict[country], average='macro')\n",
    "\n",
    "    print(f\"F1-score for baseline KNeighbors model on train data for {country}: {f1_score(dfs_train_clas_y[country], dfs_train_predict[country], average='macro')}\")\n",
    "    print(f\"F1-score for baseline KNeighbors Naive Bayes model on validation data for {country}: {f1_score(dfs_valid_clas_y[country], dfs_valid_predict[country], average='macro')}\\n --------\")"
   ],
   "metadata": {
    "collapsed": false,
    "ExecuteTime": {
     "end_time": "2024-01-05T14:26:57.581914800Z",
     "start_time": "2024-01-05T14:26:39.837900800Z"
    }
   },
   "id": "cfd82a05eab38d7f"
  },
  {
   "cell_type": "markdown",
   "source": [
    "### Gradient Boosting Classifier"
   ],
   "metadata": {
    "collapsed": false
   },
   "id": "1155353c873345e8"
  },
  {
   "cell_type": "code",
   "execution_count": 15,
   "outputs": [],
   "source": [
    "gbc = GradientBoostingClassifier()"
   ],
   "metadata": {
    "collapsed": false,
    "ExecuteTime": {
     "end_time": "2024-01-05T12:50:18.531213Z",
     "start_time": "2024-01-05T12:50:18.511800700Z"
    }
   },
   "id": "ca95c293c0f6ad91"
  },
  {
   "cell_type": "code",
   "execution_count": 73,
   "outputs": [
    {
     "name": "stdout",
     "output_type": "stream",
     "text": [
      "F1-score for baseline GradientBoostingClassifier model on train data for belgium: 0.5444803763080198\n",
      "F1-score for baseline GradientBoostingClassifier Naive Bayes model on validation data for belgium: 0.4085501936968092\n",
      " --------\n",
      "F1-score for baseline GradientBoostingClassifier model on train data for england: 0.3666579764213906\n",
      "F1-score for baseline GradientBoostingClassifier Naive Bayes model on validation data for england: 0.3867912056451798\n",
      " --------\n",
      "F1-score for baseline GradientBoostingClassifier model on train data for france: 0.4273899958663092\n",
      "F1-score for baseline GradientBoostingClassifier Naive Bayes model on validation data for france: 0.3808062020538685\n",
      " --------\n",
      "F1-score for baseline GradientBoostingClassifier model on train data for germany: 0.408162703355235\n",
      "F1-score for baseline GradientBoostingClassifier Naive Bayes model on validation data for germany: 0.3538068811884982\n",
      " --------\n",
      "F1-score for baseline GradientBoostingClassifier model on train data for greece: 0.6152264753284161\n",
      "F1-score for baseline GradientBoostingClassifier Naive Bayes model on validation data for greece: 0.4310959135427221\n",
      " --------\n",
      "F1-score for baseline GradientBoostingClassifier model on train data for italy: 0.46248591662155825\n",
      "F1-score for baseline GradientBoostingClassifier Naive Bayes model on validation data for italy: 0.4015179007822541\n",
      " --------\n",
      "F1-score for baseline GradientBoostingClassifier model on train data for netherlands: 0.5075972303048447\n",
      "F1-score for baseline GradientBoostingClassifier Naive Bayes model on validation data for netherlands: 0.4019995977256783\n",
      " --------\n",
      "F1-score for baseline GradientBoostingClassifier model on train data for portugal: 0.5666550219519343\n",
      "F1-score for baseline GradientBoostingClassifier Naive Bayes model on validation data for portugal: 0.4667073667073667\n",
      " --------\n",
      "F1-score for baseline GradientBoostingClassifier model on train data for scotland: 0.42951217165363104\n",
      "F1-score for baseline GradientBoostingClassifier Naive Bayes model on validation data for scotland: 0.4040901836876774\n",
      " --------\n",
      "F1-score for baseline GradientBoostingClassifier model on train data for spain: 0.43022161974550044\n",
      "F1-score for baseline GradientBoostingClassifier Naive Bayes model on validation data for spain: 0.4080556130235256\n",
      " --------\n",
      "F1-score for baseline GradientBoostingClassifier model on train data for turkey: 0.5181066058864294\n",
      "F1-score for baseline GradientBoostingClassifier Naive Bayes model on validation data for turkey: 0.4228436864909712\n",
      " --------\n"
     ]
    }
   ],
   "source": [
    "dfs_train_predict = {}\n",
    "dfs_valid_predict = {}\n",
    "for country in dfs_train_clas_X.keys():\n",
    "    gbc.fit(dfs_train_clas_X[country], dfs_train_clas_y[country])\n",
    "    dfs_train_predict[country] = gbc.predict(dfs_train_clas_X[country])\n",
    "    dfs_valid_predict[country] = gbc.predict(dfs_valid_clas_X[country])\n",
    "    train_results.loc[train_results[\"country\"] == country, \"gbc\"] = f1_score(dfs_valid_clas_y[country], dfs_valid_predict[country], average='macro')\n",
    "\n",
    "    print(f\"F1-score for baseline GradientBoostingClassifier model on train data for {country}: {f1_score(dfs_train_clas_y[country], dfs_train_predict[country], average='macro')}\")\n",
    "    print(f\"F1-score for baseline GradientBoostingClassifier Naive Bayes model on validation data for {country}: {f1_score(dfs_valid_clas_y[country], dfs_valid_predict[country], average='macro')}\\n --------\")"
   ],
   "metadata": {
    "collapsed": false,
    "ExecuteTime": {
     "end_time": "2024-01-05T14:34:02.843360500Z",
     "start_time": "2024-01-05T14:26:57.574753200Z"
    }
   },
   "id": "4cc3cc37f905e8df"
  },
  {
   "cell_type": "markdown",
   "source": [
    "### Random Search\n",
    "Use random search to get best parameters for each country"
   ],
   "metadata": {
    "collapsed": false
   },
   "id": "e7270aca6b067226"
  },
  {
   "cell_type": "code",
   "execution_count": 132,
   "outputs": [
    {
     "name": "stdout",
     "output_type": "stream",
     "text": [
      "F1-score for best random search model on train data for belgium: 0.4206357122521287\n",
      "F1-score for best random search model on validation data for belgium: 0.4073565874678029\n",
      " --------\n",
      "F1-score for best random search model on train data for england: 0.33841253088314566\n",
      "F1-score for best random search model on validation data for england: 0.372513431312572\n",
      " --------\n",
      "F1-score for best random search model on train data for france: 0.3339542025743902\n",
      "F1-score for best random search model on validation data for france: 0.35498291399955023\n",
      " --------\n",
      "F1-score for best random search model on train data for germany: 0.34908613087321444\n",
      "F1-score for best random search model on validation data for germany: 0.3560462321727856\n",
      " --------\n",
      "F1-score for best random search model on train data for greece: 0.4516067839539473\n",
      "F1-score for best random search model on validation data for greece: 0.4051450833905467\n",
      " --------\n",
      "F1-score for best random search model on train data for italy: 0.3829512535730468\n",
      "F1-score for best random search model on validation data for italy: 0.3839019995946707\n",
      " --------\n",
      "F1-score for best random search model on train data for netherlands: 0.40725225927144315\n",
      "F1-score for best random search model on validation data for netherlands: 0.40244770999578483\n",
      " --------\n",
      "F1-score for best random search model on train data for portugal: 0.3987769757904564\n",
      "F1-score for best random search model on validation data for portugal: 0.4016194331983806\n",
      " --------\n",
      "F1-score for best random search model on train data for scotland: 0.3792210465597563\n",
      "F1-score for best random search model on validation data for scotland: 0.36119552124397725\n",
      " --------\n",
      "F1-score for best random search model on train data for spain: 0.33976110966412526\n",
      "F1-score for best random search model on validation data for spain: 0.35404037437157837\n",
      " --------\n",
      "F1-score for best random search model on train data for turkey: 0.39144432145618097\n",
      "F1-score for best random search model on validation data for turkey: 0.39941984284350446\n",
      " --------\n"
     ]
    }
   ],
   "source": [
    "param_grid = {\n",
    "    'max_depth': [i for i in range(1, 30)],\n",
    "    'min_samples_split': [i for i in range(1, 300)],\n",
    "    'min_samples_leaf': [i for i in range(1, 200)]\n",
    "}\n",
    "rfm = RandomForestClassifier(random_state=42)\n",
    "dfs_train_predict_random = {}\n",
    "dfs_valid_predict_random = {}\n",
    "dfs_best_params = {}\n",
    "random_search = RandomizedSearchCV(estimator=rfm, param_distributions=param_grid, n_iter=40,\n",
    "                                   cv=5, random_state=42, n_jobs=-1)\n",
    "dfs_train_predict = {}\n",
    "for country in dfs_train_clas_X.keys():\n",
    "    \n",
    "    random_search.fit(dfs_train_clas_X[country], dfs_train_clas_y[country])\n",
    "    \n",
    "    best_params = random_search.best_params_\n",
    "    best_random_forest = random_search.best_estimator_\n",
    "    \n",
    "    dfs_best_params[country] = best_params\n",
    "    dfs_train_predict_random[country] = best_random_forest.predict(dfs_train_clas_X[country])\n",
    "    dfs_valid_predict_random[country] = best_random_forest.predict(dfs_valid_clas_X[country])\n",
    "    train_results.loc[train_results[\"country\"] == country, \"rfm_rs\"] = f1_score(dfs_valid_clas_y[country], dfs_valid_predict[country], average='macro')\n",
    "    train_results.loc[train_results[\"country\"] == country, \"best_params\"] = best_params\n",
    "    print(f\"F1-score for best random search model on train data for {country}: {f1_score(dfs_train_clas_y[country], dfs_train_predict_random[country], average='macro')}\")\n",
    "    print(f\"F1-score for best random search model on validation data for {country}: {f1_score(dfs_valid_clas_y[country], dfs_valid_predict_random[country], average='macro')}\\n --------\")"
   ],
   "metadata": {
    "collapsed": false,
    "ExecuteTime": {
     "end_time": "2024-01-05T15:34:50.705399500Z",
     "start_time": "2024-01-05T15:28:41.751591700Z"
    }
   },
   "id": "bd22878a7300438b"
  },
  {
   "cell_type": "markdown",
   "source": [
    "### Grid Search"
   ],
   "metadata": {
    "collapsed": false
   },
   "id": "90bfbc58b135c34e"
  },
  {
   "cell_type": "code",
   "execution_count": 153,
   "outputs": [
    {
     "data": {
      "text/plain": "        country        lr       rfm        nb        kn       gbc    rfm_rs  \\\n0       belgium  0.417635  0.407562  0.462887  0.395290  0.408550  0.407562   \n1       england  0.410084  0.370808  0.396662  0.374594  0.386791  0.370808   \n2        france  0.398062  0.363468  0.402360  0.428724  0.380806  0.363468   \n3       germany  0.371986  0.351720  0.434880  0.425651  0.353807  0.351720   \n4        greece  0.428371  0.406222  0.434389  0.410128  0.431096  0.406222   \n5         italy  0.414066  0.389970  0.459913  0.442976  0.401518  0.389970   \n6   netherlands  0.411464  0.398587  0.476920  0.431415  0.402000  0.398587   \n7      portugal  0.420148  0.403393  0.546046  0.516181  0.466707  0.403393   \n8      scotland  0.367647  0.363087  0.456391  0.427188  0.404090  0.363087   \n9         spain  0.411035  0.369943  0.417607  0.423290  0.408056  0.369943   \n10       turkey  0.412891  0.396257  0.419152  0.360784  0.422844  0.396257   \n\n    best_models  best_params  \n0           NaN          NaN  \n1           NaN          NaN  \n2           NaN          NaN  \n3           NaN          NaN  \n4           NaN          NaN  \n5           NaN          NaN  \n6           NaN          NaN  \n7           NaN          NaN  \n8           NaN          NaN  \n9           NaN          NaN  \n10          NaN          NaN  ",
      "text/html": "<div>\n<style scoped>\n    .dataframe tbody tr th:only-of-type {\n        vertical-align: middle;\n    }\n\n    .dataframe tbody tr th {\n        vertical-align: top;\n    }\n\n    .dataframe thead th {\n        text-align: right;\n    }\n</style>\n<table border=\"1\" class=\"dataframe\">\n  <thead>\n    <tr style=\"text-align: right;\">\n      <th></th>\n      <th>country</th>\n      <th>lr</th>\n      <th>rfm</th>\n      <th>nb</th>\n      <th>kn</th>\n      <th>gbc</th>\n      <th>rfm_rs</th>\n      <th>best_models</th>\n      <th>best_params</th>\n    </tr>\n  </thead>\n  <tbody>\n    <tr>\n      <th>0</th>\n      <td>belgium</td>\n      <td>0.417635</td>\n      <td>0.407562</td>\n      <td>0.462887</td>\n      <td>0.395290</td>\n      <td>0.408550</td>\n      <td>0.407562</td>\n      <td>NaN</td>\n      <td>NaN</td>\n    </tr>\n    <tr>\n      <th>1</th>\n      <td>england</td>\n      <td>0.410084</td>\n      <td>0.370808</td>\n      <td>0.396662</td>\n      <td>0.374594</td>\n      <td>0.386791</td>\n      <td>0.370808</td>\n      <td>NaN</td>\n      <td>NaN</td>\n    </tr>\n    <tr>\n      <th>2</th>\n      <td>france</td>\n      <td>0.398062</td>\n      <td>0.363468</td>\n      <td>0.402360</td>\n      <td>0.428724</td>\n      <td>0.380806</td>\n      <td>0.363468</td>\n      <td>NaN</td>\n      <td>NaN</td>\n    </tr>\n    <tr>\n      <th>3</th>\n      <td>germany</td>\n      <td>0.371986</td>\n      <td>0.351720</td>\n      <td>0.434880</td>\n      <td>0.425651</td>\n      <td>0.353807</td>\n      <td>0.351720</td>\n      <td>NaN</td>\n      <td>NaN</td>\n    </tr>\n    <tr>\n      <th>4</th>\n      <td>greece</td>\n      <td>0.428371</td>\n      <td>0.406222</td>\n      <td>0.434389</td>\n      <td>0.410128</td>\n      <td>0.431096</td>\n      <td>0.406222</td>\n      <td>NaN</td>\n      <td>NaN</td>\n    </tr>\n    <tr>\n      <th>5</th>\n      <td>italy</td>\n      <td>0.414066</td>\n      <td>0.389970</td>\n      <td>0.459913</td>\n      <td>0.442976</td>\n      <td>0.401518</td>\n      <td>0.389970</td>\n      <td>NaN</td>\n      <td>NaN</td>\n    </tr>\n    <tr>\n      <th>6</th>\n      <td>netherlands</td>\n      <td>0.411464</td>\n      <td>0.398587</td>\n      <td>0.476920</td>\n      <td>0.431415</td>\n      <td>0.402000</td>\n      <td>0.398587</td>\n      <td>NaN</td>\n      <td>NaN</td>\n    </tr>\n    <tr>\n      <th>7</th>\n      <td>portugal</td>\n      <td>0.420148</td>\n      <td>0.403393</td>\n      <td>0.546046</td>\n      <td>0.516181</td>\n      <td>0.466707</td>\n      <td>0.403393</td>\n      <td>NaN</td>\n      <td>NaN</td>\n    </tr>\n    <tr>\n      <th>8</th>\n      <td>scotland</td>\n      <td>0.367647</td>\n      <td>0.363087</td>\n      <td>0.456391</td>\n      <td>0.427188</td>\n      <td>0.404090</td>\n      <td>0.363087</td>\n      <td>NaN</td>\n      <td>NaN</td>\n    </tr>\n    <tr>\n      <th>9</th>\n      <td>spain</td>\n      <td>0.411035</td>\n      <td>0.369943</td>\n      <td>0.417607</td>\n      <td>0.423290</td>\n      <td>0.408056</td>\n      <td>0.369943</td>\n      <td>NaN</td>\n      <td>NaN</td>\n    </tr>\n    <tr>\n      <th>10</th>\n      <td>turkey</td>\n      <td>0.412891</td>\n      <td>0.396257</td>\n      <td>0.419152</td>\n      <td>0.360784</td>\n      <td>0.422844</td>\n      <td>0.396257</td>\n      <td>NaN</td>\n      <td>NaN</td>\n    </tr>\n  </tbody>\n</table>\n</div>"
     },
     "execution_count": 153,
     "metadata": {},
     "output_type": "execute_result"
    }
   ],
   "source": [
    "train_results"
   ],
   "metadata": {
    "collapsed": false,
    "ExecuteTime": {
     "end_time": "2024-01-05T15:55:34.414172500Z",
     "start_time": "2024-01-05T15:55:34.388617500Z"
    }
   },
   "id": "e38e9ecb0fa5fd39"
  },
  {
   "cell_type": "markdown",
   "source": [
    "### Implementing Voting Classifier"
   ],
   "metadata": {
    "collapsed": false
   },
   "id": "ed85c4ceff50c438"
  },
  {
   "cell_type": "code",
   "execution_count": 149,
   "outputs": [],
   "source": [
    "best_models = []\n",
    "for i, row in train_results.iterrows():\n",
    "    # display(row[[\"lr\", \"rfm\", \"nb\", \"kn\", \"gbc\", \"rfm_rs\"]])\n",
    "    best_models.append(pd.to_numeric(row[[\"lr\", \"rfm\", \"nb\", \"kn\", \"gbc\", \"rfm_rs\"]]).nlargest(3).index.tolist())"
   ],
   "metadata": {
    "collapsed": false,
    "ExecuteTime": {
     "end_time": "2024-01-05T15:48:42.435080100Z",
     "start_time": "2024-01-05T15:48:42.421281500Z"
    }
   },
   "id": "1143fe15b8757fbd"
  },
  {
   "cell_type": "code",
   "execution_count": 151,
   "outputs": [],
   "source": [
    "models = {\n",
    "    \"lr\": lr,\n",
    "    \"rfm\": rfm,\n",
    "    \"nb\": nb,\n",
    "    \"kn\": kn,\n",
    "    \"gbc\": gbc,\n",
    "    \"rfm_rs\": RandomForestClassifier()\n",
    "}\n",
    "\n",
    "def voting_classifier(best_models_country, X_train, y_train, X_val, y_val, country: str):\n",
    "    \"\"\"\"\"\"\n",
    "    print(best_models_country)\n",
    "    clf1 = models[best_models_country[0]] if best_models_country[0] != \"rfm_rs\" else models[best_models_country[0]].set_params(**dfs_best_params[country])\n",
    "    clf2 = models[best_models_country[1]] if best_models_country[1] != \"rfm_rs\" else models[best_models_country[1]].set_params(**dfs_best_params[country])\n",
    "    clf3 = models[best_models_country[2]] if best_models_country[2] != \"rfm_rs\" else models[best_models_country[2]].set_params(**dfs_best_params[country])\n",
    "    \n",
    "    eclf = VotingClassifier(\n",
    "        estimators=[(best_models_country[0], clf1 ), (best_models_country[1], clf2 ),(best_models_country[2], clf3 )],\n",
    "        voting='hard'\n",
    "    ) \n",
    "    eclf.fit(X_train,y_train)\n",
    "    \n",
    "    y_train_predict = eclf.predict(X_train)\n",
    "    y_val_predict = eclf.predict(X_val)\n",
    "    \n",
    "    \n",
    "    print(f\"F1-score for best random search model on train data for {country}: {f1_score(y_train, y_train_predict, average='macro')}\")\n",
    "    print(f\"F1-score for best random search model on validation data for {country}: {f1_score(y_val, y_val_predict, average='macro')}\\n --------\")\n",
    "    "
   ],
   "metadata": {
    "collapsed": false,
    "ExecuteTime": {
     "end_time": "2024-01-05T15:48:51.934090300Z",
     "start_time": "2024-01-05T15:48:51.921065Z"
    }
   },
   "id": "fdb58c1352b112f8"
  },
  {
   "cell_type": "code",
   "execution_count": 152,
   "outputs": [
    {
     "name": "stdout",
     "output_type": "stream",
     "text": [
      "['nb', 'lr', 'gbc']\n",
      "F1-score for best random search model on train data for belgium: 0.4641168582003948\n",
      "F1-score for best random search model on validation data for belgium: 0.4402185037214237\n",
      " --------\n",
      "['lr', 'nb', 'gbc']\n",
      "F1-score for best random search model on train data for england: 0.39075727212292793\n",
      "F1-score for best random search model on validation data for england: 0.4080574744021903\n",
      " --------\n",
      "['kn', 'nb', 'lr']\n",
      "F1-score for best random search model on train data for france: 0.4694452448749935\n",
      "F1-score for best random search model on validation data for france: 0.44201874916052386\n",
      " --------\n",
      "['nb', 'kn', 'lr']\n",
      "F1-score for best random search model on train data for germany: 0.4726499134054887\n",
      "F1-score for best random search model on validation data for germany: 0.4437529251146402\n",
      " --------\n",
      "['nb', 'gbc', 'lr']\n",
      "F1-score for best random search model on train data for greece: 0.5616674354550465\n",
      "F1-score for best random search model on validation data for greece: 0.44558959966149986\n",
      " --------\n",
      "['nb', 'kn', 'lr']\n",
      "F1-score for best random search model on train data for italy: 0.49845264637205194\n",
      "F1-score for best random search model on validation data for italy: 0.4842157305690568\n",
      " --------\n",
      "['nb', 'kn', 'lr']\n",
      "F1-score for best random search model on train data for netherlands: 0.5232804109551196\n",
      "F1-score for best random search model on validation data for netherlands: 0.45603059711256017\n",
      " --------\n",
      "['nb', 'kn', 'gbc']\n",
      "F1-score for best random search model on train data for portugal: 0.5821927103027663\n",
      "F1-score for best random search model on validation data for portugal: 0.5344782633595265\n",
      " --------\n",
      "['nb', 'kn', 'gbc']\n",
      "F1-score for best random search model on train data for scotland: 0.49379462032851035\n",
      "F1-score for best random search model on validation data for scotland: 0.4526946209311718\n",
      " --------\n",
      "['kn', 'nb', 'lr']\n",
      "F1-score for best random search model on train data for spain: 0.49915530375112693\n",
      "F1-score for best random search model on validation data for spain: 0.4429654039454402\n",
      " --------\n",
      "['gbc', 'nb', 'lr']\n",
      "F1-score for best random search model on train data for turkey: 0.4565958314008623\n",
      "F1-score for best random search model on validation data for turkey: 0.42205703429918523\n",
      " --------\n"
     ]
    }
   ],
   "source": [
    "for i, country in enumerate(dfs_train_clas_X.keys()):\n",
    "    voting_classifier(best_models[i], dfs_train_clas_X[country], dfs_train_clas_y[country], dfs_valid_clas_X[country], dfs_valid_clas_y[country],country)"
   ],
   "metadata": {
    "collapsed": false,
    "ExecuteTime": {
     "end_time": "2024-01-05T15:55:34.386614900Z",
     "start_time": "2024-01-05T15:48:53.681694300Z"
    }
   },
   "id": "876472e32da6e2"
  }
 ],
 "metadata": {
  "kernelspec": {
   "display_name": "Python 3",
   "language": "python",
   "name": "python3"
  },
  "language_info": {
   "codemirror_mode": {
    "name": "ipython",
    "version": 2
   },
   "file_extension": ".py",
   "mimetype": "text/x-python",
   "name": "python",
   "nbconvert_exporter": "python",
   "pygments_lexer": "ipython2",
   "version": "2.7.6"
  }
 },
 "nbformat": 4,
 "nbformat_minor": 5
}
